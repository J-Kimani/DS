{
  "nbformat": 4,
  "nbformat_minor": 0,
  "metadata": {
    "colab": {
      "provenance": []
    },
    "kernelspec": {
      "name": "python3",
      "display_name": "Python 3"
    },
    "language_info": {
      "name": "python"
    },
    "accelerator": "GPU",
    "gpuClass": "standard"
  },
  "cells": [
    {
      "cell_type": "markdown",
      "source": [
        "The AlexNet CNN architecture is one of the popular architectures of Convolutional Neural Networks. It was the first CNN architecture to stack convolutional layers directly on top of one another. This notbook will demonstrate how it can be implemented with python"
      ],
      "metadata": {
        "id": "Q4lD7XPuWHq-"
      }
    },
    {
      "cell_type": "code",
      "execution_count": 1,
      "metadata": {
        "id": "OJLkVnZXV3m1"
      },
      "outputs": [],
      "source": [
        "import keras\n",
        "from keras.models import Sequential\n",
        "from keras.layers import Dense, Dropout, Flatten\n",
        "from keras.layers import Conv2D, MaxPooling2D\n",
        "from keras.layers import LeakyReLU\n",
        "import tensorflow as tf\n",
        "from tensorflow import keras\n",
        "import keras.layers as layers"
      ]
    },
    {
      "cell_type": "code",
      "source": [
        "model = keras.Sequential()\n",
        "#layer 1\n",
        "model.add(layers.Conv2D(filters= 96, kernel_size= (11,11), strides= (4,4), activation= \"relu\", input_shape= (227, 227, 3)))\n",
        "model.add(layers.BatchNormalization())\n",
        "\n",
        "# layer 2\n",
        "model.add(layers.MaxPool2D(pool_size= (3,3), strides= (2, 2)))\n",
        "model.add(layers.Conv2D(filters= 256, kernel_size= (5,5), strides= (1,1), activation= \"relu\", padding= \"same\"))\n",
        "model.add(layers.BatchNormalization())\n",
        "\n",
        "# layer 3\n",
        "model.add(layers.MaxPool2D(pool_size=(3, 3), strides=(2, 2)))\n",
        "model.add(layers.Conv2D(filters=384, kernel_size=(3, 3), strides=(1, 1), activation=\"relu\", padding=\"same\"))\n",
        "model.add(layers.BatchNormalization())\n",
        "\n",
        "# layer 4\n",
        "model.add(layers.BatchNormalization())\n",
        "model.add(layers.Conv2D(filters=384, kernel_size=(3, 3), strides=(1, 1), activation=\"relu\", padding=\"same\"))\n",
        "model.add(layers.BatchNormalization())\n",
        "\n",
        "# layer 5\n",
        "model.add(layers.Conv2D(filters=256, kernel_size=(3, 3), strides=(1, 1), activation=\"relu\", padding=\"same\"))\n",
        "model.add(layers.BatchNormalization())\n",
        "model.add(layers.MaxPool2D(pool_size=(3, 3), strides=(2, 2)))\n",
        "model.add(layers.Flatten())\n",
        "model.add(layers.Dense(4096, activation= \"relu\"))\n",
        "model.add(layers.Dropout(0.5))\n",
        "model.compile(loss='sparse_categorical_crossentropy', \n",
        "              optimizer=tf.optimizers.SGD(lr=0.001), \n",
        "              metrics=['accuracy'])\n",
        "model.summary()"
      ],
      "metadata": {
        "colab": {
          "base_uri": "https://localhost:8080/"
        },
        "id": "3NygMaXbXqZO",
        "outputId": "ba9af965-ef47-4720-8de9-f6f8cc9272b9"
      },
      "execution_count": 2,
      "outputs": [
        {
          "output_type": "stream",
          "name": "stdout",
          "text": [
            "Model: \"sequential\"\n",
            "_________________________________________________________________\n",
            " Layer (type)                Output Shape              Param #   \n",
            "=================================================================\n",
            " conv2d (Conv2D)             (None, 55, 55, 96)        34944     \n",
            "                                                                 \n",
            " batch_normalization (BatchN  (None, 55, 55, 96)       384       \n",
            " ormalization)                                                   \n",
            "                                                                 \n",
            " max_pooling2d (MaxPooling2D  (None, 27, 27, 96)       0         \n",
            " )                                                               \n",
            "                                                                 \n",
            " conv2d_1 (Conv2D)           (None, 27, 27, 256)       614656    \n",
            "                                                                 \n",
            " batch_normalization_1 (Batc  (None, 27, 27, 256)      1024      \n",
            " hNormalization)                                                 \n",
            "                                                                 \n",
            " max_pooling2d_1 (MaxPooling  (None, 13, 13, 256)      0         \n",
            " 2D)                                                             \n",
            "                                                                 \n",
            " conv2d_2 (Conv2D)           (None, 13, 13, 384)       885120    \n",
            "                                                                 \n",
            " batch_normalization_2 (Batc  (None, 13, 13, 384)      1536      \n",
            " hNormalization)                                                 \n",
            "                                                                 \n",
            " batch_normalization_3 (Batc  (None, 13, 13, 384)      1536      \n",
            " hNormalization)                                                 \n",
            "                                                                 \n",
            " conv2d_3 (Conv2D)           (None, 13, 13, 384)       1327488   \n",
            "                                                                 \n",
            " batch_normalization_4 (Batc  (None, 13, 13, 384)      1536      \n",
            " hNormalization)                                                 \n",
            "                                                                 \n",
            " conv2d_4 (Conv2D)           (None, 13, 13, 256)       884992    \n",
            "                                                                 \n",
            " batch_normalization_5 (Batc  (None, 13, 13, 256)      1024      \n",
            " hNormalization)                                                 \n",
            "                                                                 \n",
            " max_pooling2d_2 (MaxPooling  (None, 6, 6, 256)        0         \n",
            " 2D)                                                             \n",
            "                                                                 \n",
            " flatten (Flatten)           (None, 9216)              0         \n",
            "                                                                 \n",
            " dense (Dense)               (None, 4096)              37752832  \n",
            "                                                                 \n",
            " dropout (Dropout)           (None, 4096)              0         \n",
            "                                                                 \n",
            "=================================================================\n",
            "Total params: 41,507,072\n",
            "Trainable params: 41,503,552\n",
            "Non-trainable params: 3,520\n",
            "_________________________________________________________________\n"
          ]
        },
        {
          "output_type": "stream",
          "name": "stderr",
          "text": [
            "/usr/local/lib/python3.8/dist-packages/keras/optimizers/optimizer_v2/gradient_descent.py:108: UserWarning: The `lr` argument is deprecated, use `learning_rate` instead.\n",
            "  super(SGD, self).__init__(name, **kwargs)\n"
          ]
        }
      ]
    },
    {
      "cell_type": "markdown",
      "source": [
        "visualize the CNN"
      ],
      "metadata": {
        "id": "o38BtTVmxREX"
      }
    },
    {
      "cell_type": "code",
      "source": [
        "!pip install visualkeras"
      ],
      "metadata": {
        "colab": {
          "base_uri": "https://localhost:8080/"
        },
        "id": "Sy8FnoOuxXtB",
        "outputId": "3accf43e-075e-4bca-bfb2-2a90747852ea"
      },
      "execution_count": 3,
      "outputs": [
        {
          "output_type": "stream",
          "name": "stdout",
          "text": [
            "Looking in indexes: https://pypi.org/simple, https://us-python.pkg.dev/colab-wheels/public/simple/\n",
            "Collecting visualkeras\n",
            "  Downloading visualkeras-0.0.2-py3-none-any.whl (12 kB)\n",
            "Collecting aggdraw>=1.3.11\n",
            "  Downloading aggdraw-1.3.15-cp38-cp38-manylinux_2_17_x86_64.manylinux2014_x86_64.whl (992 kB)\n",
            "\u001b[2K     \u001b[90m━━━━━━━━━━━━━━━━━━━━━━━━━━━━━━━━━━━━━━\u001b[0m \u001b[32m992.2/992.2 KB\u001b[0m \u001b[31m16.1 MB/s\u001b[0m eta \u001b[36m0:00:00\u001b[0m\n",
            "\u001b[?25hRequirement already satisfied: pillow>=6.2.0 in /usr/local/lib/python3.8/dist-packages (from visualkeras) (7.1.2)\n",
            "Requirement already satisfied: numpy>=1.18.1 in /usr/local/lib/python3.8/dist-packages (from visualkeras) (1.21.6)\n",
            "Installing collected packages: aggdraw, visualkeras\n",
            "Successfully installed aggdraw-1.3.15 visualkeras-0.0.2\n"
          ]
        }
      ]
    },
    {
      "cell_type": "code",
      "source": [
        "import visualkeras\n",
        "visualkeras.layered_view(model)"
      ],
      "metadata": {
        "colab": {
          "base_uri": "https://localhost:8080/",
          "height": 255
        },
        "id": "hlrPERp2xHIV",
        "outputId": "cac4f828-82b2-48b6-be27-c75579a2ba65"
      },
      "execution_count": 5,
      "outputs": [
        {
          "output_type": "execute_result",
          "data": {
            "text/plain": [
              "<PIL.Image.Image image mode=RGBA size=1826x294 at 0x7F36EEB6BE20>"
            ],
            "image/png": "[encoded data removed]"
          },
          "metadata": {},
          "execution_count": 5
        }
      ]
    }
  ]
}