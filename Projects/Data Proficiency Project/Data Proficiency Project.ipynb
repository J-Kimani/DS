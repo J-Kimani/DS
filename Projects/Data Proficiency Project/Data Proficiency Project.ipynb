{
 "cells": [
  {
   "cell_type": "markdown",
   "id": "6d1af2c9",
   "metadata": {},
   "source": [
    "# Data Proficiency Project Plan\n",
    "\n",
    "---\n",
    "\n",
    "## 1. Project Overview\n",
    "\n",
    "**Objective:**  \n",
    "Analyze participant data from the Everything Data mentorship cohort to understand demographics, motivations, skill levels, and factors influencing graduation. Use data-driven insights to recommend improvements for future cohorts.\n",
    "\n",
    "**Scope:**\n",
    "\n",
    "- Data cleaning and preprocessing\n",
    "- Exploratory data analysis (EDA)\n",
    "- Predictive modeling for graduation status\n",
    "- Evaluation of models and actionable recommendations\n",
    "\n",
    "**Deliverables:**\n",
    "\n",
    "- Cleaned dataset\n",
    "- EDA visualizations and summary statistics\n",
    "- Classification models predicting graduation status\n",
    "- Model evaluation metrics (accuracy, precision, recall, F1-score)\n",
    "- Recommendations for program improvement\n",
    "- README explaining workflow\n",
    "\n",
    "---\n",
    "\n",
    "## 2. Project Workflow\n",
    "\n",
    "### Step 1: Data Acquisition & Inspection\n",
    "\n",
    "- Load dataset using Python (`pandas`).\n",
    "- Inspect data types, missing values, and general structure.\n",
    "- Identify categorical vs. numerical variables.\n",
    "\n",
    "### Step 2: Data Cleaning & Preprocessing\n",
    "\n",
    "- Handle missing values (imputation or removal).\n",
    "- Standardize categorical entries (e.g., gender, country).\n",
    "- Encode categorical variables (One-Hot Encoding or Label Encoding).\n",
    "- Convert timestamps into usable features if necessary (e.g., month/year of registration).\n",
    "- Check for duplicates and inconsistencies.\n",
    "\n",
    "### Step 3: Exploratory Data Analysis (EDA)\n",
    "\n",
    "**Demographics Analysis:**\n",
    "\n",
    "- Age range distribution\n",
    "- Gender and country breakdown\n",
    "- Track-wise participant distribution\n",
    "\n",
    "**Experience & Motivation:**\n",
    "\n",
    "- Years of learning experience vs. graduation rate\n",
    "- Hours per week availability vs. performance\n",
    "- Motivation for joining analysis (word cloud or category frequency)\n",
    "\n",
    "**Performance Metrics:**\n",
    "\n",
    "- Distribution of aptitude test completion and total scores\n",
    "- Correlation matrix between numerical features and graduation status\n",
    "\n",
    "**Visualizations:**  \n",
    "Histograms, bar charts, boxplots, heatmaps (Matplotlib/Seaborn).\n",
    "\n",
    "### Step 4: Predictive Modeling\n",
    "\n",
    "**Goal:** Predict graduation status.\n",
    "\n",
    "**Feature Selection:** Experience, hours/week, total score, self-assessed skill level, motivation, etc.\n",
    "\n",
    "**Models to Compare:**\n",
    "\n",
    "- Logistic Regression\n",
    "- Random Forest Classifier (or Gradient Boosting)\n",
    "\n",
    "- Split data into train/test (e.g., 80/20)\n",
    "- Train models and tune hyperparameters (if necessary)\n",
    "\n",
    "### Step 5: Model Evaluation\n",
    "\n",
    "**Metrics to report:**\n",
    "\n",
    "- Accuracy\n",
    "- Precision\n",
    "- Recall\n",
    "- F1-score\n",
    "\n",
    "- Confusion matrix visualization\n",
    "- Compare models and choose the best-performing one\n",
    "\n",
    "### Step 6: Insights & Recommendations\n",
    "\n",
    "- Identify key factors influencing graduation\n",
    "- Provide actionable recommendations:\n",
    "  - Ideal participant profile\n",
    "  - Suggested weekly learning hours\n",
    "  - Support mechanisms for participants at risk of dropping out\n",
    "- Present findings with clear visuals and narrative\n",
    "\n",
    "---\n",
    "\n",
    "## 3. Timeline\n",
    "\n",
    "| Task | Start Date | End Date |\n",
    "| --- | --- | --- |\n",
    "| Data Inspection & Cleaning | Aug 21 | Aug 23 |\n",
    "| EDA & Visualization | Aug 24 | Aug 26 |\n",
    "| Predictive Modeling | Aug 27 | Aug 30 |\n",
    "| Model Evaluation | Aug 31 | Sep 1 |\n",
    "| Insights & Recommendations | Sep 2 | Sep 4 |\n",
    "| Prepare Report & Dashboard | Sep 5 | Sep 11 |\n",
    "| Submission & Presentation | Sep 12 | Sep 12 |\n",
    "\n",
    "---\n",
    "\n",
    "## 4. Tools & Technologies\n",
    "\n",
    "- Python: `pandas`, `numpy`, `matplotlib`, `seaborn`, `scikit-learn`\n",
    "- Optional: Jupyter Notebook or Google Colab\n",
    "- Reporting: PDF/Markdown with visualizations or an interactive dashboard\n"
   ]
  },
  {
   "cell_type": "markdown",
   "id": "ec5224ab",
   "metadata": {},
   "source": [
    "# Step 1: Data Acquisition & Inspection"
   ]
  },
  {
   "cell_type": "code",
   "execution_count": 1,
   "id": "f34e1edb",
   "metadata": {},
   "outputs": [
    {
     "name": "stdout",
     "output_type": "stream",
     "text": [
      "Shape of the dataset: (63, 15)\n"
     ]
    }
   ],
   "source": [
    "# Load dataset\n",
    "import pandas as pd \n",
    "df = pd.read_csv(\"Cohort 3 DS.csv\")\n",
    "\n",
    "# Shape of the dataset\n",
    "print(\"Shape of the dataset:\", df.shape)\n"
   ]
  },
  {
   "cell_type": "code",
   "execution_count": 2,
   "id": "e45a9c3f",
   "metadata": {},
   "outputs": [
    {
     "name": "stdout",
     "output_type": "stream",
     "text": [
      "Preview of the dataset:\n"
     ]
    },
    {
     "data": {
      "text/html": [
       "<div>\n",
       "<style scoped>\n",
       "    .dataframe tbody tr th:only-of-type {\n",
       "        vertical-align: middle;\n",
       "    }\n",
       "\n",
       "    .dataframe tbody tr th {\n",
       "        vertical-align: top;\n",
       "    }\n",
       "\n",
       "    .dataframe thead th {\n",
       "        text-align: right;\n",
       "    }\n",
       "</style>\n",
       "<table border=\"1\" class=\"dataframe\">\n",
       "  <thead>\n",
       "    <tr style=\"text-align: right;\">\n",
       "      <th></th>\n",
       "      <th>Timestamp</th>\n",
       "      <th>Id. No</th>\n",
       "      <th>Age range</th>\n",
       "      <th>Gender</th>\n",
       "      <th>Country</th>\n",
       "      <th>Where did you hear about Everything Data?</th>\n",
       "      <th>How many years of learning experience do you have in the field of data?</th>\n",
       "      <th>Which track are you applying for?</th>\n",
       "      <th>How many hours per week can you commit to learning?</th>\n",
       "      <th>What is your main aim for joining the mentorship program?</th>\n",
       "      <th>What is your motivation to join the Everything Data mentorship program?</th>\n",
       "      <th>How best would you describe your skill level in the track you are applying for?</th>\n",
       "      <th>Have you completed the everything data aptitude test for your track?</th>\n",
       "      <th>Total score</th>\n",
       "      <th>Graduated</th>\n",
       "    </tr>\n",
       "  </thead>\n",
       "  <tbody>\n",
       "    <tr>\n",
       "      <th>0</th>\n",
       "      <td>12/1/2024 23:50:47</td>\n",
       "      <td>DS301</td>\n",
       "      <td>18-24 years</td>\n",
       "      <td>Male</td>\n",
       "      <td>Kenya</td>\n",
       "      <td>Word of mouth</td>\n",
       "      <td>Less than six months</td>\n",
       "      <td>Data science</td>\n",
       "      <td>less than 6 hours</td>\n",
       "      <td>Upskill</td>\n",
       "      <td>to enter into the data analysis career</td>\n",
       "      <td>Beginner - I have NO learning or work experien...</td>\n",
       "      <td>Yes</td>\n",
       "      <td>58.67</td>\n",
       "      <td>No</td>\n",
       "    </tr>\n",
       "    <tr>\n",
       "      <th>1</th>\n",
       "      <td>12/3/2024 9:35:19</td>\n",
       "      <td>DS302</td>\n",
       "      <td>25-34 years</td>\n",
       "      <td>Male</td>\n",
       "      <td>Kenya</td>\n",
       "      <td>WhatsApp</td>\n",
       "      <td>6 months - 1 year</td>\n",
       "      <td>Data science</td>\n",
       "      <td>more than 14 hours</td>\n",
       "      <td>Upskill</td>\n",
       "      <td>To grow and improve my skills in data science ...</td>\n",
       "      <td>Elementary - I have theoretical understanding ...</td>\n",
       "      <td>Yes</td>\n",
       "      <td>70.00</td>\n",
       "      <td>No</td>\n",
       "    </tr>\n",
       "    <tr>\n",
       "      <th>2</th>\n",
       "      <td>12/3/2024 19:16:49</td>\n",
       "      <td>DS303</td>\n",
       "      <td>18-24 years</td>\n",
       "      <td>Female</td>\n",
       "      <td>Kenya</td>\n",
       "      <td>WhatsApp</td>\n",
       "      <td>6 months - 1 year</td>\n",
       "      <td>Data science</td>\n",
       "      <td>more than 14 hours</td>\n",
       "      <td>Upskill</td>\n",
       "      <td>I’m motivated to join Everything Data to enhan...</td>\n",
       "      <td>Intermediate - I have theoretical knowledge an...</td>\n",
       "      <td>Yes</td>\n",
       "      <td>64.33</td>\n",
       "      <td>Yes</td>\n",
       "    </tr>\n",
       "    <tr>\n",
       "      <th>3</th>\n",
       "      <td>12/3/2024 12:52:36</td>\n",
       "      <td>DS304</td>\n",
       "      <td>18-24 years</td>\n",
       "      <td>Female</td>\n",
       "      <td>Kenya</td>\n",
       "      <td>WhatsApp</td>\n",
       "      <td>6 months - 1 year</td>\n",
       "      <td>Data science</td>\n",
       "      <td>7-14 hours</td>\n",
       "      <td>Upskill</td>\n",
       "      <td>I'd like to upskill and Join the Data Community</td>\n",
       "      <td>Intermediate - I have theoretical knowledge an...</td>\n",
       "      <td>Yes</td>\n",
       "      <td>75.00</td>\n",
       "      <td>No</td>\n",
       "    </tr>\n",
       "    <tr>\n",
       "      <th>4</th>\n",
       "      <td>12/3/2024 18:12:27</td>\n",
       "      <td>DS305</td>\n",
       "      <td>18-24 years</td>\n",
       "      <td>Male</td>\n",
       "      <td>Kenya</td>\n",
       "      <td>WhatsApp</td>\n",
       "      <td>Less than six months</td>\n",
       "      <td>Data science</td>\n",
       "      <td>7-14 hours</td>\n",
       "      <td>Upskill</td>\n",
       "      <td>I aim to join the mentorship program to enhanc...</td>\n",
       "      <td>Beginner - I have NO learning or work experien...</td>\n",
       "      <td>Yes</td>\n",
       "      <td>59.00</td>\n",
       "      <td>No</td>\n",
       "    </tr>\n",
       "  </tbody>\n",
       "</table>\n",
       "</div>"
      ],
      "text/plain": [
       "            Timestamp Id. No    Age range  Gender Country  \\\n",
       "0  12/1/2024 23:50:47  DS301  18-24 years    Male   Kenya   \n",
       "1   12/3/2024 9:35:19  DS302  25-34 years    Male   Kenya   \n",
       "2  12/3/2024 19:16:49  DS303  18-24 years  Female   Kenya   \n",
       "3  12/3/2024 12:52:36  DS304  18-24 years  Female   Kenya   \n",
       "4  12/3/2024 18:12:27  DS305  18-24 years    Male   Kenya   \n",
       "\n",
       "  Where did you hear about Everything Data?  \\\n",
       "0                             Word of mouth   \n",
       "1                                  WhatsApp   \n",
       "2                                  WhatsApp   \n",
       "3                                  WhatsApp   \n",
       "4                                  WhatsApp   \n",
       "\n",
       "  How many years of learning experience do you have in the field of data?  \\\n",
       "0                               Less than six months                        \n",
       "1                                  6 months - 1 year                        \n",
       "2                                  6 months - 1 year                        \n",
       "3                                  6 months - 1 year                        \n",
       "4                               Less than six months                        \n",
       "\n",
       "  Which track are you applying for?  \\\n",
       "0                      Data science   \n",
       "1                      Data science   \n",
       "2                      Data science   \n",
       "3                      Data science   \n",
       "4                      Data science   \n",
       "\n",
       "  How many hours per week can you commit to learning?  \\\n",
       "0                                  less than 6 hours    \n",
       "1                                 more than 14 hours    \n",
       "2                                 more than 14 hours    \n",
       "3                                         7-14 hours    \n",
       "4                                         7-14 hours    \n",
       "\n",
       "  What is your main aim for joining the mentorship program?  \\\n",
       "0                                            Upskill          \n",
       "1                                            Upskill          \n",
       "2                                            Upskill          \n",
       "3                                            Upskill          \n",
       "4                                            Upskill          \n",
       "\n",
       "  What is your motivation to join the Everything Data mentorship program?  \\\n",
       "0             to enter into the data analysis career                        \n",
       "1  To grow and improve my skills in data science ...                        \n",
       "2  I’m motivated to join Everything Data to enhan...                        \n",
       "3    I'd like to upskill and Join the Data Community                        \n",
       "4  I aim to join the mentorship program to enhanc...                        \n",
       "\n",
       "  How best would you describe your skill level in the track you are applying for?  \\\n",
       "0  Beginner - I have NO learning or work experien...                                \n",
       "1  Elementary - I have theoretical understanding ...                                \n",
       "2  Intermediate - I have theoretical knowledge an...                                \n",
       "3  Intermediate - I have theoretical knowledge an...                                \n",
       "4  Beginner - I have NO learning or work experien...                                \n",
       "\n",
       "  Have you completed the everything data aptitude test for your track?  \\\n",
       "0                                                Yes                     \n",
       "1                                                Yes                     \n",
       "2                                                Yes                     \n",
       "3                                                Yes                     \n",
       "4                                                Yes                     \n",
       "\n",
       "   Total score Graduated  \n",
       "0        58.67        No  \n",
       "1        70.00        No  \n",
       "2        64.33       Yes  \n",
       "3        75.00        No  \n",
       "4        59.00        No  "
      ]
     },
     "execution_count": 2,
     "metadata": {},
     "output_type": "execute_result"
    }
   ],
   "source": [
    "# Preview the dataset\n",
    "print(\"Preview of the dataset:\")\n",
    "df.head()"
   ]
  },
  {
   "cell_type": "code",
   "execution_count": 3,
   "id": "7c7fce5a",
   "metadata": {},
   "outputs": [
    {
     "data": {
      "text/plain": [
       "Timestamp                                                                           object\n",
       "Id. No                                                                              object\n",
       "Age range                                                                           object\n",
       "Gender                                                                              object\n",
       "Country                                                                             object\n",
       "Where did you hear about Everything Data?                                           object\n",
       "How many years of learning experience do you have in the field of data?             object\n",
       "Which track are you applying for?                                                   object\n",
       "How many hours per week can you commit to learning?                                 object\n",
       "What is your main aim for joining the mentorship program?                           object\n",
       "What is your motivation to join the Everything Data mentorship program?             object\n",
       "How best would you describe your skill level in the track you are applying for?     object\n",
       "Have you completed the everything data aptitude test for your track?                object\n",
       "Total score                                                                        float64\n",
       "Graduated                                                                           object\n",
       "dtype: object"
      ]
     },
     "execution_count": 3,
     "metadata": {},
     "output_type": "execute_result"
    }
   ],
   "source": [
    "# Check column names and data types\n",
    "df.dtypes"
   ]
  },
  {
   "cell_type": "code",
   "execution_count": 4,
   "id": "0a93bb63",
   "metadata": {},
   "outputs": [
    {
     "data": {
      "text/html": [
       "<div>\n",
       "<style scoped>\n",
       "    .dataframe tbody tr th:only-of-type {\n",
       "        vertical-align: middle;\n",
       "    }\n",
       "\n",
       "    .dataframe tbody tr th {\n",
       "        vertical-align: top;\n",
       "    }\n",
       "\n",
       "    .dataframe thead th {\n",
       "        text-align: right;\n",
       "    }\n",
       "</style>\n",
       "<table border=\"1\" class=\"dataframe\">\n",
       "  <thead>\n",
       "    <tr style=\"text-align: right;\">\n",
       "      <th></th>\n",
       "      <th>Total score</th>\n",
       "    </tr>\n",
       "  </thead>\n",
       "  <tbody>\n",
       "    <tr>\n",
       "      <th>count</th>\n",
       "      <td>63.000000</td>\n",
       "    </tr>\n",
       "    <tr>\n",
       "      <th>mean</th>\n",
       "      <td>69.261905</td>\n",
       "    </tr>\n",
       "    <tr>\n",
       "      <th>std</th>\n",
       "      <td>7.238371</td>\n",
       "    </tr>\n",
       "    <tr>\n",
       "      <th>min</th>\n",
       "      <td>58.330000</td>\n",
       "    </tr>\n",
       "    <tr>\n",
       "      <th>25%</th>\n",
       "      <td>64.000000</td>\n",
       "    </tr>\n",
       "    <tr>\n",
       "      <th>50%</th>\n",
       "      <td>67.670000</td>\n",
       "    </tr>\n",
       "    <tr>\n",
       "      <th>75%</th>\n",
       "      <td>74.330000</td>\n",
       "    </tr>\n",
       "    <tr>\n",
       "      <th>max</th>\n",
       "      <td>83.670000</td>\n",
       "    </tr>\n",
       "  </tbody>\n",
       "</table>\n",
       "</div>"
      ],
      "text/plain": [
       "       Total score\n",
       "count    63.000000\n",
       "mean     69.261905\n",
       "std       7.238371\n",
       "min      58.330000\n",
       "25%      64.000000\n",
       "50%      67.670000\n",
       "75%      74.330000\n",
       "max      83.670000"
      ]
     },
     "execution_count": 4,
     "metadata": {},
     "output_type": "execute_result"
    }
   ],
   "source": [
    "# Summary statistics (numerical only)\n",
    "df.describe()"
   ]
  },
  {
   "cell_type": "code",
   "execution_count": 5,
   "id": "6c5d5b9e",
   "metadata": {},
   "outputs": [
    {
     "name": "stdout",
     "output_type": "stream",
     "text": [
      "\n",
      "Unique values in 'Timestamp':\n",
      "['12/1/2024 23:50:47' '12/3/2024 9:35:19' '12/3/2024 19:16:49'\n",
      " '12/3/2024 12:52:36' '12/3/2024 18:12:27' '11/27/2024 10:40:39'\n",
      " '11/28/2024 14:42:45' '12/3/2024 12:58:05' '12/1/2024 22:02:23'\n",
      " '12/2/2024 13:29:00' '12/3/2024 16:47:48' '12/2/2024 23:59:16'\n",
      " '12/3/2024 14:19:12' '11/27/2024 11:25:40' '11/28/2024 9:11:46'\n",
      " '12/3/2024 11:18:47' '11/27/2024 9:19:48' '11/28/2024 20:17:51'\n",
      " '12/2/2024 23:06:17' '12/2/2024 13:33:40' '12/3/2024 7:07:40'\n",
      " '12/2/2024 16:35:54' '11/28/2024 16:27:08' '12/3/2024 12:59:55'\n",
      " '11/27/2024 10:19:12' '11/28/2024 19:57:13' '12/3/2024 13:30:40'\n",
      " '11/27/2024 17:00:08' '12/2/2024 18:02:53' '12/3/2024 12:39:32'\n",
      " '12/3/2024 16:53:38' '12/1/2024 22:16:29' '12/2/2024 13:45:42'\n",
      " '12/2/2024 14:45:22' '12/2/2024 16:11:30' '12/1/2024 18:49:03'\n",
      " '12/2/2024 23:41:04' '12/3/2024 20:23:34' '11/28/2024 18:20:02'\n",
      " '12/2/2024 1:55:38' '12/1/2024 12:40:47' '12/3/2024 10:11:01'\n",
      " '12/3/2024 16:00:30' '12/1/2024 21:44:14' '11/29/2024 12:54:58'\n",
      " '12/3/2024 12:52:23' '11/27/2024 12:00:40' '12/2/2024 17:25:08'\n",
      " '12/2/2024 10:54:13' '12/3/2024 17:47:40' '11/28/2024 16:01:26'\n",
      " '12/3/2024 13:56:52' '11/27/2024 16:12:58' '12/3/2024 15:42:25'\n",
      " '11/27/2024 12:01:00' '12/3/2024 11:20:37' '12/2/2024 10:30:07'\n",
      " '11/27/2024 21:27:04' '11/28/2024 19:23:05' '12/3/2024 15:40:50'\n",
      " '12/1/2024 23:01:04' '11/29/2024 10:11:34' '12/3/2024 14:14:49']\n",
      "\n",
      "Unique values in 'Id. No':\n",
      "['DS301' 'DS302' 'DS303' 'DS304' 'DS305' 'DS306' 'DS307' 'DS308' 'DS309'\n",
      " 'DS310' 'DS311' 'DS312' 'DS313' 'DS314' 'DS315' 'DS316' 'DS317' 'DS318'\n",
      " 'DS319' 'DS320' 'DS321' 'DS322' 'DS323' 'DS324' 'DS325' 'DS326' 'DS327'\n",
      " 'DS328' 'DS329' 'DS330' 'DS331' 'DS332' 'DS333' 'DS334' 'DS335' 'DS336'\n",
      " 'DS337' 'DS338' 'DS339' 'DS340' 'DS341' 'DS342' 'DS343' 'DS344' 'DS345'\n",
      " 'DS346' 'DS347' 'DS348' 'DS349' 'DS350' 'DS351' 'DS352' 'DS353' 'DS354'\n",
      " 'DS355' 'DS356' 'DS357' 'DS358' 'DS359' 'DS360' 'DS361' 'DS362' 'DS363']\n",
      "\n",
      "Unique values in 'Age range':\n",
      "['18-24 years' '25-34 years' '45-54 years' '35-44 years']\n",
      "\n",
      "Unique values in 'Gender':\n",
      "['Male' 'Female']\n",
      "\n",
      "Unique values in 'Country':\n",
      "['Kenya' 'South Africa']\n",
      "\n",
      "Unique values in 'Where did you hear about Everything Data?':\n",
      "['Word of mouth' 'WhatsApp' 'Twitter' 'LinkedIn'\n",
      " 'through a geeks for geeks webinar' 'Instagram']\n",
      "\n",
      "Unique values in 'How many years of learning experience do you have in the field of data?':\n",
      "['Less than six months' '6 months - 1 year' '1-3 years' '4-6 years']\n",
      "\n",
      "Unique values in 'Which track are you applying for?':\n",
      "['Data science' 'Data analysis']\n",
      "\n",
      "Unique values in 'How many hours per week can you commit to learning?':\n",
      "['less than 6 hours' 'more than 14 hours' '7-14 hours']\n",
      "\n",
      "Unique values in 'What is your main aim for joining the mentorship program?':\n",
      "['Upskill' 'Learn data afresh' 'Connect with fellow data professionals'\n",
      " 'Build a project portfolio'\n",
      " 'both upskilling and connecting with fellow data professionals']\n",
      "\n",
      "Unique values in 'What is your motivation to join the Everything Data mentorship program?':\n",
      "['to enter into the data analysis career'\n",
      " 'To grow and improve my skills in data science and also move with the changing trends in the world of data.'\n",
      " 'I’m motivated to join Everything Data to enhance my data analysis skills, gain mentorship, and develop soft skills to tackle healthcare challenges in Kenya and advance my career in bioinformatics.'\n",
      " \"I'd like to upskill and Join the Data Community\"\n",
      " 'I aim to join the mentorship program to enhance my data science skills and connect with industry experts, enabling me to impact economic, health, and environmental sectors.'\n",
      " 'The need to learn and get into understanding something and everything to do with data analytics and the application part and the inferences from data'\n",
      " 'To learn data science and develop skills necessary for my future ambitions'\n",
      " \"I'm eager to gain a solid foundation in data fundamentals and learn from experienced mentors who can guide me on my learning journey.\"\n",
      " 'I am inspired to make more data driven decisions in the business world.'\n",
      " 'This program offers me an invaluable opportunity to acquire specialized knowledge, gain practical experience, and refine my analytical skills under the guidance of experienced mentors.'\n",
      " 'To pivot to a Data Science career either by employment or freelance'\n",
      " 'My motivation to join the program stem from my passion for leveraging data to solve real-world problems and my desire to develop a strong foundation in data science. I see this program as a chance to gain hands on experience with real-world projects.'\n",
      " 'Become a good data scientist and be able to work in freelance or in a company.'\n",
      " 'To learn more about data and change my profession to be a data scientist'\n",
      " 'Desire to know more, grow and make an impact.'\n",
      " 'I am thrilled to join the program so that I can upscale my skills in data analytics. With my experience in analytics, system administration and software development, I aim to enhance my technical proficiency, tackle real-world data challenges'\n",
      " 'I am passionate to unskilled my passion for data science as the world is evolving to tech'\n",
      " 'Leaening with more experinced and mentors is a great opportunity'\n",
      " \"I am interested in learning AI, ML at a much deeper level than has been taught to me in my engineering course. I have projects I would like to begin, like using AI to assist in electrical engineering design. I'm confident in my ability to learn fast.\"\n",
      " 'I need to get a job'\n",
      " 'I am passionate about data for health care and I am looking into pivoting into the field'\n",
      " 'Connect with fellow data Professionals'\n",
      " 'To get an opportunity to advance in my career as I also sharpen my skills'\n",
      " 'I’m excited to join the Everything Data mentorship program to expand my knowledge in data science. With my background in web development and cloud services, I’m eager to learn how to integrate data-driven insights into my projects and grow my skills'\n",
      " 'Getting access to better training and understanding matters to do with Data Science.'\n",
      " 'I would like to pursue a career as a data scientist and help organizations make data driven decisions'\n",
      " 'I would like to be a part of the global shift towards a data driven era, of informed decision-making, problem-solving, and impactful operations.\\nI am intrigued too by the fact that, data science is not only intellectually rewarding but versatile too.'\n",
      " 'I am motivated by the fact that this opportunity will enable me upskill and lead me toward realising my career goals'\n",
      " 'I want to be part of a community' 'Desire to upgrade and learn more'\n",
      " 'I am eager to learn data science. I have a very big interest in it and I am ready to commit to learning it.'\n",
      " 'I would like to pivot from the healthcare career path and merge it with data skills.'\n",
      " 'The opportunity to link with other people in the same field; get to learn on how the best in the field actually do it; hopefully get a job'\n",
      " 'I’m motivated to enhance my skills in data science, Python, and visualization while gaining practical insights from experienced mentors. This program will help me build a strong foundation and connect with like minded professionals.'\n",
      " 'I intend to do a masters in genetic engineering and a good understanding of data would enable me to learn with ease and enable me to have better understanding of the degree as scientific work involves a lot of data analysis and interpretation.'\n",
      " \"Joining the Everything Data Mentorship program aligns with my goal of building expertise in Data science and machine learning while exploring real world applications. It's also a chance to network with my fellow peers and other industrial experts\"\n",
      " 'To learn a new skill so as to supplement my engineering skills'\n",
      " 'To make predictive models'\n",
      " 'I am a Computer Science student eager to gain practical data science skills through mentorship.'\n",
      " 'The world is fast embracing IT and Tech to provide a variety of solutions to modern-day problems. I am inclined to learn Data Science to equip myself with the necessary skills and knowledge to go about it. I am grateful for this chance to be on board'\n",
      " 'My motivation to join is brought about by the free chance and platform where I can learn DS afresh. I need to upskill myself and put myself in a path where i can be able to make a living via Data Science.'\n",
      " 'By enrolling in the Everything Data mentorship program, I hope to close the knowledge gap I have in economics and statistics, develop advanced data analytics abilities,\\xa0make wise decisions, and develop into a dynamic and creative finance expert.'\n",
      " 'Thank you so much for this opportunity. I am in a space of building my career in tech, and this is a great opportunity to advance in tech. I will be so greatful given the opportunity'\n",
      " 'I have had the greatest need to want to upskill to the next level in data which is data science. I happened to stumble upon this great chance to not only be taught but to also receive mentorship in the data science field which is really amazing.'\n",
      " '’m eager to join the Everything Data mentorship program to enhance my data analysis skills and learn from experienced mentors. I believe this opportunity will help me grow professionally and apply data-driven solutions to real-world challenges.'\n",
      " 'To learn more on Data'\n",
      " 'I want to have a starting point in this field as well as connect with a mentor'\n",
      " 'Numbers speak to me and I would like to learn more on how to tell stories using numbers. I have a great passion for being a part of decision making by looking at trends and finding a pattern. I believe where we are headed, data is everything.'\n",
      " 'I seek to join the data mentorship program to build skills, gain real-world experience, and get expert guidance. Aligned with my goals, I’m passionate about data’s impact and eager to connect with professionals while contributing meaningfully.'\n",
      " 'What used to be a foreign discipline, data science, has now fascinated me and is now something I want to develop further and use its capability to help deal with practical problems, particularly in geospatial applications.'\n",
      " \"I've seen data’s power to tackle challenges like youth unemployment. I aim to deepen my skills to analyze trends and create opportunities. This course offers the knowledge I need to drive change and craft solutions in HR for a more equitable society.\"\n",
      " 'My interests lie in using data to improve healthcare, focusing on precision medicine. I gained skills in UNIX, Bash, R, and HPCs.Learning Python to broaden my skills currently. This mentorship will help bridge my transition to health data science.'\n",
      " 'I am passionate about data science and eager to join the mentorship program to enhance my skills, gain insights from industry leaders, and collaborate with peers. My goal is to leverage data for impactful solutions and drive positive change.'\n",
      " 'My motivation to join the Everything Data mentorship program stems from my strong passion for data science and my desire to further develop my skills in this field.'\n",
      " 'my motivation is to learn and expand my knowledge to solve data science poblems'\n",
      " 'I want to meet people in the same field and also get mentorship'\n",
      " 'I am motivated by my dire need to further my knowledge and understanding of data science. Through this mentorship, I will learn about advanced data science techniques, and develop a structured approach toward analysis and problem-solving.'\n",
      " 'i want to be a data analyst'\n",
      " 'I am a passionate mathematician hence my love for data driven solutions.'\n",
      " 'I recently developed an interest on statistics and data and would like to learn more and more about it'\n",
      " 'I do believe and have testified from those that have undergone your program that indeed you have what I need to gain the necessary skills and knowledge in data science'\n",
      " 'I would like to interact with real world problems and solve and also get a mentor to help me in the field'\n",
      " 'To gain knowledge']\n",
      "\n",
      "Unique values in 'How best would you describe your skill level in the track you are applying for?':\n",
      "['Beginner - I have NO learning or work experience in data analysis/ data science'\n",
      " 'Elementary - I have theoretical understanding of basic data analysis/ data science concepts'\n",
      " 'Intermediate - I have theoretical knowledge and experience in data analysis/ data science']\n",
      "\n",
      "Unique values in 'Have you completed the everything data aptitude test for your track?':\n",
      "['Yes' 'No']\n",
      "\n",
      "Unique values in 'Graduated':\n",
      "['No' 'Yes']\n"
     ]
    }
   ],
   "source": [
    "# inspect unique values for categorical features\n",
    "categorical_col = df.select_dtypes(include= ['object']).columns\n",
    "for col in categorical_col:\n",
    "    print(f\"\\nUnique values in '{col}':\")\n",
    "    print(df[col].unique()\n",
    "          )"
   ]
  },
  {
   "cell_type": "code",
   "execution_count": 6,
   "id": "427bc925",
   "metadata": {},
   "outputs": [
    {
     "name": "stdout",
     "output_type": "stream",
     "text": [
      "\n",
      "Missing values per column:\n"
     ]
    },
    {
     "data": {
      "text/plain": [
       "Timestamp                                                                          0\n",
       "Id. No                                                                             0\n",
       "Age range                                                                          0\n",
       "Gender                                                                             0\n",
       "Country                                                                            0\n",
       "Where did you hear about Everything Data?                                          0\n",
       "How many years of learning experience do you have in the field of data?            0\n",
       "Which track are you applying for?                                                  0\n",
       "How many hours per week can you commit to learning?                                0\n",
       "What is your main aim for joining the mentorship program?                          0\n",
       "What is your motivation to join the Everything Data mentorship program?            0\n",
       "How best would you describe your skill level in the track you are applying for?    0\n",
       "Have you completed the everything data aptitude test for your track?               0\n",
       "Total score                                                                        0\n",
       "Graduated                                                                          0\n",
       "dtype: int64"
      ]
     },
     "execution_count": 6,
     "metadata": {},
     "output_type": "execute_result"
    }
   ],
   "source": [
    "# check for missing values\n",
    "print(\"\\nMissing values per column:\")\n",
    "df.isnull().sum()"
   ]
  },
  {
   "cell_type": "code",
   "execution_count": 7,
   "id": "4fec954e",
   "metadata": {},
   "outputs": [
    {
     "name": "stdout",
     "output_type": "stream",
     "text": [
      "\n",
      "Number of duplicate rows: 0\n"
     ]
    }
   ],
   "source": [
    "print(\"\\nNumber of duplicate rows:\", df.duplicated().sum())\n"
   ]
  },
  {
   "cell_type": "markdown",
   "id": "72f482a4",
   "metadata": {},
   "source": [
    "# Step 1 Summary: Data Acquisition & Inspection\n",
    "\n",
    "- **Dataset Shape:** 63 rows × 15 columns  \n",
    "- **Data Types:** 14 categorical (`object`), 1 numerical (`float64` → *Total score*)  \n",
    "- **Preview:** Data contains participant demographics, motivations, and scores.  \n",
    "- **Numerical Summary (Total Score):**\n",
    "  - Mean: 69.26\n",
    "  - Min: 58.33\n",
    "  - Max: 83.67\n",
    "  - Std: 7.24\n",
    "- **Categorical Highlights:**\n",
    "  - Age Ranges: 18–24, 25–34, 35–44, 45–54\n",
    "  - Gender: Male, Female\n",
    "  - Country: Kenya, South Africa\n",
    "  - Tracks: Data Science, Data Analysis\n",
    "  - Aptitude Test: Yes/No\n",
    "  - Graduation Status: Yes/No\n",
    "- **Missing Values:** 0  \n",
    "- **Duplicates:** 0  \n",
    "\n",
    "**Conclusion:** Dataset is complete, clean at the structural level, and ready for **Step 2: Data Cleaning & Preprocessing**.\n"
   ]
  },
  {
   "cell_type": "markdown",
   "id": "8cde40c3",
   "metadata": {},
   "source": [
    "## Step 2: Data Cleaning & Preprocessing  \n",
    "\n",
    "In this phase, the dataset will be prepared for analysis and modeling. The main tasks include:  \n",
    "\n",
    "- Simplifying column names for readability and consistency.  \n",
    "- Handling missing values through imputation or removal where necessary.  \n",
    "- Standardizing categorical entries (e.g., gender, country) to avoid inconsistencies.  \n",
    "- Encoding categorical variables using One-Hot Encoding or Label Encoding.  \n",
    "- Extracting useful features from timestamps (e.g., deriving the month from registration dates).  \n",
    "- Checking for and removing duplicates or inconsistent records.  \n",
    "\n",
    "This step ensures that the dataset is structured, clean, and ready for exploration and modeling in later phases.\n"
   ]
  },
  {
   "cell_type": "code",
   "execution_count": 8,
   "id": "dee7ac60",
   "metadata": {},
   "outputs": [
    {
     "data": {
      "text/plain": [
       "Index(['Timestamp', 'Id. No', 'Age range', 'Gender', 'Country',\n",
       "       'Where did you hear about Everything Data?',\n",
       "       'How many years of learning experience do you have in the field of data?',\n",
       "       'Which track are you applying for?',\n",
       "       'How many hours per week can you commit to learning?',\n",
       "       'What is your main aim for joining the mentorship program?',\n",
       "       'What is your motivation to join the Everything Data mentorship program?',\n",
       "       'How best would you describe your skill level in the track you are applying for?',\n",
       "       'Have you completed the everything data aptitude test for your track?',\n",
       "       'Total score', 'Graduated'],\n",
       "      dtype='object')"
      ]
     },
     "execution_count": 8,
     "metadata": {},
     "output_type": "execute_result"
    }
   ],
   "source": [
    "df.columns"
   ]
  },
  {
   "cell_type": "markdown",
   "id": "0d1c3a81",
   "metadata": {},
   "source": [
    "1) Simplify / Standardize Column Names"
   ]
  },
  {
   "cell_type": "code",
   "execution_count": 9,
   "id": "679dbf9d",
   "metadata": {},
   "outputs": [],
   "source": [
    "raw = df.copy()"
   ]
  },
  {
   "cell_type": "code",
   "execution_count": 10,
   "id": "a8aa753b",
   "metadata": {},
   "outputs": [
    {
     "data": {
      "text/html": [
       "<div>\n",
       "<style scoped>\n",
       "    .dataframe tbody tr th:only-of-type {\n",
       "        vertical-align: middle;\n",
       "    }\n",
       "\n",
       "    .dataframe tbody tr th {\n",
       "        vertical-align: top;\n",
       "    }\n",
       "\n",
       "    .dataframe thead th {\n",
       "        text-align: right;\n",
       "    }\n",
       "</style>\n",
       "<table border=\"1\" class=\"dataframe\">\n",
       "  <thead>\n",
       "    <tr style=\"text-align: right;\">\n",
       "      <th></th>\n",
       "      <th>timestamp</th>\n",
       "      <th>id</th>\n",
       "      <th>age_range</th>\n",
       "      <th>gender</th>\n",
       "      <th>country</th>\n",
       "      <th>ref_source</th>\n",
       "      <th>experience_years</th>\n",
       "      <th>track</th>\n",
       "      <th>hours_per_week</th>\n",
       "      <th>main_aim</th>\n",
       "      <th>motivation</th>\n",
       "      <th>skill_level</th>\n",
       "      <th>aptitude_completed</th>\n",
       "      <th>total_score</th>\n",
       "      <th>graduated</th>\n",
       "    </tr>\n",
       "  </thead>\n",
       "  <tbody>\n",
       "    <tr>\n",
       "      <th>0</th>\n",
       "      <td>12/1/2024 23:50:47</td>\n",
       "      <td>DS301</td>\n",
       "      <td>18-24 years</td>\n",
       "      <td>Male</td>\n",
       "      <td>Kenya</td>\n",
       "      <td>Word of mouth</td>\n",
       "      <td>Less than six months</td>\n",
       "      <td>Data science</td>\n",
       "      <td>less than 6 hours</td>\n",
       "      <td>Upskill</td>\n",
       "      <td>to enter into the data analysis career</td>\n",
       "      <td>Beginner - I have NO learning or work experien...</td>\n",
       "      <td>Yes</td>\n",
       "      <td>58.67</td>\n",
       "      <td>No</td>\n",
       "    </tr>\n",
       "    <tr>\n",
       "      <th>1</th>\n",
       "      <td>12/3/2024 9:35:19</td>\n",
       "      <td>DS302</td>\n",
       "      <td>25-34 years</td>\n",
       "      <td>Male</td>\n",
       "      <td>Kenya</td>\n",
       "      <td>WhatsApp</td>\n",
       "      <td>6 months - 1 year</td>\n",
       "      <td>Data science</td>\n",
       "      <td>more than 14 hours</td>\n",
       "      <td>Upskill</td>\n",
       "      <td>To grow and improve my skills in data science ...</td>\n",
       "      <td>Elementary - I have theoretical understanding ...</td>\n",
       "      <td>Yes</td>\n",
       "      <td>70.00</td>\n",
       "      <td>No</td>\n",
       "    </tr>\n",
       "    <tr>\n",
       "      <th>2</th>\n",
       "      <td>12/3/2024 19:16:49</td>\n",
       "      <td>DS303</td>\n",
       "      <td>18-24 years</td>\n",
       "      <td>Female</td>\n",
       "      <td>Kenya</td>\n",
       "      <td>WhatsApp</td>\n",
       "      <td>6 months - 1 year</td>\n",
       "      <td>Data science</td>\n",
       "      <td>more than 14 hours</td>\n",
       "      <td>Upskill</td>\n",
       "      <td>I’m motivated to join Everything Data to enhan...</td>\n",
       "      <td>Intermediate - I have theoretical knowledge an...</td>\n",
       "      <td>Yes</td>\n",
       "      <td>64.33</td>\n",
       "      <td>Yes</td>\n",
       "    </tr>\n",
       "    <tr>\n",
       "      <th>3</th>\n",
       "      <td>12/3/2024 12:52:36</td>\n",
       "      <td>DS304</td>\n",
       "      <td>18-24 years</td>\n",
       "      <td>Female</td>\n",
       "      <td>Kenya</td>\n",
       "      <td>WhatsApp</td>\n",
       "      <td>6 months - 1 year</td>\n",
       "      <td>Data science</td>\n",
       "      <td>7-14 hours</td>\n",
       "      <td>Upskill</td>\n",
       "      <td>I'd like to upskill and Join the Data Community</td>\n",
       "      <td>Intermediate - I have theoretical knowledge an...</td>\n",
       "      <td>Yes</td>\n",
       "      <td>75.00</td>\n",
       "      <td>No</td>\n",
       "    </tr>\n",
       "    <tr>\n",
       "      <th>4</th>\n",
       "      <td>12/3/2024 18:12:27</td>\n",
       "      <td>DS305</td>\n",
       "      <td>18-24 years</td>\n",
       "      <td>Male</td>\n",
       "      <td>Kenya</td>\n",
       "      <td>WhatsApp</td>\n",
       "      <td>Less than six months</td>\n",
       "      <td>Data science</td>\n",
       "      <td>7-14 hours</td>\n",
       "      <td>Upskill</td>\n",
       "      <td>I aim to join the mentorship program to enhanc...</td>\n",
       "      <td>Beginner - I have NO learning or work experien...</td>\n",
       "      <td>Yes</td>\n",
       "      <td>59.00</td>\n",
       "      <td>No</td>\n",
       "    </tr>\n",
       "  </tbody>\n",
       "</table>\n",
       "</div>"
      ],
      "text/plain": [
       "            timestamp     id    age_range  gender country     ref_source  \\\n",
       "0  12/1/2024 23:50:47  DS301  18-24 years    Male   Kenya  Word of mouth   \n",
       "1   12/3/2024 9:35:19  DS302  25-34 years    Male   Kenya       WhatsApp   \n",
       "2  12/3/2024 19:16:49  DS303  18-24 years  Female   Kenya       WhatsApp   \n",
       "3  12/3/2024 12:52:36  DS304  18-24 years  Female   Kenya       WhatsApp   \n",
       "4  12/3/2024 18:12:27  DS305  18-24 years    Male   Kenya       WhatsApp   \n",
       "\n",
       "       experience_years         track      hours_per_week main_aim  \\\n",
       "0  Less than six months  Data science   less than 6 hours  Upskill   \n",
       "1     6 months - 1 year  Data science  more than 14 hours  Upskill   \n",
       "2     6 months - 1 year  Data science  more than 14 hours  Upskill   \n",
       "3     6 months - 1 year  Data science          7-14 hours  Upskill   \n",
       "4  Less than six months  Data science          7-14 hours  Upskill   \n",
       "\n",
       "                                          motivation  \\\n",
       "0             to enter into the data analysis career   \n",
       "1  To grow and improve my skills in data science ...   \n",
       "2  I’m motivated to join Everything Data to enhan...   \n",
       "3    I'd like to upskill and Join the Data Community   \n",
       "4  I aim to join the mentorship program to enhanc...   \n",
       "\n",
       "                                         skill_level aptitude_completed  \\\n",
       "0  Beginner - I have NO learning or work experien...                Yes   \n",
       "1  Elementary - I have theoretical understanding ...                Yes   \n",
       "2  Intermediate - I have theoretical knowledge an...                Yes   \n",
       "3  Intermediate - I have theoretical knowledge an...                Yes   \n",
       "4  Beginner - I have NO learning or work experien...                Yes   \n",
       "\n",
       "   total_score graduated  \n",
       "0        58.67        No  \n",
       "1        70.00        No  \n",
       "2        64.33       Yes  \n",
       "3        75.00        No  \n",
       "4        59.00        No  "
      ]
     },
     "execution_count": 10,
     "metadata": {},
     "output_type": "execute_result"
    }
   ],
   "source": [
    "rename_map = {\n",
    "    'Timestamp': 'timestamp',\n",
    "    'Id. No': 'id',\n",
    "    'Age range': 'age_range',\n",
    "    'Gender': 'gender',\n",
    "    'Country': 'country',\n",
    "    'Where did you hear about Everything Data?': 'ref_source',\n",
    "    'How many years of learning experience do you have in the field of data?': 'experience_years',\n",
    "    'Which track are you applying for?': 'track',\n",
    "    'How many hours per week can you commit to learning?': 'hours_per_week',\n",
    "    'What is your main aim for joining the mentorship program?': 'main_aim',\n",
    "    'What is your motivation to join the Everything Data mentorship program?': 'motivation',\n",
    "    'How best would you describe your skill level in the track you are applying for?': 'skill_level',\n",
    "    'Have you completed the everything data aptitude test for your track?': 'aptitude_completed',\n",
    "    'Total score': 'total_score',\n",
    "    'Graduated': 'graduated'\n",
    "}\n",
    "\n",
    "df2 = raw.rename(columns= rename_map)\n",
    "df2.columns = [c.strip().lower() for c in df2.columns]\n",
    "df2.head()\n"
   ]
  },
  {
   "cell_type": "code",
   "execution_count": 11,
   "id": "15164292",
   "metadata": {},
   "outputs": [
    {
     "name": "stdout",
     "output_type": "stream",
     "text": [
      "\n",
      "Unique values in 'timestamp':\n",
      "['12/1/2024 23:50:47' '12/3/2024 9:35:19' '12/3/2024 19:16:49'\n",
      " '12/3/2024 12:52:36' '12/3/2024 18:12:27' '11/27/2024 10:40:39'\n",
      " '11/28/2024 14:42:45' '12/3/2024 12:58:05' '12/1/2024 22:02:23'\n",
      " '12/2/2024 13:29:00' '12/3/2024 16:47:48' '12/2/2024 23:59:16'\n",
      " '12/3/2024 14:19:12' '11/27/2024 11:25:40' '11/28/2024 9:11:46'\n",
      " '12/3/2024 11:18:47' '11/27/2024 9:19:48' '11/28/2024 20:17:51'\n",
      " '12/2/2024 23:06:17' '12/2/2024 13:33:40' '12/3/2024 7:07:40'\n",
      " '12/2/2024 16:35:54' '11/28/2024 16:27:08' '12/3/2024 12:59:55'\n",
      " '11/27/2024 10:19:12' '11/28/2024 19:57:13' '12/3/2024 13:30:40'\n",
      " '11/27/2024 17:00:08' '12/2/2024 18:02:53' '12/3/2024 12:39:32'\n",
      " '12/3/2024 16:53:38' '12/1/2024 22:16:29' '12/2/2024 13:45:42'\n",
      " '12/2/2024 14:45:22' '12/2/2024 16:11:30' '12/1/2024 18:49:03'\n",
      " '12/2/2024 23:41:04' '12/3/2024 20:23:34' '11/28/2024 18:20:02'\n",
      " '12/2/2024 1:55:38' '12/1/2024 12:40:47' '12/3/2024 10:11:01'\n",
      " '12/3/2024 16:00:30' '12/1/2024 21:44:14' '11/29/2024 12:54:58'\n",
      " '12/3/2024 12:52:23' '11/27/2024 12:00:40' '12/2/2024 17:25:08'\n",
      " '12/2/2024 10:54:13' '12/3/2024 17:47:40' '11/28/2024 16:01:26'\n",
      " '12/3/2024 13:56:52' '11/27/2024 16:12:58' '12/3/2024 15:42:25'\n",
      " '11/27/2024 12:01:00' '12/3/2024 11:20:37' '12/2/2024 10:30:07'\n",
      " '11/27/2024 21:27:04' '11/28/2024 19:23:05' '12/3/2024 15:40:50'\n",
      " '12/1/2024 23:01:04' '11/29/2024 10:11:34' '12/3/2024 14:14:49']\n",
      "\n",
      "Unique values in 'id':\n",
      "['DS301' 'DS302' 'DS303' 'DS304' 'DS305' 'DS306' 'DS307' 'DS308' 'DS309'\n",
      " 'DS310' 'DS311' 'DS312' 'DS313' 'DS314' 'DS315' 'DS316' 'DS317' 'DS318'\n",
      " 'DS319' 'DS320' 'DS321' 'DS322' 'DS323' 'DS324' 'DS325' 'DS326' 'DS327'\n",
      " 'DS328' 'DS329' 'DS330' 'DS331' 'DS332' 'DS333' 'DS334' 'DS335' 'DS336'\n",
      " 'DS337' 'DS338' 'DS339' 'DS340' 'DS341' 'DS342' 'DS343' 'DS344' 'DS345'\n",
      " 'DS346' 'DS347' 'DS348' 'DS349' 'DS350' 'DS351' 'DS352' 'DS353' 'DS354'\n",
      " 'DS355' 'DS356' 'DS357' 'DS358' 'DS359' 'DS360' 'DS361' 'DS362' 'DS363']\n",
      "\n",
      "Unique values in 'age_range':\n",
      "['18-24 years' '25-34 years' '45-54 years' '35-44 years']\n",
      "\n",
      "Unique values in 'gender':\n",
      "['Male' 'Female']\n",
      "\n",
      "Unique values in 'country':\n",
      "['Kenya' 'South Africa']\n",
      "\n",
      "Unique values in 'ref_source':\n",
      "['Word of mouth' 'WhatsApp' 'Twitter' 'LinkedIn'\n",
      " 'through a geeks for geeks webinar' 'Instagram']\n",
      "\n",
      "Unique values in 'experience_years':\n",
      "['Less than six months' '6 months - 1 year' '1-3 years' '4-6 years']\n",
      "\n",
      "Unique values in 'track':\n",
      "['Data science' 'Data analysis']\n",
      "\n",
      "Unique values in 'hours_per_week':\n",
      "['less than 6 hours' 'more than 14 hours' '7-14 hours']\n",
      "\n",
      "Unique values in 'main_aim':\n",
      "['Upskill' 'Learn data afresh' 'Connect with fellow data professionals'\n",
      " 'Build a project portfolio'\n",
      " 'both upskilling and connecting with fellow data professionals']\n",
      "\n",
      "Unique values in 'motivation':\n",
      "['to enter into the data analysis career'\n",
      " 'To grow and improve my skills in data science and also move with the changing trends in the world of data.'\n",
      " 'I’m motivated to join Everything Data to enhance my data analysis skills, gain mentorship, and develop soft skills to tackle healthcare challenges in Kenya and advance my career in bioinformatics.'\n",
      " \"I'd like to upskill and Join the Data Community\"\n",
      " 'I aim to join the mentorship program to enhance my data science skills and connect with industry experts, enabling me to impact economic, health, and environmental sectors.'\n",
      " 'The need to learn and get into understanding something and everything to do with data analytics and the application part and the inferences from data'\n",
      " 'To learn data science and develop skills necessary for my future ambitions'\n",
      " \"I'm eager to gain a solid foundation in data fundamentals and learn from experienced mentors who can guide me on my learning journey.\"\n",
      " 'I am inspired to make more data driven decisions in the business world.'\n",
      " 'This program offers me an invaluable opportunity to acquire specialized knowledge, gain practical experience, and refine my analytical skills under the guidance of experienced mentors.'\n",
      " 'To pivot to a Data Science career either by employment or freelance'\n",
      " 'My motivation to join the program stem from my passion for leveraging data to solve real-world problems and my desire to develop a strong foundation in data science. I see this program as a chance to gain hands on experience with real-world projects.'\n",
      " 'Become a good data scientist and be able to work in freelance or in a company.'\n",
      " 'To learn more about data and change my profession to be a data scientist'\n",
      " 'Desire to know more, grow and make an impact.'\n",
      " 'I am thrilled to join the program so that I can upscale my skills in data analytics. With my experience in analytics, system administration and software development, I aim to enhance my technical proficiency, tackle real-world data challenges'\n",
      " 'I am passionate to unskilled my passion for data science as the world is evolving to tech'\n",
      " 'Leaening with more experinced and mentors is a great opportunity'\n",
      " \"I am interested in learning AI, ML at a much deeper level than has been taught to me in my engineering course. I have projects I would like to begin, like using AI to assist in electrical engineering design. I'm confident in my ability to learn fast.\"\n",
      " 'I need to get a job'\n",
      " 'I am passionate about data for health care and I am looking into pivoting into the field'\n",
      " 'Connect with fellow data Professionals'\n",
      " 'To get an opportunity to advance in my career as I also sharpen my skills'\n",
      " 'I’m excited to join the Everything Data mentorship program to expand my knowledge in data science. With my background in web development and cloud services, I’m eager to learn how to integrate data-driven insights into my projects and grow my skills'\n",
      " 'Getting access to better training and understanding matters to do with Data Science.'\n",
      " 'I would like to pursue a career as a data scientist and help organizations make data driven decisions'\n",
      " 'I would like to be a part of the global shift towards a data driven era, of informed decision-making, problem-solving, and impactful operations.\\nI am intrigued too by the fact that, data science is not only intellectually rewarding but versatile too.'\n",
      " 'I am motivated by the fact that this opportunity will enable me upskill and lead me toward realising my career goals'\n",
      " 'I want to be part of a community' 'Desire to upgrade and learn more'\n",
      " 'I am eager to learn data science. I have a very big interest in it and I am ready to commit to learning it.'\n",
      " 'I would like to pivot from the healthcare career path and merge it with data skills.'\n",
      " 'The opportunity to link with other people in the same field; get to learn on how the best in the field actually do it; hopefully get a job'\n",
      " 'I’m motivated to enhance my skills in data science, Python, and visualization while gaining practical insights from experienced mentors. This program will help me build a strong foundation and connect with like minded professionals.'\n",
      " 'I intend to do a masters in genetic engineering and a good understanding of data would enable me to learn with ease and enable me to have better understanding of the degree as scientific work involves a lot of data analysis and interpretation.'\n",
      " \"Joining the Everything Data Mentorship program aligns with my goal of building expertise in Data science and machine learning while exploring real world applications. It's also a chance to network with my fellow peers and other industrial experts\"\n",
      " 'To learn a new skill so as to supplement my engineering skills'\n",
      " 'To make predictive models'\n",
      " 'I am a Computer Science student eager to gain practical data science skills through mentorship.'\n",
      " 'The world is fast embracing IT and Tech to provide a variety of solutions to modern-day problems. I am inclined to learn Data Science to equip myself with the necessary skills and knowledge to go about it. I am grateful for this chance to be on board'\n",
      " 'My motivation to join is brought about by the free chance and platform where I can learn DS afresh. I need to upskill myself and put myself in a path where i can be able to make a living via Data Science.'\n",
      " 'By enrolling in the Everything Data mentorship program, I hope to close the knowledge gap I have in economics and statistics, develop advanced data analytics abilities,\\xa0make wise decisions, and develop into a dynamic and creative finance expert.'\n",
      " 'Thank you so much for this opportunity. I am in a space of building my career in tech, and this is a great opportunity to advance in tech. I will be so greatful given the opportunity'\n",
      " 'I have had the greatest need to want to upskill to the next level in data which is data science. I happened to stumble upon this great chance to not only be taught but to also receive mentorship in the data science field which is really amazing.'\n",
      " '’m eager to join the Everything Data mentorship program to enhance my data analysis skills and learn from experienced mentors. I believe this opportunity will help me grow professionally and apply data-driven solutions to real-world challenges.'\n",
      " 'To learn more on Data'\n",
      " 'I want to have a starting point in this field as well as connect with a mentor'\n",
      " 'Numbers speak to me and I would like to learn more on how to tell stories using numbers. I have a great passion for being a part of decision making by looking at trends and finding a pattern. I believe where we are headed, data is everything.'\n",
      " 'I seek to join the data mentorship program to build skills, gain real-world experience, and get expert guidance. Aligned with my goals, I’m passionate about data’s impact and eager to connect with professionals while contributing meaningfully.'\n",
      " 'What used to be a foreign discipline, data science, has now fascinated me and is now something I want to develop further and use its capability to help deal with practical problems, particularly in geospatial applications.'\n",
      " \"I've seen data’s power to tackle challenges like youth unemployment. I aim to deepen my skills to analyze trends and create opportunities. This course offers the knowledge I need to drive change and craft solutions in HR for a more equitable society.\"\n",
      " 'My interests lie in using data to improve healthcare, focusing on precision medicine. I gained skills in UNIX, Bash, R, and HPCs.Learning Python to broaden my skills currently. This mentorship will help bridge my transition to health data science.'\n",
      " 'I am passionate about data science and eager to join the mentorship program to enhance my skills, gain insights from industry leaders, and collaborate with peers. My goal is to leverage data for impactful solutions and drive positive change.'\n",
      " 'My motivation to join the Everything Data mentorship program stems from my strong passion for data science and my desire to further develop my skills in this field.'\n",
      " 'my motivation is to learn and expand my knowledge to solve data science poblems'\n",
      " 'I want to meet people in the same field and also get mentorship'\n",
      " 'I am motivated by my dire need to further my knowledge and understanding of data science. Through this mentorship, I will learn about advanced data science techniques, and develop a structured approach toward analysis and problem-solving.'\n",
      " 'i want to be a data analyst'\n",
      " 'I am a passionate mathematician hence my love for data driven solutions.'\n",
      " 'I recently developed an interest on statistics and data and would like to learn more and more about it'\n",
      " 'I do believe and have testified from those that have undergone your program that indeed you have what I need to gain the necessary skills and knowledge in data science'\n",
      " 'I would like to interact with real world problems and solve and also get a mentor to help me in the field'\n",
      " 'To gain knowledge']\n",
      "\n",
      "Unique values in 'skill_level':\n",
      "['Beginner - I have NO learning or work experience in data analysis/ data science'\n",
      " 'Elementary - I have theoretical understanding of basic data analysis/ data science concepts'\n",
      " 'Intermediate - I have theoretical knowledge and experience in data analysis/ data science']\n",
      "\n",
      "Unique values in 'aptitude_completed':\n",
      "['Yes' 'No']\n",
      "\n",
      "Unique values in 'graduated':\n",
      "['No' 'Yes']\n"
     ]
    }
   ],
   "source": [
    "categorical_col = df2.select_dtypes(include= ['object']).columns\n",
    "for col in categorical_col:\n",
    "    print(f\"\\nUnique values in '{col}':\")\n",
    "    print(df2[col].unique()\n",
    "          )"
   ]
  },
  {
   "cell_type": "markdown",
   "id": "a02265c3",
   "metadata": {},
   "source": [
    "2. Basic String Cleaning for Categorical Columns"
   ]
  },
  {
   "cell_type": "code",
   "execution_count": 12,
   "id": "f616c75b",
   "metadata": {},
   "outputs": [],
   "source": [
    "cat_cols = df.select_dtypes(include=\"object\").columns.tolist()\n",
    "\n",
    "def clean_str(s):\n",
    "    if pd.isna(s): \n",
    "        return s\n",
    "    s = str(s).strip()        # remove leading/trailing whitespace\n",
    "    s = \" \".join(s.split())   # replace multiple spaces with a single space\n",
    "    return s\n",
    "\n",
    "for c in cat_cols:\n",
    "    df[c] = df[c].apply(clean_str)\n"
   ]
  },
  {
   "cell_type": "code",
   "execution_count": 13,
   "id": "6768b9ee",
   "metadata": {},
   "outputs": [
    {
     "name": "stdout",
     "output_type": "stream",
     "text": [
      "\n",
      "Unique values in 'timestamp':\n",
      "['12/1/2024 23:50:47' '12/3/2024 9:35:19' '12/3/2024 19:16:49'\n",
      " '12/3/2024 12:52:36' '12/3/2024 18:12:27' '11/27/2024 10:40:39'\n",
      " '11/28/2024 14:42:45' '12/3/2024 12:58:05' '12/1/2024 22:02:23'\n",
      " '12/2/2024 13:29:00' '12/3/2024 16:47:48' '12/2/2024 23:59:16'\n",
      " '12/3/2024 14:19:12' '11/27/2024 11:25:40' '11/28/2024 9:11:46'\n",
      " '12/3/2024 11:18:47' '11/27/2024 9:19:48' '11/28/2024 20:17:51'\n",
      " '12/2/2024 23:06:17' '12/2/2024 13:33:40' '12/3/2024 7:07:40'\n",
      " '12/2/2024 16:35:54' '11/28/2024 16:27:08' '12/3/2024 12:59:55'\n",
      " '11/27/2024 10:19:12' '11/28/2024 19:57:13' '12/3/2024 13:30:40'\n",
      " '11/27/2024 17:00:08' '12/2/2024 18:02:53' '12/3/2024 12:39:32'\n",
      " '12/3/2024 16:53:38' '12/1/2024 22:16:29' '12/2/2024 13:45:42'\n",
      " '12/2/2024 14:45:22' '12/2/2024 16:11:30' '12/1/2024 18:49:03'\n",
      " '12/2/2024 23:41:04' '12/3/2024 20:23:34' '11/28/2024 18:20:02'\n",
      " '12/2/2024 1:55:38' '12/1/2024 12:40:47' '12/3/2024 10:11:01'\n",
      " '12/3/2024 16:00:30' '12/1/2024 21:44:14' '11/29/2024 12:54:58'\n",
      " '12/3/2024 12:52:23' '11/27/2024 12:00:40' '12/2/2024 17:25:08'\n",
      " '12/2/2024 10:54:13' '12/3/2024 17:47:40' '11/28/2024 16:01:26'\n",
      " '12/3/2024 13:56:52' '11/27/2024 16:12:58' '12/3/2024 15:42:25'\n",
      " '11/27/2024 12:01:00' '12/3/2024 11:20:37' '12/2/2024 10:30:07'\n",
      " '11/27/2024 21:27:04' '11/28/2024 19:23:05' '12/3/2024 15:40:50'\n",
      " '12/1/2024 23:01:04' '11/29/2024 10:11:34' '12/3/2024 14:14:49']\n",
      "\n",
      "Unique values in 'id':\n",
      "['DS301' 'DS302' 'DS303' 'DS304' 'DS305' 'DS306' 'DS307' 'DS308' 'DS309'\n",
      " 'DS310' 'DS311' 'DS312' 'DS313' 'DS314' 'DS315' 'DS316' 'DS317' 'DS318'\n",
      " 'DS319' 'DS320' 'DS321' 'DS322' 'DS323' 'DS324' 'DS325' 'DS326' 'DS327'\n",
      " 'DS328' 'DS329' 'DS330' 'DS331' 'DS332' 'DS333' 'DS334' 'DS335' 'DS336'\n",
      " 'DS337' 'DS338' 'DS339' 'DS340' 'DS341' 'DS342' 'DS343' 'DS344' 'DS345'\n",
      " 'DS346' 'DS347' 'DS348' 'DS349' 'DS350' 'DS351' 'DS352' 'DS353' 'DS354'\n",
      " 'DS355' 'DS356' 'DS357' 'DS358' 'DS359' 'DS360' 'DS361' 'DS362' 'DS363']\n",
      "\n",
      "Unique values in 'age_range':\n",
      "['18-24 years' '25-34 years' '45-54 years' '35-44 years']\n",
      "\n",
      "Unique values in 'gender':\n",
      "['Male' 'Female']\n",
      "\n",
      "Unique values in 'country':\n",
      "['Kenya' 'South Africa']\n",
      "\n",
      "Unique values in 'ref_source':\n",
      "['Word of mouth' 'WhatsApp' 'Twitter' 'LinkedIn'\n",
      " 'through a geeks for geeks webinar' 'Instagram']\n",
      "\n",
      "Unique values in 'experience_years':\n",
      "['Less than six months' '6 months - 1 year' '1-3 years' '4-6 years']\n",
      "\n",
      "Unique values in 'track':\n",
      "['Data science' 'Data analysis']\n",
      "\n",
      "Unique values in 'hours_per_week':\n",
      "['less than 6 hours' 'more than 14 hours' '7-14 hours']\n",
      "\n",
      "Unique values in 'main_aim':\n",
      "['Upskill' 'Learn data afresh' 'Connect with fellow data professionals'\n",
      " 'Build a project portfolio'\n",
      " 'both upskilling and connecting with fellow data professionals']\n",
      "\n",
      "Unique values in 'motivation':\n",
      "['to enter into the data analysis career'\n",
      " 'To grow and improve my skills in data science and also move with the changing trends in the world of data.'\n",
      " 'I’m motivated to join Everything Data to enhance my data analysis skills, gain mentorship, and develop soft skills to tackle healthcare challenges in Kenya and advance my career in bioinformatics.'\n",
      " \"I'd like to upskill and Join the Data Community\"\n",
      " 'I aim to join the mentorship program to enhance my data science skills and connect with industry experts, enabling me to impact economic, health, and environmental sectors.'\n",
      " 'The need to learn and get into understanding something and everything to do with data analytics and the application part and the inferences from data'\n",
      " 'To learn data science and develop skills necessary for my future ambitions'\n",
      " \"I'm eager to gain a solid foundation in data fundamentals and learn from experienced mentors who can guide me on my learning journey.\"\n",
      " 'I am inspired to make more data driven decisions in the business world.'\n",
      " 'This program offers me an invaluable opportunity to acquire specialized knowledge, gain practical experience, and refine my analytical skills under the guidance of experienced mentors.'\n",
      " 'To pivot to a Data Science career either by employment or freelance'\n",
      " 'My motivation to join the program stem from my passion for leveraging data to solve real-world problems and my desire to develop a strong foundation in data science. I see this program as a chance to gain hands on experience with real-world projects.'\n",
      " 'Become a good data scientist and be able to work in freelance or in a company.'\n",
      " 'To learn more about data and change my profession to be a data scientist'\n",
      " 'Desire to know more, grow and make an impact.'\n",
      " 'I am thrilled to join the program so that I can upscale my skills in data analytics. With my experience in analytics, system administration and software development, I aim to enhance my technical proficiency, tackle real-world data challenges'\n",
      " 'I am passionate to unskilled my passion for data science as the world is evolving to tech'\n",
      " 'Leaening with more experinced and mentors is a great opportunity'\n",
      " \"I am interested in learning AI, ML at a much deeper level than has been taught to me in my engineering course. I have projects I would like to begin, like using AI to assist in electrical engineering design. I'm confident in my ability to learn fast.\"\n",
      " 'I need to get a job'\n",
      " 'I am passionate about data for health care and I am looking into pivoting into the field'\n",
      " 'Connect with fellow data Professionals'\n",
      " 'To get an opportunity to advance in my career as I also sharpen my skills'\n",
      " 'I’m excited to join the Everything Data mentorship program to expand my knowledge in data science. With my background in web development and cloud services, I’m eager to learn how to integrate data-driven insights into my projects and grow my skills'\n",
      " 'Getting access to better training and understanding matters to do with Data Science.'\n",
      " 'I would like to pursue a career as a data scientist and help organizations make data driven decisions'\n",
      " 'I would like to be a part of the global shift towards a data driven era, of informed decision-making, problem-solving, and impactful operations.\\nI am intrigued too by the fact that, data science is not only intellectually rewarding but versatile too.'\n",
      " 'I am motivated by the fact that this opportunity will enable me upskill and lead me toward realising my career goals'\n",
      " 'I want to be part of a community' 'Desire to upgrade and learn more'\n",
      " 'I am eager to learn data science. I have a very big interest in it and I am ready to commit to learning it.'\n",
      " 'I would like to pivot from the healthcare career path and merge it with data skills.'\n",
      " 'The opportunity to link with other people in the same field; get to learn on how the best in the field actually do it; hopefully get a job'\n",
      " 'I’m motivated to enhance my skills in data science, Python, and visualization while gaining practical insights from experienced mentors. This program will help me build a strong foundation and connect with like minded professionals.'\n",
      " 'I intend to do a masters in genetic engineering and a good understanding of data would enable me to learn with ease and enable me to have better understanding of the degree as scientific work involves a lot of data analysis and interpretation.'\n",
      " \"Joining the Everything Data Mentorship program aligns with my goal of building expertise in Data science and machine learning while exploring real world applications. It's also a chance to network with my fellow peers and other industrial experts\"\n",
      " 'To learn a new skill so as to supplement my engineering skills'\n",
      " 'To make predictive models'\n",
      " 'I am a Computer Science student eager to gain practical data science skills through mentorship.'\n",
      " 'The world is fast embracing IT and Tech to provide a variety of solutions to modern-day problems. I am inclined to learn Data Science to equip myself with the necessary skills and knowledge to go about it. I am grateful for this chance to be on board'\n",
      " 'My motivation to join is brought about by the free chance and platform where I can learn DS afresh. I need to upskill myself and put myself in a path where i can be able to make a living via Data Science.'\n",
      " 'By enrolling in the Everything Data mentorship program, I hope to close the knowledge gap I have in economics and statistics, develop advanced data analytics abilities,\\xa0make wise decisions, and develop into a dynamic and creative finance expert.'\n",
      " 'Thank you so much for this opportunity. I am in a space of building my career in tech, and this is a great opportunity to advance in tech. I will be so greatful given the opportunity'\n",
      " 'I have had the greatest need to want to upskill to the next level in data which is data science. I happened to stumble upon this great chance to not only be taught but to also receive mentorship in the data science field which is really amazing.'\n",
      " '’m eager to join the Everything Data mentorship program to enhance my data analysis skills and learn from experienced mentors. I believe this opportunity will help me grow professionally and apply data-driven solutions to real-world challenges.'\n",
      " 'To learn more on Data'\n",
      " 'I want to have a starting point in this field as well as connect with a mentor'\n",
      " 'Numbers speak to me and I would like to learn more on how to tell stories using numbers. I have a great passion for being a part of decision making by looking at trends and finding a pattern. I believe where we are headed, data is everything.'\n",
      " 'I seek to join the data mentorship program to build skills, gain real-world experience, and get expert guidance. Aligned with my goals, I’m passionate about data’s impact and eager to connect with professionals while contributing meaningfully.'\n",
      " 'What used to be a foreign discipline, data science, has now fascinated me and is now something I want to develop further and use its capability to help deal with practical problems, particularly in geospatial applications.'\n",
      " \"I've seen data’s power to tackle challenges like youth unemployment. I aim to deepen my skills to analyze trends and create opportunities. This course offers the knowledge I need to drive change and craft solutions in HR for a more equitable society.\"\n",
      " 'My interests lie in using data to improve healthcare, focusing on precision medicine. I gained skills in UNIX, Bash, R, and HPCs.Learning Python to broaden my skills currently. This mentorship will help bridge my transition to health data science.'\n",
      " 'I am passionate about data science and eager to join the mentorship program to enhance my skills, gain insights from industry leaders, and collaborate with peers. My goal is to leverage data for impactful solutions and drive positive change.'\n",
      " 'My motivation to join the Everything Data mentorship program stems from my strong passion for data science and my desire to further develop my skills in this field.'\n",
      " 'my motivation is to learn and expand my knowledge to solve data science poblems'\n",
      " 'I want to meet people in the same field and also get mentorship'\n",
      " 'I am motivated by my dire need to further my knowledge and understanding of data science. Through this mentorship, I will learn about advanced data science techniques, and develop a structured approach toward analysis and problem-solving.'\n",
      " 'i want to be a data analyst'\n",
      " 'I am a passionate mathematician hence my love for data driven solutions.'\n",
      " 'I recently developed an interest on statistics and data and would like to learn more and more about it'\n",
      " 'I do believe and have testified from those that have undergone your program that indeed you have what I need to gain the necessary skills and knowledge in data science'\n",
      " 'I would like to interact with real world problems and solve and also get a mentor to help me in the field'\n",
      " 'To gain knowledge']\n",
      "\n",
      "Unique values in 'skill_level':\n",
      "['Beginner - I have NO learning or work experience in data analysis/ data science'\n",
      " 'Elementary - I have theoretical understanding of basic data analysis/ data science concepts'\n",
      " 'Intermediate - I have theoretical knowledge and experience in data analysis/ data science']\n",
      "\n",
      "Unique values in 'aptitude_completed':\n",
      "['Yes' 'No']\n",
      "\n",
      "Unique values in 'graduated':\n",
      "['No' 'Yes']\n"
     ]
    }
   ],
   "source": [
    "categorical_col = df2.select_dtypes(include= ['object']).columns\n",
    "for col in categorical_col:\n",
    "    print(f\"\\nUnique values in '{col}':\")\n",
    "    print(df2[col].unique())"
   ]
  },
  {
   "cell_type": "markdown",
   "id": "d1bade2e",
   "metadata": {},
   "source": [
    "3. Standardize Key Categorical Entries"
   ]
  },
  {
   "cell_type": "code",
   "execution_count": 14,
   "id": "6752851d",
   "metadata": {},
   "outputs": [],
   "source": [
    " # Gender -> {'Male','Female'}\n",
    "df2[\"gender\"] = df2[\"gender\"].str.title()\n",
    "\n",
    "# Country -> title case (handles 'Kenya', 'South Africa', etc.)\n",
    "df2[\"country\"] = df2[\"country\"].str.title()\n",
    "\n",
    "# Track -> title case but keep canonical forms\n",
    "df2[\"track\"] = df2[\"track\"].str.title().replace({\n",
    "    \"Data Science\": \"Data Science\",\n",
    "    \"Data Analysis\": \"Data Analysis\",\n",
    "})\n",
    "\n",
    "# Age ranges: keep as-is but ensure consistent hyphen and spacing\n",
    "df2[\"age_range\"] = df2[\"age_range\"].str.replace(r\"\\s*-\\s*\", \"-\", regex=True).str.replace(\"Years\", \"years\")\n",
    "\n",
    "# Hours per week -> normalize bucket labels\n",
    "df2[\"hours_per_week\"] = (\n",
    "    df2[\"hours_per_week\"]\n",
    "    .str.lower()\n",
    "    .replace({\n",
    "        \"less than 6 hours\": \"<6\",\n",
    "        \"7-14 hours\": \"7-14\",\n",
    "        \"more than 14 hours\": \">14\",\n",
    "    })\n",
    ")\n",
    "\n",
    "# Experience buckets -> normalize labels\n",
    "df2[\"experience_years\"] = (\n",
    "    df2[\"experience_years\"]\n",
    "    .str.lower()\n",
    "    .replace({\n",
    "        \"less than six months\": \"<6m\",\n",
    "        \"6 months - 1 year\": \"6m-1y\",\n",
    "        \"1-3 years\": \"1-3y\",\n",
    "        \"4-6 years\": \"4-6y\",\n",
    "    })\n",
    ")\n",
    "\n",
    "# # Yes/No binaries -> 1/0\n",
    "# yes_no_map = {\"Yes\": 1, \"No\": 0, \"yes\": 1, \"no\": 0}\n",
    "# df2[\"aptitude_completed\"] = df2[\"aptitude_completed\"].map(yes_no_map).astype(\"Int64\")\n",
    "# df2[\"graduated\"] = df2[\"graduated\"].map(yes_no_map).astype(\"Int64\")\n",
    "\n",
    "# Skill level -> ordered categories\n",
    "skill_order = [\n",
    "    \"Beginner - I have NO learning or work experience in data analysis/ data science\",\n",
    "    \"Elementary - I have theoretical understanding of basic data analysis/ data science concepts\",\n",
    "    \"Intermediate - I have theoretical knowledge and experience in data analysis/ data science\",\n",
    "]\n",
    "df2[\"skill_level\"] = pd.Categorical(df2[\"skill_level\"], categories=skill_order, ordered=True)\n"
   ]
  },
  {
   "cell_type": "code",
   "execution_count": 15,
   "id": "247420d6",
   "metadata": {},
   "outputs": [
    {
     "name": "stdout",
     "output_type": "stream",
     "text": [
      "            timestamp     id    age_range  gender country     ref_source  \\\n",
      "0  12/1/2024 23:50:47  DS301  18-24 years    Male   Kenya  Word of mouth   \n",
      "1   12/3/2024 9:35:19  DS302  25-34 years    Male   Kenya       WhatsApp   \n",
      "2  12/3/2024 19:16:49  DS303  18-24 years  Female   Kenya       WhatsApp   \n",
      "3  12/3/2024 12:52:36  DS304  18-24 years  Female   Kenya       WhatsApp   \n",
      "4  12/3/2024 18:12:27  DS305  18-24 years    Male   Kenya       WhatsApp   \n",
      "\n",
      "  experience_years         track hours_per_week main_aim  \\\n",
      "0              <6m  Data Science             <6  Upskill   \n",
      "1            6m-1y  Data Science            >14  Upskill   \n",
      "2            6m-1y  Data Science            >14  Upskill   \n",
      "3            6m-1y  Data Science           7-14  Upskill   \n",
      "4              <6m  Data Science           7-14  Upskill   \n",
      "\n",
      "                                          motivation  \\\n",
      "0             to enter into the data analysis career   \n",
      "1  To grow and improve my skills in data science ...   \n",
      "2  I’m motivated to join Everything Data to enhan...   \n",
      "3    I'd like to upskill and Join the Data Community   \n",
      "4  I aim to join the mentorship program to enhanc...   \n",
      "\n",
      "                                         skill_level aptitude_completed  \\\n",
      "0  Beginner - I have NO learning or work experien...                Yes   \n",
      "1  Elementary - I have theoretical understanding ...                Yes   \n",
      "2  Intermediate - I have theoretical knowledge an...                Yes   \n",
      "3  Intermediate - I have theoretical knowledge an...                Yes   \n",
      "4  Beginner - I have NO learning or work experien...                Yes   \n",
      "\n",
      "   total_score graduated  \n",
      "0        58.67        No  \n",
      "1        70.00        No  \n",
      "2        64.33       Yes  \n",
      "3        75.00        No  \n",
      "4        59.00        No  \n"
     ]
    }
   ],
   "source": [
    "print(df2.head())"
   ]
  },
  {
   "cell_type": "code",
   "execution_count": 16,
   "id": "05e4102b",
   "metadata": {},
   "outputs": [
    {
     "data": {
      "text/plain": [
       "timestamp               object\n",
       "id                      object\n",
       "age_range               object\n",
       "gender                  object\n",
       "country                 object\n",
       "ref_source              object\n",
       "experience_years        object\n",
       "track                   object\n",
       "hours_per_week          object\n",
       "main_aim                object\n",
       "motivation              object\n",
       "skill_level           category\n",
       "aptitude_completed      object\n",
       "total_score            float64\n",
       "graduated               object\n",
       "dtype: object"
      ]
     },
     "execution_count": 16,
     "metadata": {},
     "output_type": "execute_result"
    }
   ],
   "source": [
    "df2.dtypes"
   ]
  },
  {
   "cell_type": "code",
   "execution_count": 17,
   "id": "4fcec708",
   "metadata": {},
   "outputs": [
    {
     "name": "stdout",
     "output_type": "stream",
     "text": [
      "\n",
      "Unique values in 'timestamp':\n",
      "['12/1/2024 23:50:47' '12/3/2024 9:35:19' '12/3/2024 19:16:49'\n",
      " '12/3/2024 12:52:36' '12/3/2024 18:12:27' '11/27/2024 10:40:39'\n",
      " '11/28/2024 14:42:45' '12/3/2024 12:58:05' '12/1/2024 22:02:23'\n",
      " '12/2/2024 13:29:00' '12/3/2024 16:47:48' '12/2/2024 23:59:16'\n",
      " '12/3/2024 14:19:12' '11/27/2024 11:25:40' '11/28/2024 9:11:46'\n",
      " '12/3/2024 11:18:47' '11/27/2024 9:19:48' '11/28/2024 20:17:51'\n",
      " '12/2/2024 23:06:17' '12/2/2024 13:33:40' '12/3/2024 7:07:40'\n",
      " '12/2/2024 16:35:54' '11/28/2024 16:27:08' '12/3/2024 12:59:55'\n",
      " '11/27/2024 10:19:12' '11/28/2024 19:57:13' '12/3/2024 13:30:40'\n",
      " '11/27/2024 17:00:08' '12/2/2024 18:02:53' '12/3/2024 12:39:32'\n",
      " '12/3/2024 16:53:38' '12/1/2024 22:16:29' '12/2/2024 13:45:42'\n",
      " '12/2/2024 14:45:22' '12/2/2024 16:11:30' '12/1/2024 18:49:03'\n",
      " '12/2/2024 23:41:04' '12/3/2024 20:23:34' '11/28/2024 18:20:02'\n",
      " '12/2/2024 1:55:38' '12/1/2024 12:40:47' '12/3/2024 10:11:01'\n",
      " '12/3/2024 16:00:30' '12/1/2024 21:44:14' '11/29/2024 12:54:58'\n",
      " '12/3/2024 12:52:23' '11/27/2024 12:00:40' '12/2/2024 17:25:08'\n",
      " '12/2/2024 10:54:13' '12/3/2024 17:47:40' '11/28/2024 16:01:26'\n",
      " '12/3/2024 13:56:52' '11/27/2024 16:12:58' '12/3/2024 15:42:25'\n",
      " '11/27/2024 12:01:00' '12/3/2024 11:20:37' '12/2/2024 10:30:07'\n",
      " '11/27/2024 21:27:04' '11/28/2024 19:23:05' '12/3/2024 15:40:50'\n",
      " '12/1/2024 23:01:04' '11/29/2024 10:11:34' '12/3/2024 14:14:49']\n",
      "\n",
      "Unique values in 'id':\n",
      "['DS301' 'DS302' 'DS303' 'DS304' 'DS305' 'DS306' 'DS307' 'DS308' 'DS309'\n",
      " 'DS310' 'DS311' 'DS312' 'DS313' 'DS314' 'DS315' 'DS316' 'DS317' 'DS318'\n",
      " 'DS319' 'DS320' 'DS321' 'DS322' 'DS323' 'DS324' 'DS325' 'DS326' 'DS327'\n",
      " 'DS328' 'DS329' 'DS330' 'DS331' 'DS332' 'DS333' 'DS334' 'DS335' 'DS336'\n",
      " 'DS337' 'DS338' 'DS339' 'DS340' 'DS341' 'DS342' 'DS343' 'DS344' 'DS345'\n",
      " 'DS346' 'DS347' 'DS348' 'DS349' 'DS350' 'DS351' 'DS352' 'DS353' 'DS354'\n",
      " 'DS355' 'DS356' 'DS357' 'DS358' 'DS359' 'DS360' 'DS361' 'DS362' 'DS363']\n",
      "\n",
      "Unique values in 'age_range':\n",
      "['18-24 years' '25-34 years' '45-54 years' '35-44 years']\n",
      "\n",
      "Unique values in 'gender':\n",
      "['Male' 'Female']\n",
      "\n",
      "Unique values in 'country':\n",
      "['Kenya' 'South Africa']\n",
      "\n",
      "Unique values in 'ref_source':\n",
      "['Word of mouth' 'WhatsApp' 'Twitter' 'LinkedIn'\n",
      " 'through a geeks for geeks webinar' 'Instagram']\n",
      "\n",
      "Unique values in 'experience_years':\n",
      "['<6m' '6m-1y' '1-3y' '4-6y']\n",
      "\n",
      "Unique values in 'track':\n",
      "['Data Science' 'Data Analysis']\n",
      "\n",
      "Unique values in 'hours_per_week':\n",
      "['<6' '>14' '7-14']\n",
      "\n",
      "Unique values in 'main_aim':\n",
      "['Upskill' 'Learn data afresh' 'Connect with fellow data professionals'\n",
      " 'Build a project portfolio'\n",
      " 'both upskilling and connecting with fellow data professionals']\n",
      "\n",
      "Unique values in 'motivation':\n",
      "['to enter into the data analysis career'\n",
      " 'To grow and improve my skills in data science and also move with the changing trends in the world of data.'\n",
      " 'I’m motivated to join Everything Data to enhance my data analysis skills, gain mentorship, and develop soft skills to tackle healthcare challenges in Kenya and advance my career in bioinformatics.'\n",
      " \"I'd like to upskill and Join the Data Community\"\n",
      " 'I aim to join the mentorship program to enhance my data science skills and connect with industry experts, enabling me to impact economic, health, and environmental sectors.'\n",
      " 'The need to learn and get into understanding something and everything to do with data analytics and the application part and the inferences from data'\n",
      " 'To learn data science and develop skills necessary for my future ambitions'\n",
      " \"I'm eager to gain a solid foundation in data fundamentals and learn from experienced mentors who can guide me on my learning journey.\"\n",
      " 'I am inspired to make more data driven decisions in the business world.'\n",
      " 'This program offers me an invaluable opportunity to acquire specialized knowledge, gain practical experience, and refine my analytical skills under the guidance of experienced mentors.'\n",
      " 'To pivot to a Data Science career either by employment or freelance'\n",
      " 'My motivation to join the program stem from my passion for leveraging data to solve real-world problems and my desire to develop a strong foundation in data science. I see this program as a chance to gain hands on experience with real-world projects.'\n",
      " 'Become a good data scientist and be able to work in freelance or in a company.'\n",
      " 'To learn more about data and change my profession to be a data scientist'\n",
      " 'Desire to know more, grow and make an impact.'\n",
      " 'I am thrilled to join the program so that I can upscale my skills in data analytics. With my experience in analytics, system administration and software development, I aim to enhance my technical proficiency, tackle real-world data challenges'\n",
      " 'I am passionate to unskilled my passion for data science as the world is evolving to tech'\n",
      " 'Leaening with more experinced and mentors is a great opportunity'\n",
      " \"I am interested in learning AI, ML at a much deeper level than has been taught to me in my engineering course. I have projects I would like to begin, like using AI to assist in electrical engineering design. I'm confident in my ability to learn fast.\"\n",
      " 'I need to get a job'\n",
      " 'I am passionate about data for health care and I am looking into pivoting into the field'\n",
      " 'Connect with fellow data Professionals'\n",
      " 'To get an opportunity to advance in my career as I also sharpen my skills'\n",
      " 'I’m excited to join the Everything Data mentorship program to expand my knowledge in data science. With my background in web development and cloud services, I’m eager to learn how to integrate data-driven insights into my projects and grow my skills'\n",
      " 'Getting access to better training and understanding matters to do with Data Science.'\n",
      " 'I would like to pursue a career as a data scientist and help organizations make data driven decisions'\n",
      " 'I would like to be a part of the global shift towards a data driven era, of informed decision-making, problem-solving, and impactful operations.\\nI am intrigued too by the fact that, data science is not only intellectually rewarding but versatile too.'\n",
      " 'I am motivated by the fact that this opportunity will enable me upskill and lead me toward realising my career goals'\n",
      " 'I want to be part of a community' 'Desire to upgrade and learn more'\n",
      " 'I am eager to learn data science. I have a very big interest in it and I am ready to commit to learning it.'\n",
      " 'I would like to pivot from the healthcare career path and merge it with data skills.'\n",
      " 'The opportunity to link with other people in the same field; get to learn on how the best in the field actually do it; hopefully get a job'\n",
      " 'I’m motivated to enhance my skills in data science, Python, and visualization while gaining practical insights from experienced mentors. This program will help me build a strong foundation and connect with like minded professionals.'\n",
      " 'I intend to do a masters in genetic engineering and a good understanding of data would enable me to learn with ease and enable me to have better understanding of the degree as scientific work involves a lot of data analysis and interpretation.'\n",
      " \"Joining the Everything Data Mentorship program aligns with my goal of building expertise in Data science and machine learning while exploring real world applications. It's also a chance to network with my fellow peers and other industrial experts\"\n",
      " 'To learn a new skill so as to supplement my engineering skills'\n",
      " 'To make predictive models'\n",
      " 'I am a Computer Science student eager to gain practical data science skills through mentorship.'\n",
      " 'The world is fast embracing IT and Tech to provide a variety of solutions to modern-day problems. I am inclined to learn Data Science to equip myself with the necessary skills and knowledge to go about it. I am grateful for this chance to be on board'\n",
      " 'My motivation to join is brought about by the free chance and platform where I can learn DS afresh. I need to upskill myself and put myself in a path where i can be able to make a living via Data Science.'\n",
      " 'By enrolling in the Everything Data mentorship program, I hope to close the knowledge gap I have in economics and statistics, develop advanced data analytics abilities,\\xa0make wise decisions, and develop into a dynamic and creative finance expert.'\n",
      " 'Thank you so much for this opportunity. I am in a space of building my career in tech, and this is a great opportunity to advance in tech. I will be so greatful given the opportunity'\n",
      " 'I have had the greatest need to want to upskill to the next level in data which is data science. I happened to stumble upon this great chance to not only be taught but to also receive mentorship in the data science field which is really amazing.'\n",
      " '’m eager to join the Everything Data mentorship program to enhance my data analysis skills and learn from experienced mentors. I believe this opportunity will help me grow professionally and apply data-driven solutions to real-world challenges.'\n",
      " 'To learn more on Data'\n",
      " 'I want to have a starting point in this field as well as connect with a mentor'\n",
      " 'Numbers speak to me and I would like to learn more on how to tell stories using numbers. I have a great passion for being a part of decision making by looking at trends and finding a pattern. I believe where we are headed, data is everything.'\n",
      " 'I seek to join the data mentorship program to build skills, gain real-world experience, and get expert guidance. Aligned with my goals, I’m passionate about data’s impact and eager to connect with professionals while contributing meaningfully.'\n",
      " 'What used to be a foreign discipline, data science, has now fascinated me and is now something I want to develop further and use its capability to help deal with practical problems, particularly in geospatial applications.'\n",
      " \"I've seen data’s power to tackle challenges like youth unemployment. I aim to deepen my skills to analyze trends and create opportunities. This course offers the knowledge I need to drive change and craft solutions in HR for a more equitable society.\"\n",
      " 'My interests lie in using data to improve healthcare, focusing on precision medicine. I gained skills in UNIX, Bash, R, and HPCs.Learning Python to broaden my skills currently. This mentorship will help bridge my transition to health data science.'\n",
      " 'I am passionate about data science and eager to join the mentorship program to enhance my skills, gain insights from industry leaders, and collaborate with peers. My goal is to leverage data for impactful solutions and drive positive change.'\n",
      " 'My motivation to join the Everything Data mentorship program stems from my strong passion for data science and my desire to further develop my skills in this field.'\n",
      " 'my motivation is to learn and expand my knowledge to solve data science poblems'\n",
      " 'I want to meet people in the same field and also get mentorship'\n",
      " 'I am motivated by my dire need to further my knowledge and understanding of data science. Through this mentorship, I will learn about advanced data science techniques, and develop a structured approach toward analysis and problem-solving.'\n",
      " 'i want to be a data analyst'\n",
      " 'I am a passionate mathematician hence my love for data driven solutions.'\n",
      " 'I recently developed an interest on statistics and data and would like to learn more and more about it'\n",
      " 'I do believe and have testified from those that have undergone your program that indeed you have what I need to gain the necessary skills and knowledge in data science'\n",
      " 'I would like to interact with real world problems and solve and also get a mentor to help me in the field'\n",
      " 'To gain knowledge']\n",
      "\n",
      "Unique values in 'aptitude_completed':\n",
      "['Yes' 'No']\n",
      "\n",
      "Unique values in 'graduated':\n",
      "['No' 'Yes']\n"
     ]
    }
   ],
   "source": [
    "categorical_col = df2.select_dtypes(include= ['object']).columns\n",
    "for col in categorical_col:\n",
    "    print(f\"\\nUnique values in '{col}':\")\n",
    "    print(df2[col].unique())"
   ]
  },
  {
   "cell_type": "code",
   "execution_count": 18,
   "id": "61469f70",
   "metadata": {},
   "outputs": [],
   "source": [
    "numerical = df2.select_dtypes(include= [\"int64\"]).columns\n",
    "for col in numerical:\n",
    "    print(f\"\\nUnique values in '{col}':\")\n",
    "    print(df2[col].unique())"
   ]
  },
  {
   "cell_type": "markdown",
   "id": "1bd45523",
   "metadata": {},
   "source": [
    "4. Timestamp → Month Feature"
   ]
  },
  {
   "cell_type": "code",
   "execution_count": 19,
   "id": "61dfb751",
   "metadata": {},
   "outputs": [
    {
     "data": {
      "text/plain": [
       "Index(['timestamp', 'id', 'age_range', 'gender', 'country', 'ref_source',\n",
       "       'experience_years', 'track', 'hours_per_week', 'main_aim', 'motivation',\n",
       "       'skill_level', 'aptitude_completed', 'total_score', 'graduated'],\n",
       "      dtype='object')"
      ]
     },
     "execution_count": 19,
     "metadata": {},
     "output_type": "execute_result"
    }
   ],
   "source": [
    "df2.columns"
   ]
  },
  {
   "cell_type": "code",
   "execution_count": 20,
   "id": "b5578fd2",
   "metadata": {},
   "outputs": [
    {
     "name": "stderr",
     "output_type": "stream",
     "text": [
      "C:\\Users\\HomePC\\AppData\\Local\\Temp\\ipykernel_21632\\1438191447.py:2: UserWarning: The argument 'infer_datetime_format' is deprecated and will be removed in a future version. A strict version of it is now the default, see https://pandas.pydata.org/pdeps/0004-consistent-to-datetime-parsing.html. You can safely remove this argument.\n",
      "  df2['timestamp'] = pd.to_datetime(df2['timestamp'], errors= 'coerce', infer_datetime_format= True)\n"
     ]
    }
   ],
   "source": [
    "# Parse timestamp (day-first appears unlikely; dataset seems M/D/Y H:M:S)\n",
    "df2['timestamp'] = pd.to_datetime(df2['timestamp'], errors= 'coerce', infer_datetime_format= True)\n",
    "\n",
    "# Extract month number and month name\n",
    "df2[\"month\"] = df2[\"timestamp\"].dt.month\n",
    "df2[\"month_name\"] = df2[\"timestamp\"].dt.month_name().str[:3]\n"
   ]
  },
  {
   "cell_type": "code",
   "execution_count": 21,
   "id": "e0d6b759",
   "metadata": {},
   "outputs": [
    {
     "data": {
      "text/plain": [
       "Index(['timestamp', 'id', 'age_range', 'gender', 'country', 'ref_source',\n",
       "       'experience_years', 'track', 'hours_per_week', 'main_aim', 'motivation',\n",
       "       'skill_level', 'aptitude_completed', 'total_score', 'graduated',\n",
       "       'month', 'month_name'],\n",
       "      dtype='object')"
      ]
     },
     "execution_count": 21,
     "metadata": {},
     "output_type": "execute_result"
    }
   ],
   "source": [
    "df2.columns"
   ]
  },
  {
   "cell_type": "code",
   "execution_count": 22,
   "id": "1227e606",
   "metadata": {},
   "outputs": [
    {
     "data": {
      "text/html": [
       "<div>\n",
       "<style scoped>\n",
       "    .dataframe tbody tr th:only-of-type {\n",
       "        vertical-align: middle;\n",
       "    }\n",
       "\n",
       "    .dataframe tbody tr th {\n",
       "        vertical-align: top;\n",
       "    }\n",
       "\n",
       "    .dataframe thead th {\n",
       "        text-align: right;\n",
       "    }\n",
       "</style>\n",
       "<table border=\"1\" class=\"dataframe\">\n",
       "  <thead>\n",
       "    <tr style=\"text-align: right;\">\n",
       "      <th></th>\n",
       "      <th>month</th>\n",
       "      <th>month_name</th>\n",
       "    </tr>\n",
       "  </thead>\n",
       "  <tbody>\n",
       "    <tr>\n",
       "      <th>0</th>\n",
       "      <td>12</td>\n",
       "      <td>Dec</td>\n",
       "    </tr>\n",
       "    <tr>\n",
       "      <th>1</th>\n",
       "      <td>12</td>\n",
       "      <td>Dec</td>\n",
       "    </tr>\n",
       "    <tr>\n",
       "      <th>2</th>\n",
       "      <td>12</td>\n",
       "      <td>Dec</td>\n",
       "    </tr>\n",
       "    <tr>\n",
       "      <th>3</th>\n",
       "      <td>12</td>\n",
       "      <td>Dec</td>\n",
       "    </tr>\n",
       "    <tr>\n",
       "      <th>4</th>\n",
       "      <td>12</td>\n",
       "      <td>Dec</td>\n",
       "    </tr>\n",
       "  </tbody>\n",
       "</table>\n",
       "</div>"
      ],
      "text/plain": [
       "   month month_name\n",
       "0     12        Dec\n",
       "1     12        Dec\n",
       "2     12        Dec\n",
       "3     12        Dec\n",
       "4     12        Dec"
      ]
     },
     "execution_count": 22,
     "metadata": {},
     "output_type": "execute_result"
    }
   ],
   "source": [
    "df2[[\"month\", \"month_name\"]].head()"
   ]
  },
  {
   "cell_type": "code",
   "execution_count": 23,
   "id": "bbd9694a",
   "metadata": {},
   "outputs": [
    {
     "name": "stdout",
     "output_type": "stream",
     "text": [
      "\n",
      "Unique values in 'id':\n",
      "['DS301' 'DS302' 'DS303' 'DS304' 'DS305' 'DS306' 'DS307' 'DS308' 'DS309'\n",
      " 'DS310' 'DS311' 'DS312' 'DS313' 'DS314' 'DS315' 'DS316' 'DS317' 'DS318'\n",
      " 'DS319' 'DS320' 'DS321' 'DS322' 'DS323' 'DS324' 'DS325' 'DS326' 'DS327'\n",
      " 'DS328' 'DS329' 'DS330' 'DS331' 'DS332' 'DS333' 'DS334' 'DS335' 'DS336'\n",
      " 'DS337' 'DS338' 'DS339' 'DS340' 'DS341' 'DS342' 'DS343' 'DS344' 'DS345'\n",
      " 'DS346' 'DS347' 'DS348' 'DS349' 'DS350' 'DS351' 'DS352' 'DS353' 'DS354'\n",
      " 'DS355' 'DS356' 'DS357' 'DS358' 'DS359' 'DS360' 'DS361' 'DS362' 'DS363']\n",
      "\n",
      "Unique values in 'age_range':\n",
      "['18-24 years' '25-34 years' '45-54 years' '35-44 years']\n",
      "\n",
      "Unique values in 'gender':\n",
      "['Male' 'Female']\n",
      "\n",
      "Unique values in 'country':\n",
      "['Kenya' 'South Africa']\n",
      "\n",
      "Unique values in 'ref_source':\n",
      "['Word of mouth' 'WhatsApp' 'Twitter' 'LinkedIn'\n",
      " 'through a geeks for geeks webinar' 'Instagram']\n",
      "\n",
      "Unique values in 'experience_years':\n",
      "['<6m' '6m-1y' '1-3y' '4-6y']\n",
      "\n",
      "Unique values in 'track':\n",
      "['Data Science' 'Data Analysis']\n",
      "\n",
      "Unique values in 'hours_per_week':\n",
      "['<6' '>14' '7-14']\n",
      "\n",
      "Unique values in 'main_aim':\n",
      "['Upskill' 'Learn data afresh' 'Connect with fellow data professionals'\n",
      " 'Build a project portfolio'\n",
      " 'both upskilling and connecting with fellow data professionals']\n",
      "\n",
      "Unique values in 'motivation':\n",
      "['to enter into the data analysis career'\n",
      " 'To grow and improve my skills in data science and also move with the changing trends in the world of data.'\n",
      " 'I’m motivated to join Everything Data to enhance my data analysis skills, gain mentorship, and develop soft skills to tackle healthcare challenges in Kenya and advance my career in bioinformatics.'\n",
      " \"I'd like to upskill and Join the Data Community\"\n",
      " 'I aim to join the mentorship program to enhance my data science skills and connect with industry experts, enabling me to impact economic, health, and environmental sectors.'\n",
      " 'The need to learn and get into understanding something and everything to do with data analytics and the application part and the inferences from data'\n",
      " 'To learn data science and develop skills necessary for my future ambitions'\n",
      " \"I'm eager to gain a solid foundation in data fundamentals and learn from experienced mentors who can guide me on my learning journey.\"\n",
      " 'I am inspired to make more data driven decisions in the business world.'\n",
      " 'This program offers me an invaluable opportunity to acquire specialized knowledge, gain practical experience, and refine my analytical skills under the guidance of experienced mentors.'\n",
      " 'To pivot to a Data Science career either by employment or freelance'\n",
      " 'My motivation to join the program stem from my passion for leveraging data to solve real-world problems and my desire to develop a strong foundation in data science. I see this program as a chance to gain hands on experience with real-world projects.'\n",
      " 'Become a good data scientist and be able to work in freelance or in a company.'\n",
      " 'To learn more about data and change my profession to be a data scientist'\n",
      " 'Desire to know more, grow and make an impact.'\n",
      " 'I am thrilled to join the program so that I can upscale my skills in data analytics. With my experience in analytics, system administration and software development, I aim to enhance my technical proficiency, tackle real-world data challenges'\n",
      " 'I am passionate to unskilled my passion for data science as the world is evolving to tech'\n",
      " 'Leaening with more experinced and mentors is a great opportunity'\n",
      " \"I am interested in learning AI, ML at a much deeper level than has been taught to me in my engineering course. I have projects I would like to begin, like using AI to assist in electrical engineering design. I'm confident in my ability to learn fast.\"\n",
      " 'I need to get a job'\n",
      " 'I am passionate about data for health care and I am looking into pivoting into the field'\n",
      " 'Connect with fellow data Professionals'\n",
      " 'To get an opportunity to advance in my career as I also sharpen my skills'\n",
      " 'I’m excited to join the Everything Data mentorship program to expand my knowledge in data science. With my background in web development and cloud services, I’m eager to learn how to integrate data-driven insights into my projects and grow my skills'\n",
      " 'Getting access to better training and understanding matters to do with Data Science.'\n",
      " 'I would like to pursue a career as a data scientist and help organizations make data driven decisions'\n",
      " 'I would like to be a part of the global shift towards a data driven era, of informed decision-making, problem-solving, and impactful operations.\\nI am intrigued too by the fact that, data science is not only intellectually rewarding but versatile too.'\n",
      " 'I am motivated by the fact that this opportunity will enable me upskill and lead me toward realising my career goals'\n",
      " 'I want to be part of a community' 'Desire to upgrade and learn more'\n",
      " 'I am eager to learn data science. I have a very big interest in it and I am ready to commit to learning it.'\n",
      " 'I would like to pivot from the healthcare career path and merge it with data skills.'\n",
      " 'The opportunity to link with other people in the same field; get to learn on how the best in the field actually do it; hopefully get a job'\n",
      " 'I’m motivated to enhance my skills in data science, Python, and visualization while gaining practical insights from experienced mentors. This program will help me build a strong foundation and connect with like minded professionals.'\n",
      " 'I intend to do a masters in genetic engineering and a good understanding of data would enable me to learn with ease and enable me to have better understanding of the degree as scientific work involves a lot of data analysis and interpretation.'\n",
      " \"Joining the Everything Data Mentorship program aligns with my goal of building expertise in Data science and machine learning while exploring real world applications. It's also a chance to network with my fellow peers and other industrial experts\"\n",
      " 'To learn a new skill so as to supplement my engineering skills'\n",
      " 'To make predictive models'\n",
      " 'I am a Computer Science student eager to gain practical data science skills through mentorship.'\n",
      " 'The world is fast embracing IT and Tech to provide a variety of solutions to modern-day problems. I am inclined to learn Data Science to equip myself with the necessary skills and knowledge to go about it. I am grateful for this chance to be on board'\n",
      " 'My motivation to join is brought about by the free chance and platform where I can learn DS afresh. I need to upskill myself and put myself in a path where i can be able to make a living via Data Science.'\n",
      " 'By enrolling in the Everything Data mentorship program, I hope to close the knowledge gap I have in economics and statistics, develop advanced data analytics abilities,\\xa0make wise decisions, and develop into a dynamic and creative finance expert.'\n",
      " 'Thank you so much for this opportunity. I am in a space of building my career in tech, and this is a great opportunity to advance in tech. I will be so greatful given the opportunity'\n",
      " 'I have had the greatest need to want to upskill to the next level in data which is data science. I happened to stumble upon this great chance to not only be taught but to also receive mentorship in the data science field which is really amazing.'\n",
      " '’m eager to join the Everything Data mentorship program to enhance my data analysis skills and learn from experienced mentors. I believe this opportunity will help me grow professionally and apply data-driven solutions to real-world challenges.'\n",
      " 'To learn more on Data'\n",
      " 'I want to have a starting point in this field as well as connect with a mentor'\n",
      " 'Numbers speak to me and I would like to learn more on how to tell stories using numbers. I have a great passion for being a part of decision making by looking at trends and finding a pattern. I believe where we are headed, data is everything.'\n",
      " 'I seek to join the data mentorship program to build skills, gain real-world experience, and get expert guidance. Aligned with my goals, I’m passionate about data’s impact and eager to connect with professionals while contributing meaningfully.'\n",
      " 'What used to be a foreign discipline, data science, has now fascinated me and is now something I want to develop further and use its capability to help deal with practical problems, particularly in geospatial applications.'\n",
      " \"I've seen data’s power to tackle challenges like youth unemployment. I aim to deepen my skills to analyze trends and create opportunities. This course offers the knowledge I need to drive change and craft solutions in HR for a more equitable society.\"\n",
      " 'My interests lie in using data to improve healthcare, focusing on precision medicine. I gained skills in UNIX, Bash, R, and HPCs.Learning Python to broaden my skills currently. This mentorship will help bridge my transition to health data science.'\n",
      " 'I am passionate about data science and eager to join the mentorship program to enhance my skills, gain insights from industry leaders, and collaborate with peers. My goal is to leverage data for impactful solutions and drive positive change.'\n",
      " 'My motivation to join the Everything Data mentorship program stems from my strong passion for data science and my desire to further develop my skills in this field.'\n",
      " 'my motivation is to learn and expand my knowledge to solve data science poblems'\n",
      " 'I want to meet people in the same field and also get mentorship'\n",
      " 'I am motivated by my dire need to further my knowledge and understanding of data science. Through this mentorship, I will learn about advanced data science techniques, and develop a structured approach toward analysis and problem-solving.'\n",
      " 'i want to be a data analyst'\n",
      " 'I am a passionate mathematician hence my love for data driven solutions.'\n",
      " 'I recently developed an interest on statistics and data and would like to learn more and more about it'\n",
      " 'I do believe and have testified from those that have undergone your program that indeed you have what I need to gain the necessary skills and knowledge in data science'\n",
      " 'I would like to interact with real world problems and solve and also get a mentor to help me in the field'\n",
      " 'To gain knowledge']\n",
      "\n",
      "Unique values in 'aptitude_completed':\n",
      "['Yes' 'No']\n",
      "\n",
      "Unique values in 'graduated':\n",
      "['No' 'Yes']\n",
      "\n",
      "Unique values in 'month_name':\n",
      "['Dec' 'Nov']\n"
     ]
    }
   ],
   "source": [
    "categorical_col = df2.select_dtypes(include= ['object']).columns\n",
    "for col in categorical_col:\n",
    "    print(f\"\\nUnique values in '{col}':\")\n",
    "    print(df2[col].unique())"
   ]
  },
  {
   "cell_type": "markdown",
   "id": "1c86b572",
   "metadata": {},
   "source": [
    "5) Handle Missing Values (Robust Defaults)"
   ]
  },
  {
   "cell_type": "code",
   "execution_count": 24,
   "id": "30401d30",
   "metadata": {},
   "outputs": [
    {
     "data": {
      "text/plain": [
       "timestamp             0\n",
       "id                    0\n",
       "age_range             0\n",
       "gender                0\n",
       "country               0\n",
       "ref_source            0\n",
       "experience_years      0\n",
       "track                 0\n",
       "hours_per_week        0\n",
       "main_aim              0\n",
       "motivation            0\n",
       "skill_level           0\n",
       "aptitude_completed    0\n",
       "total_score           0\n",
       "graduated             0\n",
       "month                 0\n",
       "month_name            0\n",
       "dtype: int64"
      ]
     },
     "execution_count": 24,
     "metadata": {},
     "output_type": "execute_result"
    }
   ],
   "source": [
    "df2.isna().sum()"
   ]
  },
  {
   "cell_type": "markdown",
   "id": "06ddadac",
   "metadata": {},
   "source": [
    "6) Check Duplicates & Obvious Inconsistencies"
   ]
  },
  {
   "cell_type": "code",
   "execution_count": 25,
   "id": "19e0925e",
   "metadata": {},
   "outputs": [
    {
     "data": {
      "text/plain": [
       "0"
      ]
     },
     "execution_count": 25,
     "metadata": {},
     "output_type": "execute_result"
    }
   ],
   "source": [
    "# check by full row\n",
    "df2.duplicated().sum()"
   ]
  },
  {
   "cell_type": "code",
   "execution_count": 26,
   "id": "674d519b",
   "metadata": {},
   "outputs": [
    {
     "data": {
      "text/plain": [
       "Index(['timestamp', 'id', 'age_range', 'gender', 'country', 'ref_source',\n",
       "       'experience_years', 'track', 'hours_per_week', 'main_aim', 'motivation',\n",
       "       'skill_level', 'aptitude_completed', 'total_score', 'graduated',\n",
       "       'month', 'month_name'],\n",
       "      dtype='object')"
      ]
     },
     "execution_count": 26,
     "metadata": {},
     "output_type": "execute_result"
    }
   ],
   "source": [
    "df2.columns"
   ]
  },
  {
   "cell_type": "code",
   "execution_count": 27,
   "id": "88ef811d",
   "metadata": {},
   "outputs": [
    {
     "data": {
      "text/plain": [
       "0"
      ]
     },
     "execution_count": 27,
     "metadata": {},
     "output_type": "execute_result"
    }
   ],
   "source": [
    "# Duplicates by ID (if ID should be unique)\n",
    "df2[\"id\"].duplicated().sum()"
   ]
  },
  {
   "cell_type": "markdown",
   "id": "9cd27f51",
   "metadata": {},
   "source": [
    "7) Simple text feature from motivation\n"
   ]
  },
  {
   "cell_type": "markdown",
   "id": "553ec8a3",
   "metadata": {},
   "source": [
    "### Why Engineer a Proxy Feature for `motivation`?\n",
    "\n",
    "The `motivation` column contains free-text responses, which makes it a **high-cardinality feature** with potentially hundreds or thousands of unique entries. Directly encoding such data (e.g., through one-hot encoding or label encoding) would create a sparse, high-dimensional dataset that is inefficient and may not improve model performance.\n",
    "\n",
    "To address this, a **proxy feature** is engineered by calculating the **length of each text response**. This simple numeric representation reduces the complexity of the free-text field while still capturing useful information (e.g., longer responses may indicate stronger or more detailed motivations).\n",
    "\n",
    "This approach ensures:\n",
    "- **Efficiency**: Converts unstructured text into a single numeric feature.  \n",
    "- **Interpretability**: Easy to understand and explain in analysis.  \n",
    "- **Model Performance**: Provides structured input that models can process effectively.  \n"
   ]
  },
  {
   "cell_type": "code",
   "execution_count": 28,
   "id": "c778a8f1",
   "metadata": {},
   "outputs": [
    {
     "data": {
      "text/plain": [
       "0     38\n",
       "1    106\n",
       "2    196\n",
       "3     47\n",
       "4    172\n",
       "Name: motivation_len, dtype: int64"
      ]
     },
     "execution_count": 28,
     "metadata": {},
     "output_type": "execute_result"
    }
   ],
   "source": [
    "df2[\"motivation_len\"] = df2[\"motivation\"].fillna(\"\").str.len()\n",
    "df2[\"motivation_len\"].head()"
   ]
  },
  {
   "cell_type": "markdown",
   "id": "be2edd89",
   "metadata": {},
   "source": [
    "## Data Cleaning and Preparation\n",
    "\n",
    "This phase focuses on transforming the raw dataset into a clean, consistent, and analysis-ready form.  \n",
    "The main goals were to standardize structure, handle missing or inconsistent values, and engineer simple yet meaningful features to improve downstream modeling.\n",
    "\n",
    "Steps completed:\n",
    "1. **Simplify / Standardize Column Names** – ensured consistent, machine-friendly naming.  \n",
    "2. **Basic String Cleaning for Categorical Columns** – removed extra spaces, fixed casing, etc.  \n",
    "3. **Standardize Key Categorical Entries** – merged duplicates (e.g., variations of the same category).  \n",
    "4. **Timestamp → Month Feature** – extracted month from dates for seasonality patterns.  \n",
    "5. **Handle Missing Values (Robust Defaults)** – imputed with sensible defaults.  \n",
    "6. **Check Duplicates & Obvious Inconsistencies** – removed redundant records.  \n",
    "7. **Simple Text Feature from `motivation`** – engineered a proxy feature (`text_length`) to capture information from free-text input.  \n",
    "\n",
    "Steps deferred or discarded:\n",
    "- **Encode Categorical Variables** – deferred to modeling stage.  \n"
   ]
  },
  {
   "cell_type": "markdown",
   "id": "4a4e7495",
   "metadata": {},
   "source": [
    "## Exploratory Data Analysis (EDA)\n",
    "\n",
    "In this phase, we explore the cleaned dataset to uncover patterns, trends, and insights across participant demographics, experience, motivations, and performance metrics.  \n",
    "The analysis is structured into three main areas:\n",
    "\n",
    "### 1. Demographics Analysis\n",
    "- Age range distribution  \n",
    "- Gender and country breakdown  \n",
    "- Track-wise participant distribution  \n",
    "\n",
    "### 2. Experience & Motivation\n",
    "- Years of learning experience vs. graduation rate  \n",
    "- Hours per week availability vs. performance  \n",
    "- Motivation for joining analysis (via word cloud or category frequency)  \n",
    "\n",
    "### 3. Performance Metrics\n",
    "- Distribution of aptitude test completion and total scores  \n",
    "- Correlation matrix between numerical features and graduation status  \n",
    "\n",
    "### Visualizations\n",
    "Histograms, bar charts, boxplots, and heatmaps will be used (via Matplotlib/Seaborn) to support interpretation and highlight key insights.\n"
   ]
  },
  {
   "cell_type": "code",
   "execution_count": 29,
   "id": "3cbacc69",
   "metadata": {},
   "outputs": [
    {
     "data": {
      "text/plain": [
       "Index(['timestamp', 'id', 'age_range', 'gender', 'country', 'ref_source',\n",
       "       'experience_years', 'track', 'hours_per_week', 'main_aim', 'motivation',\n",
       "       'skill_level', 'aptitude_completed', 'total_score', 'graduated',\n",
       "       'month', 'month_name', 'motivation_len'],\n",
       "      dtype='object')"
      ]
     },
     "execution_count": 29,
     "metadata": {},
     "output_type": "execute_result"
    }
   ],
   "source": [
    "df2.columns"
   ]
  },
  {
   "cell_type": "markdown",
   "id": "d6998195",
   "metadata": {},
   "source": [
    "# Demographics Analysis"
   ]
  },
  {
   "cell_type": "code",
   "execution_count": 30,
   "id": "5b9beac6",
   "metadata": {},
   "outputs": [],
   "source": [
    "import matplotlib.pyplot as plt\n",
    "import seaborn as sns\n",
    "\n",
    "sns.set_theme(style=\"whitegrid\")"
   ]
  },
  {
   "cell_type": "markdown",
   "id": "a28b81e0",
   "metadata": {},
   "source": [
    "# Age Range Distribution"
   ]
  },
  {
   "cell_type": "code",
   "execution_count": 31,
   "id": "969c6897",
   "metadata": {},
   "outputs": [
    {
     "name": "stderr",
     "output_type": "stream",
     "text": [
      "C:\\Users\\HomePC\\AppData\\Local\\Temp\\ipykernel_21632\\1151470220.py:4: FutureWarning: \n",
      "\n",
      "Passing `palette` without assigning `hue` is deprecated and will be removed in v0.14.0. Assign the `x` variable to `hue` and set `legend=False` for the same effect.\n",
      "\n",
      "  sns.countplot(data= df2, x= 'age_range', palette= 'pastel', order= df2['age_range'].value_counts().index)\n"
     ]
    },
    {
     "data": {
      "image/png": "[encoded data removed]",
      "text/plain": [
       "<Figure size 800x500 with 1 Axes>"
      ]
     },
     "metadata": {},
     "output_type": "display_data"
    }
   ],
   "source": [
    "# Age range count plot\n",
    "\n",
    "plt.figure(figsize= (8,5))\n",
    "sns.countplot(data= df2, x= 'age_range', palette= 'pastel', order= df2['age_range'].value_counts().index)\n",
    "plt.title('Age Range Distribution of Participants', fontsize= 14)\n",
    "plt.xlabel('Age Range')\n",
    "plt.ylabel('Number of Participants')\n",
    "plt.show()"
   ]
  },
  {
   "cell_type": "code",
   "execution_count": 39,
   "id": "8571552a",
   "metadata": {},
   "outputs": [
    {
     "data": {
      "text/plain": [
       "age_range\n",
       "18-24 years    38\n",
       "25-34 years    23\n",
       "45-54 years     1\n",
       "35-44 years     1\n",
       "Name: count, dtype: int64"
      ]
     },
     "execution_count": 39,
     "metadata": {},
     "output_type": "execute_result"
    }
   ],
   "source": [
    "df2[\"age_range\"].value_counts()"
   ]
  },
  {
   "cell_type": "markdown",
   "id": "8f8edfb2",
   "metadata": {},
   "source": [
    "Majority of the participants are betweeb 18 - 24 years\n",
    "\n",
    "age_range\n",
    "\n",
    "18-24 years    38\n",
    "\n",
    "25-34 years    23\n",
    "\n",
    "45-54 years     1\n",
    "\n",
    "35-44 years     1\n"
   ]
  },
  {
   "cell_type": "markdown",
   "id": "d7aa1a7d",
   "metadata": {},
   "source": [
    "# Gender Distribution"
   ]
  },
  {
   "cell_type": "code",
   "execution_count": 32,
   "id": "d4ebba1c",
   "metadata": {},
   "outputs": [
    {
     "data": {
      "text/plain": [
       "Index(['timestamp', 'id', 'age_range', 'gender', 'country', 'ref_source',\n",
       "       'experience_years', 'track', 'hours_per_week', 'main_aim', 'motivation',\n",
       "       'skill_level', 'aptitude_completed', 'total_score', 'graduated',\n",
       "       'month', 'month_name', 'motivation_len'],\n",
       "      dtype='object')"
      ]
     },
     "execution_count": 32,
     "metadata": {},
     "output_type": "execute_result"
    }
   ],
   "source": [
    "df2.columns"
   ]
  },
  {
   "cell_type": "code",
   "execution_count": 33,
   "id": "ef4b51f6",
   "metadata": {},
   "outputs": [
    {
     "name": "stderr",
     "output_type": "stream",
     "text": [
      "C:\\Users\\HomePC\\AppData\\Local\\Temp\\ipykernel_21632\\99370645.py:3: FutureWarning: \n",
      "\n",
      "Passing `palette` without assigning `hue` is deprecated and will be removed in v0.14.0. Assign the `x` variable to `hue` and set `legend=False` for the same effect.\n",
      "\n",
      "  sns.countplot(data=df2, x='gender', palette='Set2', order=df2['gender'].value_counts().index)\n"
     ]
    },
    {
     "data": {
      "image/png": "[encoded data removed]",
      "text/plain": [
       "<Figure size 600x400 with 1 Axes>"
      ]
     },
     "metadata": {},
     "output_type": "display_data"
    }
   ],
   "source": [
    "# Gender count plot\n",
    "plt.figure(figsize=(6,4))\n",
    "sns.countplot(data=df2, x='gender', palette='Set2', order=df2['gender'].value_counts().index)\n",
    "plt.title('Gender Distribution of Participants', fontsize=14)\n",
    "plt.xlabel('Gender')\n",
    "plt.ylabel('Number of Participants')\n",
    "plt.show()\n"
   ]
  },
  {
   "cell_type": "code",
   "execution_count": 40,
   "id": "674d8e4e",
   "metadata": {},
   "outputs": [
    {
     "data": {
      "text/plain": [
       "gender\n",
       "Male      37\n",
       "Female    26\n",
       "Name: count, dtype: int64"
      ]
     },
     "execution_count": 40,
     "metadata": {},
     "output_type": "execute_result"
    }
   ],
   "source": [
    "df2.gender.value_counts()"
   ]
  },
  {
   "cell_type": "markdown",
   "id": "a05660c8",
   "metadata": {},
   "source": [
    "More males than females joined the program with 37 males"
   ]
  },
  {
   "cell_type": "markdown",
   "id": "14367afd",
   "metadata": {},
   "source": [
    "# Country Distribution"
   ]
  },
  {
   "cell_type": "code",
   "execution_count": 35,
   "id": "734faa47",
   "metadata": {},
   "outputs": [
    {
     "data": {
      "text/plain": [
       "Index(['timestamp', 'id', 'age_range', 'gender', 'country', 'ref_source',\n",
       "       'experience_years', 'track', 'hours_per_week', 'main_aim', 'motivation',\n",
       "       'skill_level', 'aptitude_completed', 'total_score', 'graduated',\n",
       "       'month', 'month_name', 'motivation_len'],\n",
       "      dtype='object')"
      ]
     },
     "execution_count": 35,
     "metadata": {},
     "output_type": "execute_result"
    }
   ],
   "source": [
    "df2.columns"
   ]
  },
  {
   "cell_type": "code",
   "execution_count": 37,
   "id": "c9f99638",
   "metadata": {},
   "outputs": [
    {
     "name": "stderr",
     "output_type": "stream",
     "text": [
      "C:\\Users\\HomePC\\AppData\\Local\\Temp\\ipykernel_21632\\3925516446.py:3: FutureWarning: \n",
      "\n",
      "Passing `palette` without assigning `hue` is deprecated and will be removed in v0.14.0. Assign the `x` variable to `hue` and set `legend=False` for the same effect.\n",
      "\n",
      "  sns.countplot(data= df2, x= \"country\", palette= \"Set3\", order= df2[\"country\"].value_counts().index)\n"
     ]
    },
    {
     "data": {
      "image/png": "[encoded data removed]",
      "text/plain": [
       "<Figure size 600x400 with 1 Axes>"
      ]
     },
     "metadata": {},
     "output_type": "display_data"
    }
   ],
   "source": [
    "# Country Count Plot\n",
    "plt.figure(figsize=(6, 4))\n",
    "sns.countplot(data= df2, x= \"country\", palette= \"Set3\", order= df2[\"country\"].value_counts().index)\n",
    "plt.title(\"Country Distribution of Participants\", fontsize= 14)\n",
    "plt.xlabel(\"Country\")\n",
    "plt.ylabel(\"Number of Participants\")\n",
    "plt.show()"
   ]
  },
  {
   "cell_type": "code",
   "execution_count": 41,
   "id": "7589b3c1",
   "metadata": {},
   "outputs": [
    {
     "data": {
      "text/plain": [
       "country\n",
       "Kenya           62\n",
       "South Africa     1\n",
       "Name: count, dtype: int64"
      ]
     },
     "execution_count": 41,
     "metadata": {},
     "output_type": "execute_result"
    }
   ],
   "source": [
    "df2.country.value_counts()"
   ]
  },
  {
   "cell_type": "markdown",
   "id": "077ddad0",
   "metadata": {},
   "source": [
    "Almost all participants are from Kenya with 62 and 1 from South Africa"
   ]
  },
  {
   "cell_type": "markdown",
   "id": "9fd1d321",
   "metadata": {},
   "source": [
    "# Track Applied For"
   ]
  },
  {
   "cell_type": "code",
   "execution_count": 38,
   "id": "a6590cba",
   "metadata": {},
   "outputs": [
    {
     "name": "stderr",
     "output_type": "stream",
     "text": [
      "C:\\Users\\HomePC\\AppData\\Local\\Temp\\ipykernel_21632\\2793836081.py:3: FutureWarning: \n",
      "\n",
      "Passing `palette` without assigning `hue` is deprecated and will be removed in v0.14.0. Assign the `x` variable to `hue` and set `legend=False` for the same effect.\n",
      "\n",
      "  sns.countplot(data= df2, x= \"track\", palette= \"coolwarm\", order= df2[\"track\"].value_counts().index)\n"
     ]
    },
    {
     "data": {
      "image/png": "[encoded data removed]",
      "text/plain": [
       "<Figure size 600x400 with 1 Axes>"
      ]
     },
     "metadata": {},
     "output_type": "display_data"
    }
   ],
   "source": [
    "# Track Distribution\n",
    "plt.figure(figsize=(6, 4))\n",
    "sns.countplot(data= df2, x= \"track\", palette= \"coolwarm\", order= df2[\"track\"].value_counts().index)\n",
    "plt.title(\"Distribution of Tracks Applied For\", fontsize= 14)\n",
    "plt.xlabel(\"Track\")\n",
    "plt.ylabel(\"Number of Participants\")\n",
    "plt.show()"
   ]
  },
  {
   "cell_type": "code",
   "execution_count": 42,
   "id": "a3b74ed6",
   "metadata": {},
   "outputs": [
    {
     "data": {
      "text/plain": [
       "track\n",
       "Data Science     61\n",
       "Data Analysis     2\n",
       "Name: count, dtype: int64"
      ]
     },
     "execution_count": 42,
     "metadata": {},
     "output_type": "execute_result"
    }
   ],
   "source": [
    "df2.track.value_counts()"
   ]
  },
  {
   "cell_type": "markdown",
   "id": "9a4a17b6",
   "metadata": {},
   "source": [
    "Majority of the applicants applied to the data science track with 61 and 2 in data analysis"
   ]
  },
  {
   "cell_type": "markdown",
   "id": "b4c3b961",
   "metadata": {},
   "source": [
    "## Demographics Analysis – Key Inferences\n",
    "\n",
    "### 1️⃣ Age Range Distribution\n",
    "- The majority of participants are **18-24 years old**.  \n",
    "- Distribution:\n",
    "  - 18-24 years: 38  \n",
    "  - 25-34 years: 23  \n",
    "  - 35-44 years: 1  \n",
    "  - 45-54 years: 1  \n",
    "\n",
    "### 2️⃣ Gender Distribution\n",
    "- More **males** joined the program than females.  \n",
    "- Distribution:\n",
    "  - Male: 37  \n",
    "  - Female: 26  \n",
    "\n",
    "### 3️⃣ Country Distribution\n",
    "- Almost all participants are from **Kenya**.  \n",
    "- Distribution:\n",
    "  - Kenya: 62  \n",
    "  - South Africa: 1  \n",
    "\n",
    "### 4️⃣ Track Applied For\n",
    "- Most applicants applied to the **Data Science track**.  \n",
    "- Distribution:\n",
    "  - Data Science: 61  \n",
    "  - Data Analysis: 2  \n",
    "\n",
    "**Inference:**  \n",
    "The cohort is predominantly **young (18-24 years), male, Kenyan, and primarily interested in the Data Science track**. These trends can guide engagement strategies, content planning, and mentorship resource allocation.\n"
   ]
  },
  {
   "cell_type": "code",
   "execution_count": null,
   "id": "ba737110",
   "metadata": {},
   "outputs": [],
   "source": []
  }
 ],
 "metadata": {
  "kernelspec": {
   "display_name": "base",
   "language": "python",
   "name": "python3"
  },
  "language_info": {
   "codemirror_mode": {
    "name": "ipython",
    "version": 3
   },
   "file_extension": ".py",
   "mimetype": "text/x-python",
   "name": "python",
   "nbconvert_exporter": "python",
   "pygments_lexer": "ipython3",
   "version": "3.12.3"
  }
 },
 "nbformat": 4,
 "nbformat_minor": 5
}
