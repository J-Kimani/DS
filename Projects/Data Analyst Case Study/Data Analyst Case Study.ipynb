{
 "cells": [
  {
   "cell_type": "markdown",
   "metadata": {},
   "source": [
    "# Kwanza Tukule Data Analyst Assessment\n",
    "\n",
    "## Introduction\n",
    "\n",
    "This notebook presents the analysis and insights derived from the anonymized sales dataset provided by Kwanza Tukule. The assessment involves evaluating technical, analytical, and problem-solving skills through various tasks such as data cleaning, exploratory analysis, advanced analysis, and visualization. \n",
    "\n",
    "### Objectives:\n",
    "1. Perform data cleaning and preparation to ensure the dataset is ready for analysis.\n",
    "2. Conduct exploratory data analysis (EDA) to uncover patterns and trends in sales performance.\n",
    "3. Perform advanced analyses, including customer segmentation, forecasting, and anomaly detection.\n",
    "4. Provide strategic insights and actionable recommendations based on the analysis.\n",
    "5. Develop a dashboard summarizing key findings to aid decision-making.\n",
    "\n",
    "### Tools and Technologies:\n",
    "- **Python**: For data cleaning, analysis, and visualizations.\n",
    "- **Libraries**: Pandas, NumPy, Matplotlib, Seaborn, Plotly, and Scikit-learn.\n",
    "- **Jupyter Notebook**: For interactive and well-documented analysis.\n",
    "\n",
    "The following sections will detail the approach and findings for each task outlined in the assessment instructions.\n"
   ]
  },
  {
   "cell_type": "markdown",
   "metadata": {},
   "source": [
    "## **Section 1: Data Cleaning and Preparation (20 points)**\n"
   ]
  },
  {
   "cell_type": "code",
   "execution_count": 1,
   "metadata": {},
   "outputs": [
    {
     "name": "stdout",
     "output_type": "stream",
     "text": [
      "Dataset Preview:\n",
      "                 DATE ANONYMIZED CATEGORY ANONYMIZED PRODUCT  \\\n",
      "0 2024-08-18 21:32:00        Category-106       Product-21f4   \n",
      "1 2024-08-18 21:32:00        Category-120       Product-4156   \n",
      "2 2024-08-18 21:32:00        Category-121       Product-49bd   \n",
      "3 2024-08-18 21:32:00         Category-76       Product-61dd   \n",
      "4 2024-08-18 21:32:00        Category-119       Product-66e0   \n",
      "\n",
      "  ANONYMIZED BUSINESS ANONYMIZED LOCATION  QUANTITY  UNIT PRICE  \n",
      "0       Business-de42       Location-1ba8         1       850.0  \n",
      "1       Business-de42       Location-1ba8         2      1910.0  \n",
      "2       Business-de42       Location-1ba8         1      3670.0  \n",
      "3       Business-de42       Location-1ba8         1      2605.0  \n",
      "4       Business-de42       Location-1ba8         5      1480.0  \n",
      "\n",
      "Number of Rows and Columns in the Dataset:\n",
      "(333405, 7)\n",
      "\n",
      "Column Names in the Dataset:\n",
      "Index(['DATE', 'ANONYMIZED CATEGORY', 'ANONYMIZED PRODUCT',\n",
      "       'ANONYMIZED BUSINESS', 'ANONYMIZED LOCATION', 'QUANTITY', 'UNIT PRICE'],\n",
      "      dtype='object')\n",
      "\n",
      "Dataset Info:\n",
      "<class 'pandas.core.frame.DataFrame'>\n",
      "RangeIndex: 333405 entries, 0 to 333404\n",
      "Data columns (total 7 columns):\n",
      " #   Column               Non-Null Count   Dtype         \n",
      "---  ------               --------------   -----         \n",
      " 0   DATE                 333405 non-null  datetime64[ns]\n",
      " 1   ANONYMIZED CATEGORY  333405 non-null  object        \n",
      " 2   ANONYMIZED PRODUCT   333405 non-null  object        \n",
      " 3   ANONYMIZED BUSINESS  333405 non-null  object        \n",
      " 4   ANONYMIZED LOCATION  333405 non-null  object        \n",
      " 5   QUANTITY             333405 non-null  int64         \n",
      " 6   UNIT PRICE           333397 non-null  float64       \n",
      "dtypes: datetime64[ns](1), float64(1), int64(1), object(4)\n",
      "memory usage: 17.8+ MB\n",
      "None\n",
      "\n",
      "Missing Values:\n",
      "DATE                   0\n",
      "ANONYMIZED CATEGORY    0\n",
      "ANONYMIZED PRODUCT     0\n",
      "ANONYMIZED BUSINESS    0\n",
      "ANONYMIZED LOCATION    0\n",
      "QUANTITY               0\n",
      "UNIT PRICE             8\n",
      "dtype: int64\n",
      "\n",
      "Duplicate Rows:\n",
      "3524\n"
     ]
    }
   ],
   "source": [
    "import pandas as pd\n",
    "\n",
    "# Load the data\n",
    "df = pd.read_excel('./Case Study Data - Read Only.xlsx')\n",
    "\n",
    "# Display the first few rows of the dataset\n",
    "print(\"Dataset Preview:\")\n",
    "print(df.head())\n",
    "\n",
    "# Display the number of rows and columns in the dataset\n",
    "print(\"\\nNumber of Rows and Columns in the Dataset:\")\n",
    "print(df.shape)\n",
    "\n",
    "# Display the column names in the dataset\n",
    "print(\"\\nColumn Names in the Dataset:\")\n",
    "print(df.columns)\n",
    "\n",
    "# Check for basic information and data types\n",
    "print(\"\\nDataset Info:\")\n",
    "print(df.info())\n",
    "\n",
    "# Check for missing values\n",
    "print(\"\\nMissing Values:\")\n",
    "print(df.isnull().sum())\n",
    "\n",
    "# Check for duplicates\n",
    "print(\"\\nDuplicate Rows:\")\n",
    "print(df.duplicated().sum())\n"
   ]
  },
  {
   "cell_type": "markdown",
   "metadata": {},
   "source": [
    "From the inspection:\n",
    "1. Missing Values are found in the UNIT PRICE column having 8 missing values.\n",
    "2. There are 3,524 duplicate rows in the dataset.\n"
   ]
  },
  {
   "cell_type": "code",
   "execution_count": 2,
   "metadata": {},
   "outputs": [
    {
     "name": "stdout",
     "output_type": "stream",
     "text": [
      "count    333397.000000\n",
      "mean       2322.039538\n",
      "std        1585.256624\n",
      "min           0.000000\n",
      "25%        1420.000000\n",
      "50%        1840.000000\n",
      "75%        2755.000000\n",
      "max       16136.000000\n",
      "Name: UNIT PRICE, dtype: float64\n"
     ]
    }
   ],
   "source": [
    "\n",
    "print(df['UNIT PRICE'].describe())"
   ]
  },
  {
   "cell_type": "markdown",
   "metadata": {},
   "source": [
    "Since the missing values account for only 8 rows out of 333,405 (0.0024%), filling them with the mean is a more reasonable approach. This ensures continuity in the column for analysis. Additionally, given the size of the dataset, the mean serves as a reliable central value without significantly affecting the overall distribution.\n",
    "\n",
    "For the duplicate rows, we will proceed to drop them to ensure data quality and avoid redundancy.\n",
    "\n"
   ]
  },
  {
   "cell_type": "code",
   "execution_count": 3,
   "metadata": {},
   "outputs": [
    {
     "name": "stdout",
     "output_type": "stream",
     "text": [
      "Duplicates removed. Remaining rows: 329881\n",
      "Missing values in 'UNIT PRICE' handled. Remaining missing values: 0\n"
     ]
    }
   ],
   "source": [
    "# Remove duplicate rows\n",
    "df = df.drop_duplicates()\n",
    "print(f\"Duplicates removed. Remaining rows: {df.shape[0]}\")\n",
    "\n",
    "# Handle missing values in 'UNIT PRICE'\n",
    "# Option 1: Replace missing values with the mean of the column\n",
    "mean_unit_price = df['UNIT PRICE'].mean()\n",
    "df['UNIT PRICE'] = df['UNIT PRICE'].fillna(mean_unit_price)\n",
    "\n",
    "# Option 2: Drop rows with missing values (uncomment if preferred)\n",
    "# df = df.dropna(subset=['UNIT PRICE'])\n",
    "\n",
    "print(f\"Missing values in 'UNIT PRICE' handled. Remaining missing values: {df['UNIT PRICE'].isnull().sum()}\")"
   ]
  },
  {
   "cell_type": "markdown",
   "metadata": {},
   "source": [
    "### Data Quality Assessment\n",
    "\n",
    "1. **Missing Values**:  \n",
    "   - The **'UNIT PRICE'** column had 8 missing values.\n",
    "   - **Action Taken**: These missing values were filled with the **mean** of the column, as the dataset is large and the mean is a reliable central value.\n",
    "\n",
    "2. **Duplicate Rows**:  \n",
    "   - There were **3,524 duplicate rows** in the dataset.\n",
    "   - **Action Taken**: The duplicate rows were removed, reducing the dataset to **329,881 rows**.\n",
    "\n",
    "3. **Remaining Issues**:  \n",
    "   - After handling the missing values and removing duplicates, there are **no remaining missing values** in the dataset.\n"
   ]
  },
  {
   "cell_type": "markdown",
   "metadata": {},
   "source": [
    "Feature Engineering: Create the following columns: “Month-Year” (e.g., August 2024) from the “DATE” column."
   ]
  },
  {
   "cell_type": "code",
   "execution_count": 6,
   "metadata": {},
   "outputs": [
    {
     "name": "stdout",
     "output_type": "stream",
     "text": [
      "\n",
      "Dataset with 'Month-Year' column added:\n",
      "                 DATE   Month-Year\n",
      "0 2024-08-18 21:32:00  August 2024\n",
      "1 2024-08-18 21:32:00  August 2024\n",
      "2 2024-08-18 21:32:00  August 2024\n",
      "3 2024-08-18 21:32:00  August 2024\n",
      "4 2024-08-18 21:32:00  August 2024\n"
     ]
    }
   ],
   "source": [
    "# Create a 'Month-Year' column\n",
    "df['Month-Year'] = df['DATE'].dt.strftime('%B %Y')\n",
    "\n",
    "# Display the first few rows to verify\n",
    "print(\"\\nDataset with 'Month-Year' column added:\")\n",
    "print(df[['DATE', 'Month-Year']].head())\n"
   ]
  },
  {
   "cell_type": "code",
   "execution_count": 11,
   "metadata": {},
   "outputs": [
    {
     "data": {
      "text/html": [
       "<div>\n",
       "<style scoped>\n",
       "    .dataframe tbody tr th:only-of-type {\n",
       "        vertical-align: middle;\n",
       "    }\n",
       "\n",
       "    .dataframe tbody tr th {\n",
       "        vertical-align: top;\n",
       "    }\n",
       "\n",
       "    .dataframe thead th {\n",
       "        text-align: right;\n",
       "    }\n",
       "</style>\n",
       "<table border=\"1\" class=\"dataframe\">\n",
       "  <thead>\n",
       "    <tr style=\"text-align: right;\">\n",
       "      <th></th>\n",
       "      <th>DATE</th>\n",
       "      <th>ANONYMIZED CATEGORY</th>\n",
       "      <th>ANONYMIZED PRODUCT</th>\n",
       "      <th>ANONYMIZED BUSINESS</th>\n",
       "      <th>ANONYMIZED LOCATION</th>\n",
       "      <th>QUANTITY</th>\n",
       "      <th>UNIT PRICE</th>\n",
       "      <th>Month-Year</th>\n",
       "    </tr>\n",
       "  </thead>\n",
       "  <tbody>\n",
       "    <tr>\n",
       "      <th>0</th>\n",
       "      <td>2024-08-18 21:32:00</td>\n",
       "      <td>Category-106</td>\n",
       "      <td>Product-21f4</td>\n",
       "      <td>Business-de42</td>\n",
       "      <td>Location-1ba8</td>\n",
       "      <td>1</td>\n",
       "      <td>850.0</td>\n",
       "      <td>August 2024</td>\n",
       "    </tr>\n",
       "    <tr>\n",
       "      <th>1</th>\n",
       "      <td>2024-08-18 21:32:00</td>\n",
       "      <td>Category-120</td>\n",
       "      <td>Product-4156</td>\n",
       "      <td>Business-de42</td>\n",
       "      <td>Location-1ba8</td>\n",
       "      <td>2</td>\n",
       "      <td>1910.0</td>\n",
       "      <td>August 2024</td>\n",
       "    </tr>\n",
       "    <tr>\n",
       "      <th>2</th>\n",
       "      <td>2024-08-18 21:32:00</td>\n",
       "      <td>Category-121</td>\n",
       "      <td>Product-49bd</td>\n",
       "      <td>Business-de42</td>\n",
       "      <td>Location-1ba8</td>\n",
       "      <td>1</td>\n",
       "      <td>3670.0</td>\n",
       "      <td>August 2024</td>\n",
       "    </tr>\n",
       "    <tr>\n",
       "      <th>3</th>\n",
       "      <td>2024-08-18 21:32:00</td>\n",
       "      <td>Category-76</td>\n",
       "      <td>Product-61dd</td>\n",
       "      <td>Business-de42</td>\n",
       "      <td>Location-1ba8</td>\n",
       "      <td>1</td>\n",
       "      <td>2605.0</td>\n",
       "      <td>August 2024</td>\n",
       "    </tr>\n",
       "    <tr>\n",
       "      <th>4</th>\n",
       "      <td>2024-08-18 21:32:00</td>\n",
       "      <td>Category-119</td>\n",
       "      <td>Product-66e0</td>\n",
       "      <td>Business-de42</td>\n",
       "      <td>Location-1ba8</td>\n",
       "      <td>5</td>\n",
       "      <td>1480.0</td>\n",
       "      <td>August 2024</td>\n",
       "    </tr>\n",
       "  </tbody>\n",
       "</table>\n",
       "</div>"
      ],
      "text/plain": [
       "                 DATE ANONYMIZED CATEGORY ANONYMIZED PRODUCT  \\\n",
       "0 2024-08-18 21:32:00        Category-106       Product-21f4   \n",
       "1 2024-08-18 21:32:00        Category-120       Product-4156   \n",
       "2 2024-08-18 21:32:00        Category-121       Product-49bd   \n",
       "3 2024-08-18 21:32:00         Category-76       Product-61dd   \n",
       "4 2024-08-18 21:32:00        Category-119       Product-66e0   \n",
       "\n",
       "  ANONYMIZED BUSINESS ANONYMIZED LOCATION  QUANTITY  UNIT PRICE   Month-Year  \n",
       "0       Business-de42       Location-1ba8         1       850.0  August 2024  \n",
       "1       Business-de42       Location-1ba8         2      1910.0  August 2024  \n",
       "2       Business-de42       Location-1ba8         1      3670.0  August 2024  \n",
       "3       Business-de42       Location-1ba8         1      2605.0  August 2024  \n",
       "4       Business-de42       Location-1ba8         5      1480.0  August 2024  "
      ]
     },
     "execution_count": 11,
     "metadata": {},
     "output_type": "execute_result"
    }
   ],
   "source": [
    "df.head()"
   ]
  },
  {
   "cell_type": "code",
   "execution_count": 10,
   "metadata": {},
   "outputs": [
    {
     "name": "stdout",
     "output_type": "stream",
     "text": [
      "                  DATE ANONYMIZED CATEGORY ANONYMIZED PRODUCT  \\\n",
      "17 2024-09-06 08:42:00         Category-75       Product-6aa1   \n",
      "18 2024-09-06 08:42:00         Category-76       Product-c570   \n",
      "19 2024-09-06 08:42:00        Category-100       Product-f3ee   \n",
      "21 2024-09-05 19:48:00        Category-120       Product-14f3   \n",
      "22 2024-09-05 19:48:00        Category-120       Product-9a3e   \n",
      "\n",
      "   ANONYMIZED BUSINESS ANONYMIZED LOCATION  QUANTITY  UNIT PRICE  \\\n",
      "17       Business-f13b       Location-bb69         1      2255.0   \n",
      "18       Business-f13b       Location-bb69         1      2540.0   \n",
      "19       Business-f13b       Location-bb69         1      1880.0   \n",
      "21       Business-5d3e       Location-1979         5      1740.0   \n",
      "22       Business-5d3e       Location-1979         5      1695.0   \n",
      "\n",
      "        Month-Year  \n",
      "17  September 2024  \n",
      "18  September 2024  \n",
      "19  September 2024  \n",
      "21  September 2024  \n",
      "22  September 2024  \n"
     ]
    }
   ],
   "source": [
    "# Filtering for another month, the month of September 2024, for example\n",
    "df_september = df[df['Month-Year'] == 'September 2024']\n",
    "\n",
    "# Display the first few rows of September 2024\n",
    "print(df_september.head())"
   ]
  },
  {
   "cell_type": "markdown",
   "metadata": {},
   "source": [
    "## **Section 2: Exploratory Data Analysis (30 points)**"
   ]
  },
  {
   "cell_type": "markdown",
   "metadata": {},
   "source": [
    "### 1. **Sales Overview:**\n",
    "\n",
    "We'll calculate the total **Quantity** and **Value** (Quantity × Unit Price) grouped by:\n",
    "- **Anonymized Category**\n",
    "- **Anonymized Business**"
   ]
  },
  {
   "cell_type": "code",
   "execution_count": 12,
   "metadata": {},
   "outputs": [
    {
     "data": {
      "text/plain": [
       "Index(['DATE', 'ANONYMIZED CATEGORY', 'ANONYMIZED PRODUCT',\n",
       "       'ANONYMIZED BUSINESS', 'ANONYMIZED LOCATION', 'QUANTITY', 'UNIT PRICE',\n",
       "       'Month-Year'],\n",
       "      dtype='object')"
      ]
     },
     "execution_count": 12,
     "metadata": {},
     "output_type": "execute_result"
    }
   ],
   "source": [
    "df.columns"
   ]
  },
  {
   "cell_type": "code",
   "execution_count": 15,
   "metadata": {},
   "outputs": [
    {
     "name": "stdout",
     "output_type": "stream",
     "text": [
      "Sales by Anonymized Category:\n",
      "  ANONYMIZED CATEGORY  QUANTITY         VALUE\n",
      "0        Category-100     76824  1.349028e+08\n",
      "1        Category-101     19585  3.562652e+07\n",
      "2        Category-102      1786  4.644630e+05\n",
      "3        Category-104      1217  1.557598e+06\n",
      "4        Category-105      1579  2.690719e+06\n",
      "\n",
      "Sales by Anonymized Business:\n",
      "  ANONYMIZED BUSINESS  QUANTITY     VALUE\n",
      "0       Business-0000         8   10445.0\n",
      "1       Business-0005         1    2645.0\n",
      "2       Business-0029        26   77340.0\n",
      "3       Business-003d        98  221761.0\n",
      "4       Business-0072       127  225056.0\n"
     ]
    }
   ],
   "source": [
    "# Calculate the total Quantity and Value grouped by Anonymized Category\n",
    "df['VALUE'] = df['QUANTITY'] * df['UNIT PRICE']  # Calculate Value\n",
    "\n",
    "category_sales = df.groupby('ANONYMIZED CATEGORY')[['QUANTITY', 'VALUE']].sum().reset_index()\n",
    "\n",
    "# Calculate the total Quantity and Value grouped by Anonymized Business\n",
    "business_sales = df.groupby('ANONYMIZED BUSINESS')[['QUANTITY', 'VALUE']].sum().reset_index()\n",
    "\n",
    "# Display the top 5 categories and businesses\n",
    "print(\"Sales by Anonymized Category:\")\n",
    "print(category_sales.head())\n",
    "\n",
    "print(\"\\nSales by Anonymized Business:\")\n",
    "print(business_sales.head())\n"
   ]
  },
  {
   "cell_type": "code",
   "execution_count": 16,
   "metadata": {},
   "outputs": [
    {
     "data": {
      "text/plain": [
       "array(['Category-100', 'Category-101', 'Category-102', 'Category-104',\n",
       "       'Category-105', 'Category-106', 'Category-107', 'Category-108',\n",
       "       'Category-109', 'Category-110', 'Category-111', 'Category-113',\n",
       "       'Category-114', 'Category-115', 'Category-116', 'Category-117',\n",
       "       'Category-118', 'Category-119', 'Category-120', 'Category-121',\n",
       "       'Category-122', 'Category-123', 'Category-124', 'Category-125',\n",
       "       'Category-74', 'Category-75', 'Category-76', 'Category-77',\n",
       "       'Category-78', 'Category-79', 'Category-81', 'Category-82',\n",
       "       'Category-83', 'Category-84', 'Category-85', 'Category-86',\n",
       "       'Category-89', 'Category-90', 'Category-91', 'Category-92',\n",
       "       'Category-94', 'Category-95', 'Category-96', 'Category-97',\n",
       "       'Category-98', 'Category-99'], dtype=object)"
      ]
     },
     "execution_count": 16,
     "metadata": {},
     "output_type": "execute_result"
    }
   ],
   "source": [
    "category_sales['ANONYMIZED CATEGORY'].unique()"
   ]
  },
  {
   "cell_type": "code",
   "execution_count": 17,
   "metadata": {},
   "outputs": [
    {
     "data": {
      "text/plain": [
       "array(['Business-0000', 'Business-0005', 'Business-0029', ...,\n",
       "       'Business-ffb1', 'Business-ffd2', 'Business-ffff'], dtype=object)"
      ]
     },
     "execution_count": 17,
     "metadata": {},
     "output_type": "execute_result"
    }
   ],
   "source": [
    "business_sales['ANONYMIZED BUSINESS'].unique()"
   ]
  },
  {
   "cell_type": "markdown",
   "metadata": {},
   "source": [
    "Visualizations (e.g., bar charts or tables) to support the findings."
   ]
  },
  {
   "cell_type": "code",
   "execution_count": null,
   "metadata": {},
   "outputs": [],
   "source": []
  },
  {
   "cell_type": "code",
   "execution_count": null,
   "metadata": {},
   "outputs": [],
   "source": []
  }
 ],
 "metadata": {
  "kernelspec": {
   "display_name": "base",
   "language": "python",
   "name": "python3"
  },
  "language_info": {
   "codemirror_mode": {
    "name": "ipython",
    "version": 3
   },
   "file_extension": ".py",
   "mimetype": "text/x-python",
   "name": "python",
   "nbconvert_exporter": "python",
   "pygments_lexer": "ipython3",
   "version": "3.12.3"
  }
 },
 "nbformat": 4,
 "nbformat_minor": 2
}
