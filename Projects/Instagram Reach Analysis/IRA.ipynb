{
 "cells": [
  {
   "cell_type": "markdown",
   "metadata": {},
   "source": [
    "This notebook involves analysis of reach of an instagram account."
   ]
  },
  {
   "cell_type": "code",
   "execution_count": 2,
   "metadata": {},
   "outputs": [
    {
     "data": {
      "text/html": [
       "<div>\n",
       "<style scoped>\n",
       "    .dataframe tbody tr th:only-of-type {\n",
       "        vertical-align: middle;\n",
       "    }\n",
       "\n",
       "    .dataframe tbody tr th {\n",
       "        vertical-align: top;\n",
       "    }\n",
       "\n",
       "    .dataframe thead th {\n",
       "        text-align: right;\n",
       "    }\n",
       "</style>\n",
       "<table border=\"1\" class=\"dataframe\">\n",
       "  <thead>\n",
       "    <tr style=\"text-align: right;\">\n",
       "      <th></th>\n",
       "      <th>Impressions</th>\n",
       "      <th>From Home</th>\n",
       "      <th>From Hashtags</th>\n",
       "      <th>From Explore</th>\n",
       "      <th>From Other</th>\n",
       "      <th>Saves</th>\n",
       "      <th>Comments</th>\n",
       "      <th>Shares</th>\n",
       "      <th>Likes</th>\n",
       "      <th>Profile Visits</th>\n",
       "      <th>Follows</th>\n",
       "      <th>Caption</th>\n",
       "      <th>Hashtags</th>\n",
       "    </tr>\n",
       "  </thead>\n",
       "  <tbody>\n",
       "    <tr>\n",
       "      <th>0</th>\n",
       "      <td>3920.0</td>\n",
       "      <td>2586.0</td>\n",
       "      <td>1028.0</td>\n",
       "      <td>619.0</td>\n",
       "      <td>56.0</td>\n",
       "      <td>98.0</td>\n",
       "      <td>9.0</td>\n",
       "      <td>5.0</td>\n",
       "      <td>162.0</td>\n",
       "      <td>35.0</td>\n",
       "      <td>2.0</td>\n",
       "      <td>Here are some of the most important data visua...</td>\n",
       "      <td>#finance #money #business #investing #investme...</td>\n",
       "    </tr>\n",
       "    <tr>\n",
       "      <th>1</th>\n",
       "      <td>5394.0</td>\n",
       "      <td>2727.0</td>\n",
       "      <td>1838.0</td>\n",
       "      <td>1174.0</td>\n",
       "      <td>78.0</td>\n",
       "      <td>194.0</td>\n",
       "      <td>7.0</td>\n",
       "      <td>14.0</td>\n",
       "      <td>224.0</td>\n",
       "      <td>48.0</td>\n",
       "      <td>10.0</td>\n",
       "      <td>Here are some of the best data science project...</td>\n",
       "      <td>#healthcare #health #covid #data #datascience ...</td>\n",
       "    </tr>\n",
       "    <tr>\n",
       "      <th>2</th>\n",
       "      <td>4021.0</td>\n",
       "      <td>2085.0</td>\n",
       "      <td>1188.0</td>\n",
       "      <td>0.0</td>\n",
       "      <td>533.0</td>\n",
       "      <td>41.0</td>\n",
       "      <td>11.0</td>\n",
       "      <td>1.0</td>\n",
       "      <td>131.0</td>\n",
       "      <td>62.0</td>\n",
       "      <td>12.0</td>\n",
       "      <td>Learn how to train a machine learning model an...</td>\n",
       "      <td>#data #datascience #dataanalysis #dataanalytic...</td>\n",
       "    </tr>\n",
       "    <tr>\n",
       "      <th>3</th>\n",
       "      <td>4528.0</td>\n",
       "      <td>2700.0</td>\n",
       "      <td>621.0</td>\n",
       "      <td>932.0</td>\n",
       "      <td>73.0</td>\n",
       "      <td>172.0</td>\n",
       "      <td>10.0</td>\n",
       "      <td>7.0</td>\n",
       "      <td>213.0</td>\n",
       "      <td>23.0</td>\n",
       "      <td>8.0</td>\n",
       "      <td>Heres how you can write a Python program to d...</td>\n",
       "      <td>#python #pythonprogramming #pythonprojects #py...</td>\n",
       "    </tr>\n",
       "    <tr>\n",
       "      <th>4</th>\n",
       "      <td>2518.0</td>\n",
       "      <td>1704.0</td>\n",
       "      <td>255.0</td>\n",
       "      <td>279.0</td>\n",
       "      <td>37.0</td>\n",
       "      <td>96.0</td>\n",
       "      <td>5.0</td>\n",
       "      <td>4.0</td>\n",
       "      <td>123.0</td>\n",
       "      <td>8.0</td>\n",
       "      <td>0.0</td>\n",
       "      <td>Plotting annotations while visualizing your da...</td>\n",
       "      <td>#datavisualization #datascience #data #dataana...</td>\n",
       "    </tr>\n",
       "  </tbody>\n",
       "</table>\n",
       "</div>"
      ],
      "text/plain": [
       "   Impressions  From Home  From Hashtags  From Explore  From Other  Saves  \\\n",
       "0       3920.0     2586.0         1028.0         619.0        56.0   98.0   \n",
       "1       5394.0     2727.0         1838.0        1174.0        78.0  194.0   \n",
       "2       4021.0     2085.0         1188.0           0.0       533.0   41.0   \n",
       "3       4528.0     2700.0          621.0         932.0        73.0  172.0   \n",
       "4       2518.0     1704.0          255.0         279.0        37.0   96.0   \n",
       "\n",
       "   Comments  Shares  Likes  Profile Visits  Follows  \\\n",
       "0       9.0     5.0  162.0            35.0      2.0   \n",
       "1       7.0    14.0  224.0            48.0     10.0   \n",
       "2      11.0     1.0  131.0            62.0     12.0   \n",
       "3      10.0     7.0  213.0            23.0      8.0   \n",
       "4       5.0     4.0  123.0             8.0      0.0   \n",
       "\n",
       "                                             Caption  \\\n",
       "0  Here are some of the most important data visua...   \n",
       "1  Here are some of the best data science project...   \n",
       "2  Learn how to train a machine learning model an...   \n",
       "3  Heres how you can write a Python program to d...   \n",
       "4  Plotting annotations while visualizing your da...   \n",
       "\n",
       "                                            Hashtags  \n",
       "0  #finance #money #business #investing #investme...  \n",
       "1  #healthcare #health #covid #data #datascience ...  \n",
       "2  #data #datascience #dataanalysis #dataanalytic...  \n",
       "3  #python #pythonprogramming #pythonprojects #py...  \n",
       "4  #datavisualization #datascience #data #dataana...  "
      ]
     },
     "execution_count": 2,
     "metadata": {},
     "output_type": "execute_result"
    }
   ],
   "source": [
    "# import dataset\n",
    "import pandas as pd\n",
    "\n",
    "df = pd.read_csv(\"Instagram.csv\", encoding= \"latin1\")\n",
    "df.head()"
   ]
  },
  {
   "cell_type": "markdown",
   "metadata": {},
   "source": [
    "check for missing values"
   ]
  },
  {
   "cell_type": "code",
   "execution_count": 3,
   "metadata": {},
   "outputs": [
    {
     "data": {
      "text/plain": [
       "Impressions       1\n",
       "From Home         1\n",
       "From Hashtags     1\n",
       "From Explore      1\n",
       "From Other        1\n",
       "Saves             1\n",
       "Comments          1\n",
       "Shares            1\n",
       "Likes             1\n",
       "Profile Visits    1\n",
       "Follows           1\n",
       "Caption           1\n",
       "Hashtags          1\n",
       "dtype: int64"
      ]
     },
     "execution_count": 3,
     "metadata": {},
     "output_type": "execute_result"
    }
   ],
   "source": [
    "df.isnull().sum()"
   ]
  },
  {
   "cell_type": "code",
   "execution_count": 23,
   "metadata": {},
   "outputs": [
    {
     "data": {
      "text/plain": [
       "True"
      ]
     },
     "execution_count": 23,
     "metadata": {},
     "output_type": "execute_result"
    }
   ],
   "source": [
    "df.Impressions.isnull()"
   ]
  },
  {
   "cell_type": "code",
   "execution_count": 29,
   "metadata": {},
   "outputs": [
    {
     "name": "stdout",
     "output_type": "stream",
     "text": [
      "Impressions: [99]\n",
      "From Home: [99]\n",
      "From Hashtags: [99]\n",
      "From Explore: [99]\n",
      "From Other: [99]\n",
      "Saves: [99]\n",
      "Comments: [99]\n",
      "Shares: [99]\n",
      "Likes: [99]\n",
      "Profile Visits: [99]\n",
      "Follows: [99]\n",
      "Caption: [99]\n",
      "Hashtags: [99]\n"
     ]
    }
   ],
   "source": [
    "# get index of each missing value\n",
    "import numpy as np\n",
    "\n",
    "\n",
    "for column in df:\n",
    "    if df[column].isnull().any():\n",
    "        print(f'{column}: {np.where(df[column].isnull())[0]}')\n"
   ]
  },
  {
   "cell_type": "code",
   "execution_count": 25,
   "metadata": {},
   "outputs": [
    {
     "data": {
      "text/plain": [
       "Impressions       float64\n",
       "From Home         float64\n",
       "From Hashtags     float64\n",
       "From Explore      float64\n",
       "From Other        float64\n",
       "Saves             float64\n",
       "Comments          float64\n",
       "Shares            float64\n",
       "Likes             float64\n",
       "Profile Visits    float64\n",
       "Follows           float64\n",
       "Caption            object\n",
       "Hashtags           object\n",
       "dtype: object"
      ]
     },
     "execution_count": 25,
     "metadata": {},
     "output_type": "execute_result"
    }
   ],
   "source": [
    "df.dtypes"
   ]
  },
  {
   "cell_type": "code",
   "execution_count": 5,
   "metadata": {},
   "outputs": [
    {
     "data": {
      "text/plain": [
       "(100, 13)"
      ]
     },
     "execution_count": 5,
     "metadata": {},
     "output_type": "execute_result"
    }
   ],
   "source": [
    "df.shape"
   ]
  },
  {
   "cell_type": "code",
   "execution_count": 6,
   "metadata": {},
   "outputs": [
    {
     "data": {
      "text/plain": [
       "array([ 3920.,  5394.,  4021.,  4528.,  2518.,  3884.,  2621.,  3541.,\n",
       "        3749.,  4115.,  2218.,  3234.,  4344.,  3216.,  9453.,  5055.,\n",
       "        4002.,  3169.,  6168.,  2407.,  2064.,  3973.,  7281.,  3052.,\n",
       "        4628.,  4082.,  2766.,  3924.,  3015.,  6666.,  3854.,  4355.,\n",
       "        4343.,  6108.,  2523.,  2327.,  3990.,  2191.,  1941., 16062.,\n",
       "        4998.,  4289.,  3880.,  3786.,  4298.,  3630.,  2826.,  7407.,\n",
       "       10386.,  2998.,  7018.,  2941.,  6432., 10667.,  3988.,  4978.,\n",
       "        3388.,  4467.,  3246.,  5072.,  6339.,  4239.,  3454.,  7571.,\n",
       "        3333.,  3818., 10933.,  5058.,  3601.,  3480.,  3525.,  3606.,\n",
       "        5542.,  6559.,  3623., 10493.,  4446.,  2957.,  5538.,  4681.,\n",
       "        5273.,    nan])"
      ]
     },
     "execution_count": 6,
     "metadata": {},
     "output_type": "execute_result"
    }
   ],
   "source": [
    "df.Impressions.unique()"
   ]
  },
  {
   "cell_type": "code",
   "execution_count": null,
   "metadata": {},
   "outputs": [],
   "source": []
  }
 ],
 "metadata": {
  "kernelspec": {
   "display_name": "Python 3.9.12 ('base')",
   "language": "python",
   "name": "python3"
  },
  "language_info": {
   "codemirror_mode": {
    "name": "ipython",
    "version": 3
   },
   "file_extension": ".py",
   "mimetype": "text/x-python",
   "name": "python",
   "nbconvert_exporter": "python",
   "pygments_lexer": "ipython3",
   "version": "3.9.12"
  },
  "orig_nbformat": 4,
  "vscode": {
   "interpreter": {
    "hash": "57bc2b6ce032b5f0e93daa91901b7ea38a856826ef43aa9e95b6d3999f5310df"
   }
  }
 },
 "nbformat": 4,
 "nbformat_minor": 2
}
