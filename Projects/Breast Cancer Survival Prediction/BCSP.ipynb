{
 "cells": [
  {
   "cell_type": "markdown",
   "metadata": {},
   "source": [
    "### DATASET DESCRIPTION\n",
    "\n",
    "\n",
    "This dataset consists of a group of breast cancer patients, who had surgery to remove their tumour. The dataset consists of the following variables:\n",
    "\n",
    "Patient_ID: unique identifier id of a patient\n",
    "\n",
    "Age: age at diagnosis (Years)\n",
    "\n",
    "Gender: Male/Female\n",
    "\n",
    "Protein1, Protein2, Protein3, Protein4: expression levels (undefined units)\n",
    "\n",
    "Tumour_Stage: I, II, III\n",
    "\n",
    "Histology: Infiltrating Ductal Carcinoma, Infiltrating Lobular Carcinoma, Mucinous Carcinoma(description of a tumour based on how abnormal the cancer cells and tissue look under a microscope and how quickly cancer can grow and spread)\n",
    "\n",
    "ER status: Positive/Negative\n",
    "\n",
    "PR status: Positive/Negative\n",
    "\n",
    "HER2 status: Positive/Negative\n",
    "\n",
    "Surgery_type: Lumpectomy, Simple Mastectomy, Modified Radical Mastectomy, Other\n",
    "\n",
    "DateofSurgery: Date on which surgery was performed (in DD-MON-YY)\n",
    "\n",
    "DateofLast_Visit: Date of last visit (in DD-MON-YY) [can be null, in case the patient didn’t visited again after the surgery]\n",
    "\n",
    "Patient_Status: Alive/Dead [can be null, in case the patient didn’t visited again after the surgery and there is no information available whether the patient is alive or dead].\n",
    "\n",
    "### Task: \n",
    "\n",
    "create a prediction model to determine the survival chances of an individual diagnosed with breast cancer\n",
    "\n",
    "#### Data source:\n",
    "\n",
    "Kaggle datasets: https://www.kaggle.com/datasets/amandam1/breastcancerdataset\n"
   ]
  },
  {
   "cell_type": "code",
   "execution_count": 1,
   "metadata": {},
   "outputs": [
    {
     "name": "stdout",
     "output_type": "stream",
     "text": [
      "(341, 16)\n"
     ]
    },
    {
     "data": {
      "text/html": [
       "<div>\n",
       "<style scoped>\n",
       "    .dataframe tbody tr th:only-of-type {\n",
       "        vertical-align: middle;\n",
       "    }\n",
       "\n",
       "    .dataframe tbody tr th {\n",
       "        vertical-align: top;\n",
       "    }\n",
       "\n",
       "    .dataframe thead th {\n",
       "        text-align: right;\n",
       "    }\n",
       "</style>\n",
       "<table border=\"1\" class=\"dataframe\">\n",
       "  <thead>\n",
       "    <tr style=\"text-align: right;\">\n",
       "      <th></th>\n",
       "      <th>Patient_ID</th>\n",
       "      <th>Age</th>\n",
       "      <th>Gender</th>\n",
       "      <th>Protein1</th>\n",
       "      <th>Protein2</th>\n",
       "      <th>Protein3</th>\n",
       "      <th>Protein4</th>\n",
       "      <th>Tumour_Stage</th>\n",
       "      <th>Histology</th>\n",
       "      <th>ER status</th>\n",
       "      <th>PR status</th>\n",
       "      <th>HER2 status</th>\n",
       "      <th>Surgery_type</th>\n",
       "      <th>Date_of_Surgery</th>\n",
       "      <th>Date_of_Last_Visit</th>\n",
       "      <th>Patient_Status</th>\n",
       "    </tr>\n",
       "  </thead>\n",
       "  <tbody>\n",
       "    <tr>\n",
       "      <th>0</th>\n",
       "      <td>TCGA-D8-A1XD</td>\n",
       "      <td>36.0</td>\n",
       "      <td>FEMALE</td>\n",
       "      <td>0.080353</td>\n",
       "      <td>0.42638</td>\n",
       "      <td>0.54715</td>\n",
       "      <td>0.273680</td>\n",
       "      <td>III</td>\n",
       "      <td>Infiltrating Ductal Carcinoma</td>\n",
       "      <td>Positive</td>\n",
       "      <td>Positive</td>\n",
       "      <td>Negative</td>\n",
       "      <td>Modified Radical Mastectomy</td>\n",
       "      <td>15-Jan-17</td>\n",
       "      <td>19-Jun-17</td>\n",
       "      <td>Alive</td>\n",
       "    </tr>\n",
       "    <tr>\n",
       "      <th>1</th>\n",
       "      <td>TCGA-EW-A1OX</td>\n",
       "      <td>43.0</td>\n",
       "      <td>FEMALE</td>\n",
       "      <td>-0.420320</td>\n",
       "      <td>0.57807</td>\n",
       "      <td>0.61447</td>\n",
       "      <td>-0.031505</td>\n",
       "      <td>II</td>\n",
       "      <td>Mucinous Carcinoma</td>\n",
       "      <td>Positive</td>\n",
       "      <td>Positive</td>\n",
       "      <td>Negative</td>\n",
       "      <td>Lumpectomy</td>\n",
       "      <td>26-Apr-17</td>\n",
       "      <td>09-Nov-18</td>\n",
       "      <td>Dead</td>\n",
       "    </tr>\n",
       "    <tr>\n",
       "      <th>2</th>\n",
       "      <td>TCGA-A8-A079</td>\n",
       "      <td>69.0</td>\n",
       "      <td>FEMALE</td>\n",
       "      <td>0.213980</td>\n",
       "      <td>1.31140</td>\n",
       "      <td>-0.32747</td>\n",
       "      <td>-0.234260</td>\n",
       "      <td>III</td>\n",
       "      <td>Infiltrating Ductal Carcinoma</td>\n",
       "      <td>Positive</td>\n",
       "      <td>Positive</td>\n",
       "      <td>Negative</td>\n",
       "      <td>Other</td>\n",
       "      <td>08-Sep-17</td>\n",
       "      <td>09-Jun-18</td>\n",
       "      <td>Alive</td>\n",
       "    </tr>\n",
       "    <tr>\n",
       "      <th>3</th>\n",
       "      <td>TCGA-D8-A1XR</td>\n",
       "      <td>56.0</td>\n",
       "      <td>FEMALE</td>\n",
       "      <td>0.345090</td>\n",
       "      <td>-0.21147</td>\n",
       "      <td>-0.19304</td>\n",
       "      <td>0.124270</td>\n",
       "      <td>II</td>\n",
       "      <td>Infiltrating Ductal Carcinoma</td>\n",
       "      <td>Positive</td>\n",
       "      <td>Positive</td>\n",
       "      <td>Negative</td>\n",
       "      <td>Modified Radical Mastectomy</td>\n",
       "      <td>25-Jan-17</td>\n",
       "      <td>12-Jul-17</td>\n",
       "      <td>Alive</td>\n",
       "    </tr>\n",
       "    <tr>\n",
       "      <th>4</th>\n",
       "      <td>TCGA-BH-A0BF</td>\n",
       "      <td>56.0</td>\n",
       "      <td>FEMALE</td>\n",
       "      <td>0.221550</td>\n",
       "      <td>1.90680</td>\n",
       "      <td>0.52045</td>\n",
       "      <td>-0.311990</td>\n",
       "      <td>II</td>\n",
       "      <td>Infiltrating Ductal Carcinoma</td>\n",
       "      <td>Positive</td>\n",
       "      <td>Positive</td>\n",
       "      <td>Negative</td>\n",
       "      <td>Other</td>\n",
       "      <td>06-May-17</td>\n",
       "      <td>27-Jun-19</td>\n",
       "      <td>Dead</td>\n",
       "    </tr>\n",
       "  </tbody>\n",
       "</table>\n",
       "</div>"
      ],
      "text/plain": [
       "     Patient_ID   Age  Gender  Protein1  Protein2  Protein3  Protein4  \\\n",
       "0  TCGA-D8-A1XD  36.0  FEMALE  0.080353   0.42638   0.54715  0.273680   \n",
       "1  TCGA-EW-A1OX  43.0  FEMALE -0.420320   0.57807   0.61447 -0.031505   \n",
       "2  TCGA-A8-A079  69.0  FEMALE  0.213980   1.31140  -0.32747 -0.234260   \n",
       "3  TCGA-D8-A1XR  56.0  FEMALE  0.345090  -0.21147  -0.19304  0.124270   \n",
       "4  TCGA-BH-A0BF  56.0  FEMALE  0.221550   1.90680   0.52045 -0.311990   \n",
       "\n",
       "  Tumour_Stage                      Histology ER status PR status HER2 status  \\\n",
       "0          III  Infiltrating Ductal Carcinoma  Positive  Positive    Negative   \n",
       "1           II             Mucinous Carcinoma  Positive  Positive    Negative   \n",
       "2          III  Infiltrating Ductal Carcinoma  Positive  Positive    Negative   \n",
       "3           II  Infiltrating Ductal Carcinoma  Positive  Positive    Negative   \n",
       "4           II  Infiltrating Ductal Carcinoma  Positive  Positive    Negative   \n",
       "\n",
       "                  Surgery_type Date_of_Surgery Date_of_Last_Visit  \\\n",
       "0  Modified Radical Mastectomy       15-Jan-17          19-Jun-17   \n",
       "1                   Lumpectomy       26-Apr-17          09-Nov-18   \n",
       "2                        Other       08-Sep-17          09-Jun-18   \n",
       "3  Modified Radical Mastectomy       25-Jan-17          12-Jul-17   \n",
       "4                        Other       06-May-17          27-Jun-19   \n",
       "\n",
       "  Patient_Status  \n",
       "0          Alive  \n",
       "1           Dead  \n",
       "2          Alive  \n",
       "3          Alive  \n",
       "4           Dead  "
      ]
     },
     "execution_count": 1,
     "metadata": {},
     "output_type": "execute_result"
    }
   ],
   "source": [
    "# import dataset \n",
    "import pandas as pd\n",
    "\n",
    "df = pd.read_csv(\"./BRCA.csv\")\n",
    "print(df.shape)\n",
    "df.head()"
   ]
  },
  {
   "cell_type": "markdown",
   "metadata": {},
   "source": [
    "the dataset consist of 341 entries and 16 columns"
   ]
  },
  {
   "cell_type": "code",
   "execution_count": 2,
   "metadata": {},
   "outputs": [
    {
     "data": {
      "text/plain": [
       "Patient_ID             7\n",
       "Age                    7\n",
       "Gender                 7\n",
       "Protein1               7\n",
       "Protein2               7\n",
       "Protein3               7\n",
       "Protein4               7\n",
       "Tumour_Stage           7\n",
       "Histology              7\n",
       "ER status              7\n",
       "PR status              7\n",
       "HER2 status            7\n",
       "Surgery_type           7\n",
       "Date_of_Surgery        7\n",
       "Date_of_Last_Visit    24\n",
       "Patient_Status        20\n",
       "dtype: int64"
      ]
     },
     "execution_count": 2,
     "metadata": {},
     "output_type": "execute_result"
    }
   ],
   "source": [
    "# check for null values\n",
    "df.isna().sum()"
   ]
  },
  {
   "cell_type": "markdown",
   "metadata": {},
   "source": [
    "proceed by dropping the null values"
   ]
  },
  {
   "cell_type": "code",
   "execution_count": 3,
   "metadata": {},
   "outputs": [],
   "source": [
    "df1 = df.dropna()"
   ]
  },
  {
   "cell_type": "code",
   "execution_count": 4,
   "metadata": {},
   "outputs": [
    {
     "data": {
      "text/plain": [
       "Patient_ID            0\n",
       "Age                   0\n",
       "Gender                0\n",
       "Protein1              0\n",
       "Protein2              0\n",
       "Protein3              0\n",
       "Protein4              0\n",
       "Tumour_Stage          0\n",
       "Histology             0\n",
       "ER status             0\n",
       "PR status             0\n",
       "HER2 status           0\n",
       "Surgery_type          0\n",
       "Date_of_Surgery       0\n",
       "Date_of_Last_Visit    0\n",
       "Patient_Status        0\n",
       "dtype: int64"
      ]
     },
     "execution_count": 4,
     "metadata": {},
     "output_type": "execute_result"
    }
   ],
   "source": [
    "df1.isna().sum()"
   ]
  },
  {
   "cell_type": "code",
   "execution_count": 5,
   "metadata": {},
   "outputs": [
    {
     "name": "stdout",
     "output_type": "stream",
     "text": [
      "<class 'pandas.core.frame.DataFrame'>\n",
      "Int64Index: 317 entries, 0 to 333\n",
      "Data columns (total 16 columns):\n",
      " #   Column              Non-Null Count  Dtype  \n",
      "---  ------              --------------  -----  \n",
      " 0   Patient_ID          317 non-null    object \n",
      " 1   Age                 317 non-null    float64\n",
      " 2   Gender              317 non-null    object \n",
      " 3   Protein1            317 non-null    float64\n",
      " 4   Protein2            317 non-null    float64\n",
      " 5   Protein3            317 non-null    float64\n",
      " 6   Protein4            317 non-null    float64\n",
      " 7   Tumour_Stage        317 non-null    object \n",
      " 8   Histology           317 non-null    object \n",
      " 9   ER status           317 non-null    object \n",
      " 10  PR status           317 non-null    object \n",
      " 11  HER2 status         317 non-null    object \n",
      " 12  Surgery_type        317 non-null    object \n",
      " 13  Date_of_Surgery     317 non-null    object \n",
      " 14  Date_of_Last_Visit  317 non-null    object \n",
      " 15  Patient_Status      317 non-null    object \n",
      "dtypes: float64(5), object(11)\n",
      "memory usage: 42.1+ KB\n"
     ]
    }
   ],
   "source": [
    "df1.info()"
   ]
  },
  {
   "cell_type": "markdown",
   "metadata": {},
   "source": [
    "some explolatory data analysis and data visualizations"
   ]
  },
  {
   "cell_type": "code",
   "execution_count": 6,
   "metadata": {},
   "outputs": [
    {
     "data": {
      "text/plain": [
       "FEMALE    313\n",
       "MALE        4\n",
       "Name: Gender, dtype: int64"
      ]
     },
     "execution_count": 6,
     "metadata": {},
     "output_type": "execute_result"
    }
   ],
   "source": [
    "# looking at the most affected gender\n",
    "\n",
    "df1.Gender.value_counts()"
   ]
  },
  {
   "cell_type": "markdown",
   "metadata": {},
   "source": [
    "females are the most affected"
   ]
  },
  {
   "cell_type": "code",
   "execution_count": 7,
   "metadata": {},
   "outputs": [
    {
     "data": {
      "image/png": "[encoded data removed]",
      "text/plain": [
       "<Figure size 1000x800 with 1 Axes>"
      ]
     },
     "metadata": {},
     "output_type": "display_data"
    }
   ],
   "source": [
    "# visualize this\n",
    "# using a histogram\n",
    "\n",
    "import plotly.express as px\n",
    "import matplotlib.pyplot as plt\n",
    "\n",
    "\n",
    "\n",
    "plt.rcParams[\"figure.figsize\"] = (10,8)\n",
    "\n",
    "plt.xlabel(\"Gender\")\n",
    "plt.ylabel(\"Diagnosed\")\n",
    "plt.title(\"Breast Cancer Most Affected Gender\")\n",
    "plt.hist(df1.Gender)\n",
    "plt.show()"
   ]
  },
  {
   "cell_type": "code",
   "execution_count": 8,
   "metadata": {},
   "outputs": [
    {
     "data": {
      "text/plain": [
       "Index(['Patient_ID', 'Age', 'Gender', 'Protein1', 'Protein2', 'Protein3',\n",
       "       'Protein4', 'Tumour_Stage', 'Histology', 'ER status', 'PR status',\n",
       "       'HER2 status', 'Surgery_type', 'Date_of_Surgery', 'Date_of_Last_Visit',\n",
       "       'Patient_Status'],\n",
       "      dtype='object')"
      ]
     },
     "execution_count": 8,
     "metadata": {},
     "output_type": "execute_result"
    }
   ],
   "source": [
    "df1.columns"
   ]
  },
  {
   "cell_type": "markdown",
   "metadata": {},
   "source": [
    "look at the stage of tumors for patients"
   ]
  },
  {
   "cell_type": "code",
   "execution_count": 9,
   "metadata": {},
   "outputs": [
    {
     "data": {
      "text/plain": [
       "array(['III', 'II', 'I'], dtype=object)"
      ]
     },
     "execution_count": 9,
     "metadata": {},
     "output_type": "execute_result"
    }
   ],
   "source": [
    "df1.Tumour_Stage.unique()"
   ]
  },
  {
   "cell_type": "markdown",
   "metadata": {},
   "source": [
    "start with a histogram"
   ]
  },
  {
   "cell_type": "code",
   "execution_count": 10,
   "metadata": {},
   "outputs": [
    {
     "data": {
      "image/png": "[encoded data removed]",
      "text/plain": [
       "<Figure size 1000x800 with 1 Axes>"
      ]
     },
     "metadata": {},
     "output_type": "display_data"
    }
   ],
   "source": [
    "plt.rcParams[\"figure.figsize\"] = (10,8)\n",
    "\n",
    "plt.xlabel(\"Stage\")\n",
    "plt.ylabel(\"Number of Patients\")\n",
    "plt.title(\"Distribution of Patients' Tumor Stages\")\n",
    "plt.hist(df1.Tumour_Stage)\n",
    "plt.show()"
   ]
  },
  {
   "cell_type": "markdown",
   "metadata": {},
   "source": [
    "most patients are in the second stage"
   ]
  },
  {
   "cell_type": "code",
   "execution_count": 11,
   "metadata": {},
   "outputs": [
    {
     "data": {
      "application/vnd.plotly.v1+json": {
       "config": {
        "plotlyServerURL": "https://plot.ly"
       },
       "data": [
        {
         "domain": {
          "x": [
           0,
           1
          ],
          "y": [
           0,
           1
          ]
         },
         "hole": 0,
         "hovertemplate": "label=%{label}<br>value=%{value}<extra></extra>",
         "labels": [
          "II",
          "III",
          "I"
         ],
         "legendgroup": "",
         "name": "",
         "showlegend": true,
         "type": "pie",
         "values": [
          180,
          77,
          60
         ]
        }
       ],
       "layout": {
        "legend": {
         "tracegroupgap": 0
        },
        "template": {
         "data": {
          "bar": [
           {
            "error_x": {
             "color": "#2a3f5f"
            },
            "error_y": {
             "color": "#2a3f5f"
            },
            "marker": {
             "line": {
              "color": "#E5ECF6",
              "width": 0.5
             },
             "pattern": {
              "fillmode": "overlay",
              "size": 10,
              "solidity": 0.2
             }
            },
            "type": "bar"
           }
          ],
          "barpolar": [
           {
            "marker": {
             "line": {
              "color": "#E5ECF6",
              "width": 0.5
             },
             "pattern": {
              "fillmode": "overlay",
              "size": 10,
              "solidity": 0.2
             }
            },
            "type": "barpolar"
           }
          ],
          "carpet": [
           {
            "aaxis": {
             "endlinecolor": "#2a3f5f",
             "gridcolor": "white",
             "linecolor": "white",
             "minorgridcolor": "white",
             "startlinecolor": "#2a3f5f"
            },
            "baxis": {
             "endlinecolor": "#2a3f5f",
             "gridcolor": "white",
             "linecolor": "white",
             "minorgridcolor": "white",
             "startlinecolor": "#2a3f5f"
            },
            "type": "carpet"
           }
          ],
          "choropleth": [
           {
            "colorbar": {
             "outlinewidth": 0,
             "ticks": ""
            },
            "type": "choropleth"
           }
          ],
          "contour": [
           {
            "colorbar": {
             "outlinewidth": 0,
             "ticks": ""
            },
            "colorscale": [
             [
              0,
              "#0d0887"
             ],
             [
              0.1111111111111111,
              "#46039f"
             ],
             [
              0.2222222222222222,
              "#7201a8"
             ],
             [
              0.3333333333333333,
              "#9c179e"
             ],
             [
              0.4444444444444444,
              "#bd3786"
             ],
             [
              0.5555555555555556,
              "#d8576b"
             ],
             [
              0.6666666666666666,
              "#ed7953"
             ],
             [
              0.7777777777777778,
              "#fb9f3a"
             ],
             [
              0.8888888888888888,
              "#fdca26"
             ],
             [
              1,
              "#f0f921"
             ]
            ],
            "type": "contour"
           }
          ],
          "contourcarpet": [
           {
            "colorbar": {
             "outlinewidth": 0,
             "ticks": ""
            },
            "type": "contourcarpet"
           }
          ],
          "heatmap": [
           {
            "colorbar": {
             "outlinewidth": 0,
             "ticks": ""
            },
            "colorscale": [
             [
              0,
              "#0d0887"
             ],
             [
              0.1111111111111111,
              "#46039f"
             ],
             [
              0.2222222222222222,
              "#7201a8"
             ],
             [
              0.3333333333333333,
              "#9c179e"
             ],
             [
              0.4444444444444444,
              "#bd3786"
             ],
             [
              0.5555555555555556,
              "#d8576b"
             ],
             [
              0.6666666666666666,
              "#ed7953"
             ],
             [
              0.7777777777777778,
              "#fb9f3a"
             ],
             [
              0.8888888888888888,
              "#fdca26"
             ],
             [
              1,
              "#f0f921"
             ]
            ],
            "type": "heatmap"
           }
          ],
          "heatmapgl": [
           {
            "colorbar": {
             "outlinewidth": 0,
             "ticks": ""
            },
            "colorscale": [
             [
              0,
              "#0d0887"
             ],
             [
              0.1111111111111111,
              "#46039f"
             ],
             [
              0.2222222222222222,
              "#7201a8"
             ],
             [
              0.3333333333333333,
              "#9c179e"
             ],
             [
              0.4444444444444444,
              "#bd3786"
             ],
             [
              0.5555555555555556,
              "#d8576b"
             ],
             [
              0.6666666666666666,
              "#ed7953"
             ],
             [
              0.7777777777777778,
              "#fb9f3a"
             ],
             [
              0.8888888888888888,
              "#fdca26"
             ],
             [
              1,
              "#f0f921"
             ]
            ],
            "type": "heatmapgl"
           }
          ],
          "histogram": [
           {
            "marker": {
             "pattern": {
              "fillmode": "overlay",
              "size": 10,
              "solidity": 0.2
             }
            },
            "type": "histogram"
           }
          ],
          "histogram2d": [
           {
            "colorbar": {
             "outlinewidth": 0,
             "ticks": ""
            },
            "colorscale": [
             [
              0,
              "#0d0887"
             ],
             [
              0.1111111111111111,
              "#46039f"
             ],
             [
              0.2222222222222222,
              "#7201a8"
             ],
             [
              0.3333333333333333,
              "#9c179e"
             ],
             [
              0.4444444444444444,
              "#bd3786"
             ],
             [
              0.5555555555555556,
              "#d8576b"
             ],
             [
              0.6666666666666666,
              "#ed7953"
             ],
             [
              0.7777777777777778,
              "#fb9f3a"
             ],
             [
              0.8888888888888888,
              "#fdca26"
             ],
             [
              1,
              "#f0f921"
             ]
            ],
            "type": "histogram2d"
           }
          ],
          "histogram2dcontour": [
           {
            "colorbar": {
             "outlinewidth": 0,
             "ticks": ""
            },
            "colorscale": [
             [
              0,
              "#0d0887"
             ],
             [
              0.1111111111111111,
              "#46039f"
             ],
             [
              0.2222222222222222,
              "#7201a8"
             ],
             [
              0.3333333333333333,
              "#9c179e"
             ],
             [
              0.4444444444444444,
              "#bd3786"
             ],
             [
              0.5555555555555556,
              "#d8576b"
             ],
             [
              0.6666666666666666,
              "#ed7953"
             ],
             [
              0.7777777777777778,
              "#fb9f3a"
             ],
             [
              0.8888888888888888,
              "#fdca26"
             ],
             [
              1,
              "#f0f921"
             ]
            ],
            "type": "histogram2dcontour"
           }
          ],
          "mesh3d": [
           {
            "colorbar": {
             "outlinewidth": 0,
             "ticks": ""
            },
            "type": "mesh3d"
           }
          ],
          "parcoords": [
           {
            "line": {
             "colorbar": {
              "outlinewidth": 0,
              "ticks": ""
             }
            },
            "type": "parcoords"
           }
          ],
          "pie": [
           {
            "automargin": true,
            "type": "pie"
           }
          ],
          "scatter": [
           {
            "fillpattern": {
             "fillmode": "overlay",
             "size": 10,
             "solidity": 0.2
            },
            "type": "scatter"
           }
          ],
          "scatter3d": [
           {
            "line": {
             "colorbar": {
              "outlinewidth": 0,
              "ticks": ""
             }
            },
            "marker": {
             "colorbar": {
              "outlinewidth": 0,
              "ticks": ""
             }
            },
            "type": "scatter3d"
           }
          ],
          "scattercarpet": [
           {
            "marker": {
             "colorbar": {
              "outlinewidth": 0,
              "ticks": ""
             }
            },
            "type": "scattercarpet"
           }
          ],
          "scattergeo": [
           {
            "marker": {
             "colorbar": {
              "outlinewidth": 0,
              "ticks": ""
             }
            },
            "type": "scattergeo"
           }
          ],
          "scattergl": [
           {
            "marker": {
             "colorbar": {
              "outlinewidth": 0,
              "ticks": ""
             }
            },
            "type": "scattergl"
           }
          ],
          "scattermapbox": [
           {
            "marker": {
             "colorbar": {
              "outlinewidth": 0,
              "ticks": ""
             }
            },
            "type": "scattermapbox"
           }
          ],
          "scatterpolar": [
           {
            "marker": {
             "colorbar": {
              "outlinewidth": 0,
              "ticks": ""
             }
            },
            "type": "scatterpolar"
           }
          ],
          "scatterpolargl": [
           {
            "marker": {
             "colorbar": {
              "outlinewidth": 0,
              "ticks": ""
             }
            },
            "type": "scatterpolargl"
           }
          ],
          "scatterternary": [
           {
            "marker": {
             "colorbar": {
              "outlinewidth": 0,
              "ticks": ""
             }
            },
            "type": "scatterternary"
           }
          ],
          "surface": [
           {
            "colorbar": {
             "outlinewidth": 0,
             "ticks": ""
            },
            "colorscale": [
             [
              0,
              "#0d0887"
             ],
             [
              0.1111111111111111,
              "#46039f"
             ],
             [
              0.2222222222222222,
              "#7201a8"
             ],
             [
              0.3333333333333333,
              "#9c179e"
             ],
             [
              0.4444444444444444,
              "#bd3786"
             ],
             [
              0.5555555555555556,
              "#d8576b"
             ],
             [
              0.6666666666666666,
              "#ed7953"
             ],
             [
              0.7777777777777778,
              "#fb9f3a"
             ],
             [
              0.8888888888888888,
              "#fdca26"
             ],
             [
              1,
              "#f0f921"
             ]
            ],
            "type": "surface"
           }
          ],
          "table": [
           {
            "cells": {
             "fill": {
              "color": "#EBF0F8"
             },
             "line": {
              "color": "white"
             }
            },
            "header": {
             "fill": {
              "color": "#C8D4E3"
             },
             "line": {
              "color": "white"
             }
            },
            "type": "table"
           }
          ]
         },
         "layout": {
          "annotationdefaults": {
           "arrowcolor": "#2a3f5f",
           "arrowhead": 0,
           "arrowwidth": 1
          },
          "autotypenumbers": "strict",
          "coloraxis": {
           "colorbar": {
            "outlinewidth": 0,
            "ticks": ""
           }
          },
          "colorscale": {
           "diverging": [
            [
             0,
             "#8e0152"
            ],
            [
             0.1,
             "#c51b7d"
            ],
            [
             0.2,
             "#de77ae"
            ],
            [
             0.3,
             "#f1b6da"
            ],
            [
             0.4,
             "#fde0ef"
            ],
            [
             0.5,
             "#f7f7f7"
            ],
            [
             0.6,
             "#e6f5d0"
            ],
            [
             0.7,
             "#b8e186"
            ],
            [
             0.8,
             "#7fbc41"
            ],
            [
             0.9,
             "#4d9221"
            ],
            [
             1,
             "#276419"
            ]
           ],
           "sequential": [
            [
             0,
             "#0d0887"
            ],
            [
             0.1111111111111111,
             "#46039f"
            ],
            [
             0.2222222222222222,
             "#7201a8"
            ],
            [
             0.3333333333333333,
             "#9c179e"
            ],
            [
             0.4444444444444444,
             "#bd3786"
            ],
            [
             0.5555555555555556,
             "#d8576b"
            ],
            [
             0.6666666666666666,
             "#ed7953"
            ],
            [
             0.7777777777777778,
             "#fb9f3a"
            ],
            [
             0.8888888888888888,
             "#fdca26"
            ],
            [
             1,
             "#f0f921"
            ]
           ],
           "sequentialminus": [
            [
             0,
             "#0d0887"
            ],
            [
             0.1111111111111111,
             "#46039f"
            ],
            [
             0.2222222222222222,
             "#7201a8"
            ],
            [
             0.3333333333333333,
             "#9c179e"
            ],
            [
             0.4444444444444444,
             "#bd3786"
            ],
            [
             0.5555555555555556,
             "#d8576b"
            ],
            [
             0.6666666666666666,
             "#ed7953"
            ],
            [
             0.7777777777777778,
             "#fb9f3a"
            ],
            [
             0.8888888888888888,
             "#fdca26"
            ],
            [
             1,
             "#f0f921"
            ]
           ]
          },
          "colorway": [
           "#636efa",
           "#EF553B",
           "#00cc96",
           "#ab63fa",
           "#FFA15A",
           "#19d3f3",
           "#FF6692",
           "#B6E880",
           "#FF97FF",
           "#FECB52"
          ],
          "font": {
           "color": "#2a3f5f"
          },
          "geo": {
           "bgcolor": "white",
           "lakecolor": "white",
           "landcolor": "#E5ECF6",
           "showlakes": true,
           "showland": true,
           "subunitcolor": "white"
          },
          "hoverlabel": {
           "align": "left"
          },
          "hovermode": "closest",
          "mapbox": {
           "style": "light"
          },
          "paper_bgcolor": "white",
          "plot_bgcolor": "#E5ECF6",
          "polar": {
           "angularaxis": {
            "gridcolor": "white",
            "linecolor": "white",
            "ticks": ""
           },
           "bgcolor": "#E5ECF6",
           "radialaxis": {
            "gridcolor": "white",
            "linecolor": "white",
            "ticks": ""
           }
          },
          "scene": {
           "xaxis": {
            "backgroundcolor": "#E5ECF6",
            "gridcolor": "white",
            "gridwidth": 2,
            "linecolor": "white",
            "showbackground": true,
            "ticks": "",
            "zerolinecolor": "white"
           },
           "yaxis": {
            "backgroundcolor": "#E5ECF6",
            "gridcolor": "white",
            "gridwidth": 2,
            "linecolor": "white",
            "showbackground": true,
            "ticks": "",
            "zerolinecolor": "white"
           },
           "zaxis": {
            "backgroundcolor": "#E5ECF6",
            "gridcolor": "white",
            "gridwidth": 2,
            "linecolor": "white",
            "showbackground": true,
            "ticks": "",
            "zerolinecolor": "white"
           }
          },
          "shapedefaults": {
           "line": {
            "color": "#2a3f5f"
           }
          },
          "ternary": {
           "aaxis": {
            "gridcolor": "white",
            "linecolor": "white",
            "ticks": ""
           },
           "baxis": {
            "gridcolor": "white",
            "linecolor": "white",
            "ticks": ""
           },
           "bgcolor": "#E5ECF6",
           "caxis": {
            "gridcolor": "white",
            "linecolor": "white",
            "ticks": ""
           }
          },
          "title": {
           "x": 0.05
          },
          "xaxis": {
           "automargin": true,
           "gridcolor": "white",
           "linecolor": "white",
           "ticks": "",
           "title": {
            "standoff": 15
           },
           "zerolinecolor": "white",
           "zerolinewidth": 2
          },
          "yaxis": {
           "automargin": true,
           "gridcolor": "white",
           "linecolor": "white",
           "ticks": "",
           "title": {
            "standoff": 15
           },
           "zerolinecolor": "white",
           "zerolinewidth": 2
          }
         }
        },
        "title": {
         "text": "Distribution of Patients' Tumor Stages"
        }
       }
      }
     },
     "metadata": {},
     "output_type": "display_data"
    }
   ],
   "source": [
    "# a pie chart \n",
    "stage = df1.Tumour_Stage.value_counts()\n",
    "name = stage.index\n",
    "value = stage.values\n",
    "\n",
    "figure = px.pie(df1, values= value, names= name, hole= 0, title= \"Distribution of Patients' Tumor Stages\")\n",
    "figure.show()"
   ]
  },
  {
   "cell_type": "markdown",
   "metadata": {},
   "source": [
    "Heve a look at histology of patients"
   ]
  },
  {
   "cell_type": "code",
   "execution_count": 12,
   "metadata": {},
   "outputs": [
    {
     "data": {
      "text/plain": [
       "array(['Infiltrating Ductal Carcinoma', 'Mucinous Carcinoma',\n",
       "       'Infiltrating Lobular Carcinoma'], dtype=object)"
      ]
     },
     "execution_count": 12,
     "metadata": {},
     "output_type": "execute_result"
    }
   ],
   "source": [
    "df1.Histology.unique()"
   ]
  },
  {
   "cell_type": "code",
   "execution_count": 13,
   "metadata": {},
   "outputs": [
    {
     "data": {
      "image/png": "[encoded data removed]",
      "text/plain": [
       "<Figure size 1000x800 with 1 Axes>"
      ]
     },
     "metadata": {},
     "output_type": "display_data"
    }
   ],
   "source": [
    "plt.rcParams[\"figure.figsize\"] = (10,8)\n",
    "\n",
    "plt.xlabel(\"Histology\")\n",
    "plt.ylabel(\"Number of Patients\")\n",
    "plt.title(\"Distribution of Patients' Histology\")\n",
    "plt.hist(df1.Histology)\n",
    "plt.show()"
   ]
  },
  {
   "cell_type": "markdown",
   "metadata": {},
   "source": [
    "most patiemts in Infiltrating Ductal Carcinoma stage\n"
   ]
  },
  {
   "cell_type": "code",
   "execution_count": 14,
   "metadata": {},
   "outputs": [
    {
     "data": {
      "application/vnd.plotly.v1+json": {
       "config": {
        "plotlyServerURL": "https://plot.ly"
       },
       "data": [
        {
         "domain": {
          "x": [
           0,
           1
          ],
          "y": [
           0,
           1
          ]
         },
         "hole": 0,
         "hovertemplate": "label=%{label}<br>value=%{value}<extra></extra>",
         "labels": [
          "Infiltrating Ductal Carcinoma",
          "Infiltrating Lobular Carcinoma",
          "Mucinous Carcinoma"
         ],
         "legendgroup": "",
         "name": "",
         "showlegend": true,
         "type": "pie",
         "values": [
          224,
          81,
          12
         ]
        }
       ],
       "layout": {
        "legend": {
         "tracegroupgap": 0
        },
        "template": {
         "data": {
          "bar": [
           {
            "error_x": {
             "color": "#2a3f5f"
            },
            "error_y": {
             "color": "#2a3f5f"
            },
            "marker": {
             "line": {
              "color": "#E5ECF6",
              "width": 0.5
             },
             "pattern": {
              "fillmode": "overlay",
              "size": 10,
              "solidity": 0.2
             }
            },
            "type": "bar"
           }
          ],
          "barpolar": [
           {
            "marker": {
             "line": {
              "color": "#E5ECF6",
              "width": 0.5
             },
             "pattern": {
              "fillmode": "overlay",
              "size": 10,
              "solidity": 0.2
             }
            },
            "type": "barpolar"
           }
          ],
          "carpet": [
           {
            "aaxis": {
             "endlinecolor": "#2a3f5f",
             "gridcolor": "white",
             "linecolor": "white",
             "minorgridcolor": "white",
             "startlinecolor": "#2a3f5f"
            },
            "baxis": {
             "endlinecolor": "#2a3f5f",
             "gridcolor": "white",
             "linecolor": "white",
             "minorgridcolor": "white",
             "startlinecolor": "#2a3f5f"
            },
            "type": "carpet"
           }
          ],
          "choropleth": [
           {
            "colorbar": {
             "outlinewidth": 0,
             "ticks": ""
            },
            "type": "choropleth"
           }
          ],
          "contour": [
           {
            "colorbar": {
             "outlinewidth": 0,
             "ticks": ""
            },
            "colorscale": [
             [
              0,
              "#0d0887"
             ],
             [
              0.1111111111111111,
              "#46039f"
             ],
             [
              0.2222222222222222,
              "#7201a8"
             ],
             [
              0.3333333333333333,
              "#9c179e"
             ],
             [
              0.4444444444444444,
              "#bd3786"
             ],
             [
              0.5555555555555556,
              "#d8576b"
             ],
             [
              0.6666666666666666,
              "#ed7953"
             ],
             [
              0.7777777777777778,
              "#fb9f3a"
             ],
             [
              0.8888888888888888,
              "#fdca26"
             ],
             [
              1,
              "#f0f921"
             ]
            ],
            "type": "contour"
           }
          ],
          "contourcarpet": [
           {
            "colorbar": {
             "outlinewidth": 0,
             "ticks": ""
            },
            "type": "contourcarpet"
           }
          ],
          "heatmap": [
           {
            "colorbar": {
             "outlinewidth": 0,
             "ticks": ""
            },
            "colorscale": [
             [
              0,
              "#0d0887"
             ],
             [
              0.1111111111111111,
              "#46039f"
             ],
             [
              0.2222222222222222,
              "#7201a8"
             ],
             [
              0.3333333333333333,
              "#9c179e"
             ],
             [
              0.4444444444444444,
              "#bd3786"
             ],
             [
              0.5555555555555556,
              "#d8576b"
             ],
             [
              0.6666666666666666,
              "#ed7953"
             ],
             [
              0.7777777777777778,
              "#fb9f3a"
             ],
             [
              0.8888888888888888,
              "#fdca26"
             ],
             [
              1,
              "#f0f921"
             ]
            ],
            "type": "heatmap"
           }
          ],
          "heatmapgl": [
           {
            "colorbar": {
             "outlinewidth": 0,
             "ticks": ""
            },
            "colorscale": [
             [
              0,
              "#0d0887"
             ],
             [
              0.1111111111111111,
              "#46039f"
             ],
             [
              0.2222222222222222,
              "#7201a8"
             ],
             [
              0.3333333333333333,
              "#9c179e"
             ],
             [
              0.4444444444444444,
              "#bd3786"
             ],
             [
              0.5555555555555556,
              "#d8576b"
             ],
             [
              0.6666666666666666,
              "#ed7953"
             ],
             [
              0.7777777777777778,
              "#fb9f3a"
             ],
             [
              0.8888888888888888,
              "#fdca26"
             ],
             [
              1,
              "#f0f921"
             ]
            ],
            "type": "heatmapgl"
           }
          ],
          "histogram": [
           {
            "marker": {
             "pattern": {
              "fillmode": "overlay",
              "size": 10,
              "solidity": 0.2
             }
            },
            "type": "histogram"
           }
          ],
          "histogram2d": [
           {
            "colorbar": {
             "outlinewidth": 0,
             "ticks": ""
            },
            "colorscale": [
             [
              0,
              "#0d0887"
             ],
             [
              0.1111111111111111,
              "#46039f"
             ],
             [
              0.2222222222222222,
              "#7201a8"
             ],
             [
              0.3333333333333333,
              "#9c179e"
             ],
             [
              0.4444444444444444,
              "#bd3786"
             ],
             [
              0.5555555555555556,
              "#d8576b"
             ],
             [
              0.6666666666666666,
              "#ed7953"
             ],
             [
              0.7777777777777778,
              "#fb9f3a"
             ],
             [
              0.8888888888888888,
              "#fdca26"
             ],
             [
              1,
              "#f0f921"
             ]
            ],
            "type": "histogram2d"
           }
          ],
          "histogram2dcontour": [
           {
            "colorbar": {
             "outlinewidth": 0,
             "ticks": ""
            },
            "colorscale": [
             [
              0,
              "#0d0887"
             ],
             [
              0.1111111111111111,
              "#46039f"
             ],
             [
              0.2222222222222222,
              "#7201a8"
             ],
             [
              0.3333333333333333,
              "#9c179e"
             ],
             [
              0.4444444444444444,
              "#bd3786"
             ],
             [
              0.5555555555555556,
              "#d8576b"
             ],
             [
              0.6666666666666666,
              "#ed7953"
             ],
             [
              0.7777777777777778,
              "#fb9f3a"
             ],
             [
              0.8888888888888888,
              "#fdca26"
             ],
             [
              1,
              "#f0f921"
             ]
            ],
            "type": "histogram2dcontour"
           }
          ],
          "mesh3d": [
           {
            "colorbar": {
             "outlinewidth": 0,
             "ticks": ""
            },
            "type": "mesh3d"
           }
          ],
          "parcoords": [
           {
            "line": {
             "colorbar": {
              "outlinewidth": 0,
              "ticks": ""
             }
            },
            "type": "parcoords"
           }
          ],
          "pie": [
           {
            "automargin": true,
            "type": "pie"
           }
          ],
          "scatter": [
           {
            "fillpattern": {
             "fillmode": "overlay",
             "size": 10,
             "solidity": 0.2
            },
            "type": "scatter"
           }
          ],
          "scatter3d": [
           {
            "line": {
             "colorbar": {
              "outlinewidth": 0,
              "ticks": ""
             }
            },
            "marker": {
             "colorbar": {
              "outlinewidth": 0,
              "ticks": ""
             }
            },
            "type": "scatter3d"
           }
          ],
          "scattercarpet": [
           {
            "marker": {
             "colorbar": {
              "outlinewidth": 0,
              "ticks": ""
             }
            },
            "type": "scattercarpet"
           }
          ],
          "scattergeo": [
           {
            "marker": {
             "colorbar": {
              "outlinewidth": 0,
              "ticks": ""
             }
            },
            "type": "scattergeo"
           }
          ],
          "scattergl": [
           {
            "marker": {
             "colorbar": {
              "outlinewidth": 0,
              "ticks": ""
             }
            },
            "type": "scattergl"
           }
          ],
          "scattermapbox": [
           {
            "marker": {
             "colorbar": {
              "outlinewidth": 0,
              "ticks": ""
             }
            },
            "type": "scattermapbox"
           }
          ],
          "scatterpolar": [
           {
            "marker": {
             "colorbar": {
              "outlinewidth": 0,
              "ticks": ""
             }
            },
            "type": "scatterpolar"
           }
          ],
          "scatterpolargl": [
           {
            "marker": {
             "colorbar": {
              "outlinewidth": 0,
              "ticks": ""
             }
            },
            "type": "scatterpolargl"
           }
          ],
          "scatterternary": [
           {
            "marker": {
             "colorbar": {
              "outlinewidth": 0,
              "ticks": ""
             }
            },
            "type": "scatterternary"
           }
          ],
          "surface": [
           {
            "colorbar": {
             "outlinewidth": 0,
             "ticks": ""
            },
            "colorscale": [
             [
              0,
              "#0d0887"
             ],
             [
              0.1111111111111111,
              "#46039f"
             ],
             [
              0.2222222222222222,
              "#7201a8"
             ],
             [
              0.3333333333333333,
              "#9c179e"
             ],
             [
              0.4444444444444444,
              "#bd3786"
             ],
             [
              0.5555555555555556,
              "#d8576b"
             ],
             [
              0.6666666666666666,
              "#ed7953"
             ],
             [
              0.7777777777777778,
              "#fb9f3a"
             ],
             [
              0.8888888888888888,
              "#fdca26"
             ],
             [
              1,
              "#f0f921"
             ]
            ],
            "type": "surface"
           }
          ],
          "table": [
           {
            "cells": {
             "fill": {
              "color": "#EBF0F8"
             },
             "line": {
              "color": "white"
             }
            },
            "header": {
             "fill": {
              "color": "#C8D4E3"
             },
             "line": {
              "color": "white"
             }
            },
            "type": "table"
           }
          ]
         },
         "layout": {
          "annotationdefaults": {
           "arrowcolor": "#2a3f5f",
           "arrowhead": 0,
           "arrowwidth": 1
          },
          "autotypenumbers": "strict",
          "coloraxis": {
           "colorbar": {
            "outlinewidth": 0,
            "ticks": ""
           }
          },
          "colorscale": {
           "diverging": [
            [
             0,
             "#8e0152"
            ],
            [
             0.1,
             "#c51b7d"
            ],
            [
             0.2,
             "#de77ae"
            ],
            [
             0.3,
             "#f1b6da"
            ],
            [
             0.4,
             "#fde0ef"
            ],
            [
             0.5,
             "#f7f7f7"
            ],
            [
             0.6,
             "#e6f5d0"
            ],
            [
             0.7,
             "#b8e186"
            ],
            [
             0.8,
             "#7fbc41"
            ],
            [
             0.9,
             "#4d9221"
            ],
            [
             1,
             "#276419"
            ]
           ],
           "sequential": [
            [
             0,
             "#0d0887"
            ],
            [
             0.1111111111111111,
             "#46039f"
            ],
            [
             0.2222222222222222,
             "#7201a8"
            ],
            [
             0.3333333333333333,
             "#9c179e"
            ],
            [
             0.4444444444444444,
             "#bd3786"
            ],
            [
             0.5555555555555556,
             "#d8576b"
            ],
            [
             0.6666666666666666,
             "#ed7953"
            ],
            [
             0.7777777777777778,
             "#fb9f3a"
            ],
            [
             0.8888888888888888,
             "#fdca26"
            ],
            [
             1,
             "#f0f921"
            ]
           ],
           "sequentialminus": [
            [
             0,
             "#0d0887"
            ],
            [
             0.1111111111111111,
             "#46039f"
            ],
            [
             0.2222222222222222,
             "#7201a8"
            ],
            [
             0.3333333333333333,
             "#9c179e"
            ],
            [
             0.4444444444444444,
             "#bd3786"
            ],
            [
             0.5555555555555556,
             "#d8576b"
            ],
            [
             0.6666666666666666,
             "#ed7953"
            ],
            [
             0.7777777777777778,
             "#fb9f3a"
            ],
            [
             0.8888888888888888,
             "#fdca26"
            ],
            [
             1,
             "#f0f921"
            ]
           ]
          },
          "colorway": [
           "#636efa",
           "#EF553B",
           "#00cc96",
           "#ab63fa",
           "#FFA15A",
           "#19d3f3",
           "#FF6692",
           "#B6E880",
           "#FF97FF",
           "#FECB52"
          ],
          "font": {
           "color": "#2a3f5f"
          },
          "geo": {
           "bgcolor": "white",
           "lakecolor": "white",
           "landcolor": "#E5ECF6",
           "showlakes": true,
           "showland": true,
           "subunitcolor": "white"
          },
          "hoverlabel": {
           "align": "left"
          },
          "hovermode": "closest",
          "mapbox": {
           "style": "light"
          },
          "paper_bgcolor": "white",
          "plot_bgcolor": "#E5ECF6",
          "polar": {
           "angularaxis": {
            "gridcolor": "white",
            "linecolor": "white",
            "ticks": ""
           },
           "bgcolor": "#E5ECF6",
           "radialaxis": {
            "gridcolor": "white",
            "linecolor": "white",
            "ticks": ""
           }
          },
          "scene": {
           "xaxis": {
            "backgroundcolor": "#E5ECF6",
            "gridcolor": "white",
            "gridwidth": 2,
            "linecolor": "white",
            "showbackground": true,
            "ticks": "",
            "zerolinecolor": "white"
           },
           "yaxis": {
            "backgroundcolor": "#E5ECF6",
            "gridcolor": "white",
            "gridwidth": 2,
            "linecolor": "white",
            "showbackground": true,
            "ticks": "",
            "zerolinecolor": "white"
           },
           "zaxis": {
            "backgroundcolor": "#E5ECF6",
            "gridcolor": "white",
            "gridwidth": 2,
            "linecolor": "white",
            "showbackground": true,
            "ticks": "",
            "zerolinecolor": "white"
           }
          },
          "shapedefaults": {
           "line": {
            "color": "#2a3f5f"
           }
          },
          "ternary": {
           "aaxis": {
            "gridcolor": "white",
            "linecolor": "white",
            "ticks": ""
           },
           "baxis": {
            "gridcolor": "white",
            "linecolor": "white",
            "ticks": ""
           },
           "bgcolor": "#E5ECF6",
           "caxis": {
            "gridcolor": "white",
            "linecolor": "white",
            "ticks": ""
           }
          },
          "title": {
           "x": 0.05
          },
          "xaxis": {
           "automargin": true,
           "gridcolor": "white",
           "linecolor": "white",
           "ticks": "",
           "title": {
            "standoff": 15
           },
           "zerolinecolor": "white",
           "zerolinewidth": 2
          },
          "yaxis": {
           "automargin": true,
           "gridcolor": "white",
           "linecolor": "white",
           "ticks": "",
           "title": {
            "standoff": 15
           },
           "zerolinecolor": "white",
           "zerolinewidth": 2
          }
         }
        },
        "title": {
         "text": "Distribution of Patients' Histology"
        }
       }
      }
     },
     "metadata": {},
     "output_type": "display_data"
    }
   ],
   "source": [
    "# a pie chart\n",
    "histology = df1.Histology.value_counts()\n",
    "name = histology.index\n",
    "value = histology.values\n",
    "\n",
    "figure = px.pie(df1, values= value, names= name, hole= 0, title= \"Distribution of Patients' Histology\")\n",
    "figure.show()"
   ]
  },
  {
   "cell_type": "markdown",
   "metadata": {},
   "source": [
    "looking at ER status, PR, HER2 status"
   ]
  },
  {
   "cell_type": "code",
   "execution_count": 15,
   "metadata": {},
   "outputs": [
    {
     "data": {
      "text/plain": [
       "Positive    317\n",
       "Name: ER status, dtype: int64"
      ]
     },
     "execution_count": 15,
     "metadata": {},
     "output_type": "execute_result"
    }
   ],
   "source": [
    "df1[\"ER status\"].value_counts()"
   ]
  },
  {
   "cell_type": "code",
   "execution_count": 16,
   "metadata": {},
   "outputs": [
    {
     "data": {
      "text/plain": [
       "Positive    317\n",
       "Name: PR status, dtype: int64"
      ]
     },
     "execution_count": 16,
     "metadata": {},
     "output_type": "execute_result"
    }
   ],
   "source": [
    "df1[\"PR status\"].value_counts()"
   ]
  },
  {
   "cell_type": "code",
   "execution_count": 17,
   "metadata": {},
   "outputs": [
    {
     "data": {
      "text/plain": [
       "Negative    288\n",
       "Positive     29\n",
       "Name: HER2 status, dtype: int64"
      ]
     },
     "execution_count": 17,
     "metadata": {},
     "output_type": "execute_result"
    }
   ],
   "source": [
    "df1[\"HER2 status\"].value_counts()"
   ]
  },
  {
   "cell_type": "markdown",
   "metadata": {},
   "source": [
    "type of surgeries done"
   ]
  },
  {
   "cell_type": "code",
   "execution_count": 18,
   "metadata": {},
   "outputs": [
    {
     "data": {
      "image/png": "[encoded data removed]",
      "text/plain": [
       "<Figure size 1000x800 with 1 Axes>"
      ]
     },
     "metadata": {},
     "output_type": "display_data"
    }
   ],
   "source": [
    "plt.rcParams[\"figure.figsize\"] = (10,8)\n",
    "\n",
    "plt.xlabel(\"Surgeries\")\n",
    "plt.ylabel(\"Number of Patients\")\n",
    "plt.title(\"Distribution of Types of Surgeries\")\n",
    "plt.hist(df1.Surgery_type)\n",
    "plt.show()"
   ]
  },
  {
   "cell_type": "code",
   "execution_count": 19,
   "metadata": {},
   "outputs": [
    {
     "data": {
      "application/vnd.plotly.v1+json": {
       "config": {
        "plotlyServerURL": "https://plot.ly"
       },
       "data": [
        {
         "domain": {
          "x": [
           0,
           1
          ],
          "y": [
           0,
           1
          ]
         },
         "hole": 0,
         "hovertemplate": "label=%{label}<br>value=%{value}<extra></extra>",
         "labels": [
          "Other",
          "Modified Radical Mastectomy",
          "Lumpectomy",
          "Simple Mastectomy"
         ],
         "legendgroup": "",
         "name": "",
         "showlegend": true,
         "type": "pie",
         "values": [
          97,
          89,
          66,
          65
         ]
        }
       ],
       "layout": {
        "legend": {
         "tracegroupgap": 0
        },
        "template": {
         "data": {
          "bar": [
           {
            "error_x": {
             "color": "#2a3f5f"
            },
            "error_y": {
             "color": "#2a3f5f"
            },
            "marker": {
             "line": {
              "color": "#E5ECF6",
              "width": 0.5
             },
             "pattern": {
              "fillmode": "overlay",
              "size": 10,
              "solidity": 0.2
             }
            },
            "type": "bar"
           }
          ],
          "barpolar": [
           {
            "marker": {
             "line": {
              "color": "#E5ECF6",
              "width": 0.5
             },
             "pattern": {
              "fillmode": "overlay",
              "size": 10,
              "solidity": 0.2
             }
            },
            "type": "barpolar"
           }
          ],
          "carpet": [
           {
            "aaxis": {
             "endlinecolor": "#2a3f5f",
             "gridcolor": "white",
             "linecolor": "white",
             "minorgridcolor": "white",
             "startlinecolor": "#2a3f5f"
            },
            "baxis": {
             "endlinecolor": "#2a3f5f",
             "gridcolor": "white",
             "linecolor": "white",
             "minorgridcolor": "white",
             "startlinecolor": "#2a3f5f"
            },
            "type": "carpet"
           }
          ],
          "choropleth": [
           {
            "colorbar": {
             "outlinewidth": 0,
             "ticks": ""
            },
            "type": "choropleth"
           }
          ],
          "contour": [
           {
            "colorbar": {
             "outlinewidth": 0,
             "ticks": ""
            },
            "colorscale": [
             [
              0,
              "#0d0887"
             ],
             [
              0.1111111111111111,
              "#46039f"
             ],
             [
              0.2222222222222222,
              "#7201a8"
             ],
             [
              0.3333333333333333,
              "#9c179e"
             ],
             [
              0.4444444444444444,
              "#bd3786"
             ],
             [
              0.5555555555555556,
              "#d8576b"
             ],
             [
              0.6666666666666666,
              "#ed7953"
             ],
             [
              0.7777777777777778,
              "#fb9f3a"
             ],
             [
              0.8888888888888888,
              "#fdca26"
             ],
             [
              1,
              "#f0f921"
             ]
            ],
            "type": "contour"
           }
          ],
          "contourcarpet": [
           {
            "colorbar": {
             "outlinewidth": 0,
             "ticks": ""
            },
            "type": "contourcarpet"
           }
          ],
          "heatmap": [
           {
            "colorbar": {
             "outlinewidth": 0,
             "ticks": ""
            },
            "colorscale": [
             [
              0,
              "#0d0887"
             ],
             [
              0.1111111111111111,
              "#46039f"
             ],
             [
              0.2222222222222222,
              "#7201a8"
             ],
             [
              0.3333333333333333,
              "#9c179e"
             ],
             [
              0.4444444444444444,
              "#bd3786"
             ],
             [
              0.5555555555555556,
              "#d8576b"
             ],
             [
              0.6666666666666666,
              "#ed7953"
             ],
             [
              0.7777777777777778,
              "#fb9f3a"
             ],
             [
              0.8888888888888888,
              "#fdca26"
             ],
             [
              1,
              "#f0f921"
             ]
            ],
            "type": "heatmap"
           }
          ],
          "heatmapgl": [
           {
            "colorbar": {
             "outlinewidth": 0,
             "ticks": ""
            },
            "colorscale": [
             [
              0,
              "#0d0887"
             ],
             [
              0.1111111111111111,
              "#46039f"
             ],
             [
              0.2222222222222222,
              "#7201a8"
             ],
             [
              0.3333333333333333,
              "#9c179e"
             ],
             [
              0.4444444444444444,
              "#bd3786"
             ],
             [
              0.5555555555555556,
              "#d8576b"
             ],
             [
              0.6666666666666666,
              "#ed7953"
             ],
             [
              0.7777777777777778,
              "#fb9f3a"
             ],
             [
              0.8888888888888888,
              "#fdca26"
             ],
             [
              1,
              "#f0f921"
             ]
            ],
            "type": "heatmapgl"
           }
          ],
          "histogram": [
           {
            "marker": {
             "pattern": {
              "fillmode": "overlay",
              "size": 10,
              "solidity": 0.2
             }
            },
            "type": "histogram"
           }
          ],
          "histogram2d": [
           {
            "colorbar": {
             "outlinewidth": 0,
             "ticks": ""
            },
            "colorscale": [
             [
              0,
              "#0d0887"
             ],
             [
              0.1111111111111111,
              "#46039f"
             ],
             [
              0.2222222222222222,
              "#7201a8"
             ],
             [
              0.3333333333333333,
              "#9c179e"
             ],
             [
              0.4444444444444444,
              "#bd3786"
             ],
             [
              0.5555555555555556,
              "#d8576b"
             ],
             [
              0.6666666666666666,
              "#ed7953"
             ],
             [
              0.7777777777777778,
              "#fb9f3a"
             ],
             [
              0.8888888888888888,
              "#fdca26"
             ],
             [
              1,
              "#f0f921"
             ]
            ],
            "type": "histogram2d"
           }
          ],
          "histogram2dcontour": [
           {
            "colorbar": {
             "outlinewidth": 0,
             "ticks": ""
            },
            "colorscale": [
             [
              0,
              "#0d0887"
             ],
             [
              0.1111111111111111,
              "#46039f"
             ],
             [
              0.2222222222222222,
              "#7201a8"
             ],
             [
              0.3333333333333333,
              "#9c179e"
             ],
             [
              0.4444444444444444,
              "#bd3786"
             ],
             [
              0.5555555555555556,
              "#d8576b"
             ],
             [
              0.6666666666666666,
              "#ed7953"
             ],
             [
              0.7777777777777778,
              "#fb9f3a"
             ],
             [
              0.8888888888888888,
              "#fdca26"
             ],
             [
              1,
              "#f0f921"
             ]
            ],
            "type": "histogram2dcontour"
           }
          ],
          "mesh3d": [
           {
            "colorbar": {
             "outlinewidth": 0,
             "ticks": ""
            },
            "type": "mesh3d"
           }
          ],
          "parcoords": [
           {
            "line": {
             "colorbar": {
              "outlinewidth": 0,
              "ticks": ""
             }
            },
            "type": "parcoords"
           }
          ],
          "pie": [
           {
            "automargin": true,
            "type": "pie"
           }
          ],
          "scatter": [
           {
            "fillpattern": {
             "fillmode": "overlay",
             "size": 10,
             "solidity": 0.2
            },
            "type": "scatter"
           }
          ],
          "scatter3d": [
           {
            "line": {
             "colorbar": {
              "outlinewidth": 0,
              "ticks": ""
             }
            },
            "marker": {
             "colorbar": {
              "outlinewidth": 0,
              "ticks": ""
             }
            },
            "type": "scatter3d"
           }
          ],
          "scattercarpet": [
           {
            "marker": {
             "colorbar": {
              "outlinewidth": 0,
              "ticks": ""
             }
            },
            "type": "scattercarpet"
           }
          ],
          "scattergeo": [
           {
            "marker": {
             "colorbar": {
              "outlinewidth": 0,
              "ticks": ""
             }
            },
            "type": "scattergeo"
           }
          ],
          "scattergl": [
           {
            "marker": {
             "colorbar": {
              "outlinewidth": 0,
              "ticks": ""
             }
            },
            "type": "scattergl"
           }
          ],
          "scattermapbox": [
           {
            "marker": {
             "colorbar": {
              "outlinewidth": 0,
              "ticks": ""
             }
            },
            "type": "scattermapbox"
           }
          ],
          "scatterpolar": [
           {
            "marker": {
             "colorbar": {
              "outlinewidth": 0,
              "ticks": ""
             }
            },
            "type": "scatterpolar"
           }
          ],
          "scatterpolargl": [
           {
            "marker": {
             "colorbar": {
              "outlinewidth": 0,
              "ticks": ""
             }
            },
            "type": "scatterpolargl"
           }
          ],
          "scatterternary": [
           {
            "marker": {
             "colorbar": {
              "outlinewidth": 0,
              "ticks": ""
             }
            },
            "type": "scatterternary"
           }
          ],
          "surface": [
           {
            "colorbar": {
             "outlinewidth": 0,
             "ticks": ""
            },
            "colorscale": [
             [
              0,
              "#0d0887"
             ],
             [
              0.1111111111111111,
              "#46039f"
             ],
             [
              0.2222222222222222,
              "#7201a8"
             ],
             [
              0.3333333333333333,
              "#9c179e"
             ],
             [
              0.4444444444444444,
              "#bd3786"
             ],
             [
              0.5555555555555556,
              "#d8576b"
             ],
             [
              0.6666666666666666,
              "#ed7953"
             ],
             [
              0.7777777777777778,
              "#fb9f3a"
             ],
             [
              0.8888888888888888,
              "#fdca26"
             ],
             [
              1,
              "#f0f921"
             ]
            ],
            "type": "surface"
           }
          ],
          "table": [
           {
            "cells": {
             "fill": {
              "color": "#EBF0F8"
             },
             "line": {
              "color": "white"
             }
            },
            "header": {
             "fill": {
              "color": "#C8D4E3"
             },
             "line": {
              "color": "white"
             }
            },
            "type": "table"
           }
          ]
         },
         "layout": {
          "annotationdefaults": {
           "arrowcolor": "#2a3f5f",
           "arrowhead": 0,
           "arrowwidth": 1
          },
          "autotypenumbers": "strict",
          "coloraxis": {
           "colorbar": {
            "outlinewidth": 0,
            "ticks": ""
           }
          },
          "colorscale": {
           "diverging": [
            [
             0,
             "#8e0152"
            ],
            [
             0.1,
             "#c51b7d"
            ],
            [
             0.2,
             "#de77ae"
            ],
            [
             0.3,
             "#f1b6da"
            ],
            [
             0.4,
             "#fde0ef"
            ],
            [
             0.5,
             "#f7f7f7"
            ],
            [
             0.6,
             "#e6f5d0"
            ],
            [
             0.7,
             "#b8e186"
            ],
            [
             0.8,
             "#7fbc41"
            ],
            [
             0.9,
             "#4d9221"
            ],
            [
             1,
             "#276419"
            ]
           ],
           "sequential": [
            [
             0,
             "#0d0887"
            ],
            [
             0.1111111111111111,
             "#46039f"
            ],
            [
             0.2222222222222222,
             "#7201a8"
            ],
            [
             0.3333333333333333,
             "#9c179e"
            ],
            [
             0.4444444444444444,
             "#bd3786"
            ],
            [
             0.5555555555555556,
             "#d8576b"
            ],
            [
             0.6666666666666666,
             "#ed7953"
            ],
            [
             0.7777777777777778,
             "#fb9f3a"
            ],
            [
             0.8888888888888888,
             "#fdca26"
            ],
            [
             1,
             "#f0f921"
            ]
           ],
           "sequentialminus": [
            [
             0,
             "#0d0887"
            ],
            [
             0.1111111111111111,
             "#46039f"
            ],
            [
             0.2222222222222222,
             "#7201a8"
            ],
            [
             0.3333333333333333,
             "#9c179e"
            ],
            [
             0.4444444444444444,
             "#bd3786"
            ],
            [
             0.5555555555555556,
             "#d8576b"
            ],
            [
             0.6666666666666666,
             "#ed7953"
            ],
            [
             0.7777777777777778,
             "#fb9f3a"
            ],
            [
             0.8888888888888888,
             "#fdca26"
            ],
            [
             1,
             "#f0f921"
            ]
           ]
          },
          "colorway": [
           "#636efa",
           "#EF553B",
           "#00cc96",
           "#ab63fa",
           "#FFA15A",
           "#19d3f3",
           "#FF6692",
           "#B6E880",
           "#FF97FF",
           "#FECB52"
          ],
          "font": {
           "color": "#2a3f5f"
          },
          "geo": {
           "bgcolor": "white",
           "lakecolor": "white",
           "landcolor": "#E5ECF6",
           "showlakes": true,
           "showland": true,
           "subunitcolor": "white"
          },
          "hoverlabel": {
           "align": "left"
          },
          "hovermode": "closest",
          "mapbox": {
           "style": "light"
          },
          "paper_bgcolor": "white",
          "plot_bgcolor": "#E5ECF6",
          "polar": {
           "angularaxis": {
            "gridcolor": "white",
            "linecolor": "white",
            "ticks": ""
           },
           "bgcolor": "#E5ECF6",
           "radialaxis": {
            "gridcolor": "white",
            "linecolor": "white",
            "ticks": ""
           }
          },
          "scene": {
           "xaxis": {
            "backgroundcolor": "#E5ECF6",
            "gridcolor": "white",
            "gridwidth": 2,
            "linecolor": "white",
            "showbackground": true,
            "ticks": "",
            "zerolinecolor": "white"
           },
           "yaxis": {
            "backgroundcolor": "#E5ECF6",
            "gridcolor": "white",
            "gridwidth": 2,
            "linecolor": "white",
            "showbackground": true,
            "ticks": "",
            "zerolinecolor": "white"
           },
           "zaxis": {
            "backgroundcolor": "#E5ECF6",
            "gridcolor": "white",
            "gridwidth": 2,
            "linecolor": "white",
            "showbackground": true,
            "ticks": "",
            "zerolinecolor": "white"
           }
          },
          "shapedefaults": {
           "line": {
            "color": "#2a3f5f"
           }
          },
          "ternary": {
           "aaxis": {
            "gridcolor": "white",
            "linecolor": "white",
            "ticks": ""
           },
           "baxis": {
            "gridcolor": "white",
            "linecolor": "white",
            "ticks": ""
           },
           "bgcolor": "#E5ECF6",
           "caxis": {
            "gridcolor": "white",
            "linecolor": "white",
            "ticks": ""
           }
          },
          "title": {
           "x": 0.05
          },
          "xaxis": {
           "automargin": true,
           "gridcolor": "white",
           "linecolor": "white",
           "ticks": "",
           "title": {
            "standoff": 15
           },
           "zerolinecolor": "white",
           "zerolinewidth": 2
          },
          "yaxis": {
           "automargin": true,
           "gridcolor": "white",
           "linecolor": "white",
           "ticks": "",
           "title": {
            "standoff": 15
           },
           "zerolinecolor": "white",
           "zerolinewidth": 2
          }
         }
        },
        "title": {
         "text": "Distribution of Patients' Histology"
        }
       }
      }
     },
     "metadata": {},
     "output_type": "display_data"
    }
   ],
   "source": [
    "# a pie chart\n",
    "surgery = df1.Surgery_type.value_counts()\n",
    "name = surgery.index\n",
    "value = surgery.values\n",
    "\n",
    "figure = px.pie(df1, values= value, names= name, hole= 0, title= \"Distribution of Patients' Histology\")\n",
    "figure.show()"
   ]
  },
  {
   "cell_type": "markdown",
   "metadata": {},
   "source": [
    "view unique values of each column"
   ]
  },
  {
   "cell_type": "code",
   "execution_count": 20,
   "metadata": {},
   "outputs": [
    {
     "name": "stdout",
     "output_type": "stream",
     "text": [
      "Patient_ID: ['TCGA-D8-A1XD' 'TCGA-EW-A1OX' 'TCGA-A8-A079' 'TCGA-D8-A1XR'\n",
      " 'TCGA-BH-A0BF' 'TCGA-AO-A1KQ' 'TCGA-D8-A73X' 'TCGA-EW-A1P5'\n",
      " 'TCGA-A8-A09A' 'TCGA-S3-A6ZG' 'TCGA-BH-A0EA' 'TCGA-AC-A8OR'\n",
      " 'TCGA-A2-A0ES' 'TCGA-C8-A8HQ' 'TCGA-AO-A03V' 'TCGA-A2-A0D4'\n",
      " 'TCGA-EW-A1PA' 'TCGA-BH-A0DE' 'TCGA-E2-A1B4' 'TCGA-AC-A3HN'\n",
      " 'TCGA-A8-A095' 'TCGA-A2-A4S0' 'TCGA-A7-A3J0' 'TCGA-AC-A62Y'\n",
      " 'TCGA-A7-A5ZW' 'TCGA-A2-A25C' 'TCGA-D8-A1JC' 'TCGA-A7-A4SB'\n",
      " 'TCGA-AR-A24S' 'TCGA-D8-A4Z1' 'TCGA-A7-A26J' 'TCGA-AC-A5XS'\n",
      " 'TCGA-OL-A6VR' 'TCGA-EW-A1PF' 'TCGA-LL-A7SZ' 'TCGA-BH-A18K'\n",
      " 'TCGA-AC-A3OD' 'TCGA-BH-A8FY' 'TCGA-C8-A26Z' 'TCGA-A2-A1G4'\n",
      " 'TCGA-BH-A18F' 'TCGA-E2-A1IG' 'TCGA-AC-A2B8' 'TCGA-BH-A0BT'\n",
      " 'TCGA-AO-A125' 'TCGA-A8-A07E' 'TCGA-A8-A08A' 'TCGA-A2-A0EX'\n",
      " 'TCGA-A8-A093' 'TCGA-E2-A1L6' 'TCGA-3C-AAAU' 'TCGA-E2-A1IL'\n",
      " 'TCGA-A2-A0CO' 'TCGA-BH-A0E7' 'TCGA-EW-A6SC' 'TCGA-D8-A1X7'\n",
      " 'TCGA-D8-A1XM' 'TCGA-A1-A0SF' 'TCGA-EW-A1J5' 'TCGA-BH-A0AY'\n",
      " 'TCGA-E2-A15G' 'TCGA-A8-A09B' 'TCGA-BH-A0HF' 'TCGA-BH-A0GY'\n",
      " 'TCGA-BH-A0BD' 'TCGA-E2-A1IF' 'TCGA-A8-A08Z' 'TCGA-D8-A146'\n",
      " 'TCGA-AR-A252' 'TCGA-D8-A1JJ' 'TCGA-C8-A274' 'TCGA-GM-A2DO'\n",
      " 'TCGA-BH-A0H6' 'TCGA-BH-A0H7' 'TCGA-A8-A09T' 'TCGA-D8-A1JS'\n",
      " 'TCGA-BH-A0B0' 'TCGA-A8-A096' 'TCGA-D8-A1XC' 'TCGA-E2-A154'\n",
      " 'TCGA-D8-A1JU' 'TCGA-AR-A24W' 'TCGA-B6-A40C' 'TCGA-A8-A09Q'\n",
      " 'TCGA-AN-A049' 'TCGA-E9-A54X' 'TCGA-A8-A082' 'TCGA-D8-A1X6'\n",
      " 'TCGA-A2-A0YL' 'TCGA-A8-A09K' 'TCGA-AO-A0JD' 'TCGA-E2-A14Q'\n",
      " 'TCGA-GM-A2DN' 'TCGA-A2-A0T5' 'TCGA-A7-A0CJ' 'TCGA-AN-A03Y'\n",
      " 'TCGA-BH-A42V' 'TCGA-A2-A0CZ' 'TCGA-A2-A0D3' 'TCGA-E9-A6HE'\n",
      " 'TCGA-D8-A27T' 'TCGA-E2-A1IK' 'TCGA-BH-A0B1' 'TCGA-BH-A0DX'\n",
      " 'TCGA-EW-A1OY' 'TCGA-OK-A5Q2' 'TCGA-C8-A1HG' 'TCGA-EW-A1J1'\n",
      " 'TCGA-A2-A0CY' 'TCGA-BH-A28O' 'TCGA-AR-A0U3' 'TCGA-BH-A0AZ'\n",
      " 'TCGA-E2-A15A' 'TCGA-C8-A12N' 'TCGA-BH-A0E2' 'TCGA-D8-A27P'\n",
      " 'TCGA-AO-A0J8' 'TCGA-E2-A1IN' 'TCGA-GM-A5PX' 'TCGA-AO-A03R'\n",
      " 'TCGA-A2-A0EV' 'TCGA-A8-A09M' 'TCGA-A8-A09V' 'TCGA-D8-A27K'\n",
      " 'TCGA-C8-A26V' 'TCGA-AO-A03M' 'TCGA-AN-A0FF' 'TCGA-EW-A1PE'\n",
      " 'TCGA-D8-A27I' 'TCGA-D8-A1XO' 'TCGA-EW-A1J6' 'TCGA-D8-A1JP'\n",
      " 'TCGA-LD-A7W6' 'TCGA-A8-A07G' 'TCGA-D8-A1JH' 'TCGA-BH-A0E9'\n",
      " 'TCGA-BH-A0B5' 'TCGA-AR-A24M' 'TCGA-E9-A227' 'TCGA-AO-A12H'\n",
      " 'TCGA-BH-A2L8' 'TCGA-BH-A0C1' 'TCGA-A7-A26E' 'TCGA-BH-A0DQ'\n",
      " 'TCGA-5L-AAT0' 'TCGA-A8-A06P' 'TCGA-A8-A0A4' 'TCGA-BH-AB28'\n",
      " 'TCGA-AQ-A54O' 'TCGA-C8-A273' 'TCGA-A2-A1FZ' 'TCGA-LL-A6FQ'\n",
      " 'TCGA-Z7-A8R6' 'TCGA-A8-A07W' 'TCGA-C8-A27A' 'TCGA-AO-A126'\n",
      " 'TCGA-A2-A4RX' 'TCGA-A2-A0CV' 'TCGA-BH-A18L' 'TCGA-D8-A1JE'\n",
      " 'TCGA-A8-A086' 'TCGA-AO-A0JA' 'TCGA-GM-A2DL' 'TCGA-AC-A3W6'\n",
      " 'TCGA-AR-A1AK' 'TCGA-E2-A1IU' 'TCGA-BH-A0HO' 'TCGA-A7-A56D'\n",
      " 'TCGA-D8-A1JI' 'TCGA-EW-A1J2' 'TCGA-AQ-A7U7' 'TCGA-C8-A12W'\n",
      " 'TCGA-AC-A3BB' 'TCGA-A8-A092' 'TCGA-BH-A0DK' 'TCGA-E2-A14T'\n",
      " 'TCGA-A2-A1FV' 'TCGA-D8-A1JD' 'TCGA-BH-A0W7' 'TCGA-A8-A0AD'\n",
      " 'TCGA-A7-A3RF' 'TCGA-AR-A24V' 'TCGA-AR-A1AN' 'TCGA-A2-A0EW'\n",
      " 'TCGA-BH-A0DH' 'TCGA-A8-A08O' 'TCGA-W8-A86G' 'TCGA-LD-A7W5'\n",
      " 'TCGA-E2-A15M' 'TCGA-BH-A0BP' 'TCGA-D8-A27L' 'TCGA-E2-A153'\n",
      " 'TCGA-AO-A03T' 'TCGA-AO-A03N' 'TCGA-D8-A141' 'TCGA-A8-A08F'\n",
      " 'TCGA-AC-A5XU' 'TCGA-B6-A401' 'TCGA-GM-A3XN' 'TCGA-A2-A4RW'\n",
      " 'TCGA-BH-A0DV' 'TCGA-WT-AB44' 'TCGA-A8-A0A2' 'TCGA-A8-A07J'\n",
      " 'TCGA-HN-A2OB' 'TCGA-EW-A1IY' 'TCGA-AO-A12B' 'TCGA-A2-A4S3'\n",
      " 'TCGA-AC-A6NO' 'TCGA-A8-A07Z' 'TCGA-D8-A1XB' 'TCGA-BH-A0HQ'\n",
      " 'TCGA-BH-A0HI' 'TCGA-BH-A0DO' 'TCGA-A2-A3KD' 'TCGA-BH-A0BA'\n",
      " 'TCGA-AN-A046' 'TCGA-A2-A0T7' 'TCGA-E2-A15F' 'TCGA-BH-A0DT'\n",
      " 'TCGA-D8-A3Z5' 'TCGA-AR-A1AS' 'TCGA-BH-A0EI' 'TCGA-E2-A108'\n",
      " 'TCGA-D8-A3Z6' 'TCGA-A8-A0A6' 'TCGA-GM-A3XG' 'TCGA-E2-A1L9'\n",
      " 'TCGA-EW-A1P3' 'TCGA-BH-A0BO' 'TCGA-AQ-A1H3' 'TCGA-A8-A09D'\n",
      " 'TCGA-A1-A0SD' 'TCGA-E9-A5FK' 'TCGA-GM-A3NY' 'TCGA-A1-A0SE'\n",
      " 'TCGA-A8-A07L' 'TCGA-A2-A0CL' 'TCGA-EW-A1PC' 'TCGA-BH-A0DS'\n",
      " 'TCGA-D8-A73U' 'TCGA-AO-A0JF' 'TCGA-AR-A24Z' 'TCGA-A1-A0SQ'\n",
      " 'TCGA-AO-A12E' 'TCGA-E9-A54Y' 'TCGA-Z7-A8R5' 'TCGA-BH-A0BJ'\n",
      " 'TCGA-AO-A0JB' 'TCGA-BH-A0DP' 'TCGA-A8-A07F' 'TCGA-BH-A8G0'\n",
      " 'TCGA-A1-A0SI' 'TCGA-D8-A1XU' 'TCGA-A8-A0A1' 'TCGA-D8-A1J8'\n",
      " 'TCGA-GM-A2DM' 'TCGA-EW-A1IX' 'TCGA-A8-A0A9' 'TCGA-AR-A1AV'\n",
      " 'TCGA-BH-A0H0' 'TCGA-A8-A09R' 'TCGA-AR-A24H' 'TCGA-BH-A0DI'\n",
      " 'TCGA-E2-A1BC' 'TCGA-GI-A2C8' 'TCGA-AR-A24O' 'TCGA-BH-A0BC'\n",
      " 'TCGA-D8-A27V' 'TCGA-EW-A2FV' 'TCGA-EW-A1IZ' 'TCGA-BH-A0HX'\n",
      " 'TCGA-XX-A89A' 'TCGA-C8-A1HM' 'TCGA-A2-A4S2' 'TCGA-XX-A899'\n",
      " 'TCGA-A2-A4RY' 'TCGA-A2-A0YI' 'TCGA-E2-A10C' 'TCGA-D8-A13Y'\n",
      " 'TCGA-A2-A0CK' 'TCGA-E2-A15P' 'TCGA-AR-A24R' 'TCGA-BH-A5J0'\n",
      " 'TCGA-A8-A06Q' 'TCGA-A7-A3J1' 'TCGA-A2-A0YH' 'TCGA-A7-A6VX'\n",
      " 'TCGA-A8-A08I' 'TCGA-EW-A2FW' 'TCGA-AO-A0JC' 'TCGA-AO-A0J7'\n",
      " 'TCGA-BH-A0BZ' 'TCGA-EW-A423' 'TCGA-A2-A04Y' 'TCGA-A2-A0T6'\n",
      " 'TCGA-A8-A06Y' 'TCGA-AR-A2LN' 'TCGA-LD-A66U' 'TCGA-E2-A156'\n",
      " 'TCGA-AO-A0JJ' 'TCGA-E2-A14Z' 'TCGA-A2-A0SU' 'TCGA-A7-A13G'\n",
      " 'TCGA-BH-A0BR' 'TCGA-BH-A0HU' 'TCGA-AO-A1KP' 'TCGA-AR-A2LQ'\n",
      " 'TCGA-BH-A0BV' 'TCGA-AO-A1KO' 'TCGA-E2-A1B5' 'TCGA-AR-A1AL'\n",
      " 'TCGA-AN-A04A' 'TCGA-A8-A085' 'TCGA-A1-A0SG' 'TCGA-A2-A0EU'\n",
      " 'TCGA-B6-A40B']\n",
      "Age: [36. 43. 69. 56. 84. 53. 77. 40. 71. 72. 75. 52. 41. 37. 59. 62. 74. 87.\n",
      " 45. 79. 47. 50. 61. 68. 49. 48. 46. 81. 89. 44. 55. 78. 85. 60. 57. 54.\n",
      " 76. 58. 67. 63. 82. 65. 73. 51. 83. 80. 39. 66. 42. 38. 64. 29. 32. 70.\n",
      " 90. 35. 88.]\n",
      "Gender: ['FEMALE' 'MALE']\n",
      "Protein1: [ 8.0353e-02 -4.2032e-01  2.1398e-01  3.4509e-01  2.2155e-01 -8.1872e-02\n",
      " -6.9535e-02 -1.5175e-01 -5.6570e-01 -2.2305e-01 -3.7270e-01  1.7164e-01\n",
      " -1.6828e+00  5.6042e-01  1.4252e-01  2.9490e-01  1.9762e-01  1.0464e-01\n",
      " -2.4613e-01 -8.7485e-02 -5.9518e-01 -2.9870e-01  5.4240e-01 -3.6229e-02\n",
      "  3.3186e-01 -6.2153e-02 -3.3045e-01  1.0352e+00 -2.2788e-01  6.4903e-01\n",
      " -2.8082e-01  5.9453e-01  2.3235e-01 -7.9765e-02  6.1643e-02 -5.5214e-01\n",
      " -3.4962e-01  7.0876e-01  2.8025e-01 -9.4840e-01  2.1728e-01  4.2538e-01\n",
      "  1.4991e-01 -2.2853e-01 -4.2298e-01  8.2374e-01 -2.4978e-01  2.3113e-01\n",
      " -1.4872e+00  2.3917e-01 -6.6342e-01  2.0973e-01  7.4520e-01  7.2984e-01\n",
      "  2.1197e-01  5.1178e-01  0.0000e+00 -2.8272e-01  3.5914e-01  6.7627e-02\n",
      "  4.3546e-02 -3.3490e-01 -2.0608e-01 -7.5475e-01  1.2107e-01 -3.1640e-02\n",
      " -1.6053e-01  1.2704e-01  1.3597e-01  3.7857e-01  9.6614e-02 -9.7674e-01\n",
      "  4.3553e-01 -8.2632e-01 -5.8151e-02 -2.5750e-01  4.4857e-01  4.0384e-01\n",
      " -1.1733e-01  1.4784e-01  6.6101e-03  8.4383e-03 -2.1446e+00  6.7951e-01\n",
      "  5.3809e-01 -1.2685e+00  4.6647e-01 -2.1580e-01 -2.6000e-01  4.8045e-01\n",
      "  1.5936e+00  3.5440e-01  5.5309e-01 -2.1378e-01 -4.5077e-01  1.0012e-01\n",
      " -6.4268e-01 -1.7561e-01 -5.2707e-01  1.4106e-02  1.2758e-01  1.4129e-01\n",
      "  3.7355e-01 -5.2303e-01 -4.6713e-01  5.9398e-02 -6.2985e-01 -8.3210e-01\n",
      "  1.2946e-01  3.2248e-01  5.8118e-01  1.7626e-01 -5.4747e-01 -2.0161e-01\n",
      " -9.6995e-01  6.6639e-01 -1.0055e-01 -5.4013e-01  5.2729e-02 -1.7914e-02\n",
      " -1.9711e+00 -8.5187e-01 -1.9006e-01 -5.2529e-01 -1.0568e-01  1.2545e-01\n",
      " -9.3256e-01  3.5774e-01 -6.5002e-02  1.0674e+00 -9.5927e-02  3.2671e-01\n",
      " -4.4470e-01 -3.5060e-01 -8.5310e-01  8.7549e-02 -2.6845e-01  2.2611e-01\n",
      "  2.9939e-01 -5.2601e-01 -7.5880e-01  4.1862e-01  9.5256e-01 -4.4904e-01\n",
      " -4.8913e-01 -2.1861e-01 -3.4733e-01  8.3789e-01  1.8145e-03  9.0314e-01\n",
      " -1.6159e-01  2.2669e-01 -8.6379e-01 -3.8123e-01 -2.0347e-01  1.4767e-02\n",
      "  6.7269e-01 -1.5842e-01  4.5690e-01  5.6486e-03  4.6931e-01 -2.5023e-01\n",
      " -1.3882e+00  7.0029e-01 -1.1790e-01  2.2826e-01 -2.3032e-01 -4.1706e-01\n",
      "  3.3653e-01  3.9568e-01 -1.2517e+00  1.4483e-01 -6.4398e-01 -2.8710e-01\n",
      "  1.0902e+00 -2.1082e-01 -7.0340e-02 -1.1986e-01 -3.9298e-01 -4.8269e-01\n",
      "  4.4520e-01  5.2751e-01 -6.2780e-01 -5.5957e-01 -4.6408e-01  4.9589e-01\n",
      "  7.8418e-01 -7.2486e-01 -2.4514e-01 -6.4497e-02 -4.7620e-01  1.7295e-01\n",
      "  2.7641e-01  7.1682e-01  5.3857e-01  9.7251e-01 -1.9819e-01  9.6405e-01\n",
      " -1.4441e-01  5.1432e-01  4.7771e-01 -3.3451e-01 -8.1753e-01 -7.1163e-01\n",
      "  2.8736e-01  1.7670e-01  7.1527e-01  4.4281e-01  4.0553e-01  7.8601e-01\n",
      " -5.8641e-01 -8.7618e-01 -1.6950e-01  2.9488e-01  1.8762e-01 -5.7675e-01\n",
      " -3.8466e-01 -3.4457e-01  6.4723e-02 -8.1605e-01  4.3464e-01  5.7241e-01\n",
      "  4.1603e-01  3.2600e-01 -3.3866e-01  7.6582e-01  3.3626e-01 -3.4001e-01\n",
      " -5.8637e-01 -5.8397e-01 -3.6177e-01  2.4598e-02  2.0862e-01  4.1729e-01\n",
      "  4.5517e-01 -4.7567e-01 -1.1467e+00  2.8638e-01  3.5524e-01  2.0412e-01\n",
      " -4.1613e-01  1.9465e-01 -2.7807e-01  9.0487e-02 -6.0324e-01  3.8306e-01\n",
      " -5.9289e-02 -7.0204e-01  2.9220e-01 -4.4324e-01  7.5382e-01  4.5553e-01\n",
      " -3.1474e-01  8.3804e-01 -5.2832e-01  3.5680e-01  3.3092e-01 -3.1038e-01\n",
      "  1.4704e+00 -4.8903e-01  6.5960e-01 -2.0207e-03  4.9656e-02 -3.7253e-02\n",
      "  5.2728e-02  6.0863e-01 -7.3062e-01 -3.8444e-01 -1.4791e-01  2.6748e-01\n",
      " -1.3791e+00  4.2607e-01 -2.6558e-01  2.7503e-01  3.9767e-03  9.5103e-02\n",
      "  6.6312e-02  7.8321e-01 -1.7932e-01  2.5287e-01  1.8832e-01 -7.1536e-04\n",
      "  2.7546e-01  2.9059e-01  2.0279e-01  2.8708e-01 -5.5157e-02 -3.6165e-01\n",
      "  2.0051e-01 -2.4408e-01  6.8717e-01 -4.0951e-01  5.0861e-01 -8.9463e-02\n",
      " -3.2560e-01 -1.3441e+00 -9.1334e-02  8.9185e-01 -4.0592e-01 -1.2313e+00\n",
      "  9.7580e-01 -3.7043e-01 -1.0622e+00  4.5230e-01  2.4080e-01  3.3912e-01\n",
      "  1.5050e-01 -9.1723e-01 -7.4014e-01 -5.5036e-02  9.4585e-02  2.3180e-01\n",
      "  7.3272e-01 -7.1947e-01  4.7940e-01 -2.4427e-01]\n",
      "Protein2: [ 0.42638    0.57807    1.3114    -0.21147    1.9068     1.7241\n",
      "  1.4183    -0.66332    1.2668     0.50594    0.55549    0.029656\n",
      "  0.72722    0.82251    1.0827     1.3625     1.0719     0.7028\n",
      "  1.4953     1.1111    -0.34054   -0.16129    1.7926     0.79551\n",
      " -0.32765    1.612      1.4353     1.7646     1.7908     1.424\n",
      "  0.71925    0.94863    1.2129     2.6229     1.3149     2.0836\n",
      "  1.3735     2.1731     0.89896    0.74051   -0.21628    1.2628\n",
      "  1.4923     1.3102     0.3833     1.8531    -0.35133    0.877\n",
      "  0.34903    0.4529     1.9382     0.68683    1.7573     1.5762\n",
      "  1.5274     0.93587    0.20684    0.60842    1.1852     1.2431\n",
      " -0.40171    0.88445    0.57751    0.94773    0.78513    2.2806\n",
      " -0.54398   -0.49761    1.8285     1.3802     1.4942    -0.60279\n",
      " -0.4996     0.77034    1.6912     0.67432    0.80691    2.3013\n",
      "  0.48825    1.6399     0.31823    1.3076     1.4019    -0.17946\n",
      "  0.49814    0.28109    0.10613    2.5797    -0.29338    0.86044\n",
      "  0.63135    1.6752     1.5325     1.9955    -0.62814    0.42346\n",
      " -0.46547    0.045374   0.28963    0.75652   -0.68397    0.81033\n",
      "  1.2999     0.78312    1.764      2.2267     1.6725     2.2999\n",
      " -0.23494   -0.4927     2.0502     0.94321    0.59342    0.3066\n",
      "  0.27159   -0.76926    2.1892     1.3716     2.6043     1.5114\n",
      "  0.9241    -0.63197    1.676      1.9779     1.1224     0.93747\n",
      "  1.4565     0.70232    1.5189    -0.50852    0.99713    1.8642\n",
      " -0.29499    1.4946     1.8783    -0.0058079  2.1957     0.19515\n",
      "  1.7491    -0.30765    0.71836    0.061787  -0.25258    2.15\n",
      " -0.72016    0.89386    0.95399    1.4094     0.50642    0.89284\n",
      "  1.9678     1.4507     1.9298    -0.11864   -0.47456    1.0977\n",
      "  0.60396   -0.63329    2.1515     0.73944    1.4818     1.5526\n",
      "  0.323      0.77504    0.97347    1.1539     1.2112     1.1304\n",
      "  1.2694     0.6502     0.86093    2.6739    -0.76107   -0.59363\n",
      "  0.65536    2.766     -0.97873   -0.27153   -0.94513    1.4757\n",
      " -0.31677    0.81938   -0.62123    0.26102    0.48445    0.85337\n",
      "  1.8661     2.2938    -0.28289    0.61407   -0.87132    1.7946\n",
      "  1.2966    -0.87612    1.0004    -0.87178    1.4268     0.62597\n",
      "  0.82304    2.324      1.6936     0.81881    1.6081     1.7904\n",
      "  1.6924     0.46249    0.44394    2.1912     1.4144     0.33144\n",
      "  0.80845    0.22446    0.12943    1.3879     1.4037     2.6639\n",
      "  1.3276     0.80609    0.79012    0.75941   -0.63545    2.4522\n",
      "  2.0089     1.6094     1.8602    -0.64147    0.52405    1.7196\n",
      "  0.16257    1.5136    -0.33272    1.1137     1.4005    -0.56103\n",
      "  1.2071     1.1774     0.42968    0.96104    1.3998     1.9752\n",
      "  0.52534    0.75843    1.6678     1.4291    -0.63873    1.119\n",
      "  1.6546     2.0552     0.20307    1.7753     0.60955    1.6425\n",
      "  1.3648    -0.40061    2.0332     0.16652    1.5832     1.7624\n",
      "  2.22       0.469      2.3784     1.5541     0.81402    1.449\n",
      "  1.0907     0.7221     1.7145     0.46648    1.004      1.2713\n",
      "  1.6773     1.6607     0.35995    1.2695     0.8812     1.2038\n",
      " -0.41517    1.2954    -0.8414     1.5287     2.2967    -0.15711\n",
      "  1.6332     2.2613     0.81249   -0.043384   3.4022    -0.45553\n",
      "  2.6566     2.1842     1.6907     0.36884    0.037563   2.7056\n",
      "  1.0331     1.9899     1.128      0.054757   0.4444     2.7513\n",
      " -0.76767    2.4847     1.9185     1.1664     1.3959     1.7348\n",
      "  1.3193     1.2674    -0.64693   -0.73755   -0.50643    1.0003\n",
      "  0.61804    1.1117     2.5485     2.0559     0.92556  ]\n",
      "Protein3: [ 0.54715    0.61447   -0.32747   -0.19304    0.52045   -0.057335\n",
      " -0.36105    1.1894    -0.29346   -0.34943   -0.6679    -0.1589\n",
      "  0.056773  -0.53476    0.21092    0.69238   -0.2051    -0.29898\n",
      " -0.29854   -0.56692    0.44454    0.46072   -0.56599   -0.013525\n",
      "  0.0033786 -0.47404   -0.608     -0.75921   -0.75621   -0.39536\n",
      " -0.171     -0.49834    0.052518   0.049687  -0.099357   0.41605\n",
      " -0.24356   -0.43967   -0.61003   -0.25829    1.0881    -0.71996\n",
      " -0.93182   -0.59125    0.41699   -0.80187   -0.099624   0.019387\n",
      " -0.66242    0.040158  -0.77537    0.11919   -1.0062    -0.16109\n",
      " -0.40949    0.16477   -0.1611    -0.47403   -0.42349    0.065687\n",
      "  0.46685   -0.7972    -0.24856   -0.80776   -0.19762    0.0085752\n",
      "  0.7855     0.97681   -0.76904   -0.49803    0.11355    0.4777\n",
      "  0.65794    0.49368   -0.13349   -0.42303   -0.50917    0.011659\n",
      "  0.84111   -0.2833    -0.60475   -0.5879     0.1216    -0.20033\n",
      "  0.018525  -0.10642    1.1352    -1.2537     0.86771    0.076732\n",
      " -0.701     -0.038062  -0.56699   -0.14238    1.0226    -0.029197\n",
      "  0.47237   -0.20426    1.129     -0.56082    0.53815    0.51345\n",
      " -0.34325   -0.57445   -0.37019   -0.21146   -0.41615    0.11346\n",
      "  0.63831    0.31603   -0.34684   -0.22693   -0.50752   -0.59195\n",
      " -0.44871    0.5568    -1.1018    -0.86866   -0.68803    0.76722\n",
      " -0.027996   0.037134   1.7019    -0.0076154  0.43712   -0.62169\n",
      " -0.6803    -0.59921   -0.30706    0.51962   -0.58622   -0.28925\n",
      "  1.7691    -1.1074    -0.36688   -0.38088   -0.99356   -1.0247\n",
      " -0.54397    1.0716    -0.67598   -0.20638   -0.241      0.0079716\n",
      " -0.11163   -0.47077    0.32449   -0.3759    -0.54513   -0.6786\n",
      " -0.79079   -0.75842   -0.33124    0.070765   0.56728   -0.046476\n",
      "  0.066538   0.008736  -0.8536    -0.63177    0.31711   -0.16524\n",
      " -0.51376    0.29088   -0.29645    0.54174   -0.46326    0.16642\n",
      " -0.72681   -0.77196   -0.97186   -0.5358     0.73345   -0.10974\n",
      " -0.099103  -0.55681   -1.06       0.46708    0.74776    0.14378\n",
      "  0.47158   -0.43867   -0.54699   -0.2042     0.081055   0.24774\n",
      "  0.044083  -0.43862    0.95943    0.12651    0.8688    -0.14773\n",
      " -0.85677    1.298      0.13487   -0.58836   -0.36657   -0.28137\n",
      " -0.30715   -0.70744   -0.14401   -0.4063     0.38047   -1.0416\n",
      " -0.80076   -0.67873   -0.25075    0.39158   -0.93252   -0.25743\n",
      "  0.42229   -0.30652   -0.37038   -1.3071     0.2443     1.1956\n",
      "  0.081247  -1.6274    -0.46887    0.28149    1.3379     0.33389\n",
      " -1.1825    -0.51944   -1.0771     1.6575    -0.15717    0.43951\n",
      " -0.1772     1.0619    -0.13087    0.31335    0.024751   1.2385\n",
      " -0.81206   -0.57456   -0.58866    0.27563    0.31883   -0.013443\n",
      " -0.84544    0.43992    0.39339   -0.57895    2.1934    -0.60583\n",
      "  0.57301    0.047034   0.54404   -0.093631  -0.39889   -0.33285\n",
      " -0.53881    0.75532   -0.63166    0.11926   -0.46708    0.17624\n",
      " -0.55634    0.13554   -0.46709   -0.82864   -0.33155   -0.021928\n",
      " -0.42381   -0.30865    0.1497    -0.49494   -0.63857    0.20931\n",
      " -0.17536   -0.15662   -0.34561    0.38083   -0.51371   -0.4135\n",
      " -0.19489    0.25121    1.507     -0.16313    0.53244   -0.55984\n",
      "  0.13265   -0.0068398  1.0691     0.77504   -0.3285     0.16324\n",
      "  0.30769   -0.65602   -0.12854    0.78343    0.2178    -0.33393\n",
      " -0.47793   -0.038147  -0.22935    0.034648   0.1102    -0.59542\n",
      "  0.8616    -0.51332   -0.79608   -0.65565   -0.23084    0.33109\n",
      "  0.5874     0.64265    0.55259    0.72032    0.88778   -0.22575\n",
      " -0.55779   -0.26952   -0.15024   -0.53136   -0.41823  ]\n",
      "Protein4: [ 2.7368e-01 -3.1505e-02 -2.3426e-01  1.2427e-01 -3.1199e-01  4.3025e-02\n",
      "  3.9158e-01  2.1718e-01  1.9395e-01 -8.3530e-01 -3.5070e-01  6.7471e-01\n",
      " -1.2441e+00  2.6527e-01  9.7428e-01  4.1002e-01  6.3315e-01  6.0103e-01\n",
      "  6.5925e-01  1.2237e+00  7.5328e-01 -3.9666e-01 -1.7206e-02  1.6299e+00\n",
      "  1.1658e+00 -4.4448e-02  9.7527e-01  7.3977e-01  1.1848e+00  5.4672e-01\n",
      "  9.7173e-01 -2.4126e-02 -3.9369e-02  7.5441e-01 -8.0791e-01  1.8804e-01\n",
      " -3.9255e-01  5.3418e-01 -2.1336e-01  1.5429e-01 -1.1641e+00 -2.3158e-02\n",
      "  8.6514e-02 -8.8218e-02 -7.9413e-01  7.5834e-01  8.6336e-01  1.8528e-01\n",
      " -3.8479e-01 -2.6366e-01  6.1420e-01 -6.1740e-02 -2.5533e-01  9.7756e-04\n",
      " -5.3322e-01  3.7403e-01  6.1717e-01  4.1594e-01 -3.6482e-01  1.0478e+00\n",
      "  3.2147e-01  0.0000e+00  2.0922e-01  3.5245e-01 -5.3801e-01  6.2199e-01\n",
      "  6.2447e-01 -2.7651e-01 -5.0732e-01  7.6128e-01  9.4660e-01 -7.1785e-01\n",
      "  3.7432e-01 -1.8214e-01  1.6753e-01 -3.4585e-02  6.0686e-01  6.1645e-01\n",
      " -2.9739e-01 -9.6489e-01  1.4610e-01 -2.0255e+00 -1.4888e+00  2.8502e-01\n",
      "  2.3963e-01 -3.9492e-01  1.5154e-01 -2.4204e-01  1.8670e-01 -1.6203e-01\n",
      "  9.4426e-01  4.7109e-01 -1.0684e+00  2.0244e-01  1.8192e-01 -5.2387e-01\n",
      "  6.5811e-01 -3.8224e-01 -5.0269e-01  7.1897e-01 -1.0298e-01 -1.7684e+00\n",
      " -9.6343e-01  1.0815e-02 -2.4328e-01  3.0143e-01 -1.0368e+00  3.0815e-02\n",
      " -5.6382e-01 -1.1485e+00  3.6686e-01  4.0061e-01 -3.7415e-01  3.2081e-01\n",
      " -7.2015e-01 -8.3145e-01  4.0511e-02  3.1524e-03  1.8569e-01  2.6999e-01\n",
      " -4.6685e-01 -7.8298e-02  3.5325e-02  6.2410e-01  1.8637e-01 -1.0378e-02\n",
      " -1.8993e+00  4.3625e-01  7.7911e-01  4.8622e-01 -3.5304e-01  7.7087e-01\n",
      " -2.5249e-01  4.6539e-01 -8.0618e-01 -3.7807e-01  1.0172e-01 -3.9021e-01\n",
      " -1.7950e-01 -8.3526e-01 -1.2409e+00 -2.0763e-01 -4.8340e-02 -3.4973e-02\n",
      " -2.0582e-01 -7.9983e-01 -4.4680e-02  3.1490e-01 -1.7833e-01  9.6265e-01\n",
      "  7.3220e-01 -5.9541e-01  7.5067e-01 -3.0694e-01 -4.5144e-02 -8.5405e-01\n",
      "  5.5564e-01  5.4333e-01 -6.0096e-02  3.2139e-01 -2.7599e-01 -8.1081e-01\n",
      " -9.2427e-01  1.0551e-01  7.4579e-01 -5.4502e-01  1.1841e+00 -8.2771e-01\n",
      "  4.1034e-01 -6.0620e-02 -1.1071e+00  8.2384e-01 -1.6028e+00 -9.3850e-01\n",
      " -4.7586e-01 -8.4252e-01 -1.2196e+00 -6.7553e-01  6.4097e-01  3.4744e-01\n",
      " -7.8963e-03  3.9106e-01 -1.3053e+00  6.0983e-01 -5.4734e-01  2.4241e-01\n",
      " -4.7829e-02  3.5090e-01  3.9114e-01  3.1662e-01 -3.0778e-01 -2.3695e-01\n",
      " -6.8664e-01 -6.1786e-01 -9.5198e-01 -1.0782e-01 -4.7774e-01 -1.4975e-01\n",
      "  7.1895e-01  1.0249e+00 -6.5479e-01  1.2195e-01  3.8522e-02  7.9440e-01\n",
      "  4.9462e-01 -3.7407e-01  9.5198e-01  1.2166e-01 -6.5476e-01 -1.4382e-01\n",
      " -1.5965e+00  1.3219e-01 -1.2597e+00 -3.9588e-01  1.8640e-01 -3.9916e-01\n",
      " -5.1291e-01 -4.5557e-01 -1.7127e+00 -4.2646e-01  6.2901e-01  2.9032e-01\n",
      "  9.4267e-01  3.3664e-01 -4.2082e-01  1.4390e-01 -3.4219e-01  4.1255e-01\n",
      "  1.0124e-01 -1.2391e+00 -5.7385e-01  2.8032e-01  9.6681e-01  9.3551e-01\n",
      "  3.6635e-01  6.4553e-01  2.4595e-01  8.3605e-01  5.5076e-01 -7.0565e-01\n",
      "  2.0187e-01  7.0333e-01  2.2264e-01 -8.3843e-01 -5.8394e-01  3.4822e-01\n",
      " -2.1004e-01 -2.3870e-02  5.6704e-01  3.3211e-01  8.5786e-01  1.4426e-01\n",
      "  9.2249e-02  5.6565e-01 -4.3346e-01  1.0386e+00  7.8927e-01  5.2372e-01\n",
      " -2.8984e-01  9.7310e-02  2.7855e-01 -6.2663e-02  4.2886e-01 -3.0536e-01\n",
      " -5.3129e-01 -2.7394e-01 -2.1706e-01 -5.4466e-01 -4.7290e-01  4.6565e-01\n",
      " -4.1103e-01 -8.0137e-02 -7.2174e-03 -2.3585e-02  5.2908e-01  4.6527e-02\n",
      " -3.1091e-01  8.1629e-01  8.3222e-01  4.6291e-02 -5.9975e-01 -1.4516e+00\n",
      "  5.6781e-01 -1.4857e-01  6.2011e-01  2.1619e-01 -7.3511e-01  2.0382e-01\n",
      "  8.1131e-01 -1.3402e+00  9.4318e-01 -4.4665e-02  3.8805e-01 -2.5303e-01\n",
      "  2.5251e-01 -2.2993e-01 -5.8883e-01  1.5685e-01  8.1639e-01  2.3905e-01\n",
      "  6.6698e-01 -6.2903e-02 -9.2381e-02  7.9631e-01  1.0441e+00  3.5192e-01\n",
      "  2.6142e-01  4.5874e-01  7.2182e-01 -8.9424e-02  4.8602e-02 -5.1735e-01\n",
      " -3.5492e-01  3.3968e-01 -1.8848e-01 -6.7848e-02]\n",
      "Tumour_Stage: ['III' 'II' 'I']\n",
      "Histology: ['Infiltrating Ductal Carcinoma' 'Mucinous Carcinoma'\n",
      " 'Infiltrating Lobular Carcinoma']\n",
      "ER status: ['Positive']\n",
      "PR status: ['Positive']\n",
      "HER2 status: ['Negative' 'Positive']\n",
      "Surgery_type: ['Modified Radical Mastectomy' 'Lumpectomy' 'Other' 'Simple Mastectomy']\n",
      "Date_of_Surgery: ['15-Jan-17' '26-Apr-17' '08-Sep-17' '25-Jan-17' '06-May-17' '18-Sep-17'\n",
      " '04-Feb-17' '28-Sep-17' '14-Feb-17' '26-May-17' '08-Oct-17' '24-Feb-17'\n",
      " '05-Jun-17' '18-Oct-17' '06-Mar-17' '15-Jun-17' '28-Oct-17' '16-Mar-17'\n",
      " '25-Jun-17' '07-Nov-17' '26-Mar-17' '17-Nov-17' '05-Apr-17' '27-Nov-17'\n",
      " '15-Apr-17' '07-Dec-17' '25-Apr-17' '17-Dec-17' '05-May-17' '27-Dec-17'\n",
      " '15-May-17' '06-Jan-18' '25-May-17' '16-Jan-18' '04-Jun-17' '26-Jan-18'\n",
      " '14-Jun-17' '05-Feb-18' '24-Jun-17' '15-Feb-18' '04-Jul-17' '25-Feb-18'\n",
      " '14-Jul-17' '07-Mar-18' '24-Jul-17' '17-Mar-18' '03-Aug-17' '27-Mar-18'\n",
      " '13-Aug-17' '06-Apr-18' '23-Aug-17' '16-Apr-18' '02-Sep-17' '26-Apr-18'\n",
      " '12-Sep-17' '06-May-18' '22-Sep-17' '16-May-18' '02-Oct-17' '26-May-18'\n",
      " '12-Oct-17' '05-Jun-18' '22-Oct-17' '15-Jun-18' '01-Nov-17' '25-Jun-18'\n",
      " '11-Nov-17' '05-Jul-18' '21-Nov-17' '15-Jul-18' '01-Dec-17' '25-Jul-18'\n",
      " '04-Aug-18' '21-Dec-17' '14-Aug-18' '31-Dec-17' '24-Aug-18' '10-Jan-18'\n",
      " '03-Sep-18' '13-Sep-18' '30-Jan-18' '23-Sep-18' '09-Feb-18' '03-Oct-18'\n",
      " '19-Feb-18' '01-Mar-18' '13-Oct-18' '11-Mar-18' '23-Oct-18' '21-Mar-18'\n",
      " '02-Nov-18' '31-Mar-18' '12-Nov-18' '10-Apr-18' '22-Nov-18' '20-Apr-18'\n",
      " '02-Dec-18' '30-Apr-18' '12-Dec-18' '10-May-18' '22-Dec-18' '20-May-18'\n",
      " '01-Jan-19' '30-May-18' '11-Jan-19' '09-Jun-18' '21-Jan-19' '19-Jun-18'\n",
      " '31-Jan-19' '29-Jun-18' '10-Feb-19' '09-Jul-18' '20-Feb-19' '19-Jul-18'\n",
      " '02-Mar-19' '29-Jul-18' '12-Mar-19' '08-Aug-18' '22-Mar-19' '18-Aug-18'\n",
      " '01-Apr-19' '28-Aug-18' '11-Apr-19' '07-Sep-18' '21-Apr-19' '17-Sep-18'\n",
      " '01-May-19' '27-Sep-18' '11-May-19' '21-May-19' '07-Oct-18' '17-Oct-18'\n",
      " '31-May-19' '27-Oct-18' '06-Nov-18' '20-Jun-19' '16-Nov-18' '30-Jun-19'\n",
      " '26-Nov-18' '10-Jul-19' '06-Dec-18' '20-Jul-19' '16-Dec-18' '10-Jun-19'\n",
      " '26-Dec-18' '05-Jan-19' '15-Jan-19' '25-Jan-19' '04-Feb-19' '14-Feb-19'\n",
      " '24-Feb-19' '06-Mar-19' '16-Mar-19' '26-Mar-19' '05-Apr-19' '15-Apr-19'\n",
      " '25-Apr-19' '05-May-19' '15-May-19' '25-May-19' '04-Jun-19' '14-Jun-19'\n",
      " '24-Jun-19' '04-Jul-19' '14-Jul-19' '24-Jul-19' '03-Aug-19' '13-Aug-19'\n",
      " '23-Aug-19' '02-Sep-19' '12-Sep-19' '22-Sep-19' '02-Oct-19' '12-Oct-19'\n",
      " '22-Oct-19' '01-Nov-19' '11-Nov-19' '21-Nov-19']\n",
      "Date_of_Last_Visit: ['19-Jun-17' '09-Nov-18' '09-Jun-18' '12-Jul-17' '27-Jun-19' '15-Nov-21'\n",
      " '07-Feb-18' '28-Sep-18' '15-Dec-17' '19-Dec-17' '13-Sep-18' '05-Apr-17'\n",
      " '02-Mar-20' '28-Apr-20' '09-Aug-19' '24-Oct-18' '22-Jul-18' '20-Oct-19'\n",
      " '23-Dec-19' '28-Nov-17' '23-Sep-20' '15-Aug-18' '20-Jun-17' '11-Jan-18'\n",
      " '10-Apr-18' '25-Jan-18' '24-May-18' '25-Jun-18' '26-Jun-22' '18-Jul-18'\n",
      " '23-Feb-18' '21-Jun-17' '13-Apr-20' '16-May-18' '01-Nov-17' '02-Dec-18'\n",
      " '10-Feb-18' '15-Jan-18' '10-Jan-18' '23-Jan-19' '27-Feb-18' '10-Feb-20'\n",
      " '12-Mar-18' '12-Sep-20' '03-May-26' '06-Oct-19' '24-Jul-17' '15-Aug-19'\n",
      " '05-Feb-21' '23-Mar-20' '11-Mar-18' '27-Aug-18' '15-Oct-20' '14-Oct-20'\n",
      " '17-Oct-17' '11-Oct-18' '23-Jun-19' '18-Mar-18' '02-May-20' '06-Feb-19'\n",
      " '13-Aug-18' '09-Oct-20' '28-Feb-19' '17-Nov-20' '19-Oct-20' '12-Aug-18'\n",
      " '21-Apr-20' '25-Jan-19' '04-May-18' '09-Jan-20' '22-May-20' '25-Aug-19'\n",
      " '06-Dec-19' '29-Aug-18' '26-Jul-20' '21-Apr-19' '02-Sep-18' '09-Sep-18'\n",
      " '07-Dec-19' '26-Aug-19' '05-Jul-20' '04-Jul-18' '06-Dec-18' '16-Dec-19'\n",
      " '16-Feb-19' '06-Aug-18' '23-Dec-20' '25-Sep-20' '22-Jul-20' '22-Jun-19'\n",
      " '01-Jun-19' '08-Jun-18' '25-Jul-18' '23-Apr-19' '11-Dec-18' '09-Aug-20'\n",
      " '23-Mar-18' '18-Dec-18' '15-Jan-20' '21-Feb-21' '06-Dec-20' '08-Apr-20'\n",
      " '15-Mar-18' '13-Oct-18' '12-Jun-19' '14-Mar-22' '03-Aug-19' '04-Jun-24'\n",
      " '27-Jan-21' '07-Feb-20' '09-Feb-18' '04-Oct-19' '26-Oct-18' '23-Nov-18'\n",
      " '30-Oct-19' '24-Aug-19' '06-Feb-20' '10-Apr-20' '11-Jun-19' '19-Feb-19'\n",
      " '20-Mar-18' '15-Mar-22' '06-Jul-18' '03-Oct-18' '12-Jul-19' '16-Nov-19'\n",
      " '24-Sep-18' '11-Apr-19' '08-Nov-19' '29-Jan-19' '11-Jan-20' '04-Aug-19'\n",
      " '07-Nov-18' '05-Jan-19' '09-Sep-20' '25-Oct-18' '26-Nov-19' '05-Jul-19'\n",
      " '26-Aug-18' '22-Apr-20' '20-Jun-19' '30-Jun-19' '15-Jul-19' '25-Mar-20'\n",
      " '15-Jun-18' '06-Mar-20' '28-Aug-18' '27-Aug-20' '01-Dec-19' '25-Jun-19'\n",
      " '26-Oct-20' '11-Nov-19' '15-Nov-20' '19-Apr-20' '18-Apr-19' '24-Sep-26'\n",
      " '08-Sep-18' '04-Nov-22' '17-Jul-19' '23-Oct-18' '15-Sep-19' '30-Jan-20'\n",
      " '25-Aug-18' '27-Sep-18' '10-Aug-20' '25-Oct-19' '13-Feb-21' '25-Jul-20'\n",
      " '17-Jun-19' '09-Nov-20' '21-Feb-19' '20-Nov-18' '14-Nov-23' '19-May-22'\n",
      " '25-May-20' '01-Nov-20' '29-Oct-20' '18-Feb-19' '19-Jun-19' '20-Feb-20'\n",
      " '12-Mar-19' '26-Jan-21' '03-Mar-19' '22-Aug-20' '21-Oct-19' '18-May-20'\n",
      " '05-Dec-18' '07-Sep-20' '27-Feb-20' '15-Dec-19' '14-Feb-21' '08-May-20'\n",
      " '17-Oct-19' '02-Jul-19' '13-Jul-19' '22-Sep-19' '17-Dec-18' '17-Jan-21'\n",
      " '26-May-19' '27-Oct-20' '28-Jul-20' '04-May-20' '28-Jan-21' '01-Oct-20'\n",
      " '16-Dec-18' '28-Dec-19' '19-Mar-20' '24-Jan-21' '26-Sep-20' '07-Jan-21'\n",
      " '19-Apr-19' '29-Jun-19' '06-Oct-20' '15-Feb-21' '28-Jan-20' '02-Dec-20'\n",
      " '08-Feb-21' '26-Jun-19' '25-Feb-20' '27-Mar-20' '16-Feb-21' '06-Jul-20'\n",
      " '09-May-20' '10-Aug-19' '03-May-19' '30-Jun-20' '03-Feb-20' '19-May-20'\n",
      " '10-Sep-20' '05-Dec-20' '15-May-19' '25-Dec-20' '04-May-21' '14-Jul-20'\n",
      " '13-Oct-20' '11-Oct-19' '30-Dec-20' '23-Aug-19' '14-Apr-20' '17-Dec-19'\n",
      " '11-Mar-20' '03-Feb-21' '15-May-20' '18-Apr-20' '08-Aug-20' '23-Jan-20'\n",
      " '02-Apr-20' '26-Feb-20' '26-Dec-19' '19-Mar-21' '06-Aug-19' '29-Jan-20'\n",
      " '09-Feb-20' '04-Mar-21' '18-Mar-20' '26-Jun-20' '22-Feb-21' '24-Mar-20'\n",
      " '12-Oct-20' '03-Jun-20' '05-Mar-20' '03-Sep-19' '07-Oct-19' '16-Aug-20'\n",
      " '02-Aug-20' '10-May-20' '28-Sep-20' '27-Jun-20' '10-Dec-20' '21-Aug-20'\n",
      " '10-Jan-21' '31-May-20' '05-Jan-21' '08-Sep-20' '27-Apr-20' '19-Jan-21'\n",
      " '07-Nov-20' '09-Feb-21' '01-Feb-21' '24-Mar-21' '22-Jan-21' '28-Feb-21'\n",
      " '04-Mar-20' '18-Jan-21' '19-Feb-21']\n",
      "Patient_Status: ['Alive' 'Dead']\n"
     ]
    }
   ],
   "source": [
    "def print_unique(df):\n",
    "    for column in df:\n",
    "        print(f'{column}: {df[column].unique()}')\n",
    "\n",
    "print_unique(df1)"
   ]
  },
  {
   "cell_type": "code",
   "execution_count": 21,
   "metadata": {},
   "outputs": [
    {
     "data": {
      "text/plain": [
       "<matplotlib.legend.Legend at 0x14ef78ba7c0>"
      ]
     },
     "execution_count": 21,
     "metadata": {},
     "output_type": "execute_result"
    },
    {
     "data": {
      "image/png": "[encoded data removed]",
      "text/plain": [
       "<Figure size 1000x800 with 1 Axes>"
      ]
     },
     "metadata": {},
     "output_type": "display_data"
    }
   ],
   "source": [
    "dead = df1[df1.Patient_Status == \"Dead\"].Gender\n",
    "alive = df1[df1.Patient_Status == \"Alive\"].Gender\n",
    "\n",
    "plt.rcParams[\"figure.figsize\"] = (10,8)\n",
    "plt.xlabel(\"Gender\")\n",
    "plt.ylabel(\"Number of dead patients\")\n",
    "plt.title(\"Number of dead patients by gender visualization\")\n",
    "plt.hist([dead, alive], color= [\"red\", \"black\"], label= [\"Dead\", \"Alive\"], bins= 3, rwidth= 2.0)\n",
    "plt.legend()"
   ]
  },
  {
   "cell_type": "code",
   "execution_count": 22,
   "metadata": {},
   "outputs": [
    {
     "data": {
      "text/plain": [
       "Index(['Patient_ID', 'Age', 'Gender', 'Protein1', 'Protein2', 'Protein3',\n",
       "       'Protein4', 'Tumour_Stage', 'Histology', 'ER status', 'PR status',\n",
       "       'HER2 status', 'Surgery_type', 'Date_of_Surgery', 'Date_of_Last_Visit',\n",
       "       'Patient_Status'],\n",
       "      dtype='object')"
      ]
     },
     "execution_count": 22,
     "metadata": {},
     "output_type": "execute_result"
    }
   ],
   "source": [
    "df1.columns"
   ]
  },
  {
   "cell_type": "code",
   "execution_count": 23,
   "metadata": {},
   "outputs": [
    {
     "data": {
      "text/plain": [
       "<matplotlib.legend.Legend at 0x14ef789eac0>"
      ]
     },
     "execution_count": 23,
     "metadata": {},
     "output_type": "execute_result"
    },
    {
     "data": {
      "image/png": "[encoded data removed]",
      "text/plain": [
       "<Figure size 1000x800 with 1 Axes>"
      ]
     },
     "metadata": {},
     "output_type": "display_data"
    }
   ],
   "source": [
    "# distribution of surgery types and death or survival\n",
    "dead_sur =  df1[df1.Patient_Status == \"Dead\"].Surgery_type\n",
    "alive_sur = df1[df1.Patient_Status == \"Alive\"].Surgery_type\n",
    "\n",
    "plt.rcParams[\"figure.figsize\"] = (10,8)\n",
    "plt.xlabel(\"Surgery Type\")\n",
    "plt.ylabel(\"Number of dead patients\")\n",
    "plt.title(\"Number of dead patients by Surgery type visualization\")\n",
    "plt.hist([dead_sur, alive_sur], color= [\"red\", \"black\"], label= [\"Dead\", \"Alive\"], bins= 7, rwidth= 2.0)\n",
    "plt.legend()"
   ]
  },
  {
   "cell_type": "markdown",
   "metadata": {},
   "source": [
    "# Model Building"
   ]
  },
  {
   "cell_type": "code",
   "execution_count": 24,
   "metadata": {},
   "outputs": [
    {
     "name": "stdout",
     "output_type": "stream",
     "text": [
      "Patient_ID: ['TCGA-D8-A1XD' 'TCGA-EW-A1OX' 'TCGA-A8-A079' 'TCGA-D8-A1XR'\n",
      " 'TCGA-BH-A0BF' 'TCGA-AO-A1KQ' 'TCGA-D8-A73X' 'TCGA-EW-A1P5'\n",
      " 'TCGA-A8-A09A' 'TCGA-S3-A6ZG' 'TCGA-BH-A0EA' 'TCGA-AC-A8OR'\n",
      " 'TCGA-A2-A0ES' 'TCGA-C8-A8HQ' 'TCGA-AO-A03V' 'TCGA-A2-A0D4'\n",
      " 'TCGA-EW-A1PA' 'TCGA-BH-A0DE' 'TCGA-E2-A1B4' 'TCGA-AC-A3HN'\n",
      " 'TCGA-A8-A095' 'TCGA-A2-A4S0' 'TCGA-A7-A3J0' 'TCGA-AC-A62Y'\n",
      " 'TCGA-A7-A5ZW' 'TCGA-A2-A25C' 'TCGA-D8-A1JC' 'TCGA-A7-A4SB'\n",
      " 'TCGA-AR-A24S' 'TCGA-D8-A4Z1' 'TCGA-A7-A26J' 'TCGA-AC-A5XS'\n",
      " 'TCGA-OL-A6VR' 'TCGA-EW-A1PF' 'TCGA-LL-A7SZ' 'TCGA-BH-A18K'\n",
      " 'TCGA-AC-A3OD' 'TCGA-BH-A8FY' 'TCGA-C8-A26Z' 'TCGA-A2-A1G4'\n",
      " 'TCGA-BH-A18F' 'TCGA-E2-A1IG' 'TCGA-AC-A2B8' 'TCGA-BH-A0BT'\n",
      " 'TCGA-AO-A125' 'TCGA-A8-A07E' 'TCGA-A8-A08A' 'TCGA-A2-A0EX'\n",
      " 'TCGA-A8-A093' 'TCGA-E2-A1L6' 'TCGA-3C-AAAU' 'TCGA-E2-A1IL'\n",
      " 'TCGA-A2-A0CO' 'TCGA-BH-A0E7' 'TCGA-EW-A6SC' 'TCGA-D8-A1X7'\n",
      " 'TCGA-D8-A1XM' 'TCGA-A1-A0SF' 'TCGA-EW-A1J5' 'TCGA-BH-A0AY'\n",
      " 'TCGA-E2-A15G' 'TCGA-A8-A09B' 'TCGA-BH-A0HF' 'TCGA-BH-A0GY'\n",
      " 'TCGA-BH-A0BD' 'TCGA-E2-A1IF' 'TCGA-A8-A08Z' 'TCGA-D8-A146'\n",
      " 'TCGA-AR-A252' 'TCGA-D8-A1JJ' 'TCGA-C8-A274' 'TCGA-GM-A2DO'\n",
      " 'TCGA-BH-A0H6' 'TCGA-BH-A0H7' 'TCGA-A8-A09T' 'TCGA-D8-A1JS'\n",
      " 'TCGA-BH-A0B0' 'TCGA-A8-A096' 'TCGA-D8-A1XC' 'TCGA-E2-A154'\n",
      " 'TCGA-D8-A1JU' 'TCGA-AR-A24W' 'TCGA-B6-A40C' 'TCGA-A8-A09Q'\n",
      " 'TCGA-AN-A049' 'TCGA-E9-A54X' 'TCGA-A8-A082' 'TCGA-D8-A1X6'\n",
      " 'TCGA-A2-A0YL' 'TCGA-A8-A09K' 'TCGA-AO-A0JD' 'TCGA-E2-A14Q'\n",
      " 'TCGA-GM-A2DN' 'TCGA-A2-A0T5' 'TCGA-A7-A0CJ' 'TCGA-AN-A03Y'\n",
      " 'TCGA-BH-A42V' 'TCGA-A2-A0CZ' 'TCGA-A2-A0D3' 'TCGA-E9-A6HE'\n",
      " 'TCGA-D8-A27T' 'TCGA-E2-A1IK' 'TCGA-BH-A0B1' 'TCGA-BH-A0DX'\n",
      " 'TCGA-EW-A1OY' 'TCGA-OK-A5Q2' 'TCGA-C8-A1HG' 'TCGA-EW-A1J1'\n",
      " 'TCGA-A2-A0CY' 'TCGA-BH-A28O' 'TCGA-AR-A0U3' 'TCGA-BH-A0AZ'\n",
      " 'TCGA-E2-A15A' 'TCGA-C8-A12N' 'TCGA-BH-A0E2' 'TCGA-D8-A27P'\n",
      " 'TCGA-AO-A0J8' 'TCGA-E2-A1IN' 'TCGA-GM-A5PX' 'TCGA-AO-A03R'\n",
      " 'TCGA-A2-A0EV' 'TCGA-A8-A09M' 'TCGA-A8-A09V' 'TCGA-D8-A27K'\n",
      " 'TCGA-C8-A26V' 'TCGA-AO-A03M' 'TCGA-AN-A0FF' 'TCGA-EW-A1PE'\n",
      " 'TCGA-D8-A27I' 'TCGA-D8-A1XO' 'TCGA-EW-A1J6' 'TCGA-D8-A1JP'\n",
      " 'TCGA-LD-A7W6' 'TCGA-A8-A07G' 'TCGA-D8-A1JH' 'TCGA-BH-A0E9'\n",
      " 'TCGA-BH-A0B5' 'TCGA-AR-A24M' 'TCGA-E9-A227' 'TCGA-AO-A12H'\n",
      " 'TCGA-BH-A2L8' 'TCGA-BH-A0C1' 'TCGA-A7-A26E' 'TCGA-BH-A0DQ'\n",
      " 'TCGA-5L-AAT0' 'TCGA-A8-A06P' 'TCGA-A8-A0A4' 'TCGA-BH-AB28'\n",
      " 'TCGA-AQ-A54O' 'TCGA-C8-A273' 'TCGA-A2-A1FZ' 'TCGA-LL-A6FQ'\n",
      " 'TCGA-Z7-A8R6' 'TCGA-A8-A07W' 'TCGA-C8-A27A' 'TCGA-AO-A126'\n",
      " 'TCGA-A2-A4RX' 'TCGA-A2-A0CV' 'TCGA-BH-A18L' 'TCGA-D8-A1JE'\n",
      " 'TCGA-A8-A086' 'TCGA-AO-A0JA' 'TCGA-GM-A2DL' 'TCGA-AC-A3W6'\n",
      " 'TCGA-AR-A1AK' 'TCGA-E2-A1IU' 'TCGA-BH-A0HO' 'TCGA-A7-A56D'\n",
      " 'TCGA-D8-A1JI' 'TCGA-EW-A1J2' 'TCGA-AQ-A7U7' 'TCGA-C8-A12W'\n",
      " 'TCGA-AC-A3BB' 'TCGA-A8-A092' 'TCGA-BH-A0DK' 'TCGA-E2-A14T'\n",
      " 'TCGA-A2-A1FV' 'TCGA-D8-A1JD' 'TCGA-BH-A0W7' 'TCGA-A8-A0AD'\n",
      " 'TCGA-A7-A3RF' 'TCGA-AR-A24V' 'TCGA-AR-A1AN' 'TCGA-A2-A0EW'\n",
      " 'TCGA-BH-A0DH' 'TCGA-A8-A08O' 'TCGA-W8-A86G' 'TCGA-LD-A7W5'\n",
      " 'TCGA-E2-A15M' 'TCGA-BH-A0BP' 'TCGA-D8-A27L' 'TCGA-E2-A153'\n",
      " 'TCGA-AO-A03T' 'TCGA-AO-A03N' 'TCGA-D8-A141' 'TCGA-A8-A08F'\n",
      " 'TCGA-AC-A5XU' 'TCGA-B6-A401' 'TCGA-GM-A3XN' 'TCGA-A2-A4RW'\n",
      " 'TCGA-BH-A0DV' 'TCGA-WT-AB44' 'TCGA-A8-A0A2' 'TCGA-A8-A07J'\n",
      " 'TCGA-HN-A2OB' 'TCGA-EW-A1IY' 'TCGA-AO-A12B' 'TCGA-A2-A4S3'\n",
      " 'TCGA-AC-A6NO' 'TCGA-A8-A07Z' 'TCGA-D8-A1XB' 'TCGA-BH-A0HQ'\n",
      " 'TCGA-BH-A0HI' 'TCGA-BH-A0DO' 'TCGA-A2-A3KD' 'TCGA-BH-A0BA'\n",
      " 'TCGA-AN-A046' 'TCGA-A2-A0T7' 'TCGA-E2-A15F' 'TCGA-BH-A0DT'\n",
      " 'TCGA-D8-A3Z5' 'TCGA-AR-A1AS' 'TCGA-BH-A0EI' 'TCGA-E2-A108'\n",
      " 'TCGA-D8-A3Z6' 'TCGA-A8-A0A6' 'TCGA-GM-A3XG' 'TCGA-E2-A1L9'\n",
      " 'TCGA-EW-A1P3' 'TCGA-BH-A0BO' 'TCGA-AQ-A1H3' 'TCGA-A8-A09D'\n",
      " 'TCGA-A1-A0SD' 'TCGA-E9-A5FK' 'TCGA-GM-A3NY' 'TCGA-A1-A0SE'\n",
      " 'TCGA-A8-A07L' 'TCGA-A2-A0CL' 'TCGA-EW-A1PC' 'TCGA-BH-A0DS'\n",
      " 'TCGA-D8-A73U' 'TCGA-AO-A0JF' 'TCGA-AR-A24Z' 'TCGA-A1-A0SQ'\n",
      " 'TCGA-AO-A12E' 'TCGA-E9-A54Y' 'TCGA-Z7-A8R5' 'TCGA-BH-A0BJ'\n",
      " 'TCGA-AO-A0JB' 'TCGA-BH-A0DP' 'TCGA-A8-A07F' 'TCGA-BH-A8G0'\n",
      " 'TCGA-A1-A0SI' 'TCGA-D8-A1XU' 'TCGA-A8-A0A1' 'TCGA-D8-A1J8'\n",
      " 'TCGA-GM-A2DM' 'TCGA-EW-A1IX' 'TCGA-A8-A0A9' 'TCGA-AR-A1AV'\n",
      " 'TCGA-BH-A0H0' 'TCGA-A8-A09R' 'TCGA-AR-A24H' 'TCGA-BH-A0DI'\n",
      " 'TCGA-E2-A1BC' 'TCGA-GI-A2C8' 'TCGA-AR-A24O' 'TCGA-BH-A0BC'\n",
      " 'TCGA-D8-A27V' 'TCGA-EW-A2FV' 'TCGA-EW-A1IZ' 'TCGA-BH-A0HX'\n",
      " 'TCGA-XX-A89A' 'TCGA-C8-A1HM' 'TCGA-A2-A4S2' 'TCGA-XX-A899'\n",
      " 'TCGA-A2-A4RY' 'TCGA-A2-A0YI' 'TCGA-E2-A10C' 'TCGA-D8-A13Y'\n",
      " 'TCGA-A2-A0CK' 'TCGA-E2-A15P' 'TCGA-AR-A24R' 'TCGA-BH-A5J0'\n",
      " 'TCGA-A8-A06Q' 'TCGA-A7-A3J1' 'TCGA-A2-A0YH' 'TCGA-A7-A6VX'\n",
      " 'TCGA-A8-A08I' 'TCGA-EW-A2FW' 'TCGA-AO-A0JC' 'TCGA-AO-A0J7'\n",
      " 'TCGA-BH-A0BZ' 'TCGA-EW-A423' 'TCGA-A2-A04Y' 'TCGA-A2-A0T6'\n",
      " 'TCGA-A8-A06Y' 'TCGA-AR-A2LN' 'TCGA-LD-A66U' 'TCGA-E2-A156'\n",
      " 'TCGA-AO-A0JJ' 'TCGA-E2-A14Z' 'TCGA-A2-A0SU' 'TCGA-A7-A13G'\n",
      " 'TCGA-BH-A0BR' 'TCGA-BH-A0HU' 'TCGA-AO-A1KP' 'TCGA-AR-A2LQ'\n",
      " 'TCGA-BH-A0BV' 'TCGA-AO-A1KO' 'TCGA-E2-A1B5' 'TCGA-AR-A1AL'\n",
      " 'TCGA-AN-A04A' 'TCGA-A8-A085' 'TCGA-A1-A0SG' 'TCGA-A2-A0EU'\n",
      " 'TCGA-B6-A40B']\n",
      "Gender: ['FEMALE' 'MALE']\n",
      "Tumour_Stage: ['III' 'II' 'I']\n",
      "Histology: ['Infiltrating Ductal Carcinoma' 'Mucinous Carcinoma'\n",
      " 'Infiltrating Lobular Carcinoma']\n",
      "ER status: ['Positive']\n",
      "PR status: ['Positive']\n",
      "HER2 status: ['Negative' 'Positive']\n",
      "Surgery_type: ['Modified Radical Mastectomy' 'Lumpectomy' 'Other' 'Simple Mastectomy']\n",
      "Date_of_Surgery: ['15-Jan-17' '26-Apr-17' '08-Sep-17' '25-Jan-17' '06-May-17' '18-Sep-17'\n",
      " '04-Feb-17' '28-Sep-17' '14-Feb-17' '26-May-17' '08-Oct-17' '24-Feb-17'\n",
      " '05-Jun-17' '18-Oct-17' '06-Mar-17' '15-Jun-17' '28-Oct-17' '16-Mar-17'\n",
      " '25-Jun-17' '07-Nov-17' '26-Mar-17' '17-Nov-17' '05-Apr-17' '27-Nov-17'\n",
      " '15-Apr-17' '07-Dec-17' '25-Apr-17' '17-Dec-17' '05-May-17' '27-Dec-17'\n",
      " '15-May-17' '06-Jan-18' '25-May-17' '16-Jan-18' '04-Jun-17' '26-Jan-18'\n",
      " '14-Jun-17' '05-Feb-18' '24-Jun-17' '15-Feb-18' '04-Jul-17' '25-Feb-18'\n",
      " '14-Jul-17' '07-Mar-18' '24-Jul-17' '17-Mar-18' '03-Aug-17' '27-Mar-18'\n",
      " '13-Aug-17' '06-Apr-18' '23-Aug-17' '16-Apr-18' '02-Sep-17' '26-Apr-18'\n",
      " '12-Sep-17' '06-May-18' '22-Sep-17' '16-May-18' '02-Oct-17' '26-May-18'\n",
      " '12-Oct-17' '05-Jun-18' '22-Oct-17' '15-Jun-18' '01-Nov-17' '25-Jun-18'\n",
      " '11-Nov-17' '05-Jul-18' '21-Nov-17' '15-Jul-18' '01-Dec-17' '25-Jul-18'\n",
      " '04-Aug-18' '21-Dec-17' '14-Aug-18' '31-Dec-17' '24-Aug-18' '10-Jan-18'\n",
      " '03-Sep-18' '13-Sep-18' '30-Jan-18' '23-Sep-18' '09-Feb-18' '03-Oct-18'\n",
      " '19-Feb-18' '01-Mar-18' '13-Oct-18' '11-Mar-18' '23-Oct-18' '21-Mar-18'\n",
      " '02-Nov-18' '31-Mar-18' '12-Nov-18' '10-Apr-18' '22-Nov-18' '20-Apr-18'\n",
      " '02-Dec-18' '30-Apr-18' '12-Dec-18' '10-May-18' '22-Dec-18' '20-May-18'\n",
      " '01-Jan-19' '30-May-18' '11-Jan-19' '09-Jun-18' '21-Jan-19' '19-Jun-18'\n",
      " '31-Jan-19' '29-Jun-18' '10-Feb-19' '09-Jul-18' '20-Feb-19' '19-Jul-18'\n",
      " '02-Mar-19' '29-Jul-18' '12-Mar-19' '08-Aug-18' '22-Mar-19' '18-Aug-18'\n",
      " '01-Apr-19' '28-Aug-18' '11-Apr-19' '07-Sep-18' '21-Apr-19' '17-Sep-18'\n",
      " '01-May-19' '27-Sep-18' '11-May-19' '21-May-19' '07-Oct-18' '17-Oct-18'\n",
      " '31-May-19' '27-Oct-18' '06-Nov-18' '20-Jun-19' '16-Nov-18' '30-Jun-19'\n",
      " '26-Nov-18' '10-Jul-19' '06-Dec-18' '20-Jul-19' '16-Dec-18' '10-Jun-19'\n",
      " '26-Dec-18' '05-Jan-19' '15-Jan-19' '25-Jan-19' '04-Feb-19' '14-Feb-19'\n",
      " '24-Feb-19' '06-Mar-19' '16-Mar-19' '26-Mar-19' '05-Apr-19' '15-Apr-19'\n",
      " '25-Apr-19' '05-May-19' '15-May-19' '25-May-19' '04-Jun-19' '14-Jun-19'\n",
      " '24-Jun-19' '04-Jul-19' '14-Jul-19' '24-Jul-19' '03-Aug-19' '13-Aug-19'\n",
      " '23-Aug-19' '02-Sep-19' '12-Sep-19' '22-Sep-19' '02-Oct-19' '12-Oct-19'\n",
      " '22-Oct-19' '01-Nov-19' '11-Nov-19' '21-Nov-19']\n",
      "Date_of_Last_Visit: ['19-Jun-17' '09-Nov-18' '09-Jun-18' '12-Jul-17' '27-Jun-19' '15-Nov-21'\n",
      " '07-Feb-18' '28-Sep-18' '15-Dec-17' '19-Dec-17' '13-Sep-18' '05-Apr-17'\n",
      " '02-Mar-20' '28-Apr-20' '09-Aug-19' '24-Oct-18' '22-Jul-18' '20-Oct-19'\n",
      " '23-Dec-19' '28-Nov-17' '23-Sep-20' '15-Aug-18' '20-Jun-17' '11-Jan-18'\n",
      " '10-Apr-18' '25-Jan-18' '24-May-18' '25-Jun-18' '26-Jun-22' '18-Jul-18'\n",
      " '23-Feb-18' '21-Jun-17' '13-Apr-20' '16-May-18' '01-Nov-17' '02-Dec-18'\n",
      " '10-Feb-18' '15-Jan-18' '10-Jan-18' '23-Jan-19' '27-Feb-18' '10-Feb-20'\n",
      " '12-Mar-18' '12-Sep-20' '03-May-26' '06-Oct-19' '24-Jul-17' '15-Aug-19'\n",
      " '05-Feb-21' '23-Mar-20' '11-Mar-18' '27-Aug-18' '15-Oct-20' '14-Oct-20'\n",
      " '17-Oct-17' '11-Oct-18' '23-Jun-19' '18-Mar-18' '02-May-20' '06-Feb-19'\n",
      " '13-Aug-18' '09-Oct-20' '28-Feb-19' '17-Nov-20' '19-Oct-20' '12-Aug-18'\n",
      " '21-Apr-20' '25-Jan-19' '04-May-18' '09-Jan-20' '22-May-20' '25-Aug-19'\n",
      " '06-Dec-19' '29-Aug-18' '26-Jul-20' '21-Apr-19' '02-Sep-18' '09-Sep-18'\n",
      " '07-Dec-19' '26-Aug-19' '05-Jul-20' '04-Jul-18' '06-Dec-18' '16-Dec-19'\n",
      " '16-Feb-19' '06-Aug-18' '23-Dec-20' '25-Sep-20' '22-Jul-20' '22-Jun-19'\n",
      " '01-Jun-19' '08-Jun-18' '25-Jul-18' '23-Apr-19' '11-Dec-18' '09-Aug-20'\n",
      " '23-Mar-18' '18-Dec-18' '15-Jan-20' '21-Feb-21' '06-Dec-20' '08-Apr-20'\n",
      " '15-Mar-18' '13-Oct-18' '12-Jun-19' '14-Mar-22' '03-Aug-19' '04-Jun-24'\n",
      " '27-Jan-21' '07-Feb-20' '09-Feb-18' '04-Oct-19' '26-Oct-18' '23-Nov-18'\n",
      " '30-Oct-19' '24-Aug-19' '06-Feb-20' '10-Apr-20' '11-Jun-19' '19-Feb-19'\n",
      " '20-Mar-18' '15-Mar-22' '06-Jul-18' '03-Oct-18' '12-Jul-19' '16-Nov-19'\n",
      " '24-Sep-18' '11-Apr-19' '08-Nov-19' '29-Jan-19' '11-Jan-20' '04-Aug-19'\n",
      " '07-Nov-18' '05-Jan-19' '09-Sep-20' '25-Oct-18' '26-Nov-19' '05-Jul-19'\n",
      " '26-Aug-18' '22-Apr-20' '20-Jun-19' '30-Jun-19' '15-Jul-19' '25-Mar-20'\n",
      " '15-Jun-18' '06-Mar-20' '28-Aug-18' '27-Aug-20' '01-Dec-19' '25-Jun-19'\n",
      " '26-Oct-20' '11-Nov-19' '15-Nov-20' '19-Apr-20' '18-Apr-19' '24-Sep-26'\n",
      " '08-Sep-18' '04-Nov-22' '17-Jul-19' '23-Oct-18' '15-Sep-19' '30-Jan-20'\n",
      " '25-Aug-18' '27-Sep-18' '10-Aug-20' '25-Oct-19' '13-Feb-21' '25-Jul-20'\n",
      " '17-Jun-19' '09-Nov-20' '21-Feb-19' '20-Nov-18' '14-Nov-23' '19-May-22'\n",
      " '25-May-20' '01-Nov-20' '29-Oct-20' '18-Feb-19' '19-Jun-19' '20-Feb-20'\n",
      " '12-Mar-19' '26-Jan-21' '03-Mar-19' '22-Aug-20' '21-Oct-19' '18-May-20'\n",
      " '05-Dec-18' '07-Sep-20' '27-Feb-20' '15-Dec-19' '14-Feb-21' '08-May-20'\n",
      " '17-Oct-19' '02-Jul-19' '13-Jul-19' '22-Sep-19' '17-Dec-18' '17-Jan-21'\n",
      " '26-May-19' '27-Oct-20' '28-Jul-20' '04-May-20' '28-Jan-21' '01-Oct-20'\n",
      " '16-Dec-18' '28-Dec-19' '19-Mar-20' '24-Jan-21' '26-Sep-20' '07-Jan-21'\n",
      " '19-Apr-19' '29-Jun-19' '06-Oct-20' '15-Feb-21' '28-Jan-20' '02-Dec-20'\n",
      " '08-Feb-21' '26-Jun-19' '25-Feb-20' '27-Mar-20' '16-Feb-21' '06-Jul-20'\n",
      " '09-May-20' '10-Aug-19' '03-May-19' '30-Jun-20' '03-Feb-20' '19-May-20'\n",
      " '10-Sep-20' '05-Dec-20' '15-May-19' '25-Dec-20' '04-May-21' '14-Jul-20'\n",
      " '13-Oct-20' '11-Oct-19' '30-Dec-20' '23-Aug-19' '14-Apr-20' '17-Dec-19'\n",
      " '11-Mar-20' '03-Feb-21' '15-May-20' '18-Apr-20' '08-Aug-20' '23-Jan-20'\n",
      " '02-Apr-20' '26-Feb-20' '26-Dec-19' '19-Mar-21' '06-Aug-19' '29-Jan-20'\n",
      " '09-Feb-20' '04-Mar-21' '18-Mar-20' '26-Jun-20' '22-Feb-21' '24-Mar-20'\n",
      " '12-Oct-20' '03-Jun-20' '05-Mar-20' '03-Sep-19' '07-Oct-19' '16-Aug-20'\n",
      " '02-Aug-20' '10-May-20' '28-Sep-20' '27-Jun-20' '10-Dec-20' '21-Aug-20'\n",
      " '10-Jan-21' '31-May-20' '05-Jan-21' '08-Sep-20' '27-Apr-20' '19-Jan-21'\n",
      " '07-Nov-20' '09-Feb-21' '01-Feb-21' '24-Mar-21' '22-Jan-21' '28-Feb-21'\n",
      " '04-Mar-20' '18-Jan-21' '19-Feb-21']\n",
      "Patient_Status: ['Alive' 'Dead']\n"
     ]
    }
   ],
   "source": [
    "# print unique values of object dtye\n",
    "def print_object(df):\n",
    "    for column in df:\n",
    "        if df[column].dtype == \"object\":\n",
    "            print(f'{column}: {df[column].unique()}')\n",
    "\n",
    "print_object(df1)"
   ]
  },
  {
   "cell_type": "code",
   "execution_count": 25,
   "metadata": {},
   "outputs": [
    {
     "data": {
      "text/plain": [
       "Index(['Patient_ID', 'Age', 'Gender', 'Protein1', 'Protein2', 'Protein3',\n",
       "       'Protein4', 'Tumour_Stage', 'Histology', 'ER status', 'PR status',\n",
       "       'HER2 status', 'Surgery_type', 'Date_of_Surgery', 'Date_of_Last_Visit',\n",
       "       'Patient_Status'],\n",
       "      dtype='object')"
      ]
     },
     "execution_count": 25,
     "metadata": {},
     "output_type": "execute_result"
    }
   ],
   "source": [
    "df1.columns"
   ]
  },
  {
   "cell_type": "code",
   "execution_count": 26,
   "metadata": {},
   "outputs": [
    {
     "name": "stdout",
     "output_type": "stream",
     "text": [
      "(317, 13)\n",
      "Index(['Age', 'Gender', 'Protein1', 'Protein2', 'Protein3', 'Protein4',\n",
      "       'Tumour_Stage', 'Histology', 'ER status', 'PR status', 'HER2 status',\n",
      "       'Surgery_type', 'Patient_Status'],\n",
      "      dtype='object')\n"
     ]
    },
    {
     "data": {
      "text/html": [
       "<div>\n",
       "<style scoped>\n",
       "    .dataframe tbody tr th:only-of-type {\n",
       "        vertical-align: middle;\n",
       "    }\n",
       "\n",
       "    .dataframe tbody tr th {\n",
       "        vertical-align: top;\n",
       "    }\n",
       "\n",
       "    .dataframe thead th {\n",
       "        text-align: right;\n",
       "    }\n",
       "</style>\n",
       "<table border=\"1\" class=\"dataframe\">\n",
       "  <thead>\n",
       "    <tr style=\"text-align: right;\">\n",
       "      <th></th>\n",
       "      <th>Age</th>\n",
       "      <th>Gender</th>\n",
       "      <th>Protein1</th>\n",
       "      <th>Protein2</th>\n",
       "      <th>Protein3</th>\n",
       "      <th>Protein4</th>\n",
       "      <th>Tumour_Stage</th>\n",
       "      <th>Histology</th>\n",
       "      <th>ER status</th>\n",
       "      <th>PR status</th>\n",
       "      <th>HER2 status</th>\n",
       "      <th>Surgery_type</th>\n",
       "      <th>Patient_Status</th>\n",
       "    </tr>\n",
       "  </thead>\n",
       "  <tbody>\n",
       "    <tr>\n",
       "      <th>0</th>\n",
       "      <td>36.0</td>\n",
       "      <td>FEMALE</td>\n",
       "      <td>0.080353</td>\n",
       "      <td>0.42638</td>\n",
       "      <td>0.54715</td>\n",
       "      <td>0.273680</td>\n",
       "      <td>III</td>\n",
       "      <td>Infiltrating Ductal Carcinoma</td>\n",
       "      <td>Positive</td>\n",
       "      <td>Positive</td>\n",
       "      <td>Negative</td>\n",
       "      <td>Modified Radical Mastectomy</td>\n",
       "      <td>Alive</td>\n",
       "    </tr>\n",
       "    <tr>\n",
       "      <th>1</th>\n",
       "      <td>43.0</td>\n",
       "      <td>FEMALE</td>\n",
       "      <td>-0.420320</td>\n",
       "      <td>0.57807</td>\n",
       "      <td>0.61447</td>\n",
       "      <td>-0.031505</td>\n",
       "      <td>II</td>\n",
       "      <td>Mucinous Carcinoma</td>\n",
       "      <td>Positive</td>\n",
       "      <td>Positive</td>\n",
       "      <td>Negative</td>\n",
       "      <td>Lumpectomy</td>\n",
       "      <td>Dead</td>\n",
       "    </tr>\n",
       "    <tr>\n",
       "      <th>2</th>\n",
       "      <td>69.0</td>\n",
       "      <td>FEMALE</td>\n",
       "      <td>0.213980</td>\n",
       "      <td>1.31140</td>\n",
       "      <td>-0.32747</td>\n",
       "      <td>-0.234260</td>\n",
       "      <td>III</td>\n",
       "      <td>Infiltrating Ductal Carcinoma</td>\n",
       "      <td>Positive</td>\n",
       "      <td>Positive</td>\n",
       "      <td>Negative</td>\n",
       "      <td>Other</td>\n",
       "      <td>Alive</td>\n",
       "    </tr>\n",
       "    <tr>\n",
       "      <th>3</th>\n",
       "      <td>56.0</td>\n",
       "      <td>FEMALE</td>\n",
       "      <td>0.345090</td>\n",
       "      <td>-0.21147</td>\n",
       "      <td>-0.19304</td>\n",
       "      <td>0.124270</td>\n",
       "      <td>II</td>\n",
       "      <td>Infiltrating Ductal Carcinoma</td>\n",
       "      <td>Positive</td>\n",
       "      <td>Positive</td>\n",
       "      <td>Negative</td>\n",
       "      <td>Modified Radical Mastectomy</td>\n",
       "      <td>Alive</td>\n",
       "    </tr>\n",
       "    <tr>\n",
       "      <th>4</th>\n",
       "      <td>56.0</td>\n",
       "      <td>FEMALE</td>\n",
       "      <td>0.221550</td>\n",
       "      <td>1.90680</td>\n",
       "      <td>0.52045</td>\n",
       "      <td>-0.311990</td>\n",
       "      <td>II</td>\n",
       "      <td>Infiltrating Ductal Carcinoma</td>\n",
       "      <td>Positive</td>\n",
       "      <td>Positive</td>\n",
       "      <td>Negative</td>\n",
       "      <td>Other</td>\n",
       "      <td>Dead</td>\n",
       "    </tr>\n",
       "  </tbody>\n",
       "</table>\n",
       "</div>"
      ],
      "text/plain": [
       "    Age  Gender  Protein1  Protein2  Protein3  Protein4 Tumour_Stage  \\\n",
       "0  36.0  FEMALE  0.080353   0.42638   0.54715  0.273680          III   \n",
       "1  43.0  FEMALE -0.420320   0.57807   0.61447 -0.031505           II   \n",
       "2  69.0  FEMALE  0.213980   1.31140  -0.32747 -0.234260          III   \n",
       "3  56.0  FEMALE  0.345090  -0.21147  -0.19304  0.124270           II   \n",
       "4  56.0  FEMALE  0.221550   1.90680   0.52045 -0.311990           II   \n",
       "\n",
       "                       Histology ER status PR status HER2 status  \\\n",
       "0  Infiltrating Ductal Carcinoma  Positive  Positive    Negative   \n",
       "1             Mucinous Carcinoma  Positive  Positive    Negative   \n",
       "2  Infiltrating Ductal Carcinoma  Positive  Positive    Negative   \n",
       "3  Infiltrating Ductal Carcinoma  Positive  Positive    Negative   \n",
       "4  Infiltrating Ductal Carcinoma  Positive  Positive    Negative   \n",
       "\n",
       "                  Surgery_type Patient_Status  \n",
       "0  Modified Radical Mastectomy          Alive  \n",
       "1                   Lumpectomy           Dead  \n",
       "2                        Other          Alive  \n",
       "3  Modified Radical Mastectomy          Alive  \n",
       "4                        Other           Dead  "
      ]
     },
     "execution_count": 26,
     "metadata": {},
     "output_type": "execute_result"
    }
   ],
   "source": [
    "# drop unneeded columns\n",
    "df2 = df1.drop([\"Patient_ID\", \"Date_of_Surgery\", \"Date_of_Last_Visit\"], axis= 1)\n",
    "print(df2.shape)\n",
    "print(df2.columns)\n",
    "df2.head()"
   ]
  },
  {
   "cell_type": "code",
   "execution_count": 27,
   "metadata": {},
   "outputs": [
    {
     "data": {
      "text/plain": [
       "Index(['Age', 'Gender', 'Protein1', 'Protein2', 'Protein3', 'Protein4',\n",
       "       'Tumour_Stage', 'Histology', 'ER status', 'PR status', 'HER2 status',\n",
       "       'Surgery_type', 'Patient_Status'],\n",
       "      dtype='object')"
      ]
     },
     "execution_count": 27,
     "metadata": {},
     "output_type": "execute_result"
    }
   ],
   "source": [
    "df2.columns"
   ]
  },
  {
   "cell_type": "code",
   "execution_count": 28,
   "metadata": {},
   "outputs": [
    {
     "data": {
      "text/plain": [
       "Age               float64\n",
       "Gender             object\n",
       "Protein1          float64\n",
       "Protein2          float64\n",
       "Protein3          float64\n",
       "Protein4          float64\n",
       "Tumour_Stage       object\n",
       "Histology          object\n",
       "ER status          object\n",
       "PR status          object\n",
       "HER2 status        object\n",
       "Surgery_type       object\n",
       "Patient_Status     object\n",
       "dtype: object"
      ]
     },
     "execution_count": 28,
     "metadata": {},
     "output_type": "execute_result"
    }
   ],
   "source": [
    "df2.dtypes\n"
   ]
  },
  {
   "cell_type": "code",
   "execution_count": 29,
   "metadata": {},
   "outputs": [],
   "source": [
    "# label encodeing\n",
    "from sklearn.preprocessing import LabelEncoder\n",
    "le = LabelEncoder()\n",
    "\n",
    "\n",
    "# # define class for label encoding\n",
    "# columns = [\"Gender\", \"Tumour_Stage\", \"ER status\", \"PR status\", \"HER2 status\", \"Surgery_type\", \"Patient_Status\"]\n",
    "\n",
    "# class MultiColumnLabelEncoder:\n",
    "#     def __init__(self,columns = None):\n",
    "#         self.columns = columns # array of column names to encode\n",
    "\n",
    "#     def fit(self,X,y=None):\n",
    "#         return self # not relevant here\n",
    "\n",
    "#     def transform(self,X):\n",
    "#         '''\n",
    "#         Transforms columns of X specified in self.columns using\n",
    "#         LabelEncoder(). If no columns specified, transforms all\n",
    "#         columns in X.\n",
    "#         '''\n",
    "#         output = X.copy()\n",
    "#         if self.columns is not None:\n",
    "#             for col in self.columns:\n",
    "#                 output[col] = LabelEncoder().fit_transform(output[col])\n",
    "#         else:\n",
    "#             for colname,col in output.iteritems():\n",
    "#                 output[colname] = LabelEncoder().fit_transform(col)\n",
    "#         return output\n",
    "\n",
    "#     def fit_transform(self,X,y=None):\n",
    "#         return self.fit(X,y).transform(X)\n"
   ]
  },
  {
   "cell_type": "code",
   "execution_count": 30,
   "metadata": {},
   "outputs": [
    {
     "data": {
      "text/html": [
       "<div>\n",
       "<style scoped>\n",
       "    .dataframe tbody tr th:only-of-type {\n",
       "        vertical-align: middle;\n",
       "    }\n",
       "\n",
       "    .dataframe tbody tr th {\n",
       "        vertical-align: top;\n",
       "    }\n",
       "\n",
       "    .dataframe thead th {\n",
       "        text-align: right;\n",
       "    }\n",
       "</style>\n",
       "<table border=\"1\" class=\"dataframe\">\n",
       "  <thead>\n",
       "    <tr style=\"text-align: right;\">\n",
       "      <th></th>\n",
       "      <th>Age</th>\n",
       "      <th>Gender</th>\n",
       "      <th>Protein1</th>\n",
       "      <th>Protein2</th>\n",
       "      <th>Protein3</th>\n",
       "      <th>Protein4</th>\n",
       "      <th>Tumour_Stage</th>\n",
       "      <th>Histology</th>\n",
       "      <th>ER status</th>\n",
       "      <th>PR status</th>\n",
       "      <th>HER2 status</th>\n",
       "      <th>Surgery_type</th>\n",
       "      <th>Patient_Status</th>\n",
       "    </tr>\n",
       "  </thead>\n",
       "  <tbody>\n",
       "    <tr>\n",
       "      <th>0</th>\n",
       "      <td>36.0</td>\n",
       "      <td>FEMALE</td>\n",
       "      <td>0.080353</td>\n",
       "      <td>0.42638</td>\n",
       "      <td>0.54715</td>\n",
       "      <td>0.273680</td>\n",
       "      <td>III</td>\n",
       "      <td>Infiltrating Ductal Carcinoma</td>\n",
       "      <td>Positive</td>\n",
       "      <td>Positive</td>\n",
       "      <td>Negative</td>\n",
       "      <td>Modified Radical Mastectomy</td>\n",
       "      <td>Alive</td>\n",
       "    </tr>\n",
       "    <tr>\n",
       "      <th>1</th>\n",
       "      <td>43.0</td>\n",
       "      <td>FEMALE</td>\n",
       "      <td>-0.420320</td>\n",
       "      <td>0.57807</td>\n",
       "      <td>0.61447</td>\n",
       "      <td>-0.031505</td>\n",
       "      <td>II</td>\n",
       "      <td>Mucinous Carcinoma</td>\n",
       "      <td>Positive</td>\n",
       "      <td>Positive</td>\n",
       "      <td>Negative</td>\n",
       "      <td>Lumpectomy</td>\n",
       "      <td>Dead</td>\n",
       "    </tr>\n",
       "    <tr>\n",
       "      <th>2</th>\n",
       "      <td>69.0</td>\n",
       "      <td>FEMALE</td>\n",
       "      <td>0.213980</td>\n",
       "      <td>1.31140</td>\n",
       "      <td>-0.32747</td>\n",
       "      <td>-0.234260</td>\n",
       "      <td>III</td>\n",
       "      <td>Infiltrating Ductal Carcinoma</td>\n",
       "      <td>Positive</td>\n",
       "      <td>Positive</td>\n",
       "      <td>Negative</td>\n",
       "      <td>Other</td>\n",
       "      <td>Alive</td>\n",
       "    </tr>\n",
       "    <tr>\n",
       "      <th>3</th>\n",
       "      <td>56.0</td>\n",
       "      <td>FEMALE</td>\n",
       "      <td>0.345090</td>\n",
       "      <td>-0.21147</td>\n",
       "      <td>-0.19304</td>\n",
       "      <td>0.124270</td>\n",
       "      <td>II</td>\n",
       "      <td>Infiltrating Ductal Carcinoma</td>\n",
       "      <td>Positive</td>\n",
       "      <td>Positive</td>\n",
       "      <td>Negative</td>\n",
       "      <td>Modified Radical Mastectomy</td>\n",
       "      <td>Alive</td>\n",
       "    </tr>\n",
       "    <tr>\n",
       "      <th>4</th>\n",
       "      <td>56.0</td>\n",
       "      <td>FEMALE</td>\n",
       "      <td>0.221550</td>\n",
       "      <td>1.90680</td>\n",
       "      <td>0.52045</td>\n",
       "      <td>-0.311990</td>\n",
       "      <td>II</td>\n",
       "      <td>Infiltrating Ductal Carcinoma</td>\n",
       "      <td>Positive</td>\n",
       "      <td>Positive</td>\n",
       "      <td>Negative</td>\n",
       "      <td>Other</td>\n",
       "      <td>Dead</td>\n",
       "    </tr>\n",
       "  </tbody>\n",
       "</table>\n",
       "</div>"
      ],
      "text/plain": [
       "    Age  Gender  Protein1  Protein2  Protein3  Protein4 Tumour_Stage  \\\n",
       "0  36.0  FEMALE  0.080353   0.42638   0.54715  0.273680          III   \n",
       "1  43.0  FEMALE -0.420320   0.57807   0.61447 -0.031505           II   \n",
       "2  69.0  FEMALE  0.213980   1.31140  -0.32747 -0.234260          III   \n",
       "3  56.0  FEMALE  0.345090  -0.21147  -0.19304  0.124270           II   \n",
       "4  56.0  FEMALE  0.221550   1.90680   0.52045 -0.311990           II   \n",
       "\n",
       "                       Histology ER status PR status HER2 status  \\\n",
       "0  Infiltrating Ductal Carcinoma  Positive  Positive    Negative   \n",
       "1             Mucinous Carcinoma  Positive  Positive    Negative   \n",
       "2  Infiltrating Ductal Carcinoma  Positive  Positive    Negative   \n",
       "3  Infiltrating Ductal Carcinoma  Positive  Positive    Negative   \n",
       "4  Infiltrating Ductal Carcinoma  Positive  Positive    Negative   \n",
       "\n",
       "                  Surgery_type Patient_Status  \n",
       "0  Modified Radical Mastectomy          Alive  \n",
       "1                   Lumpectomy           Dead  \n",
       "2                        Other          Alive  \n",
       "3  Modified Radical Mastectomy          Alive  \n",
       "4                        Other           Dead  "
      ]
     },
     "execution_count": 30,
     "metadata": {},
     "output_type": "execute_result"
    }
   ],
   "source": [
    "df3 = df2.copy()\n",
    "df3.head()"
   ]
  },
  {
   "cell_type": "code",
   "execution_count": 31,
   "metadata": {},
   "outputs": [
    {
     "data": {
      "text/plain": [
       "Index(['Age', 'Gender', 'Protein1', 'Protein2', 'Protein3', 'Protein4',\n",
       "       'Tumour_Stage', 'Histology', 'ER status', 'PR status', 'HER2 status',\n",
       "       'Surgery_type', 'Patient_Status'],\n",
       "      dtype='object')"
      ]
     },
     "execution_count": 31,
     "metadata": {},
     "output_type": "execute_result"
    }
   ],
   "source": [
    "df3.columns"
   ]
  },
  {
   "cell_type": "code",
   "execution_count": 32,
   "metadata": {},
   "outputs": [
    {
     "data": {
      "text/plain": [
       "16"
      ]
     },
     "execution_count": 32,
     "metadata": {},
     "output_type": "execute_result"
    }
   ],
   "source": [
    "len(df1.columns)"
   ]
  },
  {
   "cell_type": "code",
   "execution_count": 33,
   "metadata": {},
   "outputs": [
    {
     "data": {
      "text/plain": [
       "13"
      ]
     },
     "execution_count": 33,
     "metadata": {},
     "output_type": "execute_result"
    }
   ],
   "source": [
    "len(df3.columns)"
   ]
  },
  {
   "cell_type": "code",
   "execution_count": 34,
   "metadata": {},
   "outputs": [],
   "source": [
    "df3[\"Tumour_Stage\"] = df3[\"Tumour_Stage\"].map({\"I\": 1, \"II\": 2, \"III\": 3})\n",
    "df3[\"Histology\"] = df3[\"Histology\"].map({\"Infiltrating Ductal Carcinoma\": 1, \n",
    "                                           \"Infiltrating Lobular Carcinoma\": 2, \"Mucinous Carcinoma\": 3})\n",
    "df3[\"ER status\"] = df3[\"ER status\"].map({\"Positive\": 1, \"Negative\": 2})\n",
    "df3[\"PR status\"] = df3[\"PR status\"].map({\"Positive\": 1, \"Negative\": 2})\n",
    "df3[\"HER2 status\"] = df3[\"HER2 status\"].map({\"Positive\": 1, \"Negative\": 2})\n",
    "df3[\"Gender\"] = df3[\"Gender\"].map({\"MALE\": 0, \"FEMALE\": 1})\n",
    "df3[\"Surgery_type\"] = df3[\"Surgery_type\"].map({\"Other\": 1, \"Modified Radical Mastectomy\": 2, \n",
    "                                                 \"Lumpectomy\": 3, \"Simple Mastectomy\": 4})\n",
    "df3[\"Patient_Status\"] = df3[\"Patient_Status\"].map({\"Alive\": 1, \"Dead\": 2})"
   ]
  },
  {
   "cell_type": "code",
   "execution_count": 35,
   "metadata": {},
   "outputs": [
    {
     "data": {
      "text/html": [
       "<div>\n",
       "<style scoped>\n",
       "    .dataframe tbody tr th:only-of-type {\n",
       "        vertical-align: middle;\n",
       "    }\n",
       "\n",
       "    .dataframe tbody tr th {\n",
       "        vertical-align: top;\n",
       "    }\n",
       "\n",
       "    .dataframe thead th {\n",
       "        text-align: right;\n",
       "    }\n",
       "</style>\n",
       "<table border=\"1\" class=\"dataframe\">\n",
       "  <thead>\n",
       "    <tr style=\"text-align: right;\">\n",
       "      <th></th>\n",
       "      <th>Age</th>\n",
       "      <th>Gender</th>\n",
       "      <th>Protein1</th>\n",
       "      <th>Protein2</th>\n",
       "      <th>Protein3</th>\n",
       "      <th>Protein4</th>\n",
       "      <th>Tumour_Stage</th>\n",
       "      <th>Histology</th>\n",
       "      <th>ER status</th>\n",
       "      <th>PR status</th>\n",
       "      <th>HER2 status</th>\n",
       "      <th>Surgery_type</th>\n",
       "      <th>Patient_Status</th>\n",
       "    </tr>\n",
       "  </thead>\n",
       "  <tbody>\n",
       "    <tr>\n",
       "      <th>0</th>\n",
       "      <td>36.0</td>\n",
       "      <td>1</td>\n",
       "      <td>0.080353</td>\n",
       "      <td>0.42638</td>\n",
       "      <td>0.54715</td>\n",
       "      <td>0.273680</td>\n",
       "      <td>3</td>\n",
       "      <td>1</td>\n",
       "      <td>1</td>\n",
       "      <td>1</td>\n",
       "      <td>2</td>\n",
       "      <td>2</td>\n",
       "      <td>1</td>\n",
       "    </tr>\n",
       "    <tr>\n",
       "      <th>1</th>\n",
       "      <td>43.0</td>\n",
       "      <td>1</td>\n",
       "      <td>-0.420320</td>\n",
       "      <td>0.57807</td>\n",
       "      <td>0.61447</td>\n",
       "      <td>-0.031505</td>\n",
       "      <td>2</td>\n",
       "      <td>3</td>\n",
       "      <td>1</td>\n",
       "      <td>1</td>\n",
       "      <td>2</td>\n",
       "      <td>3</td>\n",
       "      <td>2</td>\n",
       "    </tr>\n",
       "    <tr>\n",
       "      <th>2</th>\n",
       "      <td>69.0</td>\n",
       "      <td>1</td>\n",
       "      <td>0.213980</td>\n",
       "      <td>1.31140</td>\n",
       "      <td>-0.32747</td>\n",
       "      <td>-0.234260</td>\n",
       "      <td>3</td>\n",
       "      <td>1</td>\n",
       "      <td>1</td>\n",
       "      <td>1</td>\n",
       "      <td>2</td>\n",
       "      <td>1</td>\n",
       "      <td>1</td>\n",
       "    </tr>\n",
       "    <tr>\n",
       "      <th>3</th>\n",
       "      <td>56.0</td>\n",
       "      <td>1</td>\n",
       "      <td>0.345090</td>\n",
       "      <td>-0.21147</td>\n",
       "      <td>-0.19304</td>\n",
       "      <td>0.124270</td>\n",
       "      <td>2</td>\n",
       "      <td>1</td>\n",
       "      <td>1</td>\n",
       "      <td>1</td>\n",
       "      <td>2</td>\n",
       "      <td>2</td>\n",
       "      <td>1</td>\n",
       "    </tr>\n",
       "    <tr>\n",
       "      <th>4</th>\n",
       "      <td>56.0</td>\n",
       "      <td>1</td>\n",
       "      <td>0.221550</td>\n",
       "      <td>1.90680</td>\n",
       "      <td>0.52045</td>\n",
       "      <td>-0.311990</td>\n",
       "      <td>2</td>\n",
       "      <td>1</td>\n",
       "      <td>1</td>\n",
       "      <td>1</td>\n",
       "      <td>2</td>\n",
       "      <td>1</td>\n",
       "      <td>2</td>\n",
       "    </tr>\n",
       "  </tbody>\n",
       "</table>\n",
       "</div>"
      ],
      "text/plain": [
       "    Age  Gender  Protein1  Protein2  Protein3  Protein4  Tumour_Stage  \\\n",
       "0  36.0       1  0.080353   0.42638   0.54715  0.273680             3   \n",
       "1  43.0       1 -0.420320   0.57807   0.61447 -0.031505             2   \n",
       "2  69.0       1  0.213980   1.31140  -0.32747 -0.234260             3   \n",
       "3  56.0       1  0.345090  -0.21147  -0.19304  0.124270             2   \n",
       "4  56.0       1  0.221550   1.90680   0.52045 -0.311990             2   \n",
       "\n",
       "   Histology  ER status  PR status  HER2 status  Surgery_type  Patient_Status  \n",
       "0          1          1          1            2             2               1  \n",
       "1          3          1          1            2             3               2  \n",
       "2          1          1          1            2             1               1  \n",
       "3          1          1          1            2             2               1  \n",
       "4          1          1          1            2             1               2  "
      ]
     },
     "execution_count": 35,
     "metadata": {},
     "output_type": "execute_result"
    }
   ],
   "source": [
    "df3.head()"
   ]
  },
  {
   "cell_type": "code",
   "execution_count": 36,
   "metadata": {},
   "outputs": [
    {
     "data": {
      "text/html": [
       "<div>\n",
       "<style scoped>\n",
       "    .dataframe tbody tr th:only-of-type {\n",
       "        vertical-align: middle;\n",
       "    }\n",
       "\n",
       "    .dataframe tbody tr th {\n",
       "        vertical-align: top;\n",
       "    }\n",
       "\n",
       "    .dataframe thead th {\n",
       "        text-align: right;\n",
       "    }\n",
       "</style>\n",
       "<table border=\"1\" class=\"dataframe\">\n",
       "  <thead>\n",
       "    <tr style=\"text-align: right;\">\n",
       "      <th></th>\n",
       "      <th>Age</th>\n",
       "      <th>Gender</th>\n",
       "      <th>Protein1</th>\n",
       "      <th>Protein2</th>\n",
       "      <th>Protein3</th>\n",
       "      <th>Protein4</th>\n",
       "      <th>Tumour_Stage</th>\n",
       "      <th>Histology</th>\n",
       "      <th>ER status</th>\n",
       "      <th>PR status</th>\n",
       "      <th>HER2 status</th>\n",
       "      <th>Surgery_type</th>\n",
       "      <th>Patient_Status</th>\n",
       "    </tr>\n",
       "  </thead>\n",
       "  <tbody>\n",
       "    <tr>\n",
       "      <th>0</th>\n",
       "      <td>36.0</td>\n",
       "      <td>FEMALE</td>\n",
       "      <td>0.080353</td>\n",
       "      <td>0.42638</td>\n",
       "      <td>0.54715</td>\n",
       "      <td>0.273680</td>\n",
       "      <td>III</td>\n",
       "      <td>Infiltrating Ductal Carcinoma</td>\n",
       "      <td>Positive</td>\n",
       "      <td>Positive</td>\n",
       "      <td>Negative</td>\n",
       "      <td>Modified Radical Mastectomy</td>\n",
       "      <td>Alive</td>\n",
       "    </tr>\n",
       "    <tr>\n",
       "      <th>1</th>\n",
       "      <td>43.0</td>\n",
       "      <td>FEMALE</td>\n",
       "      <td>-0.420320</td>\n",
       "      <td>0.57807</td>\n",
       "      <td>0.61447</td>\n",
       "      <td>-0.031505</td>\n",
       "      <td>II</td>\n",
       "      <td>Mucinous Carcinoma</td>\n",
       "      <td>Positive</td>\n",
       "      <td>Positive</td>\n",
       "      <td>Negative</td>\n",
       "      <td>Lumpectomy</td>\n",
       "      <td>Dead</td>\n",
       "    </tr>\n",
       "    <tr>\n",
       "      <th>2</th>\n",
       "      <td>69.0</td>\n",
       "      <td>FEMALE</td>\n",
       "      <td>0.213980</td>\n",
       "      <td>1.31140</td>\n",
       "      <td>-0.32747</td>\n",
       "      <td>-0.234260</td>\n",
       "      <td>III</td>\n",
       "      <td>Infiltrating Ductal Carcinoma</td>\n",
       "      <td>Positive</td>\n",
       "      <td>Positive</td>\n",
       "      <td>Negative</td>\n",
       "      <td>Other</td>\n",
       "      <td>Alive</td>\n",
       "    </tr>\n",
       "    <tr>\n",
       "      <th>3</th>\n",
       "      <td>56.0</td>\n",
       "      <td>FEMALE</td>\n",
       "      <td>0.345090</td>\n",
       "      <td>-0.21147</td>\n",
       "      <td>-0.19304</td>\n",
       "      <td>0.124270</td>\n",
       "      <td>II</td>\n",
       "      <td>Infiltrating Ductal Carcinoma</td>\n",
       "      <td>Positive</td>\n",
       "      <td>Positive</td>\n",
       "      <td>Negative</td>\n",
       "      <td>Modified Radical Mastectomy</td>\n",
       "      <td>Alive</td>\n",
       "    </tr>\n",
       "    <tr>\n",
       "      <th>4</th>\n",
       "      <td>56.0</td>\n",
       "      <td>FEMALE</td>\n",
       "      <td>0.221550</td>\n",
       "      <td>1.90680</td>\n",
       "      <td>0.52045</td>\n",
       "      <td>-0.311990</td>\n",
       "      <td>II</td>\n",
       "      <td>Infiltrating Ductal Carcinoma</td>\n",
       "      <td>Positive</td>\n",
       "      <td>Positive</td>\n",
       "      <td>Negative</td>\n",
       "      <td>Other</td>\n",
       "      <td>Dead</td>\n",
       "    </tr>\n",
       "  </tbody>\n",
       "</table>\n",
       "</div>"
      ],
      "text/plain": [
       "    Age  Gender  Protein1  Protein2  Protein3  Protein4 Tumour_Stage  \\\n",
       "0  36.0  FEMALE  0.080353   0.42638   0.54715  0.273680          III   \n",
       "1  43.0  FEMALE -0.420320   0.57807   0.61447 -0.031505           II   \n",
       "2  69.0  FEMALE  0.213980   1.31140  -0.32747 -0.234260          III   \n",
       "3  56.0  FEMALE  0.345090  -0.21147  -0.19304  0.124270           II   \n",
       "4  56.0  FEMALE  0.221550   1.90680   0.52045 -0.311990           II   \n",
       "\n",
       "                       Histology ER status PR status HER2 status  \\\n",
       "0  Infiltrating Ductal Carcinoma  Positive  Positive    Negative   \n",
       "1             Mucinous Carcinoma  Positive  Positive    Negative   \n",
       "2  Infiltrating Ductal Carcinoma  Positive  Positive    Negative   \n",
       "3  Infiltrating Ductal Carcinoma  Positive  Positive    Negative   \n",
       "4  Infiltrating Ductal Carcinoma  Positive  Positive    Negative   \n",
       "\n",
       "                  Surgery_type Patient_Status  \n",
       "0  Modified Radical Mastectomy          Alive  \n",
       "1                   Lumpectomy           Dead  \n",
       "2                        Other          Alive  \n",
       "3  Modified Radical Mastectomy          Alive  \n",
       "4                        Other           Dead  "
      ]
     },
     "execution_count": 36,
     "metadata": {},
     "output_type": "execute_result"
    }
   ],
   "source": [
    "df2.head()"
   ]
  },
  {
   "cell_type": "code",
   "execution_count": 37,
   "metadata": {},
   "outputs": [
    {
     "name": "stdout",
     "output_type": "stream",
     "text": [
      "Age: [36. 43. 69. 56. 84. 53. 77. 40. 71. 72. 75. 52. 41. 37. 59. 62. 74. 87.\n",
      " 45. 79. 47. 50. 61. 68. 49. 48. 46. 81. 89. 44. 55. 78. 85. 60. 57. 54.\n",
      " 76. 58. 67. 63. 82. 65. 73. 51. 83. 80. 39. 66. 42. 38. 64. 29. 32. 70.\n",
      " 90. 35. 88.]\n",
      "Gender: [1 0]\n",
      "Protein1: [ 8.0353e-02 -4.2032e-01  2.1398e-01  3.4509e-01  2.2155e-01 -8.1872e-02\n",
      " -6.9535e-02 -1.5175e-01 -5.6570e-01 -2.2305e-01 -3.7270e-01  1.7164e-01\n",
      " -1.6828e+00  5.6042e-01  1.4252e-01  2.9490e-01  1.9762e-01  1.0464e-01\n",
      " -2.4613e-01 -8.7485e-02 -5.9518e-01 -2.9870e-01  5.4240e-01 -3.6229e-02\n",
      "  3.3186e-01 -6.2153e-02 -3.3045e-01  1.0352e+00 -2.2788e-01  6.4903e-01\n",
      " -2.8082e-01  5.9453e-01  2.3235e-01 -7.9765e-02  6.1643e-02 -5.5214e-01\n",
      " -3.4962e-01  7.0876e-01  2.8025e-01 -9.4840e-01  2.1728e-01  4.2538e-01\n",
      "  1.4991e-01 -2.2853e-01 -4.2298e-01  8.2374e-01 -2.4978e-01  2.3113e-01\n",
      " -1.4872e+00  2.3917e-01 -6.6342e-01  2.0973e-01  7.4520e-01  7.2984e-01\n",
      "  2.1197e-01  5.1178e-01  0.0000e+00 -2.8272e-01  3.5914e-01  6.7627e-02\n",
      "  4.3546e-02 -3.3490e-01 -2.0608e-01 -7.5475e-01  1.2107e-01 -3.1640e-02\n",
      " -1.6053e-01  1.2704e-01  1.3597e-01  3.7857e-01  9.6614e-02 -9.7674e-01\n",
      "  4.3553e-01 -8.2632e-01 -5.8151e-02 -2.5750e-01  4.4857e-01  4.0384e-01\n",
      " -1.1733e-01  1.4784e-01  6.6101e-03  8.4383e-03 -2.1446e+00  6.7951e-01\n",
      "  5.3809e-01 -1.2685e+00  4.6647e-01 -2.1580e-01 -2.6000e-01  4.8045e-01\n",
      "  1.5936e+00  3.5440e-01  5.5309e-01 -2.1378e-01 -4.5077e-01  1.0012e-01\n",
      " -6.4268e-01 -1.7561e-01 -5.2707e-01  1.4106e-02  1.2758e-01  1.4129e-01\n",
      "  3.7355e-01 -5.2303e-01 -4.6713e-01  5.9398e-02 -6.2985e-01 -8.3210e-01\n",
      "  1.2946e-01  3.2248e-01  5.8118e-01  1.7626e-01 -5.4747e-01 -2.0161e-01\n",
      " -9.6995e-01  6.6639e-01 -1.0055e-01 -5.4013e-01  5.2729e-02 -1.7914e-02\n",
      " -1.9711e+00 -8.5187e-01 -1.9006e-01 -5.2529e-01 -1.0568e-01  1.2545e-01\n",
      " -9.3256e-01  3.5774e-01 -6.5002e-02  1.0674e+00 -9.5927e-02  3.2671e-01\n",
      " -4.4470e-01 -3.5060e-01 -8.5310e-01  8.7549e-02 -2.6845e-01  2.2611e-01\n",
      "  2.9939e-01 -5.2601e-01 -7.5880e-01  4.1862e-01  9.5256e-01 -4.4904e-01\n",
      " -4.8913e-01 -2.1861e-01 -3.4733e-01  8.3789e-01  1.8145e-03  9.0314e-01\n",
      " -1.6159e-01  2.2669e-01 -8.6379e-01 -3.8123e-01 -2.0347e-01  1.4767e-02\n",
      "  6.7269e-01 -1.5842e-01  4.5690e-01  5.6486e-03  4.6931e-01 -2.5023e-01\n",
      " -1.3882e+00  7.0029e-01 -1.1790e-01  2.2826e-01 -2.3032e-01 -4.1706e-01\n",
      "  3.3653e-01  3.9568e-01 -1.2517e+00  1.4483e-01 -6.4398e-01 -2.8710e-01\n",
      "  1.0902e+00 -2.1082e-01 -7.0340e-02 -1.1986e-01 -3.9298e-01 -4.8269e-01\n",
      "  4.4520e-01  5.2751e-01 -6.2780e-01 -5.5957e-01 -4.6408e-01  4.9589e-01\n",
      "  7.8418e-01 -7.2486e-01 -2.4514e-01 -6.4497e-02 -4.7620e-01  1.7295e-01\n",
      "  2.7641e-01  7.1682e-01  5.3857e-01  9.7251e-01 -1.9819e-01  9.6405e-01\n",
      " -1.4441e-01  5.1432e-01  4.7771e-01 -3.3451e-01 -8.1753e-01 -7.1163e-01\n",
      "  2.8736e-01  1.7670e-01  7.1527e-01  4.4281e-01  4.0553e-01  7.8601e-01\n",
      " -5.8641e-01 -8.7618e-01 -1.6950e-01  2.9488e-01  1.8762e-01 -5.7675e-01\n",
      " -3.8466e-01 -3.4457e-01  6.4723e-02 -8.1605e-01  4.3464e-01  5.7241e-01\n",
      "  4.1603e-01  3.2600e-01 -3.3866e-01  7.6582e-01  3.3626e-01 -3.4001e-01\n",
      " -5.8637e-01 -5.8397e-01 -3.6177e-01  2.4598e-02  2.0862e-01  4.1729e-01\n",
      "  4.5517e-01 -4.7567e-01 -1.1467e+00  2.8638e-01  3.5524e-01  2.0412e-01\n",
      " -4.1613e-01  1.9465e-01 -2.7807e-01  9.0487e-02 -6.0324e-01  3.8306e-01\n",
      " -5.9289e-02 -7.0204e-01  2.9220e-01 -4.4324e-01  7.5382e-01  4.5553e-01\n",
      " -3.1474e-01  8.3804e-01 -5.2832e-01  3.5680e-01  3.3092e-01 -3.1038e-01\n",
      "  1.4704e+00 -4.8903e-01  6.5960e-01 -2.0207e-03  4.9656e-02 -3.7253e-02\n",
      "  5.2728e-02  6.0863e-01 -7.3062e-01 -3.8444e-01 -1.4791e-01  2.6748e-01\n",
      " -1.3791e+00  4.2607e-01 -2.6558e-01  2.7503e-01  3.9767e-03  9.5103e-02\n",
      "  6.6312e-02  7.8321e-01 -1.7932e-01  2.5287e-01  1.8832e-01 -7.1536e-04\n",
      "  2.7546e-01  2.9059e-01  2.0279e-01  2.8708e-01 -5.5157e-02 -3.6165e-01\n",
      "  2.0051e-01 -2.4408e-01  6.8717e-01 -4.0951e-01  5.0861e-01 -8.9463e-02\n",
      " -3.2560e-01 -1.3441e+00 -9.1334e-02  8.9185e-01 -4.0592e-01 -1.2313e+00\n",
      "  9.7580e-01 -3.7043e-01 -1.0622e+00  4.5230e-01  2.4080e-01  3.3912e-01\n",
      "  1.5050e-01 -9.1723e-01 -7.4014e-01 -5.5036e-02  9.4585e-02  2.3180e-01\n",
      "  7.3272e-01 -7.1947e-01  4.7940e-01 -2.4427e-01]\n",
      "Protein2: [ 0.42638    0.57807    1.3114    -0.21147    1.9068     1.7241\n",
      "  1.4183    -0.66332    1.2668     0.50594    0.55549    0.029656\n",
      "  0.72722    0.82251    1.0827     1.3625     1.0719     0.7028\n",
      "  1.4953     1.1111    -0.34054   -0.16129    1.7926     0.79551\n",
      " -0.32765    1.612      1.4353     1.7646     1.7908     1.424\n",
      "  0.71925    0.94863    1.2129     2.6229     1.3149     2.0836\n",
      "  1.3735     2.1731     0.89896    0.74051   -0.21628    1.2628\n",
      "  1.4923     1.3102     0.3833     1.8531    -0.35133    0.877\n",
      "  0.34903    0.4529     1.9382     0.68683    1.7573     1.5762\n",
      "  1.5274     0.93587    0.20684    0.60842    1.1852     1.2431\n",
      " -0.40171    0.88445    0.57751    0.94773    0.78513    2.2806\n",
      " -0.54398   -0.49761    1.8285     1.3802     1.4942    -0.60279\n",
      " -0.4996     0.77034    1.6912     0.67432    0.80691    2.3013\n",
      "  0.48825    1.6399     0.31823    1.3076     1.4019    -0.17946\n",
      "  0.49814    0.28109    0.10613    2.5797    -0.29338    0.86044\n",
      "  0.63135    1.6752     1.5325     1.9955    -0.62814    0.42346\n",
      " -0.46547    0.045374   0.28963    0.75652   -0.68397    0.81033\n",
      "  1.2999     0.78312    1.764      2.2267     1.6725     2.2999\n",
      " -0.23494   -0.4927     2.0502     0.94321    0.59342    0.3066\n",
      "  0.27159   -0.76926    2.1892     1.3716     2.6043     1.5114\n",
      "  0.9241    -0.63197    1.676      1.9779     1.1224     0.93747\n",
      "  1.4565     0.70232    1.5189    -0.50852    0.99713    1.8642\n",
      " -0.29499    1.4946     1.8783    -0.0058079  2.1957     0.19515\n",
      "  1.7491    -0.30765    0.71836    0.061787  -0.25258    2.15\n",
      " -0.72016    0.89386    0.95399    1.4094     0.50642    0.89284\n",
      "  1.9678     1.4507     1.9298    -0.11864   -0.47456    1.0977\n",
      "  0.60396   -0.63329    2.1515     0.73944    1.4818     1.5526\n",
      "  0.323      0.77504    0.97347    1.1539     1.2112     1.1304\n",
      "  1.2694     0.6502     0.86093    2.6739    -0.76107   -0.59363\n",
      "  0.65536    2.766     -0.97873   -0.27153   -0.94513    1.4757\n",
      " -0.31677    0.81938   -0.62123    0.26102    0.48445    0.85337\n",
      "  1.8661     2.2938    -0.28289    0.61407   -0.87132    1.7946\n",
      "  1.2966    -0.87612    1.0004    -0.87178    1.4268     0.62597\n",
      "  0.82304    2.324      1.6936     0.81881    1.6081     1.7904\n",
      "  1.6924     0.46249    0.44394    2.1912     1.4144     0.33144\n",
      "  0.80845    0.22446    0.12943    1.3879     1.4037     2.6639\n",
      "  1.3276     0.80609    0.79012    0.75941   -0.63545    2.4522\n",
      "  2.0089     1.6094     1.8602    -0.64147    0.52405    1.7196\n",
      "  0.16257    1.5136    -0.33272    1.1137     1.4005    -0.56103\n",
      "  1.2071     1.1774     0.42968    0.96104    1.3998     1.9752\n",
      "  0.52534    0.75843    1.6678     1.4291    -0.63873    1.119\n",
      "  1.6546     2.0552     0.20307    1.7753     0.60955    1.6425\n",
      "  1.3648    -0.40061    2.0332     0.16652    1.5832     1.7624\n",
      "  2.22       0.469      2.3784     1.5541     0.81402    1.449\n",
      "  1.0907     0.7221     1.7145     0.46648    1.004      1.2713\n",
      "  1.6773     1.6607     0.35995    1.2695     0.8812     1.2038\n",
      " -0.41517    1.2954    -0.8414     1.5287     2.2967    -0.15711\n",
      "  1.6332     2.2613     0.81249   -0.043384   3.4022    -0.45553\n",
      "  2.6566     2.1842     1.6907     0.36884    0.037563   2.7056\n",
      "  1.0331     1.9899     1.128      0.054757   0.4444     2.7513\n",
      " -0.76767    2.4847     1.9185     1.1664     1.3959     1.7348\n",
      "  1.3193     1.2674    -0.64693   -0.73755   -0.50643    1.0003\n",
      "  0.61804    1.1117     2.5485     2.0559     0.92556  ]\n",
      "Protein3: [ 0.54715    0.61447   -0.32747   -0.19304    0.52045   -0.057335\n",
      " -0.36105    1.1894    -0.29346   -0.34943   -0.6679    -0.1589\n",
      "  0.056773  -0.53476    0.21092    0.69238   -0.2051    -0.29898\n",
      " -0.29854   -0.56692    0.44454    0.46072   -0.56599   -0.013525\n",
      "  0.0033786 -0.47404   -0.608     -0.75921   -0.75621   -0.39536\n",
      " -0.171     -0.49834    0.052518   0.049687  -0.099357   0.41605\n",
      " -0.24356   -0.43967   -0.61003   -0.25829    1.0881    -0.71996\n",
      " -0.93182   -0.59125    0.41699   -0.80187   -0.099624   0.019387\n",
      " -0.66242    0.040158  -0.77537    0.11919   -1.0062    -0.16109\n",
      " -0.40949    0.16477   -0.1611    -0.47403   -0.42349    0.065687\n",
      "  0.46685   -0.7972    -0.24856   -0.80776   -0.19762    0.0085752\n",
      "  0.7855     0.97681   -0.76904   -0.49803    0.11355    0.4777\n",
      "  0.65794    0.49368   -0.13349   -0.42303   -0.50917    0.011659\n",
      "  0.84111   -0.2833    -0.60475   -0.5879     0.1216    -0.20033\n",
      "  0.018525  -0.10642    1.1352    -1.2537     0.86771    0.076732\n",
      " -0.701     -0.038062  -0.56699   -0.14238    1.0226    -0.029197\n",
      "  0.47237   -0.20426    1.129     -0.56082    0.53815    0.51345\n",
      " -0.34325   -0.57445   -0.37019   -0.21146   -0.41615    0.11346\n",
      "  0.63831    0.31603   -0.34684   -0.22693   -0.50752   -0.59195\n",
      " -0.44871    0.5568    -1.1018    -0.86866   -0.68803    0.76722\n",
      " -0.027996   0.037134   1.7019    -0.0076154  0.43712   -0.62169\n",
      " -0.6803    -0.59921   -0.30706    0.51962   -0.58622   -0.28925\n",
      "  1.7691    -1.1074    -0.36688   -0.38088   -0.99356   -1.0247\n",
      " -0.54397    1.0716    -0.67598   -0.20638   -0.241      0.0079716\n",
      " -0.11163   -0.47077    0.32449   -0.3759    -0.54513   -0.6786\n",
      " -0.79079   -0.75842   -0.33124    0.070765   0.56728   -0.046476\n",
      "  0.066538   0.008736  -0.8536    -0.63177    0.31711   -0.16524\n",
      " -0.51376    0.29088   -0.29645    0.54174   -0.46326    0.16642\n",
      " -0.72681   -0.77196   -0.97186   -0.5358     0.73345   -0.10974\n",
      " -0.099103  -0.55681   -1.06       0.46708    0.74776    0.14378\n",
      "  0.47158   -0.43867   -0.54699   -0.2042     0.081055   0.24774\n",
      "  0.044083  -0.43862    0.95943    0.12651    0.8688    -0.14773\n",
      " -0.85677    1.298      0.13487   -0.58836   -0.36657   -0.28137\n",
      " -0.30715   -0.70744   -0.14401   -0.4063     0.38047   -1.0416\n",
      " -0.80076   -0.67873   -0.25075    0.39158   -0.93252   -0.25743\n",
      "  0.42229   -0.30652   -0.37038   -1.3071     0.2443     1.1956\n",
      "  0.081247  -1.6274    -0.46887    0.28149    1.3379     0.33389\n",
      " -1.1825    -0.51944   -1.0771     1.6575    -0.15717    0.43951\n",
      " -0.1772     1.0619    -0.13087    0.31335    0.024751   1.2385\n",
      " -0.81206   -0.57456   -0.58866    0.27563    0.31883   -0.013443\n",
      " -0.84544    0.43992    0.39339   -0.57895    2.1934    -0.60583\n",
      "  0.57301    0.047034   0.54404   -0.093631  -0.39889   -0.33285\n",
      " -0.53881    0.75532   -0.63166    0.11926   -0.46708    0.17624\n",
      " -0.55634    0.13554   -0.46709   -0.82864   -0.33155   -0.021928\n",
      " -0.42381   -0.30865    0.1497    -0.49494   -0.63857    0.20931\n",
      " -0.17536   -0.15662   -0.34561    0.38083   -0.51371   -0.4135\n",
      " -0.19489    0.25121    1.507     -0.16313    0.53244   -0.55984\n",
      "  0.13265   -0.0068398  1.0691     0.77504   -0.3285     0.16324\n",
      "  0.30769   -0.65602   -0.12854    0.78343    0.2178    -0.33393\n",
      " -0.47793   -0.038147  -0.22935    0.034648   0.1102    -0.59542\n",
      "  0.8616    -0.51332   -0.79608   -0.65565   -0.23084    0.33109\n",
      "  0.5874     0.64265    0.55259    0.72032    0.88778   -0.22575\n",
      " -0.55779   -0.26952   -0.15024   -0.53136   -0.41823  ]\n",
      "Protein4: [ 2.7368e-01 -3.1505e-02 -2.3426e-01  1.2427e-01 -3.1199e-01  4.3025e-02\n",
      "  3.9158e-01  2.1718e-01  1.9395e-01 -8.3530e-01 -3.5070e-01  6.7471e-01\n",
      " -1.2441e+00  2.6527e-01  9.7428e-01  4.1002e-01  6.3315e-01  6.0103e-01\n",
      "  6.5925e-01  1.2237e+00  7.5328e-01 -3.9666e-01 -1.7206e-02  1.6299e+00\n",
      "  1.1658e+00 -4.4448e-02  9.7527e-01  7.3977e-01  1.1848e+00  5.4672e-01\n",
      "  9.7173e-01 -2.4126e-02 -3.9369e-02  7.5441e-01 -8.0791e-01  1.8804e-01\n",
      " -3.9255e-01  5.3418e-01 -2.1336e-01  1.5429e-01 -1.1641e+00 -2.3158e-02\n",
      "  8.6514e-02 -8.8218e-02 -7.9413e-01  7.5834e-01  8.6336e-01  1.8528e-01\n",
      " -3.8479e-01 -2.6366e-01  6.1420e-01 -6.1740e-02 -2.5533e-01  9.7756e-04\n",
      " -5.3322e-01  3.7403e-01  6.1717e-01  4.1594e-01 -3.6482e-01  1.0478e+00\n",
      "  3.2147e-01  0.0000e+00  2.0922e-01  3.5245e-01 -5.3801e-01  6.2199e-01\n",
      "  6.2447e-01 -2.7651e-01 -5.0732e-01  7.6128e-01  9.4660e-01 -7.1785e-01\n",
      "  3.7432e-01 -1.8214e-01  1.6753e-01 -3.4585e-02  6.0686e-01  6.1645e-01\n",
      " -2.9739e-01 -9.6489e-01  1.4610e-01 -2.0255e+00 -1.4888e+00  2.8502e-01\n",
      "  2.3963e-01 -3.9492e-01  1.5154e-01 -2.4204e-01  1.8670e-01 -1.6203e-01\n",
      "  9.4426e-01  4.7109e-01 -1.0684e+00  2.0244e-01  1.8192e-01 -5.2387e-01\n",
      "  6.5811e-01 -3.8224e-01 -5.0269e-01  7.1897e-01 -1.0298e-01 -1.7684e+00\n",
      " -9.6343e-01  1.0815e-02 -2.4328e-01  3.0143e-01 -1.0368e+00  3.0815e-02\n",
      " -5.6382e-01 -1.1485e+00  3.6686e-01  4.0061e-01 -3.7415e-01  3.2081e-01\n",
      " -7.2015e-01 -8.3145e-01  4.0511e-02  3.1524e-03  1.8569e-01  2.6999e-01\n",
      " -4.6685e-01 -7.8298e-02  3.5325e-02  6.2410e-01  1.8637e-01 -1.0378e-02\n",
      " -1.8993e+00  4.3625e-01  7.7911e-01  4.8622e-01 -3.5304e-01  7.7087e-01\n",
      " -2.5249e-01  4.6539e-01 -8.0618e-01 -3.7807e-01  1.0172e-01 -3.9021e-01\n",
      " -1.7950e-01 -8.3526e-01 -1.2409e+00 -2.0763e-01 -4.8340e-02 -3.4973e-02\n",
      " -2.0582e-01 -7.9983e-01 -4.4680e-02  3.1490e-01 -1.7833e-01  9.6265e-01\n",
      "  7.3220e-01 -5.9541e-01  7.5067e-01 -3.0694e-01 -4.5144e-02 -8.5405e-01\n",
      "  5.5564e-01  5.4333e-01 -6.0096e-02  3.2139e-01 -2.7599e-01 -8.1081e-01\n",
      " -9.2427e-01  1.0551e-01  7.4579e-01 -5.4502e-01  1.1841e+00 -8.2771e-01\n",
      "  4.1034e-01 -6.0620e-02 -1.1071e+00  8.2384e-01 -1.6028e+00 -9.3850e-01\n",
      " -4.7586e-01 -8.4252e-01 -1.2196e+00 -6.7553e-01  6.4097e-01  3.4744e-01\n",
      " -7.8963e-03  3.9106e-01 -1.3053e+00  6.0983e-01 -5.4734e-01  2.4241e-01\n",
      " -4.7829e-02  3.5090e-01  3.9114e-01  3.1662e-01 -3.0778e-01 -2.3695e-01\n",
      " -6.8664e-01 -6.1786e-01 -9.5198e-01 -1.0782e-01 -4.7774e-01 -1.4975e-01\n",
      "  7.1895e-01  1.0249e+00 -6.5479e-01  1.2195e-01  3.8522e-02  7.9440e-01\n",
      "  4.9462e-01 -3.7407e-01  9.5198e-01  1.2166e-01 -6.5476e-01 -1.4382e-01\n",
      " -1.5965e+00  1.3219e-01 -1.2597e+00 -3.9588e-01  1.8640e-01 -3.9916e-01\n",
      " -5.1291e-01 -4.5557e-01 -1.7127e+00 -4.2646e-01  6.2901e-01  2.9032e-01\n",
      "  9.4267e-01  3.3664e-01 -4.2082e-01  1.4390e-01 -3.4219e-01  4.1255e-01\n",
      "  1.0124e-01 -1.2391e+00 -5.7385e-01  2.8032e-01  9.6681e-01  9.3551e-01\n",
      "  3.6635e-01  6.4553e-01  2.4595e-01  8.3605e-01  5.5076e-01 -7.0565e-01\n",
      "  2.0187e-01  7.0333e-01  2.2264e-01 -8.3843e-01 -5.8394e-01  3.4822e-01\n",
      " -2.1004e-01 -2.3870e-02  5.6704e-01  3.3211e-01  8.5786e-01  1.4426e-01\n",
      "  9.2249e-02  5.6565e-01 -4.3346e-01  1.0386e+00  7.8927e-01  5.2372e-01\n",
      " -2.8984e-01  9.7310e-02  2.7855e-01 -6.2663e-02  4.2886e-01 -3.0536e-01\n",
      " -5.3129e-01 -2.7394e-01 -2.1706e-01 -5.4466e-01 -4.7290e-01  4.6565e-01\n",
      " -4.1103e-01 -8.0137e-02 -7.2174e-03 -2.3585e-02  5.2908e-01  4.6527e-02\n",
      " -3.1091e-01  8.1629e-01  8.3222e-01  4.6291e-02 -5.9975e-01 -1.4516e+00\n",
      "  5.6781e-01 -1.4857e-01  6.2011e-01  2.1619e-01 -7.3511e-01  2.0382e-01\n",
      "  8.1131e-01 -1.3402e+00  9.4318e-01 -4.4665e-02  3.8805e-01 -2.5303e-01\n",
      "  2.5251e-01 -2.2993e-01 -5.8883e-01  1.5685e-01  8.1639e-01  2.3905e-01\n",
      "  6.6698e-01 -6.2903e-02 -9.2381e-02  7.9631e-01  1.0441e+00  3.5192e-01\n",
      "  2.6142e-01  4.5874e-01  7.2182e-01 -8.9424e-02  4.8602e-02 -5.1735e-01\n",
      " -3.5492e-01  3.3968e-01 -1.8848e-01 -6.7848e-02]\n",
      "Tumour_Stage: [3 2 1]\n",
      "Histology: [1 3 2]\n",
      "ER status: [1]\n",
      "PR status: [1]\n",
      "HER2 status: [2 1]\n",
      "Surgery_type: [2 3 1 4]\n",
      "Patient_Status: [1 2]\n"
     ]
    }
   ],
   "source": [
    "print_unique(df3)"
   ]
  },
  {
   "cell_type": "code",
   "execution_count": 38,
   "metadata": {},
   "outputs": [
    {
     "data": {
      "text/html": [
       "<div>\n",
       "<style scoped>\n",
       "    .dataframe tbody tr th:only-of-type {\n",
       "        vertical-align: middle;\n",
       "    }\n",
       "\n",
       "    .dataframe tbody tr th {\n",
       "        vertical-align: top;\n",
       "    }\n",
       "\n",
       "    .dataframe thead th {\n",
       "        text-align: right;\n",
       "    }\n",
       "</style>\n",
       "<table border=\"1\" class=\"dataframe\">\n",
       "  <thead>\n",
       "    <tr style=\"text-align: right;\">\n",
       "      <th></th>\n",
       "      <th>Age</th>\n",
       "      <th>Gender</th>\n",
       "      <th>Protein1</th>\n",
       "      <th>Protein2</th>\n",
       "      <th>Protein3</th>\n",
       "      <th>Protein4</th>\n",
       "      <th>Tumour_Stage</th>\n",
       "      <th>Histology</th>\n",
       "      <th>ER status</th>\n",
       "      <th>PR status</th>\n",
       "      <th>HER2 status</th>\n",
       "      <th>Surgery_type</th>\n",
       "      <th>Patient_Status</th>\n",
       "    </tr>\n",
       "  </thead>\n",
       "  <tbody>\n",
       "    <tr>\n",
       "      <th>count</th>\n",
       "      <td>317.000000</td>\n",
       "      <td>317.000000</td>\n",
       "      <td>317.000000</td>\n",
       "      <td>317.000000</td>\n",
       "      <td>317.000000</td>\n",
       "      <td>317.000000</td>\n",
       "      <td>317.000000</td>\n",
       "      <td>317.000000</td>\n",
       "      <td>317.0</td>\n",
       "      <td>317.0</td>\n",
       "      <td>317.000000</td>\n",
       "      <td>317.000000</td>\n",
       "      <td>317.000000</td>\n",
       "    </tr>\n",
       "    <tr>\n",
       "      <th>mean</th>\n",
       "      <td>58.725552</td>\n",
       "      <td>0.987382</td>\n",
       "      <td>-0.027232</td>\n",
       "      <td>0.949557</td>\n",
       "      <td>-0.095104</td>\n",
       "      <td>0.006713</td>\n",
       "      <td>2.053628</td>\n",
       "      <td>1.331230</td>\n",
       "      <td>1.0</td>\n",
       "      <td>1.0</td>\n",
       "      <td>1.908517</td>\n",
       "      <td>2.312303</td>\n",
       "      <td>1.195584</td>\n",
       "    </tr>\n",
       "    <tr>\n",
       "      <th>std</th>\n",
       "      <td>12.827374</td>\n",
       "      <td>0.111797</td>\n",
       "      <td>0.543858</td>\n",
       "      <td>0.906153</td>\n",
       "      <td>0.589027</td>\n",
       "      <td>0.625965</td>\n",
       "      <td>0.656246</td>\n",
       "      <td>0.546047</td>\n",
       "      <td>0.0</td>\n",
       "      <td>0.0</td>\n",
       "      <td>0.288750</td>\n",
       "      <td>1.113897</td>\n",
       "      <td>0.397276</td>\n",
       "    </tr>\n",
       "    <tr>\n",
       "      <th>min</th>\n",
       "      <td>29.000000</td>\n",
       "      <td>0.000000</td>\n",
       "      <td>-2.144600</td>\n",
       "      <td>-0.978730</td>\n",
       "      <td>-1.627400</td>\n",
       "      <td>-2.025500</td>\n",
       "      <td>1.000000</td>\n",
       "      <td>1.000000</td>\n",
       "      <td>1.0</td>\n",
       "      <td>1.0</td>\n",
       "      <td>1.000000</td>\n",
       "      <td>1.000000</td>\n",
       "      <td>1.000000</td>\n",
       "    </tr>\n",
       "    <tr>\n",
       "      <th>25%</th>\n",
       "      <td>49.000000</td>\n",
       "      <td>1.000000</td>\n",
       "      <td>-0.350600</td>\n",
       "      <td>0.368840</td>\n",
       "      <td>-0.531360</td>\n",
       "      <td>-0.382240</td>\n",
       "      <td>2.000000</td>\n",
       "      <td>1.000000</td>\n",
       "      <td>1.0</td>\n",
       "      <td>1.0</td>\n",
       "      <td>2.000000</td>\n",
       "      <td>1.000000</td>\n",
       "      <td>1.000000</td>\n",
       "    </tr>\n",
       "    <tr>\n",
       "      <th>50%</th>\n",
       "      <td>58.000000</td>\n",
       "      <td>1.000000</td>\n",
       "      <td>0.005649</td>\n",
       "      <td>0.997130</td>\n",
       "      <td>-0.193040</td>\n",
       "      <td>0.038522</td>\n",
       "      <td>2.000000</td>\n",
       "      <td>1.000000</td>\n",
       "      <td>1.0</td>\n",
       "      <td>1.0</td>\n",
       "      <td>2.000000</td>\n",
       "      <td>2.000000</td>\n",
       "      <td>1.000000</td>\n",
       "    </tr>\n",
       "    <tr>\n",
       "      <th>75%</th>\n",
       "      <td>67.000000</td>\n",
       "      <td>1.000000</td>\n",
       "      <td>0.336260</td>\n",
       "      <td>1.612000</td>\n",
       "      <td>0.251210</td>\n",
       "      <td>0.436250</td>\n",
       "      <td>2.000000</td>\n",
       "      <td>2.000000</td>\n",
       "      <td>1.0</td>\n",
       "      <td>1.0</td>\n",
       "      <td>2.000000</td>\n",
       "      <td>3.000000</td>\n",
       "      <td>1.000000</td>\n",
       "    </tr>\n",
       "    <tr>\n",
       "      <th>max</th>\n",
       "      <td>90.000000</td>\n",
       "      <td>1.000000</td>\n",
       "      <td>1.593600</td>\n",
       "      <td>3.402200</td>\n",
       "      <td>2.193400</td>\n",
       "      <td>1.629900</td>\n",
       "      <td>3.000000</td>\n",
       "      <td>3.000000</td>\n",
       "      <td>1.0</td>\n",
       "      <td>1.0</td>\n",
       "      <td>2.000000</td>\n",
       "      <td>4.000000</td>\n",
       "      <td>2.000000</td>\n",
       "    </tr>\n",
       "  </tbody>\n",
       "</table>\n",
       "</div>"
      ],
      "text/plain": [
       "              Age      Gender    Protein1    Protein2    Protein3    Protein4  \\\n",
       "count  317.000000  317.000000  317.000000  317.000000  317.000000  317.000000   \n",
       "mean    58.725552    0.987382   -0.027232    0.949557   -0.095104    0.006713   \n",
       "std     12.827374    0.111797    0.543858    0.906153    0.589027    0.625965   \n",
       "min     29.000000    0.000000   -2.144600   -0.978730   -1.627400   -2.025500   \n",
       "25%     49.000000    1.000000   -0.350600    0.368840   -0.531360   -0.382240   \n",
       "50%     58.000000    1.000000    0.005649    0.997130   -0.193040    0.038522   \n",
       "75%     67.000000    1.000000    0.336260    1.612000    0.251210    0.436250   \n",
       "max     90.000000    1.000000    1.593600    3.402200    2.193400    1.629900   \n",
       "\n",
       "       Tumour_Stage   Histology  ER status  PR status  HER2 status  \\\n",
       "count    317.000000  317.000000      317.0      317.0   317.000000   \n",
       "mean       2.053628    1.331230        1.0        1.0     1.908517   \n",
       "std        0.656246    0.546047        0.0        0.0     0.288750   \n",
       "min        1.000000    1.000000        1.0        1.0     1.000000   \n",
       "25%        2.000000    1.000000        1.0        1.0     2.000000   \n",
       "50%        2.000000    1.000000        1.0        1.0     2.000000   \n",
       "75%        2.000000    2.000000        1.0        1.0     2.000000   \n",
       "max        3.000000    3.000000        1.0        1.0     2.000000   \n",
       "\n",
       "       Surgery_type  Patient_Status  \n",
       "count    317.000000      317.000000  \n",
       "mean       2.312303        1.195584  \n",
       "std        1.113897        0.397276  \n",
       "min        1.000000        1.000000  \n",
       "25%        1.000000        1.000000  \n",
       "50%        2.000000        1.000000  \n",
       "75%        3.000000        1.000000  \n",
       "max        4.000000        2.000000  "
      ]
     },
     "execution_count": 38,
     "metadata": {},
     "output_type": "execute_result"
    }
   ],
   "source": [
    "df3.describe()"
   ]
  },
  {
   "cell_type": "markdown",
   "metadata": {},
   "source": [
    "define X and y"
   ]
  },
  {
   "cell_type": "code",
   "execution_count": 81,
   "metadata": {},
   "outputs": [],
   "source": [
    "X = np.array(df3.drop(\"Patient_Status\", axis= 1))\n",
    "y = np.array(df3.Patient_Status)"
   ]
  },
  {
   "cell_type": "code",
   "execution_count": 82,
   "metadata": {},
   "outputs": [],
   "source": [
    "from sklearn.model_selection import train_test_split\n",
    "X_train, X_test, y_train, y_test = train_test_split(X, y, test_size= 0.2, random_state= 10)"
   ]
  },
  {
   "cell_type": "code",
   "execution_count": 84,
   "metadata": {},
   "outputs": [
    {
     "data": {
      "text/plain": [
       "array([[ 6.0000e+01,  1.0000e+00,  9.4585e-02,  1.0003e+00, -2.2575e-01,\n",
       "         4.8602e-02,  3.0000e+00,  1.0000e+00,  1.0000e+00,  1.0000e+00,\n",
       "         2.0000e+00,  4.0000e+00],\n",
       "       [ 6.4000e+01,  1.0000e+00, -2.4408e-01,  1.6907e+00, -1.2854e-01,\n",
       "        -1.3402e+00,  2.0000e+00,  2.0000e+00,  1.0000e+00,  1.0000e+00,\n",
       "         2.0000e+00,  2.0000e+00],\n",
       "       [ 4.5000e+01,  1.0000e+00, -7.1163e-01,  1.6924e+00, -8.0076e-01,\n",
       "         7.9440e-01,  2.0000e+00,  1.0000e+00,  1.0000e+00,  1.0000e+00,\n",
       "         2.0000e+00,  4.0000e+00],\n",
       "       [ 5.0000e+01,  1.0000e+00,  3.3653e-01,  6.5020e-01, -7.7196e-01,\n",
       "         4.1034e-01,  3.0000e+00,  1.0000e+00,  1.0000e+00,  1.0000e+00,\n",
       "         2.0000e+00,  1.0000e+00],\n",
       "       [ 7.4000e+01,  1.0000e+00, -3.1640e-02,  2.2806e+00,  8.5752e-03,\n",
       "        -5.3801e-01,  1.0000e+00,  1.0000e+00,  1.0000e+00,  1.0000e+00,\n",
       "         2.0000e+00,  3.0000e+00]])"
      ]
     },
     "execution_count": 84,
     "metadata": {},
     "output_type": "execute_result"
    }
   ],
   "source": [
    "X_test[:5]"
   ]
  },
  {
   "cell_type": "code",
   "execution_count": 85,
   "metadata": {},
   "outputs": [
    {
     "data": {
      "text/plain": [
       "array([2, 1, 1, 2, 1], dtype=int64)"
      ]
     },
     "execution_count": 85,
     "metadata": {},
     "output_type": "execute_result"
    }
   ],
   "source": [
    "y_test[:5]"
   ]
  },
  {
   "cell_type": "code",
   "execution_count": 86,
   "metadata": {},
   "outputs": [],
   "source": [
    "import warnings\n",
    "warnings.filterwarnings(\"ignore\")"
   ]
  },
  {
   "cell_type": "code",
   "execution_count": 87,
   "metadata": {},
   "outputs": [
    {
     "name": "stderr",
     "output_type": "stream",
     "text": [
      "Intel(R) Extension for Scikit-learn* enabled (https://github.com/intel/scikit-learn-intelex)\n"
     ]
    }
   ],
   "source": [
    "import numpy as np\n",
    "from sklearnex import patch_sklearn\n",
    "patch_sklearn()\n",
    "from sklearn.model_selection import GridSearchCV\n",
    "from sklearn.linear_model import Lasso\n",
    "from sklearn.tree import DecisionTreeRegressor\n",
    "from xgboost import XGBClassifier\n",
    "from sklearn.linear_model import LogisticRegression\n",
    "from sklearn.ensemble import RandomForestClassifier\n",
    "from sklearn.linear_model import LinearRegression\n",
    "from sklearn.model_selection import ShuffleSplit\n"
   ]
  },
  {
   "cell_type": "code",
   "execution_count": 88,
   "metadata": {},
   "outputs": [],
   "source": [
    "def find_best_model_using_gridsearchcv(X_train, y_train):\n",
    "    algos = {\n",
    "    'linear_regression': {\n",
    "        'model': LinearRegression(),\n",
    "        'params': {\n",
    "            'normalize': [True, False]\n",
    "        }\n",
    "    },\n",
    "    'lasso': {\n",
    "        'model': Lasso(),\n",
    "        'params':{\n",
    "            'alpha': [1,2],\n",
    "            'selection': ['random', 'cyclic']\n",
    "        }\n",
    "    },\n",
    "    'decision_tree': {\n",
    "        'model': DecisionTreeRegressor(),\n",
    "        'params': {\n",
    "            'criterion': ['mse', 'friedman_mse'],\n",
    "            'splitter': ['best', 'random']\n",
    "            }\n",
    "        },\n",
    "    'XGBoost': {\n",
    "          'model': XGBClassifier(),\n",
    "          'params': {\n",
    "              'min_child_weight': [1, 5, 10],\n",
    "              'gamma': [0.5, 1],\n",
    "              'subsample': [0.6, 0.8, 1.0],\n",
    "              'max_depth': [3, 5]\n",
    "            }\n",
    "       },\n",
    "       'LogisticRegression' : {\n",
    "           'model' : LogisticRegression(),\n",
    "           'params': {\n",
    "               'penalty' : ['l1', 'l2'],\n",
    "               'C' : np.logspace(-4, 4, 20),\n",
    "               'solver' : ['newton-cg', 'lbfgs', 'liblinear', 'sag', 'saga']\n",
    "           }\n",
    "       },\n",
    "       'RandomForestClassifier' : {\n",
    "           'model' : RandomForestClassifier(),\n",
    "           'params' : {\n",
    "               'n_estimators' : list(range(10,101,10)),\n",
    "               'max_features' : ['auto', 'sqrt', 'log2']\n",
    "           }\n",
    "       }\n",
    "\n",
    "    }\n",
    "\n",
    "\n",
    "    scores = []\n",
    "    cv = ShuffleSplit(n_splits= 5, test_size= 0.2, random_state= 0)\n",
    "    # for loop\n",
    "    for algo_name, config in algos.items():\n",
    "        gs = GridSearchCV(config['model'], config['params'], cv= cv, return_train_score= False)\n",
    "        gs.fit(X_train, y_train)\n",
    "        scores.append({\n",
    "            'model': algo_name,\n",
    "            'best_score': gs.best_score_,\n",
    "            'best_params': gs.best_params_\n",
    "        })\n",
    "    return pd.DataFrame(scores, columns= ['model', 'best_score', 'best_params'])"
   ]
  },
  {
   "cell_type": "code",
   "execution_count": 89,
   "metadata": {},
   "outputs": [
    {
     "name": "stdout",
     "output_type": "stream",
     "text": [
      "[16:13:17] WARNING: C:\\Windows\\Temp\\abs_557yfx631l\\croots\\recipe\\xgboost-split_1659548953302\\work\\src\\learner.cc:1115: Starting in XGBoost 1.3.0, the default evaluation metric used with the objective 'binary:logistic' was changed from 'error' to 'logloss'. Explicitly set eval_metric if you'd like to restore the old behavior.\n",
      "[16:13:17] WARNING: C:\\Windows\\Temp\\abs_557yfx631l\\croots\\recipe\\xgboost-split_1659548953302\\work\\src\\learner.cc:1115: Starting in XGBoost 1.3.0, the default evaluation metric used with the objective 'binary:logistic' was changed from 'error' to 'logloss'. Explicitly set eval_metric if you'd like to restore the old behavior.\n",
      "[16:13:17] WARNING: C:\\Windows\\Temp\\abs_557yfx631l\\croots\\recipe\\xgboost-split_1659548953302\\work\\src\\learner.cc:1115: Starting in XGBoost 1.3.0, the default evaluation metric used with the objective 'binary:logistic' was changed from 'error' to 'logloss'. Explicitly set eval_metric if you'd like to restore the old behavior.\n",
      "[16:13:17] WARNING: C:\\Windows\\Temp\\abs_557yfx631l\\croots\\recipe\\xgboost-split_1659548953302\\work\\src\\learner.cc:1115: Starting in XGBoost 1.3.0, the default evaluation metric used with the objective 'binary:logistic' was changed from 'error' to 'logloss'. Explicitly set eval_metric if you'd like to restore the old behavior.\n",
      "[16:13:18] WARNING: C:\\Windows\\Temp\\abs_557yfx631l\\croots\\recipe\\xgboost-split_1659548953302\\work\\src\\learner.cc:1115: Starting in XGBoost 1.3.0, the default evaluation metric used with the objective 'binary:logistic' was changed from 'error' to 'logloss'. Explicitly set eval_metric if you'd like to restore the old behavior.\n",
      "[16:13:18] WARNING: C:\\Windows\\Temp\\abs_557yfx631l\\croots\\recipe\\xgboost-split_1659548953302\\work\\src\\learner.cc:1115: Starting in XGBoost 1.3.0, the default evaluation metric used with the objective 'binary:logistic' was changed from 'error' to 'logloss'. Explicitly set eval_metric if you'd like to restore the old behavior.\n",
      "[16:13:18] WARNING: C:\\Windows\\Temp\\abs_557yfx631l\\croots\\recipe\\xgboost-split_1659548953302\\work\\src\\learner.cc:1115: Starting in XGBoost 1.3.0, the default evaluation metric used with the objective 'binary:logistic' was changed from 'error' to 'logloss'. Explicitly set eval_metric if you'd like to restore the old behavior.\n",
      "[16:13:18] WARNING: C:\\Windows\\Temp\\abs_557yfx631l\\croots\\recipe\\xgboost-split_1659548953302\\work\\src\\learner.cc:1115: Starting in XGBoost 1.3.0, the default evaluation metric used with the objective 'binary:logistic' was changed from 'error' to 'logloss'. Explicitly set eval_metric if you'd like to restore the old behavior.\n",
      "[16:13:18] WARNING: C:\\Windows\\Temp\\abs_557yfx631l\\croots\\recipe\\xgboost-split_1659548953302\\work\\src\\learner.cc:1115: Starting in XGBoost 1.3.0, the default evaluation metric used with the objective 'binary:logistic' was changed from 'error' to 'logloss'. Explicitly set eval_metric if you'd like to restore the old behavior.\n",
      "[16:13:18] WARNING: C:\\Windows\\Temp\\abs_557yfx631l\\croots\\recipe\\xgboost-split_1659548953302\\work\\src\\learner.cc:1115: Starting in XGBoost 1.3.0, the default evaluation metric used with the objective 'binary:logistic' was changed from 'error' to 'logloss'. Explicitly set eval_metric if you'd like to restore the old behavior.\n",
      "[16:13:18] WARNING: C:\\Windows\\Temp\\abs_557yfx631l\\croots\\recipe\\xgboost-split_1659548953302\\work\\src\\learner.cc:1115: Starting in XGBoost 1.3.0, the default evaluation metric used with the objective 'binary:logistic' was changed from 'error' to 'logloss'. Explicitly set eval_metric if you'd like to restore the old behavior.\n",
      "[16:13:19] WARNING: C:\\Windows\\Temp\\abs_557yfx631l\\croots\\recipe\\xgboost-split_1659548953302\\work\\src\\learner.cc:1115: Starting in XGBoost 1.3.0, the default evaluation metric used with the objective 'binary:logistic' was changed from 'error' to 'logloss'. Explicitly set eval_metric if you'd like to restore the old behavior.\n",
      "[16:13:19] WARNING: C:\\Windows\\Temp\\abs_557yfx631l\\croots\\recipe\\xgboost-split_1659548953302\\work\\src\\learner.cc:1115: Starting in XGBoost 1.3.0, the default evaluation metric used with the objective 'binary:logistic' was changed from 'error' to 'logloss'. Explicitly set eval_metric if you'd like to restore the old behavior.\n",
      "[16:13:19] WARNING: C:\\Windows\\Temp\\abs_557yfx631l\\croots\\recipe\\xgboost-split_1659548953302\\work\\src\\learner.cc:1115: Starting in XGBoost 1.3.0, the default evaluation metric used with the objective 'binary:logistic' was changed from 'error' to 'logloss'. Explicitly set eval_metric if you'd like to restore the old behavior.\n",
      "[16:13:19] WARNING: C:\\Windows\\Temp\\abs_557yfx631l\\croots\\recipe\\xgboost-split_1659548953302\\work\\src\\learner.cc:1115: Starting in XGBoost 1.3.0, the default evaluation metric used with the objective 'binary:logistic' was changed from 'error' to 'logloss'. Explicitly set eval_metric if you'd like to restore the old behavior.\n",
      "[16:13:19] WARNING: C:\\Windows\\Temp\\abs_557yfx631l\\croots\\recipe\\xgboost-split_1659548953302\\work\\src\\learner.cc:1115: Starting in XGBoost 1.3.0, the default evaluation metric used with the objective 'binary:logistic' was changed from 'error' to 'logloss'. Explicitly set eval_metric if you'd like to restore the old behavior.\n",
      "[16:13:19] WARNING: C:\\Windows\\Temp\\abs_557yfx631l\\croots\\recipe\\xgboost-split_1659548953302\\work\\src\\learner.cc:1115: Starting in XGBoost 1.3.0, the default evaluation metric used with the objective 'binary:logistic' was changed from 'error' to 'logloss'. Explicitly set eval_metric if you'd like to restore the old behavior.\n",
      "[16:13:19] WARNING: C:\\Windows\\Temp\\abs_557yfx631l\\croots\\recipe\\xgboost-split_1659548953302\\work\\src\\learner.cc:1115: Starting in XGBoost 1.3.0, the default evaluation metric used with the objective 'binary:logistic' was changed from 'error' to 'logloss'. Explicitly set eval_metric if you'd like to restore the old behavior.\n",
      "[16:13:19] WARNING: C:\\Windows\\Temp\\abs_557yfx631l\\croots\\recipe\\xgboost-split_1659548953302\\work\\src\\learner.cc:1115: Starting in XGBoost 1.3.0, the default evaluation metric used with the objective 'binary:logistic' was changed from 'error' to 'logloss'. Explicitly set eval_metric if you'd like to restore the old behavior.\n",
      "[16:13:19] WARNING: C:\\Windows\\Temp\\abs_557yfx631l\\croots\\recipe\\xgboost-split_1659548953302\\work\\src\\learner.cc:1115: Starting in XGBoost 1.3.0, the default evaluation metric used with the objective 'binary:logistic' was changed from 'error' to 'logloss'. Explicitly set eval_metric if you'd like to restore the old behavior.\n",
      "[16:13:20] WARNING: C:\\Windows\\Temp\\abs_557yfx631l\\croots\\recipe\\xgboost-split_1659548953302\\work\\src\\learner.cc:1115: Starting in XGBoost 1.3.0, the default evaluation metric used with the objective 'binary:logistic' was changed from 'error' to 'logloss'. Explicitly set eval_metric if you'd like to restore the old behavior.\n",
      "[16:13:20] WARNING: C:\\Windows\\Temp\\abs_557yfx631l\\croots\\recipe\\xgboost-split_1659548953302\\work\\src\\learner.cc:1115: Starting in XGBoost 1.3.0, the default evaluation metric used with the objective 'binary:logistic' was changed from 'error' to 'logloss'. Explicitly set eval_metric if you'd like to restore the old behavior.\n",
      "[16:13:20] WARNING: C:\\Windows\\Temp\\abs_557yfx631l\\croots\\recipe\\xgboost-split_1659548953302\\work\\src\\learner.cc:1115: Starting in XGBoost 1.3.0, the default evaluation metric used with the objective 'binary:logistic' was changed from 'error' to 'logloss'. Explicitly set eval_metric if you'd like to restore the old behavior.\n",
      "[16:13:20] WARNING: C:\\Windows\\Temp\\abs_557yfx631l\\croots\\recipe\\xgboost-split_1659548953302\\work\\src\\learner.cc:1115: Starting in XGBoost 1.3.0, the default evaluation metric used with the objective 'binary:logistic' was changed from 'error' to 'logloss'. Explicitly set eval_metric if you'd like to restore the old behavior.\n",
      "[16:13:20] WARNING: C:\\Windows\\Temp\\abs_557yfx631l\\croots\\recipe\\xgboost-split_1659548953302\\work\\src\\learner.cc:1115: Starting in XGBoost 1.3.0, the default evaluation metric used with the objective 'binary:logistic' was changed from 'error' to 'logloss'. Explicitly set eval_metric if you'd like to restore the old behavior.\n",
      "[16:13:20] WARNING: C:\\Windows\\Temp\\abs_557yfx631l\\croots\\recipe\\xgboost-split_1659548953302\\work\\src\\learner.cc:1115: Starting in XGBoost 1.3.0, the default evaluation metric used with the objective 'binary:logistic' was changed from 'error' to 'logloss'. Explicitly set eval_metric if you'd like to restore the old behavior.\n",
      "[16:13:21] WARNING: C:\\Windows\\Temp\\abs_557yfx631l\\croots\\recipe\\xgboost-split_1659548953302\\work\\src\\learner.cc:1115: Starting in XGBoost 1.3.0, the default evaluation metric used with the objective 'binary:logistic' was changed from 'error' to 'logloss'. Explicitly set eval_metric if you'd like to restore the old behavior.\n",
      "[16:13:21] WARNING: C:\\Windows\\Temp\\abs_557yfx631l\\croots\\recipe\\xgboost-split_1659548953302\\work\\src\\learner.cc:1115: Starting in XGBoost 1.3.0, the default evaluation metric used with the objective 'binary:logistic' was changed from 'error' to 'logloss'. Explicitly set eval_metric if you'd like to restore the old behavior.\n",
      "[16:13:21] WARNING: C:\\Windows\\Temp\\abs_557yfx631l\\croots\\recipe\\xgboost-split_1659548953302\\work\\src\\learner.cc:1115: Starting in XGBoost 1.3.0, the default evaluation metric used with the objective 'binary:logistic' was changed from 'error' to 'logloss'. Explicitly set eval_metric if you'd like to restore the old behavior.\n",
      "[16:13:21] WARNING: C:\\Windows\\Temp\\abs_557yfx631l\\croots\\recipe\\xgboost-split_1659548953302\\work\\src\\learner.cc:1115: Starting in XGBoost 1.3.0, the default evaluation metric used with the objective 'binary:logistic' was changed from 'error' to 'logloss'. Explicitly set eval_metric if you'd like to restore the old behavior.\n",
      "[16:13:21] WARNING: C:\\Windows\\Temp\\abs_557yfx631l\\croots\\recipe\\xgboost-split_1659548953302\\work\\src\\learner.cc:1115: Starting in XGBoost 1.3.0, the default evaluation metric used with the objective 'binary:logistic' was changed from 'error' to 'logloss'. Explicitly set eval_metric if you'd like to restore the old behavior.\n",
      "[16:13:21] WARNING: C:\\Windows\\Temp\\abs_557yfx631l\\croots\\recipe\\xgboost-split_1659548953302\\work\\src\\learner.cc:1115: Starting in XGBoost 1.3.0, the default evaluation metric used with the objective 'binary:logistic' was changed from 'error' to 'logloss'. Explicitly set eval_metric if you'd like to restore the old behavior.\n",
      "[16:13:22] WARNING: C:\\Windows\\Temp\\abs_557yfx631l\\croots\\recipe\\xgboost-split_1659548953302\\work\\src\\learner.cc:1115: Starting in XGBoost 1.3.0, the default evaluation metric used with the objective 'binary:logistic' was changed from 'error' to 'logloss'. Explicitly set eval_metric if you'd like to restore the old behavior.\n",
      "[16:13:22] WARNING: C:\\Windows\\Temp\\abs_557yfx631l\\croots\\recipe\\xgboost-split_1659548953302\\work\\src\\learner.cc:1115: Starting in XGBoost 1.3.0, the default evaluation metric used with the objective 'binary:logistic' was changed from 'error' to 'logloss'. Explicitly set eval_metric if you'd like to restore the old behavior.\n",
      "[16:13:23] WARNING: C:\\Windows\\Temp\\abs_557yfx631l\\croots\\recipe\\xgboost-split_1659548953302\\work\\src\\learner.cc:1115: Starting in XGBoost 1.3.0, the default evaluation metric used with the objective 'binary:logistic' was changed from 'error' to 'logloss'. Explicitly set eval_metric if you'd like to restore the old behavior.\n",
      "[16:13:23] WARNING: C:\\Windows\\Temp\\abs_557yfx631l\\croots\\recipe\\xgboost-split_1659548953302\\work\\src\\learner.cc:1115: Starting in XGBoost 1.3.0, the default evaluation metric used with the objective 'binary:logistic' was changed from 'error' to 'logloss'. Explicitly set eval_metric if you'd like to restore the old behavior.\n",
      "[16:13:23] WARNING: C:\\Windows\\Temp\\abs_557yfx631l\\croots\\recipe\\xgboost-split_1659548953302\\work\\src\\learner.cc:1115: Starting in XGBoost 1.3.0, the default evaluation metric used with the objective 'binary:logistic' was changed from 'error' to 'logloss'. Explicitly set eval_metric if you'd like to restore the old behavior.\n",
      "[16:13:23] WARNING: C:\\Windows\\Temp\\abs_557yfx631l\\croots\\recipe\\xgboost-split_1659548953302\\work\\src\\learner.cc:1115: Starting in XGBoost 1.3.0, the default evaluation metric used with the objective 'binary:logistic' was changed from 'error' to 'logloss'. Explicitly set eval_metric if you'd like to restore the old behavior.\n",
      "[16:13:24] WARNING: C:\\Windows\\Temp\\abs_557yfx631l\\croots\\recipe\\xgboost-split_1659548953302\\work\\src\\learner.cc:1115: Starting in XGBoost 1.3.0, the default evaluation metric used with the objective 'binary:logistic' was changed from 'error' to 'logloss'. Explicitly set eval_metric if you'd like to restore the old behavior.\n",
      "[16:13:24] WARNING: C:\\Windows\\Temp\\abs_557yfx631l\\croots\\recipe\\xgboost-split_1659548953302\\work\\src\\learner.cc:1115: Starting in XGBoost 1.3.0, the default evaluation metric used with the objective 'binary:logistic' was changed from 'error' to 'logloss'. Explicitly set eval_metric if you'd like to restore the old behavior.\n",
      "[16:13:24] WARNING: C:\\Windows\\Temp\\abs_557yfx631l\\croots\\recipe\\xgboost-split_1659548953302\\work\\src\\learner.cc:1115: Starting in XGBoost 1.3.0, the default evaluation metric used with the objective 'binary:logistic' was changed from 'error' to 'logloss'. Explicitly set eval_metric if you'd like to restore the old behavior.\n",
      "[16:13:24] WARNING: C:\\Windows\\Temp\\abs_557yfx631l\\croots\\recipe\\xgboost-split_1659548953302\\work\\src\\learner.cc:1115: Starting in XGBoost 1.3.0, the default evaluation metric used with the objective 'binary:logistic' was changed from 'error' to 'logloss'. Explicitly set eval_metric if you'd like to restore the old behavior.\n",
      "[16:13:24] WARNING: C:\\Windows\\Temp\\abs_557yfx631l\\croots\\recipe\\xgboost-split_1659548953302\\work\\src\\learner.cc:1115: Starting in XGBoost 1.3.0, the default evaluation metric used with the objective 'binary:logistic' was changed from 'error' to 'logloss'. Explicitly set eval_metric if you'd like to restore the old behavior.\n",
      "[16:13:24] WARNING: C:\\Windows\\Temp\\abs_557yfx631l\\croots\\recipe\\xgboost-split_1659548953302\\work\\src\\learner.cc:1115: Starting in XGBoost 1.3.0, the default evaluation metric used with the objective 'binary:logistic' was changed from 'error' to 'logloss'. Explicitly set eval_metric if you'd like to restore the old behavior.\n",
      "[16:13:24] WARNING: C:\\Windows\\Temp\\abs_557yfx631l\\croots\\recipe\\xgboost-split_1659548953302\\work\\src\\learner.cc:1115: Starting in XGBoost 1.3.0, the default evaluation metric used with the objective 'binary:logistic' was changed from 'error' to 'logloss'. Explicitly set eval_metric if you'd like to restore the old behavior.\n",
      "[16:13:24] WARNING: C:\\Windows\\Temp\\abs_557yfx631l\\croots\\recipe\\xgboost-split_1659548953302\\work\\src\\learner.cc:1115: Starting in XGBoost 1.3.0, the default evaluation metric used with the objective 'binary:logistic' was changed from 'error' to 'logloss'. Explicitly set eval_metric if you'd like to restore the old behavior.\n",
      "[16:13:25] WARNING: C:\\Windows\\Temp\\abs_557yfx631l\\croots\\recipe\\xgboost-split_1659548953302\\work\\src\\learner.cc:1115: Starting in XGBoost 1.3.0, the default evaluation metric used with the objective 'binary:logistic' was changed from 'error' to 'logloss'. Explicitly set eval_metric if you'd like to restore the old behavior.\n",
      "[16:13:25] WARNING: C:\\Windows\\Temp\\abs_557yfx631l\\croots\\recipe\\xgboost-split_1659548953302\\work\\src\\learner.cc:1115: Starting in XGBoost 1.3.0, the default evaluation metric used with the objective 'binary:logistic' was changed from 'error' to 'logloss'. Explicitly set eval_metric if you'd like to restore the old behavior.\n",
      "[16:13:25] WARNING: C:\\Windows\\Temp\\abs_557yfx631l\\croots\\recipe\\xgboost-split_1659548953302\\work\\src\\learner.cc:1115: Starting in XGBoost 1.3.0, the default evaluation metric used with the objective 'binary:logistic' was changed from 'error' to 'logloss'. Explicitly set eval_metric if you'd like to restore the old behavior.\n",
      "[16:13:25] WARNING: C:\\Windows\\Temp\\abs_557yfx631l\\croots\\recipe\\xgboost-split_1659548953302\\work\\src\\learner.cc:1115: Starting in XGBoost 1.3.0, the default evaluation metric used with the objective 'binary:logistic' was changed from 'error' to 'logloss'. Explicitly set eval_metric if you'd like to restore the old behavior.\n",
      "[16:13:25] WARNING: C:\\Windows\\Temp\\abs_557yfx631l\\croots\\recipe\\xgboost-split_1659548953302\\work\\src\\learner.cc:1115: Starting in XGBoost 1.3.0, the default evaluation metric used with the objective 'binary:logistic' was changed from 'error' to 'logloss'. Explicitly set eval_metric if you'd like to restore the old behavior.\n",
      "[16:13:25] WARNING: C:\\Windows\\Temp\\abs_557yfx631l\\croots\\recipe\\xgboost-split_1659548953302\\work\\src\\learner.cc:1115: Starting in XGBoost 1.3.0, the default evaluation metric used with the objective 'binary:logistic' was changed from 'error' to 'logloss'. Explicitly set eval_metric if you'd like to restore the old behavior.\n",
      "[16:13:25] WARNING: C:\\Windows\\Temp\\abs_557yfx631l\\croots\\recipe\\xgboost-split_1659548953302\\work\\src\\learner.cc:1115: Starting in XGBoost 1.3.0, the default evaluation metric used with the objective 'binary:logistic' was changed from 'error' to 'logloss'. Explicitly set eval_metric if you'd like to restore the old behavior.\n",
      "[16:13:26] WARNING: C:\\Windows\\Temp\\abs_557yfx631l\\croots\\recipe\\xgboost-split_1659548953302\\work\\src\\learner.cc:1115: Starting in XGBoost 1.3.0, the default evaluation metric used with the objective 'binary:logistic' was changed from 'error' to 'logloss'. Explicitly set eval_metric if you'd like to restore the old behavior.\n",
      "[16:13:26] WARNING: C:\\Windows\\Temp\\abs_557yfx631l\\croots\\recipe\\xgboost-split_1659548953302\\work\\src\\learner.cc:1115: Starting in XGBoost 1.3.0, the default evaluation metric used with the objective 'binary:logistic' was changed from 'error' to 'logloss'. Explicitly set eval_metric if you'd like to restore the old behavior.\n",
      "[16:13:26] WARNING: C:\\Windows\\Temp\\abs_557yfx631l\\croots\\recipe\\xgboost-split_1659548953302\\work\\src\\learner.cc:1115: Starting in XGBoost 1.3.0, the default evaluation metric used with the objective 'binary:logistic' was changed from 'error' to 'logloss'. Explicitly set eval_metric if you'd like to restore the old behavior.\n",
      "[16:13:26] WARNING: C:\\Windows\\Temp\\abs_557yfx631l\\croots\\recipe\\xgboost-split_1659548953302\\work\\src\\learner.cc:1115: Starting in XGBoost 1.3.0, the default evaluation metric used with the objective 'binary:logistic' was changed from 'error' to 'logloss'. Explicitly set eval_metric if you'd like to restore the old behavior.\n",
      "[16:13:26] WARNING: C:\\Windows\\Temp\\abs_557yfx631l\\croots\\recipe\\xgboost-split_1659548953302\\work\\src\\learner.cc:1115: Starting in XGBoost 1.3.0, the default evaluation metric used with the objective 'binary:logistic' was changed from 'error' to 'logloss'. Explicitly set eval_metric if you'd like to restore the old behavior.\n",
      "[16:13:27] WARNING: C:\\Windows\\Temp\\abs_557yfx631l\\croots\\recipe\\xgboost-split_1659548953302\\work\\src\\learner.cc:1115: Starting in XGBoost 1.3.0, the default evaluation metric used with the objective 'binary:logistic' was changed from 'error' to 'logloss'. Explicitly set eval_metric if you'd like to restore the old behavior.\n",
      "[16:13:27] WARNING: C:\\Windows\\Temp\\abs_557yfx631l\\croots\\recipe\\xgboost-split_1659548953302\\work\\src\\learner.cc:1115: Starting in XGBoost 1.3.0, the default evaluation metric used with the objective 'binary:logistic' was changed from 'error' to 'logloss'. Explicitly set eval_metric if you'd like to restore the old behavior.\n",
      "[16:13:27] WARNING: C:\\Windows\\Temp\\abs_557yfx631l\\croots\\recipe\\xgboost-split_1659548953302\\work\\src\\learner.cc:1115: Starting in XGBoost 1.3.0, the default evaluation metric used with the objective 'binary:logistic' was changed from 'error' to 'logloss'. Explicitly set eval_metric if you'd like to restore the old behavior.\n",
      "[16:13:27] WARNING: C:\\Windows\\Temp\\abs_557yfx631l\\croots\\recipe\\xgboost-split_1659548953302\\work\\src\\learner.cc:1115: Starting in XGBoost 1.3.0, the default evaluation metric used with the objective 'binary:logistic' was changed from 'error' to 'logloss'. Explicitly set eval_metric if you'd like to restore the old behavior.\n",
      "[16:13:27] WARNING: C:\\Windows\\Temp\\abs_557yfx631l\\croots\\recipe\\xgboost-split_1659548953302\\work\\src\\learner.cc:1115: Starting in XGBoost 1.3.0, the default evaluation metric used with the objective 'binary:logistic' was changed from 'error' to 'logloss'. Explicitly set eval_metric if you'd like to restore the old behavior.\n",
      "[16:13:27] WARNING: C:\\Windows\\Temp\\abs_557yfx631l\\croots\\recipe\\xgboost-split_1659548953302\\work\\src\\learner.cc:1115: Starting in XGBoost 1.3.0, the default evaluation metric used with the objective 'binary:logistic' was changed from 'error' to 'logloss'. Explicitly set eval_metric if you'd like to restore the old behavior.\n",
      "[16:13:27] WARNING: C:\\Windows\\Temp\\abs_557yfx631l\\croots\\recipe\\xgboost-split_1659548953302\\work\\src\\learner.cc:1115: Starting in XGBoost 1.3.0, the default evaluation metric used with the objective 'binary:logistic' was changed from 'error' to 'logloss'. Explicitly set eval_metric if you'd like to restore the old behavior.\n",
      "[16:13:28] WARNING: C:\\Windows\\Temp\\abs_557yfx631l\\croots\\recipe\\xgboost-split_1659548953302\\work\\src\\learner.cc:1115: Starting in XGBoost 1.3.0, the default evaluation metric used with the objective 'binary:logistic' was changed from 'error' to 'logloss'. Explicitly set eval_metric if you'd like to restore the old behavior.\n",
      "[16:13:28] WARNING: C:\\Windows\\Temp\\abs_557yfx631l\\croots\\recipe\\xgboost-split_1659548953302\\work\\src\\learner.cc:1115: Starting in XGBoost 1.3.0, the default evaluation metric used with the objective 'binary:logistic' was changed from 'error' to 'logloss'. Explicitly set eval_metric if you'd like to restore the old behavior.\n",
      "[16:13:28] WARNING: C:\\Windows\\Temp\\abs_557yfx631l\\croots\\recipe\\xgboost-split_1659548953302\\work\\src\\learner.cc:1115: Starting in XGBoost 1.3.0, the default evaluation metric used with the objective 'binary:logistic' was changed from 'error' to 'logloss'. Explicitly set eval_metric if you'd like to restore the old behavior.\n",
      "[16:13:28] WARNING: C:\\Windows\\Temp\\abs_557yfx631l\\croots\\recipe\\xgboost-split_1659548953302\\work\\src\\learner.cc:1115: Starting in XGBoost 1.3.0, the default evaluation metric used with the objective 'binary:logistic' was changed from 'error' to 'logloss'. Explicitly set eval_metric if you'd like to restore the old behavior.\n",
      "[16:13:28] WARNING: C:\\Windows\\Temp\\abs_557yfx631l\\croots\\recipe\\xgboost-split_1659548953302\\work\\src\\learner.cc:1115: Starting in XGBoost 1.3.0, the default evaluation metric used with the objective 'binary:logistic' was changed from 'error' to 'logloss'. Explicitly set eval_metric if you'd like to restore the old behavior.\n",
      "[16:13:29] WARNING: C:\\Windows\\Temp\\abs_557yfx631l\\croots\\recipe\\xgboost-split_1659548953302\\work\\src\\learner.cc:1115: Starting in XGBoost 1.3.0, the default evaluation metric used with the objective 'binary:logistic' was changed from 'error' to 'logloss'. Explicitly set eval_metric if you'd like to restore the old behavior.\n",
      "[16:13:29] WARNING: C:\\Windows\\Temp\\abs_557yfx631l\\croots\\recipe\\xgboost-split_1659548953302\\work\\src\\learner.cc:1115: Starting in XGBoost 1.3.0, the default evaluation metric used with the objective 'binary:logistic' was changed from 'error' to 'logloss'. Explicitly set eval_metric if you'd like to restore the old behavior.\n",
      "[16:13:29] WARNING: C:\\Windows\\Temp\\abs_557yfx631l\\croots\\recipe\\xgboost-split_1659548953302\\work\\src\\learner.cc:1115: Starting in XGBoost 1.3.0, the default evaluation metric used with the objective 'binary:logistic' was changed from 'error' to 'logloss'. Explicitly set eval_metric if you'd like to restore the old behavior.\n",
      "[16:13:29] WARNING: C:\\Windows\\Temp\\abs_557yfx631l\\croots\\recipe\\xgboost-split_1659548953302\\work\\src\\learner.cc:1115: Starting in XGBoost 1.3.0, the default evaluation metric used with the objective 'binary:logistic' was changed from 'error' to 'logloss'. Explicitly set eval_metric if you'd like to restore the old behavior.\n",
      "[16:13:29] WARNING: C:\\Windows\\Temp\\abs_557yfx631l\\croots\\recipe\\xgboost-split_1659548953302\\work\\src\\learner.cc:1115: Starting in XGBoost 1.3.0, the default evaluation metric used with the objective 'binary:logistic' was changed from 'error' to 'logloss'. Explicitly set eval_metric if you'd like to restore the old behavior.\n",
      "[16:13:30] WARNING: C:\\Windows\\Temp\\abs_557yfx631l\\croots\\recipe\\xgboost-split_1659548953302\\work\\src\\learner.cc:1115: Starting in XGBoost 1.3.0, the default evaluation metric used with the objective 'binary:logistic' was changed from 'error' to 'logloss'. Explicitly set eval_metric if you'd like to restore the old behavior.\n",
      "[16:13:30] WARNING: C:\\Windows\\Temp\\abs_557yfx631l\\croots\\recipe\\xgboost-split_1659548953302\\work\\src\\learner.cc:1115: Starting in XGBoost 1.3.0, the default evaluation metric used with the objective 'binary:logistic' was changed from 'error' to 'logloss'. Explicitly set eval_metric if you'd like to restore the old behavior.\n",
      "[16:13:30] WARNING: C:\\Windows\\Temp\\abs_557yfx631l\\croots\\recipe\\xgboost-split_1659548953302\\work\\src\\learner.cc:1115: Starting in XGBoost 1.3.0, the default evaluation metric used with the objective 'binary:logistic' was changed from 'error' to 'logloss'. Explicitly set eval_metric if you'd like to restore the old behavior.\n",
      "[16:13:30] WARNING: C:\\Windows\\Temp\\abs_557yfx631l\\croots\\recipe\\xgboost-split_1659548953302\\work\\src\\learner.cc:1115: Starting in XGBoost 1.3.0, the default evaluation metric used with the objective 'binary:logistic' was changed from 'error' to 'logloss'. Explicitly set eval_metric if you'd like to restore the old behavior.\n",
      "[16:13:30] WARNING: C:\\Windows\\Temp\\abs_557yfx631l\\croots\\recipe\\xgboost-split_1659548953302\\work\\src\\learner.cc:1115: Starting in XGBoost 1.3.0, the default evaluation metric used with the objective 'binary:logistic' was changed from 'error' to 'logloss'. Explicitly set eval_metric if you'd like to restore the old behavior.\n",
      "[16:13:30] WARNING: C:\\Windows\\Temp\\abs_557yfx631l\\croots\\recipe\\xgboost-split_1659548953302\\work\\src\\learner.cc:1115: Starting in XGBoost 1.3.0, the default evaluation metric used with the objective 'binary:logistic' was changed from 'error' to 'logloss'. Explicitly set eval_metric if you'd like to restore the old behavior.\n",
      "[16:13:31] WARNING: C:\\Windows\\Temp\\abs_557yfx631l\\croots\\recipe\\xgboost-split_1659548953302\\work\\src\\learner.cc:1115: Starting in XGBoost 1.3.0, the default evaluation metric used with the objective 'binary:logistic' was changed from 'error' to 'logloss'. Explicitly set eval_metric if you'd like to restore the old behavior.\n",
      "[16:13:31] WARNING: C:\\Windows\\Temp\\abs_557yfx631l\\croots\\recipe\\xgboost-split_1659548953302\\work\\src\\learner.cc:1115: Starting in XGBoost 1.3.0, the default evaluation metric used with the objective 'binary:logistic' was changed from 'error' to 'logloss'. Explicitly set eval_metric if you'd like to restore the old behavior.\n",
      "[16:13:31] WARNING: C:\\Windows\\Temp\\abs_557yfx631l\\croots\\recipe\\xgboost-split_1659548953302\\work\\src\\learner.cc:1115: Starting in XGBoost 1.3.0, the default evaluation metric used with the objective 'binary:logistic' was changed from 'error' to 'logloss'. Explicitly set eval_metric if you'd like to restore the old behavior.\n",
      "[16:13:31] WARNING: C:\\Windows\\Temp\\abs_557yfx631l\\croots\\recipe\\xgboost-split_1659548953302\\work\\src\\learner.cc:1115: Starting in XGBoost 1.3.0, the default evaluation metric used with the objective 'binary:logistic' was changed from 'error' to 'logloss'. Explicitly set eval_metric if you'd like to restore the old behavior.\n",
      "[16:13:31] WARNING: C:\\Windows\\Temp\\abs_557yfx631l\\croots\\recipe\\xgboost-split_1659548953302\\work\\src\\learner.cc:1115: Starting in XGBoost 1.3.0, the default evaluation metric used with the objective 'binary:logistic' was changed from 'error' to 'logloss'. Explicitly set eval_metric if you'd like to restore the old behavior.\n",
      "[16:13:31] WARNING: C:\\Windows\\Temp\\abs_557yfx631l\\croots\\recipe\\xgboost-split_1659548953302\\work\\src\\learner.cc:1115: Starting in XGBoost 1.3.0, the default evaluation metric used with the objective 'binary:logistic' was changed from 'error' to 'logloss'. Explicitly set eval_metric if you'd like to restore the old behavior.\n",
      "[16:13:31] WARNING: C:\\Windows\\Temp\\abs_557yfx631l\\croots\\recipe\\xgboost-split_1659548953302\\work\\src\\learner.cc:1115: Starting in XGBoost 1.3.0, the default evaluation metric used with the objective 'binary:logistic' was changed from 'error' to 'logloss'. Explicitly set eval_metric if you'd like to restore the old behavior.\n",
      "[16:13:31] WARNING: C:\\Windows\\Temp\\abs_557yfx631l\\croots\\recipe\\xgboost-split_1659548953302\\work\\src\\learner.cc:1115: Starting in XGBoost 1.3.0, the default evaluation metric used with the objective 'binary:logistic' was changed from 'error' to 'logloss'. Explicitly set eval_metric if you'd like to restore the old behavior.\n",
      "[16:13:31] WARNING: C:\\Windows\\Temp\\abs_557yfx631l\\croots\\recipe\\xgboost-split_1659548953302\\work\\src\\learner.cc:1115: Starting in XGBoost 1.3.0, the default evaluation metric used with the objective 'binary:logistic' was changed from 'error' to 'logloss'. Explicitly set eval_metric if you'd like to restore the old behavior.\n",
      "[16:13:32] WARNING: C:\\Windows\\Temp\\abs_557yfx631l\\croots\\recipe\\xgboost-split_1659548953302\\work\\src\\learner.cc:1115: Starting in XGBoost 1.3.0, the default evaluation metric used with the objective 'binary:logistic' was changed from 'error' to 'logloss'. Explicitly set eval_metric if you'd like to restore the old behavior.\n",
      "[16:13:32] WARNING: C:\\Windows\\Temp\\abs_557yfx631l\\croots\\recipe\\xgboost-split_1659548953302\\work\\src\\learner.cc:1115: Starting in XGBoost 1.3.0, the default evaluation metric used with the objective 'binary:logistic' was changed from 'error' to 'logloss'. Explicitly set eval_metric if you'd like to restore the old behavior.\n",
      "[16:13:32] WARNING: C:\\Windows\\Temp\\abs_557yfx631l\\croots\\recipe\\xgboost-split_1659548953302\\work\\src\\learner.cc:1115: Starting in XGBoost 1.3.0, the default evaluation metric used with the objective 'binary:logistic' was changed from 'error' to 'logloss'. Explicitly set eval_metric if you'd like to restore the old behavior.\n",
      "[16:13:32] WARNING: C:\\Windows\\Temp\\abs_557yfx631l\\croots\\recipe\\xgboost-split_1659548953302\\work\\src\\learner.cc:1115: Starting in XGBoost 1.3.0, the default evaluation metric used with the objective 'binary:logistic' was changed from 'error' to 'logloss'. Explicitly set eval_metric if you'd like to restore the old behavior.\n",
      "[16:13:32] WARNING: C:\\Windows\\Temp\\abs_557yfx631l\\croots\\recipe\\xgboost-split_1659548953302\\work\\src\\learner.cc:1115: Starting in XGBoost 1.3.0, the default evaluation metric used with the objective 'binary:logistic' was changed from 'error' to 'logloss'. Explicitly set eval_metric if you'd like to restore the old behavior.\n",
      "[16:13:33] WARNING: C:\\Windows\\Temp\\abs_557yfx631l\\croots\\recipe\\xgboost-split_1659548953302\\work\\src\\learner.cc:1115: Starting in XGBoost 1.3.0, the default evaluation metric used with the objective 'binary:logistic' was changed from 'error' to 'logloss'. Explicitly set eval_metric if you'd like to restore the old behavior.\n",
      "[16:13:33] WARNING: C:\\Windows\\Temp\\abs_557yfx631l\\croots\\recipe\\xgboost-split_1659548953302\\work\\src\\learner.cc:1115: Starting in XGBoost 1.3.0, the default evaluation metric used with the objective 'binary:logistic' was changed from 'error' to 'logloss'. Explicitly set eval_metric if you'd like to restore the old behavior.\n",
      "[16:13:33] WARNING: C:\\Windows\\Temp\\abs_557yfx631l\\croots\\recipe\\xgboost-split_1659548953302\\work\\src\\learner.cc:1115: Starting in XGBoost 1.3.0, the default evaluation metric used with the objective 'binary:logistic' was changed from 'error' to 'logloss'. Explicitly set eval_metric if you'd like to restore the old behavior.\n",
      "[16:13:33] WARNING: C:\\Windows\\Temp\\abs_557yfx631l\\croots\\recipe\\xgboost-split_1659548953302\\work\\src\\learner.cc:1115: Starting in XGBoost 1.3.0, the default evaluation metric used with the objective 'binary:logistic' was changed from 'error' to 'logloss'. Explicitly set eval_metric if you'd like to restore the old behavior.\n",
      "[16:13:33] WARNING: C:\\Windows\\Temp\\abs_557yfx631l\\croots\\recipe\\xgboost-split_1659548953302\\work\\src\\learner.cc:1115: Starting in XGBoost 1.3.0, the default evaluation metric used with the objective 'binary:logistic' was changed from 'error' to 'logloss'. Explicitly set eval_metric if you'd like to restore the old behavior.\n",
      "[16:13:33] WARNING: C:\\Windows\\Temp\\abs_557yfx631l\\croots\\recipe\\xgboost-split_1659548953302\\work\\src\\learner.cc:1115: Starting in XGBoost 1.3.0, the default evaluation metric used with the objective 'binary:logistic' was changed from 'error' to 'logloss'. Explicitly set eval_metric if you'd like to restore the old behavior.\n",
      "[16:13:33] WARNING: C:\\Windows\\Temp\\abs_557yfx631l\\croots\\recipe\\xgboost-split_1659548953302\\work\\src\\learner.cc:1115: Starting in XGBoost 1.3.0, the default evaluation metric used with the objective 'binary:logistic' was changed from 'error' to 'logloss'. Explicitly set eval_metric if you'd like to restore the old behavior.\n",
      "[16:13:33] WARNING: C:\\Windows\\Temp\\abs_557yfx631l\\croots\\recipe\\xgboost-split_1659548953302\\work\\src\\learner.cc:1115: Starting in XGBoost 1.3.0, the default evaluation metric used with the objective 'binary:logistic' was changed from 'error' to 'logloss'. Explicitly set eval_metric if you'd like to restore the old behavior.\n",
      "[16:13:33] WARNING: C:\\Windows\\Temp\\abs_557yfx631l\\croots\\recipe\\xgboost-split_1659548953302\\work\\src\\learner.cc:1115: Starting in XGBoost 1.3.0, the default evaluation metric used with the objective 'binary:logistic' was changed from 'error' to 'logloss'. Explicitly set eval_metric if you'd like to restore the old behavior.\n",
      "[16:13:34] WARNING: C:\\Windows\\Temp\\abs_557yfx631l\\croots\\recipe\\xgboost-split_1659548953302\\work\\src\\learner.cc:1115: Starting in XGBoost 1.3.0, the default evaluation metric used with the objective 'binary:logistic' was changed from 'error' to 'logloss'. Explicitly set eval_metric if you'd like to restore the old behavior.\n",
      "[16:13:34] WARNING: C:\\Windows\\Temp\\abs_557yfx631l\\croots\\recipe\\xgboost-split_1659548953302\\work\\src\\learner.cc:1115: Starting in XGBoost 1.3.0, the default evaluation metric used with the objective 'binary:logistic' was changed from 'error' to 'logloss'. Explicitly set eval_metric if you'd like to restore the old behavior.\n",
      "[16:13:34] WARNING: C:\\Windows\\Temp\\abs_557yfx631l\\croots\\recipe\\xgboost-split_1659548953302\\work\\src\\learner.cc:1115: Starting in XGBoost 1.3.0, the default evaluation metric used with the objective 'binary:logistic' was changed from 'error' to 'logloss'. Explicitly set eval_metric if you'd like to restore the old behavior.\n",
      "[16:13:34] WARNING: C:\\Windows\\Temp\\abs_557yfx631l\\croots\\recipe\\xgboost-split_1659548953302\\work\\src\\learner.cc:1115: Starting in XGBoost 1.3.0, the default evaluation metric used with the objective 'binary:logistic' was changed from 'error' to 'logloss'. Explicitly set eval_metric if you'd like to restore the old behavior.\n",
      "[16:13:34] WARNING: C:\\Windows\\Temp\\abs_557yfx631l\\croots\\recipe\\xgboost-split_1659548953302\\work\\src\\learner.cc:1115: Starting in XGBoost 1.3.0, the default evaluation metric used with the objective 'binary:logistic' was changed from 'error' to 'logloss'. Explicitly set eval_metric if you'd like to restore the old behavior.\n",
      "[16:13:34] WARNING: C:\\Windows\\Temp\\abs_557yfx631l\\croots\\recipe\\xgboost-split_1659548953302\\work\\src\\learner.cc:1115: Starting in XGBoost 1.3.0, the default evaluation metric used with the objective 'binary:logistic' was changed from 'error' to 'logloss'. Explicitly set eval_metric if you'd like to restore the old behavior.\n",
      "[16:13:34] WARNING: C:\\Windows\\Temp\\abs_557yfx631l\\croots\\recipe\\xgboost-split_1659548953302\\work\\src\\learner.cc:1115: Starting in XGBoost 1.3.0, the default evaluation metric used with the objective 'binary:logistic' was changed from 'error' to 'logloss'. Explicitly set eval_metric if you'd like to restore the old behavior.\n",
      "[16:13:34] WARNING: C:\\Windows\\Temp\\abs_557yfx631l\\croots\\recipe\\xgboost-split_1659548953302\\work\\src\\learner.cc:1115: Starting in XGBoost 1.3.0, the default evaluation metric used with the objective 'binary:logistic' was changed from 'error' to 'logloss'. Explicitly set eval_metric if you'd like to restore the old behavior.\n",
      "[16:13:34] WARNING: C:\\Windows\\Temp\\abs_557yfx631l\\croots\\recipe\\xgboost-split_1659548953302\\work\\src\\learner.cc:1115: Starting in XGBoost 1.3.0, the default evaluation metric used with the objective 'binary:logistic' was changed from 'error' to 'logloss'. Explicitly set eval_metric if you'd like to restore the old behavior.\n",
      "[16:13:34] WARNING: C:\\Windows\\Temp\\abs_557yfx631l\\croots\\recipe\\xgboost-split_1659548953302\\work\\src\\learner.cc:1115: Starting in XGBoost 1.3.0, the default evaluation metric used with the objective 'binary:logistic' was changed from 'error' to 'logloss'. Explicitly set eval_metric if you'd like to restore the old behavior.\n",
      "[16:13:35] WARNING: C:\\Windows\\Temp\\abs_557yfx631l\\croots\\recipe\\xgboost-split_1659548953302\\work\\src\\learner.cc:1115: Starting in XGBoost 1.3.0, the default evaluation metric used with the objective 'binary:logistic' was changed from 'error' to 'logloss'. Explicitly set eval_metric if you'd like to restore the old behavior.\n",
      "[16:13:35] WARNING: C:\\Windows\\Temp\\abs_557yfx631l\\croots\\recipe\\xgboost-split_1659548953302\\work\\src\\learner.cc:1115: Starting in XGBoost 1.3.0, the default evaluation metric used with the objective 'binary:logistic' was changed from 'error' to 'logloss'. Explicitly set eval_metric if you'd like to restore the old behavior.\n",
      "[16:13:35] WARNING: C:\\Windows\\Temp\\abs_557yfx631l\\croots\\recipe\\xgboost-split_1659548953302\\work\\src\\learner.cc:1115: Starting in XGBoost 1.3.0, the default evaluation metric used with the objective 'binary:logistic' was changed from 'error' to 'logloss'. Explicitly set eval_metric if you'd like to restore the old behavior.\n",
      "[16:13:35] WARNING: C:\\Windows\\Temp\\abs_557yfx631l\\croots\\recipe\\xgboost-split_1659548953302\\work\\src\\learner.cc:1115: Starting in XGBoost 1.3.0, the default evaluation metric used with the objective 'binary:logistic' was changed from 'error' to 'logloss'. Explicitly set eval_metric if you'd like to restore the old behavior.\n",
      "[16:13:35] WARNING: C:\\Windows\\Temp\\abs_557yfx631l\\croots\\recipe\\xgboost-split_1659548953302\\work\\src\\learner.cc:1115: Starting in XGBoost 1.3.0, the default evaluation metric used with the objective 'binary:logistic' was changed from 'error' to 'logloss'. Explicitly set eval_metric if you'd like to restore the old behavior.\n",
      "[16:13:36] WARNING: C:\\Windows\\Temp\\abs_557yfx631l\\croots\\recipe\\xgboost-split_1659548953302\\work\\src\\learner.cc:1115: Starting in XGBoost 1.3.0, the default evaluation metric used with the objective 'binary:logistic' was changed from 'error' to 'logloss'. Explicitly set eval_metric if you'd like to restore the old behavior.\n",
      "[16:13:36] WARNING: C:\\Windows\\Temp\\abs_557yfx631l\\croots\\recipe\\xgboost-split_1659548953302\\work\\src\\learner.cc:1115: Starting in XGBoost 1.3.0, the default evaluation metric used with the objective 'binary:logistic' was changed from 'error' to 'logloss'. Explicitly set eval_metric if you'd like to restore the old behavior.\n",
      "[16:13:36] WARNING: C:\\Windows\\Temp\\abs_557yfx631l\\croots\\recipe\\xgboost-split_1659548953302\\work\\src\\learner.cc:1115: Starting in XGBoost 1.3.0, the default evaluation metric used with the objective 'binary:logistic' was changed from 'error' to 'logloss'. Explicitly set eval_metric if you'd like to restore the old behavior.\n",
      "[16:13:36] WARNING: C:\\Windows\\Temp\\abs_557yfx631l\\croots\\recipe\\xgboost-split_1659548953302\\work\\src\\learner.cc:1115: Starting in XGBoost 1.3.0, the default evaluation metric used with the objective 'binary:logistic' was changed from 'error' to 'logloss'. Explicitly set eval_metric if you'd like to restore the old behavior.\n",
      "[16:13:36] WARNING: C:\\Windows\\Temp\\abs_557yfx631l\\croots\\recipe\\xgboost-split_1659548953302\\work\\src\\learner.cc:1115: Starting in XGBoost 1.3.0, the default evaluation metric used with the objective 'binary:logistic' was changed from 'error' to 'logloss'. Explicitly set eval_metric if you'd like to restore the old behavior.\n",
      "[16:13:36] WARNING: C:\\Windows\\Temp\\abs_557yfx631l\\croots\\recipe\\xgboost-split_1659548953302\\work\\src\\learner.cc:1115: Starting in XGBoost 1.3.0, the default evaluation metric used with the objective 'binary:logistic' was changed from 'error' to 'logloss'. Explicitly set eval_metric if you'd like to restore the old behavior.\n",
      "[16:13:36] WARNING: C:\\Windows\\Temp\\abs_557yfx631l\\croots\\recipe\\xgboost-split_1659548953302\\work\\src\\learner.cc:1115: Starting in XGBoost 1.3.0, the default evaluation metric used with the objective 'binary:logistic' was changed from 'error' to 'logloss'. Explicitly set eval_metric if you'd like to restore the old behavior.\n",
      "[16:13:37] WARNING: C:\\Windows\\Temp\\abs_557yfx631l\\croots\\recipe\\xgboost-split_1659548953302\\work\\src\\learner.cc:1115: Starting in XGBoost 1.3.0, the default evaluation metric used with the objective 'binary:logistic' was changed from 'error' to 'logloss'. Explicitly set eval_metric if you'd like to restore the old behavior.\n",
      "[16:13:37] WARNING: C:\\Windows\\Temp\\abs_557yfx631l\\croots\\recipe\\xgboost-split_1659548953302\\work\\src\\learner.cc:1115: Starting in XGBoost 1.3.0, the default evaluation metric used with the objective 'binary:logistic' was changed from 'error' to 'logloss'. Explicitly set eval_metric if you'd like to restore the old behavior.\n",
      "[16:13:37] WARNING: C:\\Windows\\Temp\\abs_557yfx631l\\croots\\recipe\\xgboost-split_1659548953302\\work\\src\\learner.cc:1115: Starting in XGBoost 1.3.0, the default evaluation metric used with the objective 'binary:logistic' was changed from 'error' to 'logloss'. Explicitly set eval_metric if you'd like to restore the old behavior.\n",
      "[16:13:37] WARNING: C:\\Windows\\Temp\\abs_557yfx631l\\croots\\recipe\\xgboost-split_1659548953302\\work\\src\\learner.cc:1115: Starting in XGBoost 1.3.0, the default evaluation metric used with the objective 'binary:logistic' was changed from 'error' to 'logloss'. Explicitly set eval_metric if you'd like to restore the old behavior.\n",
      "[16:13:37] WARNING: C:\\Windows\\Temp\\abs_557yfx631l\\croots\\recipe\\xgboost-split_1659548953302\\work\\src\\learner.cc:1115: Starting in XGBoost 1.3.0, the default evaluation metric used with the objective 'binary:logistic' was changed from 'error' to 'logloss'. Explicitly set eval_metric if you'd like to restore the old behavior.\n",
      "[16:13:37] WARNING: C:\\Windows\\Temp\\abs_557yfx631l\\croots\\recipe\\xgboost-split_1659548953302\\work\\src\\learner.cc:1115: Starting in XGBoost 1.3.0, the default evaluation metric used with the objective 'binary:logistic' was changed from 'error' to 'logloss'. Explicitly set eval_metric if you'd like to restore the old behavior.\n",
      "[16:13:37] WARNING: C:\\Windows\\Temp\\abs_557yfx631l\\croots\\recipe\\xgboost-split_1659548953302\\work\\src\\learner.cc:1115: Starting in XGBoost 1.3.0, the default evaluation metric used with the objective 'binary:logistic' was changed from 'error' to 'logloss'. Explicitly set eval_metric if you'd like to restore the old behavior.\n",
      "[16:13:38] WARNING: C:\\Windows\\Temp\\abs_557yfx631l\\croots\\recipe\\xgboost-split_1659548953302\\work\\src\\learner.cc:1115: Starting in XGBoost 1.3.0, the default evaluation metric used with the objective 'binary:logistic' was changed from 'error' to 'logloss'. Explicitly set eval_metric if you'd like to restore the old behavior.\n",
      "[16:13:39] WARNING: C:\\Windows\\Temp\\abs_557yfx631l\\croots\\recipe\\xgboost-split_1659548953302\\work\\src\\learner.cc:1115: Starting in XGBoost 1.3.0, the default evaluation metric used with the objective 'binary:logistic' was changed from 'error' to 'logloss'. Explicitly set eval_metric if you'd like to restore the old behavior.\n",
      "[16:13:39] WARNING: C:\\Windows\\Temp\\abs_557yfx631l\\croots\\recipe\\xgboost-split_1659548953302\\work\\src\\learner.cc:1115: Starting in XGBoost 1.3.0, the default evaluation metric used with the objective 'binary:logistic' was changed from 'error' to 'logloss'. Explicitly set eval_metric if you'd like to restore the old behavior.\n",
      "[16:13:39] WARNING: C:\\Windows\\Temp\\abs_557yfx631l\\croots\\recipe\\xgboost-split_1659548953302\\work\\src\\learner.cc:1115: Starting in XGBoost 1.3.0, the default evaluation metric used with the objective 'binary:logistic' was changed from 'error' to 'logloss'. Explicitly set eval_metric if you'd like to restore the old behavior.\n",
      "[16:13:39] WARNING: C:\\Windows\\Temp\\abs_557yfx631l\\croots\\recipe\\xgboost-split_1659548953302\\work\\src\\learner.cc:1115: Starting in XGBoost 1.3.0, the default evaluation metric used with the objective 'binary:logistic' was changed from 'error' to 'logloss'. Explicitly set eval_metric if you'd like to restore the old behavior.\n",
      "[16:13:39] WARNING: C:\\Windows\\Temp\\abs_557yfx631l\\croots\\recipe\\xgboost-split_1659548953302\\work\\src\\learner.cc:1115: Starting in XGBoost 1.3.0, the default evaluation metric used with the objective 'binary:logistic' was changed from 'error' to 'logloss'. Explicitly set eval_metric if you'd like to restore the old behavior.\n",
      "[16:13:40] WARNING: C:\\Windows\\Temp\\abs_557yfx631l\\croots\\recipe\\xgboost-split_1659548953302\\work\\src\\learner.cc:1115: Starting in XGBoost 1.3.0, the default evaluation metric used with the objective 'binary:logistic' was changed from 'error' to 'logloss'. Explicitly set eval_metric if you'd like to restore the old behavior.\n",
      "[16:13:40] WARNING: C:\\Windows\\Temp\\abs_557yfx631l\\croots\\recipe\\xgboost-split_1659548953302\\work\\src\\learner.cc:1115: Starting in XGBoost 1.3.0, the default evaluation metric used with the objective 'binary:logistic' was changed from 'error' to 'logloss'. Explicitly set eval_metric if you'd like to restore the old behavior.\n",
      "[16:13:40] WARNING: C:\\Windows\\Temp\\abs_557yfx631l\\croots\\recipe\\xgboost-split_1659548953302\\work\\src\\learner.cc:1115: Starting in XGBoost 1.3.0, the default evaluation metric used with the objective 'binary:logistic' was changed from 'error' to 'logloss'. Explicitly set eval_metric if you'd like to restore the old behavior.\n",
      "[16:13:40] WARNING: C:\\Windows\\Temp\\abs_557yfx631l\\croots\\recipe\\xgboost-split_1659548953302\\work\\src\\learner.cc:1115: Starting in XGBoost 1.3.0, the default evaluation metric used with the objective 'binary:logistic' was changed from 'error' to 'logloss'. Explicitly set eval_metric if you'd like to restore the old behavior.\n",
      "[16:13:41] WARNING: C:\\Windows\\Temp\\abs_557yfx631l\\croots\\recipe\\xgboost-split_1659548953302\\work\\src\\learner.cc:1115: Starting in XGBoost 1.3.0, the default evaluation metric used with the objective 'binary:logistic' was changed from 'error' to 'logloss'. Explicitly set eval_metric if you'd like to restore the old behavior.\n",
      "[16:13:41] WARNING: C:\\Windows\\Temp\\abs_557yfx631l\\croots\\recipe\\xgboost-split_1659548953302\\work\\src\\learner.cc:1115: Starting in XGBoost 1.3.0, the default evaluation metric used with the objective 'binary:logistic' was changed from 'error' to 'logloss'. Explicitly set eval_metric if you'd like to restore the old behavior.\n",
      "[16:13:41] WARNING: C:\\Windows\\Temp\\abs_557yfx631l\\croots\\recipe\\xgboost-split_1659548953302\\work\\src\\learner.cc:1115: Starting in XGBoost 1.3.0, the default evaluation metric used with the objective 'binary:logistic' was changed from 'error' to 'logloss'. Explicitly set eval_metric if you'd like to restore the old behavior.\n",
      "[16:13:42] WARNING: C:\\Windows\\Temp\\abs_557yfx631l\\croots\\recipe\\xgboost-split_1659548953302\\work\\src\\learner.cc:1115: Starting in XGBoost 1.3.0, the default evaluation metric used with the objective 'binary:logistic' was changed from 'error' to 'logloss'. Explicitly set eval_metric if you'd like to restore the old behavior.\n",
      "[16:13:42] WARNING: C:\\Windows\\Temp\\abs_557yfx631l\\croots\\recipe\\xgboost-split_1659548953302\\work\\src\\learner.cc:1115: Starting in XGBoost 1.3.0, the default evaluation metric used with the objective 'binary:logistic' was changed from 'error' to 'logloss'. Explicitly set eval_metric if you'd like to restore the old behavior.\n",
      "[16:13:42] WARNING: C:\\Windows\\Temp\\abs_557yfx631l\\croots\\recipe\\xgboost-split_1659548953302\\work\\src\\learner.cc:1115: Starting in XGBoost 1.3.0, the default evaluation metric used with the objective 'binary:logistic' was changed from 'error' to 'logloss'. Explicitly set eval_metric if you'd like to restore the old behavior.\n",
      "[16:13:44] WARNING: C:\\Windows\\Temp\\abs_557yfx631l\\croots\\recipe\\xgboost-split_1659548953302\\work\\src\\learner.cc:1115: Starting in XGBoost 1.3.0, the default evaluation metric used with the objective 'binary:logistic' was changed from 'error' to 'logloss'. Explicitly set eval_metric if you'd like to restore the old behavior.\n",
      "[16:13:44] WARNING: C:\\Windows\\Temp\\abs_557yfx631l\\croots\\recipe\\xgboost-split_1659548953302\\work\\src\\learner.cc:1115: Starting in XGBoost 1.3.0, the default evaluation metric used with the objective 'binary:logistic' was changed from 'error' to 'logloss'. Explicitly set eval_metric if you'd like to restore the old behavior.\n",
      "[16:13:44] WARNING: C:\\Windows\\Temp\\abs_557yfx631l\\croots\\recipe\\xgboost-split_1659548953302\\work\\src\\learner.cc:1115: Starting in XGBoost 1.3.0, the default evaluation metric used with the objective 'binary:logistic' was changed from 'error' to 'logloss'. Explicitly set eval_metric if you'd like to restore the old behavior.\n",
      "[16:13:44] WARNING: C:\\Windows\\Temp\\abs_557yfx631l\\croots\\recipe\\xgboost-split_1659548953302\\work\\src\\learner.cc:1115: Starting in XGBoost 1.3.0, the default evaluation metric used with the objective 'binary:logistic' was changed from 'error' to 'logloss'. Explicitly set eval_metric if you'd like to restore the old behavior.\n",
      "[16:13:44] WARNING: C:\\Windows\\Temp\\abs_557yfx631l\\croots\\recipe\\xgboost-split_1659548953302\\work\\src\\learner.cc:1115: Starting in XGBoost 1.3.0, the default evaluation metric used with the objective 'binary:logistic' was changed from 'error' to 'logloss'. Explicitly set eval_metric if you'd like to restore the old behavior.\n",
      "[16:13:45] WARNING: C:\\Windows\\Temp\\abs_557yfx631l\\croots\\recipe\\xgboost-split_1659548953302\\work\\src\\learner.cc:1115: Starting in XGBoost 1.3.0, the default evaluation metric used with the objective 'binary:logistic' was changed from 'error' to 'logloss'. Explicitly set eval_metric if you'd like to restore the old behavior.\n",
      "[16:13:45] WARNING: C:\\Windows\\Temp\\abs_557yfx631l\\croots\\recipe\\xgboost-split_1659548953302\\work\\src\\learner.cc:1115: Starting in XGBoost 1.3.0, the default evaluation metric used with the objective 'binary:logistic' was changed from 'error' to 'logloss'. Explicitly set eval_metric if you'd like to restore the old behavior.\n",
      "[16:13:45] WARNING: C:\\Windows\\Temp\\abs_557yfx631l\\croots\\recipe\\xgboost-split_1659548953302\\work\\src\\learner.cc:1115: Starting in XGBoost 1.3.0, the default evaluation metric used with the objective 'binary:logistic' was changed from 'error' to 'logloss'. Explicitly set eval_metric if you'd like to restore the old behavior.\n",
      "[16:13:45] WARNING: C:\\Windows\\Temp\\abs_557yfx631l\\croots\\recipe\\xgboost-split_1659548953302\\work\\src\\learner.cc:1115: Starting in XGBoost 1.3.0, the default evaluation metric used with the objective 'binary:logistic' was changed from 'error' to 'logloss'. Explicitly set eval_metric if you'd like to restore the old behavior.\n",
      "[16:13:45] WARNING: C:\\Windows\\Temp\\abs_557yfx631l\\croots\\recipe\\xgboost-split_1659548953302\\work\\src\\learner.cc:1115: Starting in XGBoost 1.3.0, the default evaluation metric used with the objective 'binary:logistic' was changed from 'error' to 'logloss'. Explicitly set eval_metric if you'd like to restore the old behavior.\n",
      "[16:13:45] WARNING: C:\\Windows\\Temp\\abs_557yfx631l\\croots\\recipe\\xgboost-split_1659548953302\\work\\src\\learner.cc:1115: Starting in XGBoost 1.3.0, the default evaluation metric used with the objective 'binary:logistic' was changed from 'error' to 'logloss'. Explicitly set eval_metric if you'd like to restore the old behavior.\n",
      "[16:13:46] WARNING: C:\\Windows\\Temp\\abs_557yfx631l\\croots\\recipe\\xgboost-split_1659548953302\\work\\src\\learner.cc:1115: Starting in XGBoost 1.3.0, the default evaluation metric used with the objective 'binary:logistic' was changed from 'error' to 'logloss'. Explicitly set eval_metric if you'd like to restore the old behavior.\n",
      "[16:13:46] WARNING: C:\\Windows\\Temp\\abs_557yfx631l\\croots\\recipe\\xgboost-split_1659548953302\\work\\src\\learner.cc:1115: Starting in XGBoost 1.3.0, the default evaluation metric used with the objective 'binary:logistic' was changed from 'error' to 'logloss'. Explicitly set eval_metric if you'd like to restore the old behavior.\n",
      "[16:13:46] WARNING: C:\\Windows\\Temp\\abs_557yfx631l\\croots\\recipe\\xgboost-split_1659548953302\\work\\src\\learner.cc:1115: Starting in XGBoost 1.3.0, the default evaluation metric used with the objective 'binary:logistic' was changed from 'error' to 'logloss'. Explicitly set eval_metric if you'd like to restore the old behavior.\n",
      "[16:13:46] WARNING: C:\\Windows\\Temp\\abs_557yfx631l\\croots\\recipe\\xgboost-split_1659548953302\\work\\src\\learner.cc:1115: Starting in XGBoost 1.3.0, the default evaluation metric used with the objective 'binary:logistic' was changed from 'error' to 'logloss'. Explicitly set eval_metric if you'd like to restore the old behavior.\n",
      "[16:13:46] WARNING: C:\\Windows\\Temp\\abs_557yfx631l\\croots\\recipe\\xgboost-split_1659548953302\\work\\src\\learner.cc:1115: Starting in XGBoost 1.3.0, the default evaluation metric used with the objective 'binary:logistic' was changed from 'error' to 'logloss'. Explicitly set eval_metric if you'd like to restore the old behavior.\n",
      "[16:13:47] WARNING: C:\\Windows\\Temp\\abs_557yfx631l\\croots\\recipe\\xgboost-split_1659548953302\\work\\src\\learner.cc:1115: Starting in XGBoost 1.3.0, the default evaluation metric used with the objective 'binary:logistic' was changed from 'error' to 'logloss'. Explicitly set eval_metric if you'd like to restore the old behavior.\n",
      "[16:13:47] WARNING: C:\\Windows\\Temp\\abs_557yfx631l\\croots\\recipe\\xgboost-split_1659548953302\\work\\src\\learner.cc:1115: Starting in XGBoost 1.3.0, the default evaluation metric used with the objective 'binary:logistic' was changed from 'error' to 'logloss'. Explicitly set eval_metric if you'd like to restore the old behavior.\n",
      "[16:13:47] WARNING: C:\\Windows\\Temp\\abs_557yfx631l\\croots\\recipe\\xgboost-split_1659548953302\\work\\src\\learner.cc:1115: Starting in XGBoost 1.3.0, the default evaluation metric used with the objective 'binary:logistic' was changed from 'error' to 'logloss'. Explicitly set eval_metric if you'd like to restore the old behavior.\n",
      "[16:13:47] WARNING: C:\\Windows\\Temp\\abs_557yfx631l\\croots\\recipe\\xgboost-split_1659548953302\\work\\src\\learner.cc:1115: Starting in XGBoost 1.3.0, the default evaluation metric used with the objective 'binary:logistic' was changed from 'error' to 'logloss'. Explicitly set eval_metric if you'd like to restore the old behavior.\n",
      "[16:13:47] WARNING: C:\\Windows\\Temp\\abs_557yfx631l\\croots\\recipe\\xgboost-split_1659548953302\\work\\src\\learner.cc:1115: Starting in XGBoost 1.3.0, the default evaluation metric used with the objective 'binary:logistic' was changed from 'error' to 'logloss'. Explicitly set eval_metric if you'd like to restore the old behavior.\n",
      "[16:13:47] WARNING: C:\\Windows\\Temp\\abs_557yfx631l\\croots\\recipe\\xgboost-split_1659548953302\\work\\src\\learner.cc:1115: Starting in XGBoost 1.3.0, the default evaluation metric used with the objective 'binary:logistic' was changed from 'error' to 'logloss'. Explicitly set eval_metric if you'd like to restore the old behavior.\n",
      "[16:13:48] WARNING: C:\\Windows\\Temp\\abs_557yfx631l\\croots\\recipe\\xgboost-split_1659548953302\\work\\src\\learner.cc:1115: Starting in XGBoost 1.3.0, the default evaluation metric used with the objective 'binary:logistic' was changed from 'error' to 'logloss'. Explicitly set eval_metric if you'd like to restore the old behavior.\n",
      "[16:13:48] WARNING: C:\\Windows\\Temp\\abs_557yfx631l\\croots\\recipe\\xgboost-split_1659548953302\\work\\src\\learner.cc:1115: Starting in XGBoost 1.3.0, the default evaluation metric used with the objective 'binary:logistic' was changed from 'error' to 'logloss'. Explicitly set eval_metric if you'd like to restore the old behavior.\n",
      "[16:13:48] WARNING: C:\\Windows\\Temp\\abs_557yfx631l\\croots\\recipe\\xgboost-split_1659548953302\\work\\src\\learner.cc:1115: Starting in XGBoost 1.3.0, the default evaluation metric used with the objective 'binary:logistic' was changed from 'error' to 'logloss'. Explicitly set eval_metric if you'd like to restore the old behavior.\n",
      "[16:13:48] WARNING: C:\\Windows\\Temp\\abs_557yfx631l\\croots\\recipe\\xgboost-split_1659548953302\\work\\src\\learner.cc:1115: Starting in XGBoost 1.3.0, the default evaluation metric used with the objective 'binary:logistic' was changed from 'error' to 'logloss'. Explicitly set eval_metric if you'd like to restore the old behavior.\n",
      "[16:13:48] WARNING: C:\\Windows\\Temp\\abs_557yfx631l\\croots\\recipe\\xgboost-split_1659548953302\\work\\src\\learner.cc:1115: Starting in XGBoost 1.3.0, the default evaluation metric used with the objective 'binary:logistic' was changed from 'error' to 'logloss'. Explicitly set eval_metric if you'd like to restore the old behavior.\n",
      "[16:13:48] WARNING: C:\\Windows\\Temp\\abs_557yfx631l\\croots\\recipe\\xgboost-split_1659548953302\\work\\src\\learner.cc:1115: Starting in XGBoost 1.3.0, the default evaluation metric used with the objective 'binary:logistic' was changed from 'error' to 'logloss'. Explicitly set eval_metric if you'd like to restore the old behavior.\n",
      "[16:13:49] WARNING: C:\\Windows\\Temp\\abs_557yfx631l\\croots\\recipe\\xgboost-split_1659548953302\\work\\src\\learner.cc:1115: Starting in XGBoost 1.3.0, the default evaluation metric used with the objective 'binary:logistic' was changed from 'error' to 'logloss'. Explicitly set eval_metric if you'd like to restore the old behavior.\n",
      "[16:13:49] WARNING: C:\\Windows\\Temp\\abs_557yfx631l\\croots\\recipe\\xgboost-split_1659548953302\\work\\src\\learner.cc:1115: Starting in XGBoost 1.3.0, the default evaluation metric used with the objective 'binary:logistic' was changed from 'error' to 'logloss'. Explicitly set eval_metric if you'd like to restore the old behavior.\n",
      "[16:13:49] WARNING: C:\\Windows\\Temp\\abs_557yfx631l\\croots\\recipe\\xgboost-split_1659548953302\\work\\src\\learner.cc:1115: Starting in XGBoost 1.3.0, the default evaluation metric used with the objective 'binary:logistic' was changed from 'error' to 'logloss'. Explicitly set eval_metric if you'd like to restore the old behavior.\n",
      "[16:13:50] WARNING: C:\\Windows\\Temp\\abs_557yfx631l\\croots\\recipe\\xgboost-split_1659548953302\\work\\src\\learner.cc:1115: Starting in XGBoost 1.3.0, the default evaluation metric used with the objective 'binary:logistic' was changed from 'error' to 'logloss'. Explicitly set eval_metric if you'd like to restore the old behavior.\n"
     ]
    },
    {
     "data": {
      "text/html": [
       "<div>\n",
       "<style scoped>\n",
       "    .dataframe tbody tr th:only-of-type {\n",
       "        vertical-align: middle;\n",
       "    }\n",
       "\n",
       "    .dataframe tbody tr th {\n",
       "        vertical-align: top;\n",
       "    }\n",
       "\n",
       "    .dataframe thead th {\n",
       "        text-align: right;\n",
       "    }\n",
       "</style>\n",
       "<table border=\"1\" class=\"dataframe\">\n",
       "  <thead>\n",
       "    <tr style=\"text-align: right;\">\n",
       "      <th></th>\n",
       "      <th>model</th>\n",
       "      <th>best_score</th>\n",
       "      <th>best_params</th>\n",
       "    </tr>\n",
       "  </thead>\n",
       "  <tbody>\n",
       "    <tr>\n",
       "      <th>0</th>\n",
       "      <td>linear_regression</td>\n",
       "      <td>-2.159164</td>\n",
       "      <td>{'normalize': True}</td>\n",
       "    </tr>\n",
       "    <tr>\n",
       "      <th>1</th>\n",
       "      <td>lasso</td>\n",
       "      <td>-0.014235</td>\n",
       "      <td>{'alpha': 1, 'selection': 'random'}</td>\n",
       "    </tr>\n",
       "    <tr>\n",
       "      <th>2</th>\n",
       "      <td>decision_tree</td>\n",
       "      <td>-0.723980</td>\n",
       "      <td>{'criterion': 'friedman_mse', 'splitter': 'best'}</td>\n",
       "    </tr>\n",
       "    <tr>\n",
       "      <th>3</th>\n",
       "      <td>XGBoost</td>\n",
       "      <td>0.784314</td>\n",
       "      <td>{'gamma': 0.5, 'max_depth': 5, 'min_child_weig...</td>\n",
       "    </tr>\n",
       "    <tr>\n",
       "      <th>4</th>\n",
       "      <td>LogisticRegression</td>\n",
       "      <td>0.776471</td>\n",
       "      <td>{'C': 0.0001, 'penalty': 'l1', 'solver': 'saga'}</td>\n",
       "    </tr>\n",
       "    <tr>\n",
       "      <th>5</th>\n",
       "      <td>RandomForestClassifier</td>\n",
       "      <td>0.772549</td>\n",
       "      <td>{'max_features': 'auto', 'n_estimators': 20}</td>\n",
       "    </tr>\n",
       "  </tbody>\n",
       "</table>\n",
       "</div>"
      ],
      "text/plain": [
       "                    model  best_score  \\\n",
       "0       linear_regression   -2.159164   \n",
       "1                   lasso   -0.014235   \n",
       "2           decision_tree   -0.723980   \n",
       "3                 XGBoost    0.784314   \n",
       "4      LogisticRegression    0.776471   \n",
       "5  RandomForestClassifier    0.772549   \n",
       "\n",
       "                                         best_params  \n",
       "0                                {'normalize': True}  \n",
       "1                {'alpha': 1, 'selection': 'random'}  \n",
       "2  {'criterion': 'friedman_mse', 'splitter': 'best'}  \n",
       "3  {'gamma': 0.5, 'max_depth': 5, 'min_child_weig...  \n",
       "4   {'C': 0.0001, 'penalty': 'l1', 'solver': 'saga'}  \n",
       "5       {'max_features': 'auto', 'n_estimators': 20}  "
      ]
     },
     "execution_count": 89,
     "metadata": {},
     "output_type": "execute_result"
    }
   ],
   "source": [
    "find_best_model_using_gridsearchcv(X_train, y_train)"
   ]
  },
  {
   "cell_type": "markdown",
   "metadata": {},
   "source": [
    "proceed with xgboost as classifier"
   ]
  },
  {
   "cell_type": "code",
   "execution_count": 90,
   "metadata": {},
   "outputs": [
    {
     "data": {
      "text/plain": [
       "XGBClassifier(base_score=None, booster=None, colsample_bylevel=None,\n",
       "              colsample_bynode=None, colsample_bytree=None,\n",
       "              enable_categorical=False, gamma=0.5, gpu_id=None,\n",
       "              importance_type=None, interaction_constraints=None,\n",
       "              learning_rate=None, max_delta_step=None, max_depth=5,\n",
       "              min_child_weight=5, missing=nan, monotone_constraints=None,\n",
       "              n_estimators=100, n_jobs=None, num_parallel_tree=None,\n",
       "              predictor=None, random_state=None, reg_alpha=None,\n",
       "              reg_lambda=None, scale_pos_weight=None, subsample=None,\n",
       "              tree_method=None, validate_parameters=None, verbosity=None)"
      ]
     },
     "execution_count": 90,
     "metadata": {},
     "output_type": "execute_result"
    }
   ],
   "source": [
    "model = XGBClassifier(gamma= 0.5, max_depth= 5, min_child_weight= 5)\n",
    "model"
   ]
  },
  {
   "cell_type": "code",
   "execution_count": 91,
   "metadata": {},
   "outputs": [
    {
     "name": "stdout",
     "output_type": "stream",
     "text": [
      "[16:14:39] WARNING: C:\\Windows\\Temp\\abs_557yfx631l\\croots\\recipe\\xgboost-split_1659548953302\\work\\src\\learner.cc:1115: Starting in XGBoost 1.3.0, the default evaluation metric used with the objective 'binary:logistic' was changed from 'error' to 'logloss'. Explicitly set eval_metric if you'd like to restore the old behavior.\n"
     ]
    },
    {
     "data": {
      "text/plain": [
       "array([1, 1, 1, 1, 1, 1, 1, 1, 1, 1, 1, 1, 1, 1, 1, 1, 1, 1, 1, 1, 1, 1,\n",
       "       1, 1, 1, 1, 1, 1, 1, 1, 1, 1, 1, 1, 1, 1, 1, 1, 1, 1, 1, 1, 1, 1,\n",
       "       1, 1, 1, 1, 1, 1, 1, 1, 1, 1, 1, 1, 1, 1, 1, 1, 1, 1, 1, 1],\n",
       "      dtype=int64)"
      ]
     },
     "execution_count": 91,
     "metadata": {},
     "output_type": "execute_result"
    }
   ],
   "source": [
    "model.fit(X_train, y_train)\n",
    "y_pred = model.predict(X_test)\n",
    "y_pred"
   ]
  },
  {
   "cell_type": "code",
   "execution_count": 92,
   "metadata": {},
   "outputs": [
    {
     "data": {
      "text/plain": [
       "0.796875"
      ]
     },
     "execution_count": 92,
     "metadata": {},
     "output_type": "execute_result"
    }
   ],
   "source": [
    "model.score(X_test, y_test)"
   ]
  },
  {
   "cell_type": "markdown",
   "metadata": {},
   "source": [
    "evaluate model with corss_val_score"
   ]
  },
  {
   "cell_type": "code",
   "execution_count": 93,
   "metadata": {},
   "outputs": [
    {
     "name": "stdout",
     "output_type": "stream",
     "text": [
      "[16:14:46] WARNING: C:\\Windows\\Temp\\abs_557yfx631l\\croots\\recipe\\xgboost-split_1659548953302\\work\\src\\learner.cc:1115: Starting in XGBoost 1.3.0, the default evaluation metric used with the objective 'binary:logistic' was changed from 'error' to 'logloss'. Explicitly set eval_metric if you'd like to restore the old behavior.\n",
      "[16:14:46] WARNING: C:\\Windows\\Temp\\abs_557yfx631l\\croots\\recipe\\xgboost-split_1659548953302\\work\\src\\learner.cc:1115: Starting in XGBoost 1.3.0, the default evaluation metric used with the objective 'binary:logistic' was changed from 'error' to 'logloss'. Explicitly set eval_metric if you'd like to restore the old behavior.\n",
      "[16:14:46] WARNING: C:\\Windows\\Temp\\abs_557yfx631l\\croots\\recipe\\xgboost-split_1659548953302\\work\\src\\learner.cc:1115: Starting in XGBoost 1.3.0, the default evaluation metric used with the objective 'binary:logistic' was changed from 'error' to 'logloss'. Explicitly set eval_metric if you'd like to restore the old behavior.\n",
      "[16:14:47] WARNING: C:\\Windows\\Temp\\abs_557yfx631l\\croots\\recipe\\xgboost-split_1659548953302\\work\\src\\learner.cc:1115: Starting in XGBoost 1.3.0, the default evaluation metric used with the objective 'binary:logistic' was changed from 'error' to 'logloss'. Explicitly set eval_metric if you'd like to restore the old behavior.\n",
      "[16:14:47] WARNING: C:\\Windows\\Temp\\abs_557yfx631l\\croots\\recipe\\xgboost-split_1659548953302\\work\\src\\learner.cc:1115: Starting in XGBoost 1.3.0, the default evaluation metric used with the objective 'binary:logistic' was changed from 'error' to 'logloss'. Explicitly set eval_metric if you'd like to restore the old behavior.\n",
      "[16:14:47] WARNING: C:\\Windows\\Temp\\abs_557yfx631l\\croots\\recipe\\xgboost-split_1659548953302\\work\\src\\learner.cc:1115: Starting in XGBoost 1.3.0, the default evaluation metric used with the objective 'binary:logistic' was changed from 'error' to 'logloss'. Explicitly set eval_metric if you'd like to restore the old behavior.\n",
      "[16:14:47] WARNING: C:\\Windows\\Temp\\abs_557yfx631l\\croots\\recipe\\xgboost-split_1659548953302\\work\\src\\learner.cc:1115: Starting in XGBoost 1.3.0, the default evaluation metric used with the objective 'binary:logistic' was changed from 'error' to 'logloss'. Explicitly set eval_metric if you'd like to restore the old behavior.\n",
      "[16:14:47] WARNING: C:\\Windows\\Temp\\abs_557yfx631l\\croots\\recipe\\xgboost-split_1659548953302\\work\\src\\learner.cc:1115: Starting in XGBoost 1.3.0, the default evaluation metric used with the objective 'binary:logistic' was changed from 'error' to 'logloss'. Explicitly set eval_metric if you'd like to restore the old behavior.\n",
      "[16:14:47] WARNING: C:\\Windows\\Temp\\abs_557yfx631l\\croots\\recipe\\xgboost-split_1659548953302\\work\\src\\learner.cc:1115: Starting in XGBoost 1.3.0, the default evaluation metric used with the objective 'binary:logistic' was changed from 'error' to 'logloss'. Explicitly set eval_metric if you'd like to restore the old behavior.\n",
      "[16:14:48] WARNING: C:\\Windows\\Temp\\abs_557yfx631l\\croots\\recipe\\xgboost-split_1659548953302\\work\\src\\learner.cc:1115: Starting in XGBoost 1.3.0, the default evaluation metric used with the objective 'binary:logistic' was changed from 'error' to 'logloss'. Explicitly set eval_metric if you'd like to restore the old behavior.\n"
     ]
    },
    {
     "data": {
      "text/plain": [
       "0.7666153846153845"
      ]
     },
     "execution_count": 93,
     "metadata": {},
     "output_type": "execute_result"
    }
   ],
   "source": [
    "from sklearn.model_selection import cross_val_score, KFold\n",
    "kfold = KFold(n_splits= 10)\n",
    "score = cross_val_score(model, X_train, y_train, cv= kfold)\n",
    "score.mean()"
   ]
  },
  {
   "cell_type": "markdown",
   "metadata": {},
   "source": [
    "confusion matrix and classification report"
   ]
  },
  {
   "cell_type": "code",
   "execution_count": 94,
   "metadata": {},
   "outputs": [
    {
     "name": "stdout",
     "output_type": "stream",
     "text": [
      "              precision    recall  f1-score   support\n",
      "\n",
      "           1       0.80      1.00      0.89        51\n",
      "           2       0.00      0.00      0.00        13\n",
      "\n",
      "    accuracy                           0.80        64\n",
      "   macro avg       0.40      0.50      0.44        64\n",
      "weighted avg       0.64      0.80      0.71        64\n",
      "\n"
     ]
    }
   ],
   "source": [
    "from sklearn.metrics import confusion_matrix, classification_report\n",
    "\n",
    "print(classification_report(y_test, y_pred))"
   ]
  },
  {
   "cell_type": "code",
   "execution_count": 95,
   "metadata": {},
   "outputs": [
    {
     "data": {
      "text/plain": [
       "array([[51,  0],\n",
       "       [13,  0]], dtype=int64)"
      ]
     },
     "execution_count": 95,
     "metadata": {},
     "output_type": "execute_result"
    }
   ],
   "source": [
    "cm = confusion_matrix(y_test, y_pred)\n",
    "cm"
   ]
  },
  {
   "cell_type": "code",
   "execution_count": 96,
   "metadata": {},
   "outputs": [
    {
     "data": {
      "text/plain": [
       "Text(108.22222222222221, 0.5, 'Truth')"
      ]
     },
     "execution_count": 96,
     "metadata": {},
     "output_type": "execute_result"
    },
    {
     "data": {
      "image/png": "[encoded data removed]",
      "text/plain": [
       "<Figure size 1100x900 with 2 Axes>"
      ]
     },
     "metadata": {},
     "output_type": "display_data"
    }
   ],
   "source": [
    "import seaborn as sn\n",
    "plt.figure(figsize = (11, 9))\n",
    "sn.heatmap(cm, annot= True, fmt= 'd')\n",
    "plt.xlabel(\"Predicted\")\n",
    "plt.ylabel(\"Truth\")"
   ]
  },
  {
   "cell_type": "markdown",
   "metadata": {},
   "source": [
    "we might want to create a prediction function"
   ]
  },
  {
   "cell_type": "code",
   "execution_count": 98,
   "metadata": {},
   "outputs": [
    {
     "data": {
      "text/plain": [
       "(64, 12)"
      ]
     },
     "execution_count": 98,
     "metadata": {},
     "output_type": "execute_result"
    }
   ],
   "source": [
    "\n",
    "X_test.shape"
   ]
  },
  {
   "cell_type": "code",
   "execution_count": 101,
   "metadata": {},
   "outputs": [
    {
     "data": {
      "text/plain": [
       "array([[ 3.6000e+01,  1.0000e+00,  8.0353e-02,  4.2638e-01,  5.4715e-01,\n",
       "         2.7368e-01,  3.0000e+00,  1.0000e+00,  1.0000e+00,  1.0000e+00,\n",
       "         2.0000e+00,  2.0000e+00],\n",
       "       [ 4.3000e+01,  1.0000e+00, -4.2032e-01,  5.7807e-01,  6.1447e-01,\n",
       "        -3.1505e-02,  2.0000e+00,  3.0000e+00,  1.0000e+00,  1.0000e+00,\n",
       "         2.0000e+00,  3.0000e+00],\n",
       "       [ 6.9000e+01,  1.0000e+00,  2.1398e-01,  1.3114e+00, -3.2747e-01,\n",
       "        -2.3426e-01,  3.0000e+00,  1.0000e+00,  1.0000e+00,  1.0000e+00,\n",
       "         2.0000e+00,  1.0000e+00],\n",
       "       [ 5.6000e+01,  1.0000e+00,  3.4509e-01, -2.1147e-01, -1.9304e-01,\n",
       "         1.2427e-01,  2.0000e+00,  1.0000e+00,  1.0000e+00,  1.0000e+00,\n",
       "         2.0000e+00,  2.0000e+00],\n",
       "       [ 5.6000e+01,  1.0000e+00,  2.2155e-01,  1.9068e+00,  5.2045e-01,\n",
       "        -3.1199e-01,  2.0000e+00,  1.0000e+00,  1.0000e+00,  1.0000e+00,\n",
       "         2.0000e+00,  1.0000e+00]])"
      ]
     },
     "execution_count": 101,
     "metadata": {},
     "output_type": "execute_result"
    }
   ],
   "source": [
    "X[:5]"
   ]
  },
  {
   "cell_type": "code",
   "execution_count": 105,
   "metadata": {},
   "outputs": [],
   "source": [
    "def predict_survival(age, gender, p1, p2,  p3, p4, ts, Histology, er, pr, her2, st):\n",
    "    features = [[age, gender, p1, p2,  p3, p4, ts, Histology, er, pr, her2, st]]\n",
    "\n",
    "    pred = model.predict(features)[0]\n",
    "\n",
    "    if pred == 1:\n",
    "        print(\"Alive\")\n",
    "    else:\n",
    "        print(\"Dead\")\n"
   ]
  },
  {
   "cell_type": "code",
   "execution_count": 106,
   "metadata": {},
   "outputs": [
    {
     "name": "stdout",
     "output_type": "stream",
     "text": [
      "Alive\n"
     ]
    }
   ],
   "source": [
    "predict_survival(36, 1, 0.080353, 0.42638, 0.54715, 0.273680, 3, 1, 1 , 1, 2, 2)"
   ]
  },
  {
   "cell_type": "markdown",
   "metadata": {},
   "source": [
    "export model to pickle file"
   ]
  },
  {
   "cell_type": "code",
   "execution_count": 107,
   "metadata": {},
   "outputs": [],
   "source": [
    "import pickle\n",
    "with open(\"cancer.pickel\", \"wb\") as f:\n",
    "    pickle.dump(model, f)"
   ]
  }
 ],
 "metadata": {
  "kernelspec": {
   "display_name": "Python 3.9.15 ('base')",
   "language": "python",
   "name": "python3"
  },
  "language_info": {
   "codemirror_mode": {
    "name": "ipython",
    "version": 3
   },
   "file_extension": ".py",
   "mimetype": "text/x-python",
   "name": "python",
   "nbconvert_exporter": "python",
   "pygments_lexer": "ipython3",
   "version": "3.9.15"
  },
  "orig_nbformat": 4,
  "vscode": {
   "interpreter": {
    "hash": "57bc2b6ce032b5f0e93daa91901b7ea38a856826ef43aa9e95b6d3999f5310df"
   }
  }
 },
 "nbformat": 4,
 "nbformat_minor": 2
}
