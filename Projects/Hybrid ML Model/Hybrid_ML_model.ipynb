{
  "cells": [
    {
      "cell_type": "markdown",
      "metadata": {
        "id": "xsbufb2a4z8l"
      },
      "source": [
        "Hybrid machine learning models combine multiple algorithms to enhance predictive performance and robustness by leveraging their unique strengths. These models are particularly useful when a single algorithm cannot capture the complexity of the data, such as sequential patterns or broader trends. For example, combining LSTM for sequence learning with Linear Regression for trend analysis can improve results. The need for a hybrid approach arises when single models show poor performance based on metrics, as combining different models can address diverse data patterns effectively."
      ]
    },
    {
      "cell_type": "code",
      "execution_count": 1,
      "metadata": {
        "colab": {
          "base_uri": "https://localhost:8080/",
          "height": 206
        },
        "id": "aJbfbSsw4z8s",
        "outputId": "d8c51a17-f089-4305-acac-68d711181482"
      },
      "outputs": [
        {
          "data": {
            "text/html": [
              "<div>\n",
              "<style scoped>\n",
              "    .dataframe tbody tr th:only-of-type {\n",
              "        vertical-align: middle;\n",
              "    }\n",
              "\n",
              "    .dataframe tbody tr th {\n",
              "        vertical-align: top;\n",
              "    }\n",
              "\n",
              "    .dataframe thead th {\n",
              "        text-align: right;\n",
              "    }\n",
              "</style>\n",
              "<table border=\"1\" class=\"dataframe\">\n",
              "  <thead>\n",
              "    <tr style=\"text-align: right;\">\n",
              "      <th></th>\n",
              "      <th>Date</th>\n",
              "      <th>Open</th>\n",
              "      <th>High</th>\n",
              "      <th>Low</th>\n",
              "      <th>Close</th>\n",
              "      <th>Volume</th>\n",
              "    </tr>\n",
              "  </thead>\n",
              "  <tbody>\n",
              "    <tr>\n",
              "      <th>0</th>\n",
              "      <td>12/29/23</td>\n",
              "      <td>14.00</td>\n",
              "      <td>14.0</td>\n",
              "      <td>13.8</td>\n",
              "      <td>13.90</td>\n",
              "      <td>396700</td>\n",
              "    </tr>\n",
              "    <tr>\n",
              "      <th>1</th>\n",
              "      <td>12/28/23</td>\n",
              "      <td>13.90</td>\n",
              "      <td>14.1</td>\n",
              "      <td>13.6</td>\n",
              "      <td>13.70</td>\n",
              "      <td>5262500</td>\n",
              "    </tr>\n",
              "    <tr>\n",
              "      <th>2</th>\n",
              "      <td>12/27/23</td>\n",
              "      <td>13.55</td>\n",
              "      <td>14.0</td>\n",
              "      <td>13.5</td>\n",
              "      <td>13.60</td>\n",
              "      <td>14199200</td>\n",
              "    </tr>\n",
              "    <tr>\n",
              "      <th>3</th>\n",
              "      <td>12/22/23</td>\n",
              "      <td>13.80</td>\n",
              "      <td>13.8</td>\n",
              "      <td>13.5</td>\n",
              "      <td>13.55</td>\n",
              "      <td>1740200</td>\n",
              "    </tr>\n",
              "    <tr>\n",
              "      <th>4</th>\n",
              "      <td>12/21/23</td>\n",
              "      <td>13.80</td>\n",
              "      <td>13.8</td>\n",
              "      <td>13.5</td>\n",
              "      <td>13.55</td>\n",
              "      <td>5824300</td>\n",
              "    </tr>\n",
              "  </tbody>\n",
              "</table>\n",
              "</div>"
            ],
            "text/plain": [
              "       Date   Open   High   Low   Close    Volume\n",
              "0  12/29/23  14.00   14.0  13.8   13.90    396700\n",
              "1  12/28/23  13.90   14.1  13.6   13.70   5262500\n",
              "2  12/27/23  13.55   14.0  13.5   13.60  14199200\n",
              "3  12/22/23  13.80   13.8  13.5   13.55   1740200\n",
              "4  12/21/23  13.80   13.8  13.5   13.55   5824300"
            ]
          },
          "execution_count": 1,
          "metadata": {},
          "output_type": "execute_result"
        }
      ],
      "source": [
        "import pandas as pd\n",
        "data = pd.read_csv(\"./SAFCOM.csv\")\n",
        "data.head()"
      ]
    },
    {
      "cell_type": "code",
      "execution_count": 2,
      "metadata": {
        "colab": {
          "base_uri": "https://localhost:8080/",
          "height": 272
        },
        "id": "buV4g6PA4z8t",
        "outputId": "a451c0b6-0a3f-4ca6-8421-8c9936c10bcd"
      },
      "outputs": [
        {
          "name": "stderr",
          "output_type": "stream",
          "text": [
            "C:\\Users\\HomePC\\AppData\\Local\\Temp\\ipykernel_5548\\1563659779.py:2: UserWarning: Could not infer format, so each element will be parsed individually, falling back to `dateutil`. To ensure parsing is consistent and as-expected, please specify a format.\n",
            "  data[\"Date\"] = pd.to_datetime(data['Date'])\n"
          ]
        },
        {
          "data": {
            "text/html": [
              "<div>\n",
              "<style scoped>\n",
              "    .dataframe tbody tr th:only-of-type {\n",
              "        vertical-align: middle;\n",
              "    }\n",
              "\n",
              "    .dataframe tbody tr th {\n",
              "        vertical-align: top;\n",
              "    }\n",
              "\n",
              "    .dataframe thead th {\n",
              "        text-align: right;\n",
              "    }\n",
              "</style>\n",
              "<table border=\"1\" class=\"dataframe\">\n",
              "  <thead>\n",
              "    <tr style=\"text-align: right;\">\n",
              "      <th></th>\n",
              "      <th>Open</th>\n",
              "      <th>High</th>\n",
              "      <th>Low</th>\n",
              "      <th>Close</th>\n",
              "      <th>Volume</th>\n",
              "    </tr>\n",
              "    <tr>\n",
              "      <th>Date</th>\n",
              "      <th></th>\n",
              "      <th></th>\n",
              "      <th></th>\n",
              "      <th></th>\n",
              "      <th></th>\n",
              "    </tr>\n",
              "  </thead>\n",
              "  <tbody>\n",
              "    <tr>\n",
              "      <th>2023-12-29</th>\n",
              "      <td>14.00</td>\n",
              "      <td>14.0</td>\n",
              "      <td>13.8</td>\n",
              "      <td>13.90</td>\n",
              "      <td>396700</td>\n",
              "    </tr>\n",
              "    <tr>\n",
              "      <th>2023-12-28</th>\n",
              "      <td>13.90</td>\n",
              "      <td>14.1</td>\n",
              "      <td>13.6</td>\n",
              "      <td>13.70</td>\n",
              "      <td>5262500</td>\n",
              "    </tr>\n",
              "    <tr>\n",
              "      <th>2023-12-27</th>\n",
              "      <td>13.55</td>\n",
              "      <td>14.0</td>\n",
              "      <td>13.5</td>\n",
              "      <td>13.60</td>\n",
              "      <td>14199200</td>\n",
              "    </tr>\n",
              "    <tr>\n",
              "      <th>2023-12-22</th>\n",
              "      <td>13.80</td>\n",
              "      <td>13.8</td>\n",
              "      <td>13.5</td>\n",
              "      <td>13.55</td>\n",
              "      <td>1740200</td>\n",
              "    </tr>\n",
              "    <tr>\n",
              "      <th>2023-12-21</th>\n",
              "      <td>13.80</td>\n",
              "      <td>13.8</td>\n",
              "      <td>13.5</td>\n",
              "      <td>13.55</td>\n",
              "      <td>5824300</td>\n",
              "    </tr>\n",
              "  </tbody>\n",
              "</table>\n",
              "</div>"
            ],
            "text/plain": [
              "             Open  High   Low  Close    Volume\n",
              "Date                                          \n",
              "2023-12-29  14.00  14.0  13.8  13.90    396700\n",
              "2023-12-28  13.90  14.1  13.6  13.70   5262500\n",
              "2023-12-27  13.55  14.0  13.5  13.60  14199200\n",
              "2023-12-22  13.80  13.8  13.5  13.55   1740200\n",
              "2023-12-21  13.80  13.8  13.5  13.55   5824300"
            ]
          },
          "execution_count": 2,
          "metadata": {},
          "output_type": "execute_result"
        }
      ],
      "source": [
        "# converting date column to datetime type\n",
        "data[\"Date\"] = pd.to_datetime(data['Date'])\n",
        "data.set_index('Date', inplace= True)\n",
        "data.head()"
      ]
    },
    {
      "cell_type": "code",
      "execution_count": 3,
      "metadata": {
        "colab": {
          "base_uri": "https://localhost:8080/"
        },
        "id": "M15KpBGr4z8u",
        "outputId": "54e12465-e6a2-4fcd-c254-6204770c2ff2"
      },
      "outputs": [
        {
          "data": {
            "text/plain": [
              "Index([' Open', ' High', ' Low', ' Close', ' Volume'], dtype='object')"
            ]
          },
          "execution_count": 3,
          "metadata": {},
          "output_type": "execute_result"
        }
      ],
      "source": [
        "data.columns"
      ]
    },
    {
      "cell_type": "code",
      "execution_count": 4,
      "metadata": {
        "id": "5QhhX1VR4z8u"
      },
      "outputs": [],
      "source": [
        "close = data[[' Close']]"
      ]
    },
    {
      "cell_type": "code",
      "execution_count": 5,
      "metadata": {
        "colab": {
          "base_uri": "https://localhost:8080/",
          "height": 238
        },
        "id": "ary2tOmS4z8u",
        "outputId": "4809e0ad-d26a-4414-fbec-13669edccd4e"
      },
      "outputs": [
        {
          "data": {
            "text/html": [
              "<div>\n",
              "<style scoped>\n",
              "    .dataframe tbody tr th:only-of-type {\n",
              "        vertical-align: middle;\n",
              "    }\n",
              "\n",
              "    .dataframe tbody tr th {\n",
              "        vertical-align: top;\n",
              "    }\n",
              "\n",
              "    .dataframe thead th {\n",
              "        text-align: right;\n",
              "    }\n",
              "</style>\n",
              "<table border=\"1\" class=\"dataframe\">\n",
              "  <thead>\n",
              "    <tr style=\"text-align: right;\">\n",
              "      <th></th>\n",
              "      <th>Close</th>\n",
              "    </tr>\n",
              "    <tr>\n",
              "      <th>Date</th>\n",
              "      <th></th>\n",
              "    </tr>\n",
              "  </thead>\n",
              "  <tbody>\n",
              "    <tr>\n",
              "      <th>2023-12-29</th>\n",
              "      <td>13.90</td>\n",
              "    </tr>\n",
              "    <tr>\n",
              "      <th>2023-12-28</th>\n",
              "      <td>13.70</td>\n",
              "    </tr>\n",
              "    <tr>\n",
              "      <th>2023-12-27</th>\n",
              "      <td>13.60</td>\n",
              "    </tr>\n",
              "    <tr>\n",
              "      <th>2023-12-22</th>\n",
              "      <td>13.55</td>\n",
              "    </tr>\n",
              "    <tr>\n",
              "      <th>2023-12-21</th>\n",
              "      <td>13.55</td>\n",
              "    </tr>\n",
              "  </tbody>\n",
              "</table>\n",
              "</div>"
            ],
            "text/plain": [
              "            Close\n",
              "Date             \n",
              "2023-12-29  13.90\n",
              "2023-12-28  13.70\n",
              "2023-12-27  13.60\n",
              "2023-12-22  13.55\n",
              "2023-12-21  13.55"
            ]
          },
          "execution_count": 5,
          "metadata": {},
          "output_type": "execute_result"
        }
      ],
      "source": [
        "close.head()"
      ]
    },
    {
      "cell_type": "code",
      "execution_count": 6,
      "metadata": {
        "colab": {
          "base_uri": "https://localhost:8080/"
        },
        "id": "TA-Xe6Cw4z8v",
        "outputId": "26102bd9-9205-4bfb-fa34-544cb9c712be"
      },
      "outputs": [
        {
          "data": {
            "text/plain": [
              "Index([' Close'], dtype='object')"
            ]
          },
          "execution_count": 6,
          "metadata": {},
          "output_type": "execute_result"
        }
      ],
      "source": [
        "close.columns"
      ]
    },
    {
      "cell_type": "markdown",
      "metadata": {
        "id": "7PAdrTRp4z8v"
      },
      "source": [
        "## Choosing the Hybrid Models\n"
      ]
    },
    {
      "cell_type": "markdown",
      "metadata": {
        "id": "8h_kZP1E4z8v"
      },
      "source": [
        "The approach involves using LSTM (Long Short-Term Memory) and Linear Regression models to create a hybrid system. LSTM was selected for its ability to capture sequential dependencies and patterns in time-series data, making it well-suited for modeling stock price movements influenced by historical trends. Linear Regression, being a simple model, is used to capture linear relationships and long-term trends in the data. By combining these models, the aim is to balance LSTM's ability to model complex time-dependent patterns with Linear Regression’s focus on broader trends, resulting in a more accurate prediction system. The Close price data is scaled between 0 and 1 using MinMaxScaler to ensure compatibility with the LSTM model."
      ]
    },
    {
      "cell_type": "markdown",
      "metadata": {
        "id": "84uQopYB4z8v"
      },
      "source": [
        "scale the Close price data between 0 and 1 using MinMaxScaler to ensure compatibility with the LSTM model"
      ]
    },
    {
      "cell_type": "code",
      "execution_count": 7,
      "metadata": {
        "colab": {
          "base_uri": "https://localhost:8080/",
          "height": 342
        },
        "id": "V8u17PKJ4z8v",
        "outputId": "0ffca62b-6f8a-45bd-ad97-f670460f15f7"
      },
      "outputs": [
        {
          "name": "stderr",
          "output_type": "stream",
          "text": [
            "C:\\Users\\HomePC\\AppData\\Local\\Temp\\ipykernel_5548\\3724650495.py:3: SettingWithCopyWarning: \n",
            "A value is trying to be set on a copy of a slice from a DataFrame.\n",
            "Try using .loc[row_indexer,col_indexer] = value instead\n",
            "\n",
            "See the caveats in the documentation: https://pandas.pydata.org/pandas-docs/stable/user_guide/indexing.html#returning-a-view-versus-a-copy\n",
            "  close[' Close'] = scaler.fit_transform(close[[' Close']])\n"
          ]
        },
        {
          "data": {
            "text/html": [
              "<div>\n",
              "<style scoped>\n",
              "    .dataframe tbody tr th:only-of-type {\n",
              "        vertical-align: middle;\n",
              "    }\n",
              "\n",
              "    .dataframe tbody tr th {\n",
              "        vertical-align: top;\n",
              "    }\n",
              "\n",
              "    .dataframe thead th {\n",
              "        text-align: right;\n",
              "    }\n",
              "</style>\n",
              "<table border=\"1\" class=\"dataframe\">\n",
              "  <thead>\n",
              "    <tr style=\"text-align: right;\">\n",
              "      <th></th>\n",
              "      <th>Close</th>\n",
              "    </tr>\n",
              "    <tr>\n",
              "      <th>Date</th>\n",
              "      <th></th>\n",
              "    </tr>\n",
              "  </thead>\n",
              "  <tbody>\n",
              "    <tr>\n",
              "      <th>2023-12-29</th>\n",
              "      <td>0.175097</td>\n",
              "    </tr>\n",
              "    <tr>\n",
              "      <th>2023-12-28</th>\n",
              "      <td>0.159533</td>\n",
              "    </tr>\n",
              "    <tr>\n",
              "      <th>2023-12-27</th>\n",
              "      <td>0.151751</td>\n",
              "    </tr>\n",
              "    <tr>\n",
              "      <th>2023-12-22</th>\n",
              "      <td>0.147860</td>\n",
              "    </tr>\n",
              "    <tr>\n",
              "      <th>2023-12-21</th>\n",
              "      <td>0.147860</td>\n",
              "    </tr>\n",
              "  </tbody>\n",
              "</table>\n",
              "</div>"
            ],
            "text/plain": [
              "               Close\n",
              "Date                \n",
              "2023-12-29  0.175097\n",
              "2023-12-28  0.159533\n",
              "2023-12-27  0.151751\n",
              "2023-12-22  0.147860\n",
              "2023-12-21  0.147860"
            ]
          },
          "execution_count": 7,
          "metadata": {},
          "output_type": "execute_result"
        }
      ],
      "source": [
        "from sklearn.preprocessing import MinMaxScaler\n",
        "scaler = MinMaxScaler(feature_range= (0,1))\n",
        "close[' Close'] = scaler.fit_transform(close[[' Close']])\n",
        "close.head()"
      ]
    },
    {
      "cell_type": "markdown",
      "metadata": {
        "id": "SoDcOm2H4z8w"
      },
      "source": [
        "prepare the data for LSTM by creating sequences of a defined length (e.g., 60 days) to predict the next day’s price:"
      ]
    },
    {
      "cell_type": "code",
      "execution_count": 8,
      "metadata": {
        "colab": {
          "base_uri": "https://localhost:8080/"
        },
        "id": "ZXPq5K7c4z8w",
        "outputId": "5e20891f-959d-44f8-ab39-39a093772ca8"
      },
      "outputs": [
        {
          "data": {
            "text/plain": [
              "(187, 60)"
            ]
          },
          "execution_count": 8,
          "metadata": {},
          "output_type": "execute_result"
        }
      ],
      "source": [
        "import numpy as np\n",
        "def sequences(data, length= 60):\n",
        "    X, y = [], []\n",
        "    for i in range(len(data) - length):\n",
        "        X.append(data[i:i+length])\n",
        "        y.append(data[i+length])\n",
        "    return np.array(X), np.array(y)\n",
        "\n",
        "sequence_length = 60\n",
        "X, y = sequences(close[' Close'].values, sequence_length)\n",
        "X.shape\n"
      ]
    },
    {
      "cell_type": "code",
      "execution_count": 9,
      "metadata": {
        "colab": {
          "base_uri": "https://localhost:8080/"
        },
        "id": "wH2hHrP44z8w",
        "outputId": "10af605e-54ad-468d-af43-ead3c893c163"
      },
      "outputs": [
        {
          "data": {
            "text/plain": [
              "(187,)"
            ]
          },
          "execution_count": 9,
          "metadata": {},
          "output_type": "execute_result"
        }
      ],
      "source": [
        "y.shape"
      ]
    },
    {
      "cell_type": "markdown",
      "metadata": {
        "id": "I5J-Xez04z8w"
      },
      "source": [
        "split the sequences into training and test sets (e.g., 80% training, 20% testing):"
      ]
    },
    {
      "cell_type": "code",
      "execution_count": 10,
      "metadata": {
        "id": "sCxIa-dv4z8x"
      },
      "outputs": [],
      "source": [
        "train_size = int(len(X) * 0.8)\n",
        "X_train, X_test = X[:train_size], X[train_size:]\n",
        "y_train, y_test = y[:train_size], y[train_size:]"
      ]
    },
    {
      "cell_type": "markdown",
      "metadata": {
        "id": "EEGv2H8R4z8x"
      },
      "source": [
        "build a sequential LSTM model with layers to capture the temporal dependencies in the data:"
      ]
    },
    {
      "cell_type": "code",
      "execution_count": 12,
      "metadata": {
        "colab": {
          "base_uri": "https://localhost:8080/"
        },
        "id": "xB86ZYA54z8x",
        "outputId": "e9181231-ce1c-4bcf-a9bd-2a83a37e41c2"
      },
      "outputs": [
        {
          "name": "stderr",
          "output_type": "stream",
          "text": [
            "c:\\Users\\HomePC\\anaconda3\\Lib\\site-packages\\keras\\src\\layers\\rnn\\rnn.py:200: UserWarning: Do not pass an `input_shape`/`input_dim` argument to a layer. When using Sequential models, prefer using an `Input(shape)` object as the first layer in the model instead.\n",
            "  super().__init__(**kwargs)\n"
          ]
        }
      ],
      "source": [
        "from tensorflow.keras.models import Sequential\n",
        "from tensorflow.keras.layers import LSTM, Dense\n",
        "\n",
        "\n",
        "model = Sequential()\n",
        "model.add(LSTM(50, return_sequences= True, input_shape= (X_train.shape[1], 1)))\n",
        "model.add(LSTM(50))\n",
        "model.add(Dense(1))"
      ]
    },
    {
      "cell_type": "code",
      "execution_count": 13,
      "metadata": {
        "colab": {
          "base_uri": "https://localhost:8080/"
        },
        "id": "Lzl9CIrT5F2W",
        "outputId": "9942b473-00cf-4bba-ddf2-1f08dd3532a6"
      },
      "outputs": [
        {
          "name": "stdout",
          "output_type": "stream",
          "text": [
            "Epoch 1/20\n",
            "\u001b[1m5/5\u001b[0m \u001b[32m━━━━━━━━━━━━━━━━━━━━\u001b[0m\u001b[37m\u001b[0m \u001b[1m3s\u001b[0m 29ms/step - loss: 0.0735\n",
            "Epoch 2/20\n",
            "\u001b[1m5/5\u001b[0m \u001b[32m━━━━━━━━━━━━━━━━━━━━\u001b[0m\u001b[37m\u001b[0m \u001b[1m0s\u001b[0m 26ms/step - loss: 0.0296\n",
            "Epoch 3/20\n",
            "\u001b[1m5/5\u001b[0m \u001b[32m━━━━━━━━━━━━━━━━━━━━\u001b[0m\u001b[37m\u001b[0m \u001b[1m0s\u001b[0m 27ms/step - loss: 0.0118\n",
            "Epoch 4/20\n",
            "\u001b[1m5/5\u001b[0m \u001b[32m━━━━━━━━━━━━━━━━━━━━\u001b[0m\u001b[37m\u001b[0m \u001b[1m0s\u001b[0m 30ms/step - loss: 0.0180\n",
            "Epoch 5/20\n",
            "\u001b[1m5/5\u001b[0m \u001b[32m━━━━━━━━━━━━━━━━━━━━\u001b[0m\u001b[37m\u001b[0m \u001b[1m0s\u001b[0m 41ms/step - loss: 0.0104\n",
            "Epoch 6/20\n",
            "\u001b[1m5/5\u001b[0m \u001b[32m━━━━━━━━━━━━━━━━━━━━\u001b[0m\u001b[37m\u001b[0m \u001b[1m0s\u001b[0m 27ms/step - loss: 0.0127\n",
            "Epoch 7/20\n",
            "\u001b[1m5/5\u001b[0m \u001b[32m━━━━━━━━━━━━━━━━━━━━\u001b[0m\u001b[37m\u001b[0m \u001b[1m0s\u001b[0m 29ms/step - loss: 0.0099\n",
            "Epoch 8/20\n",
            "\u001b[1m5/5\u001b[0m \u001b[32m━━━━━━━━━━━━━━━━━━━━\u001b[0m\u001b[37m\u001b[0m \u001b[1m0s\u001b[0m 30ms/step - loss: 0.0102\n",
            "Epoch 9/20\n",
            "\u001b[1m5/5\u001b[0m \u001b[32m━━━━━━━━━━━━━━━━━━━━\u001b[0m\u001b[37m\u001b[0m \u001b[1m0s\u001b[0m 30ms/step - loss: 0.0096\n",
            "Epoch 10/20\n",
            "\u001b[1m5/5\u001b[0m \u001b[32m━━━━━━━━━━━━━━━━━━━━\u001b[0m\u001b[37m\u001b[0m \u001b[1m0s\u001b[0m 32ms/step - loss: 0.0087\n",
            "Epoch 11/20\n",
            "\u001b[1m5/5\u001b[0m \u001b[32m━━━━━━━━━━━━━━━━━━━━\u001b[0m\u001b[37m\u001b[0m \u001b[1m0s\u001b[0m 29ms/step - loss: 0.0071\n",
            "Epoch 12/20\n",
            "\u001b[1m5/5\u001b[0m \u001b[32m━━━━━━━━━━━━━━━━━━━━\u001b[0m\u001b[37m\u001b[0m \u001b[1m0s\u001b[0m 28ms/step - loss: 0.0086\n",
            "Epoch 13/20\n",
            "\u001b[1m5/5\u001b[0m \u001b[32m━━━━━━━━━━━━━━━━━━━━\u001b[0m\u001b[37m\u001b[0m \u001b[1m0s\u001b[0m 28ms/step - loss: 0.0083\n",
            "Epoch 14/20\n",
            "\u001b[1m5/5\u001b[0m \u001b[32m━━━━━━━━━━━━━━━━━━━━\u001b[0m\u001b[37m\u001b[0m \u001b[1m0s\u001b[0m 25ms/step - loss: 0.0072\n",
            "Epoch 15/20\n",
            "\u001b[1m5/5\u001b[0m \u001b[32m━━━━━━━━━━━━━━━━━━━━\u001b[0m\u001b[37m\u001b[0m \u001b[1m0s\u001b[0m 27ms/step - loss: 0.0073\n",
            "Epoch 16/20\n",
            "\u001b[1m5/5\u001b[0m \u001b[32m━━━━━━━━━━━━━━━━━━━━\u001b[0m\u001b[37m\u001b[0m \u001b[1m0s\u001b[0m 26ms/step - loss: 0.0078\n",
            "Epoch 17/20\n",
            "\u001b[1m5/5\u001b[0m \u001b[32m━━━━━━━━━━━━━━━━━━━━\u001b[0m\u001b[37m\u001b[0m \u001b[1m0s\u001b[0m 29ms/step - loss: 0.0078\n",
            "Epoch 18/20\n",
            "\u001b[1m5/5\u001b[0m \u001b[32m━━━━━━━━━━━━━━━━━━━━\u001b[0m\u001b[37m\u001b[0m \u001b[1m0s\u001b[0m 34ms/step - loss: 0.0073\n",
            "Epoch 19/20\n",
            "\u001b[1m5/5\u001b[0m \u001b[32m━━━━━━━━━━━━━━━━━━━━\u001b[0m\u001b[37m\u001b[0m \u001b[1m0s\u001b[0m 28ms/step - loss: 0.0076\n",
            "Epoch 20/20\n",
            "\u001b[1m5/5\u001b[0m \u001b[32m━━━━━━━━━━━━━━━━━━━━\u001b[0m\u001b[37m\u001b[0m \u001b[1m0s\u001b[0m 26ms/step - loss: 0.0066\n"
          ]
        },
        {
          "data": {
            "text/plain": [
              "<keras.src.callbacks.history.History at 0x23977ddfc50>"
            ]
          },
          "execution_count": 13,
          "metadata": {},
          "output_type": "execute_result"
        }
      ],
      "source": [
        "model.compile(optimizer= 'adam', loss= 'mean_squared_error')\n",
        "model.fit(X_train, y_train, epochs= 20, batch_size= 32)\n"
      ]
    },
    {
      "cell_type": "markdown",
      "metadata": {
        "id": "FYfsMWkY5qfI"
      },
      "source": [
        "let’s train the second model. Start by generating lagged features for Linear Regression (e.g., using the past 3 days as predictors):"
      ]
    },
    {
      "cell_type": "code",
      "execution_count": 14,
      "metadata": {
        "id": "QG0pVTz25iH0"
      },
      "outputs": [],
      "source": [
        "data = pd.DataFrame(close[' Close'])  # Reset `data` to avoid conflicts\n",
        "data['Lag_1'] = data[' Close'].shift(1)\n",
        "data['Lag_2'] = data[' Close'].shift(2)\n",
        "data['Lag_3'] = data[' Close'].shift(3)\n",
        "data = data.dropna()"
      ]
    },
    {
      "cell_type": "code",
      "execution_count": 15,
      "metadata": {
        "id": "vzIUIbx-6gK6"
      },
      "outputs": [],
      "source": [
        "X_lin = data[['Lag_1', 'Lag_2', 'Lag_3']]\n",
        "y_lin = data[' Close']\n",
        "X_train_lin, X_test_lin = X_lin[:train_size], X_lin[train_size:]\n",
        "y_train_lin, y_test_lin = y_lin[:train_size], y_lin[train_size:]"
      ]
    },
    {
      "cell_type": "code",
      "execution_count": 16,
      "metadata": {
        "colab": {
          "base_uri": "https://localhost:8080/",
          "height": 81
        },
        "id": "Ou2GcjC_68rW",
        "outputId": "ba06010f-7419-4c70-c586-7809f5ef93f0"
      },
      "outputs": [
        {
          "data": {
            "text/html": [
              "<style>#sk-container-id-1 {\n",
              "  /* Definition of color scheme common for light and dark mode */\n",
              "  --sklearn-color-text: black;\n",
              "  --sklearn-color-line: gray;\n",
              "  /* Definition of color scheme for unfitted estimators */\n",
              "  --sklearn-color-unfitted-level-0: #fff5e6;\n",
              "  --sklearn-color-unfitted-level-1: #f6e4d2;\n",
              "  --sklearn-color-unfitted-level-2: #ffe0b3;\n",
              "  --sklearn-color-unfitted-level-3: chocolate;\n",
              "  /* Definition of color scheme for fitted estimators */\n",
              "  --sklearn-color-fitted-level-0: #f0f8ff;\n",
              "  --sklearn-color-fitted-level-1: #d4ebff;\n",
              "  --sklearn-color-fitted-level-2: #b3dbfd;\n",
              "  --sklearn-color-fitted-level-3: cornflowerblue;\n",
              "\n",
              "  /* Specific color for light theme */\n",
              "  --sklearn-color-text-on-default-background: var(--sg-text-color, var(--theme-code-foreground, var(--jp-content-font-color1, black)));\n",
              "  --sklearn-color-background: var(--sg-background-color, var(--theme-background, var(--jp-layout-color0, white)));\n",
              "  --sklearn-color-border-box: var(--sg-text-color, var(--theme-code-foreground, var(--jp-content-font-color1, black)));\n",
              "  --sklearn-color-icon: #696969;\n",
              "\n",
              "  @media (prefers-color-scheme: dark) {\n",
              "    /* Redefinition of color scheme for dark theme */\n",
              "    --sklearn-color-text-on-default-background: var(--sg-text-color, var(--theme-code-foreground, var(--jp-content-font-color1, white)));\n",
              "    --sklearn-color-background: var(--sg-background-color, var(--theme-background, var(--jp-layout-color0, #111)));\n",
              "    --sklearn-color-border-box: var(--sg-text-color, var(--theme-code-foreground, var(--jp-content-font-color1, white)));\n",
              "    --sklearn-color-icon: #878787;\n",
              "  }\n",
              "}\n",
              "\n",
              "#sk-container-id-1 {\n",
              "  color: var(--sklearn-color-text);\n",
              "}\n",
              "\n",
              "#sk-container-id-1 pre {\n",
              "  padding: 0;\n",
              "}\n",
              "\n",
              "#sk-container-id-1 input.sk-hidden--visually {\n",
              "  border: 0;\n",
              "  clip: rect(1px 1px 1px 1px);\n",
              "  clip: rect(1px, 1px, 1px, 1px);\n",
              "  height: 1px;\n",
              "  margin: -1px;\n",
              "  overflow: hidden;\n",
              "  padding: 0;\n",
              "  position: absolute;\n",
              "  width: 1px;\n",
              "}\n",
              "\n",
              "#sk-container-id-1 div.sk-dashed-wrapped {\n",
              "  border: 1px dashed var(--sklearn-color-line);\n",
              "  margin: 0 0.4em 0.5em 0.4em;\n",
              "  box-sizing: border-box;\n",
              "  padding-bottom: 0.4em;\n",
              "  background-color: var(--sklearn-color-background);\n",
              "}\n",
              "\n",
              "#sk-container-id-1 div.sk-container {\n",
              "  /* jupyter's `normalize.less` sets `[hidden] { display: none; }`\n",
              "     but bootstrap.min.css set `[hidden] { display: none !important; }`\n",
              "     so we also need the `!important` here to be able to override the\n",
              "     default hidden behavior on the sphinx rendered scikit-learn.org.\n",
              "     See: https://github.com/scikit-learn/scikit-learn/issues/21755 */\n",
              "  display: inline-block !important;\n",
              "  position: relative;\n",
              "}\n",
              "\n",
              "#sk-container-id-1 div.sk-text-repr-fallback {\n",
              "  display: none;\n",
              "}\n",
              "\n",
              "div.sk-parallel-item,\n",
              "div.sk-serial,\n",
              "div.sk-item {\n",
              "  /* draw centered vertical line to link estimators */\n",
              "  background-image: linear-gradient(var(--sklearn-color-text-on-default-background), var(--sklearn-color-text-on-default-background));\n",
              "  background-size: 2px 100%;\n",
              "  background-repeat: no-repeat;\n",
              "  background-position: center center;\n",
              "}\n",
              "\n",
              "/* Parallel-specific style estimator block */\n",
              "\n",
              "#sk-container-id-1 div.sk-parallel-item::after {\n",
              "  content: \"\";\n",
              "  width: 100%;\n",
              "  border-bottom: 2px solid var(--sklearn-color-text-on-default-background);\n",
              "  flex-grow: 1;\n",
              "}\n",
              "\n",
              "#sk-container-id-1 div.sk-parallel {\n",
              "  display: flex;\n",
              "  align-items: stretch;\n",
              "  justify-content: center;\n",
              "  background-color: var(--sklearn-color-background);\n",
              "  position: relative;\n",
              "}\n",
              "\n",
              "#sk-container-id-1 div.sk-parallel-item {\n",
              "  display: flex;\n",
              "  flex-direction: column;\n",
              "}\n",
              "\n",
              "#sk-container-id-1 div.sk-parallel-item:first-child::after {\n",
              "  align-self: flex-end;\n",
              "  width: 50%;\n",
              "}\n",
              "\n",
              "#sk-container-id-1 div.sk-parallel-item:last-child::after {\n",
              "  align-self: flex-start;\n",
              "  width: 50%;\n",
              "}\n",
              "\n",
              "#sk-container-id-1 div.sk-parallel-item:only-child::after {\n",
              "  width: 0;\n",
              "}\n",
              "\n",
              "/* Serial-specific style estimator block */\n",
              "\n",
              "#sk-container-id-1 div.sk-serial {\n",
              "  display: flex;\n",
              "  flex-direction: column;\n",
              "  align-items: center;\n",
              "  background-color: var(--sklearn-color-background);\n",
              "  padding-right: 1em;\n",
              "  padding-left: 1em;\n",
              "}\n",
              "\n",
              "\n",
              "/* Toggleable style: style used for estimator/Pipeline/ColumnTransformer box that is\n",
              "clickable and can be expanded/collapsed.\n",
              "- Pipeline and ColumnTransformer use this feature and define the default style\n",
              "- Estimators will overwrite some part of the style using the `sk-estimator` class\n",
              "*/\n",
              "\n",
              "/* Pipeline and ColumnTransformer style (default) */\n",
              "\n",
              "#sk-container-id-1 div.sk-toggleable {\n",
              "  /* Default theme specific background. It is overwritten whether we have a\n",
              "  specific estimator or a Pipeline/ColumnTransformer */\n",
              "  background-color: var(--sklearn-color-background);\n",
              "}\n",
              "\n",
              "/* Toggleable label */\n",
              "#sk-container-id-1 label.sk-toggleable__label {\n",
              "  cursor: pointer;\n",
              "  display: block;\n",
              "  width: 100%;\n",
              "  margin-bottom: 0;\n",
              "  padding: 0.5em;\n",
              "  box-sizing: border-box;\n",
              "  text-align: center;\n",
              "}\n",
              "\n",
              "#sk-container-id-1 label.sk-toggleable__label-arrow:before {\n",
              "  /* Arrow on the left of the label */\n",
              "  content: \"▸\";\n",
              "  float: left;\n",
              "  margin-right: 0.25em;\n",
              "  color: var(--sklearn-color-icon);\n",
              "}\n",
              "\n",
              "#sk-container-id-1 label.sk-toggleable__label-arrow:hover:before {\n",
              "  color: var(--sklearn-color-text);\n",
              "}\n",
              "\n",
              "/* Toggleable content - dropdown */\n",
              "\n",
              "#sk-container-id-1 div.sk-toggleable__content {\n",
              "  max-height: 0;\n",
              "  max-width: 0;\n",
              "  overflow: hidden;\n",
              "  text-align: left;\n",
              "  /* unfitted */\n",
              "  background-color: var(--sklearn-color-unfitted-level-0);\n",
              "}\n",
              "\n",
              "#sk-container-id-1 div.sk-toggleable__content.fitted {\n",
              "  /* fitted */\n",
              "  background-color: var(--sklearn-color-fitted-level-0);\n",
              "}\n",
              "\n",
              "#sk-container-id-1 div.sk-toggleable__content pre {\n",
              "  margin: 0.2em;\n",
              "  border-radius: 0.25em;\n",
              "  color: var(--sklearn-color-text);\n",
              "  /* unfitted */\n",
              "  background-color: var(--sklearn-color-unfitted-level-0);\n",
              "}\n",
              "\n",
              "#sk-container-id-1 div.sk-toggleable__content.fitted pre {\n",
              "  /* unfitted */\n",
              "  background-color: var(--sklearn-color-fitted-level-0);\n",
              "}\n",
              "\n",
              "#sk-container-id-1 input.sk-toggleable__control:checked~div.sk-toggleable__content {\n",
              "  /* Expand drop-down */\n",
              "  max-height: 200px;\n",
              "  max-width: 100%;\n",
              "  overflow: auto;\n",
              "}\n",
              "\n",
              "#sk-container-id-1 input.sk-toggleable__control:checked~label.sk-toggleable__label-arrow:before {\n",
              "  content: \"▾\";\n",
              "}\n",
              "\n",
              "/* Pipeline/ColumnTransformer-specific style */\n",
              "\n",
              "#sk-container-id-1 div.sk-label input.sk-toggleable__control:checked~label.sk-toggleable__label {\n",
              "  color: var(--sklearn-color-text);\n",
              "  background-color: var(--sklearn-color-unfitted-level-2);\n",
              "}\n",
              "\n",
              "#sk-container-id-1 div.sk-label.fitted input.sk-toggleable__control:checked~label.sk-toggleable__label {\n",
              "  background-color: var(--sklearn-color-fitted-level-2);\n",
              "}\n",
              "\n",
              "/* Estimator-specific style */\n",
              "\n",
              "/* Colorize estimator box */\n",
              "#sk-container-id-1 div.sk-estimator input.sk-toggleable__control:checked~label.sk-toggleable__label {\n",
              "  /* unfitted */\n",
              "  background-color: var(--sklearn-color-unfitted-level-2);\n",
              "}\n",
              "\n",
              "#sk-container-id-1 div.sk-estimator.fitted input.sk-toggleable__control:checked~label.sk-toggleable__label {\n",
              "  /* fitted */\n",
              "  background-color: var(--sklearn-color-fitted-level-2);\n",
              "}\n",
              "\n",
              "#sk-container-id-1 div.sk-label label.sk-toggleable__label,\n",
              "#sk-container-id-1 div.sk-label label {\n",
              "  /* The background is the default theme color */\n",
              "  color: var(--sklearn-color-text-on-default-background);\n",
              "}\n",
              "\n",
              "/* On hover, darken the color of the background */\n",
              "#sk-container-id-1 div.sk-label:hover label.sk-toggleable__label {\n",
              "  color: var(--sklearn-color-text);\n",
              "  background-color: var(--sklearn-color-unfitted-level-2);\n",
              "}\n",
              "\n",
              "/* Label box, darken color on hover, fitted */\n",
              "#sk-container-id-1 div.sk-label.fitted:hover label.sk-toggleable__label.fitted {\n",
              "  color: var(--sklearn-color-text);\n",
              "  background-color: var(--sklearn-color-fitted-level-2);\n",
              "}\n",
              "\n",
              "/* Estimator label */\n",
              "\n",
              "#sk-container-id-1 div.sk-label label {\n",
              "  font-family: monospace;\n",
              "  font-weight: bold;\n",
              "  display: inline-block;\n",
              "  line-height: 1.2em;\n",
              "}\n",
              "\n",
              "#sk-container-id-1 div.sk-label-container {\n",
              "  text-align: center;\n",
              "}\n",
              "\n",
              "/* Estimator-specific */\n",
              "#sk-container-id-1 div.sk-estimator {\n",
              "  font-family: monospace;\n",
              "  border: 1px dotted var(--sklearn-color-border-box);\n",
              "  border-radius: 0.25em;\n",
              "  box-sizing: border-box;\n",
              "  margin-bottom: 0.5em;\n",
              "  /* unfitted */\n",
              "  background-color: var(--sklearn-color-unfitted-level-0);\n",
              "}\n",
              "\n",
              "#sk-container-id-1 div.sk-estimator.fitted {\n",
              "  /* fitted */\n",
              "  background-color: var(--sklearn-color-fitted-level-0);\n",
              "}\n",
              "\n",
              "/* on hover */\n",
              "#sk-container-id-1 div.sk-estimator:hover {\n",
              "  /* unfitted */\n",
              "  background-color: var(--sklearn-color-unfitted-level-2);\n",
              "}\n",
              "\n",
              "#sk-container-id-1 div.sk-estimator.fitted:hover {\n",
              "  /* fitted */\n",
              "  background-color: var(--sklearn-color-fitted-level-2);\n",
              "}\n",
              "\n",
              "/* Specification for estimator info (e.g. \"i\" and \"?\") */\n",
              "\n",
              "/* Common style for \"i\" and \"?\" */\n",
              "\n",
              ".sk-estimator-doc-link,\n",
              "a:link.sk-estimator-doc-link,\n",
              "a:visited.sk-estimator-doc-link {\n",
              "  float: right;\n",
              "  font-size: smaller;\n",
              "  line-height: 1em;\n",
              "  font-family: monospace;\n",
              "  background-color: var(--sklearn-color-background);\n",
              "  border-radius: 1em;\n",
              "  height: 1em;\n",
              "  width: 1em;\n",
              "  text-decoration: none !important;\n",
              "  margin-left: 1ex;\n",
              "  /* unfitted */\n",
              "  border: var(--sklearn-color-unfitted-level-1) 1pt solid;\n",
              "  color: var(--sklearn-color-unfitted-level-1);\n",
              "}\n",
              "\n",
              ".sk-estimator-doc-link.fitted,\n",
              "a:link.sk-estimator-doc-link.fitted,\n",
              "a:visited.sk-estimator-doc-link.fitted {\n",
              "  /* fitted */\n",
              "  border: var(--sklearn-color-fitted-level-1) 1pt solid;\n",
              "  color: var(--sklearn-color-fitted-level-1);\n",
              "}\n",
              "\n",
              "/* On hover */\n",
              "div.sk-estimator:hover .sk-estimator-doc-link:hover,\n",
              ".sk-estimator-doc-link:hover,\n",
              "div.sk-label-container:hover .sk-estimator-doc-link:hover,\n",
              ".sk-estimator-doc-link:hover {\n",
              "  /* unfitted */\n",
              "  background-color: var(--sklearn-color-unfitted-level-3);\n",
              "  color: var(--sklearn-color-background);\n",
              "  text-decoration: none;\n",
              "}\n",
              "\n",
              "div.sk-estimator.fitted:hover .sk-estimator-doc-link.fitted:hover,\n",
              ".sk-estimator-doc-link.fitted:hover,\n",
              "div.sk-label-container:hover .sk-estimator-doc-link.fitted:hover,\n",
              ".sk-estimator-doc-link.fitted:hover {\n",
              "  /* fitted */\n",
              "  background-color: var(--sklearn-color-fitted-level-3);\n",
              "  color: var(--sklearn-color-background);\n",
              "  text-decoration: none;\n",
              "}\n",
              "\n",
              "/* Span, style for the box shown on hovering the info icon */\n",
              ".sk-estimator-doc-link span {\n",
              "  display: none;\n",
              "  z-index: 9999;\n",
              "  position: relative;\n",
              "  font-weight: normal;\n",
              "  right: .2ex;\n",
              "  padding: .5ex;\n",
              "  margin: .5ex;\n",
              "  width: min-content;\n",
              "  min-width: 20ex;\n",
              "  max-width: 50ex;\n",
              "  color: var(--sklearn-color-text);\n",
              "  box-shadow: 2pt 2pt 4pt #999;\n",
              "  /* unfitted */\n",
              "  background: var(--sklearn-color-unfitted-level-0);\n",
              "  border: .5pt solid var(--sklearn-color-unfitted-level-3);\n",
              "}\n",
              "\n",
              ".sk-estimator-doc-link.fitted span {\n",
              "  /* fitted */\n",
              "  background: var(--sklearn-color-fitted-level-0);\n",
              "  border: var(--sklearn-color-fitted-level-3);\n",
              "}\n",
              "\n",
              ".sk-estimator-doc-link:hover span {\n",
              "  display: block;\n",
              "}\n",
              "\n",
              "/* \"?\"-specific style due to the `<a>` HTML tag */\n",
              "\n",
              "#sk-container-id-1 a.estimator_doc_link {\n",
              "  float: right;\n",
              "  font-size: 1rem;\n",
              "  line-height: 1em;\n",
              "  font-family: monospace;\n",
              "  background-color: var(--sklearn-color-background);\n",
              "  border-radius: 1rem;\n",
              "  height: 1rem;\n",
              "  width: 1rem;\n",
              "  text-decoration: none;\n",
              "  /* unfitted */\n",
              "  color: var(--sklearn-color-unfitted-level-1);\n",
              "  border: var(--sklearn-color-unfitted-level-1) 1pt solid;\n",
              "}\n",
              "\n",
              "#sk-container-id-1 a.estimator_doc_link.fitted {\n",
              "  /* fitted */\n",
              "  border: var(--sklearn-color-fitted-level-1) 1pt solid;\n",
              "  color: var(--sklearn-color-fitted-level-1);\n",
              "}\n",
              "\n",
              "/* On hover */\n",
              "#sk-container-id-1 a.estimator_doc_link:hover {\n",
              "  /* unfitted */\n",
              "  background-color: var(--sklearn-color-unfitted-level-3);\n",
              "  color: var(--sklearn-color-background);\n",
              "  text-decoration: none;\n",
              "}\n",
              "\n",
              "#sk-container-id-1 a.estimator_doc_link.fitted:hover {\n",
              "  /* fitted */\n",
              "  background-color: var(--sklearn-color-fitted-level-3);\n",
              "}\n",
              "</style><div id=\"sk-container-id-1\" class=\"sk-top-container\"><div class=\"sk-text-repr-fallback\"><pre>LinearRegression()</pre><b>In a Jupyter environment, please rerun this cell to show the HTML representation or trust the notebook. <br />On GitHub, the HTML representation is unable to render, please try loading this page with nbviewer.org.</b></div><div class=\"sk-container\" hidden><div class=\"sk-item\"><div class=\"sk-estimator fitted sk-toggleable\"><input class=\"sk-toggleable__control sk-hidden--visually\" id=\"sk-estimator-id-1\" type=\"checkbox\" checked><label for=\"sk-estimator-id-1\" class=\"sk-toggleable__label fitted sk-toggleable__label-arrow fitted\">&nbsp;&nbsp;LinearRegression<a class=\"sk-estimator-doc-link fitted\" rel=\"noreferrer\" target=\"_blank\" href=\"https://scikit-learn.org/1.4/modules/generated/sklearn.linear_model.LinearRegression.html\">?<span>Documentation for LinearRegression</span></a><span class=\"sk-estimator-doc-link fitted\">i<span>Fitted</span></span></label><div class=\"sk-toggleable__content fitted\"><pre>LinearRegression()</pre></div> </div></div></div></div>"
            ],
            "text/plain": [
              "LinearRegression()"
            ]
          },
          "execution_count": 16,
          "metadata": {},
          "output_type": "execute_result"
        }
      ],
      "source": [
        "from sklearn.linear_model import LinearRegression\n",
        "lin_model = LinearRegression()\n",
        "lin_model.fit(X_train_lin, y_train_lin)"
      ]
    },
    {
      "cell_type": "markdown",
      "metadata": {
        "id": "P9d25D8E7FeM"
      },
      "source": [
        " how to make predictions using LSTM on the test set and inverse transform the scaled predictions"
      ]
    },
    {
      "cell_type": "code",
      "execution_count": 17,
      "metadata": {
        "colab": {
          "base_uri": "https://localhost:8080/"
        },
        "id": "th7eDtUY7FQZ",
        "outputId": "a6418a3e-9012-4d22-95f6-97fea6b7b560"
      },
      "outputs": [
        {
          "name": "stdout",
          "output_type": "stream",
          "text": [
            "\u001b[1m2/2\u001b[0m \u001b[32m━━━━━━━━━━━━━━━━━━━━\u001b[0m\u001b[37m\u001b[0m \u001b[1m1s\u001b[0m 329ms/step\n"
          ]
        }
      ],
      "source": [
        "X_test_lstm = X_test.reshape(X_test.shape[0], X_test.shape[1], 1)\n",
        "lstm_predictions = model.predict(X_test_lstm)\n",
        "lstm_predictions = scaler.inverse_transform(lstm_predictions)"
      ]
    },
    {
      "cell_type": "code",
      "execution_count": 18,
      "metadata": {
        "colab": {
          "base_uri": "https://localhost:8080/"
        },
        "id": "G-BXv_tF7CCs",
        "outputId": "4f4e8fb0-2cd4-4e87-a3b3-995be631a0d1"
      },
      "outputs": [
        {
          "data": {
            "text/plain": [
              "array([[24.022303],\n",
              "       [24.313515],\n",
              "       [24.548939],\n",
              "       [24.727535],\n",
              "       [24.860954],\n",
              "       [24.96732 ],\n",
              "       [25.04322 ],\n",
              "       [25.101646],\n",
              "       [25.143208],\n",
              "       [25.173983],\n",
              "       [25.206696],\n",
              "       [25.253387],\n",
              "       [25.296318],\n",
              "       [25.333858],\n",
              "       [25.401903],\n",
              "       [25.487158],\n",
              "       [25.536621],\n",
              "       [25.561373],\n",
              "       [25.517614],\n",
              "       [25.404099],\n",
              "       [25.268202],\n",
              "       [25.123264],\n",
              "       [25.004953],\n",
              "       [24.86805 ],\n",
              "       [24.725311],\n",
              "       [24.549929],\n",
              "       [24.299335],\n",
              "       [23.923006],\n",
              "       [23.532635],\n",
              "       [23.18934 ],\n",
              "       [22.931847],\n",
              "       [22.76536 ],\n",
              "       [22.701828],\n",
              "       [22.734322],\n",
              "       [22.86139 ],\n",
              "       [23.055471],\n",
              "       [23.315956],\n",
              "       [23.604107]], dtype=float32)"
            ]
          },
          "execution_count": 18,
          "metadata": {},
          "output_type": "execute_result"
        }
      ],
      "source": [
        "lstm_predictions"
      ]
    },
    {
      "cell_type": "code",
      "execution_count": 19,
      "metadata": {
        "colab": {
          "base_uri": "https://localhost:8080/"
        },
        "id": "sGNOkXcz-pKr",
        "outputId": "cfd2eadc-a8d0-45f0-f611-fbf695374999"
      },
      "outputs": [
        {
          "data": {
            "text/plain": [
              "(38, 1)"
            ]
          },
          "execution_count": 19,
          "metadata": {},
          "output_type": "execute_result"
        }
      ],
      "source": [
        "lstm_predictions.shape"
      ]
    },
    {
      "cell_type": "code",
      "execution_count": 20,
      "metadata": {
        "id": "ccLPgrBM7clN"
      },
      "outputs": [],
      "source": [
        "lin_predictions = lin_model.predict(X_test_lin)\n",
        "lin_predictions = scaler.inverse_transform(lin_predictions.reshape(-1, 1))"
      ]
    },
    {
      "cell_type": "code",
      "execution_count": 21,
      "metadata": {
        "colab": {
          "base_uri": "https://localhost:8080/"
        },
        "id": "Dm6qzXs_-s_m",
        "outputId": "1a3cc779-c523-4fac-9c88-3478462e1517"
      },
      "outputs": [
        {
          "data": {
            "text/plain": [
              "(95, 1)"
            ]
          },
          "execution_count": 21,
          "metadata": {},
          "output_type": "execute_result"
        }
      ],
      "source": [
        "lin_predictions.shape"
      ]
    },
    {
      "cell_type": "code",
      "execution_count": 22,
      "metadata": {
        "colab": {
          "base_uri": "https://localhost:8080/"
        },
        "id": "rp5qLcFj7vB6",
        "outputId": "604255c5-481c-42e5-e7ff-7e3a0d8ecb6f"
      },
      "outputs": [
        {
          "data": {
            "text/plain": [
              "array([[15.01906389],\n",
              "       [14.98997303],\n",
              "       [14.83724363],\n",
              "       [15.61817097],\n",
              "       [14.14341185],\n",
              "       [12.74122055],\n",
              "       [13.27715656],\n",
              "       [15.01852043],\n",
              "       [15.5148065 ],\n",
              "       [15.69546442],\n",
              "       [16.02702031],\n",
              "       [15.72938048],\n",
              "       [16.31652531],\n",
              "       [16.03102472],\n",
              "       [16.55036273],\n",
              "       [16.50467427],\n",
              "       [16.709585  ],\n",
              "       [16.68366492],\n",
              "       [16.43770109],\n",
              "       [16.69695328],\n",
              "       [16.45033281],\n",
              "       [16.69695328],\n",
              "       [16.858664  ],\n",
              "       [17.05992432],\n",
              "       [17.89952585],\n",
              "       [17.84802684],\n",
              "       [18.37750812],\n",
              "       [18.42621604],\n",
              "       [18.55667577],\n",
              "       [17.88925655],\n",
              "       [17.89272996],\n",
              "       [18.1089463 ],\n",
              "       [18.03433114],\n",
              "       [17.91467132],\n",
              "       [18.51411956],\n",
              "       [18.45563521],\n",
              "       [18.83238709],\n",
              "       [18.84535997],\n",
              "       [18.93344049],\n",
              "       [19.03398857],\n",
              "       [18.83971359],\n",
              "       [17.68617725],\n",
              "       [15.95859461],\n",
              "       [16.98744323],\n",
              "       [18.17091728],\n",
              "       [19.28359035],\n",
              "       [19.66120155],\n",
              "       [20.6935874 ],\n",
              "       [20.94073886],\n",
              "       [20.8322201 ],\n",
              "       [22.67677144],\n",
              "       [22.99440802],\n",
              "       [23.36003129],\n",
              "       [23.33162275],\n",
              "       [23.12172227],\n",
              "       [23.07967138],\n",
              "       [22.74562703],\n",
              "       [23.19599628],\n",
              "       [23.22791674],\n",
              "       [23.31599726],\n",
              "       [23.24154626],\n",
              "       [23.30004345],\n",
              "       [23.47172044],\n",
              "       [23.39078942],\n",
              "       [23.5044617 ],\n",
              "       [23.49465959],\n",
              "       [23.54667675],\n",
              "       [23.71519581],\n",
              "       [23.92592993],\n",
              "       [23.77387   ],\n",
              "       [23.77419832],\n",
              "       [24.30551142],\n",
              "       [24.30552426],\n",
              "       [23.68729259],\n",
              "       [23.74893487],\n",
              "       [23.08051786],\n",
              "       [22.74994692],\n",
              "       [23.06653434],\n",
              "       [23.06271977],\n",
              "       [23.40008621],\n",
              "       [22.77787582],\n",
              "       [22.76539541],\n",
              "       [22.2784575 ],\n",
              "       [21.40660719],\n",
              "       [20.19704929],\n",
              "       [20.97994692],\n",
              "       [21.51277636],\n",
              "       [21.94787411],\n",
              "       [22.15279768],\n",
              "       [22.55864041],\n",
              "       [22.84100875],\n",
              "       [23.24352939],\n",
              "       [23.34774072],\n",
              "       [23.76970143],\n",
              "       [23.70838747]])"
            ]
          },
          "execution_count": 22,
          "metadata": {},
          "output_type": "execute_result"
        }
      ],
      "source": [
        "lin_predictions"
      ]
    },
    {
      "cell_type": "markdown",
      "metadata": {
        "id": "CAgRov5y8VGw"
      },
      "source": [
        "use a weighted average to create hybrid predictions:"
      ]
    },
    {
      "cell_type": "code",
      "execution_count": 23,
      "metadata": {
        "id": "QAwVgo_tBtsS"
      },
      "outputs": [],
      "source": [
        "min_length = min(len(lstm_predictions), len(lin_predictions))\n",
        "\n",
        "# Truncate both prediction arrays to the minimum length\n",
        "lstm_predictions_aligned = lstm_predictions[:min_length]\n",
        "lin_predictions_aligned = lin_predictions[:min_length]\n"
      ]
    },
    {
      "cell_type": "code",
      "execution_count": 24,
      "metadata": {
        "colab": {
          "base_uri": "https://localhost:8080/"
        },
        "id": "2YK0QbCRBuzQ",
        "outputId": "879b7077-bf81-4694-bf86-912d9a08e989"
      },
      "outputs": [
        {
          "data": {
            "text/plain": [
              "array([[24.022303],\n",
              "       [24.313515],\n",
              "       [24.548939],\n",
              "       [24.727535],\n",
              "       [24.860954],\n",
              "       [24.96732 ],\n",
              "       [25.04322 ],\n",
              "       [25.101646],\n",
              "       [25.143208],\n",
              "       [25.173983],\n",
              "       [25.206696],\n",
              "       [25.253387],\n",
              "       [25.296318],\n",
              "       [25.333858],\n",
              "       [25.401903],\n",
              "       [25.487158],\n",
              "       [25.536621],\n",
              "       [25.561373],\n",
              "       [25.517614],\n",
              "       [25.404099],\n",
              "       [25.268202],\n",
              "       [25.123264],\n",
              "       [25.004953],\n",
              "       [24.86805 ],\n",
              "       [24.725311],\n",
              "       [24.549929],\n",
              "       [24.299335],\n",
              "       [23.923006],\n",
              "       [23.532635],\n",
              "       [23.18934 ],\n",
              "       [22.931847],\n",
              "       [22.76536 ],\n",
              "       [22.701828],\n",
              "       [22.734322],\n",
              "       [22.86139 ],\n",
              "       [23.055471],\n",
              "       [23.315956],\n",
              "       [23.604107]], dtype=float32)"
            ]
          },
          "execution_count": 24,
          "metadata": {},
          "output_type": "execute_result"
        }
      ],
      "source": [
        "lstm_predictions_aligned"
      ]
    },
    {
      "cell_type": "code",
      "execution_count": 25,
      "metadata": {
        "colab": {
          "base_uri": "https://localhost:8080/"
        },
        "id": "vOUfAAsABzw0",
        "outputId": "5fa93858-3a41-4edb-a09c-c7510b747cfd"
      },
      "outputs": [
        {
          "data": {
            "text/plain": [
              "array([[15.01906389],\n",
              "       [14.98997303],\n",
              "       [14.83724363],\n",
              "       [15.61817097],\n",
              "       [14.14341185],\n",
              "       [12.74122055],\n",
              "       [13.27715656],\n",
              "       [15.01852043],\n",
              "       [15.5148065 ],\n",
              "       [15.69546442],\n",
              "       [16.02702031],\n",
              "       [15.72938048],\n",
              "       [16.31652531],\n",
              "       [16.03102472],\n",
              "       [16.55036273],\n",
              "       [16.50467427],\n",
              "       [16.709585  ],\n",
              "       [16.68366492],\n",
              "       [16.43770109],\n",
              "       [16.69695328],\n",
              "       [16.45033281],\n",
              "       [16.69695328],\n",
              "       [16.858664  ],\n",
              "       [17.05992432],\n",
              "       [17.89952585],\n",
              "       [17.84802684],\n",
              "       [18.37750812],\n",
              "       [18.42621604],\n",
              "       [18.55667577],\n",
              "       [17.88925655],\n",
              "       [17.89272996],\n",
              "       [18.1089463 ],\n",
              "       [18.03433114],\n",
              "       [17.91467132],\n",
              "       [18.51411956],\n",
              "       [18.45563521],\n",
              "       [18.83238709],\n",
              "       [18.84535997]])"
            ]
          },
          "execution_count": 25,
          "metadata": {},
          "output_type": "execute_result"
        }
      ],
      "source": [
        "lin_predictions_aligned"
      ]
    },
    {
      "cell_type": "code",
      "execution_count": 26,
      "metadata": {
        "id": "qGIkuYxE8DOQ"
      },
      "outputs": [],
      "source": [
        "hybrid_predictions = (0.7 * lstm_predictions_aligned) + (0.3 * lin_predictions_aligned)\n"
      ]
    },
    {
      "cell_type": "code",
      "execution_count": 27,
      "metadata": {
        "colab": {
          "base_uri": "https://localhost:8080/"
        },
        "id": "q_xFDqCb-1z5",
        "outputId": "d6c1a093-70a4-4a51-c92e-5d22c4798ef5"
      },
      "outputs": [
        {
          "data": {
            "text/plain": [
              "array([[21.32133005],\n",
              "       [21.51645259],\n",
              "       [21.6354306 ],\n",
              "       [21.99472596],\n",
              "       [21.64569155],\n",
              "       [21.29948943],\n",
              "       [21.51340133],\n",
              "       [22.07670786],\n",
              "       [22.25468647],\n",
              "       [22.33042735],\n",
              "       [22.45279184],\n",
              "       [22.39618421],\n",
              "       [22.60237985],\n",
              "       [22.54300721],\n",
              "       [22.74644084],\n",
              "       [22.79241333],\n",
              "       [22.88851065],\n",
              "       [22.89806098],\n",
              "       [22.79363981],\n",
              "       [22.79195532],\n",
              "       [22.62284017],\n",
              "       [22.59537062],\n",
              "       [22.56106676],\n",
              "       [22.52561203],\n",
              "       [22.67757603],\n",
              "       [22.53935793],\n",
              "       [22.52278727],\n",
              "       [22.2739681 ],\n",
              "       [22.0398459 ],\n",
              "       [21.59931519],\n",
              "       [21.42011086],\n",
              "       [21.36843581],\n",
              "       [21.30157856],\n",
              "       [21.2884267 ],\n",
              "       [21.55720752],\n",
              "       [21.67552075],\n",
              "       [21.97088503],\n",
              "       [22.17648282]])"
            ]
          },
          "execution_count": 27,
          "metadata": {},
          "output_type": "execute_result"
        }
      ],
      "source": [
        "hybrid_predictions"
      ]
    },
    {
      "cell_type": "markdown",
      "metadata": {
        "id": "W9nI52hkCFHi"
      },
      "source": [
        "Predicting using the Hybrid Model\n"
      ]
    },
    {
      "cell_type": "markdown",
      "metadata": {
        "id": "CCGNQFdc82jE"
      },
      "source": [
        " make predictions for the next 10 days using our hybrid model"
      ]
    },
    {
      "cell_type": "code",
      "execution_count": 28,
      "metadata": {
        "colab": {
          "base_uri": "https://localhost:8080/"
        },
        "id": "QAcRJnQAB7Hx",
        "outputId": "bb64aff9-90fc-4e70-9c9d-9898443fcb8a"
      },
      "outputs": [
        {
          "name": "stdout",
          "output_type": "stream",
          "text": [
            "\u001b[1m1/1\u001b[0m \u001b[32m━━━━━━━━━━━━━━━━━━━━\u001b[0m\u001b[37m\u001b[0m \u001b[1m0s\u001b[0m 41ms/step\n",
            "\u001b[1m1/1\u001b[0m \u001b[32m━━━━━━━━━━━━━━━━━━━━\u001b[0m\u001b[37m\u001b[0m \u001b[1m0s\u001b[0m 32ms/step\n",
            "\u001b[1m1/1\u001b[0m \u001b[32m━━━━━━━━━━━━━━━━━━━━\u001b[0m\u001b[37m\u001b[0m \u001b[1m0s\u001b[0m 43ms/step\n",
            "\u001b[1m1/1\u001b[0m \u001b[32m━━━━━━━━━━━━━━━━━━━━\u001b[0m\u001b[37m\u001b[0m \u001b[1m0s\u001b[0m 40ms/step\n",
            "\u001b[1m1/1\u001b[0m \u001b[32m━━━━━━━━━━━━━━━━━━━━\u001b[0m\u001b[37m\u001b[0m \u001b[1m0s\u001b[0m 28ms/step\n",
            "\u001b[1m1/1\u001b[0m \u001b[32m━━━━━━━━━━━━━━━━━━━━\u001b[0m\u001b[37m\u001b[0m \u001b[1m0s\u001b[0m 30ms/step\n",
            "\u001b[1m1/1\u001b[0m \u001b[32m━━━━━━━━━━━━━━━━━━━━\u001b[0m\u001b[37m\u001b[0m \u001b[1m0s\u001b[0m 34ms/step\n",
            "\u001b[1m1/1\u001b[0m \u001b[32m━━━━━━━━━━━━━━━━━━━━\u001b[0m\u001b[37m\u001b[0m \u001b[1m0s\u001b[0m 33ms/step\n",
            "\u001b[1m1/1\u001b[0m \u001b[32m━━━━━━━━━━━━━━━━━━━━\u001b[0m\u001b[37m\u001b[0m \u001b[1m0s\u001b[0m 33ms/step\n",
            "\u001b[1m1/1\u001b[0m \u001b[32m━━━━━━━━━━━━━━━━━━━━\u001b[0m\u001b[37m\u001b[0m \u001b[1m0s\u001b[0m 32ms/step\n"
          ]
        },
        {
          "data": {
            "text/plain": [
              "array([[23.604107],\n",
              "       [23.869902],\n",
              "       [24.128767],\n",
              "       [24.387657],\n",
              "       [24.651371],\n",
              "       [24.923386],\n",
              "       [25.206242],\n",
              "       [25.501835],\n",
              "       [25.811628],\n",
              "       [26.136782]], dtype=float32)"
            ]
          },
          "execution_count": 28,
          "metadata": {},
          "output_type": "execute_result"
        }
      ],
      "source": [
        "# Making prediction with LSTM\n",
        "lstm_future = []\n",
        "last_sequence = X_test[-1].reshape(1, sequence_length, -1)\n",
        "for _ in range(10):\n",
        "    prediction = model.predict(last_sequence)[0,0]\n",
        "    lstm_future.append(prediction)\n",
        "    prediction_reshaped =np.array([[prediction]]).reshape(1, 1, 1)\n",
        "    last_sequence= np.append(last_sequence[:, 1:, :], prediction_reshaped, axis=1)\n",
        "\n",
        "lstm_future = scaler.inverse_transform(np.array(lstm_future).reshape(-1, 1))\n",
        "lstm_future"
      ]
    },
    {
      "cell_type": "code",
      "execution_count": 29,
      "metadata": {
        "colab": {
          "base_uri": "https://localhost:8080/"
        },
        "id": "k6o0t_oM_Kzy",
        "outputId": "f71b0e56-8dbc-41b3-b2c5-7835a7db6782"
      },
      "outputs": [
        {
          "name": "stderr",
          "output_type": "stream",
          "text": [
            "c:\\Users\\HomePC\\anaconda3\\Lib\\site-packages\\sklearn\\base.py:493: UserWarning: X does not have valid feature names, but LinearRegression was fitted with feature names\n",
            "  warnings.warn(\n",
            "c:\\Users\\HomePC\\anaconda3\\Lib\\site-packages\\sklearn\\base.py:493: UserWarning: X does not have valid feature names, but LinearRegression was fitted with feature names\n",
            "  warnings.warn(\n",
            "c:\\Users\\HomePC\\anaconda3\\Lib\\site-packages\\sklearn\\base.py:493: UserWarning: X does not have valid feature names, but LinearRegression was fitted with feature names\n",
            "  warnings.warn(\n",
            "c:\\Users\\HomePC\\anaconda3\\Lib\\site-packages\\sklearn\\base.py:493: UserWarning: X does not have valid feature names, but LinearRegression was fitted with feature names\n",
            "  warnings.warn(\n",
            "c:\\Users\\HomePC\\anaconda3\\Lib\\site-packages\\sklearn\\base.py:493: UserWarning: X does not have valid feature names, but LinearRegression was fitted with feature names\n",
            "  warnings.warn(\n",
            "c:\\Users\\HomePC\\anaconda3\\Lib\\site-packages\\sklearn\\base.py:493: UserWarning: X does not have valid feature names, but LinearRegression was fitted with feature names\n",
            "  warnings.warn(\n",
            "c:\\Users\\HomePC\\anaconda3\\Lib\\site-packages\\sklearn\\base.py:493: UserWarning: X does not have valid feature names, but LinearRegression was fitted with feature names\n",
            "  warnings.warn(\n",
            "c:\\Users\\HomePC\\anaconda3\\Lib\\site-packages\\sklearn\\base.py:493: UserWarning: X does not have valid feature names, but LinearRegression was fitted with feature names\n",
            "  warnings.warn(\n",
            "c:\\Users\\HomePC\\anaconda3\\Lib\\site-packages\\sklearn\\base.py:493: UserWarning: X does not have valid feature names, but LinearRegression was fitted with feature names\n",
            "  warnings.warn(\n",
            "c:\\Users\\HomePC\\anaconda3\\Lib\\site-packages\\sklearn\\base.py:493: UserWarning: X does not have valid feature names, but LinearRegression was fitted with feature names\n",
            "  warnings.warn(\n"
          ]
        },
        {
          "data": {
            "text/plain": [
              "array([[23.67365023],\n",
              "       [23.6779799 ],\n",
              "       [23.90148061],\n",
              "       [23.44773107],\n",
              "       [23.45247473],\n",
              "       [23.77173071],\n",
              "       [23.22158049],\n",
              "       [23.22048574],\n",
              "       [23.66431794],\n",
              "       [22.99458944]])"
            ]
          },
          "execution_count": 29,
          "metadata": {},
          "output_type": "execute_result"
        }
      ],
      "source": [
        "# Next 10 Days using Linear Regression\n",
        "recent = close[' Close'].values[-3:]\n",
        "lin_future_pred = []\n",
        "for _ in range(10):\n",
        "    lin_pred = lin_model.predict(recent.reshape(1, -1))\n",
        "    lin_future_pred.append(lin_pred)\n",
        "    recent = np.append(recent[1:], lin_pred)\n",
        "\n",
        "lin_future_pred = scaler.inverse_transform(np.array(lin_future_pred).reshape(-1, 1))\n",
        "lin_future_pred"
      ]
    },
    {
      "cell_type": "code",
      "execution_count": 30,
      "metadata": {
        "colab": {
          "base_uri": "https://localhost:8080/"
        },
        "id": "wUTAE4iIDuCu",
        "outputId": "710e9d6d-9a85-479b-bddb-654d05e6fece"
      },
      "outputs": [
        {
          "data": {
            "text/plain": [
              "array([[23.6249699 ],\n",
              "       [23.81232494],\n",
              "       [24.0605809 ],\n",
              "       [24.10567896],\n",
              "       [24.29170098],\n",
              "       [24.57788839],\n",
              "       [24.61084327],\n",
              "       [24.81742975],\n",
              "       [25.16743541],\n",
              "       [25.19412459]])"
            ]
          },
          "execution_count": 30,
          "metadata": {},
          "output_type": "execute_result"
        }
      ],
      "source": [
        "hybrid_future_pred = (0.7 * lstm_future) + (0.3 * lin_future_pred)\n",
        "hybrid_future_pred"
      ]
    },
    {
      "cell_type": "markdown",
      "metadata": {
        "id": "8McwfM88EXzv"
      },
      "source": [
        "create the final DataFrame to look at the predictions"
      ]
    },
    {
      "cell_type": "code",
      "execution_count": 31,
      "metadata": {
        "colab": {
          "base_uri": "https://localhost:8080/",
          "height": 394
        },
        "id": "72ci3XmeE8bS",
        "outputId": "af695202-4a97-4a7f-c11d-c03567e05ee1"
      },
      "outputs": [
        {
          "data": {
            "text/html": [
              "<div>\n",
              "<style scoped>\n",
              "    .dataframe tbody tr th:only-of-type {\n",
              "        vertical-align: middle;\n",
              "    }\n",
              "\n",
              "    .dataframe tbody tr th {\n",
              "        vertical-align: top;\n",
              "    }\n",
              "\n",
              "    .dataframe thead th {\n",
              "        text-align: right;\n",
              "    }\n",
              "</style>\n",
              "<table border=\"1\" class=\"dataframe\">\n",
              "  <thead>\n",
              "    <tr style=\"text-align: right;\">\n",
              "      <th></th>\n",
              "      <th>LSTM</th>\n",
              "      <th>Linear Regression</th>\n",
              "      <th>Hybrid</th>\n",
              "    </tr>\n",
              "    <tr>\n",
              "      <th>Date</th>\n",
              "      <th></th>\n",
              "      <th></th>\n",
              "      <th></th>\n",
              "    </tr>\n",
              "  </thead>\n",
              "  <tbody>\n",
              "    <tr>\n",
              "      <th>2023-01-04</th>\n",
              "      <td>23.604107</td>\n",
              "      <td>23.673650</td>\n",
              "      <td>23.624970</td>\n",
              "    </tr>\n",
              "    <tr>\n",
              "      <th>2023-01-05</th>\n",
              "      <td>23.869902</td>\n",
              "      <td>23.677980</td>\n",
              "      <td>23.812325</td>\n",
              "    </tr>\n",
              "    <tr>\n",
              "      <th>2023-01-06</th>\n",
              "      <td>24.128767</td>\n",
              "      <td>23.901481</td>\n",
              "      <td>24.060581</td>\n",
              "    </tr>\n",
              "    <tr>\n",
              "      <th>2023-01-07</th>\n",
              "      <td>24.387657</td>\n",
              "      <td>23.447731</td>\n",
              "      <td>24.105679</td>\n",
              "    </tr>\n",
              "    <tr>\n",
              "      <th>2023-01-08</th>\n",
              "      <td>24.651371</td>\n",
              "      <td>23.452475</td>\n",
              "      <td>24.291701</td>\n",
              "    </tr>\n",
              "    <tr>\n",
              "      <th>2023-01-09</th>\n",
              "      <td>24.923386</td>\n",
              "      <td>23.771731</td>\n",
              "      <td>24.577888</td>\n",
              "    </tr>\n",
              "    <tr>\n",
              "      <th>2023-01-10</th>\n",
              "      <td>25.206242</td>\n",
              "      <td>23.221580</td>\n",
              "      <td>24.610843</td>\n",
              "    </tr>\n",
              "    <tr>\n",
              "      <th>2023-01-11</th>\n",
              "      <td>25.501835</td>\n",
              "      <td>23.220486</td>\n",
              "      <td>24.817430</td>\n",
              "    </tr>\n",
              "    <tr>\n",
              "      <th>2023-01-12</th>\n",
              "      <td>25.811628</td>\n",
              "      <td>23.664318</td>\n",
              "      <td>25.167435</td>\n",
              "    </tr>\n",
              "    <tr>\n",
              "      <th>2023-01-13</th>\n",
              "      <td>26.136782</td>\n",
              "      <td>22.994589</td>\n",
              "      <td>25.194125</td>\n",
              "    </tr>\n",
              "  </tbody>\n",
              "</table>\n",
              "</div>"
            ],
            "text/plain": [
              "                 LSTM  Linear Regression     Hybrid\n",
              "Date                                               \n",
              "2023-01-04  23.604107          23.673650  23.624970\n",
              "2023-01-05  23.869902          23.677980  23.812325\n",
              "2023-01-06  24.128767          23.901481  24.060581\n",
              "2023-01-07  24.387657          23.447731  24.105679\n",
              "2023-01-08  24.651371          23.452475  24.291701\n",
              "2023-01-09  24.923386          23.771731  24.577888\n",
              "2023-01-10  25.206242          23.221580  24.610843\n",
              "2023-01-11  25.501835          23.220486  24.817430\n",
              "2023-01-12  25.811628          23.664318  25.167435\n",
              "2023-01-13  26.136782          22.994589  25.194125"
            ]
          },
          "execution_count": 31,
          "metadata": {},
          "output_type": "execute_result"
        }
      ],
      "source": [
        "future = pd.date_range(start=close.index[-1] + pd.Timedelta(days=1), periods=10)\n",
        "pred_df = pd.DataFrame({\n",
        "    'Date': future,\n",
        "    'LSTM': lstm_future.flatten(),\n",
        "    'Linear Regression': lin_future_pred.flatten(),\n",
        "    'Hybrid': hybrid_future_pred.flatten()\n",
        "    })\n",
        "pred_df.set_index('Date', inplace= True)\n",
        "pred_df"
      ]
    }
  ],
  "metadata": {
    "colab": {
      "provenance": []
    },
    "kernelspec": {
      "display_name": "base",
      "language": "python",
      "name": "python3"
    },
    "language_info": {
      "codemirror_mode": {
        "name": "ipython",
        "version": 3
      },
      "file_extension": ".py",
      "mimetype": "text/x-python",
      "name": "python",
      "nbconvert_exporter": "python",
      "pygments_lexer": "ipython3",
      "version": "3.12.3"
    }
  },
  "nbformat": 4,
  "nbformat_minor": 0
}
