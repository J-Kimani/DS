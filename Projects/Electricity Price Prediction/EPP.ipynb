{
 "cells": [
  {
   "attachments": {},
   "cell_type": "markdown",
   "metadata": {},
   "source": [
    "Suppose that your business relies on computing services where the power consumed by your machines varies throughout the day. You do not know the actual cost of the electricity consumed by the machines throughout the day, but the organization has provided you with historical data of the price of the electricity consumed by the machines.\n",
    "\n",
    "1. DateTime: Date and time of the record\n",
    "2. Holiday: contains the name of the holiday if the day is a national holiday\n",
    "3. HolidayFlag: contains 1 if it’s a bank holiday otherwise 0\n",
    "4. DayOfWeek: contains values between 0-6 where 0 is Monday\n",
    "5. WeekOfYear: week of the year\n",
    "6. Day: Day of the date\n",
    "7. Month: Month of the date\n",
    "8. Year: Year of the date\n",
    "9. PeriodOfDay: half-hour period of the day\n",
    "10. ForcastWindProduction: forecasted wind production\n",
    "11. SystemLoadEA forecasted national load\n",
    "12. SMPEA: forecasted price\n",
    "13. ORKTemperature: actual temperature measured\n",
    "14. ORKWindspeed: actual windspeed measured\n",
    "15. CO2Intensity: actual C02 intensity for the electricity produced\n",
    "16. ActualWindProduction: actual wind energy production\n",
    "17. SystemLoadEP2: actual national system load\n",
    "18. SMPEP2: the actual price of the electricity consumed (labels or values to be predicted)\n",
    "\n",
    "train a machine learning model to predict the price of electricity consumed by the machines."
   ]
  },
  {
   "cell_type": "code",
   "execution_count": 1,
   "metadata": {},
   "outputs": [],
   "source": [
    "import pandas as pd"
   ]
  },
  {
   "cell_type": "code",
   "execution_count": 2,
   "metadata": {},
   "outputs": [
    {
     "data": {
      "text/html": [
       "<div>\n",
       "<style scoped>\n",
       "    .dataframe tbody tr th:only-of-type {\n",
       "        vertical-align: middle;\n",
       "    }\n",
       "\n",
       "    .dataframe tbody tr th {\n",
       "        vertical-align: top;\n",
       "    }\n",
       "\n",
       "    .dataframe thead th {\n",
       "        text-align: right;\n",
       "    }\n",
       "</style>\n",
       "<table border=\"1\" class=\"dataframe\">\n",
       "  <thead>\n",
       "    <tr style=\"text-align: right;\">\n",
       "      <th></th>\n",
       "      <th>DateTime</th>\n",
       "      <th>Holiday</th>\n",
       "      <th>HolidayFlag</th>\n",
       "      <th>DayOfWeek</th>\n",
       "      <th>WeekOfYear</th>\n",
       "      <th>Day</th>\n",
       "      <th>Month</th>\n",
       "      <th>Year</th>\n",
       "      <th>PeriodOfDay</th>\n",
       "      <th>ForecastWindProduction</th>\n",
       "      <th>SystemLoadEA</th>\n",
       "      <th>SMPEA</th>\n",
       "      <th>ORKTemperature</th>\n",
       "      <th>ORKWindspeed</th>\n",
       "      <th>CO2Intensity</th>\n",
       "      <th>ActualWindProduction</th>\n",
       "      <th>SystemLoadEP2</th>\n",
       "      <th>SMPEP2</th>\n",
       "    </tr>\n",
       "  </thead>\n",
       "  <tbody>\n",
       "    <tr>\n",
       "      <th>0</th>\n",
       "      <td>01/11/2011 00:00</td>\n",
       "      <td>None</td>\n",
       "      <td>0</td>\n",
       "      <td>1</td>\n",
       "      <td>44</td>\n",
       "      <td>1</td>\n",
       "      <td>11</td>\n",
       "      <td>2011</td>\n",
       "      <td>0</td>\n",
       "      <td>315.31</td>\n",
       "      <td>3388.77</td>\n",
       "      <td>49.26</td>\n",
       "      <td>6.00</td>\n",
       "      <td>9.30</td>\n",
       "      <td>600.71</td>\n",
       "      <td>356.00</td>\n",
       "      <td>3159.60</td>\n",
       "      <td>54.32</td>\n",
       "    </tr>\n",
       "    <tr>\n",
       "      <th>1</th>\n",
       "      <td>01/11/2011 00:30</td>\n",
       "      <td>None</td>\n",
       "      <td>0</td>\n",
       "      <td>1</td>\n",
       "      <td>44</td>\n",
       "      <td>1</td>\n",
       "      <td>11</td>\n",
       "      <td>2011</td>\n",
       "      <td>1</td>\n",
       "      <td>321.80</td>\n",
       "      <td>3196.66</td>\n",
       "      <td>49.26</td>\n",
       "      <td>6.00</td>\n",
       "      <td>11.10</td>\n",
       "      <td>605.42</td>\n",
       "      <td>317.00</td>\n",
       "      <td>2973.01</td>\n",
       "      <td>54.23</td>\n",
       "    </tr>\n",
       "    <tr>\n",
       "      <th>2</th>\n",
       "      <td>01/11/2011 01:00</td>\n",
       "      <td>None</td>\n",
       "      <td>0</td>\n",
       "      <td>1</td>\n",
       "      <td>44</td>\n",
       "      <td>1</td>\n",
       "      <td>11</td>\n",
       "      <td>2011</td>\n",
       "      <td>2</td>\n",
       "      <td>328.57</td>\n",
       "      <td>3060.71</td>\n",
       "      <td>49.10</td>\n",
       "      <td>5.00</td>\n",
       "      <td>11.10</td>\n",
       "      <td>589.97</td>\n",
       "      <td>311.00</td>\n",
       "      <td>2834.00</td>\n",
       "      <td>54.23</td>\n",
       "    </tr>\n",
       "    <tr>\n",
       "      <th>3</th>\n",
       "      <td>01/11/2011 01:30</td>\n",
       "      <td>None</td>\n",
       "      <td>0</td>\n",
       "      <td>1</td>\n",
       "      <td>44</td>\n",
       "      <td>1</td>\n",
       "      <td>11</td>\n",
       "      <td>2011</td>\n",
       "      <td>3</td>\n",
       "      <td>335.60</td>\n",
       "      <td>2945.56</td>\n",
       "      <td>48.04</td>\n",
       "      <td>6.00</td>\n",
       "      <td>9.30</td>\n",
       "      <td>585.94</td>\n",
       "      <td>313.00</td>\n",
       "      <td>2725.99</td>\n",
       "      <td>53.47</td>\n",
       "    </tr>\n",
       "    <tr>\n",
       "      <th>4</th>\n",
       "      <td>01/11/2011 02:00</td>\n",
       "      <td>None</td>\n",
       "      <td>0</td>\n",
       "      <td>1</td>\n",
       "      <td>44</td>\n",
       "      <td>1</td>\n",
       "      <td>11</td>\n",
       "      <td>2011</td>\n",
       "      <td>4</td>\n",
       "      <td>342.90</td>\n",
       "      <td>2849.34</td>\n",
       "      <td>33.75</td>\n",
       "      <td>6.00</td>\n",
       "      <td>11.10</td>\n",
       "      <td>571.52</td>\n",
       "      <td>346.00</td>\n",
       "      <td>2655.64</td>\n",
       "      <td>39.87</td>\n",
       "    </tr>\n",
       "  </tbody>\n",
       "</table>\n",
       "</div>"
      ],
      "text/plain": [
       "           DateTime Holiday  HolidayFlag  DayOfWeek  WeekOfYear  Day  Month  \\\n",
       "0  01/11/2011 00:00    None            0          1          44    1     11   \n",
       "1  01/11/2011 00:30    None            0          1          44    1     11   \n",
       "2  01/11/2011 01:00    None            0          1          44    1     11   \n",
       "3  01/11/2011 01:30    None            0          1          44    1     11   \n",
       "4  01/11/2011 02:00    None            0          1          44    1     11   \n",
       "\n",
       "   Year  PeriodOfDay ForecastWindProduction SystemLoadEA  SMPEA  \\\n",
       "0  2011            0                 315.31      3388.77  49.26   \n",
       "1  2011            1                 321.80      3196.66  49.26   \n",
       "2  2011            2                 328.57      3060.71  49.10   \n",
       "3  2011            3                 335.60      2945.56  48.04   \n",
       "4  2011            4                 342.90      2849.34  33.75   \n",
       "\n",
       "  ORKTemperature ORKWindspeed CO2Intensity ActualWindProduction SystemLoadEP2  \\\n",
       "0           6.00         9.30       600.71               356.00       3159.60   \n",
       "1           6.00        11.10       605.42               317.00       2973.01   \n",
       "2           5.00        11.10       589.97               311.00       2834.00   \n",
       "3           6.00         9.30       585.94               313.00       2725.99   \n",
       "4           6.00        11.10       571.52               346.00       2655.64   \n",
       "\n",
       "  SMPEP2  \n",
       "0  54.32  \n",
       "1  54.23  \n",
       "2  54.23  \n",
       "3  53.47  \n",
       "4  39.87  "
      ]
     },
     "execution_count": 2,
     "metadata": {},
     "output_type": "execute_result"
    }
   ],
   "source": [
    "df = pd.read_csv(\"electricity.csv\", low_memory= False)\n",
    "df.head()"
   ]
  },
  {
   "cell_type": "code",
   "execution_count": 3,
   "metadata": {},
   "outputs": [
    {
     "name": "stdout",
     "output_type": "stream",
     "text": [
      "<class 'pandas.core.frame.DataFrame'>\n",
      "RangeIndex: 38014 entries, 0 to 38013\n",
      "Data columns (total 18 columns):\n",
      " #   Column                  Non-Null Count  Dtype \n",
      "---  ------                  --------------  ----- \n",
      " 0   DateTime                38014 non-null  object\n",
      " 1   Holiday                 38014 non-null  object\n",
      " 2   HolidayFlag             38014 non-null  int64 \n",
      " 3   DayOfWeek               38014 non-null  int64 \n",
      " 4   WeekOfYear              38014 non-null  int64 \n",
      " 5   Day                     38014 non-null  int64 \n",
      " 6   Month                   38014 non-null  int64 \n",
      " 7   Year                    38014 non-null  int64 \n",
      " 8   PeriodOfDay             38014 non-null  int64 \n",
      " 9   ForecastWindProduction  38014 non-null  object\n",
      " 10  SystemLoadEA            38014 non-null  object\n",
      " 11  SMPEA                   38014 non-null  object\n",
      " 12  ORKTemperature          38014 non-null  object\n",
      " 13  ORKWindspeed            38014 non-null  object\n",
      " 14  CO2Intensity            38014 non-null  object\n",
      " 15  ActualWindProduction    38014 non-null  object\n",
      " 16  SystemLoadEP2           38014 non-null  object\n",
      " 17  SMPEP2                  38014 non-null  object\n",
      "dtypes: int64(7), object(11)\n",
      "memory usage: 5.2+ MB\n"
     ]
    }
   ],
   "source": [
    "df.info()"
   ]
  },
  {
   "cell_type": "code",
   "execution_count": 4,
   "metadata": {},
   "outputs": [
    {
     "data": {
      "text/html": [
       "<div>\n",
       "<style scoped>\n",
       "    .dataframe tbody tr th:only-of-type {\n",
       "        vertical-align: middle;\n",
       "    }\n",
       "\n",
       "    .dataframe tbody tr th {\n",
       "        vertical-align: top;\n",
       "    }\n",
       "\n",
       "    .dataframe thead th {\n",
       "        text-align: right;\n",
       "    }\n",
       "</style>\n",
       "<table border=\"1\" class=\"dataframe\">\n",
       "  <thead>\n",
       "    <tr style=\"text-align: right;\">\n",
       "      <th></th>\n",
       "      <th>HolidayFlag</th>\n",
       "      <th>DayOfWeek</th>\n",
       "      <th>WeekOfYear</th>\n",
       "      <th>Day</th>\n",
       "      <th>Month</th>\n",
       "      <th>Year</th>\n",
       "      <th>PeriodOfDay</th>\n",
       "    </tr>\n",
       "  </thead>\n",
       "  <tbody>\n",
       "    <tr>\n",
       "      <th>count</th>\n",
       "      <td>38014.000000</td>\n",
       "      <td>38014.000000</td>\n",
       "      <td>38014.000000</td>\n",
       "      <td>38014.000000</td>\n",
       "      <td>38014.000000</td>\n",
       "      <td>38014.000000</td>\n",
       "      <td>38014.000000</td>\n",
       "    </tr>\n",
       "    <tr>\n",
       "      <th>mean</th>\n",
       "      <td>0.040406</td>\n",
       "      <td>2.997317</td>\n",
       "      <td>28.124586</td>\n",
       "      <td>15.739412</td>\n",
       "      <td>6.904246</td>\n",
       "      <td>2012.383859</td>\n",
       "      <td>23.501105</td>\n",
       "    </tr>\n",
       "    <tr>\n",
       "      <th>std</th>\n",
       "      <td>0.196912</td>\n",
       "      <td>1.999959</td>\n",
       "      <td>15.587575</td>\n",
       "      <td>8.804247</td>\n",
       "      <td>3.573696</td>\n",
       "      <td>0.624956</td>\n",
       "      <td>13.853108</td>\n",
       "    </tr>\n",
       "    <tr>\n",
       "      <th>min</th>\n",
       "      <td>0.000000</td>\n",
       "      <td>0.000000</td>\n",
       "      <td>1.000000</td>\n",
       "      <td>1.000000</td>\n",
       "      <td>1.000000</td>\n",
       "      <td>2011.000000</td>\n",
       "      <td>0.000000</td>\n",
       "    </tr>\n",
       "    <tr>\n",
       "      <th>25%</th>\n",
       "      <td>0.000000</td>\n",
       "      <td>1.000000</td>\n",
       "      <td>15.000000</td>\n",
       "      <td>8.000000</td>\n",
       "      <td>4.000000</td>\n",
       "      <td>2012.000000</td>\n",
       "      <td>12.000000</td>\n",
       "    </tr>\n",
       "    <tr>\n",
       "      <th>50%</th>\n",
       "      <td>0.000000</td>\n",
       "      <td>3.000000</td>\n",
       "      <td>29.000000</td>\n",
       "      <td>16.000000</td>\n",
       "      <td>7.000000</td>\n",
       "      <td>2012.000000</td>\n",
       "      <td>24.000000</td>\n",
       "    </tr>\n",
       "    <tr>\n",
       "      <th>75%</th>\n",
       "      <td>0.000000</td>\n",
       "      <td>5.000000</td>\n",
       "      <td>43.000000</td>\n",
       "      <td>23.000000</td>\n",
       "      <td>10.000000</td>\n",
       "      <td>2013.000000</td>\n",
       "      <td>35.750000</td>\n",
       "    </tr>\n",
       "    <tr>\n",
       "      <th>max</th>\n",
       "      <td>1.000000</td>\n",
       "      <td>6.000000</td>\n",
       "      <td>52.000000</td>\n",
       "      <td>31.000000</td>\n",
       "      <td>12.000000</td>\n",
       "      <td>2013.000000</td>\n",
       "      <td>47.000000</td>\n",
       "    </tr>\n",
       "  </tbody>\n",
       "</table>\n",
       "</div>"
      ],
      "text/plain": [
       "        HolidayFlag     DayOfWeek    WeekOfYear           Day         Month  \\\n",
       "count  38014.000000  38014.000000  38014.000000  38014.000000  38014.000000   \n",
       "mean       0.040406      2.997317     28.124586     15.739412      6.904246   \n",
       "std        0.196912      1.999959     15.587575      8.804247      3.573696   \n",
       "min        0.000000      0.000000      1.000000      1.000000      1.000000   \n",
       "25%        0.000000      1.000000     15.000000      8.000000      4.000000   \n",
       "50%        0.000000      3.000000     29.000000     16.000000      7.000000   \n",
       "75%        0.000000      5.000000     43.000000     23.000000     10.000000   \n",
       "max        1.000000      6.000000     52.000000     31.000000     12.000000   \n",
       "\n",
       "               Year   PeriodOfDay  \n",
       "count  38014.000000  38014.000000  \n",
       "mean    2012.383859     23.501105  \n",
       "std        0.624956     13.853108  \n",
       "min     2011.000000      0.000000  \n",
       "25%     2012.000000     12.000000  \n",
       "50%     2012.000000     24.000000  \n",
       "75%     2013.000000     35.750000  \n",
       "max     2013.000000     47.000000  "
      ]
     },
     "execution_count": 4,
     "metadata": {},
     "output_type": "execute_result"
    }
   ],
   "source": [
    "df.describe()"
   ]
  },
  {
   "cell_type": "code",
   "execution_count": 5,
   "metadata": {},
   "outputs": [
    {
     "data": {
      "text/plain": [
       "(38014, 18)"
      ]
     },
     "execution_count": 5,
     "metadata": {},
     "output_type": "execute_result"
    }
   ],
   "source": [
    "df.shape"
   ]
  },
  {
   "cell_type": "code",
   "execution_count": 6,
   "metadata": {},
   "outputs": [
    {
     "data": {
      "text/plain": [
       "DateTime                  0\n",
       "Holiday                   0\n",
       "HolidayFlag               0\n",
       "DayOfWeek                 0\n",
       "WeekOfYear                0\n",
       "Day                       0\n",
       "Month                     0\n",
       "Year                      0\n",
       "PeriodOfDay               0\n",
       "ForecastWindProduction    0\n",
       "SystemLoadEA              0\n",
       "SMPEA                     0\n",
       "ORKTemperature            0\n",
       "ORKWindspeed              0\n",
       "CO2Intensity              0\n",
       "ActualWindProduction      0\n",
       "SystemLoadEP2             0\n",
       "SMPEP2                    0\n",
       "dtype: int64"
      ]
     },
     "execution_count": 6,
     "metadata": {},
     "output_type": "execute_result"
    }
   ],
   "source": [
    "# check for missing values\n",
    "df.isna().sum()"
   ]
  },
  {
   "cell_type": "code",
   "execution_count": 7,
   "metadata": {},
   "outputs": [],
   "source": [
    "# view unique values of object dtype variables\n",
    "def print_unique(df):\n",
    "    for column in df:\n",
    "        if df[column].dtypes == \"object\":\n",
    "            print(f'{column}: {df[column].unique()}')"
   ]
  },
  {
   "cell_type": "code",
   "execution_count": 8,
   "metadata": {},
   "outputs": [
    {
     "name": "stdout",
     "output_type": "stream",
     "text": [
      "DateTime: ['01/11/2011 00:00' '01/11/2011 00:30' '01/11/2011 01:00' ...\n",
      " '31/12/2013 22:30' '31/12/2013 23:00' '31/12/2013 23:30']\n",
      "Holiday: ['None' 'Christmas Eve' 'Christmas' \"St Stephen's Day\" \"New Year's Eve\"\n",
      " \"New Year's Day\" \"St Patrick's Day\" 'Good Friday' 'Holy Saturday'\n",
      " 'Easter' 'Easter Monday' 'May Day' 'June Bank Holiday'\n",
      " 'August Bank Holiday' 'October Bank Holiday']\n",
      "ForecastWindProduction: ['315.31' '321.80' '328.57' ... '1152.01' '1123.67' '1094.24']\n",
      "SystemLoadEA: ['3388.77' '3196.66' '3060.71' ... '3821.44' '3724.21' '3638.16']\n",
      "SMPEA: ['49.26' '49.10' '48.04' ... '74.84' '149.77' '160.43']\n",
      "ORKTemperature: ['6.00' '5.00' '4.00' '8.00' '9.00' '?' '11.00' '12.00' '13.00' '10.00'\n",
      " '7.00' '3.00' '14.00' '2.00' '1.00' '0.00' '-1.00' '15.00' '16.00'\n",
      " '17.00' '18.00' '19.00' '20.00' '21.00' '22.00' '-2.00' '-3.00' '-4.00'\n",
      " '23.00' '24.00' '25.00' '-0.00']\n",
      "ORKWindspeed: ['9.30' '11.10' '7.40' '5.60' '3.70' '?' '13.00' '22.20' '18.50' '20.40'\n",
      " '24.10' '25.90' '27.80' '31.50' '29.60' '33.30' '35.20' '37.00' '38.90'\n",
      " '42.60' '44.40' '51.90' '48.20' '46.30' '50.00' '53.70' '55.60' '40.70'\n",
      " '14.80' '1.90' '0.00' '16.70' '57.40' '21.60' '25.20' '28.80' '43.20'\n",
      " '39.60' '59.30' '61.10' '3.60' '14.40' '18.00' '10.80' '64.80' '63.00'\n",
      " '70.40' '72.20' '68.50' '7.20' '74.10' '75.90' '66.70']\n",
      "CO2Intensity: ['600.71' '605.42' '589.97' ... '280.91' '302.46' '308.01']\n",
      "ActualWindProduction: ['356.00' '317.00' '311.00' ... '1517.00' '1489.00' '1500.00']\n",
      "SystemLoadEP2: ['3159.60' '2973.01' '2834.00' ... '3460.29' '3563.99' '3517.08']\n",
      "SMPEP2: ['54.32' '54.23' '53.47' ... '132.50' '105.02' '34.90']\n"
     ]
    }
   ],
   "source": [
    "print_unique(df)"
   ]
  },
  {
   "attachments": {},
   "cell_type": "markdown",
   "metadata": {},
   "source": [
    "some numerical values are recorded as object type\n",
    "\n",
    "convert them to float"
   ]
  },
  {
   "cell_type": "code",
   "execution_count": 9,
   "metadata": {},
   "outputs": [
    {
     "data": {
      "text/plain": [
       "DateTime                  object\n",
       "Holiday                   object\n",
       "HolidayFlag                int64\n",
       "DayOfWeek                  int64\n",
       "WeekOfYear                 int64\n",
       "Day                        int64\n",
       "Month                      int64\n",
       "Year                       int64\n",
       "PeriodOfDay                int64\n",
       "ForecastWindProduction    object\n",
       "SystemLoadEA              object\n",
       "SMPEA                     object\n",
       "ORKTemperature            object\n",
       "ORKWindspeed              object\n",
       "CO2Intensity              object\n",
       "ActualWindProduction      object\n",
       "SystemLoadEP2             object\n",
       "SMPEP2                    object\n",
       "dtype: object"
      ]
     },
     "execution_count": 9,
     "metadata": {},
     "output_type": "execute_result"
    }
   ],
   "source": [
    "df.dtypes"
   ]
  },
  {
   "cell_type": "code",
   "execution_count": 10,
   "metadata": {},
   "outputs": [],
   "source": [
    "import pandas as pd\n",
    "\n",
    "def change_dtype(df, exclude, inplace=False):\n",
    "    \"\"\"\n",
    "    Converts columns of type 'object' to numeric data types in a pandas DataFrame, excluding specified columns.\n",
    "\n",
    "    Parameters:\n",
    "        df (pandas.DataFrame): The input DataFrame.\n",
    "        exclude (list of str): The names of columns to exclude from the operation.\n",
    "        inplace (bool): Whether to modify the input DataFrame directly. Default is False.\n",
    "\n",
    "    Returns:\n",
    "        pandas.DataFrame or None: If inplace=True, returns None. Otherwise, returns a new DataFrame with the modified columns.\n",
    "    \"\"\"\n",
    "    if inplace:\n",
    "        for col in df.columns:\n",
    "            if col not in exclude and df[col].dtype == \"object\":\n",
    "                df[col] = pd.to_numeric(df[col], errors=\"coerce\")\n",
    "    else:\n",
    "        new_df = df.copy()\n",
    "        for col in new_df.columns:\n",
    "            if col not in exclude and new_df[col].dtype == \"object\":\n",
    "                new_df[col] = pd.to_numeric(new_df[col], errors=\"coerce\")\n",
    "        return new_df\n"
   ]
  },
  {
   "cell_type": "code",
   "execution_count": 11,
   "metadata": {},
   "outputs": [],
   "source": [
    "df1 = change_dtype(df, ['DateTime', 'Holiday'])\n"
   ]
  },
  {
   "cell_type": "code",
   "execution_count": 12,
   "metadata": {},
   "outputs": [
    {
     "data": {
      "text/plain": [
       "DateTime                   object\n",
       "Holiday                    object\n",
       "HolidayFlag                 int64\n",
       "DayOfWeek                   int64\n",
       "WeekOfYear                  int64\n",
       "Day                         int64\n",
       "Month                       int64\n",
       "Year                        int64\n",
       "PeriodOfDay                 int64\n",
       "ForecastWindProduction    float64\n",
       "SystemLoadEA              float64\n",
       "SMPEA                     float64\n",
       "ORKTemperature            float64\n",
       "ORKWindspeed              float64\n",
       "CO2Intensity              float64\n",
       "ActualWindProduction      float64\n",
       "SystemLoadEP2             float64\n",
       "SMPEP2                    float64\n",
       "dtype: object"
      ]
     },
     "execution_count": 12,
     "metadata": {},
     "output_type": "execute_result"
    }
   ],
   "source": [
    "df1.dtypes"
   ]
  },
  {
   "cell_type": "code",
   "execution_count": 13,
   "metadata": {},
   "outputs": [
    {
     "data": {
      "text/plain": [
       "DateTime                    0\n",
       "Holiday                     0\n",
       "HolidayFlag                 0\n",
       "DayOfWeek                   0\n",
       "WeekOfYear                  0\n",
       "Day                         0\n",
       "Month                       0\n",
       "Year                        0\n",
       "PeriodOfDay                 0\n",
       "ForecastWindProduction      5\n",
       "SystemLoadEA                2\n",
       "SMPEA                       2\n",
       "ORKTemperature            295\n",
       "ORKWindspeed              299\n",
       "CO2Intensity                7\n",
       "ActualWindProduction        5\n",
       "SystemLoadEP2               2\n",
       "SMPEP2                      2\n",
       "dtype: int64"
      ]
     },
     "execution_count": 13,
     "metadata": {},
     "output_type": "execute_result"
    }
   ],
   "source": [
    "# check for missing values\n",
    "df1.isna().sum()"
   ]
  },
  {
   "cell_type": "code",
   "execution_count": 14,
   "metadata": {},
   "outputs": [],
   "source": [
    "df1 = df1.dropna()"
   ]
  },
  {
   "cell_type": "code",
   "execution_count": 18,
   "metadata": {},
   "outputs": [
    {
     "data": {
      "text/plain": [
       "DateTime                  0\n",
       "Holiday                   0\n",
       "HolidayFlag               0\n",
       "DayOfWeek                 0\n",
       "WeekOfYear                0\n",
       "Day                       0\n",
       "Month                     0\n",
       "Year                      0\n",
       "PeriodOfDay               0\n",
       "ForecastWindProduction    0\n",
       "SystemLoadEA              0\n",
       "SMPEA                     0\n",
       "ORKTemperature            0\n",
       "ORKWindspeed              0\n",
       "CO2Intensity              0\n",
       "ActualWindProduction      0\n",
       "SystemLoadEP2             0\n",
       "SMPEP2                    0\n",
       "dtype: int64"
      ]
     },
     "execution_count": 18,
     "metadata": {},
     "output_type": "execute_result"
    }
   ],
   "source": [
    "df1.isna().sum()"
   ]
  },
  {
   "cell_type": "code",
   "execution_count": 19,
   "metadata": {},
   "outputs": [
    {
     "name": "stdout",
     "output_type": "stream",
     "text": [
      "<class 'pandas.core.frame.DataFrame'>\n",
      "Int64Index: 37682 entries, 0 to 38013\n",
      "Data columns (total 18 columns):\n",
      " #   Column                  Non-Null Count  Dtype  \n",
      "---  ------                  --------------  -----  \n",
      " 0   DateTime                37682 non-null  object \n",
      " 1   Holiday                 37682 non-null  object \n",
      " 2   HolidayFlag             37682 non-null  int64  \n",
      " 3   DayOfWeek               37682 non-null  int64  \n",
      " 4   WeekOfYear              37682 non-null  int64  \n",
      " 5   Day                     37682 non-null  int64  \n",
      " 6   Month                   37682 non-null  int64  \n",
      " 7   Year                    37682 non-null  int64  \n",
      " 8   PeriodOfDay             37682 non-null  int64  \n",
      " 9   ForecastWindProduction  37682 non-null  float64\n",
      " 10  SystemLoadEA            37682 non-null  float64\n",
      " 11  SMPEA                   37682 non-null  float64\n",
      " 12  ORKTemperature          37682 non-null  float64\n",
      " 13  ORKWindspeed            37682 non-null  float64\n",
      " 14  CO2Intensity            37682 non-null  float64\n",
      " 15  ActualWindProduction    37682 non-null  float64\n",
      " 16  SystemLoadEP2           37682 non-null  float64\n",
      " 17  SMPEP2                  37682 non-null  float64\n",
      "dtypes: float64(9), int64(7), object(2)\n",
      "memory usage: 5.5+ MB\n"
     ]
    }
   ],
   "source": [
    "df1.info()"
   ]
  },
  {
   "cell_type": "code",
   "execution_count": 16,
   "metadata": {},
   "outputs": [
    {
     "data": {
      "text/html": [
       "<div>\n",
       "<style scoped>\n",
       "    .dataframe tbody tr th:only-of-type {\n",
       "        vertical-align: middle;\n",
       "    }\n",
       "\n",
       "    .dataframe tbody tr th {\n",
       "        vertical-align: top;\n",
       "    }\n",
       "\n",
       "    .dataframe thead th {\n",
       "        text-align: right;\n",
       "    }\n",
       "</style>\n",
       "<table border=\"1\" class=\"dataframe\">\n",
       "  <thead>\n",
       "    <tr style=\"text-align: right;\">\n",
       "      <th></th>\n",
       "      <th>HolidayFlag</th>\n",
       "      <th>DayOfWeek</th>\n",
       "      <th>WeekOfYear</th>\n",
       "      <th>Day</th>\n",
       "      <th>Month</th>\n",
       "      <th>Year</th>\n",
       "      <th>PeriodOfDay</th>\n",
       "      <th>ForecastWindProduction</th>\n",
       "      <th>SystemLoadEA</th>\n",
       "      <th>SMPEA</th>\n",
       "      <th>ORKTemperature</th>\n",
       "      <th>ORKWindspeed</th>\n",
       "      <th>CO2Intensity</th>\n",
       "      <th>ActualWindProduction</th>\n",
       "      <th>SystemLoadEP2</th>\n",
       "      <th>SMPEP2</th>\n",
       "    </tr>\n",
       "  </thead>\n",
       "  <tbody>\n",
       "    <tr>\n",
       "      <th>count</th>\n",
       "      <td>37682.000000</td>\n",
       "      <td>37682.000000</td>\n",
       "      <td>37682.000000</td>\n",
       "      <td>37682.000000</td>\n",
       "      <td>37682.000000</td>\n",
       "      <td>37682.000000</td>\n",
       "      <td>37682.000000</td>\n",
       "      <td>37682.000000</td>\n",
       "      <td>37682.000000</td>\n",
       "      <td>37682.000000</td>\n",
       "      <td>37682.000000</td>\n",
       "      <td>37682.000000</td>\n",
       "      <td>37682.000000</td>\n",
       "      <td>37682.000000</td>\n",
       "      <td>37682.000000</td>\n",
       "      <td>37682.000000</td>\n",
       "    </tr>\n",
       "    <tr>\n",
       "      <th>mean</th>\n",
       "      <td>0.037578</td>\n",
       "      <td>2.998355</td>\n",
       "      <td>28.044584</td>\n",
       "      <td>15.707181</td>\n",
       "      <td>6.886789</td>\n",
       "      <td>2012.386577</td>\n",
       "      <td>23.508651</td>\n",
       "      <td>542.871513</td>\n",
       "      <td>4020.753657</td>\n",
       "      <td>62.747428</td>\n",
       "      <td>9.628443</td>\n",
       "      <td>19.209721</td>\n",
       "      <td>479.519761</td>\n",
       "      <td>519.814951</td>\n",
       "      <td>3787.560062</td>\n",
       "      <td>64.181344</td>\n",
       "    </tr>\n",
       "    <tr>\n",
       "      <th>std</th>\n",
       "      <td>0.190175</td>\n",
       "      <td>1.998845</td>\n",
       "      <td>15.552428</td>\n",
       "      <td>8.804424</td>\n",
       "      <td>3.566915</td>\n",
       "      <td>0.623780</td>\n",
       "      <td>13.854822</td>\n",
       "      <td>413.725304</td>\n",
       "      <td>860.148265</td>\n",
       "      <td>32.300069</td>\n",
       "      <td>4.439757</td>\n",
       "      <td>9.569069</td>\n",
       "      <td>85.170896</td>\n",
       "      <td>377.879680</td>\n",
       "      <td>842.544909</td>\n",
       "      <td>35.432265</td>\n",
       "    </tr>\n",
       "    <tr>\n",
       "      <th>min</th>\n",
       "      <td>0.000000</td>\n",
       "      <td>0.000000</td>\n",
       "      <td>1.000000</td>\n",
       "      <td>1.000000</td>\n",
       "      <td>1.000000</td>\n",
       "      <td>2011.000000</td>\n",
       "      <td>0.000000</td>\n",
       "      <td>0.680000</td>\n",
       "      <td>2183.940000</td>\n",
       "      <td>0.000000</td>\n",
       "      <td>-4.000000</td>\n",
       "      <td>0.000000</td>\n",
       "      <td>0.000000</td>\n",
       "      <td>1.000000</td>\n",
       "      <td>1809.960000</td>\n",
       "      <td>-47.740000</td>\n",
       "    </tr>\n",
       "    <tr>\n",
       "      <th>25%</th>\n",
       "      <td>0.000000</td>\n",
       "      <td>1.000000</td>\n",
       "      <td>14.000000</td>\n",
       "      <td>8.000000</td>\n",
       "      <td>4.000000</td>\n",
       "      <td>2012.000000</td>\n",
       "      <td>12.000000</td>\n",
       "      <td>188.927500</td>\n",
       "      <td>3281.780000</td>\n",
       "      <td>45.540000</td>\n",
       "      <td>6.000000</td>\n",
       "      <td>13.000000</td>\n",
       "      <td>421.275000</td>\n",
       "      <td>198.000000</td>\n",
       "      <td>3060.215000</td>\n",
       "      <td>45.800000</td>\n",
       "    </tr>\n",
       "    <tr>\n",
       "      <th>50%</th>\n",
       "      <td>0.000000</td>\n",
       "      <td>3.000000</td>\n",
       "      <td>29.000000</td>\n",
       "      <td>16.000000</td>\n",
       "      <td>7.000000</td>\n",
       "      <td>2012.000000</td>\n",
       "      <td>24.000000</td>\n",
       "      <td>440.645000</td>\n",
       "      <td>4105.530000</td>\n",
       "      <td>55.230000</td>\n",
       "      <td>9.000000</td>\n",
       "      <td>18.500000</td>\n",
       "      <td>480.350000</td>\n",
       "      <td>444.000000</td>\n",
       "      <td>3867.220000</td>\n",
       "      <td>55.560000</td>\n",
       "    </tr>\n",
       "    <tr>\n",
       "      <th>75%</th>\n",
       "      <td>0.000000</td>\n",
       "      <td>5.000000</td>\n",
       "      <td>43.000000</td>\n",
       "      <td>23.000000</td>\n",
       "      <td>10.000000</td>\n",
       "      <td>2013.000000</td>\n",
       "      <td>36.000000</td>\n",
       "      <td>837.182500</td>\n",
       "      <td>4638.982500</td>\n",
       "      <td>70.320000</td>\n",
       "      <td>13.000000</td>\n",
       "      <td>24.100000</td>\n",
       "      <td>537.540000</td>\n",
       "      <td>792.000000</td>\n",
       "      <td>4427.822500</td>\n",
       "      <td>72.120000</td>\n",
       "    </tr>\n",
       "    <tr>\n",
       "      <th>max</th>\n",
       "      <td>1.000000</td>\n",
       "      <td>6.000000</td>\n",
       "      <td>52.000000</td>\n",
       "      <td>31.000000</td>\n",
       "      <td>12.000000</td>\n",
       "      <td>2013.000000</td>\n",
       "      <td>47.000000</td>\n",
       "      <td>1680.000000</td>\n",
       "      <td>6492.910000</td>\n",
       "      <td>587.580000</td>\n",
       "      <td>25.000000</td>\n",
       "      <td>75.900000</td>\n",
       "      <td>842.880000</td>\n",
       "      <td>1769.000000</td>\n",
       "      <td>6309.750000</td>\n",
       "      <td>1000.000000</td>\n",
       "    </tr>\n",
       "  </tbody>\n",
       "</table>\n",
       "</div>"
      ],
      "text/plain": [
       "        HolidayFlag     DayOfWeek    WeekOfYear           Day         Month  \\\n",
       "count  37682.000000  37682.000000  37682.000000  37682.000000  37682.000000   \n",
       "mean       0.037578      2.998355     28.044584     15.707181      6.886789   \n",
       "std        0.190175      1.998845     15.552428      8.804424      3.566915   \n",
       "min        0.000000      0.000000      1.000000      1.000000      1.000000   \n",
       "25%        0.000000      1.000000     14.000000      8.000000      4.000000   \n",
       "50%        0.000000      3.000000     29.000000     16.000000      7.000000   \n",
       "75%        0.000000      5.000000     43.000000     23.000000     10.000000   \n",
       "max        1.000000      6.000000     52.000000     31.000000     12.000000   \n",
       "\n",
       "               Year   PeriodOfDay  ForecastWindProduction  SystemLoadEA  \\\n",
       "count  37682.000000  37682.000000            37682.000000  37682.000000   \n",
       "mean    2012.386577     23.508651              542.871513   4020.753657   \n",
       "std        0.623780     13.854822              413.725304    860.148265   \n",
       "min     2011.000000      0.000000                0.680000   2183.940000   \n",
       "25%     2012.000000     12.000000              188.927500   3281.780000   \n",
       "50%     2012.000000     24.000000              440.645000   4105.530000   \n",
       "75%     2013.000000     36.000000              837.182500   4638.982500   \n",
       "max     2013.000000     47.000000             1680.000000   6492.910000   \n",
       "\n",
       "              SMPEA  ORKTemperature  ORKWindspeed  CO2Intensity  \\\n",
       "count  37682.000000    37682.000000  37682.000000  37682.000000   \n",
       "mean      62.747428        9.628443     19.209721    479.519761   \n",
       "std       32.300069        4.439757      9.569069     85.170896   \n",
       "min        0.000000       -4.000000      0.000000      0.000000   \n",
       "25%       45.540000        6.000000     13.000000    421.275000   \n",
       "50%       55.230000        9.000000     18.500000    480.350000   \n",
       "75%       70.320000       13.000000     24.100000    537.540000   \n",
       "max      587.580000       25.000000     75.900000    842.880000   \n",
       "\n",
       "       ActualWindProduction  SystemLoadEP2        SMPEP2  \n",
       "count          37682.000000   37682.000000  37682.000000  \n",
       "mean             519.814951    3787.560062     64.181344  \n",
       "std              377.879680     842.544909     35.432265  \n",
       "min                1.000000    1809.960000    -47.740000  \n",
       "25%              198.000000    3060.215000     45.800000  \n",
       "50%              444.000000    3867.220000     55.560000  \n",
       "75%              792.000000    4427.822500     72.120000  \n",
       "max             1769.000000    6309.750000   1000.000000  "
      ]
     },
     "execution_count": 16,
     "metadata": {},
     "output_type": "execute_result"
    }
   ],
   "source": [
    "df1.describe()"
   ]
  },
  {
   "cell_type": "code",
   "execution_count": 25,
   "metadata": {},
   "outputs": [
    {
     "data": {
      "text/plain": [
       "array(['None', 'Christmas Eve', 'Christmas', \"St Stephen's Day\",\n",
       "       \"New Year's Eve\", \"New Year's Day\", \"St Patrick's Day\",\n",
       "       'Good Friday', 'Holy Saturday', 'Easter', 'Easter Monday',\n",
       "       'May Day', 'June Bank Holiday', 'August Bank Holiday',\n",
       "       'October Bank Holiday'], dtype=object)"
      ]
     },
     "execution_count": 25,
     "metadata": {},
     "output_type": "execute_result"
    }
   ],
   "source": [
    "df1.Holiday.unique()"
   ]
  },
  {
   "cell_type": "code",
   "execution_count": 26,
   "metadata": {},
   "outputs": [
    {
     "data": {
      "text/plain": [
       "array([0, 1], dtype=int64)"
      ]
     },
     "execution_count": 26,
     "metadata": {},
     "output_type": "execute_result"
    }
   ],
   "source": [
    "df1.HolidayFlag.unique()"
   ]
  },
  {
   "attachments": {},
   "cell_type": "markdown",
   "metadata": {},
   "source": [
    "we might be interested in checking if our dataset has ouliers, to do this we'll use a boxplot\n"
   ]
  },
  {
   "cell_type": "code",
   "execution_count": 20,
   "metadata": {},
   "outputs": [],
   "source": [
    "import matplotlib.pyplot as plt\n",
    "\n",
    "def box_plot(df):\n",
    "    num_cols = df.select_dtypes(include= ['int64', 'float64']).columns.tolist()\n",
    "    n = len(num_cols)\n",
    "    fig, axes = plt.subplots(nrows= 1, ncols= n, figsize= (4*n, 4))\n",
    "    for i, col in enumerate(num_cols):\n",
    "        ax = axes[i] if n > 1 else axes\n",
    "        ax.boxplot(df[col], vert= False, whis= 1.5, labels= [col])\n",
    "        ax.set_title(col)\n",
    "\n",
    "    plt.tight_layout()\n",
    "    plt.show()"
   ]
  },
  {
   "cell_type": "code",
   "execution_count": 22,
   "metadata": {},
   "outputs": [
    {
     "data": {
      "text/plain": [
       "(37682, 18)"
      ]
     },
     "execution_count": 22,
     "metadata": {},
     "output_type": "execute_result"
    }
   ],
   "source": [
    "df1.shape"
   ]
  },
  {
   "cell_type": "code",
   "execution_count": 21,
   "metadata": {},
   "outputs": [
    {
     "data": {
      "image/png": "[encoded data removed]",
      "text/plain": [
       "<Figure size 6400x400 with 16 Axes>"
      ]
     },
     "metadata": {},
     "output_type": "display_data"
    }
   ],
   "source": [
    "box_plot(df1)"
   ]
  },
  {
   "attachments": {},
   "cell_type": "markdown",
   "metadata": {},
   "source": [
    "outliers present in the following columns+\n",
    "\n",
    "1. SMPEA: forecasted price\n",
    "2. ORKTemperature: actual temperature measured\n",
    "3. ORKWindspeed: actual windspeed measured\n",
    "4. CO2Intensity: actual C02 intensity for the electricity produced\n",
    "5. ActualWindProduction: actual wind energy production\n",
    "6. SystemLoadEP2: actual national system load\n"
   ]
  },
  {
   "attachments": {},
   "cell_type": "markdown",
   "metadata": {},
   "source": [
    "check each column to understand the outliers\n"
   ]
  },
  {
   "attachments": {},
   "cell_type": "markdown",
   "metadata": {},
   "source": [
    "SMPEA: forecasted price"
   ]
  },
  {
   "cell_type": "code",
   "execution_count": 27,
   "metadata": {},
   "outputs": [
    {
     "data": {
      "text/plain": [
       "count    37682.000000\n",
       "mean        62.747428\n",
       "std         32.300069\n",
       "min          0.000000\n",
       "25%         45.540000\n",
       "50%         55.230000\n",
       "75%         70.320000\n",
       "max        587.580000\n",
       "Name: SMPEA, dtype: float64"
      ]
     },
     "execution_count": 27,
     "metadata": {},
     "output_type": "execute_result"
    }
   ],
   "source": [
    "df1.SMPEA.describe()"
   ]
  },
  {
   "cell_type": "code",
   "execution_count": 31,
   "metadata": {},
   "outputs": [
    {
     "data": {
      "image/png": "[encoded data removed]",
      "text/plain": [
       "<Figure size 640x480 with 1 Axes>"
      ]
     },
     "metadata": {},
     "output_type": "display_data"
    }
   ],
   "source": [
    "plt.boxplot(df1.SMPEP2, vert= False, whis= 1.5)\n",
    "plt.title(\"SMPEA\")\n",
    "plt.show()"
   ]
  },
  {
   "attachments": {},
   "cell_type": "markdown",
   "metadata": {},
   "source": [
    "an assumption can be made about factors that led to extreme forcasted prices, hence no further action recommenended on the outliers"
   ]
  },
  {
   "attachments": {},
   "cell_type": "markdown",
   "metadata": {},
   "source": [
    "ORKTemperature: actual temperature measured"
   ]
  },
  {
   "cell_type": "code",
   "execution_count": 32,
   "metadata": {},
   "outputs": [
    {
     "data": {
      "text/plain": [
       "count    37682.000000\n",
       "mean         9.628443\n",
       "std          4.439757\n",
       "min         -4.000000\n",
       "25%          6.000000\n",
       "50%          9.000000\n",
       "75%         13.000000\n",
       "max         25.000000\n",
       "Name: ORKTemperature, dtype: float64"
      ]
     },
     "execution_count": 32,
     "metadata": {},
     "output_type": "execute_result"
    }
   ],
   "source": [
    "df1.ORKTemperature.describe()"
   ]
  },
  {
   "cell_type": "code",
   "execution_count": 42,
   "metadata": {},
   "outputs": [
    {
     "data": {
      "image/png": "[encoded data removed]",
      "text/plain": [
       "<Figure size 640x480 with 1 Axes>"
      ]
     },
     "metadata": {},
     "output_type": "display_data"
    }
   ],
   "source": [
    "plt.boxplot(df1.ORKTemperature, vert= False, whis= 1.5)\n",
    "plt.title(\"ORKTemperature\")\n",
    "plt.show()"
   ]
  },
  {
   "attachments": {},
   "cell_type": "markdown",
   "metadata": {},
   "source": [
    "two outliers present"
   ]
  },
  {
   "cell_type": "code",
   "execution_count": 43,
   "metadata": {},
   "outputs": [],
   "source": [
    "# # identifying the two using the z score\n",
    "# z = (df1.ORKTemperature - df1.ORKTemperature.mean()) / df1.ORKTemperature.std()\n",
    "# out_rows = df1[abs(z) > 3]\n"
   ]
  },
  {
   "attachments": {},
   "cell_type": "markdown",
   "metadata": {},
   "source": [
    "assumption made and outliers left untouched"
   ]
  },
  {
   "attachments": {},
   "cell_type": "markdown",
   "metadata": {},
   "source": [
    "ORKWindspeed: actual windspeed measured"
   ]
  },
  {
   "cell_type": "code",
   "execution_count": 44,
   "metadata": {},
   "outputs": [
    {
     "data": {
      "image/png": "[encoded data removed]",
      "text/plain": [
       "<Figure size 640x480 with 1 Axes>"
      ]
     },
     "metadata": {},
     "output_type": "display_data"
    }
   ],
   "source": [
    "plt.boxplot(df1.ORKWindspeed, vert= False, whis= 1.5)\n",
    "plt.title(\"ORKWindspeed\")\n",
    "plt.show()"
   ]
  },
  {
   "attachments": {},
   "cell_type": "markdown",
   "metadata": {},
   "source": [
    "CO2Intensity: actual C02 intensity for the electricity produced"
   ]
  },
  {
   "cell_type": "code",
   "execution_count": 45,
   "metadata": {},
   "outputs": [
    {
     "data": {
      "image/png": "[encoded data removed]",
      "text/plain": [
       "<Figure size 640x480 with 1 Axes>"
      ]
     },
     "metadata": {},
     "output_type": "display_data"
    }
   ],
   "source": [
    "plt.boxplot(df1.CO2Intensity, vert= False, whis= 1.5)\n",
    "plt.title(\"CO2Intensity\")\n",
    "plt.show()"
   ]
  },
  {
   "attachments": {},
   "cell_type": "markdown",
   "metadata": {},
   "source": [
    "only two extreme outliers"
   ]
  },
  {
   "cell_type": "markdown",
   "metadata": {},
   "source": [
    "ActualWindProduction: actual wind energy production"
   ]
  },
  {
   "cell_type": "code",
   "execution_count": 47,
   "metadata": {},
   "outputs": [
    {
     "data": {
      "image/png": "[encoded data removed]",
      "text/plain": [
       "<Figure size 640x480 with 1 Axes>"
      ]
     },
     "metadata": {},
     "output_type": "display_data"
    }
   ],
   "source": [
    "plt.boxplot(df1.ActualWindProduction, vert= False, whis= 1.5)\n",
    "plt.title(\"ActualWindProduction\")\n",
    "plt.show()"
   ]
  },
  {
   "attachments": {},
   "cell_type": "markdown",
   "metadata": {},
   "source": [
    "\n",
    "\n",
    "we might be interested to view the relationship between Holiday flag and SMPEP2: the actual price of the electricity consumed"
   ]
  },
  {
   "cell_type": "code",
   "execution_count": 54,
   "metadata": {},
   "outputs": [],
   "source": [
    "holiday = df1[df1.HolidayFlag == 1].SMPEP2\n",
    "no_holiday = df1[df1.HolidayFlag == 0].SMPEP2"
   ]
  },
  {
   "cell_type": "code",
   "execution_count": 58,
   "metadata": {},
   "outputs": [
    {
     "data": {
      "text/plain": [
       "count    1416.000000\n",
       "mean       63.851780\n",
       "std        34.491958\n",
       "min        18.400000\n",
       "25%        43.960000\n",
       "50%        55.420000\n",
       "75%        73.330000\n",
       "max       351.460000\n",
       "Name: SMPEP2, dtype: float64"
      ]
     },
     "execution_count": 58,
     "metadata": {},
     "output_type": "execute_result"
    }
   ],
   "source": [
    "holiday.describe()"
   ]
  },
  {
   "cell_type": "code",
   "execution_count": 59,
   "metadata": {},
   "outputs": [
    {
     "data": {
      "text/plain": [
       "count    36266.000000\n",
       "mean        64.194212\n",
       "std         35.468875\n",
       "min        -47.740000\n",
       "25%         45.950000\n",
       "50%         55.585000\n",
       "75%         72.040000\n",
       "max       1000.000000\n",
       "Name: SMPEP2, dtype: float64"
      ]
     },
     "execution_count": 59,
     "metadata": {},
     "output_type": "execute_result"
    }
   ],
   "source": [
    "no_holiday.describe()"
   ]
  },
  {
   "attachments": {},
   "cell_type": "markdown",
   "metadata": {},
   "source": [
    "electricity on holidays is generally cheaper"
   ]
  },
  {
   "cell_type": "code",
   "execution_count": null,
   "metadata": {},
   "outputs": [],
   "source": []
  }
 ],
 "metadata": {
  "kernelspec": {
   "display_name": "base",
   "language": "python",
   "name": "python3"
  },
  "language_info": {
   "codemirror_mode": {
    "name": "ipython",
    "version": 3
   },
   "file_extension": ".py",
   "mimetype": "text/x-python",
   "name": "python",
   "nbconvert_exporter": "python",
   "pygments_lexer": "ipython3",
   "version": "3.9.16"
  },
  "orig_nbformat": 4,
  "vscode": {
   "interpreter": {
    "hash": "57bc2b6ce032b5f0e93daa91901b7ea38a856826ef43aa9e95b6d3999f5310df"
   }
  }
 },
 "nbformat": 4,
 "nbformat_minor": 2
}
