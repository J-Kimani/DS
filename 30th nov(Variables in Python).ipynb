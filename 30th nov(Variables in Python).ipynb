{
 "cells": [
  {
   "cell_type": "code",
   "execution_count": 3,
   "metadata": {},
   "outputs": [
    {
     "name": "stdout",
     "output_type": "stream",
     "text": [
      "1220\n",
      "1728.15\n",
      "Expense items:  rent gas groceries\n"
     ]
    }
   ],
   "source": [
    "\n",
    "##variables\n",
    "rent = 1220\n",
    "gas = 202.55\n",
    "groceries = 305.6\n",
    "print(rent)\n",
    "\n",
    "total=rent+gas+groceries\n",
    "print(total)\n",
    "\n",
    "rent = 1400\n",
    "item1 = \"rent\"\n",
    "item2 = \"gas\"\n",
    "item3 = \"groceries\"\n",
    "print(\"Expense items: \",item1,item2,item3)\n"
   ]
  },
  {
   "cell_type": "code",
   "execution_count": 9,
   "metadata": {},
   "outputs": [
    {
     "name": "stdout",
     "output_type": "stream",
     "text": [
      "435\n"
     ]
    },
    {
     "data": {
      "text/plain": [
       "0.2999999999999998"
      ]
     },
     "execution_count": 9,
     "metadata": {},
     "output_type": "execute_result"
    }
   ],
   "source": [
    "##numbers\n",
    "3**3\n",
    "nyc_bal=188\n",
    "bal_pitt=247\n",
    "total_distance=nyc_bal+bal_pitt\n",
    "print(total_distance)\n",
    "mph=65\n",
    "time=total_distance/mph\n",
    "time\n",
    "round(time,3)\n",
    "10+2*3\n",
    "6-5.7\n"
   ]
  },
  {
   "cell_type": "code",
   "execution_count": 19,
   "metadata": {},
   "outputs": [
    {
     "name": "stdout",
     "output_type": "stream",
     "text": [
      "1 purple street\n",
      "new york\n",
      "usa\n"
     ]
    },
    {
     "data": {
      "text/plain": [
       "'total number of counties in kenya #47'"
      ]
     },
     "execution_count": 19,
     "metadata": {},
     "output_type": "execute_result"
    }
   ],
   "source": [
    "##strings\n",
    "text = \"ice cream\"\n",
    "text\n",
    "text[-1]\n",
    "text[0:3]\n",
    "text[4:9]\n",
    "adress = '''1 purple street\n",
    "new york\n",
    "usa'''\n",
    "adress\n",
    "print(adress)\n",
    "adress\n",
    "s = \"total number of counties in kenya #\"\n",
    "num = 47\n",
    "str(num) \n",
    "s + str(num)\n"
   ]
  },
  {
   "cell_type": "code",
   "execution_count": 36,
   "metadata": {},
   "outputs": [
    {
     "data": {
      "text/plain": [
       "True"
      ]
     },
     "execution_count": 36,
     "metadata": {},
     "output_type": "execute_result"
    }
   ],
   "source": [
    "##lists\n",
    "items = [\"bread\", \"pasta\", \"fruits\", \"veggies\"]\n",
    "items\n",
    "items[2]\n",
    "items[-1]\n",
    "items[0] = \"chips\"\n",
    "items[0:4]\n",
    "items = [\"bread\", \"pasta\", \"fruits\", \"veggies\"]\n",
    "items.append(\"butter\")\n",
    "items\n",
    "items = [\"bread\", \"pasta\", \"fruits\", \"veggies\"]\n",
    "items.insert(1,\"butter\")\n",
    "items\n",
    "##joining two lists\n",
    "food = [\"bread\", \"pasta\", \"fruits\"]\n",
    "bathroom = [\"shampoo\",\"soap\"]\n",
    "items = food + bathroom\n",
    "items\n",
    "len(items)\n",
    "\"bread\" in items\n"
   ]
  },
  {
   "cell_type": "code",
   "execution_count": 16,
   "metadata": {},
   "outputs": [
    {
     "data": {
      "text/plain": [
       "4.0"
      ]
     },
     "execution_count": 16,
     "metadata": {},
     "output_type": "execute_result"
    }
   ],
   "source": [
    "##dictionaries\n",
    "d = {\"tom\":1585621368, \"rob\":79416411, \"joe\":79465558}\n",
    "d\n",
    "d[\"tom\"]\n",
    "##add new \n",
    "d[\"sam\"] = 59597644\n",
    "d\n",
    "del d[\"sam\"]\n",
    "d\n",
    "# for key in d:\n",
    "#     print(\"key:\", key,\"value:\", d[key])\n",
    "\n",
    "# for k,v in d.items():\n",
    "#     print(\"key:\", key,\"value:\", v)\n",
    "\n",
    "d.clear()\n",
    "\n",
    "##tuples\n",
    "point = (5,9)\n",
    "point[0]\n",
    "point[1]\n",
    "math.sqrt(16)\n"
   ]
  },
  {
   "cell_type": "code",
   "execution_count": 28,
   "metadata": {},
   "outputs": [
    {
     "name": "stdout",
     "output_type": "stream",
     "text": [
      "   December 2021\n",
      "Mo Tu We Th Fr Sa Su\n",
      "       1  2  3  4  5\n",
      " 6  7  8  9 10 11 12\n",
      "13 14 15 16 17 18 19\n",
      "20 21 22 23 24 25 26\n",
      "27 28 29 30 31\n",
      "\n"
     ]
    },
    {
     "data": {
      "text/plain": [
       "True"
      ]
     },
     "execution_count": 28,
     "metadata": {},
     "output_type": "execute_result"
    }
   ],
   "source": [
    "import math\n",
    "math.sqrt(16)\n",
    "math.pow(2,5)\n",
    "dir(math)\n",
    "math.pi\n",
    "math.log10(100)\n",
    "math.floor(2.3)\n",
    "math.ceil(2.3)\n",
    "import calendar\n",
    "cal = calendar.month(2021,12)\n",
    "print(cal)\n",
    "calendar.isleap(2021)\n",
    "calendar.isleap(2020)\n",
    "\n"
   ]
  },
  {
   "cell_type": "code",
   "execution_count": 11,
   "metadata": {},
   "outputs": [
    {
     "name": "stdout",
     "output_type": "stream",
     "text": [
      "{'name': 'tom', 'address': '1 red street NY', 'phone': 588548545}\n",
      "{'name': 'bob', 'address': '1 red street NY', 'phone': 54194615}\n"
     ]
    }
   ],
   "source": [
    "f = open(\"C:\\\\Users\\\\kimani\\\\PycharmProjects\\\\book.txt\", \"r\")\n",
    "s = f.read()\n",
    "s\n",
    "\n",
    "import json\n",
    "book = json.loads(s)\n",
    "type(book)\n",
    "book['bob']['phone']\n",
    "for person in book:\n",
    "    print(book[person])\n",
    "\n"
   ]
  }
 ],
 "metadata": {
  "interpreter": {
   "hash": "4d8c8916ab2ab8fd53895c4da141a226694a3b962f94eaf34025dc652c423bf6"
  },
  "kernelspec": {
   "display_name": "Python 3.8.8 64-bit ('base': conda)",
   "language": "python",
   "name": "python3"
  },
  "language_info": {
   "codemirror_mode": {
    "name": "ipython",
    "version": 3
   },
   "file_extension": ".py",
   "mimetype": "text/x-python",
   "name": "python",
   "nbconvert_exporter": "python",
   "pygments_lexer": "ipython3",
   "version": "3.8.8"
  },
  "orig_nbformat": 4
 },
 "nbformat": 4,
 "nbformat_minor": 2
}
