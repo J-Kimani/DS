{
  "nbformat": 4,
  "nbformat_minor": 0,
  "metadata": {
    "colab": {
      "name": "Text Representation Using Bag Of Words (BOW): NLP Tutorial For Beginners - 15.ipynb",
      "provenance": []
    },
    "kernelspec": {
      "name": "python3",
      "display_name": "Python 3"
    },
    "language_info": {
      "name": "python"
    }
  },
  "cells": [
    {
      "cell_type": "markdown",
      "source": [
        "Bag of words (a.k.a. BOW) is a technique used for text representation in natural language processing.\n"
      ],
      "metadata": {
        "id": "HnDPid1Ktfbr"
      }
    },
    {
      "cell_type": "code",
      "execution_count": 1,
      "metadata": {
        "id": "5ruCDZF4jehv"
      },
      "outputs": [],
      "source": [
        "import pandas as pd\n",
        "import numpy as np"
      ]
    },
    {
      "cell_type": "code",
      "source": [
        "df = pd.read_csv(\"spam.csv\")\n",
        "df.head()"
      ],
      "metadata": {
        "colab": {
          "base_uri": "https://localhost:8080/",
          "height": 206
        },
        "id": "pIj7hzUFuf40",
        "outputId": "8690d083-f30a-4440-e5e1-d471a6daba56"
      },
      "execution_count": 2,
      "outputs": [
        {
          "output_type": "execute_result",
          "data": {
            "text/plain": [
              "  Category                                            Message\n",
              "0      ham  Go until jurong point, crazy.. Available only ...\n",
              "1      ham                      Ok lar... Joking wif u oni...\n",
              "2     spam  Free entry in 2 a wkly comp to win FA Cup fina...\n",
              "3      ham  U dun say so early hor... U c already then say...\n",
              "4      ham  Nah I don't think he goes to usf, he lives aro..."
            ],
            "text/html": [
              "\n",
              "  <div id=\"df-2f562a9f-63e8-4aa5-8069-d4fe7d67d130\">\n",
              "    <div class=\"colab-df-container\">\n",
              "      <div>\n",
              "<style scoped>\n",
              "    .dataframe tbody tr th:only-of-type {\n",
              "        vertical-align: middle;\n",
              "    }\n",
              "\n",
              "    .dataframe tbody tr th {\n",
              "        vertical-align: top;\n",
              "    }\n",
              "\n",
              "    .dataframe thead th {\n",
              "        text-align: right;\n",
              "    }\n",
              "</style>\n",
              "<table border=\"1\" class=\"dataframe\">\n",
              "  <thead>\n",
              "    <tr style=\"text-align: right;\">\n",
              "      <th></th>\n",
              "      <th>Category</th>\n",
              "      <th>Message</th>\n",
              "    </tr>\n",
              "  </thead>\n",
              "  <tbody>\n",
              "    <tr>\n",
              "      <th>0</th>\n",
              "      <td>ham</td>\n",
              "      <td>Go until jurong point, crazy.. Available only ...</td>\n",
              "    </tr>\n",
              "    <tr>\n",
              "      <th>1</th>\n",
              "      <td>ham</td>\n",
              "      <td>Ok lar... Joking wif u oni...</td>\n",
              "    </tr>\n",
              "    <tr>\n",
              "      <th>2</th>\n",
              "      <td>spam</td>\n",
              "      <td>Free entry in 2 a wkly comp to win FA Cup fina...</td>\n",
              "    </tr>\n",
              "    <tr>\n",
              "      <th>3</th>\n",
              "      <td>ham</td>\n",
              "      <td>U dun say so early hor... U c already then say...</td>\n",
              "    </tr>\n",
              "    <tr>\n",
              "      <th>4</th>\n",
              "      <td>ham</td>\n",
              "      <td>Nah I don't think he goes to usf, he lives aro...</td>\n",
              "    </tr>\n",
              "  </tbody>\n",
              "</table>\n",
              "</div>\n",
              "      <button class=\"colab-df-convert\" onclick=\"convertToInteractive('df-2f562a9f-63e8-4aa5-8069-d4fe7d67d130')\"\n",
              "              title=\"Convert this dataframe to an interactive table.\"\n",
              "              style=\"display:none;\">\n",
              "        \n",
              "  <svg xmlns=\"http://www.w3.org/2000/svg\" height=\"24px\"viewBox=\"0 0 24 24\"\n",
              "       width=\"24px\">\n",
              "    <path d=\"M0 0h24v24H0V0z\" fill=\"none\"/>\n",
              "    <path d=\"M18.56 5.44l.94 2.06.94-2.06 2.06-.94-2.06-.94-.94-2.06-.94 2.06-2.06.94zm-11 1L8.5 8.5l.94-2.06 2.06-.94-2.06-.94L8.5 2.5l-.94 2.06-2.06.94zm10 10l.94 2.06.94-2.06 2.06-.94-2.06-.94-.94-2.06-.94 2.06-2.06.94z\"/><path d=\"M17.41 7.96l-1.37-1.37c-.4-.4-.92-.59-1.43-.59-.52 0-1.04.2-1.43.59L10.3 9.45l-7.72 7.72c-.78.78-.78 2.05 0 2.83L4 21.41c.39.39.9.59 1.41.59.51 0 1.02-.2 1.41-.59l7.78-7.78 2.81-2.81c.8-.78.8-2.07 0-2.86zM5.41 20L4 18.59l7.72-7.72 1.47 1.35L5.41 20z\"/>\n",
              "  </svg>\n",
              "      </button>\n",
              "      \n",
              "  <style>\n",
              "    .colab-df-container {\n",
              "      display:flex;\n",
              "      flex-wrap:wrap;\n",
              "      gap: 12px;\n",
              "    }\n",
              "\n",
              "    .colab-df-convert {\n",
              "      background-color: #E8F0FE;\n",
              "      border: none;\n",
              "      border-radius: 50%;\n",
              "      cursor: pointer;\n",
              "      display: none;\n",
              "      fill: #1967D2;\n",
              "      height: 32px;\n",
              "      padding: 0 0 0 0;\n",
              "      width: 32px;\n",
              "    }\n",
              "\n",
              "    .colab-df-convert:hover {\n",
              "      background-color: #E2EBFA;\n",
              "      box-shadow: 0px 1px 2px rgba(60, 64, 67, 0.3), 0px 1px 3px 1px rgba(60, 64, 67, 0.15);\n",
              "      fill: #174EA6;\n",
              "    }\n",
              "\n",
              "    [theme=dark] .colab-df-convert {\n",
              "      background-color: #3B4455;\n",
              "      fill: #D2E3FC;\n",
              "    }\n",
              "\n",
              "    [theme=dark] .colab-df-convert:hover {\n",
              "      background-color: #434B5C;\n",
              "      box-shadow: 0px 1px 3px 1px rgba(0, 0, 0, 0.15);\n",
              "      filter: drop-shadow(0px 1px 2px rgba(0, 0, 0, 0.3));\n",
              "      fill: #FFFFFF;\n",
              "    }\n",
              "  </style>\n",
              "\n",
              "      <script>\n",
              "        const buttonEl =\n",
              "          document.querySelector('#df-2f562a9f-63e8-4aa5-8069-d4fe7d67d130 button.colab-df-convert');\n",
              "        buttonEl.style.display =\n",
              "          google.colab.kernel.accessAllowed ? 'block' : 'none';\n",
              "\n",
              "        async function convertToInteractive(key) {\n",
              "          const element = document.querySelector('#df-2f562a9f-63e8-4aa5-8069-d4fe7d67d130');\n",
              "          const dataTable =\n",
              "            await google.colab.kernel.invokeFunction('convertToInteractive',\n",
              "                                                     [key], {});\n",
              "          if (!dataTable) return;\n",
              "\n",
              "          const docLinkHtml = 'Like what you see? Visit the ' +\n",
              "            '<a target=\"_blank\" href=https://colab.research.google.com/notebooks/data_table.ipynb>data table notebook</a>'\n",
              "            + ' to learn more about interactive tables.';\n",
              "          element.innerHTML = '';\n",
              "          dataTable['output_type'] = 'display_data';\n",
              "          await google.colab.output.renderOutput(dataTable, element);\n",
              "          const docLink = document.createElement('div');\n",
              "          docLink.innerHTML = docLinkHtml;\n",
              "          element.appendChild(docLink);\n",
              "        }\n",
              "      </script>\n",
              "    </div>\n",
              "  </div>\n",
              "  "
            ]
          },
          "metadata": {},
          "execution_count": 2
        }
      ]
    },
    {
      "cell_type": "code",
      "source": [
        "df.Category.value_counts()"
      ],
      "metadata": {
        "colab": {
          "base_uri": "https://localhost:8080/"
        },
        "id": "6Inz6GXtw4fN",
        "outputId": "2584b14f-792c-4578-fb96-9805f323ca73"
      },
      "execution_count": 3,
      "outputs": [
        {
          "output_type": "execute_result",
          "data": {
            "text/plain": [
              "ham     4825\n",
              "spam     747\n",
              "Name: Category, dtype: int64"
            ]
          },
          "metadata": {},
          "execution_count": 3
        }
      ]
    },
    {
      "cell_type": "code",
      "source": [
        "df.shape"
      ],
      "metadata": {
        "colab": {
          "base_uri": "https://localhost:8080/"
        },
        "id": "tsTnShPCzS-f",
        "outputId": "3bafb3a6-aaf5-4290-cca6-0a4b945ffdbe"
      },
      "execution_count": 9,
      "outputs": [
        {
          "output_type": "execute_result",
          "data": {
            "text/plain": [
              "(5572, 3)"
            ]
          },
          "metadata": {},
          "execution_count": 9
        }
      ]
    },
    {
      "cell_type": "code",
      "source": [
        "# function for creating number columm for spam\n",
        "# def get_spam(x):\n",
        "#   if x == 'spam':\n",
        "#     return 1\n",
        "#   return 0"
      ],
      "metadata": {
        "id": "HbHPgfoAxwPM"
      },
      "execution_count": 4,
      "outputs": []
    },
    {
      "cell_type": "code",
      "source": [
        "df['spam'] = df.Category.apply(lambda x: 1 if x == 'spam' else 0)"
      ],
      "metadata": {
        "id": "QbV-lAP2w8U9"
      },
      "execution_count": 5,
      "outputs": []
    },
    {
      "cell_type": "code",
      "source": [
        "df.head(\n",
        "  \n",
        ")"
      ],
      "metadata": {
        "colab": {
          "base_uri": "https://localhost:8080/",
          "height": 206
        },
        "id": "x7YAtVJeyKLx",
        "outputId": "d46cc223-ef6c-4283-8692-e4a153c3b300"
      },
      "execution_count": 6,
      "outputs": [
        {
          "output_type": "execute_result",
          "data": {
            "text/plain": [
              "  Category                                            Message  spam\n",
              "0      ham  Go until jurong point, crazy.. Available only ...     0\n",
              "1      ham                      Ok lar... Joking wif u oni...     0\n",
              "2     spam  Free entry in 2 a wkly comp to win FA Cup fina...     1\n",
              "3      ham  U dun say so early hor... U c already then say...     0\n",
              "4      ham  Nah I don't think he goes to usf, he lives aro...     0"
            ],
            "text/html": [
              "\n",
              "  <div id=\"df-ab60bf3d-dc5b-48b6-92d1-9f5be1e427eb\">\n",
              "    <div class=\"colab-df-container\">\n",
              "      <div>\n",
              "<style scoped>\n",
              "    .dataframe tbody tr th:only-of-type {\n",
              "        vertical-align: middle;\n",
              "    }\n",
              "\n",
              "    .dataframe tbody tr th {\n",
              "        vertical-align: top;\n",
              "    }\n",
              "\n",
              "    .dataframe thead th {\n",
              "        text-align: right;\n",
              "    }\n",
              "</style>\n",
              "<table border=\"1\" class=\"dataframe\">\n",
              "  <thead>\n",
              "    <tr style=\"text-align: right;\">\n",
              "      <th></th>\n",
              "      <th>Category</th>\n",
              "      <th>Message</th>\n",
              "      <th>spam</th>\n",
              "    </tr>\n",
              "  </thead>\n",
              "  <tbody>\n",
              "    <tr>\n",
              "      <th>0</th>\n",
              "      <td>ham</td>\n",
              "      <td>Go until jurong point, crazy.. Available only ...</td>\n",
              "      <td>0</td>\n",
              "    </tr>\n",
              "    <tr>\n",
              "      <th>1</th>\n",
              "      <td>ham</td>\n",
              "      <td>Ok lar... Joking wif u oni...</td>\n",
              "      <td>0</td>\n",
              "    </tr>\n",
              "    <tr>\n",
              "      <th>2</th>\n",
              "      <td>spam</td>\n",
              "      <td>Free entry in 2 a wkly comp to win FA Cup fina...</td>\n",
              "      <td>1</td>\n",
              "    </tr>\n",
              "    <tr>\n",
              "      <th>3</th>\n",
              "      <td>ham</td>\n",
              "      <td>U dun say so early hor... U c already then say...</td>\n",
              "      <td>0</td>\n",
              "    </tr>\n",
              "    <tr>\n",
              "      <th>4</th>\n",
              "      <td>ham</td>\n",
              "      <td>Nah I don't think he goes to usf, he lives aro...</td>\n",
              "      <td>0</td>\n",
              "    </tr>\n",
              "  </tbody>\n",
              "</table>\n",
              "</div>\n",
              "      <button class=\"colab-df-convert\" onclick=\"convertToInteractive('df-ab60bf3d-dc5b-48b6-92d1-9f5be1e427eb')\"\n",
              "              title=\"Convert this dataframe to an interactive table.\"\n",
              "              style=\"display:none;\">\n",
              "        \n",
              "  <svg xmlns=\"http://www.w3.org/2000/svg\" height=\"24px\"viewBox=\"0 0 24 24\"\n",
              "       width=\"24px\">\n",
              "    <path d=\"M0 0h24v24H0V0z\" fill=\"none\"/>\n",
              "    <path d=\"M18.56 5.44l.94 2.06.94-2.06 2.06-.94-2.06-.94-.94-2.06-.94 2.06-2.06.94zm-11 1L8.5 8.5l.94-2.06 2.06-.94-2.06-.94L8.5 2.5l-.94 2.06-2.06.94zm10 10l.94 2.06.94-2.06 2.06-.94-2.06-.94-.94-2.06-.94 2.06-2.06.94z\"/><path d=\"M17.41 7.96l-1.37-1.37c-.4-.4-.92-.59-1.43-.59-.52 0-1.04.2-1.43.59L10.3 9.45l-7.72 7.72c-.78.78-.78 2.05 0 2.83L4 21.41c.39.39.9.59 1.41.59.51 0 1.02-.2 1.41-.59l7.78-7.78 2.81-2.81c.8-.78.8-2.07 0-2.86zM5.41 20L4 18.59l7.72-7.72 1.47 1.35L5.41 20z\"/>\n",
              "  </svg>\n",
              "      </button>\n",
              "      \n",
              "  <style>\n",
              "    .colab-df-container {\n",
              "      display:flex;\n",
              "      flex-wrap:wrap;\n",
              "      gap: 12px;\n",
              "    }\n",
              "\n",
              "    .colab-df-convert {\n",
              "      background-color: #E8F0FE;\n",
              "      border: none;\n",
              "      border-radius: 50%;\n",
              "      cursor: pointer;\n",
              "      display: none;\n",
              "      fill: #1967D2;\n",
              "      height: 32px;\n",
              "      padding: 0 0 0 0;\n",
              "      width: 32px;\n",
              "    }\n",
              "\n",
              "    .colab-df-convert:hover {\n",
              "      background-color: #E2EBFA;\n",
              "      box-shadow: 0px 1px 2px rgba(60, 64, 67, 0.3), 0px 1px 3px 1px rgba(60, 64, 67, 0.15);\n",
              "      fill: #174EA6;\n",
              "    }\n",
              "\n",
              "    [theme=dark] .colab-df-convert {\n",
              "      background-color: #3B4455;\n",
              "      fill: #D2E3FC;\n",
              "    }\n",
              "\n",
              "    [theme=dark] .colab-df-convert:hover {\n",
              "      background-color: #434B5C;\n",
              "      box-shadow: 0px 1px 3px 1px rgba(0, 0, 0, 0.15);\n",
              "      filter: drop-shadow(0px 1px 2px rgba(0, 0, 0, 0.3));\n",
              "      fill: #FFFFFF;\n",
              "    }\n",
              "  </style>\n",
              "\n",
              "      <script>\n",
              "        const buttonEl =\n",
              "          document.querySelector('#df-ab60bf3d-dc5b-48b6-92d1-9f5be1e427eb button.colab-df-convert');\n",
              "        buttonEl.style.display =\n",
              "          google.colab.kernel.accessAllowed ? 'block' : 'none';\n",
              "\n",
              "        async function convertToInteractive(key) {\n",
              "          const element = document.querySelector('#df-ab60bf3d-dc5b-48b6-92d1-9f5be1e427eb');\n",
              "          const dataTable =\n",
              "            await google.colab.kernel.invokeFunction('convertToInteractive',\n",
              "                                                     [key], {});\n",
              "          if (!dataTable) return;\n",
              "\n",
              "          const docLinkHtml = 'Like what you see? Visit the ' +\n",
              "            '<a target=\"_blank\" href=https://colab.research.google.com/notebooks/data_table.ipynb>data table notebook</a>'\n",
              "            + ' to learn more about interactive tables.';\n",
              "          element.innerHTML = '';\n",
              "          dataTable['output_type'] = 'display_data';\n",
              "          await google.colab.output.renderOutput(dataTable, element);\n",
              "          const docLink = document.createElement('div');\n",
              "          docLink.innerHTML = docLinkHtml;\n",
              "          element.appendChild(docLink);\n",
              "        }\n",
              "      </script>\n",
              "    </div>\n",
              "  </div>\n",
              "  "
            ]
          },
          "metadata": {},
          "execution_count": 6
        }
      ]
    },
    {
      "cell_type": "markdown",
      "source": [
        "Train Test Split"
      ],
      "metadata": {
        "id": "D82KjXQwyRu9"
      }
    },
    {
      "cell_type": "code",
      "source": [
        "from sklearn.model_selection import train_test_split \n",
        "\n",
        "X_train, X_test, y_train, y_test = train_test_split(df.Message, df.spam, test_size = 0.2)\n"
      ],
      "metadata": {
        "id": "Ipo0YHp3yM32"
      },
      "execution_count": 8,
      "outputs": []
    },
    {
      "cell_type": "code",
      "source": [
        "X_train.shape"
      ],
      "metadata": {
        "colab": {
          "base_uri": "https://localhost:8080/"
        },
        "id": "Jdk1tyNGyh8Y",
        "outputId": "c3cddc9c-180f-48ea-84ec-08c7cda564a3"
      },
      "execution_count": 10,
      "outputs": [
        {
          "output_type": "execute_result",
          "data": {
            "text/plain": [
              "(4457,)"
            ]
          },
          "metadata": {},
          "execution_count": 10
        }
      ]
    },
    {
      "cell_type": "code",
      "source": [
        "X_test.shape"
      ],
      "metadata": {
        "colab": {
          "base_uri": "https://localhost:8080/"
        },
        "id": "rsoRls7azXkR",
        "outputId": "b869e31d-51db-4e52-92eb-a97deb522a26"
      },
      "execution_count": 11,
      "outputs": [
        {
          "output_type": "execute_result",
          "data": {
            "text/plain": [
              "(1115,)"
            ]
          },
          "metadata": {},
          "execution_count": 11
        }
      ]
    },
    {
      "cell_type": "code",
      "source": [
        "type(X_train)"
      ],
      "metadata": {
        "colab": {
          "base_uri": "https://localhost:8080/"
        },
        "id": "kIyp7vyqzaWd",
        "outputId": "b3c8943c-5b2c-4fa3-9f05-71cc74a94d7c"
      },
      "execution_count": 12,
      "outputs": [
        {
          "output_type": "execute_result",
          "data": {
            "text/plain": [
              "pandas.core.series.Series"
            ]
          },
          "metadata": {},
          "execution_count": 12
        }
      ]
    },
    {
      "cell_type": "code",
      "source": [
        "X_train[:4]"
      ],
      "metadata": {
        "colab": {
          "base_uri": "https://localhost:8080/"
        },
        "id": "1GkUjLiCzkRD",
        "outputId": "f27ab7ab-ebd6-49f6-a4b8-ef06253dda87"
      },
      "execution_count": 13,
      "outputs": [
        {
          "output_type": "execute_result",
          "data": {
            "text/plain": [
              "3428                    Haha okay... Today weekend leh...\n",
              "4369    1 I don't have her number and 2 its gonna be a...\n",
              "243     Okay. No no, just shining on. That was meant t...\n",
              "2254                         Lol enjoy role playing much?\n",
              "Name: Message, dtype: object"
            ]
          },
          "metadata": {},
          "execution_count": 13
        }
      ]
    },
    {
      "cell_type": "code",
      "source": [
        "type(y_train)"
      ],
      "metadata": {
        "colab": {
          "base_uri": "https://localhost:8080/"
        },
        "id": "lO-oz7q1zm0D",
        "outputId": "ff54156c-6f62-469e-f8e0-4a6ec36ff996"
      },
      "execution_count": 14,
      "outputs": [
        {
          "output_type": "execute_result",
          "data": {
            "text/plain": [
              "pandas.core.series.Series"
            ]
          },
          "metadata": {},
          "execution_count": 14
        }
      ]
    },
    {
      "cell_type": "code",
      "source": [
        "y_train[:4]"
      ],
      "metadata": {
        "colab": {
          "base_uri": "https://localhost:8080/"
        },
        "id": "Y35TrsSE0GnT",
        "outputId": "ad0aeccf-c635-46f7-b9ce-83b7a40f0bab"
      },
      "execution_count": 15,
      "outputs": [
        {
          "output_type": "execute_result",
          "data": {
            "text/plain": [
              "3428    0\n",
              "4369    0\n",
              "243     0\n",
              "2254    0\n",
              "Name: spam, dtype: int64"
            ]
          },
          "metadata": {},
          "execution_count": 15
        }
      ]
    },
    {
      "cell_type": "code",
      "source": [
        "type(X_train.values)"
      ],
      "metadata": {
        "colab": {
          "base_uri": "https://localhost:8080/"
        },
        "id": "8FFFkyq_1CP4",
        "outputId": "ee76edb9-13a2-4c29-8609-77f71d4d7628"
      },
      "execution_count": 16,
      "outputs": [
        {
          "output_type": "execute_result",
          "data": {
            "text/plain": [
              "numpy.ndarray"
            ]
          },
          "metadata": {},
          "execution_count": 16
        }
      ]
    },
    {
      "cell_type": "markdown",
      "source": [
        "Create bag of words representation using CountVectorizer"
      ],
      "metadata": {
        "id": "mupDvF3r0Sjc"
      }
    },
    {
      "cell_type": "code",
      "source": [
        "from sklearn.feature_extraction.text import CountVectorizer\n",
        "\n",
        "v = CountVectorizer()\n",
        "\n",
        "X_train_cv = v.fit_transform(X_train.values)\n",
        "X_train_cv\n"
      ],
      "metadata": {
        "colab": {
          "base_uri": "https://localhost:8080/"
        },
        "id": "q7NA_P--0H81",
        "outputId": "03e7c140-3b1a-4299-f71f-b4096966ed21"
      },
      "execution_count": 17,
      "outputs": [
        {
          "output_type": "execute_result",
          "data": {
            "text/plain": [
              "<4457x7752 sparse matrix of type '<class 'numpy.int64'>'\n",
              "\twith 59031 stored elements in Compressed Sparse Row format>"
            ]
          },
          "metadata": {},
          "execution_count": 17
        }
      ]
    },
    {
      "cell_type": "code",
      "source": [
        "# convert to array to view\n",
        "X_train_cv.toarray()[:2][0]"
      ],
      "metadata": {
        "colab": {
          "base_uri": "https://localhost:8080/"
        },
        "id": "kdDilGns2FYA",
        "outputId": "86c96cbb-f646-4fe5-fd40-51068f8ea15c"
      },
      "execution_count": 19,
      "outputs": [
        {
          "output_type": "execute_result",
          "data": {
            "text/plain": [
              "array([0, 0, 0, ..., 0, 0, 0])"
            ]
          },
          "metadata": {},
          "execution_count": 19
        }
      ]
    },
    {
      "cell_type": "code",
      "source": [
        "X_train_cv.shape"
      ],
      "metadata": {
        "colab": {
          "base_uri": "https://localhost:8080/"
        },
        "id": "zuqIQ6lG2VrT",
        "outputId": "4d990a37-ddaf-4828-f055-a8ad0b59b049"
      },
      "execution_count": 20,
      "outputs": [
        {
          "output_type": "execute_result",
          "data": {
            "text/plain": [
              "(4457, 7752)"
            ]
          },
          "metadata": {},
          "execution_count": 20
        }
      ]
    },
    {
      "cell_type": "code",
      "source": [
        "# to get entire bag of words in vocabulary\n",
        "bow = v.get_feature_names_out()\n",
        "bow"
      ],
      "metadata": {
        "colab": {
          "base_uri": "https://localhost:8080/"
        },
        "id": "gN6GZRqM2iNG",
        "outputId": "103b3e60-83d4-4baa-80ba-5a68f82c3b6b"
      },
      "execution_count": 26,
      "outputs": [
        {
          "output_type": "execute_result",
          "data": {
            "text/plain": [
              "array(['00', '000', '000pes', ..., 'èn', 'ú1', '〨ud'], dtype=object)"
            ]
          },
          "metadata": {},
          "execution_count": 26
        }
      ]
    },
    {
      "cell_type": "code",
      "source": [
        "bow[:10]"
      ],
      "metadata": {
        "colab": {
          "base_uri": "https://localhost:8080/"
        },
        "id": "JX-GBjys2cjE",
        "outputId": "d5fb56ac-b998-4f38-c39f-cfec93da3575"
      },
      "execution_count": 24,
      "outputs": [
        {
          "output_type": "execute_result",
          "data": {
            "text/plain": [
              "array(['00', '000', '000pes', '008704050406', '0089', '0121',\n",
              "       '01223585236', '01223585334', '0125698789', '02'], dtype=object)"
            ]
          },
          "metadata": {},
          "execution_count": 24
        }
      ]
    },
    {
      "cell_type": "code",
      "source": [
        "bow[1000:1050]"
      ],
      "metadata": {
        "colab": {
          "base_uri": "https://localhost:8080/"
        },
        "id": "AR790uA521je",
        "outputId": "8896eded-087c-4464-abab-617e2f556371"
      },
      "execution_count": 27,
      "outputs": [
        {
          "output_type": "execute_result",
          "data": {
            "text/plain": [
              "array(['antha', 'anthony', 'anti', 'antibiotic', 'any', 'anybody',\n",
              "       'anyhow', 'anymore', 'anyone', 'anyones', 'anyplaces', 'anythiing',\n",
              "       'anythin', 'anything', 'anythingtomorrow', 'anytime', 'anyway',\n",
              "       'anyways', 'anywhere', 'apart', 'apartment', 'apes', 'apeshit',\n",
              "       'aphex', 'apo', 'apologetic', 'apologise', 'apologize', 'apology',\n",
              "       'app', 'apparently', 'appeal', 'appear', 'appendix',\n",
              "       'applausestore', 'applebees', 'application', 'apply',\n",
              "       'appointment', 'appreciate', 'appreciated', 'approaches',\n",
              "       'approaching', 'appropriate', 'approve', 'approved', 'approx',\n",
              "       'appt', 'appy', 'april'], dtype=object)"
            ]
          },
          "metadata": {},
          "execution_count": 27
        }
      ]
    },
    {
      "cell_type": "code",
      "source": [
        "bow.shape"
      ],
      "metadata": {
        "colab": {
          "base_uri": "https://localhost:8080/"
        },
        "id": "8o9rfYg92_0f",
        "outputId": "ad915445-b140-422e-c1a6-6ce28f8d31fc"
      },
      "execution_count": 28,
      "outputs": [
        {
          "output_type": "execute_result",
          "data": {
            "text/plain": [
              "(7752,)"
            ]
          },
          "metadata": {},
          "execution_count": 28
        }
      ]
    },
    {
      "cell_type": "code",
      "source": [
        "dir(v)"
      ],
      "metadata": {
        "colab": {
          "base_uri": "https://localhost:8080/"
        },
        "id": "KJCF_E3C3H9Y",
        "outputId": "1e45d1f6-7c96-40e2-f53b-3d028ee7dfe1"
      },
      "execution_count": 30,
      "outputs": [
        {
          "output_type": "execute_result",
          "data": {
            "text/plain": [
              "['__class__',\n",
              " '__delattr__',\n",
              " '__dict__',\n",
              " '__dir__',\n",
              " '__doc__',\n",
              " '__eq__',\n",
              " '__format__',\n",
              " '__ge__',\n",
              " '__getattribute__',\n",
              " '__getstate__',\n",
              " '__gt__',\n",
              " '__hash__',\n",
              " '__init__',\n",
              " '__init_subclass__',\n",
              " '__le__',\n",
              " '__lt__',\n",
              " '__module__',\n",
              " '__ne__',\n",
              " '__new__',\n",
              " '__reduce__',\n",
              " '__reduce_ex__',\n",
              " '__repr__',\n",
              " '__setattr__',\n",
              " '__setstate__',\n",
              " '__sizeof__',\n",
              " '__str__',\n",
              " '__subclasshook__',\n",
              " '__weakref__',\n",
              " '_char_ngrams',\n",
              " '_char_wb_ngrams',\n",
              " '_check_feature_names',\n",
              " '_check_n_features',\n",
              " '_check_stop_words_consistency',\n",
              " '_check_vocabulary',\n",
              " '_count_vocab',\n",
              " '_get_param_names',\n",
              " '_get_tags',\n",
              " '_limit_features',\n",
              " '_more_tags',\n",
              " '_repr_html_',\n",
              " '_repr_html_inner',\n",
              " '_repr_mimebundle_',\n",
              " '_sort_features',\n",
              " '_stop_words_id',\n",
              " '_validate_data',\n",
              " '_validate_params',\n",
              " '_validate_vocabulary',\n",
              " '_warn_for_unused_params',\n",
              " '_white_spaces',\n",
              " '_word_ngrams',\n",
              " 'analyzer',\n",
              " 'binary',\n",
              " 'build_analyzer',\n",
              " 'build_preprocessor',\n",
              " 'build_tokenizer',\n",
              " 'decode',\n",
              " 'decode_error',\n",
              " 'dtype',\n",
              " 'encoding',\n",
              " 'fit',\n",
              " 'fit_transform',\n",
              " 'fixed_vocabulary_',\n",
              " 'get_feature_names',\n",
              " 'get_feature_names_out',\n",
              " 'get_params',\n",
              " 'get_stop_words',\n",
              " 'input',\n",
              " 'inverse_transform',\n",
              " 'lowercase',\n",
              " 'max_df',\n",
              " 'max_features',\n",
              " 'min_df',\n",
              " 'ngram_range',\n",
              " 'preprocessor',\n",
              " 'set_params',\n",
              " 'stop_words',\n",
              " 'stop_words_',\n",
              " 'strip_accents',\n",
              " 'token_pattern',\n",
              " 'tokenizer',\n",
              " 'transform',\n",
              " 'vocabulary',\n",
              " 'vocabulary_']"
            ]
          },
          "metadata": {},
          "execution_count": 30
        }
      ]
    },
    {
      "cell_type": "code",
      "source": [
        "v.vocabulary_"
      ],
      "metadata": {
        "colab": {
          "base_uri": "https://localhost:8080/"
        },
        "id": "SM64y3Ws3KbB",
        "outputId": "041dbd56-8e6d-49ae-fdb8-ccdccf18de7d"
      },
      "execution_count": 32,
      "outputs": [
        {
          "output_type": "execute_result",
          "data": {
            "text/plain": [
              "{'haha': 3285,\n",
              " 'okay': 4903,\n",
              " 'today': 6938,\n",
              " 'weekend': 7437,\n",
              " 'leh': 4060,\n",
              " 'don': 2398,\n",
              " 'have': 3346,\n",
              " 'her': 3399,\n",
              " 'number': 4846,\n",
              " 'and': 972,\n",
              " 'its': 3760,\n",
              " 'gonna': 3174,\n",
              " 'be': 1277,\n",
              " 'massive': 4359,\n",
              " 'pain': 5044,\n",
              " 'in': 3637,\n",
              " 'the': 6809,\n",
              " 'ass': 1110,\n",
              " 'rather': 5566,\n",
              " 'not': 4818,\n",
              " 'get': 3110,\n",
              " 'involved': 3722,\n",
              " 'if': 3595,\n",
              " 'that': 6806,\n",
              " 'possible': 5312,\n",
              " 'no': 4783,\n",
              " 'just': 3866,\n",
              " 'shining': 6084,\n",
              " 'on': 4919,\n",
              " 'was': 7385,\n",
              " 'meant': 4398,\n",
              " 'to': 6931,\n",
              " 'signing': 6153,\n",
              " 'but': 1582,\n",
              " 'sounds': 6336,\n",
              " 'better': 1335,\n",
              " 'lol': 4169,\n",
              " 'enjoy': 2587,\n",
              " 'role': 5808,\n",
              " 'playing': 5233,\n",
              " 'much': 4620,\n",
              " 'wewa': 7472,\n",
              " 'is': 3740,\n",
              " '130': 292,\n",
              " 'iriver': 3734,\n",
              " '255': 370,\n",
              " 'all': 922,\n",
              " '128': 288,\n",
              " 'mb': 4384,\n",
              " 'want': 7371,\n",
              " 'sent': 6013,\n",
              " 'lt': 4232,\n",
              " 'gt': 3251,\n",
              " 'mesages': 4439,\n",
              " 'thats': 6808,\n",
              " 'sorry': 6325,\n",
              " 'hurts': 3555,\n",
              " 'hui': 3538,\n",
              " 'xin': 7656,\n",
              " 'da': 2134,\n",
              " 'lib': 4078,\n",
              " 'please': 5237,\n",
              " 'tell': 6748,\n",
              " 'me': 4390,\n",
              " 'of': 4882,\n",
              " 'my': 4649,\n",
              " 'car': 1655,\n",
              " 'keys': 3910,\n",
              " 'are': 1059,\n",
              " 'your': 7719,\n",
              " 'purse': 5495,\n",
              " 'life': 4086,\n",
              " 'spend': 6373,\n",
              " 'with': 7548,\n",
              " 'someone': 6295,\n",
              " 'for': 2935,\n",
              " 'lifetime': 4088,\n",
              " 'may': 4381,\n",
              " 'meaningless': 4396,\n",
              " 'few': 2810,\n",
              " 'moments': 4546,\n",
              " 'spent': 6375,\n",
              " 'who': 7495,\n",
              " 'really': 5599,\n",
              " 'love': 4210,\n",
              " 'you': 7713,\n",
              " 'means': 4397,\n",
              " 'more': 4567,\n",
              " 'than': 6795,\n",
              " 'itself': 3761,\n",
              " 'geeeee': 3094,\n",
              " 'internet': 3704,\n",
              " 'bad': 1202,\n",
              " 'eh': 2541,\n",
              " 'slaaaaave': 6208,\n",
              " 'where': 7484,\n",
              " 'must': 4641,\n",
              " 'summon': 6599,\n",
              " 'time': 6899,\n",
              " 'now': 4832,\n",
              " 'wish': 7540,\n",
              " 'come': 1905,\n",
              " 'own': 5025,\n",
              " 'anymore': 1007,\n",
              " 'actually': 817,\n",
              " 'decided': 2195,\n",
              " 'too': 6969,\n",
              " 'hungry': 3545,\n",
              " 'so': 6276,\n",
              " 'haven': 3348,\n",
              " 'left': 4054,\n",
              " 'yet': 7700,\n",
              " 'cant': 1647,\n",
              " 'take': 6684,\n",
              " 'call': 1612,\n",
              " 'right': 5776,\n",
              " 'it': 3752,\n",
              " 'happens': 3320,\n",
              " 'there': 6828,\n",
              " '2waxsto': 421,\n",
              " 'do': 2370,\n",
              " 'wat': 7392,\n",
              " 'she': 6070,\n",
              " 'can': 1635,\n",
              " 'ill': 3606,\n",
              " 'medical': 4405,\n",
              " 'insurance': 3695,\n",
              " 'll': 4144,\n",
              " 'able': 770,\n",
              " 'deliver': 2226,\n",
              " 'basic': 1243,\n",
              " 'care': 1660,\n",
              " 'currently': 2112,\n",
              " 'shopping': 6103,\n",
              " 'give': 3137,\n",
              " 'til': 6896,\n",
              " 'friday': 2999,\n",
              " 'morning': 4571,\n",
              " 'when': 7480,\n",
              " 'see': 5976,\n",
              " 'major': 4309,\n",
              " 'person': 5149,\n",
              " 'guide': 3265,\n",
              " 'family': 2758,\n",
              " 'responding': 5736,\n",
              " 'anything': 1013,\n",
              " 'am': 946,\n",
              " 'room': 5814,\n",
              " 'went': 7458,\n",
              " 'home': 3466,\n",
              " 'diwali': 2362,\n",
              " 'one': 4923,\n",
              " 'called': 1619,\n",
              " 'why': 7503,\n",
              " 'coming': 1911,\n",
              " 'makes': 4311,\n",
              " 'feel': 2796,\n",
              " 'like': 4096,\n",
              " 'died': 2303,\n",
              " 'what': 7474,\n",
              " 'dog': 2381,\n",
              " 'always': 944,\n",
              " 'wait': 7347,\n",
              " 'till': 6897,\n",
              " 'end': 2573,\n",
              " 'day': 2175,\n",
              " 'word': 7593,\n",
              " 'from': 3017,\n",
              " 'did': 2297,\n",
              " 'run': 5849,\n",
              " 'out': 4994,\n",
              " 'cell': 1711,\n",
              " 'already': 934,\n",
              " 'tel': 6743,\n",
              " 'thing': 6840,\n",
              " 'should': 6114,\n",
              " 'mistake': 4501,\n",
              " 'this': 6850,\n",
              " 'message': 4441,\n",
              " 'some': 6291,\n",
              " 'lasting': 4015,\n",
              " 'as': 1093,\n",
              " 'hours': 3510,\n",
              " 'might': 4457,\n",
              " 'lucky': 4238,\n",
              " 'tonight': 6965,\n",
              " 'mate': 4364,\n",
              " 'catching': 1691,\n",
              " 'up': 7180,\n",
              " 'sleep': 6212,\n",
              " 'new': 4746,\n",
              " 'by': 1596,\n",
              " 'way': 7407,\n",
              " 'requirements': 5720,\n",
              " 'calls': 1626,\n",
              " 'later': 4018,\n",
              " 'afternoon': 865,\n",
              " 'onwords': 4935,\n",
              " 'mtnl': 4617,\n",
              " 'service': 6026,\n",
              " 'problem': 5419,\n",
              " 'south': 6341,\n",
              " 'mumbai': 4626,\n",
              " 'hear': 3367,\n",
              " 'cann': 1644,\n",
              " 'listen': 4128,\n",
              " 'guy': 3272,\n",
              " 'kadeem': 3874,\n",
              " 'hasn': 3336,\n",
              " 'been': 1298,\n",
              " 'selling': 5996,\n",
              " 'since': 6166,\n",
              " 'break': 1496,\n",
              " 'know': 3952,\n",
              " 'other': 4984,\n",
              " 'he': 3357,\n",
              " 'paranoid': 5067,\n",
              " 'fuck': 3025,\n",
              " 'doesn': 2379,\n",
              " 'without': 7552,\n",
              " 'late': 4016,\n",
              " 'beautiful': 1283,\n",
              " 'truth': 7053,\n",
              " 'expression': 2720,\n",
              " 'face': 2734,\n",
              " 'could': 2023,\n",
              " 'seen': 5984,\n",
              " 'everyone': 2660,\n",
              " 'depression': 2249,\n",
              " 'heart': 3371,\n",
              " 'understood': 7143,\n",
              " 'only': 4929,\n",
              " 'loved': 4211,\n",
              " 'ones': 4924,\n",
              " 'gud': 3255,\n",
              " 'ni8': 4755,\n",
              " 'water': 7399,\n",
              " 'logging': 4163,\n",
              " 'desert': 2256,\n",
              " 'geoenvironmental': 3106,\n",
              " 'implications': 3625,\n",
              " 'good': 3175,\n",
              " 'lets': 4072,\n",
              " 'thank': 6798,\n",
              " 'god': 3159,\n",
              " 'complete': 1928,\n",
              " 'drug': 2458,\n",
              " 'lots': 4199,\n",
              " 'still': 6480,\n",
              " 'working': 7599,\n",
              " 'also': 937,\n",
              " 'tried': 7036,\n",
              " 'adding': 825,\n",
              " 'zeros': 7742,\n",
              " 'savings': 5919,\n",
              " 'checking': 1760,\n",
              " 'free': 2981,\n",
              " 'any': 1004,\n",
              " 'finish': 2849,\n",
              " 'at': 1123,\n",
              " 'mon': 4548,\n",
              " 'thurs': 6880,\n",
              " 'okie': 4907,\n",
              " 'babe': 1191,\n",
              " 'how': 3516,\n",
              " 'goes': 3161,\n",
              " 'doing': 2390,\n",
              " 'sip': 6175,\n",
              " 'cappuccino': 1651,\n",
              " 'think': 6842,\n",
              " 'send': 6003,\n",
              " 'kiss': 3939,\n",
              " 'across': 805,\n",
              " 'sea': 5960,\n",
              " 'ok': 4902,\n",
              " 'then': 6822,\n",
              " 'simply': 6163,\n",
              " 'sitting': 6187,\n",
              " 'watching': 7397,\n",
              " 'match': 4362,\n",
              " 'office': 4889,\n",
              " 'effect': 2532,\n",
              " 'irritation': 3738,\n",
              " 'ignore': 3599,\n",
              " 'taste': 6705,\n",
              " 'fish': 2862,\n",
              " 'curry': 2113,\n",
              " 'remember': 5678,\n",
              " 'those': 6857,\n",
              " 'whom': 7498,\n",
              " 'hurt': 3553,\n",
              " 'during': 2484,\n",
              " 'days': 2176,\n",
              " 'satanic': 5906,\n",
              " 'imposter': 3629,\n",
              " 'need': 4713,\n",
              " 'pay': 5106,\n",
              " 'price': 5394,\n",
              " 'destiny': 2266,\n",
              " 'keep': 3897,\n",
              " 'going': 3164,\n",
              " 'said': 5875,\n",
              " 'pray': 5353,\n",
              " 'mind': 4467,\n",
              " 'over': 5012,\n",
              " 'same': 5889,\n",
              " 'will': 7518,\n",
              " 'treasure': 7028,\n",
              " 'every': 2656,\n",
              " 'moment': 4545,\n",
              " 'we': 7411,\n",
              " 'together': 6942,\n",
              " 'que': 5513,\n",
              " 'pases': 5086,\n",
              " 'un': 7125,\n",
              " 'buen': 1553,\n",
              " 'tiempo': 6889,\n",
              " 'or': 4959,\n",
              " 'something': 6301,\n",
              " 'tot': 6990,\n",
              " 'outside': 5005,\n",
              " 'cos': 2013,\n",
              " 'darren': 2161,\n",
              " 'say': 5921,\n",
              " 'course': 2033,\n",
              " 'nice': 4757,\n",
              " 'jus': 3865,\n",
              " 'sim': 6159,\n",
              " 'lim': 4103,\n",
              " 'look': 4178,\n",
              " 'mp3': 4596,\n",
              " 'player': 5230,\n",
              " 'ringtone': 5785,\n",
              " 'club': 1856,\n",
              " 'gr8': 3203,\n",
              " 'polys': 5287,\n",
              " 'direct': 2331,\n",
              " 'mobile': 4526,\n",
              " 'week': 7435,\n",
              " 'save': 5916,\n",
              " 'money': 4551,\n",
              " 'wedding': 7428,\n",
              " 'lingerie': 4114,\n",
              " 'www': 7647,\n",
              " 'bridal': 1507,\n",
              " 'petticoatdreams': 5164,\n",
              " 'co': 1867,\n",
              " 'uk': 7117,\n",
              " 'choose': 1802,\n",
              " 'superb': 6612,\n",
              " 'selection': 5991,\n",
              " 'national': 4688,\n",
              " 'delivery': 2229,\n",
              " 'brought': 1532,\n",
              " 'weddingfriend': 7429,\n",
              " 'splashmobile': 6389,\n",
              " '1000s': 259,\n",
              " 'tones': 6960,\n",
              " 'each': 2493,\n",
              " 'wk': 7558,\n",
              " 'subscrition': 6567,\n",
              " 'weekly': 7439,\n",
              " 'costing': 2017,\n",
              " '300p': 433,\n",
              " 'credit': 2064,\n",
              " 'kick': 3917,\n",
              " 'back': 1199,\n",
              " 'cold': 1886,\n",
              " 'dont': 2402,\n",
              " 'sad': 5867,\n",
              " 'dear': 2185,\n",
              " 'daddy': 2139,\n",
              " 'shu': 6131,\n",
              " 'looking': 4182,\n",
              " 'wan': 7366,\n",
              " 'him': 3424,\n",
              " 're': 5578,\n",
              " 'singapore': 6170,\n",
              " 'film': 2834,\n",
              " 'great': 3225,\n",
              " 'im': 3610,\n",
              " 'getting': 3117,\n",
              " 'important': 3626,\n",
              " 'information': 3670,\n",
              " 'o2': 4865,\n",
              " 'user': 7220,\n",
              " 'find': 2843,\n",
              " 'log': 4161,\n",
              " 'onto': 4932,\n",
              " 'http': 3529,\n",
              " 'urawinner': 7198,\n",
              " 'com': 1900,\n",
              " 'fantastic': 2766,\n",
              " 'surprise': 6630,\n",
              " 'awaiting': 1170,\n",
              " 'help': 3388,\n",
              " 'ask': 1101,\n",
              " 'tmr': 6925,\n",
              " 'jay': 3791,\n",
              " 'told': 6947,\n",
              " 'made': 4289,\n",
              " 'mins': 4476,\n",
              " 'necessarily': 4708,\n",
              " 'respectful': 5733,\n",
              " 'smoke': 6252,\n",
              " 've': 7253,\n",
              " 'smoked': 6253,\n",
              " 'last': 4013,\n",
              " 'two': 7089,\n",
              " 'weeks': 7440,\n",
              " 'because': 1287,\n",
              " 'calling': 1625,\n",
              " 'texting': 6789,\n",
              " 'wanted': 7373,\n",
              " 'ur': 7197,\n",
              " 'has': 3334,\n",
              " 'changed': 1728,\n",
              " '25': 367,\n",
              " 'credits': 2066,\n",
              " 'go': 3153,\n",
              " 'club4mobiles': 1858,\n",
              " 'content': 1980,\n",
              " 'stop': 6492,\n",
              " 'txt': 7091,\n",
              " '87070': 701,\n",
              " '150p': 307,\n",
              " 'club4': 1857,\n",
              " 'po': 5251,\n",
              " 'box1146': 1461,\n",
              " 'mk45': 4511,\n",
              " '2wt': 423,\n",
              " 'jetton': 3814,\n",
              " 'ave': 1162,\n",
              " 'forgot': 2946,\n",
              " 'speaking': 6358,\n",
              " 'does': 2378,\n",
              " 'cash': 1681,\n",
              " 'happen': 3315,\n",
              " 'behave': 1309,\n",
              " 'indians': 3661,\n",
              " 'poor': 5294,\n",
              " 'india': 3659,\n",
              " 'country': 2028,\n",
              " 'says': 5924,\n",
              " 'swiss': 6658,\n",
              " 'bank': 1224,\n",
              " 'directors': 2334,\n",
              " 'lac': 3982,\n",
              " 'crore': 2075,\n",
              " 'indian': 3660,\n",
              " 'deposited': 2247,\n",
              " 'banks': 1225,\n",
              " 'which': 7490,\n",
              " 'used': 7217,\n",
              " 'taxless': 6714,\n",
              " 'budget': 1552,\n",
              " 'yrs': 7729,\n",
              " 'jobs': 3826,\n",
              " 'village': 7286,\n",
              " 'delhi': 2224,\n",
              " 'lane': 4001,\n",
              " 'roads': 5797,\n",
              " 'forever': 2939,\n",
              " 'power': 5331,\n",
              " 'suply': 6615,\n",
              " 'social': 6279,\n",
              " 'projects': 5435,\n",
              " 'citizen': 1818,\n",
              " 'monthly': 4561,\n",
              " 'world': 7601,\n",
              " 'amp': 961,\n",
              " 'imf': 3616,\n",
              " 'loan': 4152,\n",
              " 'our': 4992,\n",
              " 'blocked': 1397,\n",
              " 'rich': 5772,\n",
              " 'politicians': 5279,\n",
              " 'full': 3033,\n",
              " 'rights': 5779,\n",
              " 'against': 871,\n",
              " 'corrupt': 2011,\n",
              " 'itna': 3758,\n",
              " 'forward': 2959,\n",
              " 'karo': 3887,\n",
              " 'ki': 3915,\n",
              " 'pura': 5489,\n",
              " 'padhe': 5039,\n",
              " 'allo': 927,\n",
              " 'braved': 1490,\n",
              " 'buses': 1577,\n",
              " 'taken': 6686,\n",
              " 'trains': 7010,\n",
              " 'triumphed': 7040,\n",
              " 'mean': 4393,\n",
              " 'ham': 3299,\n",
              " 'jolly': 3841,\n",
              " 'rest': 5740,\n",
              " 'hotel': 3503,\n",
              " 'dusk': 2485,\n",
              " 'game': 3061,\n",
              " 'solve': 6289,\n",
              " 'puzzles': 5504,\n",
              " 'area': 1060,\n",
              " 'messages': 4443,\n",
              " 'missed': 4492,\n",
              " 'impressively': 3633,\n",
              " 'sensible': 6011,\n",
              " 'early': 2498,\n",
              " 'fine': 2846,\n",
              " 'boring': 1444,\n",
              " 'yours': 7722,\n",
              " 'nah': 4665,\n",
              " 'wasn': 7387,\n",
              " 'thanks': 6799,\n",
              " 'quite': 5524,\n",
              " 'reality': 5595,\n",
              " 'check': 1757,\n",
              " 'hows': 3520,\n",
              " 'website': 7426,\n",
              " 'friend': 3002,\n",
              " 'studying': 6540,\n",
              " 'warwick': 7384,\n",
              " 'planned': 5223,\n",
              " 'concert': 1947,\n",
              " 'tmw': 6928,\n",
              " 'canceled': 1640,\n",
              " 'havn': 3353,\n",
              " 'ages': 879,\n",
              " 'yeah': 7685,\n",
              " 'sometime': 6302,\n",
              " 'wanna': 7369,\n",
              " 'gym': 3276,\n",
              " 'willing': 7519,\n",
              " 'matter': 4372,\n",
              " 'saying': 5923,\n",
              " 'shit': 6091,\n",
              " 'shocking': 6097,\n",
              " 'scary': 5931,\n",
              " 'imagine': 3614,\n",
              " 'second': 5966,\n",
              " 'def': 2210,\n",
              " 'night': 4765,\n",
              " 'somewhere': 6306,\n",
              " 'crash': 2051,\n",
              " 'taxi': 6713,\n",
              " 'yunny': 7734,\n",
              " 'goin': 3162,\n",
              " 'being': 1312,\n",
              " 'talk': 6691,\n",
              " 'saturday': 5912,\n",
              " 'very': 7266,\n",
              " 'cherish': 1772,\n",
              " 'having': 3352,\n",
              " 'brother': 1530,\n",
              " 'model': 4538,\n",
              " 'sry': 6424,\n",
              " 'phone': 5177,\n",
              " 'parents': 5071,\n",
              " 'oh': 4897,\n",
              " 'shut': 6136,\n",
              " 'omg': 4917,\n",
              " 'yesterday': 7699,\n",
              " 'had': 3282,\n",
              " 'dream': 2437,\n",
              " 'kids': 3922,\n",
              " 'both': 1450,\n",
              " 'boys': 1478,\n",
              " 'pissed': 5210,\n",
              " 'about': 772,\n",
              " 'them': 6818,\n",
              " 'even': 2649,\n",
              " 'mark': 4343,\n",
              " 'changing': 1730,\n",
              " 'diapers': 2292,\n",
              " 'cause': 1694,\n",
              " 'owed': 5023,\n",
              " 'most': 4576,\n",
              " 'girl': 3131,\n",
              " 'ive': 3765,\n",
              " 'ever': 2655,\n",
              " 'baby': 1194,\n",
              " 'common': 1915,\n",
              " 'hey': 3409,\n",
              " 'online': 4927,\n",
              " 'use': 7216,\n",
              " 'msn': 4609,\n",
              " 'de': 2180,\n",
              " 'after': 863,\n",
              " 'promises': 5439,\n",
              " 'though': 6860,\n",
              " 'gotten': 3196,\n",
              " 'dinner': 2326,\n",
              " 'haf': 3284,\n",
              " 'found': 2961,\n",
              " 'stupid': 6547,\n",
              " 'cam': 1629,\n",
              " 'freemsg': 2987,\n",
              " 'buffy': 1556,\n",
              " 'satisfy': 5910,\n",
              " 'men': 4428,\n",
              " 'alone': 931,\n",
              " 'feeling': 2798,\n",
              " 'randy': 5559,\n",
              " 'reply': 5709,\n",
              " 'pix': 5213,\n",
              " 'qlynnbv': 5510,\n",
              " 'help08700621170150p': 3389,\n",
              " 'msg': 4603,\n",
              " 'txts': 7098,\n",
              " 'happy': 3324,\n",
              " 'birthday': 1371,\n",
              " 'they': 6836,\n",
              " 'giving': 3140,\n",
              " 'chance': 1725,\n",
              " 'rahul': 5538,\n",
              " 'dengra': 2236,\n",
              " 'snowboarding': 6274,\n",
              " 'trip': 7037,\n",
              " 'wondering': 7584,\n",
              " 'planning': 5224,\n",
              " 'befor': 1303,\n",
              " 'meet': 4408,\n",
              " 'greet': 3230,\n",
              " 'kind': 3930,\n",
              " 'affair': 853,\n",
              " 'cheers': 1766,\n",
              " 'tirunelvali': 6909,\n",
              " 'uncle': 7130,\n",
              " 'amount': 960,\n",
              " 'taking': 6689,\n",
              " 'dress': 2440,\n",
              " 'feb': 2792,\n",
              " 'loxahatchee': 4226,\n",
              " 'xmas': 7657,\n",
              " 'tree': 7033,\n",
              " 'burning': 1571,\n",
              " 'update': 7185,\n",
              " 'totally': 6992,\n",
              " 'stars': 6443,\n",
              " 'here': 3400,\n",
              " 'bognor': 1422,\n",
              " 'splendid': 6391,\n",
              " 'year': 7686,\n",
              " 'plan': 5219,\n",
              " 'pongal': 5288,\n",
              " 'rejected': 5664,\n",
              " 'kinda': 3931,\n",
              " 'library': 4080,\n",
              " 'before': 1304,\n",
              " 'hair': 3289,\n",
              " 'cut': 2122,\n",
              " 'dled': 2365,\n",
              " '3d': 463,\n",
              " 'imp': 3623,\n",
              " 'welcome': 7450,\n",
              " 'select': 5989,\n",
              " 'an': 967,\n",
              " 'added': 822,\n",
              " 'benefits': 1326,\n",
              " 'specially': 6362,\n",
              " 'trained': 7008,\n",
              " 'advisors': 849,\n",
              " 'dialling': 2288,\n",
              " '402': 485,\n",
              " 'bucks': 1548,\n",
              " 'fees': 2801,\n",
              " 'fixed': 2870,\n",
              " 'shall': 6057,\n",
              " 'exe': 2690,\n",
              " 'mail': 4302,\n",
              " 'id': 3584,\n",
              " 'cool': 1999,\n",
              " 'text': 6782,\n",
              " 'parked': 5074,\n",
              " 'balance': 1214,\n",
              " '600': 577,\n",
              " 'next': 4753,\n",
              " 'question': 5517,\n",
              " 'landmark': 3999,\n",
              " 'big': 1351,\n",
              " 'bob': 1419,\n",
              " 'barry': 1238,\n",
              " 'ben': 1323,\n",
              " '83738': 680,\n",
              " 'luck': 4236,\n",
              " 'yes': 7697,\n",
              " 'footie': 2932,\n",
              " 'worried': 7604,\n",
              " 'blow': 1407,\n",
              " 'phil': 5172,\n",
              " 'neville': 4744,\n",
              " 'old': 4912,\n",
              " 'orchard': 4966,\n",
              " 'near': 4703,\n",
              " 'univ': 7160,\n",
              " 'awake': 1171,\n",
              " 'loving': 4220,\n",
              " 'finally': 2841,\n",
              " 'lunch': 4244,\n",
              " 'pubs': 5477,\n",
              " 'frankie': 2973,\n",
              " 'bennys': 1327,\n",
              " 'warner': 7381,\n",
              " 'cinema': 1817,\n",
              " 'propose': 5450,\n",
              " 'seing': 5988,\n",
              " 'bloody': 1405,\n",
              " 'funky': 3041,\n",
              " 'fucking': 3028,\n",
              " 'asssssholeeee': 1114,\n",
              " 'upstairs': 7195,\n",
              " 'hectic': 3376,\n",
              " 'would': 7615,\n",
              " 'birds': 1366,\n",
              " 'fell': 2803,\n",
              " 'swoop': 6661,\n",
              " 'date': 2167,\n",
              " 'adult': 841,\n",
              " '18': 321,\n",
              " 'video': 7275,\n",
              " 'shortly': 6110,\n",
              " 'germany': 3109,\n",
              " 'pence': 5126,\n",
              " 'per': 5133,\n",
              " 'minute': 4479,\n",
              " 'line': 4110,\n",
              " 'via': 7268,\n",
              " 'access': 787,\n",
              " '0844': 65,\n",
              " '861': 695,\n",
              " '85': 687,\n",
              " 'prepayment': 5371,\n",
              " 'plz': 5249,\n",
              " 'note': 4819,\n",
              " 'anyone': 1008,\n",
              " 'asks': 1106,\n",
              " 'type': 7104,\n",
              " 'disconnect': 2345,\n",
              " 'coz': 2039,\n",
              " 'iz': 3768,\n",
              " 'attempt': 1134,\n",
              " 'terrorist': 6772,\n",
              " 'make': 4310,\n",
              " 'card': 1656,\n",
              " 'itz': 3764,\n",
              " 'confirmd': 1955,\n",
              " 'nokia': 4792,\n",
              " 'motorola': 4584,\n",
              " 'verified': 7261,\n",
              " 'cnn': 1866,\n",
              " 'ibn': 3573,\n",
              " 'depends': 2245,\n",
              " 'lor': 4189,\n",
              " 'scared': 5930,\n",
              " 'fat': 2776,\n",
              " 'dun': 2478,\n",
              " 'tirupur': 6910,\n",
              " 'once': 4922,\n",
              " 'started': 6445,\n",
              " '08718738034': 153,\n",
              " 'past': 5095,\n",
              " 'thanx': 6804,\n",
              " 'greetings': 3231,\n",
              " 'consider': 1970,\n",
              " 'yourself': 7723,\n",
              " 'excused': 2688,\n",
              " 'thinked': 6843,\n",
              " 'first': 2861,\n",
              " 'saw': 5920,\n",
              " 'class': 1829,\n",
              " 'normally': 4812,\n",
              " 'hot': 3502,\n",
              " 'rob': 5799,\n",
              " 'mack': 4282,\n",
              " 'his': 3431,\n",
              " 'gf': 3119,\n",
              " 'theater': 6812,\n",
              " 'breathing': 1503,\n",
              " 'down': 2419,\n",
              " 'neck': 4710,\n",
              " 'bud': 1549,\n",
              " 'anyway': 1016,\n",
              " 'half': 3293,\n",
              " 'track': 7002,\n",
              " 'usf': 7221,\n",
              " 'todays': 6939,\n",
              " 'voda': 7306,\n",
              " 'numbers': 4847,\n",
              " 'ending': 2575,\n",
              " '1225': 284,\n",
              " 'selected': 5990,\n",
              " 'receive': 5616,\n",
              " '50award': 544,\n",
              " '08712300220': 102,\n",
              " 'quoting': 5530,\n",
              " 'claim': 1822,\n",
              " 'code': 1877,\n",
              " '3100': 441,\n",
              " 'standard': 6438,\n",
              " 'rates': 5565,\n",
              " 'app': 1029,\n",
              " 'leave': 4048,\n",
              " 'wif': 7510,\n",
              " 'lar': 4007,\n",
              " 'carry': 1676,\n",
              " 'meh': 4415,\n",
              " 'heavy': 3375,\n",
              " 'num': 4845,\n",
              " '98321561': 745,\n",
              " 'familiar': 2757,\n",
              " 'didn': 2299,\n",
              " 'thinking': 6845,\n",
              " 'plus': 5247,\n",
              " 'runs': 5851,\n",
              " 'sure': 6626,\n",
              " 'loads': 4151,\n",
              " 'work': 7595,\n",
              " 'got': 3191,\n",
              " 'nasty': 4684,\n",
              " 'cough': 2022,\n",
              " 'dry': 2463,\n",
              " 'shot': 6112,\n",
              " 'watch': 7393,\n",
              " 'resizing': 5728,\n",
              " 'road': 5796,\n",
              " 'rightio': 5777,\n",
              " '11': 270,\n",
              " '48': 515,\n",
              " 'well': 7452,\n",
              " 'arent': 1062,\n",
              " 'bright': 1511,\n",
              " 'buy': 1586,\n",
              " 'juz': 3870,\n",
              " 'hold': 3457,\n",
              " 'weed': 7434,\n",
              " 'holding': 3459,\n",
              " 'tightly': 6892,\n",
              " 'making': 4314,\n",
              " 'liao': 4077,\n",
              " 'thinl': 6848,\n",
              " 'sachin': 5863,\n",
              " 'standing': 6439,\n",
              " 'others': 4985,\n",
              " 'hit': 3433,\n",
              " 'thk': 6851,\n",
              " 'honestly': 3470,\n",
              " 'lovely': 4213,\n",
              " 'cup': 2107,\n",
              " 'tea': 6724,\n",
              " 'promptly': 5443,\n",
              " 'dropped': 2454,\n",
              " 'burnt': 1573,\n",
              " 'fingers': 2848,\n",
              " 'ip': 3724,\n",
              " 'address': 826,\n",
              " 'test': 6776,\n",
              " 'considering': 1971,\n",
              " 'computer': 1937,\n",
              " 'isn': 3747,\n",
              " 'minecraft': 4470,\n",
              " 'server': 6025,\n",
              " 'nationwide': 4689,\n",
              " 'auto': 1155,\n",
              " 'centre': 1714,\n",
              " 'newport': 4749,\n",
              " 'liked': 4097,\n",
              " 'rushing': 5853,\n",
              " 'school': 5935,\n",
              " 'rush': 5852,\n",
              " 'requests': 5717,\n",
              " 'came': 1631,\n",
              " 'bed': 1292,\n",
              " 'double': 2413,\n",
              " 'coins': 1883,\n",
              " 'factory': 2737,\n",
              " 'gotta': 3195,\n",
              " 'nitros': 4779,\n",
              " 'ha': 3279,\n",
              " 'either': 2547,\n",
              " 'clever': 1840,\n",
              " 'simple': 6161,\n",
              " 'pears': 5122,\n",
              " 'perfect': 5137,\n",
              " 'christmas': 1811,\n",
              " 'live': 4137,\n",
              " 'fantasies': 2765,\n",
              " '08707500020': 91,\n",
              " '20p': 353,\n",
              " 'min': 4465,\n",
              " 'ntt': 4840,\n",
              " 'ltd': 4233,\n",
              " 'box': 1460,\n",
              " '1327': 293,\n",
              " 'croydon': 2079,\n",
              " 'cr9': 2044,\n",
              " '5wb': 571,\n",
              " '0870': 73,\n",
              " 'rate': 5564,\n",
              " 'neva': 4740,\n",
              " 'grumble': 3247,\n",
              " 'hee': 3377,\n",
              " 'aft': 862,\n",
              " 'meetin': 4409,\n",
              " 'fr': 2969,\n",
              " 'lei': 4061,\n",
              " 'lot': 4197,\n",
              " 'ar': 1054,\n",
              " 'jamster': 3780,\n",
              " 'crazy': 2057,\n",
              " 'frog': 3016,\n",
              " 'sound': 6335,\n",
              " 'poly': 5281,\n",
              " 'mad1': 4286,\n",
              " 'real': 5590,\n",
              " 'mad2': 4287,\n",
              " '88888': 718,\n",
              " 'gbp': 3087,\n",
              " '16': 317,\n",
              " 'apply': 1037,\n",
              " 'gam': 3059,\n",
              " 'gone': 3172,\n",
              " 'outstanding': 5008,\n",
              " 'innings': 3680,\n",
              " 'fact': 2736,\n",
              " 'asked': 1103,\n",
              " 'needed': 4715,\n",
              " 'hour': 3508,\n",
              " 'ago': 882,\n",
              " 'little': 4136,\n",
              " 'closer': 1850,\n",
              " 'bus': 1575,\n",
              " 'street': 6513,\n",
              " 'part': 5076,\n",
              " 'workin': 7598,\n",
              " 'oso': 4982,\n",
              " 'gee': 3092,\n",
              " 'thgt': 6837,\n",
              " 'fren': 2991,\n",
              " 'shop': 6101,\n",
              " 'special': 6359,\n",
              " 'princess': 5400,\n",
              " 'kitty': 3943,\n",
              " 'shaved': 6067,\n",
              " 'natural': 4691,\n",
              " 'alrite': 936,\n",
              " 'sam': 5886,\n",
              " 'nic': 4756,\n",
              " 'checkin': 1759,\n",
              " 'ya': 7673,\n",
              " 'display': 2353,\n",
              " 'internal': 3703,\n",
              " 'subs': 6557,\n",
              " 'extract': 2725,\n",
              " 'coco': 1876,\n",
              " 'urgent': 7201,\n",
              " 'trying': 7055,\n",
              " 'contact': 1976,\n",
              " 'weekends': 7438,\n",
              " 'draw': 2434,\n",
              " 'shows': 6125,\n",
              " 'won': 7579,\n",
              " '900': 733,\n",
              " 'prize': 5412,\n",
              " 'guaranteed': 3253,\n",
              " '09061701939': 199,\n",
              " 's89': 5861,\n",
              " 'valid': 7238,\n",
              " '12hrs': 289,\n",
              " 'missionary': 4495,\n",
              " 'hook': 3479,\n",
              " 'doggy': 2385,\n",
              " 'nothing': 4823,\n",
              " 'treat': 7029,\n",
              " 'vote': 7315,\n",
              " 'wherever': 7486,\n",
              " 'guides': 3266,\n",
              " 'probably': 5418,\n",
              " 'tomorrow': 6957,\n",
              " 'disturb': 2356,\n",
              " 'painful': 5045,\n",
              " 'words': 7594,\n",
              " 'thought': 6861,\n",
              " 'toughest': 6997,\n",
              " 'earth': 2502,\n",
              " 'acting': 809,\n",
              " 'unspoken': 7173,\n",
              " 'inside': 3686,\n",
              " 'sms': 6258,\n",
              " 'ac': 781,\n",
              " 'sptv': 6414,\n",
              " 'jersey': 3810,\n",
              " 'devils': 2278,\n",
              " 'detroit': 2272,\n",
              " 'red': 5638,\n",
              " 'wings': 7528,\n",
              " 'play': 5228,\n",
              " 'ice': 3578,\n",
              " 'hockey': 3451,\n",
              " 'correct': 2008,\n",
              " 'incorrect': 3652,\n",
              " ...}"
            ]
          },
          "metadata": {},
          "execution_count": 32
        }
      ]
    },
    {
      "cell_type": "code",
      "source": [
        "bow[5412]"
      ],
      "metadata": {
        "colab": {
          "base_uri": "https://localhost:8080/",
          "height": 35
        },
        "id": "Z7bY_cGn3TKA",
        "outputId": "a734d929-d3e1-4134-abe7-f45e4c2a9d5c"
      },
      "execution_count": 33,
      "outputs": [
        {
          "output_type": "execute_result",
          "data": {
            "text/plain": [
              "'prize'"
            ],
            "application/vnd.google.colaboratory.intrinsic+json": {
              "type": "string"
            }
          },
          "metadata": {},
          "execution_count": 33
        }
      ]
    },
    {
      "cell_type": "code",
      "source": [
        "# convert email to np array\n",
        "X_train_np = X_train_cv.toarray()\n",
        "X_train_np"
      ],
      "metadata": {
        "colab": {
          "base_uri": "https://localhost:8080/"
        },
        "id": "jX6ji9Gm3djv",
        "outputId": "bcf1f54d-5f70-40b3-ea2d-21bdf8f71e91"
      },
      "execution_count": 34,
      "outputs": [
        {
          "output_type": "execute_result",
          "data": {
            "text/plain": [
              "array([[0, 0, 0, ..., 0, 0, 0],\n",
              "       [0, 0, 0, ..., 0, 0, 0],\n",
              "       [0, 0, 0, ..., 0, 0, 0],\n",
              "       ...,\n",
              "       [0, 0, 0, ..., 0, 0, 0],\n",
              "       [0, 0, 0, ..., 0, 0, 0],\n",
              "       [0, 0, 0, ..., 0, 0, 0]])"
            ]
          },
          "metadata": {},
          "execution_count": 34
        }
      ]
    },
    {
      "cell_type": "code",
      "source": [
        "# first email is...\n",
        "X_train_np[:4][0]"
      ],
      "metadata": {
        "colab": {
          "base_uri": "https://localhost:8080/"
        },
        "id": "5Ld0_JEi39_P",
        "outputId": "cacd1ff7-b007-4705-be3a-7e6df83d3a1e"
      },
      "execution_count": 35,
      "outputs": [
        {
          "output_type": "execute_result",
          "data": {
            "text/plain": [
              "array([0, 0, 0, ..., 0, 0, 0])"
            ]
          },
          "metadata": {},
          "execution_count": 35
        }
      ]
    },
    {
      "cell_type": "code",
      "source": [
        "# check for zero value\n",
        "\n",
        "np.where(X_train_np[0]!=0)"
      ],
      "metadata": {
        "colab": {
          "base_uri": "https://localhost:8080/"
        },
        "id": "m7Mh30it35J5",
        "outputId": "1d1eed3d-7d02-4521-8a6e-baf280b352c9"
      },
      "execution_count": 36,
      "outputs": [
        {
          "output_type": "execute_result",
          "data": {
            "text/plain": [
              "(array([3285, 4060, 4903, 6938, 7437]),)"
            ]
          },
          "metadata": {},
          "execution_count": 36
        }
      ]
    },
    {
      "cell_type": "code",
      "source": [
        "X_train[:4][3428]"
      ],
      "metadata": {
        "colab": {
          "base_uri": "https://localhost:8080/",
          "height": 35
        },
        "id": "rbxX_PMK4bbU",
        "outputId": "a861b97f-5674-4903-878c-dcdb7659e6b2"
      },
      "execution_count": 43,
      "outputs": [
        {
          "output_type": "execute_result",
          "data": {
            "text/plain": [
              "'Haha okay... Today weekend leh...'"
            ],
            "application/vnd.google.colaboratory.intrinsic+json": {
              "type": "string"
            }
          },
          "metadata": {},
          "execution_count": 43
        }
      ]
    },
    {
      "cell_type": "code",
      "source": [
        "X_train_np[0][3285]"
      ],
      "metadata": {
        "colab": {
          "base_uri": "https://localhost:8080/"
        },
        "id": "QGP6CnnQ5Y5g",
        "outputId": "62ac84fc-f50c-4a0f-e59f-3905e2144117"
      },
      "execution_count": 45,
      "outputs": [
        {
          "output_type": "execute_result",
          "data": {
            "text/plain": [
              "1"
            ]
          },
          "metadata": {},
          "execution_count": 45
        }
      ]
    },
    {
      "cell_type": "code",
      "source": [
        "bow[3285]"
      ],
      "metadata": {
        "colab": {
          "base_uri": "https://localhost:8080/",
          "height": 35
        },
        "id": "16JRFYIh5rDi",
        "outputId": "51864a31-2d42-485e-b829-90971c08d397"
      },
      "execution_count": 51,
      "outputs": [
        {
          "output_type": "execute_result",
          "data": {
            "text/plain": [
              "'haha'"
            ],
            "application/vnd.google.colaboratory.intrinsic+json": {
              "type": "string"
            }
          },
          "metadata": {},
          "execution_count": 51
        }
      ]
    },
    {
      "cell_type": "markdown",
      "source": [
        "create naive bayes classifier"
      ],
      "metadata": {
        "id": "-AdGGlHQ6Z2P"
      }
    },
    {
      "cell_type": "code",
      "source": [
        "from sklearn.naive_bayes import MultinomialNB\n",
        "\n",
        "model = MultinomialNB()\n",
        "model.fit(X_train_cv, y_train)"
      ],
      "metadata": {
        "colab": {
          "base_uri": "https://localhost:8080/"
        },
        "id": "ebEHZvcQ6fVg",
        "outputId": "d6ad083b-e7d4-485d-d357-ece638b4f82d"
      },
      "execution_count": 52,
      "outputs": [
        {
          "output_type": "execute_result",
          "data": {
            "text/plain": [
              "MultinomialNB()"
            ]
          },
          "metadata": {},
          "execution_count": 52
        }
      ]
    },
    {
      "cell_type": "code",
      "source": [
        "X_test_cv = v.transform(X_test)\n",
        "X_test_cv"
      ],
      "metadata": {
        "colab": {
          "base_uri": "https://localhost:8080/"
        },
        "id": "0OKK_MSd6fNP",
        "outputId": "7d68295c-a842-4a34-8090-1c39e475cff6"
      },
      "execution_count": 54,
      "outputs": [
        {
          "output_type": "execute_result",
          "data": {
            "text/plain": [
              "<1115x7752 sparse matrix of type '<class 'numpy.int64'>'\n",
              "\twith 14052 stored elements in Compressed Sparse Row format>"
            ]
          },
          "metadata": {},
          "execution_count": 54
        }
      ]
    },
    {
      "cell_type": "markdown",
      "source": [
        "evaluate perfomrance of model"
      ],
      "metadata": {
        "id": "wYYxDNbe7NEi"
      }
    },
    {
      "cell_type": "code",
      "source": [
        "from sklearn.metrics import classification_report\n",
        "\n",
        "y_pred = model.predict(X_test_cv)\n",
        "\n",
        "cr = classification_report(y_test, y_pred)\n",
        "print(cr)"
      ],
      "metadata": {
        "colab": {
          "base_uri": "https://localhost:8080/"
        },
        "id": "TA4VHZGP7PTl",
        "outputId": "433a9ed5-09e7-48a1-d91b-5b2848ae7ecf"
      },
      "execution_count": 56,
      "outputs": [
        {
          "output_type": "stream",
          "name": "stdout",
          "text": [
            "              precision    recall  f1-score   support\n",
            "\n",
            "           0       0.99      0.99      0.99       974\n",
            "           1       0.96      0.90      0.93       141\n",
            "\n",
            "    accuracy                           0.98      1115\n",
            "   macro avg       0.97      0.95      0.96      1115\n",
            "weighted avg       0.98      0.98      0.98      1115\n",
            "\n"
          ]
        }
      ]
    },
    {
      "cell_type": "code",
      "source": [
        "emails = [\n",
        "    'Hey mohan, can we get together to watch footbal game tomorrow?',\n",
        "    'Upto 20% discount on parking, exclusive offer just for you. Dont miss this reward!'\n",
        "]\n",
        "\n",
        "emails_count = v.transform(emails)\n",
        "model.predict(emails_count)"
      ],
      "metadata": {
        "colab": {
          "base_uri": "https://localhost:8080/"
        },
        "id": "kwZrt78e8be4",
        "outputId": "d9b46402-ebb3-4a80-8ad7-44f1ad849b59"
      },
      "execution_count": 58,
      "outputs": [
        {
          "output_type": "execute_result",
          "data": {
            "text/plain": [
              "array([0, 1])"
            ]
          },
          "metadata": {},
          "execution_count": 58
        }
      ]
    },
    {
      "cell_type": "markdown",
      "source": [
        "using pipeline to skip coding"
      ],
      "metadata": {
        "id": "ZSlAvmzX9F6s"
      }
    },
    {
      "cell_type": "code",
      "source": [
        "from sklearn.pipeline import Pipeline\n",
        "\n",
        "clf = Pipeline([\n",
        "                ('vectorizer', CountVectorizer()),\n",
        "                ('nb', MultinomialNB())\n",
        "])"
      ],
      "metadata": {
        "id": "1ycilFuv89va"
      },
      "execution_count": 59,
      "outputs": []
    },
    {
      "cell_type": "code",
      "source": [
        "clf.fit(X_train, y_train)"
      ],
      "metadata": {
        "colab": {
          "base_uri": "https://localhost:8080/"
        },
        "id": "bH3rHszg9fAf",
        "outputId": "7f6305e6-9764-4c68-c416-ff993577a88e"
      },
      "execution_count": 60,
      "outputs": [
        {
          "output_type": "execute_result",
          "data": {
            "text/plain": [
              "Pipeline(steps=[('vectorizer', CountVectorizer()), ('nb', MultinomialNB())])"
            ]
          },
          "metadata": {},
          "execution_count": 60
        }
      ]
    },
    {
      "cell_type": "code",
      "source": [
        "y_pred = clf.predict(X_test)\n",
        "\n",
        "print(classification_report(y_test, y_pred))"
      ],
      "metadata": {
        "colab": {
          "base_uri": "https://localhost:8080/"
        },
        "id": "WImArhz79pGe",
        "outputId": "22caed7c-089d-4068-f2c7-c6c581372353"
      },
      "execution_count": 61,
      "outputs": [
        {
          "output_type": "stream",
          "name": "stdout",
          "text": [
            "              precision    recall  f1-score   support\n",
            "\n",
            "           0       0.99      0.99      0.99       974\n",
            "           1       0.96      0.90      0.93       141\n",
            "\n",
            "    accuracy                           0.98      1115\n",
            "   macro avg       0.97      0.95      0.96      1115\n",
            "weighted avg       0.98      0.98      0.98      1115\n",
            "\n"
          ]
        }
      ]
    },
    {
      "cell_type": "code",
      "source": [
        ""
      ],
      "metadata": {
        "id": "TGamUqUB98Dj"
      },
      "execution_count": null,
      "outputs": []
    }
  ]
}