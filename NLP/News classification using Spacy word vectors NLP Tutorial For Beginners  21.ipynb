{
 "cells": [
  {
   "cell_type": "markdown",
   "metadata": {},
   "source": [
    "\n",
    "\n",
    "    Fake news refers to misinformation or disinformation in the country which is spread through word of mouth and more recently through digital communication such as What's app messages, social media posts, etc.\n",
    "\n",
    "    Fake news spreads faster than real news and creates problems and fear among groups and in society.\n",
    "\n",
    "     address these problems using classical NLP techniques and  classify whether a given message/ text is Real or Fake Message.\n",
    "    \n",
    "     use glove embeddings from spacy which is trained on massive wikipedia dataset to pre-process and text vectorization and apply different classification algorithms.\n"
   ]
  },
  {
   "cell_type": "markdown",
   "metadata": {},
   "source": [
    "dataset: https://www.kaggle.com/datasets/clmentbisaillon/fake-and-real-news-dataset\n",
    "\n",
    "\n",
    "    This data consists of two columns.\n",
    "\n",
    "      - Text\n",
    "      - label\n",
    "\n",
    "    Text is the statements or messages regarding a particular event/situation.\n",
    "\n",
    "    label feature tells whether the given text is Fake or Real.\n",
    "\n",
    "    As there are only 2 classes, this problem comes under the Binary Classification.\n"
   ]
  },
  {
   "cell_type": "code",
   "execution_count": 1,
   "metadata": {},
   "outputs": [
    {
     "data": {
      "text/html": [
       "<div>\n",
       "<style scoped>\n",
       "    .dataframe tbody tr th:only-of-type {\n",
       "        vertical-align: middle;\n",
       "    }\n",
       "\n",
       "    .dataframe tbody tr th {\n",
       "        vertical-align: top;\n",
       "    }\n",
       "\n",
       "    .dataframe thead th {\n",
       "        text-align: right;\n",
       "    }\n",
       "</style>\n",
       "<table border=\"1\" class=\"dataframe\">\n",
       "  <thead>\n",
       "    <tr style=\"text-align: right;\">\n",
       "      <th></th>\n",
       "      <th>Text</th>\n",
       "      <th>label</th>\n",
       "    </tr>\n",
       "  </thead>\n",
       "  <tbody>\n",
       "    <tr>\n",
       "      <th>0</th>\n",
       "      <td>Top Trump Surrogate BRUTALLY Stabs Him In The...</td>\n",
       "      <td>Fake</td>\n",
       "    </tr>\n",
       "    <tr>\n",
       "      <th>1</th>\n",
       "      <td>U.S. conservative leader optimistic of common ...</td>\n",
       "      <td>Real</td>\n",
       "    </tr>\n",
       "    <tr>\n",
       "      <th>2</th>\n",
       "      <td>Trump proposes U.S. tax overhaul, stirs concer...</td>\n",
       "      <td>Real</td>\n",
       "    </tr>\n",
       "    <tr>\n",
       "      <th>3</th>\n",
       "      <td>Court Forces Ohio To Allow Millions Of Illega...</td>\n",
       "      <td>Fake</td>\n",
       "    </tr>\n",
       "    <tr>\n",
       "      <th>4</th>\n",
       "      <td>Democrats say Trump agrees to work on immigrat...</td>\n",
       "      <td>Real</td>\n",
       "    </tr>\n",
       "  </tbody>\n",
       "</table>\n",
       "</div>"
      ],
      "text/plain": [
       "                                                Text label\n",
       "0   Top Trump Surrogate BRUTALLY Stabs Him In The...  Fake\n",
       "1  U.S. conservative leader optimistic of common ...  Real\n",
       "2  Trump proposes U.S. tax overhaul, stirs concer...  Real\n",
       "3   Court Forces Ohio To Allow Millions Of Illega...  Fake\n",
       "4  Democrats say Trump agrees to work on immigrat...  Real"
      ]
     },
     "execution_count": 1,
     "metadata": {},
     "output_type": "execute_result"
    }
   ],
   "source": [
    "import pandas as pd\n",
    "\n",
    "df = pd.read_csv(\"Fake_Real_Data.csv\")\n",
    "df.head()\n"
   ]
  },
  {
   "cell_type": "code",
   "execution_count": 2,
   "metadata": {},
   "outputs": [
    {
     "data": {
      "text/plain": [
       "(9900, 2)"
      ]
     },
     "execution_count": 2,
     "metadata": {},
     "output_type": "execute_result"
    }
   ],
   "source": [
    "df.shape"
   ]
  },
  {
   "cell_type": "code",
   "execution_count": 3,
   "metadata": {},
   "outputs": [
    {
     "data": {
      "text/plain": [
       "Fake    5000\n",
       "Real    4900\n",
       "Name: label, dtype: int64"
      ]
     },
     "execution_count": 3,
     "metadata": {},
     "output_type": "execute_result"
    }
   ],
   "source": [
    "# class imbalance\n",
    "df.label.value_counts()"
   ]
  },
  {
   "cell_type": "code",
   "execution_count": 4,
   "metadata": {},
   "outputs": [
    {
     "data": {
      "text/html": [
       "<div>\n",
       "<style scoped>\n",
       "    .dataframe tbody tr th:only-of-type {\n",
       "        vertical-align: middle;\n",
       "    }\n",
       "\n",
       "    .dataframe tbody tr th {\n",
       "        vertical-align: top;\n",
       "    }\n",
       "\n",
       "    .dataframe thead th {\n",
       "        text-align: right;\n",
       "    }\n",
       "</style>\n",
       "<table border=\"1\" class=\"dataframe\">\n",
       "  <thead>\n",
       "    <tr style=\"text-align: right;\">\n",
       "      <th></th>\n",
       "      <th>Text</th>\n",
       "      <th>label</th>\n",
       "      <th>label_num</th>\n",
       "    </tr>\n",
       "  </thead>\n",
       "  <tbody>\n",
       "    <tr>\n",
       "      <th>0</th>\n",
       "      <td>Top Trump Surrogate BRUTALLY Stabs Him In The...</td>\n",
       "      <td>Fake</td>\n",
       "      <td>0</td>\n",
       "    </tr>\n",
       "    <tr>\n",
       "      <th>1</th>\n",
       "      <td>U.S. conservative leader optimistic of common ...</td>\n",
       "      <td>Real</td>\n",
       "      <td>1</td>\n",
       "    </tr>\n",
       "    <tr>\n",
       "      <th>2</th>\n",
       "      <td>Trump proposes U.S. tax overhaul, stirs concer...</td>\n",
       "      <td>Real</td>\n",
       "      <td>1</td>\n",
       "    </tr>\n",
       "    <tr>\n",
       "      <th>3</th>\n",
       "      <td>Court Forces Ohio To Allow Millions Of Illega...</td>\n",
       "      <td>Fake</td>\n",
       "      <td>0</td>\n",
       "    </tr>\n",
       "    <tr>\n",
       "      <th>4</th>\n",
       "      <td>Democrats say Trump agrees to work on immigrat...</td>\n",
       "      <td>Real</td>\n",
       "      <td>1</td>\n",
       "    </tr>\n",
       "  </tbody>\n",
       "</table>\n",
       "</div>"
      ],
      "text/plain": [
       "                                                Text label  label_num\n",
       "0   Top Trump Surrogate BRUTALLY Stabs Him In The...  Fake          0\n",
       "1  U.S. conservative leader optimistic of common ...  Real          1\n",
       "2  Trump proposes U.S. tax overhaul, stirs concer...  Real          1\n",
       "3   Court Forces Ohio To Allow Millions Of Illega...  Fake          0\n",
       "4  Democrats say Trump agrees to work on immigrat...  Real          1"
      ]
     },
     "execution_count": 4,
     "metadata": {},
     "output_type": "execute_result"
    }
   ],
   "source": [
    "# convert label column into numbers\n",
    "df['label_num'] = df['label'].map({'Fake':0, 'Real': 1})\n",
    "df.head()"
   ]
  },
  {
   "cell_type": "markdown",
   "metadata": {},
   "source": [
    "\n",
    "\n",
    "Get spacy word vectors and store them in a pandas dataframe\n"
   ]
  },
  {
   "cell_type": "code",
   "execution_count": 5,
   "metadata": {},
   "outputs": [],
   "source": [
    "\n",
    "\n",
    "import spacy\n",
    "nlp = spacy.load(\"en_core_web_lg\")\n",
    "\n"
   ]
  },
  {
   "cell_type": "code",
   "execution_count": 6,
   "metadata": {},
   "outputs": [
    {
     "data": {
      "text/plain": [
       "array([-2.19270572e-01,  1.52125448e-01, -4.96100122e-03,  1.31342322e-01,\n",
       "        1.72147915e-01, -5.37058525e-02,  1.57524254e-02,  2.88708620e-02,\n",
       "        1.91951424e-01,  1.88406122e+00, -1.23005677e-02,  3.15188579e-02,\n",
       "       -1.35371998e-01, -4.86118312e-04, -6.37954324e-02,  6.07975721e-02,\n",
       "       -3.80579419e-02,  1.29796728e-01,  8.20702836e-02, -4.40842845e-02,\n",
       "       -7.65397102e-02, -1.18215568e-01, -4.23578583e-02, -8.57070014e-02,\n",
       "       -1.39648363e-03,  7.16192797e-02, -1.14292555e-01,  1.45565420e-01,\n",
       "        8.86508450e-02, -1.73977241e-01, -6.02098592e-02,  1.52735129e-01,\n",
       "       -1.34748578e-01,  1.02623805e-01,  3.52834851e-01, -2.55936563e-01,\n",
       "       -1.09647155e-01,  2.62982845e-02, -5.44955730e-02, -1.13351278e-01,\n",
       "       -1.45067135e-02, -1.06596135e-01, -7.84557015e-02, -1.74430713e-01,\n",
       "        6.28068522e-02, -9.58082154e-02, -6.44834191e-02, -7.68017098e-02,\n",
       "       -5.42204306e-02, -5.66065721e-02, -1.99884959e-02,  8.63015652e-02,\n",
       "       -1.47730038e-01, -7.71828666e-02, -2.21431419e-01,  1.18109420e-01,\n",
       "        9.41188559e-02,  7.56627172e-02,  8.84443056e-03, -1.06624000e-01,\n",
       "       -1.26017720e-01,  1.06875993e-01, -5.95200025e-02, -2.22243294e-01,\n",
       "        1.87067136e-01,  2.35589415e-01, -2.87007131e-02,  7.16752782e-02,\n",
       "        2.89325714e-02,  3.07357144e-02, -1.82527274e-01,  6.79603666e-02,\n",
       "        2.14057136e-02,  1.06025264e-01, -1.44164130e-01, -1.41741499e-01,\n",
       "        1.34631425e-01, -2.78872579e-01, -1.72197185e-02, -2.62547135e-02,\n",
       "       -5.71082868e-02,  3.45328450e-03, -1.81662127e-01,  4.10652794e-02,\n",
       "        1.84200052e-02,  1.97746977e-01,  2.25316420e-01, -1.28338575e-01,\n",
       "       -5.68732843e-02, -2.21994313e-04, -2.12847143e-01,  9.73785594e-02,\n",
       "       -3.35702896e-02, -7.09437653e-02,  3.30185890e-03, -2.31406689e-01,\n",
       "        1.76945001e-01,  4.95728441e-02, -1.18070565e-01, -1.44344464e-01,\n",
       "        3.97305153e-02,  2.19560415e-01,  2.60584295e-01, -8.22209939e-02,\n",
       "        5.66445515e-02, -1.10057569e+00,  1.11399381e-03,  5.78429960e-02,\n",
       "        8.41289908e-02, -5.47236018e-02,  1.27401441e-01, -1.09482571e-01,\n",
       "       -8.89527146e-03, -8.91758576e-02,  9.80569944e-02,  4.11300473e-02,\n",
       "        1.61191136e-01, -9.62268487e-02,  4.48065698e-02,  8.83261412e-02,\n",
       "       -9.88375619e-02,  1.05448730e-01,  9.59087089e-02,  1.56607717e-01,\n",
       "       -8.49872902e-02,  8.92971084e-02, -1.28235281e-01, -1.24702146e-02,\n",
       "       -2.86293596e-01, -8.39890018e-02, -1.81437582e-01,  1.36923566e-01,\n",
       "       -1.27367005e-01, -2.46380880e-01, -2.18979977e-02,  1.04644008e-01,\n",
       "       -2.33855676e-02,  1.19273290e-01,  4.20344397e-02,  2.64885630e-02,\n",
       "       -1.32932150e+00,  5.25407232e-02, -4.06325236e-02, -8.84300023e-02,\n",
       "       -1.01128154e-01,  7.38942772e-02,  2.34285416e-03, -9.41287205e-02,\n",
       "        3.39870453e-01, -6.68156743e-02, -8.94208550e-02,  1.18440010e-01,\n",
       "        7.69862384e-02,  8.87928456e-02,  8.18663184e-03, -4.79061343e-02,\n",
       "       -2.28558213e-01,  1.15896702e-01,  2.43464280e-02,  4.35539641e-06,\n",
       "        7.00099999e-03, -1.16687283e-01,  3.71321701e-02,  1.99172541e-01,\n",
       "       -1.20625563e-01, -2.74527013e-01, -1.03401855e-01,  8.74086190e-03,\n",
       "        1.73413724e-01,  7.38267079e-02, -1.90840572e-01, -7.90042654e-02,\n",
       "        2.07865313e-01,  4.15144265e-02,  1.16998866e-01,  1.79677203e-01,\n",
       "       -3.30047049e-02, -1.04449995e-01,  6.02690056e-02, -6.22011460e-02,\n",
       "        1.99351430e-01, -1.94187135e-01, -5.38000232e-03,  1.48288524e-02,\n",
       "        2.62635559e-01,  3.09410036e-01,  1.21224292e-01, -9.36134234e-02,\n",
       "       -5.77467494e-02, -9.77376252e-02, -4.50490005e-02,  8.04643240e-03,\n",
       "       -2.43684333e-02,  1.03977144e-01,  1.39592877e-02,  2.44082902e-02,\n",
       "       -1.84342861e-01, -5.48356911e-03, -3.23428549e-02, -1.39543578e-01,\n",
       "       -8.13941434e-02, -1.48672730e-01, -2.49547273e-01, -9.23027396e-02,\n",
       "        7.97562823e-02, -1.34960413e-02,  1.10502854e-01,  8.42139944e-02,\n",
       "       -8.94382820e-02, -9.95099396e-02, -2.20631599e-01, -8.95470008e-02,\n",
       "       -1.07394286e-01, -1.20811142e-01, -1.36737134e-02,  1.29143000e-02,\n",
       "        3.01084276e-02,  1.50695862e-02, -4.39127199e-02, -1.53269008e-01,\n",
       "       -4.94921468e-02,  9.80502889e-02, -1.43963709e-01, -1.49101719e-01,\n",
       "        1.04840294e-01,  1.81673720e-01,  6.35487065e-02,  1.58912420e-01,\n",
       "        9.36012864e-02, -9.84243676e-02, -1.01912312e-01, -2.27864049e-02,\n",
       "        6.61510602e-02, -3.24998535e-02, -2.51076549e-01, -2.26039156e-01,\n",
       "       -7.55814239e-02,  4.46433090e-02,  4.79478575e-02, -1.43518567e-01,\n",
       "        1.19952604e-01, -4.84292880e-02, -8.85659978e-02,  2.86994297e-02,\n",
       "        2.18371138e-01, -1.16211288e-01,  1.32908588e-02, -1.74411193e-01,\n",
       "        1.06791295e-01,  4.71030101e-02, -1.92688987e-01, -2.53065694e-02,\n",
       "       -5.22248633e-02, -1.53818130e-01, -6.68062940e-02, -4.11478505e-02,\n",
       "        3.38425711e-02, -2.00962890e-02, -3.15327160e-02, -1.01774283e-01,\n",
       "       -1.25715658e-01,  1.32226616e-01, -1.68764859e-01,  2.78448593e-02,\n",
       "        4.09114324e-02,  1.56069860e-01, -1.64132848e-01, -1.10053010e-01,\n",
       "       -2.15119958e-01, -3.17911878e-02, -4.71413555e-03, -1.41662851e-01,\n",
       "        3.62077169e-02,  8.69747028e-02,  4.01799800e-03,  3.47985663e-02,\n",
       "        2.04782143e-01,  2.24798582e-02,  7.02263117e-02,  8.82667378e-02,\n",
       "        1.88602790e-01,  1.39999419e-01, -8.40861443e-03, -4.06655744e-02,\n",
       "       -9.11531448e-02,  1.21672833e-02, -1.23625584e-01, -1.26684576e-01,\n",
       "       -3.90682630e-02, -8.99327174e-02,  1.26134723e-01, -1.06279001e-01,\n",
       "       -1.38185278e-01, -1.52240425e-01, -1.56579152e-01,  9.71922874e-02,\n",
       "       -7.49646872e-02, -5.88928582e-03,  1.13602996e-01,  9.66700073e-03],\n",
       "      dtype=float32)"
      ]
     },
     "execution_count": 6,
     "metadata": {},
     "output_type": "execute_result"
    }
   ],
   "source": [
    "doc = nlp(\"Top Trump Surrogate BRUTALLY Stabs Him In\")\n",
    "doc.vector"
   ]
  },
  {
   "cell_type": "code",
   "execution_count": 7,
   "metadata": {},
   "outputs": [
    {
     "data": {
      "text/plain": [
       "(300,)"
      ]
     },
     "execution_count": 7,
     "metadata": {},
     "output_type": "execute_result"
    }
   ],
   "source": [
    "doc.vector.shape"
   ]
  },
  {
   "cell_type": "code",
   "execution_count": 8,
   "metadata": {},
   "outputs": [],
   "source": [
    "df['vector'] = df.Text.apply(lambda x: nlp(x).vector)\n"
   ]
  },
  {
   "cell_type": "code",
   "execution_count": 9,
   "metadata": {},
   "outputs": [
    {
     "data": {
      "text/html": [
       "<div>\n",
       "<style scoped>\n",
       "    .dataframe tbody tr th:only-of-type {\n",
       "        vertical-align: middle;\n",
       "    }\n",
       "\n",
       "    .dataframe tbody tr th {\n",
       "        vertical-align: top;\n",
       "    }\n",
       "\n",
       "    .dataframe thead th {\n",
       "        text-align: right;\n",
       "    }\n",
       "</style>\n",
       "<table border=\"1\" class=\"dataframe\">\n",
       "  <thead>\n",
       "    <tr style=\"text-align: right;\">\n",
       "      <th></th>\n",
       "      <th>Text</th>\n",
       "      <th>label</th>\n",
       "      <th>label_num</th>\n",
       "      <th>vector</th>\n",
       "    </tr>\n",
       "  </thead>\n",
       "  <tbody>\n",
       "    <tr>\n",
       "      <th>0</th>\n",
       "      <td>Top Trump Surrogate BRUTALLY Stabs Him In The...</td>\n",
       "      <td>Fake</td>\n",
       "      <td>0</td>\n",
       "      <td>[-0.103623025, 0.17802684, -0.11873861, -0.034...</td>\n",
       "    </tr>\n",
       "    <tr>\n",
       "      <th>1</th>\n",
       "      <td>U.S. conservative leader optimistic of common ...</td>\n",
       "      <td>Real</td>\n",
       "      <td>1</td>\n",
       "      <td>[-0.0063406364, 0.16712041, -0.06661373, 0.017...</td>\n",
       "    </tr>\n",
       "    <tr>\n",
       "      <th>2</th>\n",
       "      <td>Trump proposes U.S. tax overhaul, stirs concer...</td>\n",
       "      <td>Real</td>\n",
       "      <td>1</td>\n",
       "      <td>[-0.122753024, 0.17192385, -0.024732638, -0.06...</td>\n",
       "    </tr>\n",
       "    <tr>\n",
       "      <th>3</th>\n",
       "      <td>Court Forces Ohio To Allow Millions Of Illega...</td>\n",
       "      <td>Fake</td>\n",
       "      <td>0</td>\n",
       "      <td>[-0.027337318, 0.12501417, -0.0073965387, -0.0...</td>\n",
       "    </tr>\n",
       "    <tr>\n",
       "      <th>4</th>\n",
       "      <td>Democrats say Trump agrees to work on immigrat...</td>\n",
       "      <td>Real</td>\n",
       "      <td>1</td>\n",
       "      <td>[-0.032708026, 0.093958504, -0.03287002, -0.00...</td>\n",
       "    </tr>\n",
       "  </tbody>\n",
       "</table>\n",
       "</div>"
      ],
      "text/plain": [
       "                                                Text label  label_num  \\\n",
       "0   Top Trump Surrogate BRUTALLY Stabs Him In The...  Fake          0   \n",
       "1  U.S. conservative leader optimistic of common ...  Real          1   \n",
       "2  Trump proposes U.S. tax overhaul, stirs concer...  Real          1   \n",
       "3   Court Forces Ohio To Allow Millions Of Illega...  Fake          0   \n",
       "4  Democrats say Trump agrees to work on immigrat...  Real          1   \n",
       "\n",
       "                                              vector  \n",
       "0  [-0.103623025, 0.17802684, -0.11873861, -0.034...  \n",
       "1  [-0.0063406364, 0.16712041, -0.06661373, 0.017...  \n",
       "2  [-0.122753024, 0.17192385, -0.024732638, -0.06...  \n",
       "3  [-0.027337318, 0.12501417, -0.0073965387, -0.0...  \n",
       "4  [-0.032708026, 0.093958504, -0.03287002, -0.00...  "
      ]
     },
     "execution_count": 9,
     "metadata": {},
     "output_type": "execute_result"
    }
   ],
   "source": [
    "df.head()"
   ]
  },
  {
   "cell_type": "code",
   "execution_count": 10,
   "metadata": {},
   "outputs": [],
   "source": [
    "from sklearn.model_selection import train_test_split\n",
    "X_train, X_test, y_train, y_test = train_test_split(df.vector.values, df.label_num, test_size= 0.2, random_state= 2022)\n"
   ]
  },
  {
   "cell_type": "code",
   "execution_count": 14,
   "metadata": {},
   "outputs": [],
   "source": [
    "import numpy as np\n",
    "\n",
    "X_train_2d = np.stack(X_train)\n",
    "X_test_2d = np.stack(X_test)"
   ]
  },
  {
   "cell_type": "code",
   "execution_count": 16,
   "metadata": {},
   "outputs": [
    {
     "data": {
      "text/plain": [
       "MultinomialNB()"
      ]
     },
     "execution_count": 16,
     "metadata": {},
     "output_type": "execute_result"
    }
   ],
   "source": [
    "from sklearn.naive_bayes import MultinomialNB\n",
    "from sklearn.preprocessing import MinMaxScaler\n",
    "\n",
    "scaler = MinMaxScaler()\n",
    "scaled_train_embed = scaler.fit_transform(X_train_2d)\n",
    "scaled_test_embed = scaler.transform(X_test_2d)\n",
    "\n",
    "clf = MultinomialNB()\n",
    "clf.fit(scaled_train_embed, y_train)"
   ]
  },
  {
   "cell_type": "code",
   "execution_count": 17,
   "metadata": {},
   "outputs": [
    {
     "name": "stdout",
     "output_type": "stream",
     "text": [
      "              precision    recall  f1-score   support\n",
      "\n",
      "           0       0.95      0.96      0.96      1024\n",
      "           1       0.95      0.95      0.95       956\n",
      "\n",
      "    accuracy                           0.95      1980\n",
      "   macro avg       0.95      0.95      0.95      1980\n",
      "weighted avg       0.95      0.95      0.95      1980\n",
      "\n"
     ]
    }
   ],
   "source": [
    "from sklearn.metrics import classification_report\n",
    "\n",
    "y_pred = clf.predict(scaled_test_embed)\n",
    "\n",
    "print(classification_report(y_test, y_pred))"
   ]
  },
  {
   "cell_type": "code",
   "execution_count": 18,
   "metadata": {},
   "outputs": [
    {
     "name": "stdout",
     "output_type": "stream",
     "text": [
      "              precision    recall  f1-score   support\n",
      "\n",
      "           0       0.99      0.97      0.98      1024\n",
      "           1       0.97      0.99      0.98       956\n",
      "\n",
      "    accuracy                           0.98      1980\n",
      "   macro avg       0.98      0.98      0.98      1980\n",
      "weighted avg       0.98      0.98      0.98      1980\n",
      "\n"
     ]
    }
   ],
   "source": [
    "from sklearn.neighbors import KNeighborsClassifier\n",
    "\n",
    "clf = KNeighborsClassifier(n_neighbors= 5, metric= 'euclidean')\n",
    "\n",
    "clf.fit(X_train_2d, y_train)\n",
    "\n",
    "y_pred = clf.predict(X_test_2d)\n",
    "\n",
    "print(classification_report(y_test, y_pred))"
   ]
  },
  {
   "cell_type": "markdown",
   "metadata": {},
   "source": [
    "confusion matrix\n"
   ]
  },
  {
   "cell_type": "code",
   "execution_count": 19,
   "metadata": {},
   "outputs": [
    {
     "data": {
      "text/plain": [
       "Text(69.0, 0.5, 'Truth')"
      ]
     },
     "execution_count": 19,
     "metadata": {},
     "output_type": "execute_result"
    },
    {
     "data": {
      "image/png": "[encoded data removed]",
      "text/plain": [
       "<Figure size 720x504 with 2 Axes>"
      ]
     },
     "metadata": {
      "needs_background": "light"
     },
     "output_type": "display_data"
    }
   ],
   "source": [
    "from tokenize import PlainToken\n",
    "from sklearn.metrics import confusion_matrix\n",
    "\n",
    "cm = confusion_matrix(y_test, y_pred)\n",
    "cm\n",
    "\n",
    "\n",
    "from matplotlib import pyplot as plt\n",
    "import seaborn as sn\n",
    "plt.figure(figsize= (10,7))\n",
    "sn.heatmap(cm, annot= True, fmt= 'd')\n",
    "plt.xlabel(\"Prediction\")\n",
    "plt.ylabel(\"Truth\")"
   ]
  },
  {
   "cell_type": "markdown",
   "metadata": {},
   "source": [
    "1. KNN model which didn't perform well in the vectorization techniques like Bag of words, and TF-IDF due to very high dimensional vector space, performed really well with glove vectors due to only 300-dimensional vectors and very good embeddings(similar and related words have almost similar embeddings) for the given text data.\n",
    "\n",
    "2. MultinomialNB model performed decently well but did not come into the top list because in the 300-dimensional vectors we also have the negative values present. The Naive Bayes model does not fit the data if there are negative values. So, to overcome this shortcoming, we have used the Min-Max scaler to bring down all the values between 0 to 1. In this process, there will be a possibility of variance and information loss among the data. But anyhow we got a decent recall and f1 scores."
   ]
  }
 ],
 "metadata": {
  "kernelspec": {
   "display_name": "Python 3.9.12 ('base')",
   "language": "python",
   "name": "python3"
  },
  "language_info": {
   "codemirror_mode": {
    "name": "ipython",
    "version": 3
   },
   "file_extension": ".py",
   "mimetype": "text/x-python",
   "name": "python",
   "nbconvert_exporter": "python",
   "pygments_lexer": "ipython3",
   "version": "3.9.12"
  },
  "orig_nbformat": 4,
  "vscode": {
   "interpreter": {
    "hash": "57bc2b6ce032b5f0e93daa91901b7ea38a856826ef43aa9e95b6d3999f5310df"
   }
  }
 },
 "nbformat": 4,
 "nbformat_minor": 2
}
