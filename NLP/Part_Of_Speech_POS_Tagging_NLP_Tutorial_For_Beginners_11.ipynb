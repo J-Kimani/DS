{
  "nbformat": 4,
  "nbformat_minor": 0,
  "metadata": {
    "colab": {
      "name": "Part Of Speech POS Tagging: NLP Tutorial For Beginners - 11.ipynb",
      "provenance": []
    },
    "kernelspec": {
      "name": "python3",
      "display_name": "Python 3"
    },
    "language_info": {
      "name": "python"
    }
  },
  "cells": [
    {
      "cell_type": "markdown",
      "source": [
        "Part of speech or POS tagging is used to tag parts of speech while building an NLP application"
      ],
      "metadata": {
        "id": "blg76hrtCNeP"
      }
    },
    {
      "cell_type": "markdown",
      "source": [
        "POS TAGS\n"
      ],
      "metadata": {
        "id": "VCwqIvB-CrL5"
      }
    },
    {
      "cell_type": "code",
      "execution_count": 3,
      "metadata": {
        "colab": {
          "base_uri": "https://localhost:8080/"
        },
        "id": "93TS2CV1BRom",
        "outputId": "ffe3f5bf-b9d8-4f00-84e7-e555cdb2ad15"
      },
      "outputs": [
        {
          "output_type": "stream",
          "name": "stdout",
          "text": [
            "Elon\n",
            "flew\n",
            "to\n",
            "mars\n",
            "yesterday\n",
            ".\n",
            "He\n",
            "carried\n",
            "biryani\n",
            "masala\n",
            "with\n",
            "him\n"
          ]
        }
      ],
      "source": [
        "import spacy\n",
        "nlp = spacy.load(\"en_core_web_sm\")\n",
        "doc = nlp(\"Elon flew to mars yesterday. He carried biryani masala with him\")\n",
        "\n",
        "for token in doc:\n",
        "  print(token)"
      ]
    },
    {
      "cell_type": "code",
      "source": [
        "for token in doc:\n",
        "  print(token, \"|\", token.pos_, \"|\", token.pos, \"|\", spacy.explain(token.pos_))\n",
        "  "
      ],
      "metadata": {
        "colab": {
          "base_uri": "https://localhost:8080/"
        },
        "id": "PRf1twcMCp0u",
        "outputId": "48c14858-3697-42d4-bbd8-079b2fe79c9a"
      },
      "execution_count": 5,
      "outputs": [
        {
          "output_type": "stream",
          "name": "stdout",
          "text": [
            "Elon | PROPN | 96 | proper noun\n",
            "flew | VERB | 100 | verb\n",
            "to | ADP | 85 | adposition\n",
            "mars | NOUN | 92 | noun\n",
            "yesterday | NOUN | 92 | noun\n",
            ". | PUNCT | 97 | punctuation\n",
            "He | PRON | 95 | pronoun\n",
            "carried | VERB | 100 | verb\n",
            "biryani | ADJ | 84 | adjective\n",
            "masala | NOUN | 92 | noun\n",
            "with | ADP | 85 | adposition\n",
            "him | PRON | 95 | pronoun\n"
          ]
        }
      ]
    },
    {
      "cell_type": "code",
      "source": [
        "doc = nlp(\"Wow! Dr. Strange made 265 million $ on the very first day\")\n",
        "\n",
        "for token in doc:\n",
        "  print(token, \"|\", token.pos_, \"|\", token.pos, \"|\", spacy.explain(token.pos_))"
      ],
      "metadata": {
        "colab": {
          "base_uri": "https://localhost:8080/"
        },
        "id": "h2kHkP9pDXBK",
        "outputId": "48e2bd3f-d3ee-4648-c64f-fa526bb2fc82"
      },
      "execution_count": 6,
      "outputs": [
        {
          "output_type": "stream",
          "name": "stdout",
          "text": [
            "Wow | INTJ | 91 | interjection\n",
            "! | PUNCT | 97 | punctuation\n",
            "Dr. | PROPN | 96 | proper noun\n",
            "Strange | PROPN | 96 | proper noun\n",
            "made | VERB | 100 | verb\n",
            "265 | NUM | 93 | numeral\n",
            "million | NUM | 93 | numeral\n",
            "$ | NUM | 93 | numeral\n",
            "on | ADP | 85 | adposition\n",
            "the | DET | 90 | determiner\n",
            "very | ADV | 86 | adverb\n",
            "first | ADJ | 84 | adjective\n",
            "day | NOUN | 92 | noun\n"
          ]
        }
      ]
    },
    {
      "cell_type": "markdown",
      "source": [
        "# TAGS\n",
        "\n",
        "enables identification of even past tense"
      ],
      "metadata": {
        "id": "P9VVVuE0E55c"
      }
    },
    {
      "cell_type": "code",
      "source": [
        "for token in doc:\n",
        "  print(token, \"|\", token.pos_, \"|\", token.pos, \"|\", spacy.explain(token.pos_), \"|\", token.tag_, \"|\", spacy.explain(token.tag_))"
      ],
      "metadata": {
        "colab": {
          "base_uri": "https://localhost:8080/"
        },
        "id": "Jd-f1BjTEy3e",
        "outputId": "d9ca724b-4b47-490d-d64d-0d0c3266b130"
      },
      "execution_count": 7,
      "outputs": [
        {
          "output_type": "stream",
          "name": "stdout",
          "text": [
            "Wow | INTJ | 91 | interjection | UH | interjection\n",
            "! | PUNCT | 97 | punctuation | . | punctuation mark, sentence closer\n",
            "Dr. | PROPN | 96 | proper noun | NNP | noun, proper singular\n",
            "Strange | PROPN | 96 | proper noun | NNP | noun, proper singular\n",
            "made | VERB | 100 | verb | VBD | verb, past tense\n",
            "265 | NUM | 93 | numeral | CD | cardinal number\n",
            "million | NUM | 93 | numeral | CD | cardinal number\n",
            "$ | NUM | 93 | numeral | CD | cardinal number\n",
            "on | ADP | 85 | adposition | IN | conjunction, subordinating or preposition\n",
            "the | DET | 90 | determiner | DT | determiner\n",
            "very | ADV | 86 | adverb | RB | adverb\n",
            "first | ADJ | 84 | adjective | JJ | adjective (English), other noun-modifier (Chinese)\n",
            "day | NOUN | 92 | noun | NN | noun, singular or mass\n"
          ]
        }
      ]
    },
    {
      "cell_type": "markdown",
      "source": [
        "In below sentences Spacy figures out the past vs present tense for quit"
      ],
      "metadata": {
        "id": "zqV-aqK6FUzm"
      }
    },
    {
      "cell_type": "code",
      "source": [
        "doc = nlp(\"He quits the job\")\n",
        "\n",
        "print(doc[1].text, \"|\", doc[1].tag_, \"|\", spacy.explain(doc[1].tag_))"
      ],
      "metadata": {
        "colab": {
          "base_uri": "https://localhost:8080/"
        },
        "id": "EAGLGucEFMRZ",
        "outputId": "8e2f00b5-e664-4cf1-e065-8c71ea4b5052"
      },
      "execution_count": 8,
      "outputs": [
        {
          "output_type": "stream",
          "name": "stdout",
          "text": [
            "quits | VBZ | verb, 3rd person singular present\n"
          ]
        }
      ]
    },
    {
      "cell_type": "code",
      "source": [
        "doc = nlp(\"He quit the job\")\n",
        "\n",
        "print(doc[1].text, \"|\", doc[1].tag_, \"|\", spacy.explain(doc[1].tag_))"
      ],
      "metadata": {
        "colab": {
          "base_uri": "https://localhost:8080/"
        },
        "id": "nu-QvhZ_F3I5",
        "outputId": "82c0128b-b3ee-4674-f2a3-b9b35eedbb9f"
      },
      "execution_count": 9,
      "outputs": [
        {
          "output_type": "stream",
          "name": "stdout",
          "text": [
            "quit | VBD | verb, past tense\n"
          ]
        }
      ]
    },
    {
      "cell_type": "code",
      "source": [
        "earnings_text=\"\"\"Microsoft Corp. today announced the following results for the quarter ended December 31, 2021, as compared to the corresponding period of last fiscal year:\n",
        "\n",
        "·         Revenue was $51.7 billion and increased 20%\n",
        "·         Operating income was $22.2 billion and increased 24%\n",
        "·         Net income was $18.8 billion and increased 21%\n",
        "·         Diluted earnings per share was $2.48 and increased 22%\n",
        "“Digital technology etc. is the most malleable resource at the world’s disposal to overcome constraints and reimagine everyday work and life,” said Satya Nadella, chairman and chief executive officer of Microsoft. “As tech as a percentage of global GDP continues to increase, we are innovating and investing across diverse and growing markets, with a common underlying technology stack and an operating model that reinforces a common strategy, culture, and sense of purpose.”\n",
        "“Solid commercial execution, represented by strong bookings growth driven by long-term Azure commitments, increased Microsoft Cloud revenue to $22.1 billion, up 32% year over year” said Amy Hood, executive vice president and chief financial officer of Microsoft.\"\"\"\n"
      ],
      "metadata": {
        "id": "3VnruzdXGDAh"
      },
      "execution_count": 10,
      "outputs": []
    },
    {
      "cell_type": "code",
      "source": [
        "doc = nlp(earnings_text)"
      ],
      "metadata": {
        "id": "y5AJPRirHI-T"
      },
      "execution_count": 12,
      "outputs": []
    },
    {
      "cell_type": "markdown",
      "source": [
        "Removing all SPACE, PUNCT and X token from text"
      ],
      "metadata": {
        "id": "5B6_mcvoHdim"
      }
    },
    {
      "cell_type": "code",
      "source": [
        "for token in doc:\n",
        "  print(token, \"|\", token.pos_, \"|\", token.pos, \"|\", spacy.explain(token.pos_))"
      ],
      "metadata": {
        "colab": {
          "base_uri": "https://localhost:8080/"
        },
        "id": "IuMC4iqPHQsS",
        "outputId": "08a9098e-a9f4-48a5-aae9-356ccf13d5f1"
      },
      "execution_count": 13,
      "outputs": [
        {
          "output_type": "stream",
          "name": "stdout",
          "text": [
            "Microsoft | PROPN | 96 | proper noun\n",
            "Corp. | PROPN | 96 | proper noun\n",
            "today | NOUN | 92 | noun\n",
            "announced | VERB | 100 | verb\n",
            "the | DET | 90 | determiner\n",
            "following | VERB | 100 | verb\n",
            "results | NOUN | 92 | noun\n",
            "for | ADP | 85 | adposition\n",
            "the | DET | 90 | determiner\n",
            "quarter | NOUN | 92 | noun\n",
            "ended | VERB | 100 | verb\n",
            "December | PROPN | 96 | proper noun\n",
            "31 | NUM | 93 | numeral\n",
            ", | PUNCT | 97 | punctuation\n",
            "2021 | NUM | 93 | numeral\n",
            ", | PUNCT | 97 | punctuation\n",
            "as | SCONJ | 98 | subordinating conjunction\n",
            "compared | VERB | 100 | verb\n",
            "to | ADP | 85 | adposition\n",
            "the | DET | 90 | determiner\n",
            "corresponding | ADJ | 84 | adjective\n",
            "period | NOUN | 92 | noun\n",
            "of | ADP | 85 | adposition\n",
            "last | ADJ | 84 | adjective\n",
            "fiscal | ADJ | 84 | adjective\n",
            "year | NOUN | 92 | noun\n",
            ": | PUNCT | 97 | punctuation\n",
            "\n",
            "\n",
            " | SPACE | 103 | space\n",
            "· | PUNCT | 97 | punctuation\n",
            "         | SPACE | 103 | space\n",
            "Revenue | NOUN | 92 | noun\n",
            "was | AUX | 87 | auxiliary\n",
            "$ | SYM | 99 | symbol\n",
            "51.7 | NUM | 93 | numeral\n",
            "billion | NUM | 93 | numeral\n",
            "and | CCONJ | 89 | coordinating conjunction\n",
            "increased | VERB | 100 | verb\n",
            "20 | NUM | 93 | numeral\n",
            "% | NOUN | 92 | noun\n",
            "\n",
            " | SPACE | 103 | space\n",
            "· | PUNCT | 97 | punctuation\n",
            "         | SPACE | 103 | space\n",
            "Operating | VERB | 100 | verb\n",
            "income | NOUN | 92 | noun\n",
            "was | AUX | 87 | auxiliary\n",
            "$ | SYM | 99 | symbol\n",
            "22.2 | NUM | 93 | numeral\n",
            "billion | NUM | 93 | numeral\n",
            "and | CCONJ | 89 | coordinating conjunction\n",
            "increased | VERB | 100 | verb\n",
            "24 | NUM | 93 | numeral\n",
            "% | NOUN | 92 | noun\n",
            "\n",
            " | SPACE | 103 | space\n",
            "· | PUNCT | 97 | punctuation\n",
            "         | SPACE | 103 | space\n",
            "Net | ADJ | 84 | adjective\n",
            "income | NOUN | 92 | noun\n",
            "was | AUX | 87 | auxiliary\n",
            "$ | SYM | 99 | symbol\n",
            "18.8 | NUM | 93 | numeral\n",
            "billion | NUM | 93 | numeral\n",
            "and | CCONJ | 89 | coordinating conjunction\n",
            "increased | VERB | 100 | verb\n",
            "21 | NUM | 93 | numeral\n",
            "% | NOUN | 92 | noun\n",
            "\n",
            " | SPACE | 103 | space\n",
            "· | PUNCT | 97 | punctuation\n",
            "         | SPACE | 103 | space\n",
            "Diluted | ADJ | 84 | adjective\n",
            "earnings | NOUN | 92 | noun\n",
            "per | ADP | 85 | adposition\n",
            "share | NOUN | 92 | noun\n",
            "was | AUX | 87 | auxiliary\n",
            "$ | SYM | 99 | symbol\n",
            "2.48 | NUM | 93 | numeral\n",
            "and | CCONJ | 89 | coordinating conjunction\n",
            "increased | VERB | 100 | verb\n",
            "22 | NUM | 93 | numeral\n",
            "% | NOUN | 92 | noun\n",
            "\n",
            " | SPACE | 103 | space\n",
            "“ | PUNCT | 97 | punctuation\n",
            "Digital | PROPN | 96 | proper noun\n",
            "technology | NOUN | 92 | noun\n",
            "is | AUX | 87 | auxiliary\n",
            "the | DET | 90 | determiner\n",
            "most | ADV | 86 | adverb\n",
            "malleable | ADJ | 84 | adjective\n",
            "resource | NOUN | 92 | noun\n",
            "at | ADP | 85 | adposition\n",
            "the | DET | 90 | determiner\n",
            "world | NOUN | 92 | noun\n",
            "’s | PART | 94 | particle\n",
            "disposal | NOUN | 92 | noun\n",
            "to | PART | 94 | particle\n",
            "overcome | VERB | 100 | verb\n",
            "constraints | NOUN | 92 | noun\n",
            "and | CCONJ | 89 | coordinating conjunction\n",
            "reimagine | VERB | 100 | verb\n",
            "everyday | ADJ | 84 | adjective\n",
            "work | NOUN | 92 | noun\n",
            "and | CCONJ | 89 | coordinating conjunction\n",
            "life | NOUN | 92 | noun\n",
            ", | PUNCT | 97 | punctuation\n",
            "” | PUNCT | 97 | punctuation\n",
            "said | VERB | 100 | verb\n",
            "Satya | PROPN | 96 | proper noun\n",
            "Nadella | PROPN | 96 | proper noun\n",
            ", | PUNCT | 97 | punctuation\n",
            "chairman | NOUN | 92 | noun\n",
            "and | CCONJ | 89 | coordinating conjunction\n",
            "chief | ADJ | 84 | adjective\n",
            "executive | ADJ | 84 | adjective\n",
            "officer | NOUN | 92 | noun\n",
            "of | ADP | 85 | adposition\n",
            "Microsoft | PROPN | 96 | proper noun\n",
            ". | PUNCT | 97 | punctuation\n",
            "“ | PUNCT | 97 | punctuation\n",
            "As | ADP | 85 | adposition\n",
            "tech | NOUN | 92 | noun\n",
            "as | ADP | 85 | adposition\n",
            "a | DET | 90 | determiner\n",
            "percentage | NOUN | 92 | noun\n",
            "of | ADP | 85 | adposition\n",
            "global | ADJ | 84 | adjective\n",
            "GDP | PROPN | 96 | proper noun\n",
            "continues | VERB | 100 | verb\n",
            "to | PART | 94 | particle\n",
            "increase | VERB | 100 | verb\n",
            ", | PUNCT | 97 | punctuation\n",
            "we | PRON | 95 | pronoun\n",
            "are | AUX | 87 | auxiliary\n",
            "innovating | VERB | 100 | verb\n",
            "and | CCONJ | 89 | coordinating conjunction\n",
            "investing | VERB | 100 | verb\n",
            "across | ADP | 85 | adposition\n",
            "diverse | ADJ | 84 | adjective\n",
            "and | CCONJ | 89 | coordinating conjunction\n",
            "growing | VERB | 100 | verb\n",
            "markets | NOUN | 92 | noun\n",
            ", | PUNCT | 97 | punctuation\n",
            "with | ADP | 85 | adposition\n",
            "a | DET | 90 | determiner\n",
            "common | ADJ | 84 | adjective\n",
            "underlying | VERB | 100 | verb\n",
            "technology | NOUN | 92 | noun\n",
            "stack | NOUN | 92 | noun\n",
            "and | CCONJ | 89 | coordinating conjunction\n",
            "an | DET | 90 | determiner\n",
            "operating | VERB | 100 | verb\n",
            "model | NOUN | 92 | noun\n",
            "that | PRON | 95 | pronoun\n",
            "reinforces | VERB | 100 | verb\n",
            "a | DET | 90 | determiner\n",
            "common | ADJ | 84 | adjective\n",
            "strategy | NOUN | 92 | noun\n",
            ", | PUNCT | 97 | punctuation\n",
            "culture | NOUN | 92 | noun\n",
            ", | PUNCT | 97 | punctuation\n",
            "and | CCONJ | 89 | coordinating conjunction\n",
            "sense | NOUN | 92 | noun\n",
            "of | ADP | 85 | adposition\n",
            "purpose | NOUN | 92 | noun\n",
            ". | PUNCT | 97 | punctuation\n",
            "” | PUNCT | 97 | punctuation\n",
            "\n",
            " | SPACE | 103 | space\n",
            "“ | PUNCT | 97 | punctuation\n",
            "Solid | ADJ | 84 | adjective\n",
            "commercial | ADJ | 84 | adjective\n",
            "execution | NOUN | 92 | noun\n",
            ", | PUNCT | 97 | punctuation\n",
            "represented | VERB | 100 | verb\n",
            "by | ADP | 85 | adposition\n",
            "strong | ADJ | 84 | adjective\n",
            "bookings | NOUN | 92 | noun\n",
            "growth | NOUN | 92 | noun\n",
            "driven | VERB | 100 | verb\n",
            "by | ADP | 85 | adposition\n",
            "long | ADJ | 84 | adjective\n",
            "- | PUNCT | 97 | punctuation\n",
            "term | NOUN | 92 | noun\n",
            "Azure | PROPN | 96 | proper noun\n",
            "commitments | NOUN | 92 | noun\n",
            ", | PUNCT | 97 | punctuation\n",
            "increased | VERB | 100 | verb\n",
            "Microsoft | PROPN | 96 | proper noun\n",
            "Cloud | PROPN | 96 | proper noun\n",
            "revenue | NOUN | 92 | noun\n",
            "to | ADP | 85 | adposition\n",
            "$ | SYM | 99 | symbol\n",
            "22.1 | NUM | 93 | numeral\n",
            "billion | NUM | 93 | numeral\n",
            ", | PUNCT | 97 | punctuation\n",
            "up | ADV | 86 | adverb\n",
            "32 | NUM | 93 | numeral\n",
            "% | NOUN | 92 | noun\n",
            "year | NOUN | 92 | noun\n",
            "over | ADP | 85 | adposition\n",
            "year | NOUN | 92 | noun\n",
            "” | PUNCT | 97 | punctuation\n",
            "said | VERB | 100 | verb\n",
            "Amy | PROPN | 96 | proper noun\n",
            "Hood | PROPN | 96 | proper noun\n",
            ", | PUNCT | 97 | punctuation\n",
            "executive | ADJ | 84 | adjective\n",
            "vice | NOUN | 92 | noun\n",
            "president | NOUN | 92 | noun\n",
            "and | CCONJ | 89 | coordinating conjunction\n",
            "chief | ADJ | 84 | adjective\n",
            "financial | ADJ | 84 | adjective\n",
            "officer | NOUN | 92 | noun\n",
            "of | ADP | 85 | adposition\n",
            "Microsoft | PROPN | 96 | proper noun\n",
            ". | PUNCT | 97 | punctuation\n"
          ]
        }
      ]
    },
    {
      "cell_type": "markdown",
      "source": [
        "removing...."
      ],
      "metadata": {
        "id": "rj3T6WdYH8YF"
      }
    },
    {
      "cell_type": "code",
      "source": [
        "filtered_tokens = []\n",
        "\n",
        "for token in doc:\n",
        "  if token.pos_ not in [\"SPACE\", \"X\", \"PUNCT\"]:\n",
        "    filtered_tokens.append(token)\n",
        "\n",
        "filtered_tokens[:20]"
      ],
      "metadata": {
        "colab": {
          "base_uri": "https://localhost:8080/"
        },
        "id": "kXLpQX0GHpJx",
        "outputId": "658fd4e1-7b45-4403-ab29-48fae87f42a4"
      },
      "execution_count": 17,
      "outputs": [
        {
          "output_type": "execute_result",
          "data": {
            "text/plain": [
              "[Microsoft,\n",
              " Corp.,\n",
              " today,\n",
              " announced,\n",
              " the,\n",
              " following,\n",
              " results,\n",
              " for,\n",
              " the,\n",
              " quarter,\n",
              " ended,\n",
              " December,\n",
              " 31,\n",
              " 2021,\n",
              " as,\n",
              " compared,\n",
              " to,\n",
              " the,\n",
              " corresponding,\n",
              " period]"
            ]
          },
          "metadata": {},
          "execution_count": 17
        }
      ]
    },
    {
      "cell_type": "markdown",
      "source": [
        "find count  using count_by"
      ],
      "metadata": {
        "id": "QfxBH5V4JMj7"
      }
    },
    {
      "cell_type": "code",
      "source": [
        "count = doc.count_by(spacy.attrs.POS)\n",
        "count"
      ],
      "metadata": {
        "colab": {
          "base_uri": "https://localhost:8080/"
        },
        "id": "g4F7qyrKITS5",
        "outputId": "412430ee-fd13-4510-9517-040da9f04282"
      },
      "execution_count": 18,
      "outputs": [
        {
          "output_type": "execute_result",
          "data": {
            "text/plain": [
              "{84: 20,\n",
              " 85: 17,\n",
              " 86: 2,\n",
              " 87: 6,\n",
              " 89: 12,\n",
              " 90: 9,\n",
              " 92: 45,\n",
              " 93: 16,\n",
              " 94: 3,\n",
              " 95: 2,\n",
              " 96: 14,\n",
              " 97: 27,\n",
              " 98: 1,\n",
              " 99: 5,\n",
              " 100: 24,\n",
              " 103: 10}"
            ]
          },
          "metadata": {},
          "execution_count": 18
        }
      ]
    },
    {
      "cell_type": "code",
      "source": [
        "# what is 96\n",
        "doc.vocab[96].text"
      ],
      "metadata": {
        "colab": {
          "base_uri": "https://localhost:8080/",
          "height": 35
        },
        "id": "6_FXYO_UJhMO",
        "outputId": "a9a677b4-e7ff-4279-e429-4ee3b546554f"
      },
      "execution_count": 19,
      "outputs": [
        {
          "output_type": "execute_result",
          "data": {
            "text/plain": [
              "'PROPN'"
            ],
            "application/vnd.google.colaboratory.intrinsic+json": {
              "type": "string"
            }
          },
          "metadata": {},
          "execution_count": 19
        }
      ]
    },
    {
      "cell_type": "markdown",
      "source": [
        "there are 13 proper nouns"
      ],
      "metadata": {
        "id": "mrN41xmzJsL9"
      }
    },
    {
      "cell_type": "code",
      "source": [
        "for k, v in count.items():\n",
        "  print(doc.vocab[k].text, \"|\", v)\n",
        "\n"
      ],
      "metadata": {
        "colab": {
          "base_uri": "https://localhost:8080/"
        },
        "id": "GSurjiB3Jqhe",
        "outputId": "f0432510-cce8-4e36-a922-6876d4aaa588"
      },
      "execution_count": 22,
      "outputs": [
        {
          "output_type": "stream",
          "name": "stdout",
          "text": [
            "PROPN | 14\n",
            "NOUN | 45\n",
            "VERB | 24\n",
            "DET | 9\n",
            "ADP | 17\n",
            "NUM | 16\n",
            "PUNCT | 27\n",
            "SCONJ | 1\n",
            "ADJ | 20\n",
            "SPACE | 10\n",
            "AUX | 6\n",
            "SYM | 5\n",
            "CCONJ | 12\n",
            "ADV | 2\n",
            "PART | 3\n",
            "PRON | 2\n"
          ]
        }
      ]
    },
    {
      "cell_type": "code",
      "source": [
        ""
      ],
      "metadata": {
        "id": "6gWod2vkJ_Nu"
      },
      "execution_count": null,
      "outputs": []
    }
  ]
}