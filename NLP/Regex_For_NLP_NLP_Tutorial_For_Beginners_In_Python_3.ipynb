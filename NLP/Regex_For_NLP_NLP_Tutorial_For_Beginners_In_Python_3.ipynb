{
  "cells": [
    {
      "cell_type": "markdown",
      "metadata": {
        "id": "dpfrzjKtdkd5"
      },
      "source": [
        " NLP problems are solved either using heuristics/rule based approach or using machine learning. Regex offers a powerful rule based approach where you extract patterns from your text to extract useful information for a given NLP task.\n",
        " \n",
        "(1) a customer service chatbot \n",
        "\n",
        "(2) Information extraction and show you how regular expressions can help solve some of the simple tasks."
      ]
    },
    {
      "cell_type": "code",
      "execution_count": 1,
      "metadata": {
        "id": "H4gQKyoCdwk3"
      },
      "outputs": [],
      "source": [
        "import re"
      ]
    },
    {
      "cell_type": "code",
      "execution_count": 2,
      "metadata": {
        "id": "vDF7rMseZTtc"
      },
      "outputs": [],
      "source": [
        "#create a function\n",
        "def get_match(pattern, text):\n",
        "  matches = re.findall(pattern, text)\n",
        "  if matches:\n",
        "    return matches[0]"
      ]
    },
    {
      "cell_type": "markdown",
      "metadata": {
        "id": "EBcJXBWXpP6y"
      },
      "source": [
        "# Retrieving email and phone numbers"
      ]
    },
    {
      "cell_type": "markdown",
      "metadata": {
        "id": "0QH1ABa3cHGJ"
      },
      "source": [
        "get phone numbers"
      ]
    },
    {
      "cell_type": "code",
      "execution_count": 3,
      "metadata": {
        "id": "FaaZadm4g2GI"
      },
      "outputs": [],
      "source": [
        "chat1 = 'codebasics: you ask lot of questions 😠  1235678912, abcA@xyz.com'\n",
        "chat2 = 'codebasics: here it is: (123)-567-8912, abX_82@xyz.com'\n",
        "chat3 = 'codebasics: yes, phone: 1235678912 email: abc@xyz.io'\n"
      ]
    },
    {
      "cell_type": "code",
      "execution_count": 4,
      "metadata": {
        "colab": {
          "base_uri": "https://localhost:8080/"
        },
        "id": "csnKOCpaoO69",
        "outputId": "b9a6e59e-909f-460b-80a9-aa4c1e7a38f3"
      },
      "outputs": [
        {
          "data": {
            "text/plain": [
              "['1235678912']"
            ]
          },
          "execution_count": 4,
          "metadata": {},
          "output_type": "execute_result"
        }
      ],
      "source": [
        "pattern = '\\d{10}'\n",
        "\n",
        "matches = re.findall(pattern, chat1)\n",
        "matches"
      ]
    },
    {
      "cell_type": "code",
      "execution_count": 5,
      "metadata": {
        "colab": {
          "base_uri": "https://localhost:8080/"
        },
        "id": "Iu62oYoZoy3a",
        "outputId": "fd442aa2-2cfa-4541-895f-ec212724894e"
      },
      "outputs": [
        {
          "data": {
            "text/plain": [
              "['1235678912']"
            ]
          },
          "execution_count": 5,
          "metadata": {},
          "output_type": "execute_result"
        }
      ],
      "source": [
        "pattern = '\\d{10}|\\(\\d{3}\\)-\\d{3}-\\d{4}'\n",
        "\n",
        "matches = re.findall(pattern, chat1)\n",
        "matches"
      ]
    },
    {
      "cell_type": "code",
      "execution_count": 6,
      "metadata": {
        "colab": {
          "base_uri": "https://localhost:8080/"
        },
        "id": "0cIZVQQOUiMH",
        "outputId": "9e65f424-0eeb-40b4-c6e8-2d077ed8c232"
      },
      "outputs": [
        {
          "data": {
            "text/plain": [
              "['(123)-567-8912']"
            ]
          },
          "execution_count": 6,
          "metadata": {},
          "output_type": "execute_result"
        }
      ],
      "source": [
        "pattern = '\\d{10}|\\(\\d{3}\\)-\\d{3}-\\d{4}'\n",
        "\n",
        "matches = re.findall(pattern, chat2)\n",
        "matches"
      ]
    },
    {
      "cell_type": "code",
      "execution_count": 7,
      "metadata": {
        "colab": {
          "base_uri": "https://localhost:8080/"
        },
        "id": "yvc3I0LtUn2V",
        "outputId": "6f18c51c-4632-4ffd-ba6e-fe17503757b0"
      },
      "outputs": [
        {
          "data": {
            "text/plain": [
              "['1235678912']"
            ]
          },
          "execution_count": 7,
          "metadata": {},
          "output_type": "execute_result"
        }
      ],
      "source": [
        "pattern = '\\d{10}|\\(\\d{3}\\)-\\d{3}-\\d{4}'\n",
        "\n",
        "matches = re.findall(pattern, chat3)\n",
        "matches"
      ]
    },
    {
      "cell_type": "code",
      "execution_count": 8,
      "metadata": {
        "colab": {
          "base_uri": "https://localhost:8080/",
          "height": 35
        },
        "id": "1s_fzX5cZsTl",
        "outputId": "354397fd-7a34-4441-9360-305a623dcc16"
      },
      "outputs": [
        {
          "data": {
            "text/plain": [
              "'1235678912'"
            ]
          },
          "execution_count": 8,
          "metadata": {},
          "output_type": "execute_result"
        }
      ],
      "source": [
        "get_match('\\d{10}|\\(\\d{3}\\)-\\d{3}-\\d{4}', chat1)"
      ]
    },
    {
      "cell_type": "code",
      "execution_count": 9,
      "metadata": {
        "colab": {
          "base_uri": "https://localhost:8080/",
          "height": 35
        },
        "id": "Mxlf6xx6aG2T",
        "outputId": "cf291ce5-514c-4737-c430-8db74256ca72"
      },
      "outputs": [
        {
          "data": {
            "text/plain": [
              "'(123)-567-8912'"
            ]
          },
          "execution_count": 9,
          "metadata": {},
          "output_type": "execute_result"
        }
      ],
      "source": [
        "get_match('\\d{10}|\\(\\d{3}\\)-\\d{3}-\\d{4}', chat2)"
      ]
    },
    {
      "cell_type": "code",
      "execution_count": 10,
      "metadata": {
        "colab": {
          "base_uri": "https://localhost:8080/",
          "height": 35
        },
        "id": "dyWsFjzNaKB4",
        "outputId": "0b020b98-00a0-43b0-91d6-9fab46352239"
      },
      "outputs": [
        {
          "data": {
            "text/plain": [
              "'1235678912'"
            ]
          },
          "execution_count": 10,
          "metadata": {},
          "output_type": "execute_result"
        }
      ],
      "source": [
        "get_match('\\d{10}|\\(\\d{3}\\)-\\d{3}-\\d{4}', chat3)"
      ]
    },
    {
      "cell_type": "markdown",
      "metadata": {
        "id": "sy6uX5hkYlAT"
      },
      "source": [
        "match email\n"
      ]
    },
    {
      "cell_type": "code",
      "execution_count": 11,
      "metadata": {
        "colab": {
          "base_uri": "https://localhost:8080/"
        },
        "id": "Y1KW2f7XUqRT",
        "outputId": "84bc2fb6-d63e-47e1-9e1a-304162d6bdae"
      },
      "outputs": [
        {
          "data": {
            "text/plain": [
              "['abc@xyz.io']"
            ]
          },
          "execution_count": 11,
          "metadata": {},
          "output_type": "execute_result"
        }
      ],
      "source": [
        "pattern = '[a-z0-9A-Z_]*@[a-z0-9A-Z]*\\.[A-Za-z]*'\n",
        "\n",
        "matches = re.findall(pattern, chat3)\n",
        "matches"
      ]
    },
    {
      "cell_type": "code",
      "execution_count": 12,
      "metadata": {
        "colab": {
          "base_uri": "https://localhost:8080/",
          "height": 35
        },
        "id": "IBXANuTHYwE7",
        "outputId": "e26b5045-b616-4b6e-daa6-a2669f80e278"
      },
      "outputs": [
        {
          "data": {
            "text/plain": [
              "'abc@xyz.io'"
            ]
          },
          "execution_count": 12,
          "metadata": {},
          "output_type": "execute_result"
        }
      ],
      "source": [
        "email = matches[0]\n",
        "email"
      ]
    },
    {
      "cell_type": "code",
      "execution_count": 13,
      "metadata": {
        "colab": {
          "base_uri": "https://localhost:8080/",
          "height": 35
        },
        "id": "JhJ4gNcfZGf6",
        "outputId": "3bdaf5ff-2e3c-44e4-9fb5-8039f0d530fc"
      },
      "outputs": [
        {
          "data": {
            "text/plain": [
              "'abcA@xyz.com'"
            ]
          },
          "execution_count": 13,
          "metadata": {},
          "output_type": "execute_result"
        }
      ],
      "source": [
        "get_match('[a-z0-9A-Z_]*@[a-z0-9A-Z]*\\.[A-Za-z]*', chat1)"
      ]
    },
    {
      "cell_type": "code",
      "execution_count": 14,
      "metadata": {
        "colab": {
          "base_uri": "https://localhost:8080/",
          "height": 35
        },
        "id": "_wmy8zVuaOU7",
        "outputId": "1edc1f69-ade5-42d0-9030-a5b33d5818f0"
      },
      "outputs": [
        {
          "data": {
            "text/plain": [
              "'abX_82@xyz.com'"
            ]
          },
          "execution_count": 14,
          "metadata": {},
          "output_type": "execute_result"
        }
      ],
      "source": [
        "get_match('[a-z0-9A-Z_]*@[a-z0-9A-Z]*\\.[A-Za-z]*', chat2)"
      ]
    },
    {
      "cell_type": "code",
      "execution_count": 15,
      "metadata": {
        "colab": {
          "base_uri": "https://localhost:8080/",
          "height": 35
        },
        "id": "qgwCsP5JaQvj",
        "outputId": "e97024dd-feac-49c8-f2a4-94b79a3d01c6"
      },
      "outputs": [
        {
          "data": {
            "text/plain": [
              "'abc@xyz.io'"
            ]
          },
          "execution_count": 15,
          "metadata": {},
          "output_type": "execute_result"
        }
      ],
      "source": [
        "get_match('[a-z0-9A-Z_]*@[a-z0-9A-Z]*\\.[A-Za-z]*', chat3)"
      ]
    },
    {
      "cell_type": "markdown",
      "metadata": {
        "id": "Qy4y-KxPcJ-P"
      },
      "source": [
        "# Retrieve order number"
      ]
    },
    {
      "cell_type": "code",
      "execution_count": 16,
      "metadata": {
        "id": "vA8kAoYZaSXM"
      },
      "outputs": [],
      "source": [
        "chat1='codebasics: Hello, I am having an issue with my order # 412889912'\n",
        "chat2='codebasics: I have a problem with my order number is this one 412889912'\n",
        "chat3='codebasics: My order 412889912 is having an issue, I was charged 300$ when online it says 280$'"
      ]
    },
    {
      "cell_type": "code",
      "execution_count": 17,
      "metadata": {
        "colab": {
          "base_uri": "https://localhost:8080/",
          "height": 35
        },
        "id": "Uzmlk_w_cgW-",
        "outputId": "433118e1-321a-4a6d-a4dc-db8749680acf"
      },
      "outputs": [
        {
          "data": {
            "text/plain": [
              "'412889912'"
            ]
          },
          "execution_count": 17,
          "metadata": {},
          "output_type": "execute_result"
        }
      ],
      "source": [
        "pattern = 'order[^\\d]*(\\d*)'\n",
        "\n",
        "matches = re.findall(pattern, chat2)\n",
        "matches[0]"
      ]
    },
    {
      "cell_type": "code",
      "execution_count": 18,
      "metadata": {
        "colab": {
          "base_uri": "https://localhost:8080/",
          "height": 35
        },
        "id": "fqjXdHePd2sO",
        "outputId": "7c4b7d0d-6cbf-43c3-b858-7e9183ffa834"
      },
      "outputs": [
        {
          "data": {
            "text/plain": [
              "'412889912'"
            ]
          },
          "execution_count": 18,
          "metadata": {},
          "output_type": "execute_result"
        }
      ],
      "source": [
        "get_match('order[^\\d]*(\\d*)', chat1)"
      ]
    },
    {
      "cell_type": "code",
      "execution_count": 19,
      "metadata": {
        "colab": {
          "base_uri": "https://localhost:8080/",
          "height": 35
        },
        "id": "tXjrgZaieWmk",
        "outputId": "afaec6f7-64be-45e2-caa0-21ad4d97a960"
      },
      "outputs": [
        {
          "data": {
            "text/plain": [
              "'412889912'"
            ]
          },
          "execution_count": 19,
          "metadata": {},
          "output_type": "execute_result"
        }
      ],
      "source": [
        "get_match('order[^\\d]*(\\d*)', chat2)"
      ]
    },
    {
      "cell_type": "code",
      "execution_count": 20,
      "metadata": {
        "colab": {
          "base_uri": "https://localhost:8080/",
          "height": 35
        },
        "id": "BslgDsNmebMU",
        "outputId": "70de0743-f68f-4802-d52c-1c951b6c3cb7"
      },
      "outputs": [
        {
          "data": {
            "text/plain": [
              "'412889912'"
            ]
          },
          "execution_count": 20,
          "metadata": {},
          "output_type": "execute_result"
        }
      ],
      "source": [
        "get_match('order[^\\d]*(\\d*)', chat3)"
      ]
    },
    {
      "cell_type": "markdown",
      "metadata": {
        "id": "mD-P9_eRefNi"
      },
      "source": [
        "# information extraction"
      ]
    },
    {
      "cell_type": "code",
      "execution_count": 21,
      "metadata": {
        "id": "o2Et_WDyecjQ"
      },
      "outputs": [],
      "source": [
        "text='''\n",
        "Born\tElon Reeve Musk\n",
        "June 28, 1971 (age 50)\n",
        "Pretoria, Transvaal, South Africa\n",
        "Citizenship\t\n",
        "South Africa (1971–present)\n",
        "Canada (1971–present)\n",
        "United States (2002–present)\n",
        "Education\tUniversity of Pennsylvania (BS, BA)\n",
        "Title\t\n",
        "Founder, CEO and Chief Engineer of SpaceX\n",
        "CEO and product architect of Tesla, Inc.\n",
        "Founder of The Boring Company and X.com (now part of PayPal)\n",
        "Co-founder of Neuralink, OpenAI, and Zip2\n",
        "Spouse(s)\t\n",
        "Justine Wilson\n",
        "​\n",
        "​(m. 2000; div. 2008)​\n",
        "Talulah Riley\n",
        "​\n",
        "​(m. 2010; div. 2012)​\n",
        "​\n",
        "​(m. 2013; div. 2016)\n",
        "'''"
      ]
    },
    {
      "cell_type": "markdown",
      "metadata": {
        "id": "Zo9s9kvVoel1"
      },
      "source": [
        "# AGE"
      ]
    },
    {
      "cell_type": "code",
      "execution_count": 22,
      "metadata": {
        "colab": {
          "base_uri": "https://localhost:8080/",
          "height": 35
        },
        "id": "AaXeVuQgn58M",
        "outputId": "9270ba9f-89e1-41e3-f896-1bb6fb3f3f0e"
      },
      "outputs": [
        {
          "data": {
            "text/plain": [
              "'50'"
            ]
          },
          "execution_count": 22,
          "metadata": {},
          "output_type": "execute_result"
        }
      ],
      "source": [
        "pattern = 'age (\\d+)'\n",
        "matches = re.findall(pattern, text)\n",
        "matches[0]"
      ]
    },
    {
      "cell_type": "code",
      "execution_count": 23,
      "metadata": {
        "colab": {
          "base_uri": "https://localhost:8080/",
          "height": 35
        },
        "id": "Zt68T5DooJuv",
        "outputId": "3e2eb79f-f8a9-476d-a259-a2643ed762c4"
      },
      "outputs": [
        {
          "data": {
            "text/plain": [
              "'50'"
            ]
          },
          "execution_count": 23,
          "metadata": {},
          "output_type": "execute_result"
        }
      ],
      "source": [
        "get_match('age (\\d+)', text)"
      ]
    },
    {
      "cell_type": "markdown",
      "metadata": {
        "id": "A9w7Z2_hog30"
      },
      "source": [
        "Birth name"
      ]
    },
    {
      "cell_type": "code",
      "execution_count": 24,
      "metadata": {
        "colab": {
          "base_uri": "https://localhost:8080/",
          "height": 35
        },
        "id": "HC5ah0r5oXr_",
        "outputId": "aa6cc40a-8600-4645-90ad-daa68e982bc1"
      },
      "outputs": [
        {
          "data": {
            "text/plain": [
              "'\\tElon Reeve Musk'"
            ]
          },
          "execution_count": 24,
          "metadata": {},
          "output_type": "execute_result"
        }
      ],
      "source": [
        "pattern = 'Born(.*)'\n",
        "matches = re.findall(pattern, text)\n",
        "matches[0]"
      ]
    },
    {
      "cell_type": "code",
      "execution_count": 25,
      "metadata": {
        "colab": {
          "base_uri": "https://localhost:8080/",
          "height": 35
        },
        "id": "rHSlNvWnqw0D",
        "outputId": "8f19fb8b-8f49-4f1b-ddd1-f707a5a7b7b4"
      },
      "outputs": [
        {
          "data": {
            "text/plain": [
              "'Elon Reeve Musk'"
            ]
          },
          "execution_count": 25,
          "metadata": {},
          "output_type": "execute_result"
        }
      ],
      "source": [
        "get_match('Born(.*)', text).strip()\n",
        "\n",
        "# stip() removes white spaces"
      ]
    },
    {
      "cell_type": "markdown",
      "metadata": {
        "id": "uSPaHhUOrNpr"
      },
      "source": [
        "Birth Date"
      ]
    },
    {
      "cell_type": "code",
      "execution_count": 26,
      "metadata": {
        "colab": {
          "base_uri": "https://localhost:8080/",
          "height": 35
        },
        "id": "ph6KbfO8rDZo",
        "outputId": "688d55f1-e269-4551-d23d-31c96fe77563"
      },
      "outputs": [
        {
          "data": {
            "text/plain": [
              "'June 28, 1971 '"
            ]
          },
          "execution_count": 26,
          "metadata": {},
          "output_type": "execute_result"
        }
      ],
      "source": [
        "pattern = 'Born.*\\n(.*)\\(age'\n",
        "matches = re.findall(pattern, text)\n",
        "matches[0]"
      ]
    },
    {
      "cell_type": "code",
      "execution_count": 27,
      "metadata": {
        "colab": {
          "base_uri": "https://localhost:8080/",
          "height": 35
        },
        "id": "2ePYhL-_r3RS",
        "outputId": "aeda5d91-8496-4599-fdf0-ee30a8d836f0"
      },
      "outputs": [
        {
          "data": {
            "text/plain": [
              "'June 28, 1971 '"
            ]
          },
          "execution_count": 27,
          "metadata": {},
          "output_type": "execute_result"
        }
      ],
      "source": [
        "get_match('Born.*\\n(.*)\\(age', text)"
      ]
    },
    {
      "cell_type": "markdown",
      "metadata": {
        "id": "n4o2ACgRsCLK"
      },
      "source": [
        "Birth Place"
      ]
    },
    {
      "cell_type": "code",
      "execution_count": 28,
      "metadata": {
        "colab": {
          "base_uri": "https://localhost:8080/",
          "height": 35
        },
        "id": "Qs4MlKZ-r-2o",
        "outputId": "9915edc0-8dc7-4387-9110-a8314add20e2"
      },
      "outputs": [
        {
          "data": {
            "text/plain": [
              "'Pretoria, Transvaal, South Africa'"
            ]
          },
          "execution_count": 28,
          "metadata": {},
          "output_type": "execute_result"
        }
      ],
      "source": [
        "pattern = '\\(age.*\\n(.*)'\n",
        "matches = re.findall(pattern, text)\n",
        "matches[0].strip()"
      ]
    },
    {
      "cell_type": "code",
      "execution_count": 29,
      "metadata": {
        "colab": {
          "base_uri": "https://localhost:8080/",
          "height": 35
        },
        "id": "Bmjdni_HwZq8",
        "outputId": "81427098-dded-404b-e5a3-c4553a9fc999"
      },
      "outputs": [
        {
          "data": {
            "text/plain": [
              "'Pretoria, Transvaal, South Africa'"
            ]
          },
          "execution_count": 29,
          "metadata": {},
          "output_type": "execute_result"
        }
      ],
      "source": [
        "get_match('\\(age.*\\n(.*)', text)"
      ]
    },
    {
      "cell_type": "markdown",
      "metadata": {
        "id": "JAsLjw-axH_m"
      },
      "source": [
        "function to extract information"
      ]
    },
    {
      "cell_type": "code",
      "execution_count": 30,
      "metadata": {
        "id": "_RsT25Vywfun"
      },
      "outputs": [],
      "source": [
        "def get_infor(text):\n",
        "  age = get_match('age (\\d+)', text)\n",
        "  full_name = get_match('Born(.*)', text)\n",
        "  birth_date = get_match('Born.*\\n(.*)\\(age', text)\n",
        "  birth_place = get_match('\\(age.*\\n(.*)', text)\n",
        "\n",
        "  return{\n",
        "      'age': int(age),\n",
        "      'name': full_name.strip(),\n",
        "      'birth_date': birth_date.strip(),\n",
        "      'birth_place': birth_place.strip()\n",
        "  }"
      ]
    },
    {
      "cell_type": "code",
      "execution_count": 31,
      "metadata": {
        "colab": {
          "base_uri": "https://localhost:8080/"
        },
        "id": "Z1Bd2Y01yex9",
        "outputId": "62a89c81-0bef-42e7-f375-a670e41ce518"
      },
      "outputs": [
        {
          "data": {
            "text/plain": [
              "{'age': 50,\n",
              " 'name': 'Elon Reeve Musk',\n",
              " 'birth_date': 'June 28, 1971',\n",
              " 'birth_place': 'Pretoria, Transvaal, South Africa'}"
            ]
          },
          "execution_count": 31,
          "metadata": {},
          "output_type": "execute_result"
        }
      ],
      "source": [
        "get_infor(text)"
      ]
    },
    {
      "cell_type": "markdown",
      "metadata": {
        "id": "jWv2nsVjy6XU"
      },
      "source": [
        "another example"
      ]
    },
    {
      "cell_type": "code",
      "execution_count": 32,
      "metadata": {
        "id": "Q1yNCdX0ykN2"
      },
      "outputs": [],
      "source": [
        "text = '''\n",
        "Born\tMukesh Dhirubhai Ambani\n",
        "19 April 1957 (age 64)\n",
        "Aden, Colony of Aden\n",
        "(present-day Yemen)[1][2]\n",
        "Nationality\tIndian\n",
        "Alma mater\t\n",
        "St. Xavier's College, Mumbai\n",
        "Institute of Chemical Technology (B.E.)\n",
        "Stanford University (drop-out)\n",
        "Occupation\tChairman and MD, Reliance Industries\n",
        "Spouse(s)\tNita Ambani ​(m. 1985)​[3]\n",
        "Children\t3\n",
        "Parent(s)\t\n",
        "Dhirubhai Ambani (father)\n",
        "Kokilaben Ambani (mother)\n",
        "Relatives\tAnil Ambani (brother)\n",
        "Tina Ambani (sister-in-law)\n",
        "'''"
      ]
    },
    {
      "cell_type": "code",
      "execution_count": 33,
      "metadata": {
        "colab": {
          "base_uri": "https://localhost:8080/"
        },
        "id": "0eWT4SopzA9Y",
        "outputId": "234f764d-819f-49af-ef20-b10057660a58"
      },
      "outputs": [
        {
          "data": {
            "text/plain": [
              "{'age': 64,\n",
              " 'name': 'Mukesh Dhirubhai Ambani',\n",
              " 'birth_date': '19 April 1957',\n",
              " 'birth_place': 'Aden, Colony of Aden'}"
            ]
          },
          "execution_count": 33,
          "metadata": {},
          "output_type": "execute_result"
        }
      ],
      "source": [
        "get_infor(text)"
      ]
    },
    {
      "cell_type": "code",
      "execution_count": null,
      "metadata": {
        "id": "U4hik9QyzDe2"
      },
      "outputs": [],
      "source": []
    }
  ],
  "metadata": {
    "colab": {
      "name": "Regex For NLP: NLP Tutorial For Beginners In Python - 3.ipynb",
      "provenance": []
    },
    "kernelspec": {
      "display_name": "Python 3.9.12 ('base')",
      "language": "python",
      "name": "python3"
    },
    "language_info": {
      "codemirror_mode": {
        "name": "ipython",
        "version": 3
      },
      "file_extension": ".py",
      "mimetype": "text/x-python",
      "name": "python",
      "nbconvert_exporter": "python",
      "pygments_lexer": "ipython3",
      "version": "3.9.12"
    },
    "vscode": {
      "interpreter": {
        "hash": "57bc2b6ce032b5f0e93daa91901b7ea38a856826ef43aa9e95b6d3999f5310df"
      }
    }
  },
  "nbformat": 4,
  "nbformat_minor": 0
}
