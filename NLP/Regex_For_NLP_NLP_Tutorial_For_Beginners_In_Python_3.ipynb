{
  "nbformat": 4,
  "nbformat_minor": 0,
  "metadata": {
    "colab": {
      "name": "Regex For NLP: NLP Tutorial For Beginners In Python - 3.ipynb",
      "provenance": []
    },
    "kernelspec": {
      "name": "python3",
      "display_name": "Python 3"
    },
    "language_info": {
      "name": "python"
    }
  },
  "cells": [
    {
      "cell_type": "markdown",
      "source": [
        " NLP problems are solved either using heuristics/rule based approach or using machine learning. Regex offers a powerful rule based approach where you extract patterns from your text to extract useful information for a given NLP task.\n",
        " \n",
        "(1) a customer service chatbot \n",
        "\n",
        "(2) Information extraction and show you how regular expressions can help solve some of the simple tasks."
      ],
      "metadata": {
        "id": "dpfrzjKtdkd5"
      }
    },
    {
      "cell_type": "code",
      "source": [
        "import re"
      ],
      "metadata": {
        "id": "H4gQKyoCdwk3"
      },
      "execution_count": 1,
      "outputs": []
    },
    {
      "cell_type": "code",
      "source": [
        "#create a function\n",
        "def get_match(pattern, text):\n",
        "  matches = re.findall(pattern, text)\n",
        "  if matches:\n",
        "    return matches[0]"
      ],
      "metadata": {
        "id": "vDF7rMseZTtc"
      },
      "execution_count": 19,
      "outputs": []
    },
    {
      "cell_type": "markdown",
      "source": [
        "# Retrieving email and phone numbers"
      ],
      "metadata": {
        "id": "EBcJXBWXpP6y"
      }
    },
    {
      "cell_type": "markdown",
      "source": [
        "get phone numbers"
      ],
      "metadata": {
        "id": "0QH1ABa3cHGJ"
      }
    },
    {
      "cell_type": "code",
      "source": [
        "chat1 = 'codebasics: you ask lot of questions 😠  1235678912, abcA@xyz.com'\n",
        "chat2 = 'codebasics: here it is: (123)-567-8912, abX_82@xyz.com'\n",
        "chat3 = 'codebasics: yes, phone: 1235678912 email: abc@xyz.io'\n"
      ],
      "metadata": {
        "id": "FaaZadm4g2GI"
      },
      "execution_count": 9,
      "outputs": []
    },
    {
      "cell_type": "code",
      "source": [
        "pattern = '\\d{10}'\n",
        "\n",
        "matches = re.findall(pattern, chat1)\n",
        "matches"
      ],
      "metadata": {
        "colab": {
          "base_uri": "https://localhost:8080/"
        },
        "id": "csnKOCpaoO69",
        "outputId": "b9a6e59e-909f-460b-80a9-aa4c1e7a38f3"
      },
      "execution_count": 10,
      "outputs": [
        {
          "output_type": "execute_result",
          "data": {
            "text/plain": [
              "['1235678912']"
            ]
          },
          "metadata": {},
          "execution_count": 10
        }
      ]
    },
    {
      "cell_type": "code",
      "source": [
        "pattern = '\\d{10}|\\(\\d{3}\\)-\\d{3}-\\d{4}'\n",
        "\n",
        "matches = re.findall(pattern, chat1)\n",
        "matches"
      ],
      "metadata": {
        "id": "Iu62oYoZoy3a",
        "colab": {
          "base_uri": "https://localhost:8080/"
        },
        "outputId": "fd442aa2-2cfa-4541-895f-ec212724894e"
      },
      "execution_count": 11,
      "outputs": [
        {
          "output_type": "execute_result",
          "data": {
            "text/plain": [
              "['1235678912']"
            ]
          },
          "metadata": {},
          "execution_count": 11
        }
      ]
    },
    {
      "cell_type": "code",
      "source": [
        "pattern = '\\d{10}|\\(\\d{3}\\)-\\d{3}-\\d{4}'\n",
        "\n",
        "matches = re.findall(pattern, chat2)\n",
        "matches"
      ],
      "metadata": {
        "colab": {
          "base_uri": "https://localhost:8080/"
        },
        "id": "0cIZVQQOUiMH",
        "outputId": "9e65f424-0eeb-40b4-c6e8-2d077ed8c232"
      },
      "execution_count": 12,
      "outputs": [
        {
          "output_type": "execute_result",
          "data": {
            "text/plain": [
              "['(123)-567-8912']"
            ]
          },
          "metadata": {},
          "execution_count": 12
        }
      ]
    },
    {
      "cell_type": "code",
      "source": [
        "pattern = '\\d{10}|\\(\\d{3}\\)-\\d{3}-\\d{4}'\n",
        "\n",
        "matches = re.findall(pattern, chat3)\n",
        "matches"
      ],
      "metadata": {
        "colab": {
          "base_uri": "https://localhost:8080/"
        },
        "id": "yvc3I0LtUn2V",
        "outputId": "6f18c51c-4632-4ffd-ba6e-fe17503757b0"
      },
      "execution_count": 20,
      "outputs": [
        {
          "output_type": "execute_result",
          "data": {
            "text/plain": [
              "['1235678912']"
            ]
          },
          "metadata": {},
          "execution_count": 20
        }
      ]
    },
    {
      "cell_type": "code",
      "source": [
        "get_match('\\d{10}|\\(\\d{3}\\)-\\d{3}-\\d{4}', chat1)"
      ],
      "metadata": {
        "colab": {
          "base_uri": "https://localhost:8080/",
          "height": 35
        },
        "id": "1s_fzX5cZsTl",
        "outputId": "354397fd-7a34-4441-9360-305a623dcc16"
      },
      "execution_count": 21,
      "outputs": [
        {
          "output_type": "execute_result",
          "data": {
            "text/plain": [
              "'1235678912'"
            ],
            "application/vnd.google.colaboratory.intrinsic+json": {
              "type": "string"
            }
          },
          "metadata": {},
          "execution_count": 21
        }
      ]
    },
    {
      "cell_type": "code",
      "source": [
        "get_match('\\d{10}|\\(\\d{3}\\)-\\d{3}-\\d{4}', chat2)"
      ],
      "metadata": {
        "colab": {
          "base_uri": "https://localhost:8080/",
          "height": 35
        },
        "id": "Mxlf6xx6aG2T",
        "outputId": "cf291ce5-514c-4737-c430-8db74256ca72"
      },
      "execution_count": 24,
      "outputs": [
        {
          "output_type": "execute_result",
          "data": {
            "text/plain": [
              "'(123)-567-8912'"
            ],
            "application/vnd.google.colaboratory.intrinsic+json": {
              "type": "string"
            }
          },
          "metadata": {},
          "execution_count": 24
        }
      ]
    },
    {
      "cell_type": "code",
      "source": [
        "get_match('\\d{10}|\\(\\d{3}\\)-\\d{3}-\\d{4}', chat3)"
      ],
      "metadata": {
        "colab": {
          "base_uri": "https://localhost:8080/",
          "height": 35
        },
        "id": "dyWsFjzNaKB4",
        "outputId": "0b020b98-00a0-43b0-91d6-9fab46352239"
      },
      "execution_count": 25,
      "outputs": [
        {
          "output_type": "execute_result",
          "data": {
            "text/plain": [
              "'1235678912'"
            ],
            "application/vnd.google.colaboratory.intrinsic+json": {
              "type": "string"
            }
          },
          "metadata": {},
          "execution_count": 25
        }
      ]
    },
    {
      "cell_type": "markdown",
      "source": [
        "match email\n"
      ],
      "metadata": {
        "id": "sy6uX5hkYlAT"
      }
    },
    {
      "cell_type": "code",
      "source": [
        "pattern = '[a-z0-9A-Z_]*@[a-z0-9A-Z]*\\.[A-Za-z]*'\n",
        "\n",
        "matches = re.findall(pattern, chat3)\n",
        "matches"
      ],
      "metadata": {
        "colab": {
          "base_uri": "https://localhost:8080/"
        },
        "id": "Y1KW2f7XUqRT",
        "outputId": "84bc2fb6-d63e-47e1-9e1a-304162d6bdae"
      },
      "execution_count": 22,
      "outputs": [
        {
          "output_type": "execute_result",
          "data": {
            "text/plain": [
              "['abc@xyz.io']"
            ]
          },
          "metadata": {},
          "execution_count": 22
        }
      ]
    },
    {
      "cell_type": "code",
      "source": [
        "email = matches[0]\n",
        "email"
      ],
      "metadata": {
        "colab": {
          "base_uri": "https://localhost:8080/",
          "height": 35
        },
        "id": "IBXANuTHYwE7",
        "outputId": "e26b5045-b616-4b6e-daa6-a2669f80e278"
      },
      "execution_count": 23,
      "outputs": [
        {
          "output_type": "execute_result",
          "data": {
            "text/plain": [
              "'abc@xyz.io'"
            ],
            "application/vnd.google.colaboratory.intrinsic+json": {
              "type": "string"
            }
          },
          "metadata": {},
          "execution_count": 23
        }
      ]
    },
    {
      "cell_type": "code",
      "source": [
        "get_match('[a-z0-9A-Z_]*@[a-z0-9A-Z]*\\.[A-Za-z]*', chat1)"
      ],
      "metadata": {
        "colab": {
          "base_uri": "https://localhost:8080/",
          "height": 35
        },
        "id": "JhJ4gNcfZGf6",
        "outputId": "3bdaf5ff-2e3c-44e4-9fb5-8039f0d530fc"
      },
      "execution_count": 26,
      "outputs": [
        {
          "output_type": "execute_result",
          "data": {
            "text/plain": [
              "'abcA@xyz.com'"
            ],
            "application/vnd.google.colaboratory.intrinsic+json": {
              "type": "string"
            }
          },
          "metadata": {},
          "execution_count": 26
        }
      ]
    },
    {
      "cell_type": "code",
      "source": [
        "get_match('[a-z0-9A-Z_]*@[a-z0-9A-Z]*\\.[A-Za-z]*', chat2)"
      ],
      "metadata": {
        "colab": {
          "base_uri": "https://localhost:8080/",
          "height": 35
        },
        "id": "_wmy8zVuaOU7",
        "outputId": "1edc1f69-ade5-42d0-9030-a5b33d5818f0"
      },
      "execution_count": 27,
      "outputs": [
        {
          "output_type": "execute_result",
          "data": {
            "text/plain": [
              "'abX_82@xyz.com'"
            ],
            "application/vnd.google.colaboratory.intrinsic+json": {
              "type": "string"
            }
          },
          "metadata": {},
          "execution_count": 27
        }
      ]
    },
    {
      "cell_type": "code",
      "source": [
        "get_match('[a-z0-9A-Z_]*@[a-z0-9A-Z]*\\.[A-Za-z]*', chat3)"
      ],
      "metadata": {
        "colab": {
          "base_uri": "https://localhost:8080/",
          "height": 35
        },
        "id": "qgwCsP5JaQvj",
        "outputId": "e97024dd-feac-49c8-f2a4-94b79a3d01c6"
      },
      "execution_count": 28,
      "outputs": [
        {
          "output_type": "execute_result",
          "data": {
            "text/plain": [
              "'abc@xyz.io'"
            ],
            "application/vnd.google.colaboratory.intrinsic+json": {
              "type": "string"
            }
          },
          "metadata": {},
          "execution_count": 28
        }
      ]
    },
    {
      "cell_type": "markdown",
      "source": [
        "# Retrieve order number"
      ],
      "metadata": {
        "id": "Qy4y-KxPcJ-P"
      }
    },
    {
      "cell_type": "code",
      "source": [
        "chat1='codebasics: Hello, I am having an issue with my order # 412889912'\n",
        "chat2='codebasics: I have a problem with my order number is this one 412889912'\n",
        "chat3='codebasics: My order 412889912 is having an issue, I was charged 300$ when online it says 280$'"
      ],
      "metadata": {
        "id": "vA8kAoYZaSXM"
      },
      "execution_count": 33,
      "outputs": []
    },
    {
      "cell_type": "code",
      "source": [
        "pattern = 'order[^\\d]*(\\d*)'\n",
        "\n",
        "matches = re.findall(pattern, chat2)\n",
        "matches[0]"
      ],
      "metadata": {
        "colab": {
          "base_uri": "https://localhost:8080/",
          "height": 35
        },
        "id": "Uzmlk_w_cgW-",
        "outputId": "433118e1-321a-4a6d-a4dc-db8749680acf"
      },
      "execution_count": 34,
      "outputs": [
        {
          "output_type": "execute_result",
          "data": {
            "text/plain": [
              "'412889912'"
            ],
            "application/vnd.google.colaboratory.intrinsic+json": {
              "type": "string"
            }
          },
          "metadata": {},
          "execution_count": 34
        }
      ]
    },
    {
      "cell_type": "code",
      "source": [
        "get_match('order[^\\d]*(\\d*)', chat1)"
      ],
      "metadata": {
        "colab": {
          "base_uri": "https://localhost:8080/",
          "height": 35
        },
        "id": "fqjXdHePd2sO",
        "outputId": "7c4b7d0d-6cbf-43c3-b858-7e9183ffa834"
      },
      "execution_count": 35,
      "outputs": [
        {
          "output_type": "execute_result",
          "data": {
            "text/plain": [
              "'412889912'"
            ],
            "application/vnd.google.colaboratory.intrinsic+json": {
              "type": "string"
            }
          },
          "metadata": {},
          "execution_count": 35
        }
      ]
    },
    {
      "cell_type": "code",
      "source": [
        "get_match('order[^\\d]*(\\d*)', chat2)"
      ],
      "metadata": {
        "colab": {
          "base_uri": "https://localhost:8080/",
          "height": 35
        },
        "id": "tXjrgZaieWmk",
        "outputId": "afaec6f7-64be-45e2-caa0-21ad4d97a960"
      },
      "execution_count": 36,
      "outputs": [
        {
          "output_type": "execute_result",
          "data": {
            "text/plain": [
              "'412889912'"
            ],
            "application/vnd.google.colaboratory.intrinsic+json": {
              "type": "string"
            }
          },
          "metadata": {},
          "execution_count": 36
        }
      ]
    },
    {
      "cell_type": "code",
      "source": [
        "get_match('order[^\\d]*(\\d*)', chat3)"
      ],
      "metadata": {
        "colab": {
          "base_uri": "https://localhost:8080/",
          "height": 35
        },
        "id": "BslgDsNmebMU",
        "outputId": "70de0743-f68f-4802-d52c-1c951b6c3cb7"
      },
      "execution_count": 37,
      "outputs": [
        {
          "output_type": "execute_result",
          "data": {
            "text/plain": [
              "'412889912'"
            ],
            "application/vnd.google.colaboratory.intrinsic+json": {
              "type": "string"
            }
          },
          "metadata": {},
          "execution_count": 37
        }
      ]
    },
    {
      "cell_type": "markdown",
      "source": [
        "# information extraction"
      ],
      "metadata": {
        "id": "mD-P9_eRefNi"
      }
    },
    {
      "cell_type": "code",
      "source": [
        "text='''\n",
        "Born\tElon Reeve Musk\n",
        "June 28, 1971 (age 50)\n",
        "Pretoria, Transvaal, South Africa\n",
        "Citizenship\t\n",
        "South Africa (1971–present)\n",
        "Canada (1971–present)\n",
        "United States (2002–present)\n",
        "Education\tUniversity of Pennsylvania (BS, BA)\n",
        "Title\t\n",
        "Founder, CEO and Chief Engineer of SpaceX\n",
        "CEO and product architect of Tesla, Inc.\n",
        "Founder of The Boring Company and X.com (now part of PayPal)\n",
        "Co-founder of Neuralink, OpenAI, and Zip2\n",
        "Spouse(s)\t\n",
        "Justine Wilson\n",
        "​\n",
        "​(m. 2000; div. 2008)​\n",
        "Talulah Riley\n",
        "​\n",
        "​(m. 2010; div. 2012)​\n",
        "​\n",
        "​(m. 2013; div. 2016)\n",
        "'''"
      ],
      "metadata": {
        "id": "o2Et_WDyecjQ"
      },
      "execution_count": 38,
      "outputs": []
    },
    {
      "cell_type": "markdown",
      "source": [
        "# AGE"
      ],
      "metadata": {
        "id": "Zo9s9kvVoel1"
      }
    },
    {
      "cell_type": "code",
      "source": [
        "pattern = 'age (\\d+)'\n",
        "matches = re.findall(pattern, text)\n",
        "matches[0]"
      ],
      "metadata": {
        "colab": {
          "base_uri": "https://localhost:8080/",
          "height": 35
        },
        "id": "AaXeVuQgn58M",
        "outputId": "9270ba9f-89e1-41e3-f896-1bb6fb3f3f0e"
      },
      "execution_count": 39,
      "outputs": [
        {
          "output_type": "execute_result",
          "data": {
            "text/plain": [
              "'50'"
            ],
            "application/vnd.google.colaboratory.intrinsic+json": {
              "type": "string"
            }
          },
          "metadata": {},
          "execution_count": 39
        }
      ]
    },
    {
      "cell_type": "code",
      "source": [
        "get_match('age (\\d+)', text)"
      ],
      "metadata": {
        "colab": {
          "base_uri": "https://localhost:8080/",
          "height": 35
        },
        "id": "Zt68T5DooJuv",
        "outputId": "3e2eb79f-f8a9-476d-a259-a2643ed762c4"
      },
      "execution_count": 42,
      "outputs": [
        {
          "output_type": "execute_result",
          "data": {
            "text/plain": [
              "'50'"
            ],
            "application/vnd.google.colaboratory.intrinsic+json": {
              "type": "string"
            }
          },
          "metadata": {},
          "execution_count": 42
        }
      ]
    },
    {
      "cell_type": "markdown",
      "source": [
        "Birth name"
      ],
      "metadata": {
        "id": "A9w7Z2_hog30"
      }
    },
    {
      "cell_type": "code",
      "source": [
        "pattern = 'Born(.*)'\n",
        "matches = re.findall(pattern, text)\n",
        "matches[0]"
      ],
      "metadata": {
        "colab": {
          "base_uri": "https://localhost:8080/",
          "height": 35
        },
        "id": "HC5ah0r5oXr_",
        "outputId": "aa6cc40a-8600-4645-90ad-daa68e982bc1"
      },
      "execution_count": 43,
      "outputs": [
        {
          "output_type": "execute_result",
          "data": {
            "text/plain": [
              "'\\tElon Reeve Musk'"
            ],
            "application/vnd.google.colaboratory.intrinsic+json": {
              "type": "string"
            }
          },
          "metadata": {},
          "execution_count": 43
        }
      ]
    },
    {
      "cell_type": "code",
      "source": [
        "get_match('Born(.*)', text).strip()\n",
        "\n",
        "# stip() removes white spaces"
      ],
      "metadata": {
        "colab": {
          "base_uri": "https://localhost:8080/",
          "height": 35
        },
        "id": "rHSlNvWnqw0D",
        "outputId": "8f19fb8b-8f49-4f1b-ddd1-f707a5a7b7b4"
      },
      "execution_count": 45,
      "outputs": [
        {
          "output_type": "execute_result",
          "data": {
            "text/plain": [
              "'Elon Reeve Musk'"
            ],
            "application/vnd.google.colaboratory.intrinsic+json": {
              "type": "string"
            }
          },
          "metadata": {},
          "execution_count": 45
        }
      ]
    },
    {
      "cell_type": "markdown",
      "source": [
        "Birth Date"
      ],
      "metadata": {
        "id": "uSPaHhUOrNpr"
      }
    },
    {
      "cell_type": "code",
      "source": [
        "pattern = 'Born.*\\n(.*)\\(age'\n",
        "matches = re.findall(pattern, text)\n",
        "matches[0]"
      ],
      "metadata": {
        "colab": {
          "base_uri": "https://localhost:8080/",
          "height": 35
        },
        "id": "ph6KbfO8rDZo",
        "outputId": "688d55f1-e269-4551-d23d-31c96fe77563"
      },
      "execution_count": 46,
      "outputs": [
        {
          "output_type": "execute_result",
          "data": {
            "text/plain": [
              "'June 28, 1971 '"
            ],
            "application/vnd.google.colaboratory.intrinsic+json": {
              "type": "string"
            }
          },
          "metadata": {},
          "execution_count": 46
        }
      ]
    },
    {
      "cell_type": "code",
      "source": [
        "get_match('Born.*\\n(.*)\\(age', text)"
      ],
      "metadata": {
        "colab": {
          "base_uri": "https://localhost:8080/",
          "height": 35
        },
        "id": "2ePYhL-_r3RS",
        "outputId": "aeda5d91-8496-4599-fdf0-ee30a8d836f0"
      },
      "execution_count": 47,
      "outputs": [
        {
          "output_type": "execute_result",
          "data": {
            "text/plain": [
              "'June 28, 1971 '"
            ],
            "application/vnd.google.colaboratory.intrinsic+json": {
              "type": "string"
            }
          },
          "metadata": {},
          "execution_count": 47
        }
      ]
    },
    {
      "cell_type": "markdown",
      "source": [
        "Birth Place"
      ],
      "metadata": {
        "id": "n4o2ACgRsCLK"
      }
    },
    {
      "cell_type": "code",
      "source": [
        "pattern = '\\(age.*\\n(.*)'\n",
        "matches = re.findall(pattern, text)\n",
        "matches[0].strip()"
      ],
      "metadata": {
        "colab": {
          "base_uri": "https://localhost:8080/",
          "height": 35
        },
        "id": "Qs4MlKZ-r-2o",
        "outputId": "9915edc0-8dc7-4387-9110-a8314add20e2"
      },
      "execution_count": 50,
      "outputs": [
        {
          "output_type": "execute_result",
          "data": {
            "text/plain": [
              "'Pretoria, Transvaal, South Africa'"
            ],
            "application/vnd.google.colaboratory.intrinsic+json": {
              "type": "string"
            }
          },
          "metadata": {},
          "execution_count": 50
        }
      ]
    },
    {
      "cell_type": "code",
      "source": [
        "get_match('\\(age.*\\n(.*)', text)"
      ],
      "metadata": {
        "colab": {
          "base_uri": "https://localhost:8080/",
          "height": 35
        },
        "id": "Bmjdni_HwZq8",
        "outputId": "81427098-dded-404b-e5a3-c4553a9fc999"
      },
      "execution_count": 49,
      "outputs": [
        {
          "output_type": "execute_result",
          "data": {
            "text/plain": [
              "'Pretoria, Transvaal, South Africa'"
            ],
            "application/vnd.google.colaboratory.intrinsic+json": {
              "type": "string"
            }
          },
          "metadata": {},
          "execution_count": 49
        }
      ]
    },
    {
      "cell_type": "markdown",
      "source": [
        "function to extract information"
      ],
      "metadata": {
        "id": "JAsLjw-axH_m"
      }
    },
    {
      "cell_type": "code",
      "source": [
        "def get_infor(text):\n",
        "  age = get_match('age (\\d+)', text)\n",
        "  full_name = get_match('Born(.*)', text)\n",
        "  birth_date = get_match('Born.*\\n(.*)\\(age', text)\n",
        "  birth_place = get_match('\\(age.*\\n(.*)', text)\n",
        "\n",
        "  return{\n",
        "      'age': int(age),\n",
        "      'name': full_name.strip(),\n",
        "      'birth_date': birth_date.strip(),\n",
        "      'birth_place': birth_place.strip()\n",
        "  }"
      ],
      "metadata": {
        "id": "_RsT25Vywfun"
      },
      "execution_count": 60,
      "outputs": []
    },
    {
      "cell_type": "code",
      "source": [
        "get_infor(text)"
      ],
      "metadata": {
        "colab": {
          "base_uri": "https://localhost:8080/"
        },
        "id": "Z1Bd2Y01yex9",
        "outputId": "62a89c81-0bef-42e7-f375-a670e41ce518"
      },
      "execution_count": 61,
      "outputs": [
        {
          "output_type": "execute_result",
          "data": {
            "text/plain": [
              "{'age': 64,\n",
              " 'birth_date': '19 April 1957',\n",
              " 'birth_place': 'Aden, Colony of Aden',\n",
              " 'name': 'Mukesh Dhirubhai Ambani'}"
            ]
          },
          "metadata": {},
          "execution_count": 61
        }
      ]
    },
    {
      "cell_type": "markdown",
      "source": [
        "another example"
      ],
      "metadata": {
        "id": "jWv2nsVjy6XU"
      }
    },
    {
      "cell_type": "code",
      "source": [
        "text = '''\n",
        "Born\tMukesh Dhirubhai Ambani\n",
        "19 April 1957 (age 64)\n",
        "Aden, Colony of Aden\n",
        "(present-day Yemen)[1][2]\n",
        "Nationality\tIndian\n",
        "Alma mater\t\n",
        "St. Xavier's College, Mumbai\n",
        "Institute of Chemical Technology (B.E.)\n",
        "Stanford University (drop-out)\n",
        "Occupation\tChairman and MD, Reliance Industries\n",
        "Spouse(s)\tNita Ambani ​(m. 1985)​[3]\n",
        "Children\t3\n",
        "Parent(s)\t\n",
        "Dhirubhai Ambani (father)\n",
        "Kokilaben Ambani (mother)\n",
        "Relatives\tAnil Ambani (brother)\n",
        "Tina Ambani (sister-in-law)\n",
        "'''"
      ],
      "metadata": {
        "id": "Q1yNCdX0ykN2"
      },
      "execution_count": 55,
      "outputs": []
    },
    {
      "cell_type": "code",
      "source": [
        "get_infor(text)"
      ],
      "metadata": {
        "colab": {
          "base_uri": "https://localhost:8080/"
        },
        "id": "0eWT4SopzA9Y",
        "outputId": "234f764d-819f-49af-ef20-b10057660a58"
      },
      "execution_count": 56,
      "outputs": [
        {
          "output_type": "execute_result",
          "data": {
            "text/plain": [
              "{'age': 64,\n",
              " 'birth_date': '19 April 1957',\n",
              " 'birth_place': 'Aden, Colony of Aden',\n",
              " 'name': 'Mukesh Dhirubhai Ambani'}"
            ]
          },
          "metadata": {},
          "execution_count": 56
        }
      ]
    },
    {
      "cell_type": "code",
      "source": [
        ""
      ],
      "metadata": {
        "id": "U4hik9QyzDe2"
      },
      "execution_count": null,
      "outputs": []
    }
  ]
}