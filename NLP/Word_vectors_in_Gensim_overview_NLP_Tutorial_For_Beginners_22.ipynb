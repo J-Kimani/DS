{
  "nbformat": 4,
  "nbformat_minor": 0,
  "metadata": {
    "colab": {
      "provenance": []
    },
    "kernelspec": {
      "name": "python3",
      "display_name": "Python 3"
    },
    "language_info": {
      "name": "python"
    }
  },
  "cells": [
    {
      "cell_type": "markdown",
      "source": [
        "Gensim is an NLP library where you can access some prebuilt word embeddings such as word2vec model trained on Google news corpus or GloVe model trained on data from twitter"
      ],
      "metadata": {
        "id": "k-VE3cEYPRpP"
      }
    },
    {
      "cell_type": "code",
      "execution_count": 1,
      "metadata": {
        "colab": {
          "base_uri": "https://localhost:8080/"
        },
        "id": "B2zuuM9kPKIe",
        "outputId": "7de6a6ef-1ec0-42e1-ce74-03623110a19c"
      },
      "outputs": [
        {
          "output_type": "stream",
          "name": "stdout",
          "text": [
            "[==================================================] 100.0% 1662.8/1662.8MB downloaded\n"
          ]
        }
      ],
      "source": [
        "import gensim.downloader as api\n",
        "\n",
        "wv = api.load('word2vec-google-news-300')"
      ]
    },
    {
      "cell_type": "code",
      "source": [
        "wv.similarity(w1=\"great\", w2=\"well\")"
      ],
      "metadata": {
        "colab": {
          "base_uri": "https://localhost:8080/"
        },
        "id": "3dGxkW-cP-Ly",
        "outputId": "19fb8b76-acf7-4d4a-b5ff-94b9bcf85a92"
      },
      "execution_count": 3,
      "outputs": [
        {
          "output_type": "execute_result",
          "data": {
            "text/plain": [
              "0.4098271"
            ]
          },
          "metadata": {},
          "execution_count": 3
        }
      ]
    },
    {
      "cell_type": "code",
      "source": [
        "wv.similarity(w1=\"great\", w2=\"good\")"
      ],
      "metadata": {
        "colab": {
          "base_uri": "https://localhost:8080/"
        },
        "id": "y80BU68OSqwq",
        "outputId": "d7c9e303-ddd2-4ed0-e5de-ffc7f654233f"
      },
      "execution_count": 4,
      "outputs": [
        {
          "output_type": "execute_result",
          "data": {
            "text/plain": [
              "0.729151"
            ]
          },
          "metadata": {},
          "execution_count": 4
        }
      ]
    },
    {
      "cell_type": "code",
      "source": [
        "wv.similarity(w1=\"profit\", w2=\"gain\")"
      ],
      "metadata": {
        "colab": {
          "base_uri": "https://localhost:8080/"
        },
        "id": "a-TdovXRTf1D",
        "outputId": "482ba8d9-b982-4766-ed68-b0d7cf06c769"
      },
      "execution_count": 5,
      "outputs": [
        {
          "output_type": "execute_result",
          "data": {
            "text/plain": [
              "0.28772825"
            ]
          },
          "metadata": {},
          "execution_count": 5
        }
      ]
    },
    {
      "cell_type": "code",
      "source": [
        "wv.most_similar(\"good\")"
      ],
      "metadata": {
        "colab": {
          "base_uri": "https://localhost:8080/"
        },
        "id": "bw0yY97AWl_r",
        "outputId": "26f18827-f0a5-4deb-80ac-3413c4fd7b57"
      },
      "execution_count": 6,
      "outputs": [
        {
          "output_type": "execute_result",
          "data": {
            "text/plain": [
              "[('great', 0.7291510105133057),\n",
              " ('bad', 0.7190051078796387),\n",
              " ('terrific', 0.6889115571975708),\n",
              " ('decent', 0.6837348937988281),\n",
              " ('nice', 0.6836092472076416),\n",
              " ('excellent', 0.644292950630188),\n",
              " ('fantastic', 0.6407778263092041),\n",
              " ('better', 0.6120728254318237),\n",
              " ('solid', 0.5806034803390503),\n",
              " ('lousy', 0.5764201879501343)]"
            ]
          },
          "metadata": {},
          "execution_count": 6
        }
      ]
    },
    {
      "cell_type": "code",
      "source": [
        "wv.most_similar(\"dog\")"
      ],
      "metadata": {
        "colab": {
          "base_uri": "https://localhost:8080/"
        },
        "id": "lmJ7m2ewWr4H",
        "outputId": "63574cb2-714b-4fcb-b4b1-4eb9b1253bb7"
      },
      "execution_count": 7,
      "outputs": [
        {
          "output_type": "execute_result",
          "data": {
            "text/plain": [
              "[('dogs', 0.8680489659309387),\n",
              " ('puppy', 0.8106428384780884),\n",
              " ('pit_bull', 0.780396044254303),\n",
              " ('pooch', 0.7627377510070801),\n",
              " ('cat', 0.7609456777572632),\n",
              " ('golden_retriever', 0.7500902414321899),\n",
              " ('German_shepherd', 0.7465174198150635),\n",
              " ('Rottweiler', 0.7437614798545837),\n",
              " ('beagle', 0.7418621778488159),\n",
              " ('pup', 0.740691065788269)]"
            ]
          },
          "metadata": {},
          "execution_count": 7
        }
      ]
    },
    {
      "cell_type": "code",
      "source": [
        "wv.most_similar(positive=[\"france\", \"berlin\"], negative=[\"paris\"])"
      ],
      "metadata": {
        "colab": {
          "base_uri": "https://localhost:8080/"
        },
        "id": "5UHYMPcRXUPT",
        "outputId": "e28d0715-7005-4bfe-9582-4ed8df3d2a39"
      },
      "execution_count": 8,
      "outputs": [
        {
          "output_type": "execute_result",
          "data": {
            "text/plain": [
              "[('germany', 0.5094344019889832),\n",
              " ('european', 0.4865044951438904),\n",
              " ('german', 0.4714890718460083),\n",
              " ('austria', 0.46964019536972046),\n",
              " ('swedish', 0.46451830863952637),\n",
              " ('Wissenschaft', 0.45328807830810547),\n",
              " ('denmark', 0.4477354884147644),\n",
              " ('München', 0.4438532590866089),\n",
              " ('europe', 0.44206199049949646),\n",
              " ('belgium', 0.43769747018814087)]"
            ]
          },
          "metadata": {},
          "execution_count": 8
        }
      ]
    },
    {
      "cell_type": "markdown",
      "source": [
        "logic between adding and subtracting\n",
        "\n",
        "king - man + woman =queen\n",
        "\n",
        "France - Paris + Berlin = Germany"
      ],
      "metadata": {
        "id": "G1ib9wHcYTSs"
      }
    },
    {
      "cell_type": "code",
      "source": [
        "wv.most_similar(positive=['king', 'woman'], negative=['man'])"
      ],
      "metadata": {
        "colab": {
          "base_uri": "https://localhost:8080/"
        },
        "id": "TLj2ztC8X0Pz",
        "outputId": "4edb77be-f2aa-4d47-9c98-3af2734dd1de"
      },
      "execution_count": 9,
      "outputs": [
        {
          "output_type": "execute_result",
          "data": {
            "text/plain": [
              "[('queen', 0.7118192911148071),\n",
              " ('monarch', 0.6189674139022827),\n",
              " ('princess', 0.5902431011199951),\n",
              " ('crown_prince', 0.5499460697174072),\n",
              " ('prince', 0.5377321243286133),\n",
              " ('kings', 0.5236844420433044),\n",
              " ('Queen_Consort', 0.5235945582389832),\n",
              " ('queens', 0.518113374710083),\n",
              " ('sultan', 0.5098593235015869),\n",
              " ('monarchy', 0.5087411999702454)]"
            ]
          },
          "metadata": {},
          "execution_count": 9
        }
      ]
    },
    {
      "cell_type": "code",
      "source": [
        "wv.doesnt_match([\"facebook\", \"cat\", \"google\", \"microsoft\"])"
      ],
      "metadata": {
        "colab": {
          "base_uri": "https://localhost:8080/",
          "height": 91
        },
        "id": "tQePdlQ_X6Qj",
        "outputId": "f24b585e-440f-4405-ed69-6151f5b3c0c4"
      },
      "execution_count": 10,
      "outputs": [
        {
          "output_type": "stream",
          "name": "stderr",
          "text": [
            "/usr/local/lib/python3.7/dist-packages/gensim/models/keyedvectors.py:895: FutureWarning: arrays to stack must be passed as a \"sequence\" type such as list or tuple. Support for non-sequence iterables such as generators is deprecated as of NumPy 1.16 and will raise an error in the future.\n",
            "  vectors = vstack(self.word_vec(word, use_norm=True) for word in used_words).astype(REAL)\n"
          ]
        },
        {
          "output_type": "execute_result",
          "data": {
            "text/plain": [
              "'cat'"
            ],
            "application/vnd.google.colaboratory.intrinsic+json": {
              "type": "string"
            }
          },
          "metadata": {},
          "execution_count": 10
        }
      ]
    },
    {
      "cell_type": "code",
      "source": [
        "wv.doesnt_match([\"dog\", \"cat\", \"lion\", \"microsoft\"])"
      ],
      "metadata": {
        "colab": {
          "base_uri": "https://localhost:8080/",
          "height": 91
        },
        "id": "hhXHcOZnYtaP",
        "outputId": "a7fe551d-67d9-4646-f351-1a4f4b047330"
      },
      "execution_count": 11,
      "outputs": [
        {
          "output_type": "stream",
          "name": "stderr",
          "text": [
            "/usr/local/lib/python3.7/dist-packages/gensim/models/keyedvectors.py:895: FutureWarning: arrays to stack must be passed as a \"sequence\" type such as list or tuple. Support for non-sequence iterables such as generators is deprecated as of NumPy 1.16 and will raise an error in the future.\n",
            "  vectors = vstack(self.word_vec(word, use_norm=True) for word in used_words).astype(REAL)\n"
          ]
        },
        {
          "output_type": "execute_result",
          "data": {
            "text/plain": [
              "'microsoft'"
            ],
            "application/vnd.google.colaboratory.intrinsic+json": {
              "type": "string"
            }
          },
          "metadata": {},
          "execution_count": 11
        }
      ]
    },
    {
      "cell_type": "code",
      "source": [
        "wv.doesnt_match([\"dog\", \"cat\", \"google\", \"mouse\"])"
      ],
      "metadata": {
        "colab": {
          "base_uri": "https://localhost:8080/",
          "height": 35
        },
        "id": "UCISvNUWY9YB",
        "outputId": "b222ad8c-4959-4b4d-c719-071659ae5c58"
      },
      "execution_count": 12,
      "outputs": [
        {
          "output_type": "execute_result",
          "data": {
            "text/plain": [
              "'google'"
            ],
            "application/vnd.google.colaboratory.intrinsic+json": {
              "type": "string"
            }
          },
          "metadata": {},
          "execution_count": 12
        }
      ]
    },
    {
      "cell_type": "markdown",
      "source": [
        "\n",
        "Gensim: Glove\n"
      ],
      "metadata": {
        "id": "IEeyrMjhZEcI"
      }
    },
    {
      "cell_type": "code",
      "source": [
        "glv = api.load(\"glove-twitter-25\")"
      ],
      "metadata": {
        "colab": {
          "base_uri": "https://localhost:8080/"
        },
        "id": "TkclZXXqY_tZ",
        "outputId": "9dab29e1-cde8-4047-9a23-970704b24511"
      },
      "execution_count": 13,
      "outputs": [
        {
          "output_type": "stream",
          "name": "stdout",
          "text": [
            "[==================================================] 100.0% 104.8/104.8MB downloaded\n"
          ]
        }
      ]
    },
    {
      "cell_type": "code",
      "source": [
        "glv.most_similar(\"good\")"
      ],
      "metadata": {
        "colab": {
          "base_uri": "https://localhost:8080/"
        },
        "id": "vSguVgMqZPG4",
        "outputId": "3a644ccc-1e4b-481d-990e-49e7261c0949"
      },
      "execution_count": 14,
      "outputs": [
        {
          "output_type": "execute_result",
          "data": {
            "text/plain": [
              "[('too', 0.9648016095161438),\n",
              " ('day', 0.9533665180206299),\n",
              " ('well', 0.9503172039985657),\n",
              " ('nice', 0.9438973069190979),\n",
              " ('better', 0.9425961375236511),\n",
              " ('fun', 0.9418926239013672),\n",
              " ('much', 0.9413353204727173),\n",
              " ('this', 0.9387556314468384),\n",
              " ('hope', 0.9383507370948792),\n",
              " ('great', 0.9378515481948853)]"
            ]
          },
          "metadata": {},
          "execution_count": 14
        }
      ]
    },
    {
      "cell_type": "code",
      "source": [
        "glv.most_similar(\"tesla\")"
      ],
      "metadata": {
        "colab": {
          "base_uri": "https://localhost:8080/"
        },
        "id": "KaH6SdqrZszv",
        "outputId": "f24a8378-1e51-4d00-81c0-bbbe59f69999"
      },
      "execution_count": 16,
      "outputs": [
        {
          "output_type": "execute_result",
          "data": {
            "text/plain": [
              "[('qualcomm', 0.911899209022522),\n",
              " ('motors', 0.9075974822044373),\n",
              " ('sachs', 0.8855622410774231),\n",
              " ('alibaba', 0.8841803073883057),\n",
              " ('weber', 0.8666931390762329),\n",
              " ('deere', 0.8601744174957275),\n",
              " ('kernel', 0.8578173518180847),\n",
              " ('foxconn', 0.855256199836731),\n",
              " ('citigroup', 0.8552471399307251),\n",
              " ('exxon', 0.8550338745117188)]"
            ]
          },
          "metadata": {},
          "execution_count": 16
        }
      ]
    },
    {
      "cell_type": "code",
      "source": [
        "glv.most_similar(\"musk\")"
      ],
      "metadata": {
        "colab": {
          "base_uri": "https://localhost:8080/"
        },
        "id": "PHaxIgaYZwbv",
        "outputId": "9046c338-758f-442a-e2d7-87a0de67aa4f"
      },
      "execution_count": 17,
      "outputs": [
        {
          "output_type": "execute_result",
          "data": {
            "text/plain": [
              "[('nikola', 0.8904832005500793),\n",
              " ('hartmann', 0.8798294067382812),\n",
              " ('strunk', 0.879176139831543),\n",
              " ('ice-t', 0.8784679770469666),\n",
              " ('hefner', 0.8749244213104248),\n",
              " ('safdar', 0.8681180477142334),\n",
              " ('o’hara', 0.8664085268974304),\n",
              " ('dejesus', 0.8610487580299377),\n",
              " ('corning', 0.8586575388908386),\n",
              " ('laverne', 0.858246922492981)]"
            ]
          },
          "metadata": {},
          "execution_count": 17
        }
      ]
    },
    {
      "cell_type": "code",
      "source": [
        "glv.doesnt_match(\"breakfast cereal dinner lunch\".split())"
      ],
      "metadata": {
        "colab": {
          "base_uri": "https://localhost:8080/",
          "height": 91
        },
        "id": "5ooxKsu7ZVCS",
        "outputId": "7bdba6fc-83ce-422e-869d-98cb378c927b"
      },
      "execution_count": 15,
      "outputs": [
        {
          "output_type": "stream",
          "name": "stderr",
          "text": [
            "/usr/local/lib/python3.7/dist-packages/gensim/models/keyedvectors.py:895: FutureWarning: arrays to stack must be passed as a \"sequence\" type such as list or tuple. Support for non-sequence iterables such as generators is deprecated as of NumPy 1.16 and will raise an error in the future.\n",
            "  vectors = vstack(self.word_vec(word, use_norm=True) for word in used_words).astype(REAL)\n"
          ]
        },
        {
          "output_type": "execute_result",
          "data": {
            "text/plain": [
              "'cereal'"
            ],
            "application/vnd.google.colaboratory.intrinsic+json": {
              "type": "string"
            }
          },
          "metadata": {},
          "execution_count": 15
        }
      ]
    },
    {
      "cell_type": "code",
      "source": [
        "glv.doesnt_match(\"facebook cat google microsoft\".split())"
      ],
      "metadata": {
        "colab": {
          "base_uri": "https://localhost:8080/",
          "height": 35
        },
        "id": "s--Twg8VZhFp",
        "outputId": "4c8ea0a1-ed9c-44a9-80fa-70b231814dc4"
      },
      "execution_count": 18,
      "outputs": [
        {
          "output_type": "execute_result",
          "data": {
            "text/plain": [
              "'cat'"
            ],
            "application/vnd.google.colaboratory.intrinsic+json": {
              "type": "string"
            }
          },
          "metadata": {},
          "execution_count": 18
        }
      ]
    },
    {
      "cell_type": "code",
      "source": [
        "glv.doesnt_match(\"banana grapes orange human\".split())"
      ],
      "metadata": {
        "colab": {
          "base_uri": "https://localhost:8080/",
          "height": 35
        },
        "id": "TQaZGUyrZ9xQ",
        "outputId": "f9ea6981-4676-471d-e3f9-8cad6e247e20"
      },
      "execution_count": 19,
      "outputs": [
        {
          "output_type": "execute_result",
          "data": {
            "text/plain": [
              "'human'"
            ],
            "application/vnd.google.colaboratory.intrinsic+json": {
              "type": "string"
            }
          },
          "metadata": {},
          "execution_count": 19
        }
      ]
    },
    {
      "cell_type": "code",
      "source": [],
      "metadata": {
        "id": "Oz838E92aA38"
      },
      "execution_count": null,
      "outputs": []
    }
  ]
}