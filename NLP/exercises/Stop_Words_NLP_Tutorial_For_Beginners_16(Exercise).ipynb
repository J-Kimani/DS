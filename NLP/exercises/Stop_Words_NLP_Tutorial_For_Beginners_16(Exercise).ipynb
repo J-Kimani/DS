{
  "nbformat": 4,
  "nbformat_minor": 0,
  "metadata": {
    "colab": {
      "name": "Stop Words: NLP Tutorial For Beginners - 16(Exercise).ipynb",
      "provenance": [],
      "collapsed_sections": []
    },
    "kernelspec": {
      "name": "python3",
      "display_name": "Python 3"
    },
    "language_info": {
      "name": "python"
    }
  },
  "cells": [
    {
      "cell_type": "code",
      "execution_count": 17,
      "metadata": {
        "id": "9XS1q7fYKYHQ"
      },
      "outputs": [],
      "source": [
        "import spacy\n",
        "nlp = spacy.load(\"en_core_web_sm\")\n",
        "\n"
      ]
    },
    {
      "cell_type": "markdown",
      "source": [
        "**Exercise 1:**\n",
        "\n",
        "\n",
        "*   From a Given Text, Count the number of stop words in it.\n",
        "*   Print the percentage of stop word tokens compared to all tokens in a given text.\n",
        "\n",
        "\n"
      ],
      "metadata": {
        "id": "N2RLfy9XLQFM"
      }
    },
    {
      "cell_type": "code",
      "source": [
        "text = '''\n",
        "Thor: Love and Thunder is a 2022 American superhero film based on Marvel Comics featuring the character Thor, produced by Marvel Studios and \n",
        "distributed by Walt Disney Studios Motion Pictures. It is the sequel to Thor: Ragnarok (2017) and the 29th film in the Marvel Cinematic Universe (MCU).\n",
        "The film is directed by Taika Waititi, who co-wrote the script with Jennifer Kaytin Robinson, and stars Chris Hemsworth as Thor alongside Christian Bale, Tessa Thompson,\n",
        "Jaimie Alexander, Waititi, Russell Crowe, and Natalie Portman. In the film, Thor attempts to find inner peace, but must return to action and recruit Valkyrie (Thompson),\n",
        "Korg (Waititi), and Jane Foster (Portman)—who is now the Mighty Thor—to stop Gorr the God Butcher (Bale) from eliminating all gods.\n",
        "'''"
      ],
      "metadata": {
        "id": "tbrWocfmK6gc"
      },
      "execution_count": 18,
      "outputs": []
    },
    {
      "cell_type": "code",
      "source": [
        "doc = nlp(text)\n",
        "\n",
        "stop_words = 0\n",
        "total_words = 0\n"
      ],
      "metadata": {
        "id": "oeVARGaVLjlq"
      },
      "execution_count": 19,
      "outputs": []
    },
    {
      "cell_type": "code",
      "source": [
        "for token in doc:\n",
        "  if token.is_stop:\n",
        "    stop_words += 1\n",
        "  total_words += 1\n",
        "\n",
        "print(\"Total Stop words presented in the given text: \", stop_words)\n",
        "\n",
        "per_stop_words = (stop_words / total_words) * 100\n",
        "\n",
        "print(\"Percentage of Stop words presented in the given text: \", per_stop_words, \"%\")"
      ],
      "metadata": {
        "colab": {
          "base_uri": "https://localhost:8080/"
        },
        "id": "tuE5cUVOLvea",
        "outputId": "4369b63e-9be9-41f4-8119-3f81f618614a"
      },
      "execution_count": 20,
      "outputs": [
        {
          "output_type": "stream",
          "name": "stdout",
          "text": [
            "Total Stop words presented in the given text:  40\n",
            "Percentage of Stop words presented in the given text:  25.0 %\n"
          ]
        }
      ]
    },
    {
      "cell_type": "markdown",
      "source": [
        "**Exercise 2:**\n",
        "\n",
        "\n",
        "Spacy default implementation considers \"not\" as a stop word. But in some scenarios removing 'not' will completely change the meaning of the statement/text. For Example, consider these two statements:\n",
        "\n",
        "- this is a good movie       ----> Positive Statement\n",
        "- this is not a good movie   ----> Negative Statement\n",
        "So, after applying stopwords to those 2 texts, both will return \"good movie\" and does not respect the polarity/sentiments of text.\n",
        "\n",
        "Now, your task is to remove this stop word \"not\" in spaCy and help in distinguishing the texts.\n"
      ],
      "metadata": {
        "id": "b6gKM2HRQI5n"
      }
    },
    {
      "cell_type": "code",
      "source": [
        "def preprocess(text):\n",
        "    doc = nlp(text)\n",
        "    no_stop_words = [token.text for token in doc if not token.is_stop]\n",
        "    return \" \".join(no_stop_words)     \n",
        "\n",
        "nlp.vocab['not'].is_stop = False\n",
        "\n",
        "positive_text = preprocess('this is a good movie')\n",
        "negative_text = preprocess('this is not a good movie')\n",
        "\n",
        "\n",
        "print(\"Text1: \", positive_text)\n",
        "print(\"Text2: \", negative_text)"
      ],
      "metadata": {
        "colab": {
          "base_uri": "https://localhost:8080/"
        },
        "id": "NPDQ7OyFMVC2",
        "outputId": "7f9bc689-36b0-4871-d030-5285e701a59c"
      },
      "execution_count": 21,
      "outputs": [
        {
          "output_type": "stream",
          "name": "stdout",
          "text": [
            "Text1:  good movie\n",
            "Text2:  not good movie\n"
          ]
        }
      ]
    },
    {
      "cell_type": "markdown",
      "source": [
        "**Exercise 3:**\n",
        "\n",
        "\n",
        "*   From a given text, output the most frequently used token after removing all the stop word tokens and punctuations in it.\n",
        "\n",
        "\n"
      ],
      "metadata": {
        "id": "vuAl3kx5UFx9"
      }
    },
    {
      "cell_type": "code",
      "source": [
        "text = ''' The India men's national cricket team, also known as Team India or the Men in Blue, represents India in men's international cricket.\n",
        "It is governed by the Board of Control for Cricket in India (BCCI), and is a Full Member of the International Cricket Council (ICC) with Test,\n",
        "One Day International (ODI) and Twenty20 International (T20I) status. Cricket was introduced to India by British sailors in the 18th century, and the \n",
        "first cricket club was established in 1792. India's national cricket team played its first Test match on 25 June 1932 at Lord's, becoming the sixth team to be\n",
        "granted test cricket status.\n",
        "'''\n",
        "\n",
        "doc = nlp(text)\n",
        "\n",
        "# remove all the stop words and punctuations and store all the remaining tokens in a new list\n",
        "remaining_tokens = []\n",
        "\n",
        "\n",
        "for token in doc:\n",
        "  if token.is_stop or token.is_punct:    \n",
        "\n",
        "    continue\n",
        "  remaining_tokens.append(token.text)\n",
        "\n",
        "# create a new dictionary and get the frequency of words by iterating through the list which contains stored tokens\n",
        "frequency_tokens = {}\n",
        "for token in remaining_tokens:\n",
        "  if token != '\\n' and token != ' ':      #As spacy considers new line and empty spaces as seperate token, it's better to ignore them\n",
        "    if token not in frequency_tokens:     #if a particular token occurs for the first time, we initialise it to 1\n",
        "      frequency_tokens[token] = 1\n",
        "    else:\n",
        "      frequency_tokens[token] += 1    \n",
        "\n",
        "max_freq_word = max(frequency_tokens.keys(), key=(lambda key: frequency_tokens[key]))\n",
        "\n",
        "print(\"Maximum frequency word: \", max_freq_word)"
      ],
      "metadata": {
        "id": "44uUH4R2QxLP",
        "colab": {
          "base_uri": "https://localhost:8080/"
        },
        "outputId": "9238c8f6-fcf7-4bbd-f8b7-307670bcc10e"
      },
      "execution_count": 24,
      "outputs": [
        {
          "output_type": "stream",
          "name": "stdout",
          "text": [
            "Maximum frequency word:  India\n"
          ]
        }
      ]
    },
    {
      "cell_type": "code",
      "source": [
        ""
      ],
      "metadata": {
        "id": "JxMhdZQeVDu9"
      },
      "execution_count": null,
      "outputs": []
    }
  ]
}