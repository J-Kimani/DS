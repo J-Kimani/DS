{
  "nbformat": 4,
  "nbformat_minor": 0,
  "metadata": {
    "colab": {
      "name": "Named Entity Recognition (NER): NLP Tutorial For Beginners - 12(Exercise).ipynb",
      "provenance": []
    },
    "kernelspec": {
      "name": "python3",
      "display_name": "Python 3"
    },
    "language_info": {
      "name": "python"
    }
  },
  "cells": [
    {
      "cell_type": "code",
      "execution_count": 1,
      "metadata": {
        "id": "cMg46OxWzcCF"
      },
      "outputs": [],
      "source": [
        "import spacy\n",
        "\n",
        "nlp = spacy.load(\"en_core_web_sm\")"
      ]
    },
    {
      "cell_type": "markdown",
      "source": [
        "**Exercise 1**\n",
        "\n",
        "*   Extract all the Geographical (cities, Countries, states) names from a given text \n",
        "\n"
      ],
      "metadata": {
        "id": "fxnSOB4nzuA9"
      }
    },
    {
      "cell_type": "code",
      "source": [
        "text = \"\"\"Kiran want to know the famous foods in each state of India. So, he opened Google and search for this question. Google showed that\n",
        "in Delhi it is Chaat, in Gujarat it is Dal Dhokli, in Tamilnadu it is Pongal, in Andhrapradesh it is Biryani, in Assam it is Papaya Khar,\n",
        "in Bihar it is Litti Chowkha and so on for all other states\"\"\"\n",
        "\n",
        "doc = nlp(text)\n",
        "\n",
        "# list for storing the names\n",
        "all_geo_names = []\n",
        "\n",
        "for ent in doc.ents:\n",
        "  if ent.label_ == 'GPE':\n",
        "    all_geo_names.append(ent)\n",
        "\n",
        "print(\"Geo location names: \", all_geo_names)\n",
        "print(\"Count: \", len(all_geo_names))"
      ],
      "metadata": {
        "colab": {
          "base_uri": "https://localhost:8080/"
        },
        "id": "jTZYiPOJztAB",
        "outputId": "cd732c47-57a2-4b84-e147-6538e645b0f6"
      },
      "execution_count": 3,
      "outputs": [
        {
          "output_type": "stream",
          "name": "stdout",
          "text": [
            "Geo location names:  [Kiran, India, Delhi, Gujarat, Pongal, Andhrapradesh, Bihar]\n",
            "Count:  7\n"
          ]
        }
      ]
    },
    {
      "cell_type": "markdown",
      "source": [
        "**Exercise 2**\n",
        "\n",
        "*   Extract all birth dates of cricketers in the given text"
      ],
      "metadata": {
        "id": "_3iKsRyE0sY2"
      }
    },
    {
      "cell_type": "code",
      "source": [
        "text = \"\"\"Sachin Tendulkar was born on 24 April 1973, Virat Kholi was born on 5 November 1988, Dhoni was born on 7 July 1981\n",
        "and finally Ricky ponting was born on 19 December 1974.\"\"\"\n",
        "\n",
        "doc = nlp(text)\n",
        "\n",
        "all_birth = []\n",
        "\n",
        "for ent in doc.ents:\n",
        "  if ent.label_ == 'DATE':\n",
        "    all_birth.append(ent)\n",
        "                     \n",
        "print(\"All Birth Dates: \", all_birth)\n",
        "print(\"Count: \", len(all_birth))"
      ],
      "metadata": {
        "colab": {
          "base_uri": "https://localhost:8080/"
        },
        "id": "cxR55ka-0mK6",
        "outputId": "171d9eb2-dd00-456a-9b3e-5f8a7c268569"
      },
      "execution_count": 4,
      "outputs": [
        {
          "output_type": "stream",
          "name": "stdout",
          "text": [
            "All Birth Dates:  [24 April 1973, 5 November 1988, 7 July 1981, 19 December 1974]\n",
            "Count:  4\n"
          ]
        }
      ]
    }
  ]
}