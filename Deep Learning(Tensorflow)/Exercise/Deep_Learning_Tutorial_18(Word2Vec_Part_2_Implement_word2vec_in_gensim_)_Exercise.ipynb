{
  "cells": [
    {
      "cell_type": "markdown",
      "metadata": {
        "id": "ZZIinutSw5Lt"
      },
      "source": [
        "Task:\n",
        "\n",
        "Train a word2vec model on the Sports & Outdoors Reviews Dataset Once you train a model on this, find the words most similar to 'awful' and find similarities between the following word tuples: ('good', 'great'), ('slow','steady')"
      ]
    },
    {
      "cell_type": "code",
      "source": [
        "!pip install gensim\n",
        "!pip install python-Levenshtein"
      ],
      "metadata": {
        "colab": {
          "base_uri": "https://localhost:8080/"
        },
        "id": "cNRPKxKOxAIS",
        "outputId": "893024aa-895f-415c-effc-36c3ce2827e6"
      },
      "execution_count": 1,
      "outputs": [
        {
          "output_type": "stream",
          "name": "stdout",
          "text": [
            "Requirement already satisfied: gensim in /usr/local/lib/python3.7/dist-packages (3.6.0)\n",
            "Requirement already satisfied: scipy>=0.18.1 in /usr/local/lib/python3.7/dist-packages (from gensim) (1.4.1)\n",
            "Requirement already satisfied: six>=1.5.0 in /usr/local/lib/python3.7/dist-packages (from gensim) (1.15.0)\n",
            "Requirement already satisfied: smart-open>=1.2.1 in /usr/local/lib/python3.7/dist-packages (from gensim) (5.2.1)\n",
            "Requirement already satisfied: numpy>=1.11.3 in /usr/local/lib/python3.7/dist-packages (from gensim) (1.21.5)\n",
            "Collecting python-Levenshtein\n",
            "  Downloading python-Levenshtein-0.12.2.tar.gz (50 kB)\n",
            "\u001b[K     |████████████████████████████████| 50 kB 3.0 MB/s \n",
            "\u001b[?25hRequirement already satisfied: setuptools in /usr/local/lib/python3.7/dist-packages (from python-Levenshtein) (57.4.0)\n",
            "Building wheels for collected packages: python-Levenshtein\n",
            "  Building wheel for python-Levenshtein (setup.py) ... \u001b[?25l\u001b[?25hdone\n",
            "  Created wheel for python-Levenshtein: filename=python_Levenshtein-0.12.2-cp37-cp37m-linux_x86_64.whl size=149865 sha256=0c120135e252577bac96066806e38d88a382cd59e76b6f8ac12126bd700f3736\n",
            "  Stored in directory: /root/.cache/pip/wheels/05/5f/ca/7c4367734892581bb5ff896f15027a932c551080b2abd3e00d\n",
            "Successfully built python-Levenshtein\n",
            "Installing collected packages: python-Levenshtein\n",
            "Successfully installed python-Levenshtein-0.12.2\n"
          ]
        }
      ]
    },
    {
      "cell_type": "code",
      "source": [
        "# downloading the data\n",
        "!wget http://snap.stanford.edu/data/amazon/productGraph/categoryFiles/reviews_Sports_and_Outdoors_5.json.gz\n",
        "!gunzip reviews_Sports_and_Outdoors_5.json.gz"
      ],
      "metadata": {
        "colab": {
          "base_uri": "https://localhost:8080/"
        },
        "id": "L31-eT_-xLNC",
        "outputId": "5673764a-82e3-44db-9cdb-ab31ffb31598"
      },
      "execution_count": 2,
      "outputs": [
        {
          "output_type": "stream",
          "name": "stdout",
          "text": [
            "--2022-02-15 19:04:54--  http://snap.stanford.edu/data/amazon/productGraph/categoryFiles/reviews_Sports_and_Outdoors_5.json.gz\n",
            "Resolving snap.stanford.edu (snap.stanford.edu)... 171.64.75.80\n",
            "Connecting to snap.stanford.edu (snap.stanford.edu)|171.64.75.80|:80... connected.\n",
            "HTTP request sent, awaiting response... 200 OK\n",
            "Length: 68275834 (65M) [application/x-gzip]\n",
            "Saving to: ‘reviews_Sports_and_Outdoors_5.json.gz’\n",
            "\n",
            "reviews_Sports_and_ 100%[===================>]  65.11M  4.24MB/s    in 10s     \n",
            "\n",
            "2022-02-15 19:05:06 (6.21 MB/s) - ‘reviews_Sports_and_Outdoors_5.json.gz’ saved [68275834/68275834]\n",
            "\n"
          ]
        }
      ]
    },
    {
      "cell_type": "code",
      "execution_count": 14,
      "metadata": {
        "id": "zZIHT893w5MA"
      },
      "outputs": [],
      "source": [
        "import gensim\n",
        "import pandas as pd"
      ]
    },
    {
      "cell_type": "code",
      "execution_count": 9,
      "metadata": {
        "colab": {
          "base_uri": "https://localhost:8080/",
          "height": 337
        },
        "id": "ESwouXuaw5MI",
        "outputId": "3dabd470-3cda-4cb5-df22-a62861d6c4d5"
      },
      "outputs": [
        {
          "output_type": "execute_result",
          "data": {
            "text/html": [
              "\n",
              "  <div id=\"df-dd462863-0dd4-4ad3-82cb-f030be35dc6a\">\n",
              "    <div class=\"colab-df-container\">\n",
              "      <div>\n",
              "<style scoped>\n",
              "    .dataframe tbody tr th:only-of-type {\n",
              "        vertical-align: middle;\n",
              "    }\n",
              "\n",
              "    .dataframe tbody tr th {\n",
              "        vertical-align: top;\n",
              "    }\n",
              "\n",
              "    .dataframe thead th {\n",
              "        text-align: right;\n",
              "    }\n",
              "</style>\n",
              "<table border=\"1\" class=\"dataframe\">\n",
              "  <thead>\n",
              "    <tr style=\"text-align: right;\">\n",
              "      <th></th>\n",
              "      <th>reviewerID</th>\n",
              "      <th>asin</th>\n",
              "      <th>reviewerName</th>\n",
              "      <th>helpful</th>\n",
              "      <th>reviewText</th>\n",
              "      <th>overall</th>\n",
              "      <th>summary</th>\n",
              "      <th>unixReviewTime</th>\n",
              "      <th>reviewTime</th>\n",
              "    </tr>\n",
              "  </thead>\n",
              "  <tbody>\n",
              "    <tr>\n",
              "      <th>0</th>\n",
              "      <td>AIXZKN4ACSKI</td>\n",
              "      <td>1881509818</td>\n",
              "      <td>David Briner</td>\n",
              "      <td>[0, 0]</td>\n",
              "      <td>This came in on time and I am veru happy with ...</td>\n",
              "      <td>5</td>\n",
              "      <td>Woks very good</td>\n",
              "      <td>1390694400</td>\n",
              "      <td>01 26, 2014</td>\n",
              "    </tr>\n",
              "    <tr>\n",
              "      <th>1</th>\n",
              "      <td>A1L5P841VIO02V</td>\n",
              "      <td>1881509818</td>\n",
              "      <td>Jason A. Kramer</td>\n",
              "      <td>[1, 1]</td>\n",
              "      <td>I had a factory Glock tool that I was using fo...</td>\n",
              "      <td>5</td>\n",
              "      <td>Works as well as the factory tool</td>\n",
              "      <td>1328140800</td>\n",
              "      <td>02 2, 2012</td>\n",
              "    </tr>\n",
              "    <tr>\n",
              "      <th>2</th>\n",
              "      <td>AB2W04NI4OEAD</td>\n",
              "      <td>1881509818</td>\n",
              "      <td>J. Fernald</td>\n",
              "      <td>[2, 2]</td>\n",
              "      <td>If you don't have a 3/32 punch or would like t...</td>\n",
              "      <td>4</td>\n",
              "      <td>It's a punch, that's all.</td>\n",
              "      <td>1330387200</td>\n",
              "      <td>02 28, 2012</td>\n",
              "    </tr>\n",
              "    <tr>\n",
              "      <th>3</th>\n",
              "      <td>A148SVSWKTJKU6</td>\n",
              "      <td>1881509818</td>\n",
              "      <td>Jusitn A. Watts \"Maverick9614\"</td>\n",
              "      <td>[0, 0]</td>\n",
              "      <td>This works no better than any 3/32 punch you w...</td>\n",
              "      <td>4</td>\n",
              "      <td>It's a punch with a Glock logo.</td>\n",
              "      <td>1328400000</td>\n",
              "      <td>02 5, 2012</td>\n",
              "    </tr>\n",
              "    <tr>\n",
              "      <th>4</th>\n",
              "      <td>AAAWJ6LW9WMOO</td>\n",
              "      <td>1881509818</td>\n",
              "      <td>Material Man</td>\n",
              "      <td>[0, 0]</td>\n",
              "      <td>I purchased this thinking maybe I need a speci...</td>\n",
              "      <td>4</td>\n",
              "      <td>Ok,tool does what a regular punch does.</td>\n",
              "      <td>1366675200</td>\n",
              "      <td>04 23, 2013</td>\n",
              "    </tr>\n",
              "  </tbody>\n",
              "</table>\n",
              "</div>\n",
              "      <button class=\"colab-df-convert\" onclick=\"convertToInteractive('df-dd462863-0dd4-4ad3-82cb-f030be35dc6a')\"\n",
              "              title=\"Convert this dataframe to an interactive table.\"\n",
              "              style=\"display:none;\">\n",
              "        \n",
              "  <svg xmlns=\"http://www.w3.org/2000/svg\" height=\"24px\"viewBox=\"0 0 24 24\"\n",
              "       width=\"24px\">\n",
              "    <path d=\"M0 0h24v24H0V0z\" fill=\"none\"/>\n",
              "    <path d=\"M18.56 5.44l.94 2.06.94-2.06 2.06-.94-2.06-.94-.94-2.06-.94 2.06-2.06.94zm-11 1L8.5 8.5l.94-2.06 2.06-.94-2.06-.94L8.5 2.5l-.94 2.06-2.06.94zm10 10l.94 2.06.94-2.06 2.06-.94-2.06-.94-.94-2.06-.94 2.06-2.06.94z\"/><path d=\"M17.41 7.96l-1.37-1.37c-.4-.4-.92-.59-1.43-.59-.52 0-1.04.2-1.43.59L10.3 9.45l-7.72 7.72c-.78.78-.78 2.05 0 2.83L4 21.41c.39.39.9.59 1.41.59.51 0 1.02-.2 1.41-.59l7.78-7.78 2.81-2.81c.8-.78.8-2.07 0-2.86zM5.41 20L4 18.59l7.72-7.72 1.47 1.35L5.41 20z\"/>\n",
              "  </svg>\n",
              "      </button>\n",
              "      \n",
              "  <style>\n",
              "    .colab-df-container {\n",
              "      display:flex;\n",
              "      flex-wrap:wrap;\n",
              "      gap: 12px;\n",
              "    }\n",
              "\n",
              "    .colab-df-convert {\n",
              "      background-color: #E8F0FE;\n",
              "      border: none;\n",
              "      border-radius: 50%;\n",
              "      cursor: pointer;\n",
              "      display: none;\n",
              "      fill: #1967D2;\n",
              "      height: 32px;\n",
              "      padding: 0 0 0 0;\n",
              "      width: 32px;\n",
              "    }\n",
              "\n",
              "    .colab-df-convert:hover {\n",
              "      background-color: #E2EBFA;\n",
              "      box-shadow: 0px 1px 2px rgba(60, 64, 67, 0.3), 0px 1px 3px 1px rgba(60, 64, 67, 0.15);\n",
              "      fill: #174EA6;\n",
              "    }\n",
              "\n",
              "    [theme=dark] .colab-df-convert {\n",
              "      background-color: #3B4455;\n",
              "      fill: #D2E3FC;\n",
              "    }\n",
              "\n",
              "    [theme=dark] .colab-df-convert:hover {\n",
              "      background-color: #434B5C;\n",
              "      box-shadow: 0px 1px 3px 1px rgba(0, 0, 0, 0.15);\n",
              "      filter: drop-shadow(0px 1px 2px rgba(0, 0, 0, 0.3));\n",
              "      fill: #FFFFFF;\n",
              "    }\n",
              "  </style>\n",
              "\n",
              "      <script>\n",
              "        const buttonEl =\n",
              "          document.querySelector('#df-dd462863-0dd4-4ad3-82cb-f030be35dc6a button.colab-df-convert');\n",
              "        buttonEl.style.display =\n",
              "          google.colab.kernel.accessAllowed ? 'block' : 'none';\n",
              "\n",
              "        async function convertToInteractive(key) {\n",
              "          const element = document.querySelector('#df-dd462863-0dd4-4ad3-82cb-f030be35dc6a');\n",
              "          const dataTable =\n",
              "            await google.colab.kernel.invokeFunction('convertToInteractive',\n",
              "                                                     [key], {});\n",
              "          if (!dataTable) return;\n",
              "\n",
              "          const docLinkHtml = 'Like what you see? Visit the ' +\n",
              "            '<a target=\"_blank\" href=https://colab.research.google.com/notebooks/data_table.ipynb>data table notebook</a>'\n",
              "            + ' to learn more about interactive tables.';\n",
              "          element.innerHTML = '';\n",
              "          dataTable['output_type'] = 'display_data';\n",
              "          await google.colab.output.renderOutput(dataTable, element);\n",
              "          const docLink = document.createElement('div');\n",
              "          docLink.innerHTML = docLinkHtml;\n",
              "          element.appendChild(docLink);\n",
              "        }\n",
              "      </script>\n",
              "    </div>\n",
              "  </div>\n",
              "  "
            ],
            "text/plain": [
              "       reviewerID        asin  ... unixReviewTime   reviewTime\n",
              "0    AIXZKN4ACSKI  1881509818  ...     1390694400  01 26, 2014\n",
              "1  A1L5P841VIO02V  1881509818  ...     1328140800   02 2, 2012\n",
              "2   AB2W04NI4OEAD  1881509818  ...     1330387200  02 28, 2012\n",
              "3  A148SVSWKTJKU6  1881509818  ...     1328400000   02 5, 2012\n",
              "4   AAAWJ6LW9WMOO  1881509818  ...     1366675200  04 23, 2013\n",
              "\n",
              "[5 rows x 9 columns]"
            ]
          },
          "metadata": {},
          "execution_count": 9
        }
      ],
      "source": [
        "df = pd.read_json(\"reviews_Sports_and_Outdoors_5.json\", lines= True)\n",
        "df.head()"
      ]
    },
    {
      "cell_type": "code",
      "execution_count": 10,
      "metadata": {
        "colab": {
          "base_uri": "https://localhost:8080/"
        },
        "id": "rCKCBaX-w5MN",
        "outputId": "1ecb7287-5de4-47a2-c515-291b0cfc2d2c"
      },
      "outputs": [
        {
          "output_type": "execute_result",
          "data": {
            "text/plain": [
              "(296337, 9)"
            ]
          },
          "metadata": {},
          "execution_count": 10
        }
      ],
      "source": [
        "df.shape"
      ]
    },
    {
      "cell_type": "code",
      "execution_count": 11,
      "metadata": {
        "colab": {
          "base_uri": "https://localhost:8080/",
          "height": 35
        },
        "id": "vyBxBlpxw5Mk",
        "outputId": "94cde647-8c7f-4090-b9ed-4e9b85733a9d"
      },
      "outputs": [
        {
          "output_type": "execute_result",
          "data": {
            "application/vnd.google.colaboratory.intrinsic+json": {
              "type": "string"
            },
            "text/plain": [
              "'This came in on time and I am veru happy with it, I haved used it already and it makes taking out the pins in my glock 32 very easy'"
            ]
          },
          "metadata": {},
          "execution_count": 11
        }
      ],
      "source": [
        "# column of interest\n",
        "df.reviewText[0]"
      ]
    },
    {
      "cell_type": "markdown",
      "metadata": {
        "id": "f6OJQPNIw5Mo"
      },
      "source": [
        "# Preprocessing"
      ]
    },
    {
      "cell_type": "code",
      "execution_count": 12,
      "metadata": {
        "colab": {
          "base_uri": "https://localhost:8080/"
        },
        "id": "sskQ-dh3w5Mr",
        "outputId": "01814b0e-6f59-4520-bd26-070c5aea89ba"
      },
      "outputs": [
        {
          "output_type": "execute_result",
          "data": {
            "text/plain": [
              "0         [this, came, in, on, time, and, am, veru, happ...\n",
              "1         [had, factory, glock, tool, that, was, using, ...\n",
              "2         [if, you, don, have, punch, or, would, like, t...\n",
              "3         [this, works, no, better, than, any, punch, yo...\n",
              "4         [purchased, this, thinking, maybe, need, speci...\n",
              "                                ...                        \n",
              "296332    [this, is, water, bottle, done, right, it, is,...\n",
              "296333    [if, you, re, looking, for, an, insulated, wat...\n",
              "296334    [this, hydracentials, sporty, oz, double, insu...\n",
              "296335    [as, usual, received, this, item, free, in, ex...\n",
              "296336    [hydracentials, insulated, oz, water, bottle, ...\n",
              "Name: reviewText, Length: 296337, dtype: object"
            ]
          },
          "metadata": {},
          "execution_count": 12
        }
      ],
      "source": [
        "# using entire column\n",
        "review_text = df.reviewText.apply(gensim.utils.simple_preprocess)\n",
        "review_text"
      ]
    },
    {
      "cell_type": "code",
      "source": [
        "review_text.loc[0]"
      ],
      "metadata": {
        "colab": {
          "base_uri": "https://localhost:8080/"
        },
        "id": "uHfK07KazcGm",
        "outputId": "92dbc103-ed9c-4398-9e27-58f1177ec0bf"
      },
      "execution_count": 19,
      "outputs": [
        {
          "output_type": "execute_result",
          "data": {
            "text/plain": [
              "['this',\n",
              " 'came',\n",
              " 'in',\n",
              " 'on',\n",
              " 'time',\n",
              " 'and',\n",
              " 'am',\n",
              " 'veru',\n",
              " 'happy',\n",
              " 'with',\n",
              " 'it',\n",
              " 'haved',\n",
              " 'used',\n",
              " 'it',\n",
              " 'already',\n",
              " 'and',\n",
              " 'it',\n",
              " 'makes',\n",
              " 'taking',\n",
              " 'out',\n",
              " 'the',\n",
              " 'pins',\n",
              " 'in',\n",
              " 'my',\n",
              " 'glock',\n",
              " 'very',\n",
              " 'easy']"
            ]
          },
          "metadata": {},
          "execution_count": 19
        }
      ]
    },
    {
      "cell_type": "code",
      "source": [
        "df.reviewText.loc[0]"
      ],
      "metadata": {
        "colab": {
          "base_uri": "https://localhost:8080/",
          "height": 35
        },
        "id": "f5N9_tczzeGg",
        "outputId": "afe61acf-fa67-41a3-bc99-a0dc71fb379e"
      },
      "execution_count": 20,
      "outputs": [
        {
          "output_type": "execute_result",
          "data": {
            "application/vnd.google.colaboratory.intrinsic+json": {
              "type": "string"
            },
            "text/plain": [
              "'This came in on time and I am veru happy with it, I haved used it already and it makes taking out the pins in my glock 32 very easy'"
            ]
          },
          "metadata": {},
          "execution_count": 20
        }
      ]
    },
    {
      "cell_type": "markdown",
      "metadata": {
        "id": "A1BbKDeiw5M6"
      },
      "source": [
        "initialzie model"
      ]
    },
    {
      "cell_type": "code",
      "execution_count": 15,
      "metadata": {
        "id": "QxBuSYhNw5M_"
      },
      "outputs": [],
      "source": [
        "model = gensim.models.Word2Vec(\n",
        "    window= 10,\n",
        "    min_count= 2,\n",
        "    workers= 4\n",
        ")"
      ]
    },
    {
      "cell_type": "code",
      "source": [
        "# build a vocab\n",
        "model.build_vocab(review_text, progress_per= 1000)"
      ],
      "metadata": {
        "id": "EJgkb1LAywLj"
      },
      "execution_count": 16,
      "outputs": []
    },
    {
      "cell_type": "code",
      "source": [
        "# view model\n",
        "model.epochs"
      ],
      "metadata": {
        "colab": {
          "base_uri": "https://localhost:8080/"
        },
        "id": "Mc8BYdIUzDFO",
        "outputId": "f25b48ce-70e0-45a5-d614-81e61117a21e"
      },
      "execution_count": 17,
      "outputs": [
        {
          "output_type": "execute_result",
          "data": {
            "text/plain": [
              "5"
            ]
          },
          "metadata": {},
          "execution_count": 17
        }
      ]
    },
    {
      "cell_type": "code",
      "source": [
        "model.corpus_count"
      ],
      "metadata": {
        "colab": {
          "base_uri": "https://localhost:8080/"
        },
        "id": "xtFGH3w7zFWr",
        "outputId": "07324078-be12-4f21-c33d-16d52facdd60"
      },
      "execution_count": 18,
      "outputs": [
        {
          "output_type": "execute_result",
          "data": {
            "text/plain": [
              "296337"
            ]
          },
          "metadata": {},
          "execution_count": 18
        }
      ]
    },
    {
      "cell_type": "code",
      "source": [
        "# model trainning\n",
        "model.train(review_text, total_examples= model.corpus_count, epochs= model.epochs)"
      ],
      "metadata": {
        "colab": {
          "base_uri": "https://localhost:8080/"
        },
        "id": "WMM4QxKnzHhZ",
        "outputId": "9530dde5-cbbc-4241-a0bc-472e2bcc8847"
      },
      "execution_count": 21,
      "outputs": [
        {
          "output_type": "execute_result",
          "data": {
            "text/plain": [
              "(91342680, 121496535)"
            ]
          },
          "metadata": {},
          "execution_count": 21
        }
      ]
    },
    {
      "cell_type": "markdown",
      "source": [
        "Finding Similar Words "
      ],
      "metadata": {
        "id": "ObfWjRmgzrFv"
      }
    },
    {
      "cell_type": "code",
      "source": [
        "model.wv.most_similar(\"aweful\")"
      ],
      "metadata": {
        "colab": {
          "base_uri": "https://localhost:8080/"
        },
        "id": "kIa-bRRgzi0s",
        "outputId": "8801d00b-8f63-47eb-bf88-24d40460a9c5"
      },
      "execution_count": 22,
      "outputs": [
        {
          "output_type": "execute_result",
          "data": {
            "text/plain": [
              "[('bribe', 0.564795970916748),\n",
              " ('acquaintance', 0.5545721650123596),\n",
              " ('airtap', 0.5540353655815125),\n",
              " ('overpowering', 0.5540350675582886),\n",
              " ('disgusting', 0.5496974587440491),\n",
              " ('lof', 0.548183798789978),\n",
              " ('uninterested', 0.5457745790481567),\n",
              " ('shortbread', 0.545236349105835),\n",
              " ('aardvark', 0.5380223989486694),\n",
              " ('walgreens', 0.5350009202957153)]"
            ]
          },
          "metadata": {},
          "execution_count": 22
        }
      ]
    },
    {
      "cell_type": "markdown",
      "source": [
        "Similarity between words"
      ],
      "metadata": {
        "id": "qCt07LfHz5lF"
      }
    },
    {
      "cell_type": "code",
      "source": [
        "model.wv.similarity(w1= \"good\", w2= \"great\")"
      ],
      "metadata": {
        "colab": {
          "base_uri": "https://localhost:8080/"
        },
        "id": "uWjIK-95z5FV",
        "outputId": "3568791a-e8de-43d0-8487-134e3c3a18fa"
      },
      "execution_count": 23,
      "outputs": [
        {
          "output_type": "execute_result",
          "data": {
            "text/plain": [
              "0.7821334"
            ]
          },
          "metadata": {},
          "execution_count": 23
        }
      ]
    },
    {
      "cell_type": "code",
      "source": [
        "model.wv.similarity(w1= \"slow\", w2= \"steady\")"
      ],
      "metadata": {
        "colab": {
          "base_uri": "https://localhost:8080/"
        },
        "id": "inGZVJ-U0DUn",
        "outputId": "704f3bc0-7129-4f76-dd61-a40771b5aec4"
      },
      "execution_count": 24,
      "outputs": [
        {
          "output_type": "execute_result",
          "data": {
            "text/plain": [
              "0.3505802"
            ]
          },
          "metadata": {},
          "execution_count": 24
        }
      ]
    },
    {
      "cell_type": "code",
      "source": [
        ""
      ],
      "metadata": {
        "id": "VGuZnSqX0ItY"
      },
      "execution_count": null,
      "outputs": []
    }
  ],
  "metadata": {
    "interpreter": {
      "hash": "4d8c8916ab2ab8fd53895c4da141a226694a3b962f94eaf34025dc652c423bf6"
    },
    "kernelspec": {
      "display_name": "Python 3.9.7 ('base')",
      "language": "python",
      "name": "python3"
    },
    "language_info": {
      "codemirror_mode": {
        "name": "ipython",
        "version": 3
      },
      "file_extension": ".py",
      "mimetype": "text/x-python",
      "name": "python",
      "nbconvert_exporter": "python",
      "pygments_lexer": "ipython3",
      "version": "3.9.7"
    },
    "orig_nbformat": 4,
    "colab": {
      "name": "Deep_Learning_Tutorial_18(Word2Vec_Part_2_Implement_word2vec_in_gensim_)-Exercise.ipynb",
      "provenance": [],
      "collapsed_sections": []
    }
  },
  "nbformat": 4,
  "nbformat_minor": 0
}