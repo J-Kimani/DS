{
  "cells": [
    {
      "cell_type": "markdown",
      "metadata": {
        "id": "X3WsERo0K7bJ"
      },
      "source": [
        "It is important to make optimal use of your hardware resources (CPU and GPU) while training a deep learning model. You can  use tf.data.Dataset.prefetch(AUTOTUNE) and tf.data.Dataset.cache() methods for this purpose."
      ]
    },
    {
      "cell_type": "code",
      "execution_count": 1,
      "metadata": {
        "id": "wJ8LCvg2K7h8"
      },
      "outputs": [],
      "source": [
        "import tensorflow as tf\n",
        "import time"
      ]
    },
    {
      "cell_type": "code",
      "execution_count": 2,
      "metadata": {
        "colab": {
          "base_uri": "https://localhost:8080/",
          "height": 35
        },
        "id": "HCCuIYSUK7oT",
        "outputId": "fbabfb74-687f-439a-83aa-73cc3860f1de"
      },
      "outputs": [
        {
          "output_type": "execute_result",
          "data": {
            "application/vnd.google.colaboratory.intrinsic+json": {
              "type": "string"
            },
            "text/plain": [
              "'2.7.0'"
            ]
          },
          "metadata": {},
          "execution_count": 2
        }
      ],
      "source": [
        "tf.__version__"
      ]
    },
    {
      "cell_type": "markdown",
      "metadata": {
        "id": "0cLM9AC1K7os"
      },
      "source": [
        "# Prefetch"
      ]
    },
    {
      "cell_type": "code",
      "execution_count": 3,
      "metadata": {
        "id": "UxaIqyF-K7o8"
      },
      "outputs": [],
      "source": [
        "class FileDataset(tf.data.Dataset):\n",
        "    # dummy class mimics real life scenario\n",
        "    def read_files_in_batches(num_samples):\n",
        "        # open file\n",
        "        time.sleep(0.03)\n",
        "        for sample_idx in range(num_samples):\n",
        "            time.sleep(0.015)\n",
        "            yield (sample_idx,)\n",
        "\n",
        "    def __new__(cls, num_samples= 3):\n",
        "        # print(\"new called\")\n",
        "        return tf.data.Dataset.from_generator(\n",
        "            cls.read_files_in_batches,\n",
        "            output_signature= tf.TensorSpec(shape= (1,), dtype= tf.int64),\n",
        "            args= (num_samples,)\n",
        "        )\n",
        "        "
      ]
    },
    {
      "cell_type": "code",
      "execution_count": 4,
      "metadata": {
        "id": "6cpCUHoPK7pL"
      },
      "outputs": [],
      "source": [
        "def benchmark(dataset, num_epochs= 2):\n",
        "    for epoch_num in range(num_epochs):\n",
        "        for sample in dataset:\n",
        "            time.sleep(0.01)\n"
      ]
    },
    {
      "cell_type": "code",
      "execution_count": 8,
      "metadata": {
        "colab": {
          "base_uri": "https://localhost:8080/"
        },
        "id": "IWPV-xJYK7pW",
        "outputId": "82bdcd34-81b1-4cb4-afb9-74e94ada4514"
      },
      "outputs": [
        {
          "output_type": "stream",
          "name": "stdout",
          "text": [
            "1 loop, best of 5: 282 ms per loop\n"
          ]
        }
      ],
      "source": [
        "%%timeit\n",
        "benchmark(FileDataset())"
      ]
    },
    {
      "cell_type": "code",
      "execution_count": 6,
      "metadata": {
        "id": "W-ESuHcZK7pb"
      },
      "outputs": [],
      "source": [
        "# obj = FileDataset()"
      ]
    },
    {
      "cell_type": "code",
      "execution_count": 7,
      "metadata": {
        "id": "w6vMVY7LK7qX"
      },
      "outputs": [],
      "source": [
        "import time"
      ]
    },
    {
      "cell_type": "code",
      "execution_count": 9,
      "metadata": {
        "colab": {
          "base_uri": "https://localhost:8080/"
        },
        "id": "jurCB9zSK7qc",
        "outputId": "27ecb6a8-5957-46b9-c352-68a1764bdb65"
      },
      "outputs": [
        {
          "output_type": "stream",
          "name": "stdout",
          "text": [
            "1 loop, best of 5: 241 ms per loop\n"
          ]
        }
      ],
      "source": [
        "%%timeit\n",
        "# use prefetch to improve performance\n",
        "\n",
        "benchmark(FileDataset().prefetch(1))"
      ]
    },
    {
      "cell_type": "code",
      "execution_count": 10,
      "metadata": {
        "colab": {
          "base_uri": "https://localhost:8080/"
        },
        "id": "BkWTnY17K7qu",
        "outputId": "4f9093c7-6e1f-49f5-e447-39ccf80b60dd"
      },
      "outputs": [
        {
          "output_type": "stream",
          "name": "stdout",
          "text": [
            "1 loop, best of 5: 242 ms per loop\n"
          ]
        }
      ],
      "source": [
        "%%timeit\n",
        "\n",
        "# use autotune\n",
        "benchmark(FileDataset().prefetch(tf.data.AUTOTUNE))"
      ]
    },
    {
      "cell_type": "markdown",
      "source": [
        "# Cache"
      ],
      "metadata": {
        "id": "8xG6NUPLL6nq"
      }
    },
    {
      "cell_type": "code",
      "execution_count": 11,
      "metadata": {
        "colab": {
          "base_uri": "https://localhost:8080/"
        },
        "id": "gBRCtK4FK7rN",
        "outputId": "d429de17-bdd1-46ab-b831-935852d17e2b"
      },
      "outputs": [
        {
          "output_type": "stream",
          "name": "stdout",
          "text": [
            "0\n",
            "1\n",
            "2\n",
            "3\n",
            "4\n"
          ]
        }
      ],
      "source": [
        "# create a new dataset\n",
        "dataset = tf.data.Dataset.range(5)\n",
        "for d in dataset:\n",
        "  print(d.numpy())"
      ]
    },
    {
      "cell_type": "code",
      "source": [
        "# square components\n",
        "dataset = dataset.map(lambda x: x**2)\n",
        "for d in dataset:\n",
        "  print(d.numpy())"
      ],
      "metadata": {
        "colab": {
          "base_uri": "https://localhost:8080/"
        },
        "id": "Lkzc4XtaMRFf",
        "outputId": "23741cef-1753-43de-deaf-020538ea2ebe"
      },
      "execution_count": 12,
      "outputs": [
        {
          "output_type": "stream",
          "name": "stdout",
          "text": [
            "0\n",
            "1\n",
            "4\n",
            "9\n",
            "16\n"
          ]
        }
      ]
    },
    {
      "cell_type": "code",
      "source": [
        "dataset = dataset.cache()\n",
        "\n",
        "# for d in dataset.as_numpy_iterator():\n",
        "#   print(d)\n",
        "\n",
        "list(dataset.as_numpy_iterator())"
      ],
      "metadata": {
        "colab": {
          "base_uri": "https://localhost:8080/"
        },
        "id": "nEGdji_3Me7x",
        "outputId": "099b2fb9-8662-4722-b7fc-9a50cc94d602"
      },
      "execution_count": 14,
      "outputs": [
        {
          "output_type": "execute_result",
          "data": {
            "text/plain": [
              "[0, 1, 4, 9, 16]"
            ]
          },
          "metadata": {},
          "execution_count": 14
        }
      ]
    },
    {
      "cell_type": "code",
      "source": [
        "# reading from cache\n",
        "list(dataset.as_numpy_iterator())"
      ],
      "metadata": {
        "colab": {
          "base_uri": "https://localhost:8080/"
        },
        "id": "miX9-js6NDow",
        "outputId": "88d9c32d-4601-4341-b537-f65bcee1c2b7"
      },
      "execution_count": 15,
      "outputs": [
        {
          "output_type": "execute_result",
          "data": {
            "text/plain": [
              "[0, 1, 4, 9, 16]"
            ]
          },
          "metadata": {},
          "execution_count": 15
        }
      ]
    },
    {
      "cell_type": "code",
      "source": [
        "# applying in function\n",
        "def mapped_function(s):\n",
        "  tf.py_function(lambda: time.sleep(0.03), [], ())\n",
        "  return s\n",
        "  \n"
      ],
      "metadata": {
        "id": "nStJvtSTNS0a"
      },
      "execution_count": 20,
      "outputs": []
    },
    {
      "cell_type": "code",
      "source": [
        "%%timeit -n1 -r1\n",
        "\n",
        "benchmark(FileDataset().map(mapped_function), 5)"
      ],
      "metadata": {
        "colab": {
          "base_uri": "https://localhost:8080/"
        },
        "id": "RDZ9kVecNibS",
        "outputId": "e697e518-3134-4eaa-9b9e-955e88e9c7f4"
      },
      "execution_count": 21,
      "outputs": [
        {
          "output_type": "stream",
          "name": "stdout",
          "text": [
            "1 loop, best of 1: 1.2 s per loop\n"
          ]
        }
      ]
    },
    {
      "cell_type": "code",
      "source": [
        "%%timeit -n1 -r1\n",
        "\n",
        "# improve performance with cache\n",
        "\n",
        "benchmark(FileDataset().map(mapped_function).cache(), 5)"
      ],
      "metadata": {
        "colab": {
          "base_uri": "https://localhost:8080/"
        },
        "id": "XlnAk7ShNnb3",
        "outputId": "8a78dd16-98bb-4a20-b134-24ce513810ab"
      },
      "execution_count": 22,
      "outputs": [
        {
          "output_type": "stream",
          "name": "stdout",
          "text": [
            "1 loop, best of 1: 405 ms per loop\n"
          ]
        }
      ]
    },
    {
      "cell_type": "markdown",
      "source": [
        "Further reading https://www.tensorflow.org/guide/data_performance#caching"
      ],
      "metadata": {
        "id": "vuf06SVkOe96"
      }
    },
    {
      "cell_type": "code",
      "source": [
        ""
      ],
      "metadata": {
        "id": "kzDTfdbbOXpM"
      },
      "execution_count": null,
      "outputs": []
    }
  ],
  "metadata": {
    "interpreter": {
      "hash": "4d8c8916ab2ab8fd53895c4da141a226694a3b962f94eaf34025dc652c423bf6"
    },
    "kernelspec": {
      "display_name": "Python 3.9.7 64-bit ('base': conda)",
      "language": "python",
      "name": "python3"
    },
    "language_info": {
      "codemirror_mode": {
        "name": "ipython",
        "version": 3
      },
      "file_extension": ".py",
      "mimetype": "text/x-python",
      "name": "python",
      "nbconvert_exporter": "python",
      "pygments_lexer": "ipython3",
      "version": "3.9.7"
    },
    "orig_nbformat": 4,
    "colab": {
      "name": "Deep Learning Tutorial 21(Optimize Tensorflow Pipeline Performance prefetch and cache).ipynb",
      "provenance": []
    },
    "accelerator": "GPU"
  },
  "nbformat": 4,
  "nbformat_minor": 0
}