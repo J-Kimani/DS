{
 "cells": [
  {
   "cell_type": "markdown",
   "metadata": {
    "id": "XNeVqTy7rcBx"
   },
   "source": [
    " we will do small image classification using CIFAR10 dataset in tensorflow. We will use convolutional neural network for this image classification problem. First we will train a model using simple artificial neural network and then check how the performance looks like and then we will train a CNN and see how the model accuracy improves. This tutorial will help you understand why CNN is preferred over ANN for image classification. \n"
   ]
  },
  {
   "cell_type": "code",
   "execution_count": 1,
   "metadata": {
    "id": "LhM_MPhGrGQg"
   },
   "outputs": [],
   "source": [
    "import tensorflow as tf\n",
    "from tensorflow.keras import datasets, layers, models\n",
    "import matplotlib.pyplot as plt\n",
    "import numpy as np\n"
   ]
  },
  {
   "cell_type": "code",
   "execution_count": 2,
   "metadata": {
    "colab": {
     "base_uri": "https://localhost:8080/"
    },
    "id": "FEu6ahenrkBX",
    "outputId": "58d4d5ad-b8a7-4d16-9ec6-6bee8cbdad13"
   },
   "outputs": [
    {
     "name": "stdout",
     "output_type": "stream",
     "text": [
      "Downloading data from https://www.cs.toronto.edu/~kriz/cifar-10-python.tar.gz\n",
      "170500096/170498071 [==============================] - 2s 0us/step\n",
      "170508288/170498071 [==============================] - 2s 0us/step\n"
     ]
    },
    {
     "data": {
      "text/plain": [
       "(50000, 32, 32, 3)"
      ]
     },
     "execution_count": 2,
     "metadata": {},
     "output_type": "execute_result"
    }
   ],
   "source": [
    "(X_train, y_train), (X_test,y_test) = datasets.cifar10.load_data()\n",
    "X_train.shape"
   ]
  },
  {
   "cell_type": "code",
   "execution_count": 3,
   "metadata": {
    "colab": {
     "base_uri": "https://localhost:8080/"
    },
    "id": "TR5hB3i_rxRH",
    "outputId": "54229934-f231-41eb-c42e-928e7ca4cf04"
   },
   "outputs": [
    {
     "data": {
      "text/plain": [
       "(10000, 32, 32, 3)"
      ]
     },
     "execution_count": 3,
     "metadata": {},
     "output_type": "execute_result"
    }
   ],
   "source": [
    "X_test.shape"
   ]
  },
  {
   "cell_type": "markdown",
   "metadata": {
    "id": "UYrHfj_Irppv"
   },
   "source": [
    "training samples are 32*32 image_name\n",
    "\n",
    "we see there are 50000 training images and 1000 test images"
   ]
  },
  {
   "cell_type": "code",
   "execution_count": 9,
   "metadata": {
    "colab": {
     "base_uri": "https://localhost:8080/"
    },
    "id": "pBOUurobtGTv",
    "outputId": "dbfc63ee-ef9c-4395-d892-fae43685e258"
   },
   "outputs": [
    {
     "data": {
      "text/plain": [
       "(50000, 1)"
      ]
     },
     "execution_count": 9,
     "metadata": {},
     "output_type": "execute_result"
    }
   ],
   "source": [
    "y_train.shape"
   ]
  },
  {
   "cell_type": "code",
   "execution_count": 10,
   "metadata": {
    "colab": {
     "base_uri": "https://localhost:8080/"
    },
    "id": "BRZ2_5LXtJZy",
    "outputId": "01ecf1c9-0c2b-4063-c9f7-ea14a5d5ca17"
   },
   "outputs": [
    {
     "data": {
      "text/plain": [
       "array([[6],\n",
       "       [9],\n",
       "       [9],\n",
       "       [4],\n",
       "       [1]], dtype=uint8)"
      ]
     },
     "execution_count": 10,
     "metadata": {},
     "output_type": "execute_result"
    }
   ],
   "source": [
    "y_train[:5]"
   ]
  },
  {
   "cell_type": "markdown",
   "metadata": {
    "id": "cgP0n4LMtX4j"
   },
   "source": [
    "y_train is a 2D array, for our classification having 1D array is good enough. so we will convert this to now 1D array\n"
   ]
  },
  {
   "cell_type": "code",
   "execution_count": 13,
   "metadata": {
    "colab": {
     "base_uri": "https://localhost:8080/"
    },
    "id": "9QS72MLwtbHM",
    "outputId": "7d612c86-4564-4a1c-fbe1-6fad55b0588b"
   },
   "outputs": [
    {
     "data": {
      "text/plain": [
       "array([6, 9, 9, 4, 1], dtype=uint8)"
      ]
     },
     "execution_count": 13,
     "metadata": {},
     "output_type": "execute_result"
    }
   ],
   "source": [
    "y_train = y_train.reshape(-1)\n",
    "y_train[:5]\n",
    "# now a one dimensional array"
   ]
  },
  {
   "cell_type": "code",
   "execution_count": 8,
   "metadata": {
    "id": "Zp7B-QEos8Bb"
   },
   "outputs": [],
   "source": [
    "classes = [\"airplane\", \"automobile\", \"bird\", \"cat\", \"deer\", \"dog\", \"frog\", \"horse\", \"ship\", \"truck\"]\n"
   ]
  },
  {
   "cell_type": "code",
   "execution_count": 15,
   "metadata": {
    "colab": {
     "base_uri": "https://localhost:8080/",
     "height": 35
    },
    "id": "h_4nDFYqtXQE",
    "outputId": "7353647e-b159-42cf-9a5f-2916f9a353fb"
   },
   "outputs": [
    {
     "data": {
      "application/vnd.google.colaboratory.intrinsic+json": {
       "type": "string"
      },
      "text/plain": [
       "'automobile'"
      ]
     },
     "execution_count": 15,
     "metadata": {},
     "output_type": "execute_result"
    }
   ],
   "source": [
    "classes[1]"
   ]
  },
  {
   "cell_type": "code",
   "execution_count": 16,
   "metadata": {
    "id": "TzksnHjTr2ST"
   },
   "outputs": [],
   "source": [
    "# draw all image with functions\n",
    "def plot_sample(X, y, index):\n",
    "  plt.figure(figsize= (15,2))\n",
    "  plt.imshow(X[index])\n",
    "  plt.xlabel(classes[y[index]])\n"
   ]
  },
  {
   "cell_type": "code",
   "execution_count": 18,
   "metadata": {
    "colab": {
     "base_uri": "https://localhost:8080/",
     "height": 173
    },
    "id": "WZTwFbPFsDCl",
    "outputId": "5422668c-28ce-4792-a0f5-66ec03f7c6c0"
   },
   "outputs": [
    {
     "data": {
      "image/png": "[encoded data removed]",
      "text/plain": [
       "<Figure size 1080x144 with 1 Axes>"
      ]
     },
     "metadata": {
      "needs_background": "light"
     },
     "output_type": "display_data"
    }
   ],
   "source": [
    "plot_sample(X_train, y_train, 0)"
   ]
  },
  {
   "cell_type": "code",
   "execution_count": 20,
   "metadata": {
    "colab": {
     "base_uri": "https://localhost:8080/",
     "height": 173
    },
    "id": "z426eJ-HuldT",
    "outputId": "1f04c66b-8ee9-4378-9e01-3e95c0e6e565"
   },
   "outputs": [
    {
     "data": {
      "image/png": "[encoded data removed]",
      "text/plain": [
       "<Figure size 1080x144 with 1 Axes>"
      ]
     },
     "metadata": {
      "needs_background": "light"
     },
     "output_type": "display_data"
    }
   ],
   "source": [
    "plot_sample(X_train, y_train, 1)"
   ]
  },
  {
   "cell_type": "code",
   "execution_count": 21,
   "metadata": {
    "colab": {
     "base_uri": "https://localhost:8080/",
     "height": 173
    },
    "id": "otE-xglSul4n",
    "outputId": "e5ac8b5a-92f0-4fbc-cabb-b5593e2afe49"
   },
   "outputs": [
    {
     "data": {
      "image/png": "[encoded data removed]",
      "text/plain": [
       "<Figure size 1080x144 with 1 Axes>"
      ]
     },
     "metadata": {
      "needs_background": "light"
     },
     "output_type": "display_data"
    }
   ],
   "source": [
    "plot_sample(X_train, y_train, 2)"
   ]
  },
  {
   "cell_type": "code",
   "execution_count": 22,
   "metadata": {
    "colab": {
     "base_uri": "https://localhost:8080/",
     "height": 173
    },
    "id": "7Yj848ktushT",
    "outputId": "e5b3799d-4a3d-457e-b8f7-ef412b371c75"
   },
   "outputs": [
    {
     "data": {
      "image/png": "[encoded data removed]",
      "text/plain": [
       "<Figure size 1080x144 with 1 Axes>"
      ]
     },
     "metadata": {
      "needs_background": "light"
     },
     "output_type": "display_data"
    }
   ],
   "source": [
    "plot_sample(X_train, y_train, 3)"
   ]
  },
  {
   "cell_type": "markdown",
   "metadata": {
    "id": "qjkT2r1Puvcm"
   },
   "source": [
    "# normalize our data(scaling)"
   ]
  },
  {
   "cell_type": "code",
   "execution_count": 25,
   "metadata": {
    "id": "EJa7eggjuts_"
   },
   "outputs": [],
   "source": [
    "# divide each pixel value by 255 normalize in 0-1 range\n",
    "X_train = X_train/255\n",
    "X_test = X_test/255"
   ]
  },
  {
   "cell_type": "markdown",
   "metadata": {
    "id": "gaOzvwPovRy4"
   },
   "source": [
    "# build ANN first and see perfomance"
   ]
  },
  {
   "cell_type": "code",
   "execution_count": 29,
   "metadata": {
    "colab": {
     "base_uri": "https://localhost:8080/"
    },
    "id": "5GEw6mekvIfH",
    "outputId": "829ea039-d2ba-4ee2-c3e5-64b559cc66bb"
   },
   "outputs": [
    {
     "name": "stdout",
     "output_type": "stream",
     "text": [
      "Epoch 1/5\n",
      "1563/1563 [==============================] - 102s 65ms/step - loss: 1.8133 - accuracy: 0.3554\n",
      "Epoch 2/5\n",
      "1563/1563 [==============================] - 102s 65ms/step - loss: 1.6246 - accuracy: 0.4275\n",
      "Epoch 3/5\n",
      "1563/1563 [==============================] - 101s 65ms/step - loss: 1.5413 - accuracy: 0.4568\n",
      "Epoch 4/5\n",
      "1563/1563 [==============================] - 102s 65ms/step - loss: 1.4828 - accuracy: 0.4774\n",
      "Epoch 5/5\n",
      "1563/1563 [==============================] - 103s 66ms/step - loss: 1.4303 - accuracy: 0.4960\n"
     ]
    },
    {
     "data": {
      "text/plain": [
       "<keras.callbacks.History at 0x7f7bb8eb42d0>"
      ]
     },
     "execution_count": 29,
     "metadata": {},
     "output_type": "execute_result"
    }
   ],
   "source": [
    "ann = models.Sequential([\n",
    "                         layers.Flatten(input_shape= (32,32,3)),\n",
    "                         layers.Dense(3000, activation= 'relu'),\n",
    "                         layers.Dense(1000, activation= 'relu'),\n",
    "                         layers.Dense(10, activation= 'sigmoid')\n",
    "])\n",
    "\n",
    "ann.compile(optimizer= 'SGD',\n",
    "           loss= 'sparse_categorical_crossentropy',\n",
    "           metrics= ['accuracy'])\n",
    "\n",
    "ann.fit(X_train, y_train, epochs= 5)"
   ]
  },
  {
   "cell_type": "markdown",
   "metadata": {
    "id": "XI1SXfVe1W-k"
   },
   "source": [
    "low accuracy of 49.6% on training set with 5 epochs"
   ]
  },
  {
   "cell_type": "code",
   "execution_count": 30,
   "metadata": {
    "colab": {
     "base_uri": "https://localhost:8080/"
    },
    "id": "-o0EM-US1CNH",
    "outputId": "c17776c4-19dd-42b7-bc5b-502baad2540e"
   },
   "outputs": [
    {
     "name": "stdout",
     "output_type": "stream",
     "text": [
      "313/313 [==============================] - 8s 25ms/step - loss: 1.4537 - accuracy: 0.4832\n"
     ]
    },
    {
     "data": {
      "text/plain": [
       "[1.4536852836608887, 0.4832000136375427]"
      ]
     },
     "execution_count": 30,
     "metadata": {},
     "output_type": "execute_result"
    }
   ],
   "source": [
    "ann.evaluate(X_test, y_test)"
   ]
  },
  {
   "cell_type": "markdown",
   "metadata": {
    "id": "iJa8T3w51mW4"
   },
   "source": [
    "low accuracy of 48.32% on test set"
   ]
  },
  {
   "cell_type": "code",
   "execution_count": 32,
   "metadata": {
    "colab": {
     "base_uri": "https://localhost:8080/"
    },
    "id": "mcW6TYlN1fUB",
    "outputId": "8c8441f3-6c9a-446a-f895-ee95e4d62d34"
   },
   "outputs": [
    {
     "name": "stdout",
     "output_type": "stream",
     "text": [
      "Classification Report: \n",
      "               precision    recall  f1-score   support\n",
      "\n",
      "           0       0.60      0.46      0.52      1000\n",
      "           1       0.69      0.50      0.58      1000\n",
      "           2       0.39      0.33      0.36      1000\n",
      "           3       0.33      0.39      0.36      1000\n",
      "           4       0.44      0.46      0.45      1000\n",
      "           5       0.36      0.47      0.41      1000\n",
      "           6       0.64      0.38      0.48      1000\n",
      "           7       0.61      0.51      0.55      1000\n",
      "           8       0.48      0.75      0.58      1000\n",
      "           9       0.53      0.58      0.56      1000\n",
      "\n",
      "    accuracy                           0.48     10000\n",
      "   macro avg       0.51      0.48      0.48     10000\n",
      "weighted avg       0.51      0.48      0.48     10000\n",
      "\n"
     ]
    }
   ],
   "source": [
    "# classification report\n",
    "from sklearn.metrics import confusion_matrix, classification_report\n",
    "import numpy as np\n",
    "y_pred = ann.predict(X_test)\n",
    "y_pred_classes = [np.argmax(element) for element in y_pred]\n",
    "\n",
    "print(\"Classification Report: \\n\", classification_report(y_test, y_pred_classes))"
   ]
  },
  {
   "cell_type": "markdown",
   "metadata": {
    "id": "TnHUywN63GZV"
   },
   "source": [
    "# Now let us build a convolutional neural network to train our images"
   ]
  },
  {
   "cell_type": "markdown",
   "metadata": {
    "id": "M99LfAM13Kny"
   },
   "source": [
    "infront of our current dense network, add some convolution and pooling layers\n"
   ]
  },
  {
   "cell_type": "code",
   "execution_count": 33,
   "metadata": {
    "id": "xg_MQwpb2d8p"
   },
   "outputs": [],
   "source": [
    "cnn = models.Sequential([\n",
    "                         #cnn layer 1\n",
    "                         layers.Conv2D(filters= 32, kernel_size= (3,3), activation= 'relu', input_shape= (32, 32, 3) ), #convoltion is detecting the features, filters detect 32 different features using 3*3 filter\n",
    "                         layers.MaxPooling2D(2,2),\n",
    "\n",
    "                         #cnn layer 2\n",
    "                         layers.Conv2D(filters= 64, kernel_size= (3,3), activation= 'relu', input_shape= (32, 32, 3) ), \n",
    "                         layers.MaxPooling2D(2,2),\n",
    "\n",
    "\n",
    "                         #dense\n",
    "                         layers.Flatten(),#no ned for shape as network will figure out\n",
    "                         layers.Dense(64, activation= 'relu'),#use one dense nnetwork, cnn does most of the work\n",
    "                         layers.Dense(10, activation= 'softmax')#softmax normalizes probabilities \n",
    "])"
   ]
  },
  {
   "cell_type": "markdown",
   "metadata": {
    "id": "0m48vUGm4jVP"
   },
   "source": [
    "sigmoid ouput of probabilites\n",
    "\n",
    "1:0.45\n",
    "\n",
    "2:0.67\n",
    "\n",
    "sum not necesarilly one\n",
    "\n",
    "softmax\n",
    "\n",
    "1: (0.45) / (0.45+0.67)\n",
    "2: (0.67) /(0.45+0.67)\n",
    "\n",
    "sum is one"
   ]
  },
  {
   "cell_type": "code",
   "execution_count": 35,
   "metadata": {
    "id": "mi1lHnR57QPH"
   },
   "outputs": [],
   "source": [
    "cnn.compile(optimizer= 'adam',\n",
    "            loss= 'sparse_categorical_crossentropy',\n",
    "            metrics= ['accuracy'])"
   ]
  },
  {
   "cell_type": "code",
   "execution_count": 36,
   "metadata": {
    "colab": {
     "base_uri": "https://localhost:8080/"
    },
    "id": "dUZGxaXJ7fHD",
    "outputId": "ac5a5aaa-e553-4920-bcdf-2ada304009ac"
   },
   "outputs": [
    {
     "name": "stdout",
     "output_type": "stream",
     "text": [
      "Epoch 1/10\n",
      "1563/1563 [==============================] - 61s 39ms/step - loss: 1.4304 - accuracy: 0.4891\n",
      "Epoch 2/10\n",
      "1563/1563 [==============================] - 61s 39ms/step - loss: 1.0750 - accuracy: 0.6246\n",
      "Epoch 3/10\n",
      "1563/1563 [==============================] - 61s 39ms/step - loss: 0.9462 - accuracy: 0.6727\n",
      "Epoch 4/10\n",
      "1563/1563 [==============================] - 61s 39ms/step - loss: 0.8594 - accuracy: 0.7037\n",
      "Epoch 5/10\n",
      "1563/1563 [==============================] - 60s 39ms/step - loss: 0.7879 - accuracy: 0.7281\n",
      "Epoch 6/10\n",
      "1563/1563 [==============================] - 60s 39ms/step - loss: 0.7267 - accuracy: 0.7493\n",
      "Epoch 7/10\n",
      "1563/1563 [==============================] - 60s 39ms/step - loss: 0.6759 - accuracy: 0.7663\n",
      "Epoch 8/10\n",
      "1563/1563 [==============================] - 61s 39ms/step - loss: 0.6269 - accuracy: 0.7813\n",
      "Epoch 9/10\n",
      "1563/1563 [==============================] - 61s 39ms/step - loss: 0.5857 - accuracy: 0.7957\n",
      "Epoch 10/10\n",
      "1563/1563 [==============================] - 60s 39ms/step - loss: 0.5446 - accuracy: 0.8098\n"
     ]
    },
    {
     "data": {
      "text/plain": [
       "<keras.callbacks.History at 0x7f7bbf75cf50>"
      ]
     },
     "execution_count": 36,
     "metadata": {},
     "output_type": "execute_result"
    }
   ],
   "source": [
    "cnn.fit(X_train, y_train, epochs= 10)"
   ]
  },
  {
   "cell_type": "markdown",
   "metadata": {
    "id": "xQsEz-Ui7ygZ"
   },
   "source": [
    "With CNN, at the end 5 epochs, accuracy was at around 72.81% which is a significant improvement over ANN(49.6%). CNN's are best for image classification and gives superb accuracy. Also computation is much less compared to simple ANN as maxpooling reduces the image dimensions while still preserving the features"
   ]
  },
  {
   "cell_type": "code",
   "execution_count": 37,
   "metadata": {
    "colab": {
     "base_uri": "https://localhost:8080/"
    },
    "id": "fZO3Cu237nvZ",
    "outputId": "3b5c13f2-1c82-43f2-c60c-d6378094a44d"
   },
   "outputs": [
    {
     "name": "stdout",
     "output_type": "stream",
     "text": [
      "313/313 [==============================] - 4s 12ms/step - loss: 0.9396 - accuracy: 0.7017\n"
     ]
    },
    {
     "data": {
      "text/plain": [
       "[0.9395917057991028, 0.70169997215271]"
      ]
     },
     "execution_count": 37,
     "metadata": {},
     "output_type": "execute_result"
    }
   ],
   "source": [
    "cnn.evaluate(X_test, y_test)"
   ]
  },
  {
   "cell_type": "code",
   "execution_count": 38,
   "metadata": {
    "colab": {
     "base_uri": "https://localhost:8080/"
    },
    "id": "EfWdE2DY8X1f",
    "outputId": "234f18eb-680e-49ee-b9d9-da11cac8de21"
   },
   "outputs": [
    {
     "data": {
      "text/plain": [
       "array([[3],\n",
       "       [8],\n",
       "       [8],\n",
       "       [0],\n",
       "       [6]], dtype=uint8)"
      ]
     },
     "execution_count": 38,
     "metadata": {},
     "output_type": "execute_result"
    }
   ],
   "source": [
    "y_test[:5]"
   ]
  },
  {
   "cell_type": "code",
   "execution_count": 39,
   "metadata": {
    "colab": {
     "base_uri": "https://localhost:8080/",
     "height": 173
    },
    "id": "KWLs60tv74KY",
    "outputId": "625c89e1-7e5e-4ed8-b05b-d70bb54898fb"
   },
   "outputs": [
    {
     "data": {
      "image/png": "[encoded data removed]",
      "text/plain": [
       "<Figure size 1080x144 with 1 Axes>"
      ]
     },
     "metadata": {
      "needs_background": "light"
     },
     "output_type": "display_data"
    }
   ],
   "source": [
    "y_test = y_test.reshape(-1)\n",
    "plot_sample(X_test, y_test, 1)"
   ]
  },
  {
   "cell_type": "code",
   "execution_count": 41,
   "metadata": {
    "colab": {
     "base_uri": "https://localhost:8080/"
    },
    "id": "3xqnbSJd-TZ8",
    "outputId": "0eeecf36-b123-4fa8-897c-455308049fb0"
   },
   "outputs": [
    {
     "data": {
      "text/plain": [
       "array([[5.3766016e-03, 4.4347046e-04, 1.8414607e-03, 9.6348178e-01,\n",
       "        3.1431296e-04, 1.1070883e-02, 5.7744384e-03, 1.8353375e-04,\n",
       "        9.8530157e-03, 1.6604953e-03],\n",
       "       [6.3700834e-04, 2.3796444e-03, 7.8258404e-07, 1.1200927e-06,\n",
       "        6.5091128e-09, 8.5721412e-09, 1.7533841e-06, 2.8152600e-10,\n",
       "        9.9693453e-01, 4.5184639e-05],\n",
       "       [1.4258552e-02, 9.6790031e-02, 2.7885041e-03, 8.0059357e-03,\n",
       "        9.2116336e-04, 1.4607108e-04, 2.3682795e-03, 6.9725368e-04,\n",
       "        8.2693565e-01, 4.7088534e-02],\n",
       "       [5.7481146e-01, 2.3563232e-03, 3.0507226e-02, 4.8032950e-04,\n",
       "        8.0720233e-03, 1.2810728e-05, 1.0134714e-04, 2.6526491e-04,\n",
       "        3.8313109e-01, 2.6219600e-04],\n",
       "       [3.0989108e-07, 4.7426092e-06, 4.8723021e-03, 2.0255169e-02,\n",
       "        9.5612448e-01, 1.4896820e-03, 1.7246369e-02, 1.3925610e-06,\n",
       "        4.3793084e-06, 1.2596960e-06]], dtype=float32)"
      ]
     },
     "execution_count": 41,
     "metadata": {},
     "output_type": "execute_result"
    }
   ],
   "source": [
    "# use model to predict this\n",
    "y_pred = cnn.predict(X_test)\n",
    "y_pred[:5]"
   ]
  },
  {
   "cell_type": "code",
   "execution_count": 44,
   "metadata": {
    "colab": {
     "base_uri": "https://localhost:8080/"
    },
    "id": "hwdJp47Z-iHu",
    "outputId": "1c0ad47b-2031-4e56-da2a-6b5a5f662070"
   },
   "outputs": [
    {
     "data": {
      "text/plain": [
       "1"
      ]
     },
     "execution_count": 44,
     "metadata": {},
     "output_type": "execute_result"
    }
   ],
   "source": [
    "# argmax gives index of max value in an array\n",
    "# eg.\n",
    "np.argmax([5,12,1,2])"
   ]
  },
  {
   "cell_type": "code",
   "execution_count": 45,
   "metadata": {
    "colab": {
     "base_uri": "https://localhost:8080/"
    },
    "id": "N7C-Kz2S-zS3",
    "outputId": "17096a8b-be22-45e6-8efe-3085095bed9c"
   },
   "outputs": [
    {
     "data": {
      "text/plain": [
       "3"
      ]
     },
     "execution_count": 45,
     "metadata": {},
     "output_type": "execute_result"
    }
   ],
   "source": [
    "np.argmax(y_pred[0])"
   ]
  },
  {
   "cell_type": "code",
   "execution_count": 46,
   "metadata": {
    "colab": {
     "base_uri": "https://localhost:8080/"
    },
    "id": "JEca68O2_Avm",
    "outputId": "b588f144-703b-4f17-d543-a317078834c9"
   },
   "outputs": [
    {
     "data": {
      "text/plain": [
       "[3, 8, 8, 0, 4]"
      ]
     },
     "execution_count": 46,
     "metadata": {},
     "output_type": "execute_result"
    }
   ],
   "source": [
    "y_classes = [np.argmax(element) for element in y_pred]\n",
    "y_classes[:5]"
   ]
  },
  {
   "cell_type": "code",
   "execution_count": 47,
   "metadata": {
    "colab": {
     "base_uri": "https://localhost:8080/"
    },
    "id": "BeKCsVNB_Yuh",
    "outputId": "2e085dcd-8036-4c65-fb51-93e9333916bd"
   },
   "outputs": [
    {
     "data": {
      "text/plain": [
       "array([3, 8, 8, 0, 6], dtype=uint8)"
      ]
     },
     "execution_count": 47,
     "metadata": {},
     "output_type": "execute_result"
    }
   ],
   "source": [
    "y_test[:5]"
   ]
  },
  {
   "cell_type": "code",
   "execution_count": 52,
   "metadata": {
    "colab": {
     "base_uri": "https://localhost:8080/",
     "height": 173
    },
    "id": "YPDfHrK1_iK6",
    "outputId": "34f6a98d-463c-44a4-8cc3-486c1dab588b"
   },
   "outputs": [
    {
     "data": {
      "image/png": "[encoded data removed]",
      "text/plain": [
       "<Figure size 1080x144 with 1 Axes>"
      ]
     },
     "metadata": {
      "needs_background": "light"
     },
     "output_type": "display_data"
    }
   ],
   "source": [
    "plot_sample(X_test, y_test, 3)"
   ]
  },
  {
   "cell_type": "code",
   "execution_count": 49,
   "metadata": {
    "colab": {
     "base_uri": "https://localhost:8080/"
    },
    "id": "5dN_Yw0s_t3j",
    "outputId": "4e1dbd73-d1c7-48d1-81ac-3221c826828b"
   },
   "outputs": [
    {
     "data": {
      "text/plain": [
       "['airplane',\n",
       " 'automobile',\n",
       " 'bird',\n",
       " 'cat',\n",
       " 'deer',\n",
       " 'dog',\n",
       " 'frog',\n",
       " 'horse',\n",
       " 'ship',\n",
       " 'truck']"
      ]
     },
     "execution_count": 49,
     "metadata": {},
     "output_type": "execute_result"
    }
   ],
   "source": [
    "classes"
   ]
  },
  {
   "cell_type": "code",
   "execution_count": 53,
   "metadata": {
    "colab": {
     "base_uri": "https://localhost:8080/",
     "height": 35
    },
    "id": "XnUM95k9_us3",
    "outputId": "36d958ef-2eec-4c9d-9237-27f7e79039e2"
   },
   "outputs": [
    {
     "data": {
      "application/vnd.google.colaboratory.intrinsic+json": {
       "type": "string"
      },
      "text/plain": [
       "'airplane'"
      ]
     },
     "execution_count": 53,
     "metadata": {},
     "output_type": "execute_result"
    }
   ],
   "source": [
    "classes[y_classes[3]]"
   ]
  },
  {
   "cell_type": "code",
   "execution_count": 54,
   "metadata": {
    "colab": {
     "base_uri": "https://localhost:8080/"
    },
    "id": "3yQMSe4O_zGR",
    "outputId": "a42c8d17-e0ee-4947-ea2d-9e9b86242389"
   },
   "outputs": [
    {
     "name": "stdout",
     "output_type": "stream",
     "text": [
      "Classification Report: \n",
      "               precision    recall  f1-score   support\n",
      "\n",
      "           0       0.75      0.73      0.74      1000\n",
      "           1       0.90      0.71      0.80      1000\n",
      "           2       0.64      0.57      0.60      1000\n",
      "           3       0.52      0.52      0.52      1000\n",
      "           4       0.58      0.76      0.65      1000\n",
      "           5       0.66      0.55      0.60      1000\n",
      "           6       0.80      0.72      0.76      1000\n",
      "           7       0.71      0.79      0.75      1000\n",
      "           8       0.76      0.86      0.81      1000\n",
      "           9       0.76      0.81      0.78      1000\n",
      "\n",
      "    accuracy                           0.70     10000\n",
      "   macro avg       0.71      0.70      0.70     10000\n",
      "weighted avg       0.71      0.70      0.70     10000\n",
      "\n"
     ]
    }
   ],
   "source": [
    "print(\"Classification Report: \\n\", classification_report(y_test, y_classes))"
   ]
  }
 ],
 "metadata": {
  "colab": {
   "collapsed_sections": [],
   "name": "Deep Learning Tutorial 13(Image Classification Using CNN(CIFAR10 Dataset)-complete.ipynb",
   "provenance": [],
   "toc_visible": true
  },
  "kernelspec": {
   "display_name": "Python 3",
   "name": "python3"
  },
  "language_info": {
   "name": "python"
  }
 },
 "nbformat": 4,
 "nbformat_minor": 0
}
