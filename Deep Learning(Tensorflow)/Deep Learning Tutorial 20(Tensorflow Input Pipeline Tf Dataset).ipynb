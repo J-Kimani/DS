{
 "cells": [
  {
   "cell_type": "markdown",
   "metadata": {},
   "source": [
    "Tensorflow tf.Data api allows you to build a data input pipeline. Using this you can handle large dataset for your deep learning training by streaming training samples from hard disk or S3 storage. tf.data.Dataset is the main class in tf.data api.tf pipeline allows not only to stream the data for training but you can peform various transformations easily by writing a single line of code."
   ]
  },
  {
   "cell_type": "markdown",
   "metadata": {},
   "source": [
    "# benefits\n",
    "\n",
    "1. handle huge datasets by streaming  them from disk using batching\n",
    "\n",
    "2. apply transformationds to mae dataset ready for model training\n"
   ]
  },
  {
   "cell_type": "code",
   "execution_count": 1,
   "metadata": {},
   "outputs": [],
   "source": [
    "import tensorflow as tf"
   ]
  },
  {
   "cell_type": "code",
   "execution_count": 2,
   "metadata": {},
   "outputs": [
    {
     "data": {
      "text/plain": [
       "<TensorSliceDataset shapes: (), types: tf.int32>"
      ]
     },
     "execution_count": 2,
     "metadata": {},
     "output_type": "execute_result"
    }
   ],
   "source": [
    "#  create tf dataset\n",
    "# a python list\n",
    "daily_sales_numbers = [21, 22, -108, 31, -1, 32, 34, 31]\n",
    "\n",
    "# tf dataset\n",
    "tf_dataset = tf.data.Dataset.from_tensor_slices(daily_sales_numbers)\n",
    "tf_dataset"
   ]
  },
  {
   "cell_type": "code",
   "execution_count": 3,
   "metadata": {},
   "outputs": [
    {
     "name": "stdout",
     "output_type": "stream",
     "text": [
      "21\n",
      "22\n",
      "-108\n",
      "31\n",
      "-1\n",
      "32\n",
      "34\n",
      "31\n"
     ]
    }
   ],
   "source": [
    "# to view the content\n",
    "for sales in tf_dataset:\n",
    "    print(sales.numpy())\n"
   ]
  },
  {
   "cell_type": "code",
   "execution_count": 4,
   "metadata": {},
   "outputs": [
    {
     "name": "stdout",
     "output_type": "stream",
     "text": [
      "21\n",
      "22\n",
      "-108\n",
      "31\n",
      "-1\n",
      "32\n",
      "34\n",
      "31\n"
     ]
    }
   ],
   "source": [
    "for sales in tf_dataset.as_numpy_iterator():\n",
    "    print(sales)"
   ]
  },
  {
   "cell_type": "code",
   "execution_count": 6,
   "metadata": {},
   "outputs": [
    {
     "name": "stdout",
     "output_type": "stream",
     "text": [
      "21\n",
      "22\n",
      "-108\n"
     ]
    }
   ],
   "source": [
    "#  view first three elments\n",
    "for sales in tf_dataset.take(3):\n",
    "    print(sales.numpy())"
   ]
  },
  {
   "cell_type": "code",
   "execution_count": 8,
   "metadata": {},
   "outputs": [
    {
     "name": "stdout",
     "output_type": "stream",
     "text": [
      "21\n",
      "22\n",
      "31\n",
      "32\n",
      "34\n",
      "31\n"
     ]
    }
   ],
   "source": [
    "# rmoves the negative values(invalid data)\n",
    "tf_dataset = tf_dataset.filter(lambda x: x>0)\n",
    "\n",
    "for sales in tf_dataset.as_numpy_iterator():\n",
    "    print(sales)\n"
   ]
  },
  {
   "cell_type": "code",
   "execution_count": 9,
   "metadata": {},
   "outputs": [
    {
     "name": "stdout",
     "output_type": "stream",
     "text": [
      "2394\n",
      "2508\n",
      "3534\n",
      "3648\n",
      "3876\n",
      "3534\n"
     ]
    }
   ],
   "source": [
    "# convert to local currency\n",
    "tf_dataset = tf_dataset.map(lambda x:x * 114)\n",
    "for sales in tf_dataset.as_numpy_iterator():\n",
    "    print(sales)"
   ]
  },
  {
   "cell_type": "code",
   "execution_count": 11,
   "metadata": {},
   "outputs": [
    {
     "name": "stdout",
     "output_type": "stream",
     "text": [
      "3534\n",
      "3648\n",
      "2394\n",
      "3876\n",
      "3534\n",
      "2508\n"
     ]
    }
   ],
   "source": [
    "# shuffle te elements randomly\n",
    "tf_dataset = tf_dataset.shuffle(3)\n",
    "for sales in tf_dataset.as_numpy_iterator():\n",
    "    print(sales)"
   ]
  },
  {
   "cell_type": "code",
   "execution_count": 13,
   "metadata": {},
   "outputs": [
    {
     "name": "stdout",
     "output_type": "stream",
     "text": [
      "[2508 2394]\n",
      "[3534 3648]\n",
      "[3534 3876]\n"
     ]
    }
   ],
   "source": [
    "# batching\n",
    "for sales_batch in tf_dataset.batch(2):\n",
    "    print(sales_batch.numpy())"
   ]
  },
  {
   "cell_type": "markdown",
   "metadata": {},
   "source": [
    "https://stackoverflow.com/questions/53514495/what-does-batch-repeat-and-shuffle-do-with-tensorflow-da"
   ]
  },
  {
   "cell_type": "code",
   "execution_count": 15,
   "metadata": {},
   "outputs": [
    {
     "name": "stdout",
     "output_type": "stream",
     "text": [
      "[2508 3534]\n",
      "[3648 2394]\n",
      "[3876 3534]\n"
     ]
    }
   ],
   "source": [
    "# do all te aove in one line\n",
    "tf_dataset = tf.data.Dataset.from_tensor_slices(daily_sales_numbers)\n",
    "\n",
    "tf_dataset = tf_dataset.filter(lambda x: x>0).map(lambda y: y*114).shuffle(2).batch(2)\n",
    "\n",
    "for sales in tf_dataset.as_numpy_iterator():\n",
    "    print(sales)\n"
   ]
  },
  {
   "cell_type": "code",
   "execution_count": null,
   "metadata": {},
   "outputs": [],
   "source": []
  },
  {
   "cell_type": "code",
   "execution_count": 17,
   "metadata": {},
   "outputs": [
    {
     "name": "stdout",
     "output_type": "stream",
     "text": [
      "b'images\\\\cat\\\\10 Cat Exercises Your Pet Will Enjoy....jpg'\n",
      "b'images\\\\cat\\\\100 Best Girl Cat Names - Unique and....jpg'\n",
      "b'images\\\\cat\\\\10_000_ Best Cat Photos \\xc2\\xb7 100_ Free....jpeg'\n",
      "b'images\\\\cat\\\\15 ways to keep your indoor cat happy.jpg'\n",
      "b'images\\\\cat\\\\177_330 Cat Sitting Stock Photos....jpg'\n"
     ]
    }
   ],
   "source": [
    "images_ds = tf.data.Dataset.list_files(\"images/*/*\", shuffle= False)\n",
    "\n",
    "# print several file paths\n",
    "for file in images_ds.take(5):\n",
    "    print(file.numpy())\n"
   ]
  },
  {
   "cell_type": "code",
   "execution_count": 21,
   "metadata": {},
   "outputs": [
    {
     "name": "stdout",
     "output_type": "stream",
     "text": [
      "b'images\\\\dog\\\\Friends_ You and Your Dog - HelpGuide.org.jpg'\n",
      "b'images\\\\dog\\\\The dog did not develop symptoms of....jpg'\n",
      "b'images\\\\cat\\\\cat _ Breeds & Facts _ Britannica.jpg'\n"
     ]
    }
   ],
   "source": [
    "# shuffle omages\n",
    "\n",
    "images_ds = images_ds.shuffle(200)\n",
    "\n",
    "for file in images_ds.take(3):\n",
    "    print(file.numpy())"
   ]
  },
  {
   "cell_type": "code",
   "execution_count": 22,
   "metadata": {},
   "outputs": [],
   "source": [
    "# create list for class names\n",
    "class_names = [\"cat\", \"dog\"]"
   ]
  },
  {
   "cell_type": "markdown",
   "metadata": {},
   "source": [
    "# split into train and test  using tensorflow"
   ]
  },
  {
   "cell_type": "code",
   "execution_count": 24,
   "metadata": {},
   "outputs": [
    {
     "data": {
      "text/plain": [
       "80"
      ]
     },
     "execution_count": 24,
     "metadata": {},
     "output_type": "execute_result"
    }
   ],
   "source": [
    "\n",
    "image_count = len(images_ds)\n",
    "image_count"
   ]
  },
  {
   "cell_type": "code",
   "execution_count": 25,
   "metadata": {},
   "outputs": [],
   "source": [
    "train_size = int(image_count * 0.8)\n",
    "\n",
    "# use take and skip to split\n",
    "train_ds = images_ds.take(train_size)\n",
    "test_ds = images_ds.skip(train_size)"
   ]
  },
  {
   "cell_type": "code",
   "execution_count": 26,
   "metadata": {},
   "outputs": [
    {
     "data": {
      "text/plain": [
       "64"
      ]
     },
     "execution_count": 26,
     "metadata": {},
     "output_type": "execute_result"
    }
   ],
   "source": [
    "len(train_ds)"
   ]
  },
  {
   "cell_type": "code",
   "execution_count": 27,
   "metadata": {},
   "outputs": [
    {
     "data": {
      "text/plain": [
       "16"
      ]
     },
     "execution_count": 27,
     "metadata": {},
     "output_type": "execute_result"
    }
   ],
   "source": [
    "len(test_ds)"
   ]
  },
  {
   "cell_type": "code",
   "execution_count": 29,
   "metadata": {},
   "outputs": [
    {
     "data": {
      "text/plain": [
       "'dog'"
      ]
     },
     "execution_count": 29,
     "metadata": {},
     "output_type": "execute_result"
    }
   ],
   "source": [
    "s = 'images\\\\dog\\\\The dog did not develop symptoms of....jpg'\n",
    "s.split(\"\\\\\")[-2]"
   ]
  },
  {
   "cell_type": "code",
   "execution_count": 38,
   "metadata": {},
   "outputs": [],
   "source": [
    "# retrieve label from image path.\n",
    "# the Y part\n",
    "def get_label(file_path):\n",
    "    import os\n",
    "    return tf.strings.split(file_path, os.path.sep)[-2]"
   ]
  },
  {
   "cell_type": "code",
   "execution_count": 41,
   "metadata": {},
   "outputs": [],
   "source": [
    "# the X part\n",
    "def process_image(file_path):\n",
    "    label = get_label(file_path)\n",
    "\n",
    "    img = tf.io.read_file(file_path)  # load the raw data from the file as a string\n",
    "    img = tf.image.decode_jpeg(img)\n",
    "    img = tf.image.resize(img, [128,128])\n",
    "\n",
    "    return img, label"
   ]
  },
  {
   "cell_type": "code",
   "execution_count": 36,
   "metadata": {},
   "outputs": [
    {
     "name": "stdout",
     "output_type": "stream",
     "text": [
      "b'images\\\\cat\\\\cat _ Breeds & Facts _ Britannica.jpg'\n",
      "b'images\\\\cat\\\\10_000_ Best Cat Photos \\xc2\\xb7 100_ Free....jpeg'\n",
      "b'images\\\\dog\\\\Dog Breeds Banned By Home Insurance....jpg'\n",
      "b'images\\\\cat\\\\Feline philosophy_ what humans can....jpg'\n"
     ]
    }
   ],
   "source": [
    "for t in train_ds.take(4):\n",
    "    print(t.numpy())\n"
   ]
  },
  {
   "cell_type": "code",
   "execution_count": 37,
   "metadata": {},
   "outputs": [
    {
     "name": "stdout",
     "output_type": "stream",
     "text": [
      "tf.Tensor(b'dog', shape=(), dtype=string)\n",
      "tf.Tensor(b'dog', shape=(), dtype=string)\n",
      "tf.Tensor(b'dog', shape=(), dtype=string)\n",
      "tf.Tensor(b'dog', shape=(), dtype=string)\n",
      "tf.Tensor(b'cat', shape=(), dtype=string)\n",
      "tf.Tensor(b'dog', shape=(), dtype=string)\n",
      "tf.Tensor(b'dog', shape=(), dtype=string)\n",
      "tf.Tensor(b'dog', shape=(), dtype=string)\n",
      "tf.Tensor(b'cat', shape=(), dtype=string)\n",
      "tf.Tensor(b'cat', shape=(), dtype=string)\n",
      "tf.Tensor(b'cat', shape=(), dtype=string)\n",
      "tf.Tensor(b'dog', shape=(), dtype=string)\n",
      "tf.Tensor(b'cat', shape=(), dtype=string)\n",
      "tf.Tensor(b'dog', shape=(), dtype=string)\n",
      "tf.Tensor(b'cat', shape=(), dtype=string)\n",
      "tf.Tensor(b'dog', shape=(), dtype=string)\n",
      "tf.Tensor(b'cat', shape=(), dtype=string)\n",
      "tf.Tensor(b'cat', shape=(), dtype=string)\n",
      "tf.Tensor(b'dog', shape=(), dtype=string)\n",
      "tf.Tensor(b'dog', shape=(), dtype=string)\n",
      "tf.Tensor(b'cat', shape=(), dtype=string)\n",
      "tf.Tensor(b'cat', shape=(), dtype=string)\n",
      "tf.Tensor(b'dog', shape=(), dtype=string)\n",
      "tf.Tensor(b'cat', shape=(), dtype=string)\n",
      "tf.Tensor(b'dog', shape=(), dtype=string)\n",
      "tf.Tensor(b'cat', shape=(), dtype=string)\n",
      "tf.Tensor(b'cat', shape=(), dtype=string)\n",
      "tf.Tensor(b'dog', shape=(), dtype=string)\n",
      "tf.Tensor(b'cat', shape=(), dtype=string)\n",
      "tf.Tensor(b'dog', shape=(), dtype=string)\n",
      "tf.Tensor(b'cat', shape=(), dtype=string)\n",
      "tf.Tensor(b'dog', shape=(), dtype=string)\n",
      "tf.Tensor(b'dog', shape=(), dtype=string)\n",
      "tf.Tensor(b'cat', shape=(), dtype=string)\n",
      "tf.Tensor(b'cat', shape=(), dtype=string)\n",
      "tf.Tensor(b'cat', shape=(), dtype=string)\n",
      "tf.Tensor(b'cat', shape=(), dtype=string)\n",
      "tf.Tensor(b'cat', shape=(), dtype=string)\n",
      "tf.Tensor(b'cat', shape=(), dtype=string)\n",
      "tf.Tensor(b'cat', shape=(), dtype=string)\n",
      "tf.Tensor(b'dog', shape=(), dtype=string)\n",
      "tf.Tensor(b'cat', shape=(), dtype=string)\n",
      "tf.Tensor(b'cat', shape=(), dtype=string)\n",
      "tf.Tensor(b'dog', shape=(), dtype=string)\n",
      "tf.Tensor(b'cat', shape=(), dtype=string)\n",
      "tf.Tensor(b'cat', shape=(), dtype=string)\n",
      "tf.Tensor(b'dog', shape=(), dtype=string)\n",
      "tf.Tensor(b'cat', shape=(), dtype=string)\n",
      "tf.Tensor(b'dog', shape=(), dtype=string)\n",
      "tf.Tensor(b'dog', shape=(), dtype=string)\n",
      "tf.Tensor(b'dog', shape=(), dtype=string)\n",
      "tf.Tensor(b'cat', shape=(), dtype=string)\n",
      "tf.Tensor(b'dog', shape=(), dtype=string)\n",
      "tf.Tensor(b'dog', shape=(), dtype=string)\n",
      "tf.Tensor(b'dog', shape=(), dtype=string)\n",
      "tf.Tensor(b'dog', shape=(), dtype=string)\n",
      "tf.Tensor(b'cat', shape=(), dtype=string)\n",
      "tf.Tensor(b'dog', shape=(), dtype=string)\n",
      "tf.Tensor(b'cat', shape=(), dtype=string)\n",
      "tf.Tensor(b'dog', shape=(), dtype=string)\n",
      "tf.Tensor(b'dog', shape=(), dtype=string)\n",
      "tf.Tensor(b'cat', shape=(), dtype=string)\n",
      "tf.Tensor(b'cat', shape=(), dtype=string)\n",
      "tf.Tensor(b'cat', shape=(), dtype=string)\n"
     ]
    }
   ],
   "source": [
    "for label in train_ds.map(get_label):\n",
    "    print(label)"
   ]
  },
  {
   "cell_type": "code",
   "execution_count": 44,
   "metadata": {},
   "outputs": [
    {
     "name": "stdout",
     "output_type": "stream",
     "text": [
      "Image:  tf.Tensor(\n",
      "[[[ 91.97302  118.97302  135.97302 ]\n",
      "  [ 95.98718  122.98718  139.98718 ]\n",
      "  [ 98.96875  125.96875  142.96875 ]\n",
      "  ...\n",
      "  [155.97864  150.97864  144.97864 ]\n",
      "  [154.57141  149.57141  143.57141 ]\n",
      "  [154.00427  145.00427  140.00427 ]]\n",
      "\n",
      " [[ 99.440796 126.440796 143.4408  ]\n",
      "  [104.184204 131.1842   148.1842  ]\n",
      "  [106.       133.       150.      ]\n",
      "  ...\n",
      "  [158.       153.       147.      ]\n",
      "  [155.       150.       144.      ]\n",
      "  [156.90625  147.90625  142.90625 ]]\n",
      "\n",
      " [[105.70703  132.70703  149.70703 ]\n",
      "  [110.84375  137.84375  154.84375 ]\n",
      "  [112.84375  139.84375  156.84375 ]\n",
      "  ...\n",
      "  [158.       153.       147.      ]\n",
      "  [157.       152.       146.      ]\n",
      "  [157.84375  148.84375  143.84375 ]]\n",
      "\n",
      " ...\n",
      "\n",
      " [[196.42786  163.42786  156.42786 ]\n",
      "  [197.22034  163.22034  154.22034 ]\n",
      "  [194.57947  155.94666  145.26306 ]\n",
      "  ...\n",
      "  [194.15625  170.15625  160.15625 ]\n",
      "  [197.15625  167.15625  157.15625 ]\n",
      "  [197.86328  159.86328  150.86328 ]]\n",
      "\n",
      " [[200.16187  176.08093  166.32373 ]\n",
      "  [204.       180.       170.      ]\n",
      "  [201.60315  176.77734  167.28125 ]\n",
      "  ...\n",
      "  [199.09375  171.90625  163.      ]\n",
      "  [202.47925  168.36389  159.3086  ]\n",
      "  [198.95703  158.76953  148.58203 ]]\n",
      "\n",
      " [[203.69958  176.69958  169.42615 ]\n",
      "  [207.       182.       175.      ]\n",
      "  [208.03125  183.03125  178.03125 ]\n",
      "  ...\n",
      "  [202.       168.       159.      ]\n",
      "  [203.5586   161.5586   147.5586  ]\n",
      "  [197.13245  147.79651  130.80078 ]]], shape=(128, 128, 3), dtype=float32)\n",
      "Label:  tf.Tensor(b'cat', shape=(), dtype=string)\n",
      "Image:  tf.Tensor(\n",
      "[[[ 79.234375  79.234375  79.234375]\n",
      "  [ 69.64453   69.64453   69.64453 ]\n",
      "  [ 83.34717   83.34717   83.34717 ]\n",
      "  ...\n",
      "  [ 20.4375    28.28125   20.      ]\n",
      "  [ 19.        29.        20.      ]\n",
      "  [ 26.65625   34.65625   23.65625 ]]\n",
      "\n",
      " [[ 68.93164   68.93164   68.93164 ]\n",
      "  [ 69.14795   69.14795   69.14795 ]\n",
      "  [ 73.04346   73.04346   73.04346 ]\n",
      "  ...\n",
      "  [ 20.4375    28.28125   20.      ]\n",
      "  [ 19.        29.        20.      ]\n",
      "  [ 25.3125    33.3125    22.3125  ]]\n",
      "\n",
      " [[ 81.73193   81.73193   81.73193 ]\n",
      "  [ 82.529785  82.529785  82.529785]\n",
      "  [ 56.996582  56.996582  56.996582]\n",
      "  ...\n",
      "  [ 22.15625   30.        21.71875 ]\n",
      "  [ 19.96875   29.96875   20.96875 ]\n",
      "  [ 24.65625   32.65625   21.65625 ]]\n",
      "\n",
      " ...\n",
      "\n",
      " [[180.35693  180.35693  180.35693 ]\n",
      "  [178.69043  178.69043  178.69043 ]\n",
      "  [178.0503   178.0503   178.0503  ]\n",
      "  ...\n",
      "  [186.0122   162.20312  134.04346 ]\n",
      "  [180.18018  155.9917   127.5     ]\n",
      "  [167.62988  138.62988  106.09863 ]]\n",
      "\n",
      " [[176.10791  176.10791  176.10791 ]\n",
      "  [180.01807  180.01807  180.01807 ]\n",
      "  [177.36133  177.36133  177.36133 ]\n",
      "  ...\n",
      "  [169.64062  142.38232  109.765625]\n",
      "  [163.3125   136.21436  102.9375  ]\n",
      "  [165.64062  136.64062  102.640625]]\n",
      "\n",
      " [[173.68652  173.68652  173.68652 ]\n",
      "  [179.95459  179.95459  179.95459 ]\n",
      "  [180.37012  180.37012  180.37012 ]\n",
      "  ...\n",
      "  [164.19824  133.54688   96.640625]\n",
      "  [163.54688  133.54688   96.640625]\n",
      "  [157.20312  127.203125  91.203125]]], shape=(128, 128, 3), dtype=float32)\n",
      "Label:  tf.Tensor(b'dog', shape=(), dtype=string)\n",
      "Image:  tf.Tensor(\n",
      "[[[ 25.734375  33.734375  36.734375]\n",
      "  [ 28.021057  33.021057  37.021057]\n",
      "  [ 23.679749  31.679749  34.67975 ]\n",
      "  ...\n",
      "  [ 33.316406  42.316406  47.316406]\n",
      "  [ 36.395386  45.395386  50.395386]\n",
      "  [ 31.734375  40.734375  45.734375]]\n",
      "\n",
      " [[ 24.974182  32.974182  35.974182]\n",
      "  [ 24.007141  32.00714   35.00714 ]\n",
      "  [ 24.363281  34.36328   36.36328 ]\n",
      "  ...\n",
      "  [ 35.695496  44.695496  49.695496]\n",
      "  [ 35.23828   44.23828   49.23828 ]\n",
      "  [ 32.291443  41.291443  46.291443]]\n",
      "\n",
      " [[ 27.882812  33.058594  37.      ]\n",
      "  [ 26.925964  36.543518  38.73474 ]\n",
      "  [ 26.631592  34.63159   37.63159 ]\n",
      "  ...\n",
      "  [ 37.06311   46.06311   51.06311 ]\n",
      "  [ 37.04669   46.04669   51.04669 ]\n",
      "  [ 38.38269   47.38269   52.38269 ]]\n",
      "\n",
      " ...\n",
      "\n",
      " [[117.691345 136.69135  143.69135 ]\n",
      "  [117.59375  137.59375  144.59375 ]\n",
      "  [115.96063  135.96063  142.96063 ]\n",
      "  ...\n",
      "  [114.19592  134.19592  141.19592 ]\n",
      "  [114.28906  134.28906  141.28906 ]\n",
      "  [113.984436 133.98444  140.98444 ]]\n",
      "\n",
      " [[115.74371  136.70856  141.77887 ]\n",
      "  [115.       135.       142.      ]\n",
      "  [113.74219  133.74219  140.74219 ]\n",
      "  ...\n",
      "  [112.34375  132.34375  139.34375 ]\n",
      "  [116.7337   136.7337   143.7337  ]\n",
      "  [113.       133.       140.      ]]\n",
      "\n",
      " [[116.48047  136.48047  143.48047 ]\n",
      "  [112.02582  133.02582  138.02582 ]\n",
      "  [114.65631  134.65631  141.65631 ]\n",
      "  ...\n",
      "  [114.64844  134.64844  141.64844 ]\n",
      "  [116.189026 136.18903  143.18903 ]\n",
      "  [116.25079  136.2508   143.2508  ]]], shape=(128, 128, 3), dtype=float32)\n",
      "Label:  tf.Tensor(b'dog', shape=(), dtype=string)\n"
     ]
    }
   ],
   "source": [
    "train_ds = train_ds.map(process_image)\n",
    "for img, label in train_ds.take(3):\n",
    "    print(\"Image: \", img)\n",
    "    print(\"Label: \", label)"
   ]
  },
  {
   "cell_type": "code",
   "execution_count": 45,
   "metadata": {},
   "outputs": [],
   "source": [
    "# scalling\n",
    "# use a function\n",
    "def scale(image, label):\n",
    "    return image/255, label\n"
   ]
  },
  {
   "cell_type": "code",
   "execution_count": 47,
   "metadata": {},
   "outputs": [
    {
     "name": "stdout",
     "output_type": "stream",
     "text": [
      "****Image:  [0.9764706  0.98039216 0.9882353 ]\n",
      "****Label:  b'dog'\n",
      "****Image:  [0.51222426 0.5043811  0.4455576 ]\n",
      "****Label:  b'dog'\n",
      "****Image:  [0.6117647  0.64715075 0.68828124]\n",
      "****Label:  b'cat'\n",
      "****Image:  [1. 1. 1.]\n",
      "****Label:  b'cat'\n",
      "****Image:  [0.1137602  0.12586598 0.15382558]\n",
      "****Label:  b'cat'\n"
     ]
    }
   ],
   "source": [
    "train_ds = train_ds.map(scale)\n",
    "\n",
    "for image, label in train_ds.take(5):\n",
    "    print(\"****Image: \", image.numpy()[0][0])\n",
    "    print(\"****Label: \", label.numpy())"
   ]
  },
  {
   "cell_type": "markdown",
   "metadata": {},
   "source": [
    "# Exercise\n"
   ]
  },
  {
   "cell_type": "markdown",
   "metadata": {},
   "source": [
    "Movie reviews are present as individual text file (one file per review) in review folder.\n",
    "\n",
    "Folder structure looks like this,\n",
    "\n",
    "reviews\n",
    "    |__ positive\n",
    "        |__pos_1.txt\n",
    "        |__pos_2.txt\n",
    "        |__pos_3.txt\n",
    "    |__ negative\n",
    "        |__neg_1.txt\n",
    "        |__neg_2.txt\n",
    "        |__neg_3.txt\n",
    "\n",
    "You need to read these reviews using tf.data.Dataset and perform following transformations,\n",
    "\n",
    "1.Read text review and generate a label from folder name. your dataset should have review text and label as a tuple\n",
    "\n",
    "2.Filter blank text review. Two files are blank in this dataset\n",
    "\n",
    "3. Do all of the above transformations in single line of code. Also shuffle all the reviews\n",
    "\n",
    "Solution: https://github.com/codebasics/deep-learning-keras-tf-tutorial/tree/master/44_tf_data_pipeline/Exercise/tf_data_pipeline_exercise_solution.ipynb\n",
    "\n"
   ]
  },
  {
   "cell_type": "code",
   "execution_count": null,
   "metadata": {},
   "outputs": [],
   "source": []
  }
 ],
 "metadata": {
  "interpreter": {
   "hash": "4d8c8916ab2ab8fd53895c4da141a226694a3b962f94eaf34025dc652c423bf6"
  },
  "kernelspec": {
   "display_name": "Python 3.9.7 64-bit ('base': conda)",
   "language": "python",
   "name": "python3"
  },
  "language_info": {
   "codemirror_mode": {
    "name": "ipython",
    "version": 3
   },
   "file_extension": ".py",
   "mimetype": "text/x-python",
   "name": "python",
   "nbconvert_exporter": "python",
   "pygments_lexer": "ipython3",
   "version": "3.9.7"
  },
  "orig_nbformat": 4
 },
 "nbformat": 4,
 "nbformat_minor": 2
}
