{
  "cells": [
    {
      "cell_type": "code",
      "execution_count": null,
      "metadata": {
        "id": "wfNQFpZ40Cq_"
      },
      "outputs": [],
      "source": [
        "import re"
      ]
    },
    {
      "cell_type": "code",
      "execution_count": null,
      "metadata": {
        "colab": {
          "base_uri": "https://localhost:8080/"
        },
        "id": "Mv8tbBkP0CrQ",
        "outputId": "c652eea5-c1da-4a92-c65d-176a1d28f06a"
      },
      "outputs": [
        {
          "output_type": "execute_result",
          "data": {
            "text/plain": [
              "['9991116666', '(999)-333-7777']"
            ]
          },
          "metadata": {},
          "execution_count": 2
        }
      ],
      "source": [
        "text = '''\n",
        "Elon musk's phone number is 9991116666, call him if you have any questions on dodgecoin. Tesla's revenue is 40 billion\n",
        "Tesla's CFO number (999)-333-7777\n",
        "'''\n",
        "\n",
        "pattern = '\\(\\d{3}\\)-\\d{3}-\\d{4}|\\d{10}'\n",
        "\n",
        "matches = re.findall(pattern, text)\n",
        "matches"
      ]
    },
    {
      "cell_type": "code",
      "execution_count": null,
      "metadata": {
        "colab": {
          "base_uri": "https://localhost:8080/"
        },
        "id": "APKN53uk0CrU",
        "outputId": "2ec76690-c74a-407d-9c23-5a700c568d0c"
      },
      "outputs": [
        {
          "output_type": "execute_result",
          "data": {
            "text/plain": [
              "['Overview', 'Summary of Significant Accounting Policies']"
            ]
          },
          "metadata": {},
          "execution_count": 3
        }
      ],
      "source": [
        "text2 = '''\n",
        "Note 1 - Overview\n",
        "Tesla, Inc. (“Tesla”, the “Company”, “we”, “us” or “our”) was incorporated in the State of Delaware on July 1, 2003. We design, develop, manufacture and sell high-performance fully electric vehicles and design, manufacture, install and sell solar energy generation and energy storage\n",
        "products. Our Chief Executive Officer, as the chief operating decision maker (“CODM”), organizes our company, manages resource allocations and measures performance among two operating and reportable segments: (i) automotive and (ii) energy generation and storage.\n",
        "Beginning in the first quarter of 2021, there has been a trend in many parts of the world of increasing availability and administration of vaccines\n",
        "against COVID-19, as well as an easing of restrictions on social, business, travel and government activities and functions. On the other hand, infection\n",
        "rates and regulations continue to fluctuate in various regions and there are ongoing global impacts resulting from the pandemic, including challenges\n",
        "and increases in costs for logistics and supply chains, such as increased port congestion, intermittent supplier delays and a shortfall of semiconductor\n",
        "supply. We have also previously been affected by temporary manufacturing closures, employment and compensation adjustments and impediments to\n",
        "administrative activities supporting our product deliveries and deployments.\n",
        "Note 2 - Summary of Significant Accounting Policies\n",
        "Unaudited Interim Financial Statements\n",
        "The consolidated balance sheet as of September 30, 2021, the consolidated statements of operations, the consolidated statements of\n",
        "comprehensive income, the consolidated statements of redeemable noncontrolling interests and equity for the three and nine months ended September\n",
        "30, 2021 and 2020 and the consolidated statements of cash flows for the nine months ended September 30, 2021 and 2020, as well as other information\n",
        "disclosed in the accompanying notes, are unaudited. The consolidated balance sheet as of December 31, 2020 was derived from the audited\n",
        "consolidated financial statements as of that date. The interim consolidated financial statements and the accompanying notes should be read in\n",
        "conjunction with the annual consolidated financial statements and the accompanying notes contained in our Annual Report on Form 10-K for the year\n",
        "ended December 31, 2020.\n",
        "'''\n",
        "\n",
        "pattern2 = 'Note \\d - ([^\\n]*)'\n",
        "\n",
        "match = re.findall(pattern2, text2)\n",
        "match"
      ]
    },
    {
      "cell_type": "markdown",
      "metadata": {
        "id": "GSHiF0nT0Crc"
      },
      "source": [
        "# Extract financial pERIODS FROM A COMPANY'S FINANCIAL REPORTING\n"
      ]
    },
    {
      "cell_type": "code",
      "execution_count": null,
      "metadata": {
        "colab": {
          "base_uri": "https://localhost:8080/"
        },
        "id": "0GLJsLlD0Crr",
        "outputId": "dfd51547-b40b-41ac-980b-dda163889175"
      },
      "outputs": [
        {
          "output_type": "execute_result",
          "data": {
            "text/plain": [
              "['2021 Q1', '2020 Q4']"
            ]
          },
          "metadata": {},
          "execution_count": 13
        }
      ],
      "source": [
        "text3 = '''\n",
        "The gross cost of operating lease vehicles in FY2021 Q1 was $4.85 billion.\n",
        "In previous quarter i.e. FY2020 Q4 it was $3 billion. \n",
        "'''\n",
        "\n",
        "pattern3 = 'FY(\\d{4} Q[1-4])'\n",
        "\n",
        "matchs = re.findall(pattern3, text3)\n",
        "matchs"
      ]
    },
    {
      "cell_type": "markdown",
      "metadata": {
        "id": "aIYVGRYm0Crv"
      },
      "source": [
        "case insensitive pattern match using flags"
      ]
    },
    {
      "cell_type": "code",
      "execution_count": null,
      "metadata": {
        "colab": {
          "base_uri": "https://localhost:8080/"
        },
        "id": "lu1bwKfM0Crx",
        "outputId": "86c7c68d-6669-46f9-9f16-2e06fd4a517f"
      },
      "outputs": [
        {
          "output_type": "execute_result",
          "data": {
            "text/plain": [
              "['FY2021 Q1']"
            ]
          },
          "metadata": {},
          "execution_count": 5
        }
      ],
      "source": [
        "text3 = '''\n",
        "The gross cost of operating lease vehicles in FY2021 Q1 was $4.85 billion.\n",
        "In previous quarter i.e. fy2020 Q4 it was $3 billion. \n",
        "'''\n",
        "\n",
        "pattern3 = 'FY\\d{4} Q[1-4]'\n",
        "\n",
        "matchs = re.findall(pattern3, text3)\n",
        "matchs"
      ]
    },
    {
      "cell_type": "markdown",
      "metadata": {
        "id": "iiBqjZvn0Cr1"
      },
      "source": [
        "tackle this using flags\n"
      ]
    },
    {
      "cell_type": "code",
      "execution_count": null,
      "metadata": {
        "colab": {
          "base_uri": "https://localhost:8080/"
        },
        "id": "mSBru1C10Cr3",
        "outputId": "17310122-580f-43c8-b865-404228655d25"
      },
      "outputs": [
        {
          "output_type": "execute_result",
          "data": {
            "text/plain": [
              "['FY2021 Q1', 'fy2020 Q4']"
            ]
          },
          "metadata": {},
          "execution_count": 7
        }
      ],
      "source": [
        "text3 = '''\n",
        "The gross cost of operating lease vehicles in FY2021 Q1 was $4.85 billion.\n",
        "In previous quarter i.e. fy2020 Q4 it was $3 billion. \n",
        "'''\n",
        "\n",
        "pattern3 = 'FY\\d{4} Q[1-4]'\n",
        "\n",
        "matchs = re.findall(pattern3, text3, flags= re.IGNORECASE)\n",
        "matchs"
      ]
    },
    {
      "cell_type": "markdown",
      "source": [
        "Extract only financial numbers"
      ],
      "metadata": {
        "id": "RWxle2-Y78uR"
      }
    },
    {
      "cell_type": "code",
      "source": [
        "text = '''\n",
        "Tesla's gross cost of operating lease vehicles in FY2021 Q1 was $4.85 billion. \n",
        "In previous quarter i.e. FY2020 Q4 it was $3 billion.\n",
        "'''\n",
        "\n",
        "pattern = '\\$([\\d\\.]+)'\n",
        "\n",
        "match = re.findall(pattern, text)\n",
        "match\n"
      ],
      "metadata": {
        "colab": {
          "base_uri": "https://localhost:8080/"
        },
        "id": "10HWmwQ30m8p",
        "outputId": "0aef946f-ef67-4edf-f3b3-1f3c52d7fb51"
      },
      "execution_count": null,
      "outputs": [
        {
          "output_type": "execute_result",
          "data": {
            "text/plain": [
              "['4.85', '3']"
            ]
          },
          "metadata": {},
          "execution_count": 11
        }
      ]
    },
    {
      "cell_type": "markdown",
      "source": [
        "\n",
        "Extract periods and financial numbers both"
      ],
      "metadata": {
        "id": "ttWGVa6b8ERt"
      }
    },
    {
      "cell_type": "code",
      "source": [
        "text = '''\n",
        "Tesla's gross cost of operating lease vehicles in FY2021 Q1 was $4.85 billion. \n",
        "In previous quarter i.e. FY2020 Q4 it was $3 billion.\n",
        "'''\n",
        "\n",
        "pattern = 'FY(\\d{4} Q[1-4])[^\\$]+\\$([\\d\\.]+)'\n",
        "\n",
        "match = re.findall(pattern, text)\n",
        "match"
      ],
      "metadata": {
        "colab": {
          "base_uri": "https://localhost:8080/"
        },
        "id": "VgzTMEJL7Xg3",
        "outputId": "64cdcef8-72c0-4a6e-c675-4923f83fd905"
      },
      "execution_count": null,
      "outputs": [
        {
          "output_type": "execute_result",
          "data": {
            "text/plain": [
              "[('2021 Q1', '4.85'), ('2020 Q4', '3')]"
            ]
          },
          "metadata": {},
          "execution_count": 15
        }
      ]
    },
    {
      "cell_type": "markdown",
      "source": [
        "re.searchh"
      ],
      "metadata": {
        "id": "bLRcHkVH_YJU"
      }
    },
    {
      "cell_type": "code",
      "source": [
        "text = '''\n",
        "Tesla's gross cost of operating lease vehicles in FY2021 Q1 was $4.85 billion. \n",
        "In previous quarter i.e. FY2020 Q4 it was $3 billion.\n",
        "'''\n",
        "\n",
        "pattern = 'FY(\\d{4} Q[1-4])[^\\$]+\\$([\\d\\.]+)'\n",
        "\n",
        "match = re.search(pattern, text)\n",
        "match"
      ],
      "metadata": {
        "colab": {
          "base_uri": "https://localhost:8080/"
        },
        "id": "3sysJkwt_K3Q",
        "outputId": "649f602e-4575-4ebc-9f84-bed21612e156"
      },
      "execution_count": null,
      "outputs": [
        {
          "output_type": "execute_result",
          "data": {
            "text/plain": [
              "<re.Match object; span=(51, 70), match='FY2021 Q1 was $4.85'>"
            ]
          },
          "metadata": {},
          "execution_count": 16
        }
      ]
    },
    {
      "cell_type": "code",
      "source": [
        "match.groups()"
      ],
      "metadata": {
        "colab": {
          "base_uri": "https://localhost:8080/"
        },
        "id": "vTlTLzm5_vJ6",
        "outputId": "d0bda515-18bb-433d-967b-9fb184951222"
      },
      "execution_count": null,
      "outputs": [
        {
          "output_type": "execute_result",
          "data": {
            "text/plain": [
              "('2021 Q1', '4.85')"
            ]
          },
          "metadata": {},
          "execution_count": 17
        }
      ]
    },
    {
      "cell_type": "code",
      "source": [
        ""
      ],
      "metadata": {
        "id": "Yn7R7UKz_yv0"
      },
      "execution_count": null,
      "outputs": []
    }
  ],
  "metadata": {
    "kernelspec": {
      "display_name": "Python 3.9.12 ('base')",
      "language": "python",
      "name": "python3"
    },
    "language_info": {
      "codemirror_mode": {
        "name": "ipython",
        "version": 3
      },
      "file_extension": ".py",
      "mimetype": "text/x-python",
      "name": "python",
      "nbconvert_exporter": "python",
      "pygments_lexer": "ipython3",
      "version": "3.9.12"
    },
    "orig_nbformat": 4,
    "vscode": {
      "interpreter": {
        "hash": "b5188e894f1af23828e4186655a2a8844c21db8f14cd2bcc058901e4cf69243b"
      }
    },
    "colab": {
      "name": "regex.ipynb",
      "provenance": []
    }
  },
  "nbformat": 4,
  "nbformat_minor": 0
}